{
  "cells": [
    {
      "cell_type": "markdown",
      "metadata": {
        "id": "wozxk6QEEI4Q"
      },
      "source": [
        "This is a companion notebook for the book [Deep Learning with Python, Second Edition](https://www.manning.com/books/deep-learning-with-python-second-edition?a_aid=keras&a_bid=76564dff). For readability, it only contains runnable code blocks and section titles, and omits everything else in the book: text paragraphs, figures, and pseudocode.\n",
        "\n",
        "**If you want to be able to follow what's going on, I recommend reading the notebook side by side with your copy of the book.**\n",
        "\n",
        "This notebook was generated for TensorFlow 2.6."
      ]
    },
    {
      "cell_type": "markdown",
      "metadata": {
        "id": "O8KI-8erEI4W"
      },
      "source": [
        "# Introduction to deep learning for computer vision"
      ]
    },
    {
      "cell_type": "markdown",
      "metadata": {
        "id": "e7p2OfIAEI4X"
      },
      "source": [
        "## Introduction to convnets"
      ]
    },
    {
      "cell_type": "markdown",
      "metadata": {
        "id": "rsry0p45EI4X"
      },
      "source": [
        "**Instantiating a small convnet**"
      ]
    },
    {
      "cell_type": "code",
      "execution_count": 14,
      "metadata": {
        "id": "7FNobmFaEI4Y"
      },
      "outputs": [],
      "source": [
        "from tensorflow import keras\n",
        "from tensorflow.keras import layers\n",
        "inputs = keras.Input(shape=(28, 28, 1))\n",
        "x = layers.Conv2D(filters=32, kernel_size=3, activation=\"relu\")(inputs)\n",
        "x = layers.MaxPooling2D(pool_size=2)(x)\n",
        "x = layers.Conv2D(filters=64, kernel_size=3, activation=\"relu\")(x)\n",
        "x = layers.MaxPooling2D(pool_size=2)(x)\n",
        "x = layers.Conv2D(filters=128, kernel_size=3, activation=\"relu\")(x)\n",
        "x = layers.Flatten()(x)\n",
        "outputs = layers.Dense(10, activation=\"softmax\")(x)\n",
        "model = keras.Model(inputs=inputs, outputs=outputs)"
      ]
    },
    {
      "cell_type": "markdown",
      "metadata": {
        "id": "vdhQrmeiEI4Z"
      },
      "source": [
        "**Displaying the model's summary**"
      ]
    },
    {
      "cell_type": "code",
      "execution_count": 2,
      "metadata": {
        "colab": {
          "base_uri": "https://localhost:8080/"
        },
        "id": "QxLvVpbzEI4a",
        "outputId": "1a1af77d-942d-4d71-ffe8-361823d2aea0"
      },
      "outputs": [
        {
          "output_type": "stream",
          "name": "stdout",
          "text": [
            "Model: \"model\"\n",
            "_________________________________________________________________\n",
            " Layer (type)                Output Shape              Param #   \n",
            "=================================================================\n",
            " input_1 (InputLayer)        [(None, 28, 28, 1)]       0         \n",
            "                                                                 \n",
            " conv2d (Conv2D)             (None, 26, 26, 32)        320       \n",
            "                                                                 \n",
            " max_pooling2d (MaxPooling2D  (None, 13, 13, 32)       0         \n",
            " )                                                               \n",
            "                                                                 \n",
            " conv2d_1 (Conv2D)           (None, 11, 11, 64)        18496     \n",
            "                                                                 \n",
            " max_pooling2d_1 (MaxPooling  (None, 5, 5, 64)         0         \n",
            " 2D)                                                             \n",
            "                                                                 \n",
            " conv2d_2 (Conv2D)           (None, 3, 3, 128)         73856     \n",
            "                                                                 \n",
            " flatten (Flatten)           (None, 1152)              0         \n",
            "                                                                 \n",
            " dense (Dense)               (None, 10)                11530     \n",
            "                                                                 \n",
            "=================================================================\n",
            "Total params: 104,202\n",
            "Trainable params: 104,202\n",
            "Non-trainable params: 0\n",
            "_________________________________________________________________\n"
          ]
        }
      ],
      "source": [
        "model.summary()"
      ]
    },
    {
      "cell_type": "markdown",
      "metadata": {
        "id": "QoiYHzRcEI4a"
      },
      "source": [
        "**Training the convnet on MNIST images**"
      ]
    },
    {
      "cell_type": "code",
      "execution_count": 15,
      "metadata": {
        "colab": {
          "base_uri": "https://localhost:8080/"
        },
        "id": "nKOqLP4BEI4b",
        "outputId": "f3b92df8-ba93-42e7-af4f-b2e3923d5742"
      },
      "outputs": [
        {
          "output_type": "stream",
          "name": "stdout",
          "text": [
            "Epoch 1/5\n",
            "938/938 [==============================] - 4s 4ms/step - loss: 0.1575 - accuracy: 0.9504\n",
            "Epoch 2/5\n",
            "938/938 [==============================] - 3s 4ms/step - loss: 0.0436 - accuracy: 0.9866\n",
            "Epoch 3/5\n",
            "938/938 [==============================] - 3s 4ms/step - loss: 0.0296 - accuracy: 0.9905\n",
            "Epoch 4/5\n",
            "938/938 [==============================] - 3s 4ms/step - loss: 0.0230 - accuracy: 0.9934\n",
            "Epoch 5/5\n",
            "938/938 [==============================] - 3s 4ms/step - loss: 0.0176 - accuracy: 0.9951\n"
          ]
        },
        {
          "output_type": "execute_result",
          "data": {
            "text/plain": [
              "<keras.callbacks.History at 0x7f47c7fe3790>"
            ]
          },
          "metadata": {},
          "execution_count": 15
        }
      ],
      "source": [
        "from tensorflow.keras.datasets import mnist\n",
        "\n",
        "(train_images, train_labels), (test_images, test_labels) = mnist.load_data()\n",
        "train_images = train_images.reshape((60000, 28, 28, 1))\n",
        "train_images = train_images.astype(\"float32\") / 255\n",
        "test_images = test_images.reshape((10000, 28, 28, 1))\n",
        "test_images = test_images.astype(\"float32\") / 255\n",
        "model.compile(optimizer=\"rmsprop\",\n",
        "    loss=\"sparse_categorical_crossentropy\",\n",
        "    metrics=[\"accuracy\"])\n",
        "model.fit(train_images, train_labels, epochs=5, batch_size=64)"
      ]
    },
    {
      "cell_type": "markdown",
      "metadata": {
        "id": "A-lAg-gCEI4c"
      },
      "source": [
        "**Evaluating the convnet**"
      ]
    },
    {
      "cell_type": "code",
      "execution_count": 16,
      "metadata": {
        "colab": {
          "base_uri": "https://localhost:8080/"
        },
        "id": "U-F2vu08EI4c",
        "outputId": "da29a93b-56d7-4376-ce81-c23623dbb3a8"
      },
      "outputs": [
        {
          "output_type": "stream",
          "name": "stdout",
          "text": [
            "313/313 [==============================] - 1s 2ms/step - loss: 0.0375 - accuracy: 0.9889\n",
            "Test accuracy: 0.989\n"
          ]
        }
      ],
      "source": [
        "test_loss, test_acc = model.evaluate(test_images, test_labels)\n",
        "print(f\"Test accuracy: {test_acc:.3f}\")"
      ]
    },
    {
      "cell_type": "markdown",
      "metadata": {
        "id": "eK02CmdjEI4c"
      },
      "source": [
        "### The convolution operation"
      ]
    },
    {
      "cell_type": "markdown",
      "metadata": {
        "id": "RmpS2UrZEI4d"
      },
      "source": [
        "#### Understanding border effects and padding"
      ]
    },
    {
      "cell_type": "markdown",
      "metadata": {
        "id": "a5ytwQdAEI4d"
      },
      "source": [
        "#### Understanding convolution strides"
      ]
    },
    {
      "cell_type": "markdown",
      "metadata": {
        "id": "GW6wZPy0EI4e"
      },
      "source": [
        "### The max-pooling operation"
      ]
    },
    {
      "cell_type": "markdown",
      "metadata": {
        "id": "a_tkSGBCEI4e"
      },
      "source": [
        "**An incorrectly structured convnet missing its max-pooling layers**"
      ]
    },
    {
      "cell_type": "code",
      "execution_count": 17,
      "metadata": {
        "id": "fyeFOlrIEI4e"
      },
      "outputs": [],
      "source": [
        "inputs = keras.Input(shape=(28, 28, 1))\n",
        "x = layers.Conv2D(filters=32, kernel_size=3, activation=\"relu\")(inputs)\n",
        "x = layers.Conv2D(filters=64, kernel_size=3, activation=\"relu\")(x)\n",
        "x = layers.Conv2D(filters=128, kernel_size=3, activation=\"relu\")(x)\n",
        "x = layers.Flatten()(x)\n",
        "outputs = layers.Dense(10, activation=\"softmax\")(x)\n",
        "model_no_max_pool = keras.Model(inputs=inputs, outputs=outputs)"
      ]
    },
    {
      "cell_type": "code",
      "execution_count": 18,
      "metadata": {
        "colab": {
          "base_uri": "https://localhost:8080/"
        },
        "id": "e_3nO34MEI4f",
        "outputId": "ecc37460-93b4-4bb9-8f29-196d5ad4d0a5"
      },
      "outputs": [
        {
          "output_type": "stream",
          "name": "stdout",
          "text": [
            "Model: \"model_3\"\n",
            "_________________________________________________________________\n",
            " Layer (type)                Output Shape              Param #   \n",
            "=================================================================\n",
            " input_4 (InputLayer)        [(None, 28, 28, 1)]       0         \n",
            "                                                                 \n",
            " conv2d_9 (Conv2D)           (None, 26, 26, 32)        320       \n",
            "                                                                 \n",
            " conv2d_10 (Conv2D)          (None, 24, 24, 64)        18496     \n",
            "                                                                 \n",
            " conv2d_11 (Conv2D)          (None, 22, 22, 128)       73856     \n",
            "                                                                 \n",
            " flatten_3 (Flatten)         (None, 61952)             0         \n",
            "                                                                 \n",
            " dense_3 (Dense)             (None, 10)                619530    \n",
            "                                                                 \n",
            "=================================================================\n",
            "Total params: 712,202\n",
            "Trainable params: 712,202\n",
            "Non-trainable params: 0\n",
            "_________________________________________________________________\n"
          ]
        }
      ],
      "source": [
        "model_no_max_pool.summary()"
      ]
    },
    {
      "cell_type": "markdown",
      "metadata": {
        "id": "KDLjFf-XEI4f"
      },
      "source": [
        "## Training a convnet from scratch on a small dataset"
      ]
    },
    {
      "cell_type": "markdown",
      "metadata": {
        "id": "tDCdHKfQEI4f"
      },
      "source": [
        "### The relevance of deep learning for small-data problems"
      ]
    },
    {
      "cell_type": "markdown",
      "metadata": {
        "id": "LlwppZy0EI4f"
      },
      "source": [
        "### Downloading the data"
      ]
    },
    {
      "cell_type": "code",
      "execution_count": 19,
      "metadata": {
        "colab": {
          "base_uri": "https://localhost:8080/",
          "height": 92
        },
        "id": "YqtT_RnVEI4g",
        "outputId": "17a2b963-36ce-4253-9a96-3cf57f74f89f"
      },
      "outputs": [
        {
          "output_type": "display_data",
          "data": {
            "text/plain": [
              "<IPython.core.display.HTML object>"
            ],
            "text/html": [
              "\n",
              "     <input type=\"file\" id=\"files-505c2fcd-d694-4f6c-8c3c-7cd72d716e87\" name=\"files[]\" multiple disabled\n",
              "        style=\"border:none\" />\n",
              "     <output id=\"result-505c2fcd-d694-4f6c-8c3c-7cd72d716e87\">\n",
              "      Upload widget is only available when the cell has been executed in the\n",
              "      current browser session. Please rerun this cell to enable.\n",
              "      </output>\n",
              "      <script>// Copyright 2017 Google LLC\n",
              "//\n",
              "// Licensed under the Apache License, Version 2.0 (the \"License\");\n",
              "// you may not use this file except in compliance with the License.\n",
              "// You may obtain a copy of the License at\n",
              "//\n",
              "//      http://www.apache.org/licenses/LICENSE-2.0\n",
              "//\n",
              "// Unless required by applicable law or agreed to in writing, software\n",
              "// distributed under the License is distributed on an \"AS IS\" BASIS,\n",
              "// WITHOUT WARRANTIES OR CONDITIONS OF ANY KIND, either express or implied.\n",
              "// See the License for the specific language governing permissions and\n",
              "// limitations under the License.\n",
              "\n",
              "/**\n",
              " * @fileoverview Helpers for google.colab Python module.\n",
              " */\n",
              "(function(scope) {\n",
              "function span(text, styleAttributes = {}) {\n",
              "  const element = document.createElement('span');\n",
              "  element.textContent = text;\n",
              "  for (const key of Object.keys(styleAttributes)) {\n",
              "    element.style[key] = styleAttributes[key];\n",
              "  }\n",
              "  return element;\n",
              "}\n",
              "\n",
              "// Max number of bytes which will be uploaded at a time.\n",
              "const MAX_PAYLOAD_SIZE = 100 * 1024;\n",
              "\n",
              "function _uploadFiles(inputId, outputId) {\n",
              "  const steps = uploadFilesStep(inputId, outputId);\n",
              "  const outputElement = document.getElementById(outputId);\n",
              "  // Cache steps on the outputElement to make it available for the next call\n",
              "  // to uploadFilesContinue from Python.\n",
              "  outputElement.steps = steps;\n",
              "\n",
              "  return _uploadFilesContinue(outputId);\n",
              "}\n",
              "\n",
              "// This is roughly an async generator (not supported in the browser yet),\n",
              "// where there are multiple asynchronous steps and the Python side is going\n",
              "// to poll for completion of each step.\n",
              "// This uses a Promise to block the python side on completion of each step,\n",
              "// then passes the result of the previous step as the input to the next step.\n",
              "function _uploadFilesContinue(outputId) {\n",
              "  const outputElement = document.getElementById(outputId);\n",
              "  const steps = outputElement.steps;\n",
              "\n",
              "  const next = steps.next(outputElement.lastPromiseValue);\n",
              "  return Promise.resolve(next.value.promise).then((value) => {\n",
              "    // Cache the last promise value to make it available to the next\n",
              "    // step of the generator.\n",
              "    outputElement.lastPromiseValue = value;\n",
              "    return next.value.response;\n",
              "  });\n",
              "}\n",
              "\n",
              "/**\n",
              " * Generator function which is called between each async step of the upload\n",
              " * process.\n",
              " * @param {string} inputId Element ID of the input file picker element.\n",
              " * @param {string} outputId Element ID of the output display.\n",
              " * @return {!Iterable<!Object>} Iterable of next steps.\n",
              " */\n",
              "function* uploadFilesStep(inputId, outputId) {\n",
              "  const inputElement = document.getElementById(inputId);\n",
              "  inputElement.disabled = false;\n",
              "\n",
              "  const outputElement = document.getElementById(outputId);\n",
              "  outputElement.innerHTML = '';\n",
              "\n",
              "  const pickedPromise = new Promise((resolve) => {\n",
              "    inputElement.addEventListener('change', (e) => {\n",
              "      resolve(e.target.files);\n",
              "    });\n",
              "  });\n",
              "\n",
              "  const cancel = document.createElement('button');\n",
              "  inputElement.parentElement.appendChild(cancel);\n",
              "  cancel.textContent = 'Cancel upload';\n",
              "  const cancelPromise = new Promise((resolve) => {\n",
              "    cancel.onclick = () => {\n",
              "      resolve(null);\n",
              "    };\n",
              "  });\n",
              "\n",
              "  // Wait for the user to pick the files.\n",
              "  const files = yield {\n",
              "    promise: Promise.race([pickedPromise, cancelPromise]),\n",
              "    response: {\n",
              "      action: 'starting',\n",
              "    }\n",
              "  };\n",
              "\n",
              "  cancel.remove();\n",
              "\n",
              "  // Disable the input element since further picks are not allowed.\n",
              "  inputElement.disabled = true;\n",
              "\n",
              "  if (!files) {\n",
              "    return {\n",
              "      response: {\n",
              "        action: 'complete',\n",
              "      }\n",
              "    };\n",
              "  }\n",
              "\n",
              "  for (const file of files) {\n",
              "    const li = document.createElement('li');\n",
              "    li.append(span(file.name, {fontWeight: 'bold'}));\n",
              "    li.append(span(\n",
              "        `(${file.type || 'n/a'}) - ${file.size} bytes, ` +\n",
              "        `last modified: ${\n",
              "            file.lastModifiedDate ? file.lastModifiedDate.toLocaleDateString() :\n",
              "                                    'n/a'} - `));\n",
              "    const percent = span('0% done');\n",
              "    li.appendChild(percent);\n",
              "\n",
              "    outputElement.appendChild(li);\n",
              "\n",
              "    const fileDataPromise = new Promise((resolve) => {\n",
              "      const reader = new FileReader();\n",
              "      reader.onload = (e) => {\n",
              "        resolve(e.target.result);\n",
              "      };\n",
              "      reader.readAsArrayBuffer(file);\n",
              "    });\n",
              "    // Wait for the data to be ready.\n",
              "    let fileData = yield {\n",
              "      promise: fileDataPromise,\n",
              "      response: {\n",
              "        action: 'continue',\n",
              "      }\n",
              "    };\n",
              "\n",
              "    // Use a chunked sending to avoid message size limits. See b/62115660.\n",
              "    let position = 0;\n",
              "    do {\n",
              "      const length = Math.min(fileData.byteLength - position, MAX_PAYLOAD_SIZE);\n",
              "      const chunk = new Uint8Array(fileData, position, length);\n",
              "      position += length;\n",
              "\n",
              "      const base64 = btoa(String.fromCharCode.apply(null, chunk));\n",
              "      yield {\n",
              "        response: {\n",
              "          action: 'append',\n",
              "          file: file.name,\n",
              "          data: base64,\n",
              "        },\n",
              "      };\n",
              "\n",
              "      let percentDone = fileData.byteLength === 0 ?\n",
              "          100 :\n",
              "          Math.round((position / fileData.byteLength) * 100);\n",
              "      percent.textContent = `${percentDone}% done`;\n",
              "\n",
              "    } while (position < fileData.byteLength);\n",
              "  }\n",
              "\n",
              "  // All done.\n",
              "  yield {\n",
              "    response: {\n",
              "      action: 'complete',\n",
              "    }\n",
              "  };\n",
              "}\n",
              "\n",
              "scope.google = scope.google || {};\n",
              "scope.google.colab = scope.google.colab || {};\n",
              "scope.google.colab._files = {\n",
              "  _uploadFiles,\n",
              "  _uploadFilesContinue,\n",
              "};\n",
              "})(self);\n",
              "</script> "
            ]
          },
          "metadata": {}
        },
        {
          "output_type": "stream",
          "name": "stdout",
          "text": [
            "Saving dogs-vs-cats.zip to dogs-vs-cats.zip\n"
          ]
        }
      ],
      "source": [
        "from google.colab import files\n",
        "files.upload()"
      ]
    },
    {
      "cell_type": "code",
      "execution_count": 63,
      "metadata": {
        "colab": {
          "base_uri": "https://localhost:8080/"
        },
        "id": "9fHORyRiEI4g",
        "outputId": "f4825e86-c298-4e9a-972a-88868f0c7693"
      },
      "outputs": [
        {
          "output_type": "stream",
          "name": "stdout",
          "text": [
            "replace sampleSubmission.csv? [y]es, [n]o, [A]ll, [N]one, [r]ename: replace train/cat.0.jpg? [y]es, [n]o, [A]ll, [N]one, [r]ename: replace test1/1.jpg? [y]es, [n]o, [A]ll, [N]one, [r]ename: "
          ]
        }
      ],
      "source": [
        "!unzip -qq dogs-vs-cats.zip\n",
        "!unzip -qq train.zip\n",
        "!unzip -qq test1.zip"
      ]
    },
    {
      "cell_type": "markdown",
      "metadata": {
        "id": "wH0bpDp4EI4g"
      },
      "source": [
        "**Copying images to training, validation, and test directories**"
      ]
    },
    {
      "cell_type": "code",
      "execution_count": 280,
      "metadata": {
        "id": "w77WPlkAEI4g"
      },
      "outputs": [],
      "source": [
        "import os, shutil, pathlib\n",
        "\n",
        "original_dir = pathlib.Path(\"train\")\n",
        "new_base_dir = pathlib.Path(\"cats_vs_dogs_small\")\n",
        "\n",
        "def make_subset(subset_name, start_index, end_index):\n",
        "    for category in (\"cat\", \"dog\"):\n",
        "        dir = new_base_dir / subset_name / category\n",
        "        fnames = [f\"{category}.{i}.jpg\" for i in range(start_index, end_index)]\n",
        "        for fname in fnames:\n",
        "            shutil.copyfile(src=original_dir / fname,\n",
        "                            dst=dir / fname)\n",
        "\n",
        "make_subset(\"train\", start_index=0, end_index=1000)\n",
        "make_subset(\"validation\", start_index=1000, end_index=1500)\n",
        "make_subset(\"test\", start_index=1500, end_index=2500)"
      ]
    },
    {
      "cell_type": "markdown",
      "metadata": {
        "id": "FmsUfnz9EI4h"
      },
      "source": [
        "### Building the model"
      ]
    },
    {
      "cell_type": "markdown",
      "metadata": {
        "id": "fwaZkv5rEI4h"
      },
      "source": [
        "**Instantiating a small convnet for dogs vs. cats classification**"
      ]
    },
    {
      "cell_type": "code",
      "execution_count": 246,
      "metadata": {
        "id": "6obpJltiEI4h"
      },
      "outputs": [],
      "source": [
        "from tensorflow import keras\n",
        "from tensorflow.keras import layers\n",
        "\n",
        "inputs = keras.Input(shape=(180, 180, 3))\n",
        "x = layers.Rescaling(1./255)(inputs)\n",
        "x = layers.Conv2D(filters=32, kernel_size=3, activation=\"relu\")(x)\n",
        "x = layers.MaxPooling2D(pool_size=2)(x)\n",
        "x = layers.Conv2D(filters=64, kernel_size=3, activation=\"relu\")(x)\n",
        "x = layers.MaxPooling2D(pool_size=2)(x)\n",
        "x = layers.Conv2D(filters=128, kernel_size=3, activation=\"relu\")(x)\n",
        "x = layers.MaxPooling2D(pool_size=2)(x)\n",
        "x = layers.Conv2D(filters=256, kernel_size=3, activation=\"relu\")(x)\n",
        "x = layers.MaxPooling2D(pool_size=2)(x)\n",
        "x = layers.Conv2D(filters=512, kernel_size=3, activation=\"relu\")(x)\n",
        "x = layers.Flatten()(x)\n",
        "outputs = layers.Dense(1, activation=\"sigmoid\")(x)\n",
        "model = keras.Model(inputs=inputs, outputs=outputs)"
      ]
    },
    {
      "cell_type": "code",
      "execution_count": 213,
      "metadata": {
        "colab": {
          "base_uri": "https://localhost:8080/"
        },
        "id": "_Is0ASvLEI4h",
        "outputId": "cd42b58f-b201-4139-899a-0115de772956"
      },
      "outputs": [
        {
          "output_type": "stream",
          "name": "stdout",
          "text": [
            "Model: \"model_27\"\n",
            "_________________________________________________________________\n",
            " Layer (type)                Output Shape              Param #   \n",
            "=================================================================\n",
            " input_38 (InputLayer)       [(None, 180, 180, 3)]     0         \n",
            "                                                                 \n",
            " rescaling_13 (Rescaling)    (None, 180, 180, 3)       0         \n",
            "                                                                 \n",
            " conv2d_77 (Conv2D)          (None, 178, 178, 32)      896       \n",
            "                                                                 \n",
            " max_pooling2d_56 (MaxPoolin  (None, 89, 89, 32)       0         \n",
            " g2D)                                                            \n",
            "                                                                 \n",
            " conv2d_78 (Conv2D)          (None, 87, 87, 64)        18496     \n",
            "                                                                 \n",
            " max_pooling2d_57 (MaxPoolin  (None, 43, 43, 64)       0         \n",
            " g2D)                                                            \n",
            "                                                                 \n",
            " conv2d_79 (Conv2D)          (None, 41, 41, 128)       73856     \n",
            "                                                                 \n",
            " max_pooling2d_58 (MaxPoolin  (None, 20, 20, 128)      0         \n",
            " g2D)                                                            \n",
            "                                                                 \n",
            " conv2d_80 (Conv2D)          (None, 18, 18, 256)       295168    \n",
            "                                                                 \n",
            " max_pooling2d_59 (MaxPoolin  (None, 9, 9, 256)        0         \n",
            " g2D)                                                            \n",
            "                                                                 \n",
            " conv2d_81 (Conv2D)          (None, 7, 7, 256)         590080    \n",
            "                                                                 \n",
            " flatten_27 (Flatten)        (None, 12544)             0         \n",
            "                                                                 \n",
            " dense_37 (Dense)            (None, 1)                 12545     \n",
            "                                                                 \n",
            "=================================================================\n",
            "Total params: 991,041\n",
            "Trainable params: 991,041\n",
            "Non-trainable params: 0\n",
            "_________________________________________________________________\n"
          ]
        }
      ],
      "source": [
        "model.summary()"
      ]
    },
    {
      "cell_type": "markdown",
      "metadata": {
        "id": "LmLBsZiFEI4h"
      },
      "source": [
        "**Configuring the model for training**"
      ]
    },
    {
      "cell_type": "code",
      "execution_count": 247,
      "metadata": {
        "id": "KxVwOCTBEI4i"
      },
      "outputs": [],
      "source": [
        "model.compile(loss=\"binary_crossentropy\",\n",
        "              optimizer=\"rmsprop\",\n",
        "              metrics=[\"accuracy\"])"
      ]
    },
    {
      "cell_type": "markdown",
      "metadata": {
        "id": "zSMbQetgEI4i"
      },
      "source": [
        "### Data preprocessing"
      ]
    },
    {
      "cell_type": "markdown",
      "metadata": {
        "id": "vQD99lnrEI4i"
      },
      "source": [
        "**Using `image_dataset_from_directory` to read images**"
      ]
    },
    {
      "cell_type": "code",
      "execution_count": 248,
      "metadata": {
        "colab": {
          "base_uri": "https://localhost:8080/"
        },
        "id": "TGDvbQg9EI4i",
        "outputId": "c1a06889-4217-4aad-b197-08abc3418d34"
      },
      "outputs": [
        {
          "output_type": "stream",
          "name": "stdout",
          "text": [
            "Found 2000 files belonging to 2 classes.\n",
            "Found 1000 files belonging to 2 classes.\n",
            "Found 2000 files belonging to 2 classes.\n"
          ]
        }
      ],
      "source": [
        "from tensorflow.keras.utils import image_dataset_from_directory\n",
        "\n",
        "train_dataset = image_dataset_from_directory(\n",
        "    new_base_dir / \"train\",\n",
        "    image_size=(180, 180),\n",
        "    batch_size=16)\n",
        "validation_dataset = image_dataset_from_directory(\n",
        "    new_base_dir / \"validation\",\n",
        "    image_size=(180, 180),\n",
        "    batch_size=16)\n",
        "test_dataset = image_dataset_from_directory(\n",
        "    new_base_dir / \"test\",\n",
        "    image_size=(180, 180),\n",
        "    batch_size=16)"
      ]
    },
    {
      "cell_type": "code",
      "execution_count": 249,
      "metadata": {
        "id": "KFalVzGdEI4i"
      },
      "outputs": [],
      "source": [
        "import numpy as np\n",
        "import tensorflow as tf\n",
        "random_numbers = np.random.normal(size=(1000, 16))\n",
        "dataset = tf.data.Dataset.from_tensor_slices(random_numbers)"
      ]
    },
    {
      "cell_type": "code",
      "execution_count": 250,
      "metadata": {
        "colab": {
          "base_uri": "https://localhost:8080/"
        },
        "id": "PM601YIbEI4i",
        "outputId": "6c76fb90-1063-4895-f52d-618ad29337f0"
      },
      "outputs": [
        {
          "output_type": "stream",
          "name": "stdout",
          "text": [
            "(16,)\n",
            "(16,)\n",
            "(16,)\n"
          ]
        }
      ],
      "source": [
        "for i, element in enumerate(dataset):\n",
        "    print(element.shape)\n",
        "    if i >= 2:\n",
        "        break"
      ]
    },
    {
      "cell_type": "code",
      "execution_count": 251,
      "metadata": {
        "colab": {
          "base_uri": "https://localhost:8080/"
        },
        "id": "GBUF3PTCEI4j",
        "outputId": "b81f971f-cd49-4d3b-cd26-c4e1a34b903f"
      },
      "outputs": [
        {
          "output_type": "stream",
          "name": "stdout",
          "text": [
            "(16, 16)\n",
            "(16, 16)\n",
            "(16, 16)\n"
          ]
        }
      ],
      "source": [
        "batched_dataset = dataset.batch(16)\n",
        "for i, element in enumerate(batched_dataset):\n",
        "    print(element.shape)\n",
        "    if i >= 2:\n",
        "        break"
      ]
    },
    {
      "cell_type": "code",
      "execution_count": 252,
      "metadata": {
        "colab": {
          "base_uri": "https://localhost:8080/"
        },
        "id": "jRboDJc9EI4j",
        "outputId": "5447846f-ae45-4d08-feba-32a4c6c5772b"
      },
      "outputs": [
        {
          "output_type": "stream",
          "name": "stdout",
          "text": [
            "(4, 4)\n",
            "(4, 4)\n",
            "(4, 4)\n"
          ]
        }
      ],
      "source": [
        "reshaped_dataset = dataset.map(lambda x: tf.reshape(x, (4, 4)))\n",
        "for i, element in enumerate(reshaped_dataset):\n",
        "    print(element.shape)\n",
        "    if i >= 2:\n",
        "        break"
      ]
    },
    {
      "cell_type": "markdown",
      "metadata": {
        "id": "dcAHZKzVEI4j"
      },
      "source": [
        "**Displaying the shapes of the data and labels yielded by the `Dataset`**"
      ]
    },
    {
      "cell_type": "code",
      "execution_count": 253,
      "metadata": {
        "colab": {
          "base_uri": "https://localhost:8080/"
        },
        "id": "zetqdIP9EI4j",
        "outputId": "802d51c0-4057-45fb-af37-fbc9fce61b64"
      },
      "outputs": [
        {
          "output_type": "stream",
          "name": "stdout",
          "text": [
            "data batch shape: (16, 180, 180, 3)\n",
            "labels batch shape: (16,)\n"
          ]
        }
      ],
      "source": [
        "for data_batch, labels_batch in train_dataset:\n",
        "    print(\"data batch shape:\", data_batch.shape)\n",
        "    print(\"labels batch shape:\", labels_batch.shape)\n",
        "    break"
      ]
    },
    {
      "cell_type": "markdown",
      "metadata": {
        "id": "e5WMB5zsEI4j"
      },
      "source": [
        "**Fitting the model using a `Dataset`**"
      ]
    },
    {
      "cell_type": "code",
      "execution_count": 257,
      "metadata": {
        "colab": {
          "base_uri": "https://localhost:8080/"
        },
        "id": "TKynUCrxEI4j",
        "outputId": "53c1ffc2-46ae-431b-bc9b-bdca853a83e0"
      },
      "outputs": [
        {
          "output_type": "stream",
          "name": "stdout",
          "text": [
            "Epoch 1/30\n",
            "125/125 [==============================] - 2s 13ms/step - loss: 0.1002 - accuracy: 0.9880 - val_loss: 8.2732 - val_accuracy: 0.6880\n",
            "Epoch 2/30\n",
            "125/125 [==============================] - 2s 13ms/step - loss: 0.0867 - accuracy: 0.9890 - val_loss: 7.1248 - val_accuracy: 0.6970\n",
            "Epoch 3/30\n",
            "125/125 [==============================] - 2s 13ms/step - loss: 0.1348 - accuracy: 0.9890 - val_loss: 7.0166 - val_accuracy: 0.6820\n",
            "Epoch 4/30\n",
            "125/125 [==============================] - 2s 12ms/step - loss: 0.0870 - accuracy: 0.9900 - val_loss: 6.5465 - val_accuracy: 0.7240\n",
            "Epoch 5/30\n",
            "125/125 [==============================] - 2s 12ms/step - loss: 0.0662 - accuracy: 0.9885 - val_loss: 7.0451 - val_accuracy: 0.7260\n",
            "Epoch 6/30\n",
            "125/125 [==============================] - 2s 12ms/step - loss: 0.0824 - accuracy: 0.9890 - val_loss: 9.0126 - val_accuracy: 0.6990\n",
            "Epoch 7/30\n",
            "125/125 [==============================] - 2s 12ms/step - loss: 0.0851 - accuracy: 0.9905 - val_loss: 8.3270 - val_accuracy: 0.7280\n",
            "Epoch 8/30\n",
            "125/125 [==============================] - 2s 13ms/step - loss: 0.1018 - accuracy: 0.9885 - val_loss: 8.9771 - val_accuracy: 0.7080\n",
            "Epoch 9/30\n",
            "125/125 [==============================] - 2s 12ms/step - loss: 0.2148 - accuracy: 0.9845 - val_loss: 10.5455 - val_accuracy: 0.6810\n",
            "Epoch 10/30\n",
            "125/125 [==============================] - 2s 12ms/step - loss: 0.1583 - accuracy: 0.9885 - val_loss: 8.5391 - val_accuracy: 0.7170\n",
            "Epoch 11/30\n",
            "125/125 [==============================] - 2s 12ms/step - loss: 0.0594 - accuracy: 0.9915 - val_loss: 8.0835 - val_accuracy: 0.7060\n",
            "Epoch 12/30\n",
            "125/125 [==============================] - 2s 12ms/step - loss: 0.0471 - accuracy: 0.9930 - val_loss: 8.4727 - val_accuracy: 0.6950\n",
            "Epoch 13/30\n",
            "125/125 [==============================] - 2s 12ms/step - loss: 0.0806 - accuracy: 0.9905 - val_loss: 8.0039 - val_accuracy: 0.7400\n",
            "Epoch 14/30\n",
            "125/125 [==============================] - 2s 12ms/step - loss: 0.1439 - accuracy: 0.9865 - val_loss: 8.1311 - val_accuracy: 0.7330\n",
            "Epoch 15/30\n",
            "125/125 [==============================] - 2s 12ms/step - loss: 0.1237 - accuracy: 0.9885 - val_loss: 8.9565 - val_accuracy: 0.7220\n",
            "Epoch 16/30\n",
            "125/125 [==============================] - 2s 12ms/step - loss: 0.0576 - accuracy: 0.9945 - val_loss: 9.7332 - val_accuracy: 0.7060\n",
            "Epoch 17/30\n",
            "125/125 [==============================] - 2s 12ms/step - loss: 0.1415 - accuracy: 0.9865 - val_loss: 10.2174 - val_accuracy: 0.7110\n",
            "Epoch 18/30\n",
            "125/125 [==============================] - 2s 12ms/step - loss: 0.0824 - accuracy: 0.9900 - val_loss: 10.9564 - val_accuracy: 0.7180\n",
            "Epoch 19/30\n",
            "125/125 [==============================] - 2s 12ms/step - loss: 0.0707 - accuracy: 0.9915 - val_loss: 11.8000 - val_accuracy: 0.7030\n",
            "Epoch 20/30\n",
            "125/125 [==============================] - 2s 12ms/step - loss: 0.0909 - accuracy: 0.9920 - val_loss: 10.5112 - val_accuracy: 0.7320\n",
            "Epoch 21/30\n",
            "125/125 [==============================] - 2s 12ms/step - loss: 0.1805 - accuracy: 0.9895 - val_loss: 13.1421 - val_accuracy: 0.6790\n",
            "Epoch 22/30\n",
            "125/125 [==============================] - 2s 12ms/step - loss: 0.0545 - accuracy: 0.9910 - val_loss: 10.7804 - val_accuracy: 0.7250\n",
            "Epoch 23/30\n",
            "125/125 [==============================] - 2s 12ms/step - loss: 0.1737 - accuracy: 0.9865 - val_loss: 12.8831 - val_accuracy: 0.7010\n",
            "Epoch 24/30\n",
            "125/125 [==============================] - 2s 12ms/step - loss: 0.1146 - accuracy: 0.9920 - val_loss: 13.1000 - val_accuracy: 0.6940\n",
            "Epoch 25/30\n",
            "125/125 [==============================] - 2s 12ms/step - loss: 0.0859 - accuracy: 0.9905 - val_loss: 12.4563 - val_accuracy: 0.7110\n",
            "Epoch 26/30\n",
            "125/125 [==============================] - 2s 12ms/step - loss: 0.1214 - accuracy: 0.9890 - val_loss: 13.8435 - val_accuracy: 0.7200\n",
            "Epoch 27/30\n",
            "125/125 [==============================] - 2s 12ms/step - loss: 0.1435 - accuracy: 0.9915 - val_loss: 10.8008 - val_accuracy: 0.7000\n",
            "Epoch 28/30\n",
            "125/125 [==============================] - 2s 12ms/step - loss: 0.0926 - accuracy: 0.9925 - val_loss: 13.7279 - val_accuracy: 0.7130\n",
            "Epoch 29/30\n",
            "125/125 [==============================] - 2s 12ms/step - loss: 0.1270 - accuracy: 0.9905 - val_loss: 12.5742 - val_accuracy: 0.7060\n",
            "Epoch 30/30\n",
            "125/125 [==============================] - 2s 12ms/step - loss: 0.1919 - accuracy: 0.9915 - val_loss: 13.9857 - val_accuracy: 0.7030\n"
          ]
        }
      ],
      "source": [
        "callbacks = [\n",
        "    keras.callbacks.ModelCheckpoint(\n",
        "        filepath=\"convnet_from_scratch.keras\",\n",
        "        save_best_only=True,\n",
        "        monitor=\"val_loss\")\n",
        "]\n",
        "history = model.fit(\n",
        "    train_dataset,\n",
        "    epochs=30,\n",
        "    validation_data=validation_dataset,\n",
        "    callbacks=callbacks)"
      ]
    },
    {
      "cell_type": "markdown",
      "metadata": {
        "id": "s41FFIxMEI4j"
      },
      "source": [
        "**Displaying curves of loss and accuracy during training**"
      ]
    },
    {
      "cell_type": "code",
      "execution_count": 258,
      "metadata": {
        "colab": {
          "base_uri": "https://localhost:8080/",
          "height": 545
        },
        "id": "ZES_aykmEI4j",
        "outputId": "263bdc74-eed4-4dd9-eb30-acf065112635"
      },
      "outputs": [
        {
          "output_type": "display_data",
          "data": {
            "text/plain": [
              "<Figure size 432x288 with 1 Axes>"
            ],
            "image/png": "[encoded data removed]"
          },
          "metadata": {
            "needs_background": "light"
          }
        },
        {
          "output_type": "display_data",
          "data": {
            "text/plain": [
              "<Figure size 432x288 with 1 Axes>"
            ],
            "image/png": "[encoded data removed]"
          },
          "metadata": {
            "needs_background": "light"
          }
        }
      ],
      "source": [
        "import matplotlib.pyplot as plt\n",
        "accuracy = history.history[\"accuracy\"]\n",
        "val_accuracy = history.history[\"val_accuracy\"]\n",
        "loss = history.history[\"loss\"]\n",
        "val_loss = history.history[\"val_loss\"]\n",
        "epochs = range(1, len(accuracy) + 1)\n",
        "plt.plot(epochs, accuracy, \"bo\", label=\"Training accuracy\")\n",
        "plt.plot(epochs, val_accuracy, \"b\", label=\"Validation accuracy\")\n",
        "plt.title(\"Training and validation accuracy\")\n",
        "plt.legend()\n",
        "plt.figure()\n",
        "plt.plot(epochs, loss, \"bo\", label=\"Training loss\")\n",
        "plt.plot(epochs, val_loss, \"b\", label=\"Validation loss\")\n",
        "plt.title(\"Training and validation loss\")\n",
        "plt.legend()\n",
        "plt.show()"
      ]
    },
    {
      "cell_type": "markdown",
      "metadata": {
        "id": "AhXi919aEI4j"
      },
      "source": [
        "**Evaluating the model on the test set**"
      ]
    },
    {
      "cell_type": "code",
      "execution_count": 259,
      "metadata": {
        "colab": {
          "base_uri": "https://localhost:8080/"
        },
        "id": "eyJJlI_fEI4k",
        "outputId": "5ec58bef-08db-4184-e492-0aa3718b1b0c"
      },
      "outputs": [
        {
          "output_type": "stream",
          "name": "stdout",
          "text": [
            "125/125 [==============================] - 1s 6ms/step - loss: 7.2481 - accuracy: 0.7170\n",
            "Test accuracy: 0.717\n"
          ]
        }
      ],
      "source": [
        "test_model = keras.models.load_model(\"convnet_from_scratch.keras\")\n",
        "test_loss, test_acc = test_model.evaluate(test_dataset)\n",
        "print(f\"Test accuracy: {test_acc:.3f}\")"
      ]
    },
    {
      "cell_type": "markdown",
      "metadata": {
        "id": "KyLD2xQUEI4k"
      },
      "source": [
        "### Using data augmentation"
      ]
    },
    {
      "cell_type": "markdown",
      "metadata": {
        "id": "tt7LvopJEI4k"
      },
      "source": [
        "**Define a data augmentation stage to add to an image model**"
      ]
    },
    {
      "cell_type": "code",
      "execution_count": 260,
      "metadata": {
        "id": "bMEXEsoaEI4k"
      },
      "outputs": [],
      "source": [
        "data_augmentation = keras.Sequential(\n",
        "    [\n",
        "        layers.RandomFlip(\"horizontal\"),\n",
        "        layers.RandomRotation(0.1),\n",
        "        layers.RandomZoom(0.2),\n",
        "    ]\n",
        ")"
      ]
    },
    {
      "cell_type": "markdown",
      "metadata": {
        "id": "sFa55enNEI4k"
      },
      "source": [
        "**Displaying some randomly augmented training images**"
      ]
    },
    {
      "cell_type": "code",
      "execution_count": 261,
      "metadata": {
        "colab": {
          "base_uri": "https://localhost:8080/",
          "height": 575
        },
        "id": "RYbmZA-VEI4k",
        "outputId": "583f2ded-3775-42f9-d465-ba13a75a49af"
      },
      "outputs": [
        {
          "output_type": "display_data",
          "data": {
            "text/plain": [
              "<Figure size 720x720 with 9 Axes>"
            ],
            "image/png": "[encoded data removed]"
          },
          "metadata": {
            "needs_background": "light"
          }
        }
      ],
      "source": [
        "plt.figure(figsize=(10, 10))\n",
        "for images, _ in train_dataset.take(1):\n",
        "    for i in range(9):\n",
        "        augmented_images = data_augmentation(images)\n",
        "        ax = plt.subplot(3, 3, i + 1)\n",
        "        plt.imshow(augmented_images[0].numpy().astype(\"uint8\"))\n",
        "        plt.axis(\"off\")"
      ]
    },
    {
      "cell_type": "markdown",
      "metadata": {
        "id": "8PfSOWybEI4k"
      },
      "source": [
        "**Defining a new convnet that includes image augmentation and dropout**"
      ]
    },
    {
      "cell_type": "code",
      "execution_count": 262,
      "metadata": {
        "id": "Du5HTObyEI4k"
      },
      "outputs": [],
      "source": [
        "inputs = keras.Input(shape=(180, 180, 3))\n",
        "x = data_augmentation(inputs)\n",
        "x = layers.Rescaling(1./255)(x)\n",
        "x = layers.Conv2D(filters=32, kernel_size=4, activation=\"relu\")(x)\n",
        "x = layers.MaxPooling2D(pool_size=2)(x)\n",
        "x = layers.Conv2D(filters=64, kernel_size=4, activation=\"relu\")(x)\n",
        "x = layers.MaxPooling2D(pool_size=2)(x)\n",
        "x = layers.Conv2D(filters=128, kernel_size=4, activation=\"relu\")(x)\n",
        "x = layers.MaxPooling2D(pool_size=2)(x)\n",
        "x = layers.Conv2D(filters=256, kernel_size=4, activation=\"relu\")(x)\n",
        "x = layers.MaxPooling2D(pool_size=2)(x)\n",
        "x = layers.Conv2D(filters=512, kernel_size=4, activation=\"relu\")(x)\n",
        "x = layers.Flatten()(x)\n",
        "x = layers.Dropout(0.5)(x)\n",
        "outputs = layers.Dense(1, activation=\"sigmoid\")(x)\n",
        "model = keras.Model(inputs=inputs, outputs=outputs)\n",
        "\n",
        "model.compile(loss=\"binary_crossentropy\",\n",
        "              optimizer=\"rmsprop\",\n",
        "              metrics=[\"accuracy\"])"
      ]
    },
    {
      "cell_type": "markdown",
      "metadata": {
        "id": "ZeiOFgtVEI4k"
      },
      "source": [
        "**Training the regularized convnet**"
      ]
    },
    {
      "cell_type": "code",
      "execution_count": 263,
      "metadata": {
        "colab": {
          "base_uri": "https://localhost:8080/"
        },
        "id": "90A_cvZiEI4l",
        "outputId": "9231f4f6-4d01-448b-a21f-eb48d7a1fda3"
      },
      "outputs": [
        {
          "output_type": "stream",
          "name": "stdout",
          "text": [
            "Epoch 1/140\n",
            "125/125 [==============================] - 5s 22ms/step - loss: 0.7323 - accuracy: 0.5130 - val_loss: 0.6925 - val_accuracy: 0.6050\n",
            "Epoch 2/140\n",
            "125/125 [==============================] - 3s 21ms/step - loss: 0.6998 - accuracy: 0.5150 - val_loss: 0.6891 - val_accuracy: 0.5020\n",
            "Epoch 3/140\n",
            "125/125 [==============================] - 3s 21ms/step - loss: 0.7373 - accuracy: 0.5565 - val_loss: 0.6430 - val_accuracy: 0.6350\n",
            "Epoch 4/140\n",
            "125/125 [==============================] - 3s 21ms/step - loss: 0.7005 - accuracy: 0.5780 - val_loss: 0.6779 - val_accuracy: 0.5500\n",
            "Epoch 5/140\n",
            "125/125 [==============================] - 3s 21ms/step - loss: 0.6723 - accuracy: 0.5870 - val_loss: 0.6583 - val_accuracy: 0.6270\n",
            "Epoch 6/140\n",
            "125/125 [==============================] - 3s 21ms/step - loss: 0.6842 - accuracy: 0.6325 - val_loss: 0.6458 - val_accuracy: 0.6000\n",
            "Epoch 7/140\n",
            "125/125 [==============================] - 3s 21ms/step - loss: 0.6934 - accuracy: 0.6385 - val_loss: 0.6565 - val_accuracy: 0.6110\n",
            "Epoch 8/140\n",
            "125/125 [==============================] - 3s 21ms/step - loss: 0.6685 - accuracy: 0.6625 - val_loss: 0.8510 - val_accuracy: 0.5910\n",
            "Epoch 9/140\n",
            "125/125 [==============================] - 3s 21ms/step - loss: 0.6500 - accuracy: 0.6525 - val_loss: 0.6136 - val_accuracy: 0.6610\n",
            "Epoch 10/140\n",
            "125/125 [==============================] - 3s 21ms/step - loss: 0.6267 - accuracy: 0.6645 - val_loss: 0.6325 - val_accuracy: 0.6390\n",
            "Epoch 11/140\n",
            "125/125 [==============================] - 3s 21ms/step - loss: 0.6213 - accuracy: 0.6695 - val_loss: 0.6460 - val_accuracy: 0.6440\n",
            "Epoch 12/140\n",
            "125/125 [==============================] - 3s 22ms/step - loss: 0.6197 - accuracy: 0.6745 - val_loss: 0.5944 - val_accuracy: 0.6770\n",
            "Epoch 13/140\n",
            "125/125 [==============================] - 3s 21ms/step - loss: 0.6225 - accuracy: 0.6885 - val_loss: 0.6689 - val_accuracy: 0.6780\n",
            "Epoch 14/140\n",
            "125/125 [==============================] - 3s 21ms/step - loss: 0.6203 - accuracy: 0.6725 - val_loss: 0.6431 - val_accuracy: 0.6850\n",
            "Epoch 15/140\n",
            "125/125 [==============================] - 3s 21ms/step - loss: 0.6003 - accuracy: 0.6815 - val_loss: 0.5418 - val_accuracy: 0.7110\n",
            "Epoch 16/140\n",
            "125/125 [==============================] - 3s 21ms/step - loss: 0.5846 - accuracy: 0.7080 - val_loss: 0.5570 - val_accuracy: 0.7050\n",
            "Epoch 17/140\n",
            "125/125 [==============================] - 3s 21ms/step - loss: 0.5935 - accuracy: 0.6935 - val_loss: 0.8963 - val_accuracy: 0.6250\n",
            "Epoch 18/140\n",
            "125/125 [==============================] - 3s 21ms/step - loss: 0.5840 - accuracy: 0.7110 - val_loss: 0.6571 - val_accuracy: 0.6250\n",
            "Epoch 19/140\n",
            "125/125 [==============================] - 3s 21ms/step - loss: 0.5853 - accuracy: 0.7120 - val_loss: 0.5345 - val_accuracy: 0.7290\n",
            "Epoch 20/140\n",
            "125/125 [==============================] - 3s 21ms/step - loss: 0.5599 - accuracy: 0.7330 - val_loss: 0.5163 - val_accuracy: 0.7320\n",
            "Epoch 21/140\n",
            "125/125 [==============================] - 3s 21ms/step - loss: 0.5651 - accuracy: 0.7255 - val_loss: 0.5371 - val_accuracy: 0.7430\n",
            "Epoch 22/140\n",
            "125/125 [==============================] - 3s 21ms/step - loss: 0.5482 - accuracy: 0.7285 - val_loss: 0.6097 - val_accuracy: 0.7310\n",
            "Epoch 23/140\n",
            "125/125 [==============================] - 3s 21ms/step - loss: 0.5288 - accuracy: 0.7395 - val_loss: 0.5039 - val_accuracy: 0.7480\n",
            "Epoch 24/140\n",
            "125/125 [==============================] - 3s 21ms/step - loss: 0.5367 - accuracy: 0.7525 - val_loss: 0.5506 - val_accuracy: 0.7340\n",
            "Epoch 25/140\n",
            "125/125 [==============================] - 3s 21ms/step - loss: 0.5231 - accuracy: 0.7540 - val_loss: 0.5423 - val_accuracy: 0.7270\n",
            "Epoch 26/140\n",
            "125/125 [==============================] - 3s 21ms/step - loss: 0.5087 - accuracy: 0.7565 - val_loss: 0.5579 - val_accuracy: 0.7530\n",
            "Epoch 27/140\n",
            "125/125 [==============================] - 3s 21ms/step - loss: 0.5068 - accuracy: 0.7565 - val_loss: 0.4704 - val_accuracy: 0.7670\n",
            "Epoch 28/140\n",
            "125/125 [==============================] - 3s 21ms/step - loss: 0.5122 - accuracy: 0.7605 - val_loss: 0.4976 - val_accuracy: 0.7540\n",
            "Epoch 29/140\n",
            "125/125 [==============================] - 3s 21ms/step - loss: 0.5221 - accuracy: 0.7555 - val_loss: 0.5167 - val_accuracy: 0.7470\n",
            "Epoch 30/140\n",
            "125/125 [==============================] - 3s 21ms/step - loss: 0.5149 - accuracy: 0.7670 - val_loss: 0.5053 - val_accuracy: 0.7770\n",
            "Epoch 31/140\n",
            "125/125 [==============================] - 3s 20ms/step - loss: 0.5118 - accuracy: 0.7560 - val_loss: 0.7204 - val_accuracy: 0.6380\n",
            "Epoch 32/140\n",
            "125/125 [==============================] - 3s 20ms/step - loss: 0.4987 - accuracy: 0.7605 - val_loss: 0.6594 - val_accuracy: 0.7260\n",
            "Epoch 33/140\n",
            "125/125 [==============================] - 3s 22ms/step - loss: 0.5026 - accuracy: 0.7835 - val_loss: 0.4812 - val_accuracy: 0.7710\n",
            "Epoch 34/140\n",
            "125/125 [==============================] - 3s 21ms/step - loss: 0.4889 - accuracy: 0.7665 - val_loss: 0.5572 - val_accuracy: 0.7220\n",
            "Epoch 35/140\n",
            "125/125 [==============================] - 3s 21ms/step - loss: 0.5206 - accuracy: 0.7870 - val_loss: 0.4900 - val_accuracy: 0.7700\n",
            "Epoch 36/140\n",
            "125/125 [==============================] - 3s 21ms/step - loss: 0.4838 - accuracy: 0.7705 - val_loss: 0.5700 - val_accuracy: 0.7210\n",
            "Epoch 37/140\n",
            "125/125 [==============================] - 3s 21ms/step - loss: 0.4741 - accuracy: 0.7835 - val_loss: 0.5814 - val_accuracy: 0.7610\n",
            "Epoch 38/140\n",
            "125/125 [==============================] - 3s 21ms/step - loss: 0.5183 - accuracy: 0.7670 - val_loss: 0.4994 - val_accuracy: 0.7680\n",
            "Epoch 39/140\n",
            "125/125 [==============================] - 3s 21ms/step - loss: 0.4961 - accuracy: 0.7940 - val_loss: 0.4599 - val_accuracy: 0.7840\n",
            "Epoch 40/140\n",
            "125/125 [==============================] - 3s 21ms/step - loss: 0.4871 - accuracy: 0.7845 - val_loss: 0.5350 - val_accuracy: 0.7460\n",
            "Epoch 41/140\n",
            "125/125 [==============================] - 3s 20ms/step - loss: 0.5247 - accuracy: 0.7875 - val_loss: 0.6777 - val_accuracy: 0.7050\n",
            "Epoch 42/140\n",
            "125/125 [==============================] - 3s 21ms/step - loss: 0.4719 - accuracy: 0.7905 - val_loss: 0.5158 - val_accuracy: 0.7740\n",
            "Epoch 43/140\n",
            "125/125 [==============================] - 3s 21ms/step - loss: 0.4684 - accuracy: 0.7995 - val_loss: 0.6051 - val_accuracy: 0.7290\n",
            "Epoch 44/140\n",
            "125/125 [==============================] - 3s 21ms/step - loss: 0.5031 - accuracy: 0.7820 - val_loss: 0.5317 - val_accuracy: 0.7920\n",
            "Epoch 45/140\n",
            "125/125 [==============================] - 3s 20ms/step - loss: 0.4941 - accuracy: 0.7785 - val_loss: 0.5564 - val_accuracy: 0.7250\n",
            "Epoch 46/140\n",
            "125/125 [==============================] - 3s 22ms/step - loss: 0.4769 - accuracy: 0.7895 - val_loss: 0.4551 - val_accuracy: 0.7980\n",
            "Epoch 47/140\n",
            "125/125 [==============================] - 3s 20ms/step - loss: 0.4979 - accuracy: 0.7870 - val_loss: 0.8069 - val_accuracy: 0.7260\n",
            "Epoch 48/140\n",
            "125/125 [==============================] - 3s 21ms/step - loss: 0.4941 - accuracy: 0.7915 - val_loss: 0.4411 - val_accuracy: 0.7860\n",
            "Epoch 49/140\n",
            "125/125 [==============================] - 3s 21ms/step - loss: 0.4646 - accuracy: 0.7960 - val_loss: 0.5204 - val_accuracy: 0.7760\n",
            "Epoch 50/140\n",
            "125/125 [==============================] - 3s 21ms/step - loss: 0.5363 - accuracy: 0.7905 - val_loss: 0.4622 - val_accuracy: 0.7900\n",
            "Epoch 51/140\n",
            "125/125 [==============================] - 3s 21ms/step - loss: 0.5164 - accuracy: 0.7950 - val_loss: 0.5115 - val_accuracy: 0.7380\n",
            "Epoch 52/140\n",
            "125/125 [==============================] - 3s 21ms/step - loss: 0.4704 - accuracy: 0.7940 - val_loss: 0.6079 - val_accuracy: 0.7450\n",
            "Epoch 53/140\n",
            "125/125 [==============================] - 3s 21ms/step - loss: 0.4841 - accuracy: 0.7980 - val_loss: 0.5164 - val_accuracy: 0.7610\n",
            "Epoch 54/140\n",
            "125/125 [==============================] - 3s 20ms/step - loss: 0.4996 - accuracy: 0.7865 - val_loss: 0.5712 - val_accuracy: 0.7890\n",
            "Epoch 55/140\n",
            "125/125 [==============================] - 3s 21ms/step - loss: 0.4566 - accuracy: 0.7985 - val_loss: 1.5206 - val_accuracy: 0.6210\n",
            "Epoch 56/140\n",
            "125/125 [==============================] - 3s 21ms/step - loss: 0.4519 - accuracy: 0.8160 - val_loss: 0.4374 - val_accuracy: 0.8050\n",
            "Epoch 57/140\n",
            "125/125 [==============================] - 3s 21ms/step - loss: 0.4479 - accuracy: 0.8100 - val_loss: 0.6477 - val_accuracy: 0.7720\n",
            "Epoch 58/140\n",
            "125/125 [==============================] - 3s 21ms/step - loss: 0.5445 - accuracy: 0.7950 - val_loss: 0.5237 - val_accuracy: 0.7680\n",
            "Epoch 59/140\n",
            "125/125 [==============================] - 3s 21ms/step - loss: 0.4667 - accuracy: 0.8045 - val_loss: 0.4758 - val_accuracy: 0.7510\n",
            "Epoch 60/140\n",
            "125/125 [==============================] - 3s 21ms/step - loss: 0.4725 - accuracy: 0.8125 - val_loss: 0.6206 - val_accuracy: 0.7870\n",
            "Epoch 61/140\n",
            "125/125 [==============================] - 3s 21ms/step - loss: 0.4632 - accuracy: 0.8025 - val_loss: 0.6442 - val_accuracy: 0.7530\n",
            "Epoch 62/140\n",
            "125/125 [==============================] - 3s 21ms/step - loss: 0.4561 - accuracy: 0.8180 - val_loss: 0.5027 - val_accuracy: 0.7750\n",
            "Epoch 63/140\n",
            "125/125 [==============================] - 3s 23ms/step - loss: 0.4672 - accuracy: 0.7920 - val_loss: 0.4475 - val_accuracy: 0.8070\n",
            "Epoch 64/140\n",
            "125/125 [==============================] - 3s 21ms/step - loss: 0.4779 - accuracy: 0.8095 - val_loss: 0.4720 - val_accuracy: 0.7780\n",
            "Epoch 65/140\n",
            "125/125 [==============================] - 3s 21ms/step - loss: 0.4362 - accuracy: 0.8165 - val_loss: 0.4293 - val_accuracy: 0.8110\n",
            "Epoch 66/140\n",
            "125/125 [==============================] - 3s 20ms/step - loss: 0.4949 - accuracy: 0.7995 - val_loss: 0.5443 - val_accuracy: 0.7570\n",
            "Epoch 67/140\n",
            "125/125 [==============================] - 3s 21ms/step - loss: 0.4703 - accuracy: 0.8070 - val_loss: 0.4957 - val_accuracy: 0.7960\n",
            "Epoch 68/140\n",
            "125/125 [==============================] - 3s 21ms/step - loss: 0.4436 - accuracy: 0.8050 - val_loss: 0.9439 - val_accuracy: 0.7010\n",
            "Epoch 69/140\n",
            "125/125 [==============================] - 3s 20ms/step - loss: 0.5011 - accuracy: 0.8005 - val_loss: 0.5384 - val_accuracy: 0.7990\n",
            "Epoch 70/140\n",
            "125/125 [==============================] - 3s 21ms/step - loss: 0.4362 - accuracy: 0.8120 - val_loss: 0.5806 - val_accuracy: 0.7510\n",
            "Epoch 71/140\n",
            "125/125 [==============================] - 3s 21ms/step - loss: 0.4714 - accuracy: 0.8105 - val_loss: 0.9880 - val_accuracy: 0.6670\n",
            "Epoch 72/140\n",
            "125/125 [==============================] - 3s 21ms/step - loss: 0.4982 - accuracy: 0.7880 - val_loss: 0.7362 - val_accuracy: 0.6970\n",
            "Epoch 73/140\n",
            "125/125 [==============================] - 3s 20ms/step - loss: 0.4566 - accuracy: 0.8035 - val_loss: 0.4716 - val_accuracy: 0.7700\n",
            "Epoch 74/140\n",
            "125/125 [==============================] - 3s 21ms/step - loss: 0.4416 - accuracy: 0.8150 - val_loss: 0.7890 - val_accuracy: 0.7520\n",
            "Epoch 75/140\n",
            "125/125 [==============================] - 3s 20ms/step - loss: 0.5125 - accuracy: 0.7850 - val_loss: 0.5436 - val_accuracy: 0.7760\n",
            "Epoch 76/140\n",
            "125/125 [==============================] - 3s 21ms/step - loss: 0.4611 - accuracy: 0.8040 - val_loss: 0.4895 - val_accuracy: 0.7500\n",
            "Epoch 77/140\n",
            "125/125 [==============================] - 3s 21ms/step - loss: 0.4744 - accuracy: 0.8025 - val_loss: 0.5073 - val_accuracy: 0.7370\n",
            "Epoch 78/140\n",
            "125/125 [==============================] - 3s 21ms/step - loss: 0.4664 - accuracy: 0.8025 - val_loss: 0.8546 - val_accuracy: 0.6450\n",
            "Epoch 79/140\n",
            "125/125 [==============================] - 3s 21ms/step - loss: 0.5504 - accuracy: 0.7700 - val_loss: 0.4593 - val_accuracy: 0.7940\n",
            "Epoch 80/140\n",
            "125/125 [==============================] - 3s 21ms/step - loss: 0.4724 - accuracy: 0.7900 - val_loss: 0.5176 - val_accuracy: 0.7720\n",
            "Epoch 81/140\n",
            "125/125 [==============================] - 3s 21ms/step - loss: 0.4642 - accuracy: 0.8095 - val_loss: 0.4528 - val_accuracy: 0.8060\n",
            "Epoch 82/140\n",
            "125/125 [==============================] - 3s 21ms/step - loss: 0.4850 - accuracy: 0.8080 - val_loss: 0.4921 - val_accuracy: 0.8060\n",
            "Epoch 83/140\n",
            "125/125 [==============================] - 3s 21ms/step - loss: 0.4825 - accuracy: 0.7955 - val_loss: 0.4722 - val_accuracy: 0.7650\n",
            "Epoch 84/140\n",
            "125/125 [==============================] - 3s 21ms/step - loss: 0.4536 - accuracy: 0.8045 - val_loss: 0.5154 - val_accuracy: 0.7610\n",
            "Epoch 85/140\n",
            "125/125 [==============================] - 3s 21ms/step - loss: 0.4991 - accuracy: 0.7925 - val_loss: 0.4658 - val_accuracy: 0.8140\n",
            "Epoch 86/140\n",
            "125/125 [==============================] - 3s 20ms/step - loss: 0.4516 - accuracy: 0.8040 - val_loss: 0.5007 - val_accuracy: 0.7680\n",
            "Epoch 87/140\n",
            "125/125 [==============================] - 3s 20ms/step - loss: 0.4560 - accuracy: 0.7930 - val_loss: 0.5327 - val_accuracy: 0.7820\n",
            "Epoch 88/140\n",
            "125/125 [==============================] - 3s 21ms/step - loss: 0.5072 - accuracy: 0.7810 - val_loss: 0.7086 - val_accuracy: 0.7590\n",
            "Epoch 89/140\n",
            "125/125 [==============================] - 3s 21ms/step - loss: 0.4808 - accuracy: 0.7895 - val_loss: 1.1794 - val_accuracy: 0.7230\n",
            "Epoch 90/140\n",
            "125/125 [==============================] - 3s 21ms/step - loss: 0.5242 - accuracy: 0.7785 - val_loss: 0.4332 - val_accuracy: 0.7990\n",
            "Epoch 91/140\n",
            "125/125 [==============================] - 3s 21ms/step - loss: 0.5296 - accuracy: 0.7890 - val_loss: 0.5666 - val_accuracy: 0.7530\n",
            "Epoch 92/140\n",
            "125/125 [==============================] - 3s 21ms/step - loss: 0.4870 - accuracy: 0.7940 - val_loss: 0.5003 - val_accuracy: 0.7950\n",
            "Epoch 93/140\n",
            "125/125 [==============================] - 3s 21ms/step - loss: 0.5156 - accuracy: 0.7800 - val_loss: 0.5471 - val_accuracy: 0.7620\n",
            "Epoch 94/140\n",
            "125/125 [==============================] - 3s 21ms/step - loss: 0.4947 - accuracy: 0.7895 - val_loss: 0.4939 - val_accuracy: 0.7990\n",
            "Epoch 95/140\n",
            "125/125 [==============================] - 3s 21ms/step - loss: 0.4993 - accuracy: 0.7870 - val_loss: 0.5498 - val_accuracy: 0.8040\n",
            "Epoch 96/140\n",
            "125/125 [==============================] - 3s 21ms/step - loss: 0.5147 - accuracy: 0.7845 - val_loss: 0.5303 - val_accuracy: 0.7870\n",
            "Epoch 97/140\n",
            "125/125 [==============================] - 3s 20ms/step - loss: 0.5335 - accuracy: 0.7735 - val_loss: 0.5896 - val_accuracy: 0.7540\n",
            "Epoch 98/140\n",
            "125/125 [==============================] - 3s 21ms/step - loss: 0.4568 - accuracy: 0.8070 - val_loss: 0.4318 - val_accuracy: 0.8140\n",
            "Epoch 99/140\n",
            "125/125 [==============================] - 3s 21ms/step - loss: 0.5208 - accuracy: 0.7795 - val_loss: 0.4695 - val_accuracy: 0.7820\n",
            "Epoch 100/140\n",
            "125/125 [==============================] - 3s 21ms/step - loss: 0.5170 - accuracy: 0.7960 - val_loss: 1.0097 - val_accuracy: 0.6850\n",
            "Epoch 101/140\n",
            "125/125 [==============================] - 3s 21ms/step - loss: 0.5368 - accuracy: 0.7880 - val_loss: 0.4809 - val_accuracy: 0.7830\n",
            "Epoch 102/140\n",
            "125/125 [==============================] - 3s 21ms/step - loss: 0.4992 - accuracy: 0.7815 - val_loss: 0.4912 - val_accuracy: 0.8080\n",
            "Epoch 103/140\n",
            "125/125 [==============================] - 3s 21ms/step - loss: 0.5761 - accuracy: 0.7630 - val_loss: 0.5262 - val_accuracy: 0.7880\n",
            "Epoch 104/140\n",
            "125/125 [==============================] - 3s 21ms/step - loss: 0.5085 - accuracy: 0.7960 - val_loss: 0.5314 - val_accuracy: 0.7730\n",
            "Epoch 105/140\n",
            "125/125 [==============================] - 3s 21ms/step - loss: 0.4951 - accuracy: 0.7950 - val_loss: 0.5113 - val_accuracy: 0.7880\n",
            "Epoch 106/140\n",
            "125/125 [==============================] - 3s 21ms/step - loss: 0.5068 - accuracy: 0.7865 - val_loss: 0.5244 - val_accuracy: 0.7670\n",
            "Epoch 107/140\n",
            "125/125 [==============================] - 3s 21ms/step - loss: 0.5794 - accuracy: 0.7635 - val_loss: 0.6698 - val_accuracy: 0.6260\n",
            "Epoch 108/140\n",
            "125/125 [==============================] - 3s 21ms/step - loss: 0.5551 - accuracy: 0.7470 - val_loss: 0.6639 - val_accuracy: 0.7870\n",
            "Epoch 109/140\n",
            "125/125 [==============================] - 3s 21ms/step - loss: 0.5457 - accuracy: 0.7655 - val_loss: 0.6035 - val_accuracy: 0.7720\n",
            "Epoch 110/140\n",
            "125/125 [==============================] - 3s 21ms/step - loss: 0.5431 - accuracy: 0.7810 - val_loss: 0.6124 - val_accuracy: 0.7240\n",
            "Epoch 111/140\n",
            "125/125 [==============================] - 3s 21ms/step - loss: 0.5850 - accuracy: 0.7490 - val_loss: 0.5546 - val_accuracy: 0.7780\n",
            "Epoch 112/140\n",
            "125/125 [==============================] - 3s 21ms/step - loss: 0.5580 - accuracy: 0.7570 - val_loss: 0.9273 - val_accuracy: 0.7880\n",
            "Epoch 113/140\n",
            "125/125 [==============================] - 3s 21ms/step - loss: 0.5882 - accuracy: 0.7500 - val_loss: 0.5148 - val_accuracy: 0.7800\n",
            "Epoch 114/140\n",
            "125/125 [==============================] - 3s 21ms/step - loss: 0.5664 - accuracy: 0.7585 - val_loss: 1.9542 - val_accuracy: 0.7840\n",
            "Epoch 115/140\n",
            "125/125 [==============================] - 3s 21ms/step - loss: 0.5533 - accuracy: 0.7430 - val_loss: 0.6296 - val_accuracy: 0.7810\n",
            "Epoch 116/140\n",
            "125/125 [==============================] - 3s 21ms/step - loss: 0.5984 - accuracy: 0.7300 - val_loss: 0.5453 - val_accuracy: 0.7510\n",
            "Epoch 117/140\n",
            "125/125 [==============================] - 3s 21ms/step - loss: 0.5858 - accuracy: 0.7600 - val_loss: 0.5857 - val_accuracy: 0.6950\n",
            "Epoch 118/140\n",
            "125/125 [==============================] - 3s 21ms/step - loss: 0.5369 - accuracy: 0.7820 - val_loss: 0.4844 - val_accuracy: 0.8220\n",
            "Epoch 119/140\n",
            "125/125 [==============================] - 3s 21ms/step - loss: 0.5407 - accuracy: 0.7765 - val_loss: 0.6602 - val_accuracy: 0.7320\n",
            "Epoch 120/140\n",
            "125/125 [==============================] - 3s 21ms/step - loss: 0.5535 - accuracy: 0.7670 - val_loss: 0.5367 - val_accuracy: 0.7570\n",
            "Epoch 121/140\n",
            "125/125 [==============================] - 3s 20ms/step - loss: 0.6135 - accuracy: 0.7705 - val_loss: 0.5202 - val_accuracy: 0.7760\n",
            "Epoch 122/140\n",
            "125/125 [==============================] - 3s 21ms/step - loss: 0.5470 - accuracy: 0.7745 - val_loss: 0.4648 - val_accuracy: 0.8100\n",
            "Epoch 123/140\n",
            "125/125 [==============================] - 3s 21ms/step - loss: 0.5317 - accuracy: 0.7800 - val_loss: 0.5594 - val_accuracy: 0.7300\n",
            "Epoch 124/140\n",
            "125/125 [==============================] - 3s 20ms/step - loss: 0.5646 - accuracy: 0.7590 - val_loss: 0.5019 - val_accuracy: 0.7810\n",
            "Epoch 125/140\n",
            "125/125 [==============================] - 3s 21ms/step - loss: 0.5442 - accuracy: 0.7735 - val_loss: 0.4593 - val_accuracy: 0.8180\n",
            "Epoch 126/140\n",
            "125/125 [==============================] - 3s 21ms/step - loss: 0.7313 - accuracy: 0.7540 - val_loss: 0.5921 - val_accuracy: 0.7880\n",
            "Epoch 127/140\n",
            "125/125 [==============================] - 3s 21ms/step - loss: 0.5326 - accuracy: 0.7910 - val_loss: 0.4639 - val_accuracy: 0.7900\n",
            "Epoch 128/140\n",
            "125/125 [==============================] - 3s 21ms/step - loss: 0.5560 - accuracy: 0.7580 - val_loss: 0.6063 - val_accuracy: 0.8000\n",
            "Epoch 129/140\n",
            "125/125 [==============================] - 3s 21ms/step - loss: 0.5627 - accuracy: 0.7645 - val_loss: 0.5240 - val_accuracy: 0.7690\n",
            "Epoch 130/140\n",
            "125/125 [==============================] - 3s 21ms/step - loss: 0.6350 - accuracy: 0.7235 - val_loss: 1.2799 - val_accuracy: 0.7350\n",
            "Epoch 131/140\n",
            "125/125 [==============================] - 3s 21ms/step - loss: 0.5636 - accuracy: 0.7520 - val_loss: 0.6936 - val_accuracy: 0.7700\n",
            "Epoch 132/140\n",
            "125/125 [==============================] - 3s 21ms/step - loss: 0.5511 - accuracy: 0.7525 - val_loss: 0.7923 - val_accuracy: 0.7180\n",
            "Epoch 133/140\n",
            "125/125 [==============================] - 3s 20ms/step - loss: 0.6060 - accuracy: 0.7360 - val_loss: 0.5230 - val_accuracy: 0.7980\n",
            "Epoch 134/140\n",
            "125/125 [==============================] - 3s 21ms/step - loss: 0.6408 - accuracy: 0.7470 - val_loss: 0.5303 - val_accuracy: 0.7650\n",
            "Epoch 135/140\n",
            "125/125 [==============================] - 3s 21ms/step - loss: 0.6573 - accuracy: 0.7530 - val_loss: 0.9778 - val_accuracy: 0.7580\n",
            "Epoch 136/140\n",
            "125/125 [==============================] - 3s 21ms/step - loss: 0.5689 - accuracy: 0.7425 - val_loss: 0.9540 - val_accuracy: 0.6740\n",
            "Epoch 137/140\n",
            "125/125 [==============================] - 3s 21ms/step - loss: 0.5678 - accuracy: 0.7830 - val_loss: 0.4990 - val_accuracy: 0.7710\n",
            "Epoch 138/140\n",
            "125/125 [==============================] - 3s 21ms/step - loss: 0.5693 - accuracy: 0.7650 - val_loss: 0.5064 - val_accuracy: 0.7890\n",
            "Epoch 139/140\n",
            "125/125 [==============================] - 3s 21ms/step - loss: 0.5737 - accuracy: 0.7610 - val_loss: 0.6070 - val_accuracy: 0.7460\n",
            "Epoch 140/140\n",
            "125/125 [==============================] - 3s 21ms/step - loss: 0.5459 - accuracy: 0.7555 - val_loss: 0.5216 - val_accuracy: 0.7500\n"
          ]
        }
      ],
      "source": [
        "callbacks = [\n",
        "    keras.callbacks.ModelCheckpoint(\n",
        "        filepath=\"convnet_from_scratch_with_augmentation.keras\",\n",
        "        save_best_only=True,\n",
        "        monitor=\"val_loss\")\n",
        "]\n",
        "history = model.fit(\n",
        "    train_dataset,\n",
        "    epochs=140,\n",
        "    validation_data=validation_dataset,\n",
        "    callbacks=callbacks)"
      ]
    },
    {
      "cell_type": "markdown",
      "metadata": {
        "id": "vhFMmsqpEI4l"
      },
      "source": [
        "**Evaluating the model on the test set**"
      ]
    },
    {
      "cell_type": "code",
      "execution_count": 264,
      "metadata": {
        "colab": {
          "base_uri": "https://localhost:8080/"
        },
        "id": "lHr3rssZEI4l",
        "outputId": "7be34b96-da3d-4c1b-e971-e0758a54db54"
      },
      "outputs": [
        {
          "output_type": "stream",
          "name": "stdout",
          "text": [
            "125/125 [==============================] - 1s 6ms/step - loss: 0.5096 - accuracy: 0.7940\n",
            "Test accuracy: 0.794\n"
          ]
        }
      ],
      "source": [
        "test_model = keras.models.load_model(\n",
        "    \"convnet_from_scratch_with_augmentation.keras\")\n",
        "test_loss, test_acc = test_model.evaluate(test_dataset)\n",
        "print(f\"Test accuracy: {test_acc:.3f}\")"
      ]
    },
    {
      "cell_type": "markdown",
      "metadata": {
        "id": "O477yb73EI4l"
      },
      "source": [
        "## Leveraging a pretrained model"
      ]
    },
    {
      "cell_type": "markdown",
      "metadata": {
        "id": "wYEw7o4WEI4l"
      },
      "source": [
        "### Feature extraction with a pretrained model"
      ]
    },
    {
      "cell_type": "markdown",
      "metadata": {
        "id": "_OOipWR5EI4l"
      },
      "source": [
        "**Instantiating the VGG16 convolutional base**"
      ]
    },
    {
      "cell_type": "code",
      "execution_count": 265,
      "metadata": {
        "id": "vNZuLahgEI4l"
      },
      "outputs": [],
      "source": [
        "conv_base = keras.applications.vgg16.VGG16(\n",
        "    weights=\"imagenet\",\n",
        "    include_top=False,\n",
        "    input_shape=(180, 180, 3))"
      ]
    },
    {
      "cell_type": "code",
      "execution_count": 266,
      "metadata": {
        "colab": {
          "base_uri": "https://localhost:8080/"
        },
        "id": "yeyjgXLoEI4l",
        "outputId": "1def7e58-6b67-449b-8c56-33941a3a3ea6"
      },
      "outputs": [
        {
          "output_type": "stream",
          "name": "stdout",
          "text": [
            "Model: \"vgg16\"\n",
            "_________________________________________________________________\n",
            " Layer (type)                Output Shape              Param #   \n",
            "=================================================================\n",
            " input_46 (InputLayer)       [(None, 180, 180, 3)]     0         \n",
            "                                                                 \n",
            " block1_conv1 (Conv2D)       (None, 180, 180, 64)      1792      \n",
            "                                                                 \n",
            " block1_conv2 (Conv2D)       (None, 180, 180, 64)      36928     \n",
            "                                                                 \n",
            " block1_pool (MaxPooling2D)  (None, 90, 90, 64)        0         \n",
            "                                                                 \n",
            " block2_conv1 (Conv2D)       (None, 90, 90, 128)       73856     \n",
            "                                                                 \n",
            " block2_conv2 (Conv2D)       (None, 90, 90, 128)       147584    \n",
            "                                                                 \n",
            " block2_pool (MaxPooling2D)  (None, 45, 45, 128)       0         \n",
            "                                                                 \n",
            " block3_conv1 (Conv2D)       (None, 45, 45, 256)       295168    \n",
            "                                                                 \n",
            " block3_conv2 (Conv2D)       (None, 45, 45, 256)       590080    \n",
            "                                                                 \n",
            " block3_conv3 (Conv2D)       (None, 45, 45, 256)       590080    \n",
            "                                                                 \n",
            " block3_pool (MaxPooling2D)  (None, 22, 22, 256)       0         \n",
            "                                                                 \n",
            " block4_conv1 (Conv2D)       (None, 22, 22, 512)       1180160   \n",
            "                                                                 \n",
            " block4_conv2 (Conv2D)       (None, 22, 22, 512)       2359808   \n",
            "                                                                 \n",
            " block4_conv3 (Conv2D)       (None, 22, 22, 512)       2359808   \n",
            "                                                                 \n",
            " block4_pool (MaxPooling2D)  (None, 11, 11, 512)       0         \n",
            "                                                                 \n",
            " block5_conv1 (Conv2D)       (None, 11, 11, 512)       2359808   \n",
            "                                                                 \n",
            " block5_conv2 (Conv2D)       (None, 11, 11, 512)       2359808   \n",
            "                                                                 \n",
            " block5_conv3 (Conv2D)       (None, 11, 11, 512)       2359808   \n",
            "                                                                 \n",
            " block5_pool (MaxPooling2D)  (None, 5, 5, 512)         0         \n",
            "                                                                 \n",
            "=================================================================\n",
            "Total params: 14,714,688\n",
            "Trainable params: 14,714,688\n",
            "Non-trainable params: 0\n",
            "_________________________________________________________________\n"
          ]
        }
      ],
      "source": [
        "conv_base.summary()"
      ]
    },
    {
      "cell_type": "markdown",
      "metadata": {
        "id": "TV_PFY3_EI4l"
      },
      "source": [
        "#### Fast feature extraction without data augmentation"
      ]
    },
    {
      "cell_type": "markdown",
      "metadata": {
        "id": "A7TcUiroEI4l"
      },
      "source": [
        "**Extracting the VGG16 features and corresponding labels**"
      ]
    },
    {
      "cell_type": "code",
      "execution_count": 267,
      "metadata": {
        "colab": {
          "base_uri": "https://localhost:8080/"
        },
        "id": "LrZ1PZsWEI4m",
        "outputId": "da1fef8f-5064-42a1-a15d-83c0c62352f9"
      },
      "outputs": [
        {
          "output_type": "stream",
          "name": "stdout",
          "text": [
            "1/1 [==============================] - 0s 126ms/step\n",
            "1/1 [==============================] - 0s 21ms/step\n",
            "1/1 [==============================] - 0s 20ms/step\n",
            "1/1 [==============================] - 0s 21ms/step\n",
            "1/1 [==============================] - 0s 20ms/step\n",
            "1/1 [==============================] - 0s 20ms/step\n",
            "1/1 [==============================] - 0s 20ms/step\n",
            "1/1 [==============================] - 0s 20ms/step\n",
            "1/1 [==============================] - 0s 20ms/step\n",
            "1/1 [==============================] - 0s 20ms/step\n",
            "1/1 [==============================] - 0s 20ms/step\n",
            "1/1 [==============================] - 0s 20ms/step\n",
            "1/1 [==============================] - 0s 21ms/step\n",
            "1/1 [==============================] - 0s 20ms/step\n",
            "1/1 [==============================] - 0s 20ms/step\n",
            "1/1 [==============================] - 0s 20ms/step\n",
            "1/1 [==============================] - 0s 21ms/step\n",
            "1/1 [==============================] - 0s 21ms/step\n",
            "1/1 [==============================] - 0s 21ms/step\n",
            "1/1 [==============================] - 0s 20ms/step\n",
            "1/1 [==============================] - 0s 21ms/step\n",
            "1/1 [==============================] - 0s 21ms/step\n",
            "1/1 [==============================] - 0s 20ms/step\n",
            "1/1 [==============================] - 0s 21ms/step\n",
            "1/1 [==============================] - 0s 20ms/step\n",
            "1/1 [==============================] - 0s 20ms/step\n",
            "1/1 [==============================] - 0s 20ms/step\n",
            "1/1 [==============================] - 0s 21ms/step\n",
            "1/1 [==============================] - 0s 20ms/step\n",
            "1/1 [==============================] - 0s 20ms/step\n",
            "1/1 [==============================] - 0s 20ms/step\n",
            "1/1 [==============================] - 0s 20ms/step\n",
            "1/1 [==============================] - 0s 20ms/step\n",
            "1/1 [==============================] - 0s 20ms/step\n",
            "1/1 [==============================] - 0s 20ms/step\n",
            "1/1 [==============================] - 0s 20ms/step\n",
            "1/1 [==============================] - 0s 21ms/step\n",
            "1/1 [==============================] - 0s 20ms/step\n",
            "1/1 [==============================] - 0s 20ms/step\n",
            "1/1 [==============================] - 0s 20ms/step\n",
            "1/1 [==============================] - 0s 20ms/step\n",
            "1/1 [==============================] - 0s 21ms/step\n",
            "1/1 [==============================] - 0s 20ms/step\n",
            "1/1 [==============================] - 0s 21ms/step\n",
            "1/1 [==============================] - 0s 20ms/step\n",
            "1/1 [==============================] - 0s 20ms/step\n",
            "1/1 [==============================] - 0s 21ms/step\n",
            "1/1 [==============================] - 0s 20ms/step\n",
            "1/1 [==============================] - 0s 20ms/step\n",
            "1/1 [==============================] - 0s 20ms/step\n",
            "1/1 [==============================] - 0s 20ms/step\n",
            "1/1 [==============================] - 0s 20ms/step\n",
            "1/1 [==============================] - 0s 20ms/step\n",
            "1/1 [==============================] - 0s 21ms/step\n",
            "1/1 [==============================] - 0s 20ms/step\n",
            "1/1 [==============================] - 0s 20ms/step\n",
            "1/1 [==============================] - 0s 20ms/step\n",
            "1/1 [==============================] - 0s 20ms/step\n",
            "1/1 [==============================] - 0s 21ms/step\n",
            "1/1 [==============================] - 0s 20ms/step\n",
            "1/1 [==============================] - 0s 20ms/step\n",
            "1/1 [==============================] - 0s 21ms/step\n",
            "1/1 [==============================] - 0s 21ms/step\n",
            "1/1 [==============================] - 0s 21ms/step\n",
            "1/1 [==============================] - 0s 21ms/step\n",
            "1/1 [==============================] - 0s 20ms/step\n",
            "1/1 [==============================] - 0s 21ms/step\n",
            "1/1 [==============================] - 0s 20ms/step\n",
            "1/1 [==============================] - 0s 20ms/step\n",
            "1/1 [==============================] - 0s 20ms/step\n",
            "1/1 [==============================] - 0s 20ms/step\n",
            "1/1 [==============================] - 0s 20ms/step\n",
            "1/1 [==============================] - 0s 22ms/step\n",
            "1/1 [==============================] - 0s 21ms/step\n",
            "1/1 [==============================] - 0s 20ms/step\n",
            "1/1 [==============================] - 0s 20ms/step\n",
            "1/1 [==============================] - 0s 21ms/step\n",
            "1/1 [==============================] - 0s 21ms/step\n",
            "1/1 [==============================] - 0s 20ms/step\n",
            "1/1 [==============================] - 0s 21ms/step\n",
            "1/1 [==============================] - 0s 20ms/step\n",
            "1/1 [==============================] - 0s 20ms/step\n",
            "1/1 [==============================] - 0s 22ms/step\n",
            "1/1 [==============================] - 0s 21ms/step\n",
            "1/1 [==============================] - 0s 20ms/step\n",
            "1/1 [==============================] - 0s 21ms/step\n",
            "1/1 [==============================] - 0s 20ms/step\n",
            "1/1 [==============================] - 0s 21ms/step\n",
            "1/1 [==============================] - 0s 20ms/step\n",
            "1/1 [==============================] - 0s 20ms/step\n",
            "1/1 [==============================] - 0s 20ms/step\n",
            "1/1 [==============================] - 0s 21ms/step\n",
            "1/1 [==============================] - 0s 20ms/step\n",
            "1/1 [==============================] - 0s 21ms/step\n",
            "1/1 [==============================] - 0s 20ms/step\n",
            "1/1 [==============================] - 0s 20ms/step\n",
            "1/1 [==============================] - 0s 20ms/step\n",
            "1/1 [==============================] - 0s 20ms/step\n",
            "1/1 [==============================] - 0s 21ms/step\n",
            "1/1 [==============================] - 0s 20ms/step\n",
            "1/1 [==============================] - 0s 22ms/step\n",
            "1/1 [==============================] - 0s 20ms/step\n",
            "1/1 [==============================] - 0s 21ms/step\n",
            "1/1 [==============================] - 0s 21ms/step\n",
            "1/1 [==============================] - 0s 20ms/step\n",
            "1/1 [==============================] - 0s 20ms/step\n",
            "1/1 [==============================] - 0s 22ms/step\n",
            "1/1 [==============================] - 0s 21ms/step\n",
            "1/1 [==============================] - 0s 20ms/step\n",
            "1/1 [==============================] - 0s 21ms/step\n",
            "1/1 [==============================] - 0s 20ms/step\n",
            "1/1 [==============================] - 0s 21ms/step\n",
            "1/1 [==============================] - 0s 20ms/step\n",
            "1/1 [==============================] - 0s 20ms/step\n",
            "1/1 [==============================] - 0s 21ms/step\n",
            "1/1 [==============================] - 0s 19ms/step\n",
            "1/1 [==============================] - 0s 20ms/step\n",
            "1/1 [==============================] - 0s 20ms/step\n",
            "1/1 [==============================] - 0s 19ms/step\n",
            "1/1 [==============================] - 0s 20ms/step\n",
            "1/1 [==============================] - 0s 20ms/step\n",
            "1/1 [==============================] - 0s 20ms/step\n",
            "1/1 [==============================] - 0s 20ms/step\n",
            "1/1 [==============================] - 0s 21ms/step\n",
            "1/1 [==============================] - 0s 21ms/step\n",
            "1/1 [==============================] - 0s 21ms/step\n",
            "1/1 [==============================] - 0s 21ms/step\n",
            "1/1 [==============================] - 0s 24ms/step\n",
            "1/1 [==============================] - 0s 22ms/step\n",
            "1/1 [==============================] - 0s 23ms/step\n",
            "1/1 [==============================] - 0s 21ms/step\n",
            "1/1 [==============================] - 0s 20ms/step\n",
            "1/1 [==============================] - 0s 20ms/step\n",
            "1/1 [==============================] - 0s 20ms/step\n",
            "1/1 [==============================] - 0s 20ms/step\n",
            "1/1 [==============================] - 0s 21ms/step\n",
            "1/1 [==============================] - 0s 20ms/step\n",
            "1/1 [==============================] - 0s 21ms/step\n",
            "1/1 [==============================] - 0s 21ms/step\n",
            "1/1 [==============================] - 0s 20ms/step\n",
            "1/1 [==============================] - 0s 21ms/step\n",
            "1/1 [==============================] - 0s 21ms/step\n",
            "1/1 [==============================] - 0s 20ms/step\n",
            "1/1 [==============================] - 0s 20ms/step\n",
            "1/1 [==============================] - 0s 20ms/step\n",
            "1/1 [==============================] - 0s 21ms/step\n",
            "1/1 [==============================] - 0s 21ms/step\n",
            "1/1 [==============================] - 0s 21ms/step\n",
            "1/1 [==============================] - 0s 20ms/step\n",
            "1/1 [==============================] - 0s 20ms/step\n",
            "1/1 [==============================] - 0s 21ms/step\n",
            "1/1 [==============================] - 0s 21ms/step\n",
            "1/1 [==============================] - 0s 20ms/step\n",
            "1/1 [==============================] - 0s 21ms/step\n",
            "1/1 [==============================] - 0s 20ms/step\n",
            "1/1 [==============================] - 0s 21ms/step\n",
            "1/1 [==============================] - 0s 20ms/step\n",
            "1/1 [==============================] - 0s 21ms/step\n",
            "1/1 [==============================] - 0s 21ms/step\n",
            "1/1 [==============================] - 0s 21ms/step\n",
            "1/1 [==============================] - 0s 20ms/step\n",
            "1/1 [==============================] - 0s 20ms/step\n",
            "1/1 [==============================] - 0s 20ms/step\n",
            "1/1 [==============================] - 0s 20ms/step\n",
            "1/1 [==============================] - 0s 20ms/step\n",
            "1/1 [==============================] - 0s 20ms/step\n",
            "1/1 [==============================] - 0s 21ms/step\n",
            "1/1 [==============================] - 0s 20ms/step\n",
            "1/1 [==============================] - 0s 21ms/step\n",
            "1/1 [==============================] - 0s 20ms/step\n",
            "1/1 [==============================] - 0s 20ms/step\n",
            "1/1 [==============================] - 0s 21ms/step\n",
            "1/1 [==============================] - 0s 20ms/step\n",
            "1/1 [==============================] - 0s 21ms/step\n",
            "1/1 [==============================] - 0s 20ms/step\n",
            "1/1 [==============================] - 0s 20ms/step\n",
            "1/1 [==============================] - 0s 20ms/step\n",
            "1/1 [==============================] - 0s 20ms/step\n",
            "1/1 [==============================] - 0s 20ms/step\n",
            "1/1 [==============================] - 0s 20ms/step\n",
            "1/1 [==============================] - 0s 20ms/step\n",
            "1/1 [==============================] - 0s 20ms/step\n",
            "1/1 [==============================] - 0s 20ms/step\n",
            "1/1 [==============================] - 0s 20ms/step\n",
            "1/1 [==============================] - 0s 20ms/step\n",
            "1/1 [==============================] - 0s 20ms/step\n",
            "1/1 [==============================] - 0s 20ms/step\n",
            "1/1 [==============================] - 0s 22ms/step\n",
            "1/1 [==============================] - 0s 21ms/step\n",
            "1/1 [==============================] - 0s 20ms/step\n",
            "1/1 [==============================] - 0s 20ms/step\n",
            "1/1 [==============================] - 0s 20ms/step\n",
            "1/1 [==============================] - 0s 21ms/step\n",
            "1/1 [==============================] - 0s 21ms/step\n",
            "1/1 [==============================] - 0s 20ms/step\n",
            "1/1 [==============================] - 0s 21ms/step\n",
            "1/1 [==============================] - 0s 21ms/step\n",
            "1/1 [==============================] - 0s 21ms/step\n",
            "1/1 [==============================] - 0s 20ms/step\n",
            "1/1 [==============================] - 0s 20ms/step\n",
            "1/1 [==============================] - 0s 20ms/step\n",
            "1/1 [==============================] - 0s 20ms/step\n",
            "1/1 [==============================] - 0s 21ms/step\n",
            "1/1 [==============================] - 0s 20ms/step\n",
            "1/1 [==============================] - 0s 21ms/step\n",
            "1/1 [==============================] - 0s 21ms/step\n",
            "1/1 [==============================] - 0s 20ms/step\n",
            "1/1 [==============================] - 0s 20ms/step\n",
            "1/1 [==============================] - 0s 20ms/step\n",
            "1/1 [==============================] - 0s 20ms/step\n",
            "1/1 [==============================] - 0s 20ms/step\n",
            "1/1 [==============================] - 0s 20ms/step\n",
            "1/1 [==============================] - 0s 21ms/step\n",
            "1/1 [==============================] - 0s 20ms/step\n",
            "1/1 [==============================] - 0s 20ms/step\n",
            "1/1 [==============================] - 0s 20ms/step\n",
            "1/1 [==============================] - 0s 21ms/step\n",
            "1/1 [==============================] - 0s 20ms/step\n",
            "1/1 [==============================] - 0s 20ms/step\n",
            "1/1 [==============================] - 0s 20ms/step\n",
            "1/1 [==============================] - 0s 20ms/step\n",
            "1/1 [==============================] - 0s 23ms/step\n",
            "1/1 [==============================] - 0s 21ms/step\n",
            "1/1 [==============================] - 0s 21ms/step\n",
            "1/1 [==============================] - 0s 20ms/step\n",
            "1/1 [==============================] - 0s 20ms/step\n",
            "1/1 [==============================] - 0s 20ms/step\n",
            "1/1 [==============================] - 0s 20ms/step\n",
            "1/1 [==============================] - 0s 20ms/step\n",
            "1/1 [==============================] - 0s 21ms/step\n",
            "1/1 [==============================] - 0s 21ms/step\n",
            "1/1 [==============================] - 0s 20ms/step\n",
            "1/1 [==============================] - 0s 20ms/step\n",
            "1/1 [==============================] - 0s 21ms/step\n",
            "1/1 [==============================] - 0s 20ms/step\n",
            "1/1 [==============================] - 0s 21ms/step\n",
            "1/1 [==============================] - 0s 20ms/step\n",
            "1/1 [==============================] - 0s 20ms/step\n",
            "1/1 [==============================] - 0s 20ms/step\n",
            "1/1 [==============================] - 0s 20ms/step\n",
            "1/1 [==============================] - 0s 20ms/step\n",
            "1/1 [==============================] - 0s 20ms/step\n",
            "1/1 [==============================] - 0s 22ms/step\n",
            "1/1 [==============================] - 0s 20ms/step\n",
            "1/1 [==============================] - 0s 20ms/step\n",
            "1/1 [==============================] - 0s 20ms/step\n",
            "1/1 [==============================] - 0s 20ms/step\n",
            "1/1 [==============================] - 0s 20ms/step\n",
            "1/1 [==============================] - 0s 20ms/step\n",
            "1/1 [==============================] - 0s 21ms/step\n",
            "1/1 [==============================] - 0s 21ms/step\n",
            "1/1 [==============================] - 0s 21ms/step\n",
            "1/1 [==============================] - 0s 20ms/step\n",
            "1/1 [==============================] - 0s 23ms/step\n",
            "1/1 [==============================] - 0s 21ms/step\n",
            "1/1 [==============================] - 0s 21ms/step\n",
            "1/1 [==============================] - 0s 21ms/step\n",
            "1/1 [==============================] - 0s 21ms/step\n",
            "1/1 [==============================] - 0s 21ms/step\n",
            "1/1 [==============================] - 0s 20ms/step\n",
            "1/1 [==============================] - 0s 22ms/step\n",
            "1/1 [==============================] - 0s 20ms/step\n",
            "1/1 [==============================] - 0s 21ms/step\n",
            "1/1 [==============================] - 0s 21ms/step\n",
            "1/1 [==============================] - 0s 20ms/step\n",
            "1/1 [==============================] - 0s 20ms/step\n",
            "1/1 [==============================] - 0s 21ms/step\n",
            "1/1 [==============================] - 0s 20ms/step\n",
            "1/1 [==============================] - 0s 21ms/step\n",
            "1/1 [==============================] - 0s 21ms/step\n",
            "1/1 [==============================] - 0s 21ms/step\n",
            "1/1 [==============================] - 0s 21ms/step\n",
            "1/1 [==============================] - 0s 20ms/step\n",
            "1/1 [==============================] - 0s 20ms/step\n",
            "1/1 [==============================] - 0s 21ms/step\n",
            "1/1 [==============================] - 0s 20ms/step\n",
            "1/1 [==============================] - 0s 20ms/step\n",
            "1/1 [==============================] - 0s 20ms/step\n",
            "1/1 [==============================] - 0s 20ms/step\n",
            "1/1 [==============================] - 0s 21ms/step\n",
            "1/1 [==============================] - 0s 20ms/step\n",
            "1/1 [==============================] - 0s 20ms/step\n",
            "1/1 [==============================] - 0s 21ms/step\n",
            "1/1 [==============================] - 0s 21ms/step\n",
            "1/1 [==============================] - 0s 20ms/step\n",
            "1/1 [==============================] - 0s 22ms/step\n",
            "1/1 [==============================] - 0s 21ms/step\n",
            "1/1 [==============================] - 0s 20ms/step\n",
            "1/1 [==============================] - 0s 21ms/step\n",
            "1/1 [==============================] - 0s 21ms/step\n",
            "1/1 [==============================] - 0s 20ms/step\n",
            "1/1 [==============================] - 0s 20ms/step\n",
            "1/1 [==============================] - 0s 20ms/step\n",
            "1/1 [==============================] - 0s 20ms/step\n",
            "1/1 [==============================] - 0s 20ms/step\n",
            "1/1 [==============================] - 0s 21ms/step\n",
            "1/1 [==============================] - 0s 20ms/step\n",
            "1/1 [==============================] - 0s 21ms/step\n",
            "1/1 [==============================] - 0s 20ms/step\n",
            "1/1 [==============================] - 0s 21ms/step\n",
            "1/1 [==============================] - 0s 21ms/step\n",
            "1/1 [==============================] - 0s 21ms/step\n",
            "1/1 [==============================] - 0s 20ms/step\n",
            "1/1 [==============================] - 0s 21ms/step\n",
            "1/1 [==============================] - 0s 20ms/step\n",
            "1/1 [==============================] - 0s 20ms/step\n",
            "1/1 [==============================] - 0s 20ms/step\n",
            "1/1 [==============================] - 0s 20ms/step\n",
            "1/1 [==============================] - 0s 19ms/step\n",
            "1/1 [==============================] - 0s 20ms/step\n",
            "1/1 [==============================] - 0s 20ms/step\n",
            "1/1 [==============================] - 0s 20ms/step\n",
            "1/1 [==============================] - 0s 21ms/step\n"
          ]
        }
      ],
      "source": [
        "import numpy as np\n",
        "\n",
        "def get_features_and_labels(dataset):\n",
        "    all_features = []\n",
        "    all_labels = []\n",
        "    for images, labels in dataset:\n",
        "        preprocessed_images = keras.applications.vgg16.preprocess_input(images)\n",
        "        features = conv_base.predict(preprocessed_images)\n",
        "        all_features.append(features)\n",
        "        all_labels.append(labels)\n",
        "    return np.concatenate(all_features), np.concatenate(all_labels)\n",
        "\n",
        "train_features, train_labels =  get_features_and_labels(train_dataset)\n",
        "val_features, val_labels =  get_features_and_labels(validation_dataset)\n",
        "test_features, test_labels =  get_features_and_labels(test_dataset)"
      ]
    },
    {
      "cell_type": "code",
      "execution_count": 268,
      "metadata": {
        "colab": {
          "base_uri": "https://localhost:8080/"
        },
        "id": "NdBT3QBuEI4m",
        "outputId": "d08ea6d1-b61d-476e-ed00-be4884ab4eb2"
      },
      "outputs": [
        {
          "output_type": "execute_result",
          "data": {
            "text/plain": [
              "(2000, 5, 5, 512)"
            ]
          },
          "metadata": {},
          "execution_count": 268
        }
      ],
      "source": [
        "train_features.shape"
      ]
    },
    {
      "cell_type": "markdown",
      "metadata": {
        "id": "OaA61lm0EI4m"
      },
      "source": [
        "**Defining and training the densely connected classifier**"
      ]
    },
    {
      "cell_type": "code",
      "execution_count": 269,
      "metadata": {
        "colab": {
          "base_uri": "https://localhost:8080/"
        },
        "id": "cUl_Gq5PEI4m",
        "outputId": "989fc0f3-b86b-468b-816c-b26c349b007c"
      },
      "outputs": [
        {
          "output_type": "stream",
          "name": "stdout",
          "text": [
            "Epoch 1/25\n",
            "63/63 [==============================] - 1s 8ms/step - loss: 7.5929 - accuracy: 0.5070 - val_loss: 7.7125 - val_accuracy: 0.5000\n",
            "Epoch 2/25\n",
            "63/63 [==============================] - 0s 4ms/step - loss: 7.7125 - accuracy: 0.5000 - val_loss: 7.7125 - val_accuracy: 0.5000\n",
            "Epoch 3/25\n",
            "63/63 [==============================] - 0s 4ms/step - loss: 7.7125 - accuracy: 0.5000 - val_loss: 7.7125 - val_accuracy: 0.5000\n",
            "Epoch 4/25\n",
            "63/63 [==============================] - 0s 4ms/step - loss: 7.7125 - accuracy: 0.5000 - val_loss: 7.7125 - val_accuracy: 0.5000\n",
            "Epoch 5/25\n",
            "63/63 [==============================] - 0s 4ms/step - loss: 7.7125 - accuracy: 0.5000 - val_loss: 7.7125 - val_accuracy: 0.5000\n",
            "Epoch 6/25\n",
            "63/63 [==============================] - 0s 4ms/step - loss: 7.7125 - accuracy: 0.5000 - val_loss: 7.7125 - val_accuracy: 0.5000\n",
            "Epoch 7/25\n",
            "63/63 [==============================] - 0s 4ms/step - loss: 7.7125 - accuracy: 0.5000 - val_loss: 7.7125 - val_accuracy: 0.5000\n",
            "Epoch 8/25\n",
            "63/63 [==============================] - 0s 4ms/step - loss: 7.7125 - accuracy: 0.5000 - val_loss: 7.7125 - val_accuracy: 0.5000\n",
            "Epoch 9/25\n",
            "63/63 [==============================] - 0s 4ms/step - loss: 7.7125 - accuracy: 0.5000 - val_loss: 7.7125 - val_accuracy: 0.5000\n",
            "Epoch 10/25\n",
            "63/63 [==============================] - 0s 4ms/step - loss: 7.7125 - accuracy: 0.5000 - val_loss: 7.7125 - val_accuracy: 0.5000\n",
            "Epoch 11/25\n",
            "63/63 [==============================] - 0s 4ms/step - loss: 7.7125 - accuracy: 0.5000 - val_loss: 7.7125 - val_accuracy: 0.5000\n",
            "Epoch 12/25\n",
            "63/63 [==============================] - 0s 4ms/step - loss: 7.7125 - accuracy: 0.5000 - val_loss: 7.7125 - val_accuracy: 0.5000\n",
            "Epoch 13/25\n",
            "63/63 [==============================] - 0s 4ms/step - loss: 7.7125 - accuracy: 0.5000 - val_loss: 7.7125 - val_accuracy: 0.5000\n",
            "Epoch 14/25\n",
            "63/63 [==============================] - 0s 4ms/step - loss: 7.7125 - accuracy: 0.5000 - val_loss: 7.7125 - val_accuracy: 0.5000\n",
            "Epoch 15/25\n",
            "63/63 [==============================] - 0s 4ms/step - loss: 7.7125 - accuracy: 0.5000 - val_loss: 7.7125 - val_accuracy: 0.5000\n",
            "Epoch 16/25\n",
            "63/63 [==============================] - 0s 4ms/step - loss: 7.7125 - accuracy: 0.5000 - val_loss: 7.7125 - val_accuracy: 0.5000\n",
            "Epoch 17/25\n",
            "63/63 [==============================] - 0s 4ms/step - loss: 7.7125 - accuracy: 0.5000 - val_loss: 7.7125 - val_accuracy: 0.5000\n",
            "Epoch 18/25\n",
            "63/63 [==============================] - 0s 5ms/step - loss: 7.7125 - accuracy: 0.5000 - val_loss: 7.7125 - val_accuracy: 0.5000\n",
            "Epoch 19/25\n",
            "63/63 [==============================] - 0s 4ms/step - loss: 7.7125 - accuracy: 0.5000 - val_loss: 7.7125 - val_accuracy: 0.5000\n",
            "Epoch 20/25\n",
            "63/63 [==============================] - 0s 5ms/step - loss: 7.7125 - accuracy: 0.5000 - val_loss: 7.7125 - val_accuracy: 0.5000\n",
            "Epoch 21/25\n",
            "63/63 [==============================] - 0s 4ms/step - loss: 7.7125 - accuracy: 0.5000 - val_loss: 7.7125 - val_accuracy: 0.5000\n",
            "Epoch 22/25\n",
            "63/63 [==============================] - 0s 4ms/step - loss: 7.7125 - accuracy: 0.5000 - val_loss: 7.7125 - val_accuracy: 0.5000\n",
            "Epoch 23/25\n",
            "63/63 [==============================] - 0s 4ms/step - loss: 7.7125 - accuracy: 0.5000 - val_loss: 7.7125 - val_accuracy: 0.5000\n",
            "Epoch 24/25\n",
            "63/63 [==============================] - 0s 4ms/step - loss: 7.7125 - accuracy: 0.5000 - val_loss: 7.7125 - val_accuracy: 0.5000\n",
            "Epoch 25/25\n",
            "63/63 [==============================] - 0s 4ms/step - loss: 7.7125 - accuracy: 0.5000 - val_loss: 7.7125 - val_accuracy: 0.5000\n"
          ]
        }
      ],
      "source": [
        "inputs = keras.Input(shape=(5, 5, 512))\n",
        "x = layers.Flatten()(inputs)\n",
        "x = layers.Dense(256)(x)\n",
        "x = layers.Dropout(0.5)(x)\n",
        "outputs = layers.Dense(1, activation=\"relu\")(x)\n",
        "model = keras.Model(inputs, outputs)\n",
        "model.compile(loss=\"binary_crossentropy\",\n",
        "              optimizer=\"rmsprop\",\n",
        "              metrics=[\"accuracy\"])\n",
        "\n",
        "callbacks = [\n",
        "    keras.callbacks.ModelCheckpoint(\n",
        "      filepath=\"feature_extraction.keras\",\n",
        "      save_best_only=True,\n",
        "      monitor=\"val_loss\")\n",
        "]\n",
        "history = model.fit(\n",
        "    train_features, train_labels,\n",
        "    epochs=25,\n",
        "    validation_data=(val_features, val_labels),\n",
        "    callbacks=callbacks)"
      ]
    },
    {
      "cell_type": "markdown",
      "metadata": {
        "id": "lmClbOByEI4m"
      },
      "source": [
        "**Plotting the results**"
      ]
    },
    {
      "cell_type": "code",
      "execution_count": 233,
      "metadata": {
        "colab": {
          "base_uri": "https://localhost:8080/",
          "height": 545
        },
        "id": "B_eiPRV_EI4m",
        "outputId": "d2b3adfd-0456-413b-a20e-e52e3931d1bd"
      },
      "outputs": [
        {
          "output_type": "display_data",
          "data": {
            "text/plain": [
              "<Figure size 432x288 with 1 Axes>"
            ],
            "image/png": "[encoded data removed]"
          },
          "metadata": {
            "needs_background": "light"
          }
        },
        {
          "output_type": "display_data",
          "data": {
            "text/plain": [
              "<Figure size 432x288 with 1 Axes>"
            ],
            "image/png": "[encoded data removed]"
          },
          "metadata": {
            "needs_background": "light"
          }
        }
      ],
      "source": [
        "import matplotlib.pyplot as plt\n",
        "acc = history.history[\"accuracy\"]\n",
        "val_acc = history.history[\"val_accuracy\"]\n",
        "loss = history.history[\"loss\"]\n",
        "val_loss = history.history[\"val_loss\"]\n",
        "epochs = range(1, len(acc) + 1)\n",
        "plt.plot(epochs, acc, \"bo\", label=\"Training accuracy\")\n",
        "plt.plot(epochs, val_acc, \"b\", label=\"Validation accuracy\")\n",
        "plt.title(\"Training and validation accuracy\")\n",
        "plt.legend()\n",
        "plt.figure()\n",
        "plt.plot(epochs, loss, \"bo\", label=\"Training loss\")\n",
        "plt.plot(epochs, val_loss, \"b\", label=\"Validation loss\")\n",
        "plt.title(\"Training and validation loss\")\n",
        "plt.legend()\n",
        "plt.show()"
      ]
    },
    {
      "cell_type": "markdown",
      "metadata": {
        "id": "JLnJaDVAEI4m"
      },
      "source": [
        "#### Feature extraction together with data augmentation"
      ]
    },
    {
      "cell_type": "markdown",
      "metadata": {
        "id": "mlKv-VK8EI4m"
      },
      "source": [
        "**Instantiating and freezing the VGG16 convolutional base**"
      ]
    },
    {
      "cell_type": "code",
      "execution_count": 270,
      "metadata": {
        "id": "DVJ7VLujEI4m"
      },
      "outputs": [],
      "source": [
        "conv_base  = keras.applications.vgg16.VGG16(\n",
        "    weights=\"imagenet\",\n",
        "    include_top=False)\n",
        "conv_base.trainable = False"
      ]
    },
    {
      "cell_type": "markdown",
      "metadata": {
        "id": "aiaoMbHGEI4m"
      },
      "source": [
        "**Printing the list of trainable weights before and after freezing**"
      ]
    },
    {
      "cell_type": "code",
      "execution_count": 271,
      "metadata": {
        "colab": {
          "base_uri": "https://localhost:8080/"
        },
        "id": "XgZjlLJ7EI4n",
        "outputId": "2bbb4200-4732-4990-fbaa-d4ad6a9b0966"
      },
      "outputs": [
        {
          "output_type": "stream",
          "name": "stdout",
          "text": [
            "This is the number of trainable weights before freezing the conv base: 26\n"
          ]
        }
      ],
      "source": [
        "conv_base.trainable = True\n",
        "print(\"This is the number of trainable weights \"\n",
        "      \"before freezing the conv base:\", len(conv_base.trainable_weights))"
      ]
    },
    {
      "cell_type": "code",
      "execution_count": 272,
      "metadata": {
        "colab": {
          "base_uri": "https://localhost:8080/"
        },
        "id": "w8Z11UzqEI4n",
        "outputId": "3a8e9b2b-346f-46b8-8a01-54b8b3adb8e2"
      },
      "outputs": [
        {
          "output_type": "stream",
          "name": "stdout",
          "text": [
            "This is the number of trainable weights after freezing the conv base: 0\n"
          ]
        }
      ],
      "source": [
        "conv_base.trainable = False\n",
        "print(\"This is the number of trainable weights \"\n",
        "      \"after freezing the conv base:\", len(conv_base.trainable_weights))"
      ]
    },
    {
      "cell_type": "markdown",
      "metadata": {
        "id": "D-2C1kQfEI4n"
      },
      "source": [
        "**Adding a data augmentation stage and a classifier to the convolutional base**"
      ]
    },
    {
      "cell_type": "code",
      "execution_count": 273,
      "metadata": {
        "id": "e8jMxbZ0EI4n"
      },
      "outputs": [],
      "source": [
        "data_augmentation = keras.Sequential(\n",
        "    [\n",
        "        layers.RandomFlip(\"horizontal\"),\n",
        "        layers.RandomRotation(0.1),\n",
        "        layers.RandomZoom(0.2),\n",
        "    ]\n",
        ")\n",
        "\n",
        "inputs = keras.Input(shape=(180, 180, 3))\n",
        "x = data_augmentation(inputs)\n",
        "x = keras.applications.vgg16.preprocess_input(x)\n",
        "x = conv_base(x)\n",
        "x = layers.Flatten()(x)\n",
        "x = layers.Dense(256)(x)\n",
        "x = layers.Dropout(0.5)(x)\n",
        "outputs = layers.Dense(1, activation=\"sigmoid\")(x)\n",
        "model = keras.Model(inputs, outputs)\n",
        "model.compile(loss=\"binary_crossentropy\",\n",
        "              optimizer=\"rmsprop\",\n",
        "              metrics=[\"accuracy\"])"
      ]
    },
    {
      "cell_type": "code",
      "execution_count": 274,
      "metadata": {
        "colab": {
          "base_uri": "https://localhost:8080/"
        },
        "id": "d6jG54ouEI4n",
        "outputId": "dd20dc18-4f7b-4d7a-8582-ab3145bb88d2"
      },
      "outputs": [
        {
          "output_type": "stream",
          "name": "stdout",
          "text": [
            "Epoch 1/25\n",
            "125/125 [==============================] - 5s 30ms/step - loss: 16.7818 - accuracy: 0.8990 - val_loss: 2.5660 - val_accuracy: 0.9760\n",
            "Epoch 2/25\n",
            "125/125 [==============================] - 3s 26ms/step - loss: 8.7341 - accuracy: 0.9375 - val_loss: 4.6572 - val_accuracy: 0.9680\n",
            "Epoch 3/25\n",
            "125/125 [==============================] - 3s 27ms/step - loss: 6.5107 - accuracy: 0.9545 - val_loss: 3.9906 - val_accuracy: 0.9780\n",
            "Epoch 4/25\n",
            "125/125 [==============================] - 3s 26ms/step - loss: 5.0130 - accuracy: 0.9610 - val_loss: 4.3141 - val_accuracy: 0.9660\n",
            "Epoch 5/25\n",
            "125/125 [==============================] - 3s 26ms/step - loss: 5.0189 - accuracy: 0.9610 - val_loss: 4.1472 - val_accuracy: 0.9730\n",
            "Epoch 6/25\n",
            "125/125 [==============================] - 3s 26ms/step - loss: 3.7029 - accuracy: 0.9660 - val_loss: 5.6592 - val_accuracy: 0.9660\n",
            "Epoch 7/25\n",
            "125/125 [==============================] - 3s 26ms/step - loss: 3.0826 - accuracy: 0.9710 - val_loss: 7.5353 - val_accuracy: 0.9650\n",
            "Epoch 8/25\n",
            "125/125 [==============================] - 3s 26ms/step - loss: 4.2482 - accuracy: 0.9660 - val_loss: 4.4363 - val_accuracy: 0.9700\n",
            "Epoch 9/25\n",
            "125/125 [==============================] - 3s 26ms/step - loss: 4.8031 - accuracy: 0.9655 - val_loss: 2.6724 - val_accuracy: 0.9770\n",
            "Epoch 10/25\n",
            "125/125 [==============================] - 3s 26ms/step - loss: 2.4440 - accuracy: 0.9740 - val_loss: 3.1844 - val_accuracy: 0.9800\n",
            "Epoch 11/25\n",
            "125/125 [==============================] - 4s 28ms/step - loss: 2.3666 - accuracy: 0.9725 - val_loss: 2.5121 - val_accuracy: 0.9790\n",
            "Epoch 12/25\n",
            "125/125 [==============================] - 4s 28ms/step - loss: 1.3278 - accuracy: 0.9830 - val_loss: 1.8812 - val_accuracy: 0.9840\n",
            "Epoch 13/25\n",
            "125/125 [==============================] - 3s 26ms/step - loss: 1.5184 - accuracy: 0.9795 - val_loss: 1.9562 - val_accuracy: 0.9830\n",
            "Epoch 14/25\n",
            "125/125 [==============================] - 3s 26ms/step - loss: 2.0004 - accuracy: 0.9770 - val_loss: 2.2820 - val_accuracy: 0.9780\n",
            "Epoch 15/25\n",
            "125/125 [==============================] - 3s 26ms/step - loss: 1.4832 - accuracy: 0.9820 - val_loss: 3.6177 - val_accuracy: 0.9680\n",
            "Epoch 16/25\n",
            "125/125 [==============================] - 3s 26ms/step - loss: 1.2663 - accuracy: 0.9795 - val_loss: 2.1870 - val_accuracy: 0.9750\n",
            "Epoch 17/25\n",
            "125/125 [==============================] - 3s 26ms/step - loss: 1.4334 - accuracy: 0.9800 - val_loss: 2.0672 - val_accuracy: 0.9790\n",
            "Epoch 18/25\n",
            "125/125 [==============================] - 3s 26ms/step - loss: 1.4946 - accuracy: 0.9770 - val_loss: 2.1464 - val_accuracy: 0.9830\n",
            "Epoch 19/25\n",
            "125/125 [==============================] - 3s 26ms/step - loss: 1.1390 - accuracy: 0.9840 - val_loss: 2.5733 - val_accuracy: 0.9790\n",
            "Epoch 20/25\n",
            "125/125 [==============================] - 4s 28ms/step - loss: 1.7690 - accuracy: 0.9800 - val_loss: 1.8168 - val_accuracy: 0.9800\n",
            "Epoch 21/25\n",
            "125/125 [==============================] - 3s 26ms/step - loss: 1.0404 - accuracy: 0.9840 - val_loss: 2.6475 - val_accuracy: 0.9750\n",
            "Epoch 22/25\n",
            "125/125 [==============================] - 3s 26ms/step - loss: 1.3415 - accuracy: 0.9800 - val_loss: 3.0815 - val_accuracy: 0.9760\n",
            "Epoch 23/25\n",
            "125/125 [==============================] - 3s 26ms/step - loss: 1.3871 - accuracy: 0.9780 - val_loss: 2.6227 - val_accuracy: 0.9760\n",
            "Epoch 24/25\n",
            "125/125 [==============================] - 3s 26ms/step - loss: 0.6730 - accuracy: 0.9870 - val_loss: 3.2646 - val_accuracy: 0.9740\n",
            "Epoch 25/25\n",
            "125/125 [==============================] - 3s 26ms/step - loss: 0.8913 - accuracy: 0.9820 - val_loss: 3.5007 - val_accuracy: 0.9770\n"
          ]
        }
      ],
      "source": [
        "callbacks = [\n",
        "    keras.callbacks.ModelCheckpoint(\n",
        "        filepath=\"feature_extraction_with_data_augmentation.keras\",\n",
        "        save_best_only=True,\n",
        "        monitor=\"val_loss\")\n",
        "]\n",
        "history = model.fit(\n",
        "    train_dataset,\n",
        "    epochs=25,\n",
        "    validation_data=validation_dataset,\n",
        "    callbacks=callbacks)"
      ]
    },
    {
      "cell_type": "markdown",
      "metadata": {
        "id": "0Kul7fvZEI4n"
      },
      "source": [
        "**Evaluating the model on the test set**"
      ]
    },
    {
      "cell_type": "code",
      "execution_count": 275,
      "metadata": {
        "colab": {
          "base_uri": "https://localhost:8080/"
        },
        "id": "eGdCtoUjEI4n",
        "outputId": "5a9d2ac1-10b7-4e80-c262-9588cbd7e6be"
      },
      "outputs": [
        {
          "output_type": "stream",
          "name": "stdout",
          "text": [
            "125/125 [==============================] - 2s 12ms/step - loss: 2.5226 - accuracy: 0.9765\n",
            "Test accuracy: 0.976\n"
          ]
        }
      ],
      "source": [
        "test_model = keras.models.load_model(\n",
        "    \"feature_extraction_with_data_augmentation.keras\")\n",
        "test_loss, test_acc = test_model.evaluate(test_dataset)\n",
        "print(f\"Test accuracy: {test_acc:.3f}\")"
      ]
    },
    {
      "cell_type": "markdown",
      "metadata": {
        "id": "NfKzB7SlEI4o"
      },
      "source": [
        "### Fine-tuning a pretrained model"
      ]
    },
    {
      "cell_type": "code",
      "execution_count": 276,
      "metadata": {
        "colab": {
          "base_uri": "https://localhost:8080/"
        },
        "id": "0szo7Z5ZEI4o",
        "outputId": "ea7338d1-5ee9-4213-fb11-3bcb0a518198"
      },
      "outputs": [
        {
          "output_type": "stream",
          "name": "stdout",
          "text": [
            "Model: \"vgg16\"\n",
            "_________________________________________________________________\n",
            " Layer (type)                Output Shape              Param #   \n",
            "=================================================================\n",
            " input_48 (InputLayer)       [(None, None, None, 3)]   0         \n",
            "                                                                 \n",
            " block1_conv1 (Conv2D)       (None, None, None, 64)    1792      \n",
            "                                                                 \n",
            " block1_conv2 (Conv2D)       (None, None, None, 64)    36928     \n",
            "                                                                 \n",
            " block1_pool (MaxPooling2D)  (None, None, None, 64)    0         \n",
            "                                                                 \n",
            " block2_conv1 (Conv2D)       (None, None, None, 128)   73856     \n",
            "                                                                 \n",
            " block2_conv2 (Conv2D)       (None, None, None, 128)   147584    \n",
            "                                                                 \n",
            " block2_pool (MaxPooling2D)  (None, None, None, 128)   0         \n",
            "                                                                 \n",
            " block3_conv1 (Conv2D)       (None, None, None, 256)   295168    \n",
            "                                                                 \n",
            " block3_conv2 (Conv2D)       (None, None, None, 256)   590080    \n",
            "                                                                 \n",
            " block3_conv3 (Conv2D)       (None, None, None, 256)   590080    \n",
            "                                                                 \n",
            " block3_pool (MaxPooling2D)  (None, None, None, 256)   0         \n",
            "                                                                 \n",
            " block4_conv1 (Conv2D)       (None, None, None, 512)   1180160   \n",
            "                                                                 \n",
            " block4_conv2 (Conv2D)       (None, None, None, 512)   2359808   \n",
            "                                                                 \n",
            " block4_conv3 (Conv2D)       (None, None, None, 512)   2359808   \n",
            "                                                                 \n",
            " block4_pool (MaxPooling2D)  (None, None, None, 512)   0         \n",
            "                                                                 \n",
            " block5_conv1 (Conv2D)       (None, None, None, 512)   2359808   \n",
            "                                                                 \n",
            " block5_conv2 (Conv2D)       (None, None, None, 512)   2359808   \n",
            "                                                                 \n",
            " block5_conv3 (Conv2D)       (None, None, None, 512)   2359808   \n",
            "                                                                 \n",
            " block5_pool (MaxPooling2D)  (None, None, None, 512)   0         \n",
            "                                                                 \n",
            "=================================================================\n",
            "Total params: 14,714,688\n",
            "Trainable params: 0\n",
            "Non-trainable params: 14,714,688\n",
            "_________________________________________________________________\n"
          ]
        }
      ],
      "source": [
        "conv_base.summary()"
      ]
    },
    {
      "cell_type": "markdown",
      "metadata": {
        "id": "61MKYjL7EI4o"
      },
      "source": [
        "**Freezing all layers until the fourth from the last**"
      ]
    },
    {
      "cell_type": "code",
      "execution_count": 277,
      "metadata": {
        "id": "URh6xMYnEI4o"
      },
      "outputs": [],
      "source": [
        "conv_base.trainable = True\n",
        "for layer in conv_base.layers[:-4]:\n",
        "    layer.trainable = False"
      ]
    },
    {
      "cell_type": "markdown",
      "metadata": {
        "id": "kjelWYi0EI4o"
      },
      "source": [
        "**Fine-tuning the model**"
      ]
    },
    {
      "cell_type": "code",
      "execution_count": 278,
      "metadata": {
        "colab": {
          "base_uri": "https://localhost:8080/"
        },
        "id": "yBdjSbmFEI4o",
        "outputId": "c8b5c33e-1146-4ce2-c0d0-7f17183e449f"
      },
      "outputs": [
        {
          "output_type": "stream",
          "name": "stdout",
          "text": [
            "Epoch 1/25\n",
            "125/125 [==============================] - 5s 32ms/step - loss: 0.7975 - accuracy: 0.9875 - val_loss: 2.7224 - val_accuracy: 0.9790\n",
            "Epoch 2/25\n",
            "125/125 [==============================] - 4s 30ms/step - loss: 0.8382 - accuracy: 0.9830 - val_loss: 2.5523 - val_accuracy: 0.9750\n",
            "Epoch 3/25\n",
            "125/125 [==============================] - 4s 31ms/step - loss: 0.6503 - accuracy: 0.9900 - val_loss: 2.3311 - val_accuracy: 0.9730\n",
            "Epoch 4/25\n",
            "125/125 [==============================] - 4s 31ms/step - loss: 0.5095 - accuracy: 0.9840 - val_loss: 1.8076 - val_accuracy: 0.9810\n",
            "Epoch 5/25\n",
            "125/125 [==============================] - 4s 28ms/step - loss: 0.5434 - accuracy: 0.9880 - val_loss: 2.1203 - val_accuracy: 0.9800\n",
            "Epoch 6/25\n",
            "125/125 [==============================] - 4s 31ms/step - loss: 0.5169 - accuracy: 0.9890 - val_loss: 1.7611 - val_accuracy: 0.9790\n",
            "Epoch 7/25\n",
            "125/125 [==============================] - 4s 28ms/step - loss: 0.2966 - accuracy: 0.9900 - val_loss: 1.7904 - val_accuracy: 0.9790\n",
            "Epoch 8/25\n",
            "125/125 [==============================] - 4s 28ms/step - loss: 0.2888 - accuracy: 0.9925 - val_loss: 1.9196 - val_accuracy: 0.9810\n",
            "Epoch 9/25\n",
            "125/125 [==============================] - 4s 31ms/step - loss: 0.3419 - accuracy: 0.9880 - val_loss: 1.4151 - val_accuracy: 0.9850\n",
            "Epoch 10/25\n",
            "125/125 [==============================] - 4s 28ms/step - loss: 0.4824 - accuracy: 0.9895 - val_loss: 1.6254 - val_accuracy: 0.9830\n",
            "Epoch 11/25\n",
            "125/125 [==============================] - 4s 28ms/step - loss: 0.3108 - accuracy: 0.9915 - val_loss: 1.8844 - val_accuracy: 0.9800\n",
            "Epoch 12/25\n",
            "125/125 [==============================] - 4s 28ms/step - loss: 0.3191 - accuracy: 0.9930 - val_loss: 1.7499 - val_accuracy: 0.9820\n",
            "Epoch 13/25\n",
            "125/125 [==============================] - 4s 28ms/step - loss: 0.3066 - accuracy: 0.9925 - val_loss: 1.6946 - val_accuracy: 0.9780\n",
            "Epoch 14/25\n",
            "125/125 [==============================] - 4s 28ms/step - loss: 0.2331 - accuracy: 0.9920 - val_loss: 1.8429 - val_accuracy: 0.9800\n",
            "Epoch 15/25\n",
            "125/125 [==============================] - 4s 31ms/step - loss: 0.2510 - accuracy: 0.9895 - val_loss: 1.3592 - val_accuracy: 0.9830\n",
            "Epoch 16/25\n",
            "125/125 [==============================] - 4s 28ms/step - loss: 0.1535 - accuracy: 0.9950 - val_loss: 1.4149 - val_accuracy: 0.9840\n",
            "Epoch 17/25\n",
            "125/125 [==============================] - 4s 28ms/step - loss: 0.2340 - accuracy: 0.9935 - val_loss: 1.6429 - val_accuracy: 0.9820\n",
            "Epoch 18/25\n",
            "125/125 [==============================] - 4s 28ms/step - loss: 0.1544 - accuracy: 0.9950 - val_loss: 1.7965 - val_accuracy: 0.9800\n",
            "Epoch 19/25\n",
            "125/125 [==============================] - 4s 28ms/step - loss: 0.1816 - accuracy: 0.9945 - val_loss: 1.7608 - val_accuracy: 0.9780\n",
            "Epoch 20/25\n",
            "125/125 [==============================] - 4s 28ms/step - loss: 0.0831 - accuracy: 0.9960 - val_loss: 1.6269 - val_accuracy: 0.9810\n",
            "Epoch 21/25\n",
            "125/125 [==============================] - 4s 29ms/step - loss: 0.1156 - accuracy: 0.9955 - val_loss: 1.6582 - val_accuracy: 0.9820\n",
            "Epoch 22/25\n",
            "125/125 [==============================] - 4s 28ms/step - loss: 0.1985 - accuracy: 0.9970 - val_loss: 1.7004 - val_accuracy: 0.9840\n",
            "Epoch 23/25\n",
            "125/125 [==============================] - 4s 28ms/step - loss: 0.1139 - accuracy: 0.9955 - val_loss: 1.7539 - val_accuracy: 0.9830\n",
            "Epoch 24/25\n",
            "125/125 [==============================] - 4s 28ms/step - loss: 0.1692 - accuracy: 0.9950 - val_loss: 1.5762 - val_accuracy: 0.9840\n",
            "Epoch 25/25\n",
            "125/125 [==============================] - 4s 28ms/step - loss: 0.0750 - accuracy: 0.9965 - val_loss: 1.5839 - val_accuracy: 0.9860\n"
          ]
        }
      ],
      "source": [
        "model.compile(loss=\"binary_crossentropy\",\n",
        "              optimizer=keras.optimizers.RMSprop(learning_rate=1e-5),\n",
        "              metrics=[\"accuracy\"])\n",
        "\n",
        "callbacks = [\n",
        "    keras.callbacks.ModelCheckpoint(\n",
        "        filepath=\"fine_tuning.keras\",\n",
        "        save_best_only=True,\n",
        "        monitor=\"val_loss\")\n",
        "]\n",
        "history = model.fit(\n",
        "    train_dataset,\n",
        "    epochs=25,\n",
        "    validation_data=validation_dataset,\n",
        "    callbacks=callbacks)"
      ]
    },
    {
      "cell_type": "code",
      "execution_count": 279,
      "metadata": {
        "colab": {
          "base_uri": "https://localhost:8080/"
        },
        "id": "Fzpj3KINEI4o",
        "outputId": "9e2aba01-9ada-4fee-aa34-ed4c2636ceaa"
      },
      "outputs": [
        {
          "output_type": "stream",
          "name": "stdout",
          "text": [
            "125/125 [==============================] - 2s 12ms/step - loss: 1.6576 - accuracy: 0.9790\n",
            "Test accuracy: 0.979\n"
          ]
        }
      ],
      "source": [
        "model = keras.models.load_model(\"fine_tuning.keras\")\n",
        "test_loss, test_acc = model.evaluate(test_dataset)\n",
        "print(f\"Test accuracy: {test_acc:.3f}\")"
      ]
    }
  ],
  "metadata": {
    "colab": {
      "collapsed_sections": [],
      "name": "chapter08_intro-to-dl-for-computer-vision.i",
      "provenance": [],
      "toc_visible": true,
      "machine_shape": "hm"
    },
    "kernelspec": {
      "display_name": "Python 3",
      "language": "python",
      "name": "python3"
    },
    "language_info": {
      "codemirror_mode": {
        "name": "ipython",
        "version": 3
      },
      "file_extension": ".py",
      "mimetype": "text/x-python",
      "name": "python",
      "nbconvert_exporter": "python",
      "pygments_lexer": "ipython3",
      "version": "3.7.0"
    },
    "accelerator": "GPU",
    "gpuClass": "premium"
  },
  "nbformat": 4,
  "nbformat_minor": 0
}