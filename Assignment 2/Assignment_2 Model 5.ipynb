{
  "cells": [
    {
      "cell_type": "markdown",
      "metadata": {
        "id": "wozxk6QEEI4Q"
      },
      "source": [
        "This is a companion notebook for the book [Deep Learning with Python, Second Edition](https://www.manning.com/books/deep-learning-with-python-second-edition?a_aid=keras&a_bid=76564dff). For readability, it only contains runnable code blocks and section titles, and omits everything else in the book: text paragraphs, figures, and pseudocode.\n",
        "\n",
        "**If you want to be able to follow what's going on, I recommend reading the notebook side by side with your copy of the book.**\n",
        "\n",
        "This notebook was generated for TensorFlow 2.6."
      ]
    },
    {
      "cell_type": "markdown",
      "metadata": {
        "id": "O8KI-8erEI4W"
      },
      "source": [
        "# Introduction to deep learning for computer vision"
      ]
    },
    {
      "cell_type": "markdown",
      "metadata": {
        "id": "e7p2OfIAEI4X"
      },
      "source": [
        "## Introduction to convnets"
      ]
    },
    {
      "cell_type": "markdown",
      "metadata": {
        "id": "rsry0p45EI4X"
      },
      "source": [
        "**Instantiating a small convnet**"
      ]
    },
    {
      "cell_type": "code",
      "execution_count": 14,
      "metadata": {
        "id": "7FNobmFaEI4Y"
      },
      "outputs": [],
      "source": [
        "from tensorflow import keras\n",
        "from tensorflow.keras import layers\n",
        "inputs = keras.Input(shape=(28, 28, 1))\n",
        "x = layers.Conv2D(filters=32, kernel_size=3, activation=\"relu\")(inputs)\n",
        "x = layers.MaxPooling2D(pool_size=2)(x)\n",
        "x = layers.Conv2D(filters=64, kernel_size=3, activation=\"relu\")(x)\n",
        "x = layers.MaxPooling2D(pool_size=2)(x)\n",
        "x = layers.Conv2D(filters=128, kernel_size=3, activation=\"relu\")(x)\n",
        "x = layers.Flatten()(x)\n",
        "outputs = layers.Dense(10, activation=\"softmax\")(x)\n",
        "model = keras.Model(inputs=inputs, outputs=outputs)"
      ]
    },
    {
      "cell_type": "markdown",
      "metadata": {
        "id": "vdhQrmeiEI4Z"
      },
      "source": [
        "**Displaying the model's summary**"
      ]
    },
    {
      "cell_type": "code",
      "execution_count": 2,
      "metadata": {
        "colab": {
          "base_uri": "https://localhost:8080/"
        },
        "id": "QxLvVpbzEI4a",
        "outputId": "1a1af77d-942d-4d71-ffe8-361823d2aea0"
      },
      "outputs": [
        {
          "output_type": "stream",
          "name": "stdout",
          "text": [
            "Model: \"model\"\n",
            "_________________________________________________________________\n",
            " Layer (type)                Output Shape              Param #   \n",
            "=================================================================\n",
            " input_1 (InputLayer)        [(None, 28, 28, 1)]       0         \n",
            "                                                                 \n",
            " conv2d (Conv2D)             (None, 26, 26, 32)        320       \n",
            "                                                                 \n",
            " max_pooling2d (MaxPooling2D  (None, 13, 13, 32)       0         \n",
            " )                                                               \n",
            "                                                                 \n",
            " conv2d_1 (Conv2D)           (None, 11, 11, 64)        18496     \n",
            "                                                                 \n",
            " max_pooling2d_1 (MaxPooling  (None, 5, 5, 64)         0         \n",
            " 2D)                                                             \n",
            "                                                                 \n",
            " conv2d_2 (Conv2D)           (None, 3, 3, 128)         73856     \n",
            "                                                                 \n",
            " flatten (Flatten)           (None, 1152)              0         \n",
            "                                                                 \n",
            " dense (Dense)               (None, 10)                11530     \n",
            "                                                                 \n",
            "=================================================================\n",
            "Total params: 104,202\n",
            "Trainable params: 104,202\n",
            "Non-trainable params: 0\n",
            "_________________________________________________________________\n"
          ]
        }
      ],
      "source": [
        "model.summary()"
      ]
    },
    {
      "cell_type": "markdown",
      "metadata": {
        "id": "QoiYHzRcEI4a"
      },
      "source": [
        "**Training the convnet on MNIST images**"
      ]
    },
    {
      "cell_type": "code",
      "execution_count": 15,
      "metadata": {
        "colab": {
          "base_uri": "https://localhost:8080/"
        },
        "id": "nKOqLP4BEI4b",
        "outputId": "f3b92df8-ba93-42e7-af4f-b2e3923d5742"
      },
      "outputs": [
        {
          "output_type": "stream",
          "name": "stdout",
          "text": [
            "Epoch 1/5\n",
            "938/938 [==============================] - 4s 4ms/step - loss: 0.1575 - accuracy: 0.9504\n",
            "Epoch 2/5\n",
            "938/938 [==============================] - 3s 4ms/step - loss: 0.0436 - accuracy: 0.9866\n",
            "Epoch 3/5\n",
            "938/938 [==============================] - 3s 4ms/step - loss: 0.0296 - accuracy: 0.9905\n",
            "Epoch 4/5\n",
            "938/938 [==============================] - 3s 4ms/step - loss: 0.0230 - accuracy: 0.9934\n",
            "Epoch 5/5\n",
            "938/938 [==============================] - 3s 4ms/step - loss: 0.0176 - accuracy: 0.9951\n"
          ]
        },
        {
          "output_type": "execute_result",
          "data": {
            "text/plain": [
              "<keras.callbacks.History at 0x7f47c7fe3790>"
            ]
          },
          "metadata": {},
          "execution_count": 15
        }
      ],
      "source": [
        "from tensorflow.keras.datasets import mnist\n",
        "\n",
        "(train_images, train_labels), (test_images, test_labels) = mnist.load_data()\n",
        "train_images = train_images.reshape((60000, 28, 28, 1))\n",
        "train_images = train_images.astype(\"float32\") / 255\n",
        "test_images = test_images.reshape((10000, 28, 28, 1))\n",
        "test_images = test_images.astype(\"float32\") / 255\n",
        "model.compile(optimizer=\"rmsprop\",\n",
        "    loss=\"sparse_categorical_crossentropy\",\n",
        "    metrics=[\"accuracy\"])\n",
        "model.fit(train_images, train_labels, epochs=5, batch_size=64)"
      ]
    },
    {
      "cell_type": "markdown",
      "metadata": {
        "id": "A-lAg-gCEI4c"
      },
      "source": [
        "**Evaluating the convnet**"
      ]
    },
    {
      "cell_type": "code",
      "execution_count": 16,
      "metadata": {
        "colab": {
          "base_uri": "https://localhost:8080/"
        },
        "id": "U-F2vu08EI4c",
        "outputId": "da29a93b-56d7-4376-ce81-c23623dbb3a8"
      },
      "outputs": [
        {
          "output_type": "stream",
          "name": "stdout",
          "text": [
            "313/313 [==============================] - 1s 2ms/step - loss: 0.0375 - accuracy: 0.9889\n",
            "Test accuracy: 0.989\n"
          ]
        }
      ],
      "source": [
        "test_loss, test_acc = model.evaluate(test_images, test_labels)\n",
        "print(f\"Test accuracy: {test_acc:.3f}\")"
      ]
    },
    {
      "cell_type": "markdown",
      "metadata": {
        "id": "eK02CmdjEI4c"
      },
      "source": [
        "### The convolution operation"
      ]
    },
    {
      "cell_type": "markdown",
      "metadata": {
        "id": "RmpS2UrZEI4d"
      },
      "source": [
        "#### Understanding border effects and padding"
      ]
    },
    {
      "cell_type": "markdown",
      "metadata": {
        "id": "a5ytwQdAEI4d"
      },
      "source": [
        "#### Understanding convolution strides"
      ]
    },
    {
      "cell_type": "markdown",
      "metadata": {
        "id": "GW6wZPy0EI4e"
      },
      "source": [
        "### The max-pooling operation"
      ]
    },
    {
      "cell_type": "markdown",
      "metadata": {
        "id": "a_tkSGBCEI4e"
      },
      "source": [
        "**An incorrectly structured convnet missing its max-pooling layers**"
      ]
    },
    {
      "cell_type": "code",
      "execution_count": 17,
      "metadata": {
        "id": "fyeFOlrIEI4e"
      },
      "outputs": [],
      "source": [
        "inputs = keras.Input(shape=(28, 28, 1))\n",
        "x = layers.Conv2D(filters=32, kernel_size=3, activation=\"relu\")(inputs)\n",
        "x = layers.Conv2D(filters=64, kernel_size=3, activation=\"relu\")(x)\n",
        "x = layers.Conv2D(filters=128, kernel_size=3, activation=\"relu\")(x)\n",
        "x = layers.Flatten()(x)\n",
        "outputs = layers.Dense(10, activation=\"softmax\")(x)\n",
        "model_no_max_pool = keras.Model(inputs=inputs, outputs=outputs)"
      ]
    },
    {
      "cell_type": "code",
      "execution_count": 18,
      "metadata": {
        "colab": {
          "base_uri": "https://localhost:8080/"
        },
        "id": "e_3nO34MEI4f",
        "outputId": "ecc37460-93b4-4bb9-8f29-196d5ad4d0a5"
      },
      "outputs": [
        {
          "output_type": "stream",
          "name": "stdout",
          "text": [
            "Model: \"model_3\"\n",
            "_________________________________________________________________\n",
            " Layer (type)                Output Shape              Param #   \n",
            "=================================================================\n",
            " input_4 (InputLayer)        [(None, 28, 28, 1)]       0         \n",
            "                                                                 \n",
            " conv2d_9 (Conv2D)           (None, 26, 26, 32)        320       \n",
            "                                                                 \n",
            " conv2d_10 (Conv2D)          (None, 24, 24, 64)        18496     \n",
            "                                                                 \n",
            " conv2d_11 (Conv2D)          (None, 22, 22, 128)       73856     \n",
            "                                                                 \n",
            " flatten_3 (Flatten)         (None, 61952)             0         \n",
            "                                                                 \n",
            " dense_3 (Dense)             (None, 10)                619530    \n",
            "                                                                 \n",
            "=================================================================\n",
            "Total params: 712,202\n",
            "Trainable params: 712,202\n",
            "Non-trainable params: 0\n",
            "_________________________________________________________________\n"
          ]
        }
      ],
      "source": [
        "model_no_max_pool.summary()"
      ]
    },
    {
      "cell_type": "markdown",
      "metadata": {
        "id": "KDLjFf-XEI4f"
      },
      "source": [
        "## Training a convnet from scratch on a small dataset"
      ]
    },
    {
      "cell_type": "markdown",
      "metadata": {
        "id": "tDCdHKfQEI4f"
      },
      "source": [
        "### The relevance of deep learning for small-data problems"
      ]
    },
    {
      "cell_type": "markdown",
      "metadata": {
        "id": "LlwppZy0EI4f"
      },
      "source": [
        "### Downloading the data"
      ]
    },
    {
      "cell_type": "code",
      "execution_count": 19,
      "metadata": {
        "colab": {
          "base_uri": "https://localhost:8080/",
          "height": 92
        },
        "id": "YqtT_RnVEI4g",
        "outputId": "17a2b963-36ce-4253-9a96-3cf57f74f89f"
      },
      "outputs": [
        {
          "output_type": "display_data",
          "data": {
            "text/plain": [
              "<IPython.core.display.HTML object>"
            ],
            "text/html": [
              "\n",
              "     <input type=\"file\" id=\"files-505c2fcd-d694-4f6c-8c3c-7cd72d716e87\" name=\"files[]\" multiple disabled\n",
              "        style=\"border:none\" />\n",
              "     <output id=\"result-505c2fcd-d694-4f6c-8c3c-7cd72d716e87\">\n",
              "      Upload widget is only available when the cell has been executed in the\n",
              "      current browser session. Please rerun this cell to enable.\n",
              "      </output>\n",
              "      <script>// Copyright 2017 Google LLC\n",
              "//\n",
              "// Licensed under the Apache License, Version 2.0 (the \"License\");\n",
              "// you may not use this file except in compliance with the License.\n",
              "// You may obtain a copy of the License at\n",
              "//\n",
              "//      http://www.apache.org/licenses/LICENSE-2.0\n",
              "//\n",
              "// Unless required by applicable law or agreed to in writing, software\n",
              "// distributed under the License is distributed on an \"AS IS\" BASIS,\n",
              "// WITHOUT WARRANTIES OR CONDITIONS OF ANY KIND, either express or implied.\n",
              "// See the License for the specific language governing permissions and\n",
              "// limitations under the License.\n",
              "\n",
              "/**\n",
              " * @fileoverview Helpers for google.colab Python module.\n",
              " */\n",
              "(function(scope) {\n",
              "function span(text, styleAttributes = {}) {\n",
              "  const element = document.createElement('span');\n",
              "  element.textContent = text;\n",
              "  for (const key of Object.keys(styleAttributes)) {\n",
              "    element.style[key] = styleAttributes[key];\n",
              "  }\n",
              "  return element;\n",
              "}\n",
              "\n",
              "// Max number of bytes which will be uploaded at a time.\n",
              "const MAX_PAYLOAD_SIZE = 100 * 1024;\n",
              "\n",
              "function _uploadFiles(inputId, outputId) {\n",
              "  const steps = uploadFilesStep(inputId, outputId);\n",
              "  const outputElement = document.getElementById(outputId);\n",
              "  // Cache steps on the outputElement to make it available for the next call\n",
              "  // to uploadFilesContinue from Python.\n",
              "  outputElement.steps = steps;\n",
              "\n",
              "  return _uploadFilesContinue(outputId);\n",
              "}\n",
              "\n",
              "// This is roughly an async generator (not supported in the browser yet),\n",
              "// where there are multiple asynchronous steps and the Python side is going\n",
              "// to poll for completion of each step.\n",
              "// This uses a Promise to block the python side on completion of each step,\n",
              "// then passes the result of the previous step as the input to the next step.\n",
              "function _uploadFilesContinue(outputId) {\n",
              "  const outputElement = document.getElementById(outputId);\n",
              "  const steps = outputElement.steps;\n",
              "\n",
              "  const next = steps.next(outputElement.lastPromiseValue);\n",
              "  return Promise.resolve(next.value.promise).then((value) => {\n",
              "    // Cache the last promise value to make it available to the next\n",
              "    // step of the generator.\n",
              "    outputElement.lastPromiseValue = value;\n",
              "    return next.value.response;\n",
              "  });\n",
              "}\n",
              "\n",
              "/**\n",
              " * Generator function which is called between each async step of the upload\n",
              " * process.\n",
              " * @param {string} inputId Element ID of the input file picker element.\n",
              " * @param {string} outputId Element ID of the output display.\n",
              " * @return {!Iterable<!Object>} Iterable of next steps.\n",
              " */\n",
              "function* uploadFilesStep(inputId, outputId) {\n",
              "  const inputElement = document.getElementById(inputId);\n",
              "  inputElement.disabled = false;\n",
              "\n",
              "  const outputElement = document.getElementById(outputId);\n",
              "  outputElement.innerHTML = '';\n",
              "\n",
              "  const pickedPromise = new Promise((resolve) => {\n",
              "    inputElement.addEventListener('change', (e) => {\n",
              "      resolve(e.target.files);\n",
              "    });\n",
              "  });\n",
              "\n",
              "  const cancel = document.createElement('button');\n",
              "  inputElement.parentElement.appendChild(cancel);\n",
              "  cancel.textContent = 'Cancel upload';\n",
              "  const cancelPromise = new Promise((resolve) => {\n",
              "    cancel.onclick = () => {\n",
              "      resolve(null);\n",
              "    };\n",
              "  });\n",
              "\n",
              "  // Wait for the user to pick the files.\n",
              "  const files = yield {\n",
              "    promise: Promise.race([pickedPromise, cancelPromise]),\n",
              "    response: {\n",
              "      action: 'starting',\n",
              "    }\n",
              "  };\n",
              "\n",
              "  cancel.remove();\n",
              "\n",
              "  // Disable the input element since further picks are not allowed.\n",
              "  inputElement.disabled = true;\n",
              "\n",
              "  if (!files) {\n",
              "    return {\n",
              "      response: {\n",
              "        action: 'complete',\n",
              "      }\n",
              "    };\n",
              "  }\n",
              "\n",
              "  for (const file of files) {\n",
              "    const li = document.createElement('li');\n",
              "    li.append(span(file.name, {fontWeight: 'bold'}));\n",
              "    li.append(span(\n",
              "        `(${file.type || 'n/a'}) - ${file.size} bytes, ` +\n",
              "        `last modified: ${\n",
              "            file.lastModifiedDate ? file.lastModifiedDate.toLocaleDateString() :\n",
              "                                    'n/a'} - `));\n",
              "    const percent = span('0% done');\n",
              "    li.appendChild(percent);\n",
              "\n",
              "    outputElement.appendChild(li);\n",
              "\n",
              "    const fileDataPromise = new Promise((resolve) => {\n",
              "      const reader = new FileReader();\n",
              "      reader.onload = (e) => {\n",
              "        resolve(e.target.result);\n",
              "      };\n",
              "      reader.readAsArrayBuffer(file);\n",
              "    });\n",
              "    // Wait for the data to be ready.\n",
              "    let fileData = yield {\n",
              "      promise: fileDataPromise,\n",
              "      response: {\n",
              "        action: 'continue',\n",
              "      }\n",
              "    };\n",
              "\n",
              "    // Use a chunked sending to avoid message size limits. See b/62115660.\n",
              "    let position = 0;\n",
              "    do {\n",
              "      const length = Math.min(fileData.byteLength - position, MAX_PAYLOAD_SIZE);\n",
              "      const chunk = new Uint8Array(fileData, position, length);\n",
              "      position += length;\n",
              "\n",
              "      const base64 = btoa(String.fromCharCode.apply(null, chunk));\n",
              "      yield {\n",
              "        response: {\n",
              "          action: 'append',\n",
              "          file: file.name,\n",
              "          data: base64,\n",
              "        },\n",
              "      };\n",
              "\n",
              "      let percentDone = fileData.byteLength === 0 ?\n",
              "          100 :\n",
              "          Math.round((position / fileData.byteLength) * 100);\n",
              "      percent.textContent = `${percentDone}% done`;\n",
              "\n",
              "    } while (position < fileData.byteLength);\n",
              "  }\n",
              "\n",
              "  // All done.\n",
              "  yield {\n",
              "    response: {\n",
              "      action: 'complete',\n",
              "    }\n",
              "  };\n",
              "}\n",
              "\n",
              "scope.google = scope.google || {};\n",
              "scope.google.colab = scope.google.colab || {};\n",
              "scope.google.colab._files = {\n",
              "  _uploadFiles,\n",
              "  _uploadFilesContinue,\n",
              "};\n",
              "})(self);\n",
              "</script> "
            ]
          },
          "metadata": {}
        },
        {
          "output_type": "stream",
          "name": "stdout",
          "text": [
            "Saving dogs-vs-cats.zip to dogs-vs-cats.zip\n"
          ]
        }
      ],
      "source": [
        "from google.colab import files\n",
        "files.upload()"
      ]
    },
    {
      "cell_type": "code",
      "execution_count": 63,
      "metadata": {
        "colab": {
          "base_uri": "https://localhost:8080/"
        },
        "id": "9fHORyRiEI4g",
        "outputId": "f4825e86-c298-4e9a-972a-88868f0c7693"
      },
      "outputs": [
        {
          "output_type": "stream",
          "name": "stdout",
          "text": [
            "replace sampleSubmission.csv? [y]es, [n]o, [A]ll, [N]one, [r]ename: replace train/cat.0.jpg? [y]es, [n]o, [A]ll, [N]one, [r]ename: replace test1/1.jpg? [y]es, [n]o, [A]ll, [N]one, [r]ename: "
          ]
        }
      ],
      "source": [
        "!unzip -qq dogs-vs-cats.zip\n",
        "!unzip -qq train.zip\n",
        "!unzip -qq test1.zip"
      ]
    },
    {
      "cell_type": "markdown",
      "metadata": {
        "id": "wH0bpDp4EI4g"
      },
      "source": [
        "**Copying images to training, validation, and test directories**"
      ]
    },
    {
      "cell_type": "code",
      "execution_count": 320,
      "metadata": {
        "id": "w77WPlkAEI4g"
      },
      "outputs": [],
      "source": [
        "import os, shutil, pathlib\n",
        "\n",
        "original_dir = pathlib.Path(\"train\")\n",
        "new_base_dir = pathlib.Path(\"cats_vs_dogs_small\")\n",
        "\n",
        "def make_subset(subset_name, start_index, end_index):\n",
        "    for category in (\"cat\", \"dog\"):\n",
        "        dir = new_base_dir / subset_name / category\n",
        "        fnames = [f\"{category}.{i}.jpg\" for i in range(start_index, end_index)]\n",
        "        for fname in fnames:\n",
        "            shutil.copyfile(src=original_dir / fname,\n",
        "                            dst=dir / fname)\n",
        "\n",
        "make_subset(\"train\", start_index=0, end_index=1000)\n",
        "make_subset(\"validation\", start_index=1000, end_index=1500)\n",
        "make_subset(\"test\", start_index=1500, end_index=2500)"
      ]
    },
    {
      "cell_type": "markdown",
      "metadata": {
        "id": "FmsUfnz9EI4h"
      },
      "source": [
        "### Building the model"
      ]
    },
    {
      "cell_type": "markdown",
      "metadata": {
        "id": "fwaZkv5rEI4h"
      },
      "source": [
        "**Instantiating a small convnet for dogs vs. cats classification**"
      ]
    },
    {
      "cell_type": "code",
      "execution_count": 282,
      "metadata": {
        "id": "6obpJltiEI4h"
      },
      "outputs": [],
      "source": [
        "from tensorflow import keras\n",
        "from tensorflow.keras import layers\n",
        "\n",
        "inputs = keras.Input(shape=(180, 180, 3))\n",
        "x = layers.Rescaling(1./255)(inputs)\n",
        "x = layers.Conv2D(filters=64, kernel_size=3, activation=\"relu\")(x)\n",
        "x = layers.MaxPooling2D(pool_size=2)(x)\n",
        "x = layers.Conv2D(filters=64, kernel_size=3, activation=\"relu\")(x)\n",
        "x = layers.MaxPooling2D(pool_size=2)(x)\n",
        "x = layers.Conv2D(filters=256, kernel_size=3, activation=\"relu\")(x)\n",
        "x = layers.MaxPooling2D(pool_size=2)(x)\n",
        "x = layers.Conv2D(filters=512, kernel_size=3, activation=\"relu\")(x)\n",
        "x = layers.MaxPooling2D(pool_size=2)(x)\n",
        "x = layers.Conv2D(filters=512, kernel_size=3, activation=\"relu\")(x)\n",
        "x = layers.Flatten()(x)\n",
        "outputs = layers.Dense(1, activation=\"sigmoid\")(x)\n",
        "model = keras.Model(inputs=inputs, outputs=outputs)"
      ]
    },
    {
      "cell_type": "code",
      "execution_count": 283,
      "metadata": {
        "colab": {
          "base_uri": "https://localhost:8080/"
        },
        "id": "_Is0ASvLEI4h",
        "outputId": "87d1a098-e027-4bf8-cd95-cca79cea6a0b"
      },
      "outputs": [
        {
          "output_type": "stream",
          "name": "stdout",
          "text": [
            "Model: \"model_35\"\n",
            "_________________________________________________________________\n",
            " Layer (type)                Output Shape              Param #   \n",
            "=================================================================\n",
            " input_50 (InputLayer)       [(None, 180, 180, 3)]     0         \n",
            "                                                                 \n",
            " rescaling_17 (Rescaling)    (None, 180, 180, 3)       0         \n",
            "                                                                 \n",
            " conv2d_97 (Conv2D)          (None, 178, 178, 64)      1792      \n",
            "                                                                 \n",
            " max_pooling2d_72 (MaxPoolin  (None, 89, 89, 64)       0         \n",
            " g2D)                                                            \n",
            "                                                                 \n",
            " conv2d_98 (Conv2D)          (None, 87, 87, 64)        36928     \n",
            "                                                                 \n",
            " max_pooling2d_73 (MaxPoolin  (None, 43, 43, 64)       0         \n",
            " g2D)                                                            \n",
            "                                                                 \n",
            " conv2d_99 (Conv2D)          (None, 41, 41, 256)       147712    \n",
            "                                                                 \n",
            " max_pooling2d_74 (MaxPoolin  (None, 20, 20, 256)      0         \n",
            " g2D)                                                            \n",
            "                                                                 \n",
            " conv2d_100 (Conv2D)         (None, 18, 18, 512)       1180160   \n",
            "                                                                 \n",
            " max_pooling2d_75 (MaxPoolin  (None, 9, 9, 512)        0         \n",
            " g2D)                                                            \n",
            "                                                                 \n",
            " conv2d_101 (Conv2D)         (None, 7, 7, 512)         2359808   \n",
            "                                                                 \n",
            " flatten_35 (Flatten)        (None, 25088)             0         \n",
            "                                                                 \n",
            " dense_49 (Dense)            (None, 1)                 25089     \n",
            "                                                                 \n",
            "=================================================================\n",
            "Total params: 3,751,489\n",
            "Trainable params: 3,751,489\n",
            "Non-trainable params: 0\n",
            "_________________________________________________________________\n"
          ]
        }
      ],
      "source": [
        "model.summary()"
      ]
    },
    {
      "cell_type": "markdown",
      "metadata": {
        "id": "LmLBsZiFEI4h"
      },
      "source": [
        "**Configuring the model for training**"
      ]
    },
    {
      "cell_type": "code",
      "execution_count": 284,
      "metadata": {
        "id": "KxVwOCTBEI4i"
      },
      "outputs": [],
      "source": [
        "model.compile(loss=\"binary_crossentropy\",\n",
        "              optimizer=\"rmsprop\",\n",
        "              metrics=[\"accuracy\"])"
      ]
    },
    {
      "cell_type": "markdown",
      "metadata": {
        "id": "zSMbQetgEI4i"
      },
      "source": [
        "### Data preprocessing"
      ]
    },
    {
      "cell_type": "markdown",
      "metadata": {
        "id": "vQD99lnrEI4i"
      },
      "source": [
        "**Using `image_dataset_from_directory` to read images**"
      ]
    },
    {
      "cell_type": "code",
      "execution_count": 285,
      "metadata": {
        "colab": {
          "base_uri": "https://localhost:8080/"
        },
        "id": "TGDvbQg9EI4i",
        "outputId": "34108b66-d986-4659-dddb-8e136f737e9f"
      },
      "outputs": [
        {
          "output_type": "stream",
          "name": "stdout",
          "text": [
            "Found 2000 files belonging to 2 classes.\n",
            "Found 1000 files belonging to 2 classes.\n",
            "Found 2000 files belonging to 2 classes.\n"
          ]
        }
      ],
      "source": [
        "from tensorflow.keras.utils import image_dataset_from_directory\n",
        "\n",
        "train_dataset = image_dataset_from_directory(\n",
        "    new_base_dir / \"train\",\n",
        "    image_size=(180, 180),\n",
        "    batch_size=16)\n",
        "validation_dataset = image_dataset_from_directory(\n",
        "    new_base_dir / \"validation\",\n",
        "    image_size=(180, 180),\n",
        "    batch_size=16)\n",
        "test_dataset = image_dataset_from_directory(\n",
        "    new_base_dir / \"test\",\n",
        "    image_size=(180, 180),\n",
        "    batch_size=16)"
      ]
    },
    {
      "cell_type": "code",
      "execution_count": 286,
      "metadata": {
        "id": "KFalVzGdEI4i"
      },
      "outputs": [],
      "source": [
        "import numpy as np\n",
        "import tensorflow as tf\n",
        "random_numbers = np.random.normal(size=(1000, 16))\n",
        "dataset = tf.data.Dataset.from_tensor_slices(random_numbers)"
      ]
    },
    {
      "cell_type": "code",
      "execution_count": 287,
      "metadata": {
        "colab": {
          "base_uri": "https://localhost:8080/"
        },
        "id": "PM601YIbEI4i",
        "outputId": "0fe0d633-0041-4d4f-8f95-42288a0fdf02"
      },
      "outputs": [
        {
          "output_type": "stream",
          "name": "stdout",
          "text": [
            "(16,)\n",
            "(16,)\n",
            "(16,)\n"
          ]
        }
      ],
      "source": [
        "for i, element in enumerate(dataset):\n",
        "    print(element.shape)\n",
        "    if i >= 2:\n",
        "        break"
      ]
    },
    {
      "cell_type": "code",
      "execution_count": 288,
      "metadata": {
        "colab": {
          "base_uri": "https://localhost:8080/"
        },
        "id": "GBUF3PTCEI4j",
        "outputId": "b3353613-38ee-415b-fe08-eda9cd80b2ab"
      },
      "outputs": [
        {
          "output_type": "stream",
          "name": "stdout",
          "text": [
            "(16, 16)\n",
            "(16, 16)\n",
            "(16, 16)\n"
          ]
        }
      ],
      "source": [
        "batched_dataset = dataset.batch(16)\n",
        "for i, element in enumerate(batched_dataset):\n",
        "    print(element.shape)\n",
        "    if i >= 2:\n",
        "        break"
      ]
    },
    {
      "cell_type": "code",
      "execution_count": 289,
      "metadata": {
        "colab": {
          "base_uri": "https://localhost:8080/"
        },
        "id": "jRboDJc9EI4j",
        "outputId": "f9a4f71d-8585-4380-cd69-181df0d4fe51"
      },
      "outputs": [
        {
          "output_type": "stream",
          "name": "stdout",
          "text": [
            "(4, 4)\n",
            "(4, 4)\n",
            "(4, 4)\n"
          ]
        }
      ],
      "source": [
        "reshaped_dataset = dataset.map(lambda x: tf.reshape(x, (4, 4)))\n",
        "for i, element in enumerate(reshaped_dataset):\n",
        "    print(element.shape)\n",
        "    if i >= 2:\n",
        "        break"
      ]
    },
    {
      "cell_type": "markdown",
      "metadata": {
        "id": "dcAHZKzVEI4j"
      },
      "source": [
        "**Displaying the shapes of the data and labels yielded by the `Dataset`**"
      ]
    },
    {
      "cell_type": "code",
      "execution_count": 290,
      "metadata": {
        "colab": {
          "base_uri": "https://localhost:8080/"
        },
        "id": "zetqdIP9EI4j",
        "outputId": "485aecaf-1621-42aa-e2d1-004a6a4cd4ea"
      },
      "outputs": [
        {
          "output_type": "stream",
          "name": "stdout",
          "text": [
            "data batch shape: (16, 180, 180, 3)\n",
            "labels batch shape: (16,)\n"
          ]
        }
      ],
      "source": [
        "for data_batch, labels_batch in train_dataset:\n",
        "    print(\"data batch shape:\", data_batch.shape)\n",
        "    print(\"labels batch shape:\", labels_batch.shape)\n",
        "    break"
      ]
    },
    {
      "cell_type": "markdown",
      "metadata": {
        "id": "e5WMB5zsEI4j"
      },
      "source": [
        "**Fitting the model using a `Dataset`**"
      ]
    },
    {
      "cell_type": "code",
      "execution_count": 291,
      "metadata": {
        "colab": {
          "base_uri": "https://localhost:8080/"
        },
        "id": "TKynUCrxEI4j",
        "outputId": "31b5ec0d-94ac-45b3-d6ec-623fdc41bd04"
      },
      "outputs": [
        {
          "output_type": "stream",
          "name": "stdout",
          "text": [
            "Epoch 1/15\n",
            "125/125 [==============================] - 4s 17ms/step - loss: 0.7510 - accuracy: 0.4935 - val_loss: 0.6910 - val_accuracy: 0.5900\n",
            "Epoch 2/15\n",
            "125/125 [==============================] - 2s 15ms/step - loss: 0.7032 - accuracy: 0.5130 - val_loss: 0.6889 - val_accuracy: 0.5720\n",
            "Epoch 3/15\n",
            "125/125 [==============================] - 2s 16ms/step - loss: 0.6903 - accuracy: 0.5900 - val_loss: 0.6985 - val_accuracy: 0.5900\n",
            "Epoch 4/15\n",
            "125/125 [==============================] - 2s 16ms/step - loss: 0.6741 - accuracy: 0.6320 - val_loss: 0.6375 - val_accuracy: 0.6570\n",
            "Epoch 5/15\n",
            "125/125 [==============================] - 2s 14ms/step - loss: 0.6275 - accuracy: 0.6535 - val_loss: 0.6825 - val_accuracy: 0.6550\n",
            "Epoch 6/15\n",
            "125/125 [==============================] - 2s 15ms/step - loss: 0.5720 - accuracy: 0.7000 - val_loss: 0.5832 - val_accuracy: 0.7000\n",
            "Epoch 7/15\n",
            "125/125 [==============================] - 2s 14ms/step - loss: 0.5337 - accuracy: 0.7495 - val_loss: 0.6627 - val_accuracy: 0.6720\n",
            "Epoch 8/15\n",
            "125/125 [==============================] - 2s 15ms/step - loss: 0.4693 - accuracy: 0.7895 - val_loss: 1.0485 - val_accuracy: 0.6560\n",
            "Epoch 9/15\n",
            "125/125 [==============================] - 2s 14ms/step - loss: 0.4123 - accuracy: 0.8245 - val_loss: 0.6601 - val_accuracy: 0.7280\n",
            "Epoch 10/15\n",
            "125/125 [==============================] - 2s 14ms/step - loss: 0.3200 - accuracy: 0.8610 - val_loss: 0.8502 - val_accuracy: 0.7180\n",
            "Epoch 11/15\n",
            "125/125 [==============================] - 2s 14ms/step - loss: 0.2621 - accuracy: 0.8895 - val_loss: 0.9840 - val_accuracy: 0.7000\n",
            "Epoch 12/15\n",
            "125/125 [==============================] - 2s 14ms/step - loss: 0.2103 - accuracy: 0.9175 - val_loss: 1.1804 - val_accuracy: 0.6750\n",
            "Epoch 13/15\n",
            "125/125 [==============================] - 2s 14ms/step - loss: 0.2206 - accuracy: 0.9230 - val_loss: 1.1341 - val_accuracy: 0.7180\n",
            "Epoch 14/15\n",
            "125/125 [==============================] - 2s 14ms/step - loss: 0.1738 - accuracy: 0.9405 - val_loss: 1.1362 - val_accuracy: 0.7110\n",
            "Epoch 15/15\n",
            "125/125 [==============================] - 2s 15ms/step - loss: 0.1584 - accuracy: 0.9595 - val_loss: 1.4939 - val_accuracy: 0.7180\n"
          ]
        }
      ],
      "source": [
        "callbacks = [\n",
        "    keras.callbacks.ModelCheckpoint(\n",
        "        filepath=\"convnet_from_scratch.keras\",\n",
        "        save_best_only=True,\n",
        "        monitor=\"val_loss\")\n",
        "]\n",
        "history = model.fit(\n",
        "    train_dataset,\n",
        "    epochs=15,\n",
        "    validation_data=validation_dataset,\n",
        "    callbacks=callbacks)"
      ]
    },
    {
      "cell_type": "markdown",
      "metadata": {
        "id": "s41FFIxMEI4j"
      },
      "source": [
        "**Displaying curves of loss and accuracy during training**"
      ]
    },
    {
      "cell_type": "code",
      "execution_count": 292,
      "metadata": {
        "colab": {
          "base_uri": "https://localhost:8080/",
          "height": 545
        },
        "id": "ZES_aykmEI4j",
        "outputId": "9c5018d7-4be0-4bb1-d162-8b74ab1d8ba1"
      },
      "outputs": [
        {
          "output_type": "display_data",
          "data": {
            "text/plain": [
              "<Figure size 432x288 with 1 Axes>"
            ],
            "image/png": "[encoded data removed]"
          },
          "metadata": {
            "needs_background": "light"
          }
        },
        {
          "output_type": "display_data",
          "data": {
            "text/plain": [
              "<Figure size 432x288 with 1 Axes>"
            ],
            "image/png": "[encoded data removed]"
          },
          "metadata": {
            "needs_background": "light"
          }
        }
      ],
      "source": [
        "import matplotlib.pyplot as plt\n",
        "accuracy = history.history[\"accuracy\"]\n",
        "val_accuracy = history.history[\"val_accuracy\"]\n",
        "loss = history.history[\"loss\"]\n",
        "val_loss = history.history[\"val_loss\"]\n",
        "epochs = range(1, len(accuracy) + 1)\n",
        "plt.plot(epochs, accuracy, \"bo\", label=\"Training accuracy\")\n",
        "plt.plot(epochs, val_accuracy, \"b\", label=\"Validation accuracy\")\n",
        "plt.title(\"Training and validation accuracy\")\n",
        "plt.legend()\n",
        "plt.figure()\n",
        "plt.plot(epochs, loss, \"bo\", label=\"Training loss\")\n",
        "plt.plot(epochs, val_loss, \"b\", label=\"Validation loss\")\n",
        "plt.title(\"Training and validation loss\")\n",
        "plt.legend()\n",
        "plt.show()"
      ]
    },
    {
      "cell_type": "markdown",
      "metadata": {
        "id": "AhXi919aEI4j"
      },
      "source": [
        "**Evaluating the model on the test set**"
      ]
    },
    {
      "cell_type": "code",
      "execution_count": 293,
      "metadata": {
        "colab": {
          "base_uri": "https://localhost:8080/"
        },
        "id": "eyJJlI_fEI4k",
        "outputId": "9a70fdcd-d0ee-433b-8aea-86b38b625273"
      },
      "outputs": [
        {
          "output_type": "stream",
          "name": "stdout",
          "text": [
            "125/125 [==============================] - 1s 7ms/step - loss: 0.6051 - accuracy: 0.7015\n",
            "Test accuracy: 0.701\n"
          ]
        }
      ],
      "source": [
        "test_model = keras.models.load_model(\"convnet_from_scratch.keras\")\n",
        "test_loss, test_acc = test_model.evaluate(test_dataset)\n",
        "print(f\"Test accuracy: {test_acc:.3f}\")"
      ]
    },
    {
      "cell_type": "markdown",
      "metadata": {
        "id": "KyLD2xQUEI4k"
      },
      "source": [
        "### Using data augmentation"
      ]
    },
    {
      "cell_type": "markdown",
      "metadata": {
        "id": "tt7LvopJEI4k"
      },
      "source": [
        "**Define a data augmentation stage to add to an image model**"
      ]
    },
    {
      "cell_type": "code",
      "execution_count": 294,
      "metadata": {
        "id": "bMEXEsoaEI4k"
      },
      "outputs": [],
      "source": [
        "data_augmentation = keras.Sequential(\n",
        "    [\n",
        "        layers.RandomFlip(\"horizontal\"),\n",
        "        layers.RandomRotation(0.1),\n",
        "        layers.RandomZoom(0.2),\n",
        "    ]\n",
        ")"
      ]
    },
    {
      "cell_type": "markdown",
      "metadata": {
        "id": "sFa55enNEI4k"
      },
      "source": [
        "**Displaying some randomly augmented training images**"
      ]
    },
    {
      "cell_type": "code",
      "execution_count": 295,
      "metadata": {
        "colab": {
          "base_uri": "https://localhost:8080/",
          "height": 575
        },
        "id": "RYbmZA-VEI4k",
        "outputId": "265b33e7-1150-4721-ae06-7aab3a62a7cb"
      },
      "outputs": [
        {
          "output_type": "display_data",
          "data": {
            "text/plain": [
              "<Figure size 720x720 with 9 Axes>"
            ],
            "image/png": "[encoded data removed]"
          },
          "metadata": {
            "needs_background": "light"
          }
        }
      ],
      "source": [
        "plt.figure(figsize=(10, 10))\n",
        "for images, _ in train_dataset.take(1):\n",
        "    for i in range(9):\n",
        "        augmented_images = data_augmentation(images)\n",
        "        ax = plt.subplot(3, 3, i + 1)\n",
        "        plt.imshow(augmented_images[0].numpy().astype(\"uint8\"))\n",
        "        plt.axis(\"off\")"
      ]
    },
    {
      "cell_type": "markdown",
      "metadata": {
        "id": "8PfSOWybEI4k"
      },
      "source": [
        "**Defining a new convnet that includes image augmentation and dropout**"
      ]
    },
    {
      "cell_type": "code",
      "execution_count": 297,
      "metadata": {
        "id": "Du5HTObyEI4k"
      },
      "outputs": [],
      "source": [
        "inputs = keras.Input(shape=(180, 180, 3))\n",
        "x = data_augmentation(inputs)\n",
        "x = layers.Rescaling(1./255)(x)\n",
        "x = layers.Conv2D(filters=64, kernel_size=3, activation=\"relu\")(x)\n",
        "x = layers.MaxPooling2D(pool_size=2)(x)\n",
        "x = layers.Conv2D(filters=64, kernel_size=3, activation=\"relu\")(x)\n",
        "x = layers.MaxPooling2D(pool_size=2)(x)\n",
        "x = layers.Conv2D(filters=256, kernel_size=3, activation=\"relu\")(x)\n",
        "x = layers.MaxPooling2D(pool_size=2)(x)\n",
        "x = layers.Conv2D(filters=512, kernel_size=3, activation=\"relu\")(x)\n",
        "x = layers.MaxPooling2D(pool_size=2)(x)\n",
        "x = layers.Conv2D(filters=512, kernel_size=3, activation=\"relu\")(x)\n",
        "x = layers.Flatten()(x)\n",
        "x = layers.Dropout(0.5)(x)\n",
        "outputs = layers.Dense(1, activation=\"sigmoid\")(x)\n",
        "model = keras.Model(inputs=inputs, outputs=outputs)\n",
        "\n",
        "model.compile(loss=\"binary_crossentropy\",\n",
        "              optimizer=\"rmsprop\",\n",
        "              metrics=[\"accuracy\"])"
      ]
    },
    {
      "cell_type": "markdown",
      "metadata": {
        "id": "ZeiOFgtVEI4k"
      },
      "source": [
        "**Training the regularized convnet**"
      ]
    },
    {
      "cell_type": "code",
      "execution_count": 298,
      "metadata": {
        "colab": {
          "base_uri": "https://localhost:8080/"
        },
        "id": "90A_cvZiEI4l",
        "outputId": "c6b5195a-cf24-4fa8-859d-bd951769ab62"
      },
      "outputs": [
        {
          "output_type": "stream",
          "name": "stdout",
          "text": [
            "Epoch 1/120\n",
            "125/125 [==============================] - 4s 24ms/step - loss: 0.8054 - accuracy: 0.4965 - val_loss: 0.6932 - val_accuracy: 0.5000\n",
            "Epoch 2/120\n",
            "125/125 [==============================] - 3s 22ms/step - loss: 0.7027 - accuracy: 0.5225 - val_loss: 0.6964 - val_accuracy: 0.5000\n",
            "Epoch 3/120\n",
            "125/125 [==============================] - 3s 22ms/step - loss: 0.7154 - accuracy: 0.5245 - val_loss: 0.7172 - val_accuracy: 0.5040\n",
            "Epoch 4/120\n",
            "125/125 [==============================] - 3s 23ms/step - loss: 0.7268 - accuracy: 0.5700 - val_loss: 0.6631 - val_accuracy: 0.6440\n",
            "Epoch 5/120\n",
            "125/125 [==============================] - 3s 22ms/step - loss: 0.6736 - accuracy: 0.6240 - val_loss: 0.8707 - val_accuracy: 0.5650\n",
            "Epoch 6/120\n",
            "125/125 [==============================] - 3s 24ms/step - loss: 0.6624 - accuracy: 0.6340 - val_loss: 0.6173 - val_accuracy: 0.6510\n",
            "Epoch 7/120\n",
            "125/125 [==============================] - 3s 23ms/step - loss: 0.6350 - accuracy: 0.6500 - val_loss: 0.5817 - val_accuracy: 0.6990\n",
            "Epoch 8/120\n",
            "125/125 [==============================] - 3s 22ms/step - loss: 0.6207 - accuracy: 0.6560 - val_loss: 0.5921 - val_accuracy: 0.7030\n",
            "Epoch 9/120\n",
            "125/125 [==============================] - 3s 23ms/step - loss: 0.6123 - accuracy: 0.6660 - val_loss: 0.5603 - val_accuracy: 0.7160\n",
            "Epoch 10/120\n",
            "125/125 [==============================] - 3s 23ms/step - loss: 0.6034 - accuracy: 0.6875 - val_loss: 0.6401 - val_accuracy: 0.6740\n",
            "Epoch 11/120\n",
            "125/125 [==============================] - 3s 22ms/step - loss: 0.6048 - accuracy: 0.6795 - val_loss: 0.5626 - val_accuracy: 0.7040\n",
            "Epoch 12/120\n",
            "125/125 [==============================] - 3s 22ms/step - loss: 0.5974 - accuracy: 0.7050 - val_loss: 0.5617 - val_accuracy: 0.7200\n",
            "Epoch 13/120\n",
            "125/125 [==============================] - 3s 23ms/step - loss: 0.5689 - accuracy: 0.7055 - val_loss: 0.5188 - val_accuracy: 0.7320\n",
            "Epoch 14/120\n",
            "125/125 [==============================] - 3s 23ms/step - loss: 0.5745 - accuracy: 0.7070 - val_loss: 0.5516 - val_accuracy: 0.7320\n",
            "Epoch 15/120\n",
            "125/125 [==============================] - 3s 22ms/step - loss: 0.5512 - accuracy: 0.7250 - val_loss: 0.5528 - val_accuracy: 0.7300\n",
            "Epoch 16/120\n",
            "125/125 [==============================] - 3s 22ms/step - loss: 0.5524 - accuracy: 0.7320 - val_loss: 0.5499 - val_accuracy: 0.7330\n",
            "Epoch 17/120\n",
            "125/125 [==============================] - 3s 22ms/step - loss: 0.5446 - accuracy: 0.7410 - val_loss: 0.5206 - val_accuracy: 0.7480\n",
            "Epoch 18/120\n",
            "125/125 [==============================] - 3s 23ms/step - loss: 0.5218 - accuracy: 0.7605 - val_loss: 0.4950 - val_accuracy: 0.7550\n",
            "Epoch 19/120\n",
            "125/125 [==============================] - 3s 23ms/step - loss: 0.5388 - accuracy: 0.7415 - val_loss: 0.4741 - val_accuracy: 0.7880\n",
            "Epoch 20/120\n",
            "125/125 [==============================] - 3s 22ms/step - loss: 0.5338 - accuracy: 0.7590 - val_loss: 0.4982 - val_accuracy: 0.7670\n",
            "Epoch 21/120\n",
            "125/125 [==============================] - 3s 23ms/step - loss: 0.5054 - accuracy: 0.7570 - val_loss: 0.4682 - val_accuracy: 0.7700\n",
            "Epoch 22/120\n",
            "125/125 [==============================] - 3s 23ms/step - loss: 0.4962 - accuracy: 0.7695 - val_loss: 0.4678 - val_accuracy: 0.7850\n",
            "Epoch 23/120\n",
            "125/125 [==============================] - 3s 22ms/step - loss: 0.5039 - accuracy: 0.7665 - val_loss: 0.5092 - val_accuracy: 0.7620\n",
            "Epoch 24/120\n",
            "125/125 [==============================] - 3s 22ms/step - loss: 0.4969 - accuracy: 0.7690 - val_loss: 0.4738 - val_accuracy: 0.7730\n",
            "Epoch 25/120\n",
            "125/125 [==============================] - 3s 22ms/step - loss: 0.4557 - accuracy: 0.7855 - val_loss: 0.4817 - val_accuracy: 0.7940\n",
            "Epoch 26/120\n",
            "125/125 [==============================] - 3s 22ms/step - loss: 0.4836 - accuracy: 0.7690 - val_loss: 0.5663 - val_accuracy: 0.7250\n",
            "Epoch 27/120\n",
            "125/125 [==============================] - 3s 22ms/step - loss: 0.4699 - accuracy: 0.7995 - val_loss: 0.4734 - val_accuracy: 0.8010\n",
            "Epoch 28/120\n",
            "125/125 [==============================] - 3s 22ms/step - loss: 0.4640 - accuracy: 0.7940 - val_loss: 0.4998 - val_accuracy: 0.7880\n",
            "Epoch 29/120\n",
            "125/125 [==============================] - 3s 22ms/step - loss: 0.4522 - accuracy: 0.7930 - val_loss: 0.4721 - val_accuracy: 0.7840\n",
            "Epoch 30/120\n",
            "125/125 [==============================] - 3s 22ms/step - loss: 0.4632 - accuracy: 0.7910 - val_loss: 0.4694 - val_accuracy: 0.7840\n",
            "Epoch 31/120\n",
            "125/125 [==============================] - 3s 22ms/step - loss: 0.4620 - accuracy: 0.7880 - val_loss: 0.4772 - val_accuracy: 0.7820\n",
            "Epoch 32/120\n",
            "125/125 [==============================] - 3s 23ms/step - loss: 0.4596 - accuracy: 0.7980 - val_loss: 0.4564 - val_accuracy: 0.7890\n",
            "Epoch 33/120\n",
            "125/125 [==============================] - 3s 22ms/step - loss: 0.4511 - accuracy: 0.8020 - val_loss: 0.5675 - val_accuracy: 0.7730\n",
            "Epoch 34/120\n",
            "125/125 [==============================] - 3s 22ms/step - loss: 0.4582 - accuracy: 0.7940 - val_loss: 0.4715 - val_accuracy: 0.7860\n",
            "Epoch 35/120\n",
            "125/125 [==============================] - 3s 23ms/step - loss: 0.4556 - accuracy: 0.7960 - val_loss: 0.4492 - val_accuracy: 0.8070\n",
            "Epoch 36/120\n",
            "125/125 [==============================] - 3s 22ms/step - loss: 0.4469 - accuracy: 0.8150 - val_loss: 0.5869 - val_accuracy: 0.7330\n",
            "Epoch 37/120\n",
            "125/125 [==============================] - 3s 23ms/step - loss: 0.4605 - accuracy: 0.7990 - val_loss: 0.4374 - val_accuracy: 0.7910\n",
            "Epoch 38/120\n",
            "125/125 [==============================] - 3s 22ms/step - loss: 0.4959 - accuracy: 0.8075 - val_loss: 0.4726 - val_accuracy: 0.7910\n",
            "Epoch 39/120\n",
            "125/125 [==============================] - 3s 22ms/step - loss: 0.4288 - accuracy: 0.8070 - val_loss: 0.4874 - val_accuracy: 0.7770\n",
            "Epoch 40/120\n",
            "125/125 [==============================] - 3s 22ms/step - loss: 0.4265 - accuracy: 0.8210 - val_loss: 0.4962 - val_accuracy: 0.7800\n",
            "Epoch 41/120\n",
            "125/125 [==============================] - 3s 22ms/step - loss: 0.4107 - accuracy: 0.8160 - val_loss: 0.4440 - val_accuracy: 0.8110\n",
            "Epoch 42/120\n",
            "125/125 [==============================] - 3s 22ms/step - loss: 0.4095 - accuracy: 0.8160 - val_loss: 0.5126 - val_accuracy: 0.7830\n",
            "Epoch 43/120\n",
            "125/125 [==============================] - 3s 22ms/step - loss: 0.4344 - accuracy: 0.8035 - val_loss: 0.4565 - val_accuracy: 0.7930\n",
            "Epoch 44/120\n",
            "125/125 [==============================] - 3s 22ms/step - loss: 0.4158 - accuracy: 0.8285 - val_loss: 0.4695 - val_accuracy: 0.8120\n",
            "Epoch 45/120\n",
            "125/125 [==============================] - 3s 22ms/step - loss: 0.4255 - accuracy: 0.8210 - val_loss: 0.6217 - val_accuracy: 0.7550\n",
            "Epoch 46/120\n",
            "125/125 [==============================] - 3s 22ms/step - loss: 0.4180 - accuracy: 0.8220 - val_loss: 0.7266 - val_accuracy: 0.7390\n",
            "Epoch 47/120\n",
            "125/125 [==============================] - 3s 22ms/step - loss: 0.4040 - accuracy: 0.8315 - val_loss: 0.5045 - val_accuracy: 0.7620\n",
            "Epoch 48/120\n",
            "125/125 [==============================] - 3s 22ms/step - loss: 0.4003 - accuracy: 0.8250 - val_loss: 0.7370 - val_accuracy: 0.7940\n",
            "Epoch 49/120\n",
            "125/125 [==============================] - 3s 22ms/step - loss: 0.4022 - accuracy: 0.8165 - val_loss: 0.4594 - val_accuracy: 0.8210\n",
            "Epoch 50/120\n",
            "125/125 [==============================] - 3s 23ms/step - loss: 0.4084 - accuracy: 0.8330 - val_loss: 0.4341 - val_accuracy: 0.8220\n",
            "Epoch 51/120\n",
            "125/125 [==============================] - 3s 22ms/step - loss: 0.4229 - accuracy: 0.8150 - val_loss: 0.6839 - val_accuracy: 0.7890\n",
            "Epoch 52/120\n",
            "125/125 [==============================] - 3s 22ms/step - loss: 0.3972 - accuracy: 0.8275 - val_loss: 0.4481 - val_accuracy: 0.8070\n",
            "Epoch 53/120\n",
            "125/125 [==============================] - 3s 22ms/step - loss: 0.4008 - accuracy: 0.8245 - val_loss: 0.4765 - val_accuracy: 0.8010\n",
            "Epoch 54/120\n",
            "125/125 [==============================] - 3s 22ms/step - loss: 0.3813 - accuracy: 0.8345 - val_loss: 0.6643 - val_accuracy: 0.7740\n",
            "Epoch 55/120\n",
            "125/125 [==============================] - 3s 23ms/step - loss: 0.4086 - accuracy: 0.8335 - val_loss: 0.4208 - val_accuracy: 0.8160\n",
            "Epoch 56/120\n",
            "125/125 [==============================] - 3s 22ms/step - loss: 0.4284 - accuracy: 0.8265 - val_loss: 0.4726 - val_accuracy: 0.8040\n",
            "Epoch 57/120\n",
            "125/125 [==============================] - 3s 22ms/step - loss: 0.4101 - accuracy: 0.8250 - val_loss: 0.4686 - val_accuracy: 0.8160\n",
            "Epoch 58/120\n",
            "125/125 [==============================] - 3s 22ms/step - loss: 0.4254 - accuracy: 0.8240 - val_loss: 0.4513 - val_accuracy: 0.8230\n",
            "Epoch 59/120\n",
            "125/125 [==============================] - 3s 22ms/step - loss: 0.3919 - accuracy: 0.8385 - val_loss: 0.5292 - val_accuracy: 0.8020\n",
            "Epoch 60/120\n",
            "125/125 [==============================] - 3s 22ms/step - loss: 0.4335 - accuracy: 0.8290 - val_loss: 0.4611 - val_accuracy: 0.8340\n",
            "Epoch 61/120\n",
            "125/125 [==============================] - 3s 22ms/step - loss: 0.4393 - accuracy: 0.8210 - val_loss: 0.6044 - val_accuracy: 0.8260\n",
            "Epoch 62/120\n",
            "125/125 [==============================] - 3s 22ms/step - loss: 0.4160 - accuracy: 0.8205 - val_loss: 0.4739 - val_accuracy: 0.8160\n",
            "Epoch 63/120\n",
            "125/125 [==============================] - 3s 22ms/step - loss: 0.4130 - accuracy: 0.8250 - val_loss: 0.4810 - val_accuracy: 0.8170\n",
            "Epoch 64/120\n",
            "125/125 [==============================] - 3s 22ms/step - loss: 0.4171 - accuracy: 0.8255 - val_loss: 0.5168 - val_accuracy: 0.8140\n",
            "Epoch 65/120\n",
            "125/125 [==============================] - 3s 23ms/step - loss: 0.4103 - accuracy: 0.8250 - val_loss: 0.6060 - val_accuracy: 0.7770\n",
            "Epoch 66/120\n",
            "125/125 [==============================] - 3s 22ms/step - loss: 0.4212 - accuracy: 0.8310 - val_loss: 0.4224 - val_accuracy: 0.8280\n",
            "Epoch 67/120\n",
            "125/125 [==============================] - 3s 22ms/step - loss: 0.3791 - accuracy: 0.8390 - val_loss: 0.6106 - val_accuracy: 0.7990\n",
            "Epoch 68/120\n",
            "125/125 [==============================] - 3s 22ms/step - loss: 0.4239 - accuracy: 0.8280 - val_loss: 0.5127 - val_accuracy: 0.8110\n",
            "Epoch 69/120\n",
            "125/125 [==============================] - 3s 22ms/step - loss: 0.4125 - accuracy: 0.8405 - val_loss: 0.4797 - val_accuracy: 0.8160\n",
            "Epoch 70/120\n",
            "125/125 [==============================] - 3s 22ms/step - loss: 0.4039 - accuracy: 0.8405 - val_loss: 0.7243 - val_accuracy: 0.7760\n",
            "Epoch 71/120\n",
            "125/125 [==============================] - 3s 22ms/step - loss: 0.4381 - accuracy: 0.8315 - val_loss: 0.4465 - val_accuracy: 0.8080\n",
            "Epoch 72/120\n",
            "125/125 [==============================] - 3s 22ms/step - loss: 0.4146 - accuracy: 0.8260 - val_loss: 0.4790 - val_accuracy: 0.8450\n",
            "Epoch 73/120\n",
            "125/125 [==============================] - 3s 22ms/step - loss: 0.4141 - accuracy: 0.8270 - val_loss: 0.6279 - val_accuracy: 0.7820\n",
            "Epoch 74/120\n",
            "125/125 [==============================] - 3s 22ms/step - loss: 0.4181 - accuracy: 0.8295 - val_loss: 0.5342 - val_accuracy: 0.8020\n",
            "Epoch 75/120\n",
            "125/125 [==============================] - 3s 22ms/step - loss: 0.4225 - accuracy: 0.8375 - val_loss: 0.5154 - val_accuracy: 0.8320\n",
            "Epoch 76/120\n",
            "125/125 [==============================] - 3s 22ms/step - loss: 0.4352 - accuracy: 0.8140 - val_loss: 0.4257 - val_accuracy: 0.8430\n",
            "Epoch 77/120\n",
            "125/125 [==============================] - 3s 22ms/step - loss: 0.4111 - accuracy: 0.8430 - val_loss: 0.4968 - val_accuracy: 0.8300\n",
            "Epoch 78/120\n",
            "125/125 [==============================] - 3s 23ms/step - loss: 0.4125 - accuracy: 0.8415 - val_loss: 0.4134 - val_accuracy: 0.8240\n",
            "Epoch 79/120\n",
            "125/125 [==============================] - 3s 22ms/step - loss: 0.4298 - accuracy: 0.8420 - val_loss: 0.4620 - val_accuracy: 0.7830\n",
            "Epoch 80/120\n",
            "125/125 [==============================] - 3s 22ms/step - loss: 0.4414 - accuracy: 0.8380 - val_loss: 0.4182 - val_accuracy: 0.8170\n",
            "Epoch 81/120\n",
            "125/125 [==============================] - 3s 22ms/step - loss: 0.4044 - accuracy: 0.8310 - val_loss: 0.4786 - val_accuracy: 0.8060\n",
            "Epoch 82/120\n",
            "125/125 [==============================] - 3s 22ms/step - loss: 0.4190 - accuracy: 0.8270 - val_loss: 0.6175 - val_accuracy: 0.7870\n",
            "Epoch 83/120\n",
            "125/125 [==============================] - 3s 22ms/step - loss: 0.4266 - accuracy: 0.8285 - val_loss: 0.5826 - val_accuracy: 0.7920\n",
            "Epoch 84/120\n",
            "125/125 [==============================] - 3s 22ms/step - loss: 0.4842 - accuracy: 0.8215 - val_loss: 0.5090 - val_accuracy: 0.7960\n",
            "Epoch 85/120\n",
            "125/125 [==============================] - 3s 22ms/step - loss: 0.4240 - accuracy: 0.8255 - val_loss: 0.4580 - val_accuracy: 0.8280\n",
            "Epoch 86/120\n",
            "125/125 [==============================] - 3s 22ms/step - loss: 0.4056 - accuracy: 0.8240 - val_loss: 0.5970 - val_accuracy: 0.7900\n",
            "Epoch 87/120\n",
            "125/125 [==============================] - 3s 22ms/step - loss: 0.4630 - accuracy: 0.8260 - val_loss: 0.5172 - val_accuracy: 0.8360\n",
            "Epoch 88/120\n",
            "125/125 [==============================] - 3s 22ms/step - loss: 0.4280 - accuracy: 0.8335 - val_loss: 0.5688 - val_accuracy: 0.7860\n",
            "Epoch 89/120\n",
            "125/125 [==============================] - 3s 22ms/step - loss: 0.4313 - accuracy: 0.8310 - val_loss: 0.4564 - val_accuracy: 0.8200\n",
            "Epoch 90/120\n",
            "125/125 [==============================] - 3s 22ms/step - loss: 0.4318 - accuracy: 0.8220 - val_loss: 0.4925 - val_accuracy: 0.7900\n",
            "Epoch 91/120\n",
            "125/125 [==============================] - 3s 22ms/step - loss: 0.4044 - accuracy: 0.8355 - val_loss: 0.9699 - val_accuracy: 0.8160\n",
            "Epoch 92/120\n",
            "125/125 [==============================] - 3s 22ms/step - loss: 0.4195 - accuracy: 0.8320 - val_loss: 0.4620 - val_accuracy: 0.8060\n",
            "Epoch 93/120\n",
            "125/125 [==============================] - 3s 22ms/step - loss: 0.4277 - accuracy: 0.8260 - val_loss: 0.6528 - val_accuracy: 0.8320\n",
            "Epoch 94/120\n",
            "125/125 [==============================] - 3s 22ms/step - loss: 0.4287 - accuracy: 0.8355 - val_loss: 0.5481 - val_accuracy: 0.8170\n",
            "Epoch 95/120\n",
            "125/125 [==============================] - 3s 22ms/step - loss: 0.4329 - accuracy: 0.8360 - val_loss: 0.5189 - val_accuracy: 0.8140\n",
            "Epoch 96/120\n",
            "125/125 [==============================] - 3s 22ms/step - loss: 0.4335 - accuracy: 0.8410 - val_loss: 0.6010 - val_accuracy: 0.8100\n",
            "Epoch 97/120\n",
            "125/125 [==============================] - 3s 22ms/step - loss: 0.4310 - accuracy: 0.8325 - val_loss: 0.7169 - val_accuracy: 0.8110\n",
            "Epoch 98/120\n",
            "125/125 [==============================] - 3s 22ms/step - loss: 0.4634 - accuracy: 0.8250 - val_loss: 0.5198 - val_accuracy: 0.8170\n",
            "Epoch 99/120\n",
            "125/125 [==============================] - 3s 22ms/step - loss: 0.4439 - accuracy: 0.8340 - val_loss: 0.6103 - val_accuracy: 0.7890\n",
            "Epoch 100/120\n",
            "125/125 [==============================] - 3s 22ms/step - loss: 0.4526 - accuracy: 0.8275 - val_loss: 0.5813 - val_accuracy: 0.7880\n",
            "Epoch 101/120\n",
            "125/125 [==============================] - 3s 22ms/step - loss: 0.4403 - accuracy: 0.8335 - val_loss: 0.6231 - val_accuracy: 0.8260\n",
            "Epoch 102/120\n",
            "125/125 [==============================] - 3s 22ms/step - loss: 0.4162 - accuracy: 0.8315 - val_loss: 0.4238 - val_accuracy: 0.8260\n",
            "Epoch 103/120\n",
            "125/125 [==============================] - 3s 22ms/step - loss: 0.4200 - accuracy: 0.8335 - val_loss: 0.6003 - val_accuracy: 0.7850\n",
            "Epoch 104/120\n",
            "125/125 [==============================] - 3s 22ms/step - loss: 0.4219 - accuracy: 0.8330 - val_loss: 0.6803 - val_accuracy: 0.8140\n",
            "Epoch 105/120\n",
            "125/125 [==============================] - 3s 23ms/step - loss: 0.4386 - accuracy: 0.8355 - val_loss: 0.5101 - val_accuracy: 0.8050\n",
            "Epoch 106/120\n",
            "125/125 [==============================] - 3s 22ms/step - loss: 0.4142 - accuracy: 0.8235 - val_loss: 0.5876 - val_accuracy: 0.7750\n",
            "Epoch 107/120\n",
            "125/125 [==============================] - 3s 22ms/step - loss: 0.4113 - accuracy: 0.8305 - val_loss: 0.4348 - val_accuracy: 0.8020\n",
            "Epoch 108/120\n",
            "125/125 [==============================] - 3s 22ms/step - loss: 0.4661 - accuracy: 0.8225 - val_loss: 0.6211 - val_accuracy: 0.8160\n",
            "Epoch 109/120\n",
            "125/125 [==============================] - 3s 22ms/step - loss: 0.4695 - accuracy: 0.8170 - val_loss: 0.5111 - val_accuracy: 0.8120\n",
            "Epoch 110/120\n",
            "125/125 [==============================] - 3s 22ms/step - loss: 0.4228 - accuracy: 0.8295 - val_loss: 0.6166 - val_accuracy: 0.8300\n",
            "Epoch 111/120\n",
            "125/125 [==============================] - 3s 22ms/step - loss: 0.3984 - accuracy: 0.8410 - val_loss: 0.5954 - val_accuracy: 0.8190\n",
            "Epoch 112/120\n",
            "125/125 [==============================] - 3s 22ms/step - loss: 0.4477 - accuracy: 0.8200 - val_loss: 0.8666 - val_accuracy: 0.7470\n",
            "Epoch 113/120\n",
            "125/125 [==============================] - 3s 23ms/step - loss: 0.4434 - accuracy: 0.8255 - val_loss: 0.7798 - val_accuracy: 0.7910\n",
            "Epoch 114/120\n",
            "125/125 [==============================] - 3s 22ms/step - loss: 0.4162 - accuracy: 0.8350 - val_loss: 0.5721 - val_accuracy: 0.7460\n",
            "Epoch 115/120\n",
            "125/125 [==============================] - 3s 22ms/step - loss: 0.4424 - accuracy: 0.8285 - val_loss: 0.6441 - val_accuracy: 0.7370\n",
            "Epoch 116/120\n",
            "125/125 [==============================] - 3s 22ms/step - loss: 0.4529 - accuracy: 0.8395 - val_loss: 0.4651 - val_accuracy: 0.8080\n",
            "Epoch 117/120\n",
            "125/125 [==============================] - 3s 22ms/step - loss: 0.4500 - accuracy: 0.8285 - val_loss: 1.1416 - val_accuracy: 0.6350\n",
            "Epoch 118/120\n",
            "125/125 [==============================] - 3s 22ms/step - loss: 0.6261 - accuracy: 0.8290 - val_loss: 0.7268 - val_accuracy: 0.7840\n",
            "Epoch 119/120\n",
            "125/125 [==============================] - 3s 22ms/step - loss: 0.4753 - accuracy: 0.8165 - val_loss: 0.5432 - val_accuracy: 0.8090\n",
            "Epoch 120/120\n",
            "125/125 [==============================] - 3s 22ms/step - loss: 0.4713 - accuracy: 0.8320 - val_loss: 0.5145 - val_accuracy: 0.8390\n"
          ]
        }
      ],
      "source": [
        "callbacks = [\n",
        "    keras.callbacks.ModelCheckpoint(\n",
        "        filepath=\"convnet_from_scratch_with_augmentation.keras\",\n",
        "        save_best_only=True,\n",
        "        monitor=\"val_loss\")\n",
        "]\n",
        "history = model.fit(\n",
        "    train_dataset,\n",
        "    epochs=120,\n",
        "    validation_data=validation_dataset,\n",
        "    callbacks=callbacks)"
      ]
    },
    {
      "cell_type": "markdown",
      "metadata": {
        "id": "vhFMmsqpEI4l"
      },
      "source": [
        "**Evaluating the model on the test set**"
      ]
    },
    {
      "cell_type": "code",
      "execution_count": 299,
      "metadata": {
        "colab": {
          "base_uri": "https://localhost:8080/"
        },
        "id": "lHr3rssZEI4l",
        "outputId": "23768e72-ba0f-4356-ca1b-a855e76c9116"
      },
      "outputs": [
        {
          "output_type": "stream",
          "name": "stdout",
          "text": [
            "125/125 [==============================] - 1s 7ms/step - loss: 0.4769 - accuracy: 0.8105\n",
            "Test accuracy: 0.811\n"
          ]
        }
      ],
      "source": [
        "test_model = keras.models.load_model(\n",
        "    \"convnet_from_scratch_with_augmentation.keras\")\n",
        "test_loss, test_acc = test_model.evaluate(test_dataset)\n",
        "print(f\"Test accuracy: {test_acc:.3f}\")"
      ]
    },
    {
      "cell_type": "markdown",
      "metadata": {
        "id": "O477yb73EI4l"
      },
      "source": [
        "## Leveraging a pretrained model"
      ]
    },
    {
      "cell_type": "markdown",
      "metadata": {
        "id": "wYEw7o4WEI4l"
      },
      "source": [
        "### Feature extraction with a pretrained model"
      ]
    },
    {
      "cell_type": "markdown",
      "metadata": {
        "id": "_OOipWR5EI4l"
      },
      "source": [
        "**Instantiating the VGG16 convolutional base**"
      ]
    },
    {
      "cell_type": "code",
      "execution_count": 300,
      "metadata": {
        "id": "vNZuLahgEI4l"
      },
      "outputs": [],
      "source": [
        "conv_base = keras.applications.vgg16.VGG16(\n",
        "    weights=\"imagenet\",\n",
        "    include_top=False,\n",
        "    input_shape=(180, 180, 3))"
      ]
    },
    {
      "cell_type": "code",
      "execution_count": 301,
      "metadata": {
        "colab": {
          "base_uri": "https://localhost:8080/"
        },
        "id": "yeyjgXLoEI4l",
        "outputId": "ad3a4b65-bea1-4166-eff0-0e6b1dd2e37e"
      },
      "outputs": [
        {
          "output_type": "stream",
          "name": "stdout",
          "text": [
            "Model: \"vgg16\"\n",
            "_________________________________________________________________\n",
            " Layer (type)                Output Shape              Param #   \n",
            "=================================================================\n",
            " input_53 (InputLayer)       [(None, 180, 180, 3)]     0         \n",
            "                                                                 \n",
            " block1_conv1 (Conv2D)       (None, 180, 180, 64)      1792      \n",
            "                                                                 \n",
            " block1_conv2 (Conv2D)       (None, 180, 180, 64)      36928     \n",
            "                                                                 \n",
            " block1_pool (MaxPooling2D)  (None, 90, 90, 64)        0         \n",
            "                                                                 \n",
            " block2_conv1 (Conv2D)       (None, 90, 90, 128)       73856     \n",
            "                                                                 \n",
            " block2_conv2 (Conv2D)       (None, 90, 90, 128)       147584    \n",
            "                                                                 \n",
            " block2_pool (MaxPooling2D)  (None, 45, 45, 128)       0         \n",
            "                                                                 \n",
            " block3_conv1 (Conv2D)       (None, 45, 45, 256)       295168    \n",
            "                                                                 \n",
            " block3_conv2 (Conv2D)       (None, 45, 45, 256)       590080    \n",
            "                                                                 \n",
            " block3_conv3 (Conv2D)       (None, 45, 45, 256)       590080    \n",
            "                                                                 \n",
            " block3_pool (MaxPooling2D)  (None, 22, 22, 256)       0         \n",
            "                                                                 \n",
            " block4_conv1 (Conv2D)       (None, 22, 22, 512)       1180160   \n",
            "                                                                 \n",
            " block4_conv2 (Conv2D)       (None, 22, 22, 512)       2359808   \n",
            "                                                                 \n",
            " block4_conv3 (Conv2D)       (None, 22, 22, 512)       2359808   \n",
            "                                                                 \n",
            " block4_pool (MaxPooling2D)  (None, 11, 11, 512)       0         \n",
            "                                                                 \n",
            " block5_conv1 (Conv2D)       (None, 11, 11, 512)       2359808   \n",
            "                                                                 \n",
            " block5_conv2 (Conv2D)       (None, 11, 11, 512)       2359808   \n",
            "                                                                 \n",
            " block5_conv3 (Conv2D)       (None, 11, 11, 512)       2359808   \n",
            "                                                                 \n",
            " block5_pool (MaxPooling2D)  (None, 5, 5, 512)         0         \n",
            "                                                                 \n",
            "=================================================================\n",
            "Total params: 14,714,688\n",
            "Trainable params: 14,714,688\n",
            "Non-trainable params: 0\n",
            "_________________________________________________________________\n"
          ]
        }
      ],
      "source": [
        "conv_base.summary()"
      ]
    },
    {
      "cell_type": "markdown",
      "metadata": {
        "id": "TV_PFY3_EI4l"
      },
      "source": [
        "#### Fast feature extraction without data augmentation"
      ]
    },
    {
      "cell_type": "markdown",
      "metadata": {
        "id": "A7TcUiroEI4l"
      },
      "source": [
        "**Extracting the VGG16 features and corresponding labels**"
      ]
    },
    {
      "cell_type": "code",
      "execution_count": 302,
      "metadata": {
        "colab": {
          "base_uri": "https://localhost:8080/"
        },
        "id": "LrZ1PZsWEI4m",
        "outputId": "208efd12-65c0-436e-f324-ca373ad39606"
      },
      "outputs": [
        {
          "output_type": "stream",
          "name": "stdout",
          "text": [
            "1/1 [==============================] - 0s 124ms/step\n",
            "1/1 [==============================] - 0s 21ms/step\n",
            "1/1 [==============================] - 0s 21ms/step\n",
            "1/1 [==============================] - 0s 24ms/step\n",
            "1/1 [==============================] - 0s 20ms/step\n",
            "1/1 [==============================] - 0s 20ms/step\n",
            "1/1 [==============================] - 0s 20ms/step\n",
            "1/1 [==============================] - 0s 20ms/step\n",
            "1/1 [==============================] - 0s 21ms/step\n",
            "1/1 [==============================] - 0s 22ms/step\n",
            "1/1 [==============================] - 0s 20ms/step\n",
            "1/1 [==============================] - 0s 20ms/step\n",
            "1/1 [==============================] - 0s 23ms/step\n",
            "1/1 [==============================] - 0s 20ms/step\n",
            "1/1 [==============================] - 0s 21ms/step\n",
            "1/1 [==============================] - 0s 21ms/step\n",
            "1/1 [==============================] - 0s 21ms/step\n",
            "1/1 [==============================] - 0s 21ms/step\n",
            "1/1 [==============================] - 0s 20ms/step\n",
            "1/1 [==============================] - 0s 21ms/step\n",
            "1/1 [==============================] - 0s 21ms/step\n",
            "1/1 [==============================] - 0s 22ms/step\n",
            "1/1 [==============================] - 0s 21ms/step\n",
            "1/1 [==============================] - 0s 21ms/step\n",
            "1/1 [==============================] - 0s 22ms/step\n",
            "1/1 [==============================] - 0s 21ms/step\n",
            "1/1 [==============================] - 0s 23ms/step\n",
            "1/1 [==============================] - 0s 21ms/step\n",
            "1/1 [==============================] - 0s 208ms/step\n",
            "1/1 [==============================] - 0s 21ms/step\n",
            "1/1 [==============================] - 0s 20ms/step\n",
            "1/1 [==============================] - 0s 20ms/step\n",
            "1/1 [==============================] - 0s 20ms/step\n",
            "1/1 [==============================] - 0s 20ms/step\n",
            "1/1 [==============================] - 0s 21ms/step\n",
            "1/1 [==============================] - 0s 24ms/step\n",
            "1/1 [==============================] - 0s 20ms/step\n",
            "1/1 [==============================] - 0s 20ms/step\n",
            "1/1 [==============================] - 0s 21ms/step\n",
            "1/1 [==============================] - 0s 20ms/step\n",
            "1/1 [==============================] - 0s 20ms/step\n",
            "1/1 [==============================] - 0s 20ms/step\n",
            "1/1 [==============================] - 0s 21ms/step\n",
            "1/1 [==============================] - 0s 21ms/step\n",
            "1/1 [==============================] - 0s 20ms/step\n",
            "1/1 [==============================] - 0s 21ms/step\n",
            "1/1 [==============================] - 0s 20ms/step\n",
            "1/1 [==============================] - 0s 20ms/step\n",
            "1/1 [==============================] - 0s 20ms/step\n",
            "1/1 [==============================] - 0s 20ms/step\n",
            "1/1 [==============================] - 0s 20ms/step\n",
            "1/1 [==============================] - 0s 21ms/step\n",
            "1/1 [==============================] - 0s 22ms/step\n",
            "1/1 [==============================] - 0s 20ms/step\n",
            "1/1 [==============================] - 0s 21ms/step\n",
            "1/1 [==============================] - 0s 21ms/step\n",
            "1/1 [==============================] - 0s 20ms/step\n",
            "1/1 [==============================] - 0s 20ms/step\n",
            "1/1 [==============================] - 0s 20ms/step\n",
            "1/1 [==============================] - 0s 20ms/step\n",
            "1/1 [==============================] - 0s 20ms/step\n",
            "1/1 [==============================] - 0s 21ms/step\n",
            "1/1 [==============================] - 0s 20ms/step\n",
            "1/1 [==============================] - 0s 21ms/step\n",
            "1/1 [==============================] - 0s 20ms/step\n",
            "1/1 [==============================] - 0s 20ms/step\n",
            "1/1 [==============================] - 0s 20ms/step\n",
            "1/1 [==============================] - 0s 20ms/step\n",
            "1/1 [==============================] - 0s 20ms/step\n",
            "1/1 [==============================] - 0s 20ms/step\n",
            "1/1 [==============================] - 0s 20ms/step\n",
            "1/1 [==============================] - 0s 21ms/step\n",
            "1/1 [==============================] - 0s 20ms/step\n",
            "1/1 [==============================] - 0s 28ms/step\n",
            "1/1 [==============================] - 0s 21ms/step\n",
            "1/1 [==============================] - 0s 21ms/step\n",
            "1/1 [==============================] - 0s 20ms/step\n",
            "1/1 [==============================] - 0s 20ms/step\n",
            "1/1 [==============================] - 0s 21ms/step\n",
            "1/1 [==============================] - 0s 23ms/step\n",
            "1/1 [==============================] - 0s 20ms/step\n",
            "1/1 [==============================] - 0s 21ms/step\n",
            "1/1 [==============================] - 0s 21ms/step\n",
            "1/1 [==============================] - 0s 20ms/step\n",
            "1/1 [==============================] - 0s 20ms/step\n",
            "1/1 [==============================] - 0s 20ms/step\n",
            "1/1 [==============================] - 0s 20ms/step\n",
            "1/1 [==============================] - 0s 21ms/step\n",
            "1/1 [==============================] - 0s 21ms/step\n",
            "1/1 [==============================] - 0s 20ms/step\n",
            "1/1 [==============================] - 0s 22ms/step\n",
            "1/1 [==============================] - 0s 21ms/step\n",
            "1/1 [==============================] - 0s 21ms/step\n",
            "1/1 [==============================] - 0s 21ms/step\n",
            "1/1 [==============================] - 0s 21ms/step\n",
            "1/1 [==============================] - 0s 22ms/step\n",
            "1/1 [==============================] - 0s 20ms/step\n",
            "1/1 [==============================] - 0s 20ms/step\n",
            "1/1 [==============================] - 0s 20ms/step\n",
            "1/1 [==============================] - 0s 22ms/step\n",
            "1/1 [==============================] - 0s 21ms/step\n",
            "1/1 [==============================] - 0s 22ms/step\n",
            "1/1 [==============================] - 0s 21ms/step\n",
            "1/1 [==============================] - 0s 20ms/step\n",
            "1/1 [==============================] - 0s 21ms/step\n",
            "1/1 [==============================] - 0s 20ms/step\n",
            "1/1 [==============================] - 0s 21ms/step\n",
            "1/1 [==============================] - 0s 20ms/step\n",
            "1/1 [==============================] - 0s 20ms/step\n",
            "1/1 [==============================] - 0s 22ms/step\n",
            "1/1 [==============================] - 0s 21ms/step\n",
            "1/1 [==============================] - 0s 21ms/step\n",
            "1/1 [==============================] - 0s 21ms/step\n",
            "1/1 [==============================] - 0s 20ms/step\n",
            "1/1 [==============================] - 0s 20ms/step\n",
            "1/1 [==============================] - 0s 20ms/step\n",
            "1/1 [==============================] - 0s 21ms/step\n",
            "1/1 [==============================] - 0s 20ms/step\n",
            "1/1 [==============================] - 0s 20ms/step\n",
            "1/1 [==============================] - 0s 19ms/step\n",
            "1/1 [==============================] - 0s 19ms/step\n",
            "1/1 [==============================] - 0s 19ms/step\n",
            "1/1 [==============================] - 0s 20ms/step\n",
            "1/1 [==============================] - 0s 20ms/step\n",
            "1/1 [==============================] - 0s 20ms/step\n",
            "1/1 [==============================] - 0s 21ms/step\n",
            "1/1 [==============================] - 0s 20ms/step\n",
            "1/1 [==============================] - 0s 23ms/step\n",
            "1/1 [==============================] - 0s 21ms/step\n",
            "1/1 [==============================] - 0s 23ms/step\n",
            "1/1 [==============================] - 0s 20ms/step\n",
            "1/1 [==============================] - 0s 20ms/step\n",
            "1/1 [==============================] - 0s 21ms/step\n",
            "1/1 [==============================] - 0s 22ms/step\n",
            "1/1 [==============================] - 0s 20ms/step\n",
            "1/1 [==============================] - 0s 21ms/step\n",
            "1/1 [==============================] - 0s 21ms/step\n",
            "1/1 [==============================] - 0s 20ms/step\n",
            "1/1 [==============================] - 0s 20ms/step\n",
            "1/1 [==============================] - 0s 20ms/step\n",
            "1/1 [==============================] - 0s 21ms/step\n",
            "1/1 [==============================] - 0s 20ms/step\n",
            "1/1 [==============================] - 0s 21ms/step\n",
            "1/1 [==============================] - 0s 21ms/step\n",
            "1/1 [==============================] - 0s 21ms/step\n",
            "1/1 [==============================] - 0s 21ms/step\n",
            "1/1 [==============================] - 0s 20ms/step\n",
            "1/1 [==============================] - 0s 21ms/step\n",
            "1/1 [==============================] - 0s 21ms/step\n",
            "1/1 [==============================] - 0s 22ms/step\n",
            "1/1 [==============================] - 0s 21ms/step\n",
            "1/1 [==============================] - 0s 21ms/step\n",
            "1/1 [==============================] - 0s 21ms/step\n",
            "1/1 [==============================] - 0s 21ms/step\n",
            "1/1 [==============================] - 0s 21ms/step\n",
            "1/1 [==============================] - 0s 21ms/step\n",
            "1/1 [==============================] - 0s 22ms/step\n",
            "1/1 [==============================] - 0s 20ms/step\n",
            "1/1 [==============================] - 0s 20ms/step\n",
            "1/1 [==============================] - 0s 20ms/step\n",
            "1/1 [==============================] - 0s 20ms/step\n",
            "1/1 [==============================] - 0s 20ms/step\n",
            "1/1 [==============================] - 0s 20ms/step\n",
            "1/1 [==============================] - 0s 21ms/step\n",
            "1/1 [==============================] - 0s 20ms/step\n",
            "1/1 [==============================] - 0s 20ms/step\n",
            "1/1 [==============================] - 0s 23ms/step\n",
            "1/1 [==============================] - 0s 20ms/step\n",
            "1/1 [==============================] - 0s 21ms/step\n",
            "1/1 [==============================] - 0s 20ms/step\n",
            "1/1 [==============================] - 0s 21ms/step\n",
            "1/1 [==============================] - 0s 21ms/step\n",
            "1/1 [==============================] - 0s 20ms/step\n",
            "1/1 [==============================] - 0s 20ms/step\n",
            "1/1 [==============================] - 0s 20ms/step\n",
            "1/1 [==============================] - 0s 21ms/step\n",
            "1/1 [==============================] - 0s 20ms/step\n",
            "1/1 [==============================] - 0s 20ms/step\n",
            "1/1 [==============================] - 0s 22ms/step\n",
            "1/1 [==============================] - 0s 20ms/step\n",
            "1/1 [==============================] - 0s 20ms/step\n",
            "1/1 [==============================] - 0s 20ms/step\n",
            "1/1 [==============================] - 0s 19ms/step\n",
            "1/1 [==============================] - 0s 20ms/step\n",
            "1/1 [==============================] - 0s 19ms/step\n",
            "1/1 [==============================] - 0s 20ms/step\n",
            "1/1 [==============================] - 0s 20ms/step\n",
            "1/1 [==============================] - 0s 18ms/step\n",
            "1/1 [==============================] - 0s 21ms/step\n",
            "1/1 [==============================] - 0s 22ms/step\n",
            "1/1 [==============================] - 0s 21ms/step\n",
            "1/1 [==============================] - 0s 21ms/step\n",
            "1/1 [==============================] - 0s 20ms/step\n",
            "1/1 [==============================] - 0s 20ms/step\n",
            "1/1 [==============================] - 0s 20ms/step\n",
            "1/1 [==============================] - 0s 21ms/step\n",
            "1/1 [==============================] - 0s 21ms/step\n",
            "1/1 [==============================] - 0s 20ms/step\n",
            "1/1 [==============================] - 0s 20ms/step\n",
            "1/1 [==============================] - 0s 21ms/step\n",
            "1/1 [==============================] - 0s 21ms/step\n",
            "1/1 [==============================] - 0s 20ms/step\n",
            "1/1 [==============================] - 0s 21ms/step\n",
            "1/1 [==============================] - 0s 21ms/step\n",
            "1/1 [==============================] - 0s 23ms/step\n",
            "1/1 [==============================] - 0s 20ms/step\n",
            "1/1 [==============================] - 0s 21ms/step\n",
            "1/1 [==============================] - 0s 20ms/step\n",
            "1/1 [==============================] - 0s 21ms/step\n",
            "1/1 [==============================] - 0s 21ms/step\n",
            "1/1 [==============================] - 0s 21ms/step\n",
            "1/1 [==============================] - 0s 23ms/step\n",
            "1/1 [==============================] - 0s 21ms/step\n",
            "1/1 [==============================] - 0s 21ms/step\n",
            "1/1 [==============================] - 0s 21ms/step\n",
            "1/1 [==============================] - 0s 21ms/step\n",
            "1/1 [==============================] - 0s 22ms/step\n",
            "1/1 [==============================] - 0s 23ms/step\n",
            "1/1 [==============================] - 0s 21ms/step\n",
            "1/1 [==============================] - 0s 22ms/step\n",
            "1/1 [==============================] - 0s 21ms/step\n",
            "1/1 [==============================] - 0s 21ms/step\n",
            "1/1 [==============================] - 0s 21ms/step\n",
            "1/1 [==============================] - 0s 20ms/step\n",
            "1/1 [==============================] - 0s 21ms/step\n",
            "1/1 [==============================] - 0s 20ms/step\n",
            "1/1 [==============================] - 0s 20ms/step\n",
            "1/1 [==============================] - 0s 20ms/step\n",
            "1/1 [==============================] - 0s 23ms/step\n",
            "1/1 [==============================] - 0s 20ms/step\n",
            "1/1 [==============================] - 0s 21ms/step\n",
            "1/1 [==============================] - 0s 21ms/step\n",
            "1/1 [==============================] - 0s 20ms/step\n",
            "1/1 [==============================] - 0s 20ms/step\n",
            "1/1 [==============================] - 0s 21ms/step\n",
            "1/1 [==============================] - 0s 20ms/step\n",
            "1/1 [==============================] - 0s 21ms/step\n",
            "1/1 [==============================] - 0s 21ms/step\n",
            "1/1 [==============================] - 0s 23ms/step\n",
            "1/1 [==============================] - 0s 20ms/step\n",
            "1/1 [==============================] - 0s 21ms/step\n",
            "1/1 [==============================] - 0s 21ms/step\n",
            "1/1 [==============================] - 0s 20ms/step\n",
            "1/1 [==============================] - 0s 21ms/step\n",
            "1/1 [==============================] - 0s 20ms/step\n",
            "1/1 [==============================] - 0s 20ms/step\n",
            "1/1 [==============================] - 0s 20ms/step\n",
            "1/1 [==============================] - 0s 20ms/step\n",
            "1/1 [==============================] - 0s 20ms/step\n",
            "1/1 [==============================] - 0s 22ms/step\n",
            "1/1 [==============================] - 0s 20ms/step\n",
            "1/1 [==============================] - 0s 20ms/step\n",
            "1/1 [==============================] - 0s 20ms/step\n",
            "1/1 [==============================] - 0s 20ms/step\n",
            "1/1 [==============================] - 0s 20ms/step\n",
            "1/1 [==============================] - 0s 22ms/step\n",
            "1/1 [==============================] - 0s 20ms/step\n",
            "1/1 [==============================] - 0s 20ms/step\n",
            "1/1 [==============================] - 0s 21ms/step\n",
            "1/1 [==============================] - 0s 21ms/step\n",
            "1/1 [==============================] - 0s 20ms/step\n",
            "1/1 [==============================] - 0s 21ms/step\n",
            "1/1 [==============================] - 0s 20ms/step\n",
            "1/1 [==============================] - 0s 20ms/step\n",
            "1/1 [==============================] - 0s 21ms/step\n",
            "1/1 [==============================] - 0s 22ms/step\n",
            "1/1 [==============================] - 0s 20ms/step\n",
            "1/1 [==============================] - 0s 22ms/step\n",
            "1/1 [==============================] - 0s 20ms/step\n",
            "1/1 [==============================] - 0s 20ms/step\n",
            "1/1 [==============================] - 0s 21ms/step\n",
            "1/1 [==============================] - 0s 20ms/step\n",
            "1/1 [==============================] - 0s 20ms/step\n",
            "1/1 [==============================] - 0s 20ms/step\n",
            "1/1 [==============================] - 0s 20ms/step\n",
            "1/1 [==============================] - 0s 20ms/step\n",
            "1/1 [==============================] - 0s 20ms/step\n",
            "1/1 [==============================] - 0s 20ms/step\n",
            "1/1 [==============================] - 0s 20ms/step\n",
            "1/1 [==============================] - 0s 20ms/step\n",
            "1/1 [==============================] - 0s 21ms/step\n",
            "1/1 [==============================] - 0s 20ms/step\n",
            "1/1 [==============================] - 0s 21ms/step\n",
            "1/1 [==============================] - 0s 21ms/step\n",
            "1/1 [==============================] - 0s 22ms/step\n",
            "1/1 [==============================] - 0s 20ms/step\n",
            "1/1 [==============================] - 0s 20ms/step\n",
            "1/1 [==============================] - 0s 20ms/step\n",
            "1/1 [==============================] - 0s 20ms/step\n",
            "1/1 [==============================] - 0s 20ms/step\n",
            "1/1 [==============================] - 0s 21ms/step\n",
            "1/1 [==============================] - 0s 20ms/step\n",
            "1/1 [==============================] - 0s 20ms/step\n",
            "1/1 [==============================] - 0s 21ms/step\n",
            "1/1 [==============================] - 0s 20ms/step\n",
            "1/1 [==============================] - 0s 20ms/step\n",
            "1/1 [==============================] - 0s 21ms/step\n",
            "1/1 [==============================] - 0s 20ms/step\n",
            "1/1 [==============================] - 0s 21ms/step\n",
            "1/1 [==============================] - 0s 21ms/step\n",
            "1/1 [==============================] - 0s 20ms/step\n",
            "1/1 [==============================] - 0s 20ms/step\n",
            "1/1 [==============================] - 0s 21ms/step\n",
            "1/1 [==============================] - 0s 20ms/step\n",
            "1/1 [==============================] - 0s 20ms/step\n",
            "1/1 [==============================] - 0s 20ms/step\n",
            "1/1 [==============================] - 0s 19ms/step\n",
            "1/1 [==============================] - 0s 19ms/step\n",
            "1/1 [==============================] - 0s 20ms/step\n",
            "1/1 [==============================] - 0s 20ms/step\n",
            "1/1 [==============================] - 0s 20ms/step\n",
            "1/1 [==============================] - 0s 20ms/step\n",
            "1/1 [==============================] - 0s 20ms/step\n"
          ]
        }
      ],
      "source": [
        "import numpy as np\n",
        "\n",
        "def get_features_and_labels(dataset):\n",
        "    all_features = []\n",
        "    all_labels = []\n",
        "    for images, labels in dataset:\n",
        "        preprocessed_images = keras.applications.vgg16.preprocess_input(images)\n",
        "        features = conv_base.predict(preprocessed_images)\n",
        "        all_features.append(features)\n",
        "        all_labels.append(labels)\n",
        "    return np.concatenate(all_features), np.concatenate(all_labels)\n",
        "\n",
        "train_features, train_labels =  get_features_and_labels(train_dataset)\n",
        "val_features, val_labels =  get_features_and_labels(validation_dataset)\n",
        "test_features, test_labels =  get_features_and_labels(test_dataset)"
      ]
    },
    {
      "cell_type": "code",
      "execution_count": 303,
      "metadata": {
        "colab": {
          "base_uri": "https://localhost:8080/"
        },
        "id": "NdBT3QBuEI4m",
        "outputId": "42fc177b-e98b-46b3-becd-42248be3b1ae"
      },
      "outputs": [
        {
          "output_type": "execute_result",
          "data": {
            "text/plain": [
              "(2000, 5, 5, 512)"
            ]
          },
          "metadata": {},
          "execution_count": 303
        }
      ],
      "source": [
        "train_features.shape"
      ]
    },
    {
      "cell_type": "markdown",
      "metadata": {
        "id": "OaA61lm0EI4m"
      },
      "source": [
        "**Defining and training the densely connected classifier**"
      ]
    },
    {
      "cell_type": "code",
      "execution_count": 308,
      "metadata": {
        "colab": {
          "base_uri": "https://localhost:8080/"
        },
        "id": "cUl_Gq5PEI4m",
        "outputId": "a12d1e4e-c65e-4d6d-edd2-ed9f55df30ba"
      },
      "outputs": [
        {
          "output_type": "stream",
          "name": "stdout",
          "text": [
            "Epoch 1/22\n",
            "63/63 [==============================] - 1s 8ms/step - loss: 7.5879 - accuracy: 0.5020 - val_loss: 7.6246 - val_accuracy: 0.5000\n",
            "Epoch 2/22\n",
            "63/63 [==============================] - 0s 4ms/step - loss: 7.6246 - accuracy: 0.5000 - val_loss: 7.6246 - val_accuracy: 0.5000\n",
            "Epoch 3/22\n",
            "63/63 [==============================] - 0s 4ms/step - loss: 7.6246 - accuracy: 0.5000 - val_loss: 7.6246 - val_accuracy: 0.5000\n",
            "Epoch 4/22\n",
            "63/63 [==============================] - 0s 4ms/step - loss: 7.6246 - accuracy: 0.5000 - val_loss: 7.6246 - val_accuracy: 0.5000\n",
            "Epoch 5/22\n",
            "63/63 [==============================] - 0s 4ms/step - loss: 7.6246 - accuracy: 0.5000 - val_loss: 7.6246 - val_accuracy: 0.5000\n",
            "Epoch 6/22\n",
            "63/63 [==============================] - 0s 5ms/step - loss: 7.6246 - accuracy: 0.5000 - val_loss: 7.6246 - val_accuracy: 0.5000\n",
            "Epoch 7/22\n",
            "63/63 [==============================] - 0s 4ms/step - loss: 7.6246 - accuracy: 0.5000 - val_loss: 7.6246 - val_accuracy: 0.5000\n",
            "Epoch 8/22\n",
            "63/63 [==============================] - 0s 4ms/step - loss: 7.6246 - accuracy: 0.5000 - val_loss: 7.6246 - val_accuracy: 0.5000\n",
            "Epoch 9/22\n",
            "63/63 [==============================] - 0s 4ms/step - loss: 7.6246 - accuracy: 0.5000 - val_loss: 7.6246 - val_accuracy: 0.5000\n",
            "Epoch 10/22\n",
            "63/63 [==============================] - 0s 4ms/step - loss: 7.6246 - accuracy: 0.5000 - val_loss: 7.6246 - val_accuracy: 0.5000\n",
            "Epoch 11/22\n",
            "63/63 [==============================] - 0s 4ms/step - loss: 7.6246 - accuracy: 0.5000 - val_loss: 7.6246 - val_accuracy: 0.5000\n",
            "Epoch 12/22\n",
            "63/63 [==============================] - 0s 4ms/step - loss: 7.6246 - accuracy: 0.5000 - val_loss: 7.6246 - val_accuracy: 0.5000\n",
            "Epoch 13/22\n",
            "63/63 [==============================] - 0s 5ms/step - loss: 7.6246 - accuracy: 0.5000 - val_loss: 7.6246 - val_accuracy: 0.5000\n",
            "Epoch 14/22\n",
            "63/63 [==============================] - 0s 8ms/step - loss: 7.6246 - accuracy: 0.5000 - val_loss: 7.6246 - val_accuracy: 0.5000\n",
            "Epoch 15/22\n",
            "63/63 [==============================] - 0s 4ms/step - loss: 7.6246 - accuracy: 0.5000 - val_loss: 7.6246 - val_accuracy: 0.5000\n",
            "Epoch 16/22\n",
            "63/63 [==============================] - 0s 4ms/step - loss: 7.6246 - accuracy: 0.5000 - val_loss: 7.6246 - val_accuracy: 0.5000\n",
            "Epoch 17/22\n",
            "63/63 [==============================] - 0s 4ms/step - loss: 7.6246 - accuracy: 0.5000 - val_loss: 7.6246 - val_accuracy: 0.5000\n",
            "Epoch 18/22\n",
            "63/63 [==============================] - 0s 4ms/step - loss: 7.6246 - accuracy: 0.5000 - val_loss: 7.6246 - val_accuracy: 0.5000\n",
            "Epoch 19/22\n",
            "63/63 [==============================] - 0s 4ms/step - loss: 7.6246 - accuracy: 0.5000 - val_loss: 7.6246 - val_accuracy: 0.5000\n",
            "Epoch 20/22\n",
            "63/63 [==============================] - 0s 4ms/step - loss: 7.6246 - accuracy: 0.5000 - val_loss: 7.6246 - val_accuracy: 0.5000\n",
            "Epoch 21/22\n",
            "63/63 [==============================] - 0s 4ms/step - loss: 7.6246 - accuracy: 0.5000 - val_loss: 7.6246 - val_accuracy: 0.5000\n",
            "Epoch 22/22\n",
            "63/63 [==============================] - 0s 4ms/step - loss: 7.6246 - accuracy: 0.5000 - val_loss: 7.6246 - val_accuracy: 0.5000\n"
          ]
        }
      ],
      "source": [
        "inputs = keras.Input(shape=(5, 5, 512))\n",
        "x = layers.Flatten()(inputs)\n",
        "x = layers.Dense(256)(x)\n",
        "x = layers.Dropout(0.5)(x)\n",
        "outputs = layers.Dense(1, activation=\"relu\")(x)\n",
        "model = keras.Model(inputs, outputs)\n",
        "model.compile(loss=\"binary_crossentropy\",\n",
        "              optimizer=\"rmsprop\",\n",
        "              metrics=[\"accuracy\"])\n",
        "\n",
        "callbacks = [\n",
        "    keras.callbacks.ModelCheckpoint(\n",
        "      filepath=\"feature_extraction.keras\",\n",
        "      save_best_only=True,\n",
        "      monitor=\"val_loss\")\n",
        "]\n",
        "history = model.fit(\n",
        "    train_features, train_labels,\n",
        "    epochs=22,\n",
        "    validation_data=(val_features, val_labels),\n",
        "    callbacks=callbacks)"
      ]
    },
    {
      "cell_type": "markdown",
      "metadata": {
        "id": "lmClbOByEI4m"
      },
      "source": [
        "**Plotting the results**"
      ]
    },
    {
      "cell_type": "code",
      "execution_count": 309,
      "metadata": {
        "colab": {
          "base_uri": "https://localhost:8080/",
          "height": 545
        },
        "id": "B_eiPRV_EI4m",
        "outputId": "d8df1e85-75f3-4b5c-e31d-f41b89f811d4"
      },
      "outputs": [
        {
          "output_type": "display_data",
          "data": {
            "text/plain": [
              "<Figure size 432x288 with 1 Axes>"
            ],
            "image/png": "[encoded data removed]"
          },
          "metadata": {
            "needs_background": "light"
          }
        },
        {
          "output_type": "display_data",
          "data": {
            "text/plain": [
              "<Figure size 432x288 with 1 Axes>"
            ],
            "image/png": "[encoded data removed]"
          },
          "metadata": {
            "needs_background": "light"
          }
        }
      ],
      "source": [
        "import matplotlib.pyplot as plt\n",
        "acc = history.history[\"accuracy\"]\n",
        "val_acc = history.history[\"val_accuracy\"]\n",
        "loss = history.history[\"loss\"]\n",
        "val_loss = history.history[\"val_loss\"]\n",
        "epochs = range(1, len(acc) + 1)\n",
        "plt.plot(epochs, acc, \"bo\", label=\"Training accuracy\")\n",
        "plt.plot(epochs, val_acc, \"b\", label=\"Validation accuracy\")\n",
        "plt.title(\"Training and validation accuracy\")\n",
        "plt.legend()\n",
        "plt.figure()\n",
        "plt.plot(epochs, loss, \"bo\", label=\"Training loss\")\n",
        "plt.plot(epochs, val_loss, \"b\", label=\"Validation loss\")\n",
        "plt.title(\"Training and validation loss\")\n",
        "plt.legend()\n",
        "plt.show()"
      ]
    },
    {
      "cell_type": "markdown",
      "metadata": {
        "id": "JLnJaDVAEI4m"
      },
      "source": [
        "#### Feature extraction together with data augmentation"
      ]
    },
    {
      "cell_type": "markdown",
      "metadata": {
        "id": "mlKv-VK8EI4m"
      },
      "source": [
        "**Instantiating and freezing the VGG16 convolutional base**"
      ]
    },
    {
      "cell_type": "code",
      "execution_count": 310,
      "metadata": {
        "id": "DVJ7VLujEI4m"
      },
      "outputs": [],
      "source": [
        "conv_base  = keras.applications.vgg16.VGG16(\n",
        "    weights=\"imagenet\",\n",
        "    include_top=False)\n",
        "conv_base.trainable = False"
      ]
    },
    {
      "cell_type": "markdown",
      "metadata": {
        "id": "aiaoMbHGEI4m"
      },
      "source": [
        "**Printing the list of trainable weights before and after freezing**"
      ]
    },
    {
      "cell_type": "code",
      "execution_count": 311,
      "metadata": {
        "colab": {
          "base_uri": "https://localhost:8080/"
        },
        "id": "XgZjlLJ7EI4n",
        "outputId": "e94e0864-a41f-426f-d2d8-5ce1ce353277"
      },
      "outputs": [
        {
          "output_type": "stream",
          "name": "stdout",
          "text": [
            "This is the number of trainable weights before freezing the conv base: 26\n"
          ]
        }
      ],
      "source": [
        "conv_base.trainable = True\n",
        "print(\"This is the number of trainable weights \"\n",
        "      \"before freezing the conv base:\", len(conv_base.trainable_weights))"
      ]
    },
    {
      "cell_type": "code",
      "execution_count": 312,
      "metadata": {
        "colab": {
          "base_uri": "https://localhost:8080/"
        },
        "id": "w8Z11UzqEI4n",
        "outputId": "d948c9b6-459d-4c83-b6eb-67d443ed1677"
      },
      "outputs": [
        {
          "output_type": "stream",
          "name": "stdout",
          "text": [
            "This is the number of trainable weights after freezing the conv base: 0\n"
          ]
        }
      ],
      "source": [
        "conv_base.trainable = False\n",
        "print(\"This is the number of trainable weights \"\n",
        "      \"after freezing the conv base:\", len(conv_base.trainable_weights))"
      ]
    },
    {
      "cell_type": "markdown",
      "metadata": {
        "id": "D-2C1kQfEI4n"
      },
      "source": [
        "**Adding a data augmentation stage and a classifier to the convolutional base**"
      ]
    },
    {
      "cell_type": "code",
      "execution_count": 313,
      "metadata": {
        "id": "e8jMxbZ0EI4n"
      },
      "outputs": [],
      "source": [
        "data_augmentation = keras.Sequential(\n",
        "    [\n",
        "        layers.RandomFlip(\"horizontal\"),\n",
        "        layers.RandomRotation(0.1),\n",
        "        layers.RandomZoom(0.2),\n",
        "    ]\n",
        ")\n",
        "\n",
        "inputs = keras.Input(shape=(180, 180, 3))\n",
        "x = data_augmentation(inputs)\n",
        "x = keras.applications.vgg16.preprocess_input(x)\n",
        "x = conv_base(x)\n",
        "x = layers.Flatten()(x)\n",
        "x = layers.Dense(256)(x)\n",
        "x = layers.Dropout(0.5)(x)\n",
        "outputs = layers.Dense(1, activation=\"sigmoid\")(x)\n",
        "model = keras.Model(inputs, outputs)\n",
        "model.compile(loss=\"binary_crossentropy\",\n",
        "              optimizer=\"rmsprop\",\n",
        "              metrics=[\"accuracy\"])"
      ]
    },
    {
      "cell_type": "code",
      "execution_count": 314,
      "metadata": {
        "colab": {
          "base_uri": "https://localhost:8080/"
        },
        "id": "d6jG54ouEI4n",
        "outputId": "5387cb6c-83ec-4fe5-cd4b-fb2fa3096332"
      },
      "outputs": [
        {
          "output_type": "stream",
          "name": "stdout",
          "text": [
            "Epoch 1/22\n",
            "125/125 [==============================] - 5s 30ms/step - loss: 13.2090 - accuracy: 0.9130 - val_loss: 4.7360 - val_accuracy: 0.9670\n",
            "Epoch 2/22\n",
            "125/125 [==============================] - 4s 28ms/step - loss: 7.5996 - accuracy: 0.9460 - val_loss: 2.6320 - val_accuracy: 0.9790\n",
            "Epoch 3/22\n",
            "125/125 [==============================] - 3s 26ms/step - loss: 7.7776 - accuracy: 0.9475 - val_loss: 3.8865 - val_accuracy: 0.9770\n",
            "Epoch 4/22\n",
            "125/125 [==============================] - 3s 26ms/step - loss: 5.8465 - accuracy: 0.9635 - val_loss: 6.0392 - val_accuracy: 0.9730\n",
            "Epoch 5/22\n",
            "125/125 [==============================] - 3s 26ms/step - loss: 5.5041 - accuracy: 0.9630 - val_loss: 5.0374 - val_accuracy: 0.9770\n",
            "Epoch 6/22\n",
            "125/125 [==============================] - 3s 26ms/step - loss: 4.3491 - accuracy: 0.9660 - val_loss: 4.3924 - val_accuracy: 0.9810\n",
            "Epoch 7/22\n",
            "125/125 [==============================] - 4s 28ms/step - loss: 4.2565 - accuracy: 0.9675 - val_loss: 4.8124 - val_accuracy: 0.9780\n",
            "Epoch 8/22\n",
            "125/125 [==============================] - 3s 26ms/step - loss: 2.7614 - accuracy: 0.9760 - val_loss: 4.5509 - val_accuracy: 0.9740\n",
            "Epoch 9/22\n",
            "125/125 [==============================] - 3s 26ms/step - loss: 3.5440 - accuracy: 0.9735 - val_loss: 3.3225 - val_accuracy: 0.9800\n",
            "Epoch 10/22\n",
            "125/125 [==============================] - 3s 26ms/step - loss: 3.0539 - accuracy: 0.9740 - val_loss: 4.5124 - val_accuracy: 0.9740\n",
            "Epoch 11/22\n",
            "125/125 [==============================] - 3s 27ms/step - loss: 1.7687 - accuracy: 0.9780 - val_loss: 2.6656 - val_accuracy: 0.9810\n",
            "Epoch 12/22\n",
            "125/125 [==============================] - 3s 26ms/step - loss: 2.0450 - accuracy: 0.9800 - val_loss: 3.5723 - val_accuracy: 0.9810\n",
            "Epoch 13/22\n",
            "125/125 [==============================] - 3s 26ms/step - loss: 2.7856 - accuracy: 0.9770 - val_loss: 2.9393 - val_accuracy: 0.9810\n",
            "Epoch 14/22\n",
            "125/125 [==============================] - 3s 26ms/step - loss: 2.2399 - accuracy: 0.9765 - val_loss: 2.7310 - val_accuracy: 0.9770\n",
            "Epoch 15/22\n",
            "125/125 [==============================] - 3s 26ms/step - loss: 2.3997 - accuracy: 0.9780 - val_loss: 3.0918 - val_accuracy: 0.9730\n",
            "Epoch 16/22\n",
            "125/125 [==============================] - 4s 28ms/step - loss: 1.6335 - accuracy: 0.9850 - val_loss: 2.4657 - val_accuracy: 0.9780\n",
            "Epoch 17/22\n",
            "125/125 [==============================] - 3s 26ms/step - loss: 1.7245 - accuracy: 0.9815 - val_loss: 3.5528 - val_accuracy: 0.9700\n",
            "Epoch 18/22\n",
            "125/125 [==============================] - 3s 26ms/step - loss: 1.6598 - accuracy: 0.9810 - val_loss: 2.6265 - val_accuracy: 0.9800\n",
            "Epoch 19/22\n",
            "125/125 [==============================] - 4s 28ms/step - loss: 1.7745 - accuracy: 0.9770 - val_loss: 2.4060 - val_accuracy: 0.9800\n",
            "Epoch 20/22\n",
            "125/125 [==============================] - 3s 26ms/step - loss: 2.1400 - accuracy: 0.9765 - val_loss: 2.9200 - val_accuracy: 0.9720\n",
            "Epoch 21/22\n",
            "125/125 [==============================] - 4s 28ms/step - loss: 0.6841 - accuracy: 0.9890 - val_loss: 2.2964 - val_accuracy: 0.9840\n",
            "Epoch 22/22\n",
            "125/125 [==============================] - 4s 28ms/step - loss: 1.5581 - accuracy: 0.9795 - val_loss: 1.9351 - val_accuracy: 0.9870\n"
          ]
        }
      ],
      "source": [
        "callbacks = [\n",
        "    keras.callbacks.ModelCheckpoint(\n",
        "        filepath=\"feature_extraction_with_data_augmentation.keras\",\n",
        "        save_best_only=True,\n",
        "        monitor=\"val_loss\")\n",
        "]\n",
        "history = model.fit(\n",
        "    train_dataset,\n",
        "    epochs=22,\n",
        "    validation_data=validation_dataset,\n",
        "    callbacks=callbacks)"
      ]
    },
    {
      "cell_type": "markdown",
      "metadata": {
        "id": "0Kul7fvZEI4n"
      },
      "source": [
        "**Evaluating the model on the test set**"
      ]
    },
    {
      "cell_type": "code",
      "execution_count": 315,
      "metadata": {
        "colab": {
          "base_uri": "https://localhost:8080/"
        },
        "id": "eGdCtoUjEI4n",
        "outputId": "9423ac5f-c0b3-476c-876e-c50ca763c0f8"
      },
      "outputs": [
        {
          "output_type": "stream",
          "name": "stdout",
          "text": [
            "125/125 [==============================] - 2s 13ms/step - loss: 2.8167 - accuracy: 0.9745\n",
            "Test accuracy: 0.975\n"
          ]
        }
      ],
      "source": [
        "test_model = keras.models.load_model(\n",
        "    \"feature_extraction_with_data_augmentation.keras\")\n",
        "test_loss, test_acc = test_model.evaluate(test_dataset)\n",
        "print(f\"Test accuracy: {test_acc:.3f}\")"
      ]
    },
    {
      "cell_type": "markdown",
      "metadata": {
        "id": "NfKzB7SlEI4o"
      },
      "source": [
        "### Fine-tuning a pretrained model"
      ]
    },
    {
      "cell_type": "code",
      "execution_count": 316,
      "metadata": {
        "colab": {
          "base_uri": "https://localhost:8080/"
        },
        "id": "0szo7Z5ZEI4o",
        "outputId": "195b14c7-925b-453b-9355-c8f08dd3d999"
      },
      "outputs": [
        {
          "output_type": "stream",
          "name": "stdout",
          "text": [
            "Model: \"vgg16\"\n",
            "_________________________________________________________________\n",
            " Layer (type)                Output Shape              Param #   \n",
            "=================================================================\n",
            " input_57 (InputLayer)       [(None, None, None, 3)]   0         \n",
            "                                                                 \n",
            " block1_conv1 (Conv2D)       (None, None, None, 64)    1792      \n",
            "                                                                 \n",
            " block1_conv2 (Conv2D)       (None, None, None, 64)    36928     \n",
            "                                                                 \n",
            " block1_pool (MaxPooling2D)  (None, None, None, 64)    0         \n",
            "                                                                 \n",
            " block2_conv1 (Conv2D)       (None, None, None, 128)   73856     \n",
            "                                                                 \n",
            " block2_conv2 (Conv2D)       (None, None, None, 128)   147584    \n",
            "                                                                 \n",
            " block2_pool (MaxPooling2D)  (None, None, None, 128)   0         \n",
            "                                                                 \n",
            " block3_conv1 (Conv2D)       (None, None, None, 256)   295168    \n",
            "                                                                 \n",
            " block3_conv2 (Conv2D)       (None, None, None, 256)   590080    \n",
            "                                                                 \n",
            " block3_conv3 (Conv2D)       (None, None, None, 256)   590080    \n",
            "                                                                 \n",
            " block3_pool (MaxPooling2D)  (None, None, None, 256)   0         \n",
            "                                                                 \n",
            " block4_conv1 (Conv2D)       (None, None, None, 512)   1180160   \n",
            "                                                                 \n",
            " block4_conv2 (Conv2D)       (None, None, None, 512)   2359808   \n",
            "                                                                 \n",
            " block4_conv3 (Conv2D)       (None, None, None, 512)   2359808   \n",
            "                                                                 \n",
            " block4_pool (MaxPooling2D)  (None, None, None, 512)   0         \n",
            "                                                                 \n",
            " block5_conv1 (Conv2D)       (None, None, None, 512)   2359808   \n",
            "                                                                 \n",
            " block5_conv2 (Conv2D)       (None, None, None, 512)   2359808   \n",
            "                                                                 \n",
            " block5_conv3 (Conv2D)       (None, None, None, 512)   2359808   \n",
            "                                                                 \n",
            " block5_pool (MaxPooling2D)  (None, None, None, 512)   0         \n",
            "                                                                 \n",
            "=================================================================\n",
            "Total params: 14,714,688\n",
            "Trainable params: 0\n",
            "Non-trainable params: 14,714,688\n",
            "_________________________________________________________________\n"
          ]
        }
      ],
      "source": [
        "conv_base.summary()"
      ]
    },
    {
      "cell_type": "markdown",
      "metadata": {
        "id": "61MKYjL7EI4o"
      },
      "source": [
        "**Freezing all layers until the fourth from the last**"
      ]
    },
    {
      "cell_type": "code",
      "execution_count": 317,
      "metadata": {
        "id": "URh6xMYnEI4o"
      },
      "outputs": [],
      "source": [
        "conv_base.trainable = True\n",
        "for layer in conv_base.layers[:-4]:\n",
        "    layer.trainable = False"
      ]
    },
    {
      "cell_type": "markdown",
      "metadata": {
        "id": "kjelWYi0EI4o"
      },
      "source": [
        "**Fine-tuning the model**"
      ]
    },
    {
      "cell_type": "code",
      "execution_count": 318,
      "metadata": {
        "colab": {
          "base_uri": "https://localhost:8080/"
        },
        "id": "yBdjSbmFEI4o",
        "outputId": "3098cbac-2009-41cf-c63a-f5915f0d1696"
      },
      "outputs": [
        {
          "output_type": "stream",
          "name": "stdout",
          "text": [
            "Epoch 1/22\n",
            "125/125 [==============================] - 6s 32ms/step - loss: 1.1191 - accuracy: 0.9790 - val_loss: 1.9529 - val_accuracy: 0.9820\n",
            "Epoch 2/22\n",
            "125/125 [==============================] - 4s 30ms/step - loss: 0.3765 - accuracy: 0.9915 - val_loss: 1.7974 - val_accuracy: 0.9780\n",
            "Epoch 3/22\n",
            "125/125 [==============================] - 4s 28ms/step - loss: 0.7381 - accuracy: 0.9845 - val_loss: 2.3677 - val_accuracy: 0.9810\n",
            "Epoch 4/22\n",
            "125/125 [==============================] - 4s 30ms/step - loss: 0.5650 - accuracy: 0.9875 - val_loss: 1.7102 - val_accuracy: 0.9800\n",
            "Epoch 5/22\n",
            "125/125 [==============================] - 4s 28ms/step - loss: 0.4148 - accuracy: 0.9870 - val_loss: 1.8268 - val_accuracy: 0.9800\n",
            "Epoch 6/22\n",
            "125/125 [==============================] - 4s 28ms/step - loss: 0.3998 - accuracy: 0.9890 - val_loss: 1.7611 - val_accuracy: 0.9820\n",
            "Epoch 7/22\n",
            "125/125 [==============================] - 4s 31ms/step - loss: 0.4021 - accuracy: 0.9880 - val_loss: 1.4937 - val_accuracy: 0.9840\n",
            "Epoch 8/22\n",
            "125/125 [==============================] - 4s 28ms/step - loss: 0.2280 - accuracy: 0.9930 - val_loss: 1.7170 - val_accuracy: 0.9820\n",
            "Epoch 9/22\n",
            "125/125 [==============================] - 4s 28ms/step - loss: 0.3779 - accuracy: 0.9875 - val_loss: 2.0689 - val_accuracy: 0.9750\n",
            "Epoch 10/22\n",
            "125/125 [==============================] - 4s 28ms/step - loss: 0.5993 - accuracy: 0.9855 - val_loss: 1.7400 - val_accuracy: 0.9860\n",
            "Epoch 11/22\n",
            "125/125 [==============================] - 4s 28ms/step - loss: 0.4520 - accuracy: 0.9865 - val_loss: 1.9631 - val_accuracy: 0.9830\n",
            "Epoch 12/22\n",
            "125/125 [==============================] - 4s 28ms/step - loss: 0.3543 - accuracy: 0.9905 - val_loss: 1.7567 - val_accuracy: 0.9770\n",
            "Epoch 13/22\n",
            "125/125 [==============================] - 4s 28ms/step - loss: 0.0832 - accuracy: 0.9955 - val_loss: 1.5616 - val_accuracy: 0.9830\n",
            "Epoch 14/22\n",
            "125/125 [==============================] - 4s 28ms/step - loss: 0.3189 - accuracy: 0.9920 - val_loss: 1.7969 - val_accuracy: 0.9800\n",
            "Epoch 15/22\n",
            "125/125 [==============================] - 4s 28ms/step - loss: 0.5024 - accuracy: 0.9880 - val_loss: 1.4981 - val_accuracy: 0.9790\n",
            "Epoch 16/22\n",
            "125/125 [==============================] - 4s 29ms/step - loss: 0.3806 - accuracy: 0.9905 - val_loss: 1.6309 - val_accuracy: 0.9820\n",
            "Epoch 17/22\n",
            "125/125 [==============================] - 4s 30ms/step - loss: 0.1643 - accuracy: 0.9945 - val_loss: 1.4734 - val_accuracy: 0.9790\n",
            "Epoch 18/22\n",
            "125/125 [==============================] - 4s 28ms/step - loss: 0.1225 - accuracy: 0.9930 - val_loss: 1.7719 - val_accuracy: 0.9800\n",
            "Epoch 19/22\n",
            "125/125 [==============================] - 4s 30ms/step - loss: 0.1614 - accuracy: 0.9965 - val_loss: 1.4077 - val_accuracy: 0.9810\n",
            "Epoch 20/22\n",
            "125/125 [==============================] - 4s 28ms/step - loss: 0.1968 - accuracy: 0.9910 - val_loss: 1.5780 - val_accuracy: 0.9800\n",
            "Epoch 21/22\n",
            "125/125 [==============================] - 4s 28ms/step - loss: 0.1249 - accuracy: 0.9950 - val_loss: 1.5093 - val_accuracy: 0.9810\n",
            "Epoch 22/22\n",
            "125/125 [==============================] - 4s 28ms/step - loss: 0.1677 - accuracy: 0.9950 - val_loss: 2.2791 - val_accuracy: 0.9760\n"
          ]
        }
      ],
      "source": [
        "model.compile(loss=\"binary_crossentropy\",\n",
        "              optimizer=keras.optimizers.RMSprop(learning_rate=1e-5),\n",
        "              metrics=[\"accuracy\"])\n",
        "\n",
        "callbacks = [\n",
        "    keras.callbacks.ModelCheckpoint(\n",
        "        filepath=\"fine_tuning.keras\",\n",
        "        save_best_only=True,\n",
        "        monitor=\"val_loss\")\n",
        "]\n",
        "history = model.fit(\n",
        "    train_dataset,\n",
        "    epochs=22,\n",
        "    validation_data=validation_dataset,\n",
        "    callbacks=callbacks)"
      ]
    },
    {
      "cell_type": "code",
      "execution_count": 319,
      "metadata": {
        "colab": {
          "base_uri": "https://localhost:8080/"
        },
        "id": "Fzpj3KINEI4o",
        "outputId": "997c46d5-3f3c-499b-ac6a-c6a4fd3a6b41"
      },
      "outputs": [
        {
          "output_type": "stream",
          "name": "stdout",
          "text": [
            "125/125 [==============================] - 2s 12ms/step - loss: 1.7542 - accuracy: 0.9750\n",
            "Test accuracy: 0.975\n"
          ]
        }
      ],
      "source": [
        "model = keras.models.load_model(\"fine_tuning.keras\")\n",
        "test_loss, test_acc = model.evaluate(test_dataset)\n",
        "print(f\"Test accuracy: {test_acc:.3f}\")"
      ]
    }
  ],
  "metadata": {
    "colab": {
      "collapsed_sections": [],
      "name": "chapter08_intro-to-dl-for-computer-vision.i",
      "provenance": [],
      "toc_visible": true,
      "machine_shape": "hm"
    },
    "kernelspec": {
      "display_name": "Python 3",
      "language": "python",
      "name": "python3"
    },
    "language_info": {
      "codemirror_mode": {
        "name": "ipython",
        "version": 3
      },
      "file_extension": ".py",
      "mimetype": "text/x-python",
      "name": "python",
      "nbconvert_exporter": "python",
      "pygments_lexer": "ipython3",
      "version": "3.7.0"
    },
    "accelerator": "GPU",
    "gpuClass": "premium"
  },
  "nbformat": 4,
  "nbformat_minor": 0
}