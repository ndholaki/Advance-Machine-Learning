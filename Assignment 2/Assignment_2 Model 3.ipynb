{
  "cells": [
    {
      "cell_type": "markdown",
      "metadata": {
        "id": "wozxk6QEEI4Q"
      },
      "source": [
        "This is a companion notebook for the book [Deep Learning with Python, Second Edition](https://www.manning.com/books/deep-learning-with-python-second-edition?a_aid=keras&a_bid=76564dff). For readability, it only contains runnable code blocks and section titles, and omits everything else in the book: text paragraphs, figures, and pseudocode.\n",
        "\n",
        "**If you want to be able to follow what's going on, I recommend reading the notebook side by side with your copy of the book.**\n",
        "\n",
        "This notebook was generated for TensorFlow 2.6."
      ]
    },
    {
      "cell_type": "markdown",
      "metadata": {
        "id": "O8KI-8erEI4W"
      },
      "source": [
        "# Introduction to deep learning for computer vision"
      ]
    },
    {
      "cell_type": "markdown",
      "metadata": {
        "id": "e7p2OfIAEI4X"
      },
      "source": [
        "## Introduction to convnets"
      ]
    },
    {
      "cell_type": "markdown",
      "metadata": {
        "id": "rsry0p45EI4X"
      },
      "source": [
        "**Instantiating a small convnet**"
      ]
    },
    {
      "cell_type": "code",
      "execution_count": 14,
      "metadata": {
        "id": "7FNobmFaEI4Y"
      },
      "outputs": [],
      "source": [
        "from tensorflow import keras\n",
        "from tensorflow.keras import layers\n",
        "inputs = keras.Input(shape=(28, 28, 1))\n",
        "x = layers.Conv2D(filters=32, kernel_size=3, activation=\"relu\")(inputs)\n",
        "x = layers.MaxPooling2D(pool_size=2)(x)\n",
        "x = layers.Conv2D(filters=64, kernel_size=3, activation=\"relu\")(x)\n",
        "x = layers.MaxPooling2D(pool_size=2)(x)\n",
        "x = layers.Conv2D(filters=128, kernel_size=3, activation=\"relu\")(x)\n",
        "x = layers.Flatten()(x)\n",
        "outputs = layers.Dense(10, activation=\"softmax\")(x)\n",
        "model = keras.Model(inputs=inputs, outputs=outputs)"
      ]
    },
    {
      "cell_type": "markdown",
      "metadata": {
        "id": "vdhQrmeiEI4Z"
      },
      "source": [
        "**Displaying the model's summary**"
      ]
    },
    {
      "cell_type": "code",
      "execution_count": 2,
      "metadata": {
        "colab": {
          "base_uri": "https://localhost:8080/"
        },
        "id": "QxLvVpbzEI4a",
        "outputId": "1a1af77d-942d-4d71-ffe8-361823d2aea0"
      },
      "outputs": [
        {
          "output_type": "stream",
          "name": "stdout",
          "text": [
            "Model: \"model\"\n",
            "_________________________________________________________________\n",
            " Layer (type)                Output Shape              Param #   \n",
            "=================================================================\n",
            " input_1 (InputLayer)        [(None, 28, 28, 1)]       0         \n",
            "                                                                 \n",
            " conv2d (Conv2D)             (None, 26, 26, 32)        320       \n",
            "                                                                 \n",
            " max_pooling2d (MaxPooling2D  (None, 13, 13, 32)       0         \n",
            " )                                                               \n",
            "                                                                 \n",
            " conv2d_1 (Conv2D)           (None, 11, 11, 64)        18496     \n",
            "                                                                 \n",
            " max_pooling2d_1 (MaxPooling  (None, 5, 5, 64)         0         \n",
            " 2D)                                                             \n",
            "                                                                 \n",
            " conv2d_2 (Conv2D)           (None, 3, 3, 128)         73856     \n",
            "                                                                 \n",
            " flatten (Flatten)           (None, 1152)              0         \n",
            "                                                                 \n",
            " dense (Dense)               (None, 10)                11530     \n",
            "                                                                 \n",
            "=================================================================\n",
            "Total params: 104,202\n",
            "Trainable params: 104,202\n",
            "Non-trainable params: 0\n",
            "_________________________________________________________________\n"
          ]
        }
      ],
      "source": [
        "model.summary()"
      ]
    },
    {
      "cell_type": "markdown",
      "metadata": {
        "id": "QoiYHzRcEI4a"
      },
      "source": [
        "**Training the convnet on MNIST images**"
      ]
    },
    {
      "cell_type": "code",
      "execution_count": 15,
      "metadata": {
        "colab": {
          "base_uri": "https://localhost:8080/"
        },
        "id": "nKOqLP4BEI4b",
        "outputId": "f3b92df8-ba93-42e7-af4f-b2e3923d5742"
      },
      "outputs": [
        {
          "output_type": "stream",
          "name": "stdout",
          "text": [
            "Epoch 1/5\n",
            "938/938 [==============================] - 4s 4ms/step - loss: 0.1575 - accuracy: 0.9504\n",
            "Epoch 2/5\n",
            "938/938 [==============================] - 3s 4ms/step - loss: 0.0436 - accuracy: 0.9866\n",
            "Epoch 3/5\n",
            "938/938 [==============================] - 3s 4ms/step - loss: 0.0296 - accuracy: 0.9905\n",
            "Epoch 4/5\n",
            "938/938 [==============================] - 3s 4ms/step - loss: 0.0230 - accuracy: 0.9934\n",
            "Epoch 5/5\n",
            "938/938 [==============================] - 3s 4ms/step - loss: 0.0176 - accuracy: 0.9951\n"
          ]
        },
        {
          "output_type": "execute_result",
          "data": {
            "text/plain": [
              "<keras.callbacks.History at 0x7f47c7fe3790>"
            ]
          },
          "metadata": {},
          "execution_count": 15
        }
      ],
      "source": [
        "from tensorflow.keras.datasets import mnist\n",
        "\n",
        "(train_images, train_labels), (test_images, test_labels) = mnist.load_data()\n",
        "train_images = train_images.reshape((60000, 28, 28, 1))\n",
        "train_images = train_images.astype(\"float32\") / 255\n",
        "test_images = test_images.reshape((10000, 28, 28, 1))\n",
        "test_images = test_images.astype(\"float32\") / 255\n",
        "model.compile(optimizer=\"rmsprop\",\n",
        "    loss=\"sparse_categorical_crossentropy\",\n",
        "    metrics=[\"accuracy\"])\n",
        "model.fit(train_images, train_labels, epochs=5, batch_size=64)"
      ]
    },
    {
      "cell_type": "markdown",
      "metadata": {
        "id": "A-lAg-gCEI4c"
      },
      "source": [
        "**Evaluating the convnet**"
      ]
    },
    {
      "cell_type": "code",
      "execution_count": 16,
      "metadata": {
        "colab": {
          "base_uri": "https://localhost:8080/"
        },
        "id": "U-F2vu08EI4c",
        "outputId": "da29a93b-56d7-4376-ce81-c23623dbb3a8"
      },
      "outputs": [
        {
          "output_type": "stream",
          "name": "stdout",
          "text": [
            "313/313 [==============================] - 1s 2ms/step - loss: 0.0375 - accuracy: 0.9889\n",
            "Test accuracy: 0.989\n"
          ]
        }
      ],
      "source": [
        "test_loss, test_acc = model.evaluate(test_images, test_labels)\n",
        "print(f\"Test accuracy: {test_acc:.3f}\")"
      ]
    },
    {
      "cell_type": "markdown",
      "metadata": {
        "id": "eK02CmdjEI4c"
      },
      "source": [
        "### The convolution operation"
      ]
    },
    {
      "cell_type": "markdown",
      "metadata": {
        "id": "RmpS2UrZEI4d"
      },
      "source": [
        "#### Understanding border effects and padding"
      ]
    },
    {
      "cell_type": "markdown",
      "metadata": {
        "id": "a5ytwQdAEI4d"
      },
      "source": [
        "#### Understanding convolution strides"
      ]
    },
    {
      "cell_type": "markdown",
      "metadata": {
        "id": "GW6wZPy0EI4e"
      },
      "source": [
        "### The max-pooling operation"
      ]
    },
    {
      "cell_type": "markdown",
      "metadata": {
        "id": "a_tkSGBCEI4e"
      },
      "source": [
        "**An incorrectly structured convnet missing its max-pooling layers**"
      ]
    },
    {
      "cell_type": "code",
      "execution_count": 17,
      "metadata": {
        "id": "fyeFOlrIEI4e"
      },
      "outputs": [],
      "source": [
        "inputs = keras.Input(shape=(28, 28, 1))\n",
        "x = layers.Conv2D(filters=32, kernel_size=3, activation=\"relu\")(inputs)\n",
        "x = layers.Conv2D(filters=64, kernel_size=3, activation=\"relu\")(x)\n",
        "x = layers.Conv2D(filters=128, kernel_size=3, activation=\"relu\")(x)\n",
        "x = layers.Flatten()(x)\n",
        "outputs = layers.Dense(10, activation=\"softmax\")(x)\n",
        "model_no_max_pool = keras.Model(inputs=inputs, outputs=outputs)"
      ]
    },
    {
      "cell_type": "code",
      "execution_count": 18,
      "metadata": {
        "colab": {
          "base_uri": "https://localhost:8080/"
        },
        "id": "e_3nO34MEI4f",
        "outputId": "ecc37460-93b4-4bb9-8f29-196d5ad4d0a5"
      },
      "outputs": [
        {
          "output_type": "stream",
          "name": "stdout",
          "text": [
            "Model: \"model_3\"\n",
            "_________________________________________________________________\n",
            " Layer (type)                Output Shape              Param #   \n",
            "=================================================================\n",
            " input_4 (InputLayer)        [(None, 28, 28, 1)]       0         \n",
            "                                                                 \n",
            " conv2d_9 (Conv2D)           (None, 26, 26, 32)        320       \n",
            "                                                                 \n",
            " conv2d_10 (Conv2D)          (None, 24, 24, 64)        18496     \n",
            "                                                                 \n",
            " conv2d_11 (Conv2D)          (None, 22, 22, 128)       73856     \n",
            "                                                                 \n",
            " flatten_3 (Flatten)         (None, 61952)             0         \n",
            "                                                                 \n",
            " dense_3 (Dense)             (None, 10)                619530    \n",
            "                                                                 \n",
            "=================================================================\n",
            "Total params: 712,202\n",
            "Trainable params: 712,202\n",
            "Non-trainable params: 0\n",
            "_________________________________________________________________\n"
          ]
        }
      ],
      "source": [
        "model_no_max_pool.summary()"
      ]
    },
    {
      "cell_type": "markdown",
      "metadata": {
        "id": "KDLjFf-XEI4f"
      },
      "source": [
        "## Training a convnet from scratch on a small dataset"
      ]
    },
    {
      "cell_type": "markdown",
      "metadata": {
        "id": "tDCdHKfQEI4f"
      },
      "source": [
        "### The relevance of deep learning for small-data problems"
      ]
    },
    {
      "cell_type": "markdown",
      "metadata": {
        "id": "LlwppZy0EI4f"
      },
      "source": [
        "### Downloading the data"
      ]
    },
    {
      "cell_type": "code",
      "execution_count": 19,
      "metadata": {
        "colab": {
          "base_uri": "https://localhost:8080/",
          "height": 92
        },
        "id": "YqtT_RnVEI4g",
        "outputId": "17a2b963-36ce-4253-9a96-3cf57f74f89f"
      },
      "outputs": [
        {
          "output_type": "display_data",
          "data": {
            "text/plain": [
              "<IPython.core.display.HTML object>"
            ],
            "text/html": [
              "\n",
              "     <input type=\"file\" id=\"files-505c2fcd-d694-4f6c-8c3c-7cd72d716e87\" name=\"files[]\" multiple disabled\n",
              "        style=\"border:none\" />\n",
              "     <output id=\"result-505c2fcd-d694-4f6c-8c3c-7cd72d716e87\">\n",
              "      Upload widget is only available when the cell has been executed in the\n",
              "      current browser session. Please rerun this cell to enable.\n",
              "      </output>\n",
              "      <script>// Copyright 2017 Google LLC\n",
              "//\n",
              "// Licensed under the Apache License, Version 2.0 (the \"License\");\n",
              "// you may not use this file except in compliance with the License.\n",
              "// You may obtain a copy of the License at\n",
              "//\n",
              "//      http://www.apache.org/licenses/LICENSE-2.0\n",
              "//\n",
              "// Unless required by applicable law or agreed to in writing, software\n",
              "// distributed under the License is distributed on an \"AS IS\" BASIS,\n",
              "// WITHOUT WARRANTIES OR CONDITIONS OF ANY KIND, either express or implied.\n",
              "// See the License for the specific language governing permissions and\n",
              "// limitations under the License.\n",
              "\n",
              "/**\n",
              " * @fileoverview Helpers for google.colab Python module.\n",
              " */\n",
              "(function(scope) {\n",
              "function span(text, styleAttributes = {}) {\n",
              "  const element = document.createElement('span');\n",
              "  element.textContent = text;\n",
              "  for (const key of Object.keys(styleAttributes)) {\n",
              "    element.style[key] = styleAttributes[key];\n",
              "  }\n",
              "  return element;\n",
              "}\n",
              "\n",
              "// Max number of bytes which will be uploaded at a time.\n",
              "const MAX_PAYLOAD_SIZE = 100 * 1024;\n",
              "\n",
              "function _uploadFiles(inputId, outputId) {\n",
              "  const steps = uploadFilesStep(inputId, outputId);\n",
              "  const outputElement = document.getElementById(outputId);\n",
              "  // Cache steps on the outputElement to make it available for the next call\n",
              "  // to uploadFilesContinue from Python.\n",
              "  outputElement.steps = steps;\n",
              "\n",
              "  return _uploadFilesContinue(outputId);\n",
              "}\n",
              "\n",
              "// This is roughly an async generator (not supported in the browser yet),\n",
              "// where there are multiple asynchronous steps and the Python side is going\n",
              "// to poll for completion of each step.\n",
              "// This uses a Promise to block the python side on completion of each step,\n",
              "// then passes the result of the previous step as the input to the next step.\n",
              "function _uploadFilesContinue(outputId) {\n",
              "  const outputElement = document.getElementById(outputId);\n",
              "  const steps = outputElement.steps;\n",
              "\n",
              "  const next = steps.next(outputElement.lastPromiseValue);\n",
              "  return Promise.resolve(next.value.promise).then((value) => {\n",
              "    // Cache the last promise value to make it available to the next\n",
              "    // step of the generator.\n",
              "    outputElement.lastPromiseValue = value;\n",
              "    return next.value.response;\n",
              "  });\n",
              "}\n",
              "\n",
              "/**\n",
              " * Generator function which is called between each async step of the upload\n",
              " * process.\n",
              " * @param {string} inputId Element ID of the input file picker element.\n",
              " * @param {string} outputId Element ID of the output display.\n",
              " * @return {!Iterable<!Object>} Iterable of next steps.\n",
              " */\n",
              "function* uploadFilesStep(inputId, outputId) {\n",
              "  const inputElement = document.getElementById(inputId);\n",
              "  inputElement.disabled = false;\n",
              "\n",
              "  const outputElement = document.getElementById(outputId);\n",
              "  outputElement.innerHTML = '';\n",
              "\n",
              "  const pickedPromise = new Promise((resolve) => {\n",
              "    inputElement.addEventListener('change', (e) => {\n",
              "      resolve(e.target.files);\n",
              "    });\n",
              "  });\n",
              "\n",
              "  const cancel = document.createElement('button');\n",
              "  inputElement.parentElement.appendChild(cancel);\n",
              "  cancel.textContent = 'Cancel upload';\n",
              "  const cancelPromise = new Promise((resolve) => {\n",
              "    cancel.onclick = () => {\n",
              "      resolve(null);\n",
              "    };\n",
              "  });\n",
              "\n",
              "  // Wait for the user to pick the files.\n",
              "  const files = yield {\n",
              "    promise: Promise.race([pickedPromise, cancelPromise]),\n",
              "    response: {\n",
              "      action: 'starting',\n",
              "    }\n",
              "  };\n",
              "\n",
              "  cancel.remove();\n",
              "\n",
              "  // Disable the input element since further picks are not allowed.\n",
              "  inputElement.disabled = true;\n",
              "\n",
              "  if (!files) {\n",
              "    return {\n",
              "      response: {\n",
              "        action: 'complete',\n",
              "      }\n",
              "    };\n",
              "  }\n",
              "\n",
              "  for (const file of files) {\n",
              "    const li = document.createElement('li');\n",
              "    li.append(span(file.name, {fontWeight: 'bold'}));\n",
              "    li.append(span(\n",
              "        `(${file.type || 'n/a'}) - ${file.size} bytes, ` +\n",
              "        `last modified: ${\n",
              "            file.lastModifiedDate ? file.lastModifiedDate.toLocaleDateString() :\n",
              "                                    'n/a'} - `));\n",
              "    const percent = span('0% done');\n",
              "    li.appendChild(percent);\n",
              "\n",
              "    outputElement.appendChild(li);\n",
              "\n",
              "    const fileDataPromise = new Promise((resolve) => {\n",
              "      const reader = new FileReader();\n",
              "      reader.onload = (e) => {\n",
              "        resolve(e.target.result);\n",
              "      };\n",
              "      reader.readAsArrayBuffer(file);\n",
              "    });\n",
              "    // Wait for the data to be ready.\n",
              "    let fileData = yield {\n",
              "      promise: fileDataPromise,\n",
              "      response: {\n",
              "        action: 'continue',\n",
              "      }\n",
              "    };\n",
              "\n",
              "    // Use a chunked sending to avoid message size limits. See b/62115660.\n",
              "    let position = 0;\n",
              "    do {\n",
              "      const length = Math.min(fileData.byteLength - position, MAX_PAYLOAD_SIZE);\n",
              "      const chunk = new Uint8Array(fileData, position, length);\n",
              "      position += length;\n",
              "\n",
              "      const base64 = btoa(String.fromCharCode.apply(null, chunk));\n",
              "      yield {\n",
              "        response: {\n",
              "          action: 'append',\n",
              "          file: file.name,\n",
              "          data: base64,\n",
              "        },\n",
              "      };\n",
              "\n",
              "      let percentDone = fileData.byteLength === 0 ?\n",
              "          100 :\n",
              "          Math.round((position / fileData.byteLength) * 100);\n",
              "      percent.textContent = `${percentDone}% done`;\n",
              "\n",
              "    } while (position < fileData.byteLength);\n",
              "  }\n",
              "\n",
              "  // All done.\n",
              "  yield {\n",
              "    response: {\n",
              "      action: 'complete',\n",
              "    }\n",
              "  };\n",
              "}\n",
              "\n",
              "scope.google = scope.google || {};\n",
              "scope.google.colab = scope.google.colab || {};\n",
              "scope.google.colab._files = {\n",
              "  _uploadFiles,\n",
              "  _uploadFilesContinue,\n",
              "};\n",
              "})(self);\n",
              "</script> "
            ]
          },
          "metadata": {}
        },
        {
          "output_type": "stream",
          "name": "stdout",
          "text": [
            "Saving dogs-vs-cats.zip to dogs-vs-cats.zip\n"
          ]
        }
      ],
      "source": [
        "from google.colab import files\n",
        "files.upload()"
      ]
    },
    {
      "cell_type": "code",
      "execution_count": 63,
      "metadata": {
        "colab": {
          "base_uri": "https://localhost:8080/"
        },
        "id": "9fHORyRiEI4g",
        "outputId": "f4825e86-c298-4e9a-972a-88868f0c7693"
      },
      "outputs": [
        {
          "output_type": "stream",
          "name": "stdout",
          "text": [
            "replace sampleSubmission.csv? [y]es, [n]o, [A]ll, [N]one, [r]ename: replace train/cat.0.jpg? [y]es, [n]o, [A]ll, [N]one, [r]ename: replace test1/1.jpg? [y]es, [n]o, [A]ll, [N]one, [r]ename: "
          ]
        }
      ],
      "source": [
        "!unzip -qq dogs-vs-cats.zip\n",
        "!unzip -qq train.zip\n",
        "!unzip -qq test1.zip"
      ]
    },
    {
      "cell_type": "markdown",
      "metadata": {
        "id": "wH0bpDp4EI4g"
      },
      "source": [
        "**Copying images to training, validation, and test directories**"
      ]
    },
    {
      "cell_type": "code",
      "execution_count": 244,
      "metadata": {
        "id": "w77WPlkAEI4g"
      },
      "outputs": [],
      "source": [
        "import os, shutil, pathlib\n",
        "\n",
        "original_dir = pathlib.Path(\"train\")\n",
        "new_base_dir = pathlib.Path(\"cats_vs_dogs_small\")\n",
        "\n",
        "def make_subset(subset_name, start_index, end_index):\n",
        "    for category in (\"cat\", \"dog\"):\n",
        "        dir = new_base_dir / subset_name / category\n",
        "        fnames = [f\"{category}.{i}.jpg\" for i in range(start_index, end_index)]\n",
        "        for fname in fnames:\n",
        "            shutil.copyfile(src=original_dir / fname,\n",
        "                            dst=dir / fname)\n",
        "\n",
        "make_subset(\"train\", start_index=0, end_index=1000)\n",
        "make_subset(\"validation\", start_index=1000, end_index=1500)\n",
        "make_subset(\"test\", start_index=1500, end_index=2500)"
      ]
    },
    {
      "cell_type": "markdown",
      "metadata": {
        "id": "FmsUfnz9EI4h"
      },
      "source": [
        "### Building the model"
      ]
    },
    {
      "cell_type": "markdown",
      "metadata": {
        "id": "fwaZkv5rEI4h"
      },
      "source": [
        "**Instantiating a small convnet for dogs vs. cats classification**"
      ]
    },
    {
      "cell_type": "code",
      "execution_count": 212,
      "metadata": {
        "id": "6obpJltiEI4h"
      },
      "outputs": [],
      "source": [
        "from tensorflow import keras\n",
        "from tensorflow.keras import layers\n",
        "\n",
        "inputs = keras.Input(shape=(180, 180, 3))\n",
        "x = layers.Rescaling(1./255)(inputs)\n",
        "x = layers.Conv2D(filters=32, kernel_size=3, activation=\"relu\")(x)\n",
        "x = layers.MaxPooling2D(pool_size=2)(x)\n",
        "x = layers.Conv2D(filters=64, kernel_size=3, activation=\"relu\")(x)\n",
        "x = layers.MaxPooling2D(pool_size=2)(x)\n",
        "x = layers.Conv2D(filters=128, kernel_size=3, activation=\"relu\")(x)\n",
        "x = layers.MaxPooling2D(pool_size=2)(x)\n",
        "x = layers.Conv2D(filters=256, kernel_size=3, activation=\"relu\")(x)\n",
        "x = layers.MaxPooling2D(pool_size=2)(x)\n",
        "x = layers.Conv2D(filters=256, kernel_size=3, activation=\"relu\")(x)\n",
        "x = layers.Flatten()(x)\n",
        "outputs = layers.Dense(1, activation=\"sigmoid\")(x)\n",
        "model = keras.Model(inputs=inputs, outputs=outputs)"
      ]
    },
    {
      "cell_type": "code",
      "execution_count": 213,
      "metadata": {
        "colab": {
          "base_uri": "https://localhost:8080/"
        },
        "id": "_Is0ASvLEI4h",
        "outputId": "cd42b58f-b201-4139-899a-0115de772956"
      },
      "outputs": [
        {
          "output_type": "stream",
          "name": "stdout",
          "text": [
            "Model: \"model_27\"\n",
            "_________________________________________________________________\n",
            " Layer (type)                Output Shape              Param #   \n",
            "=================================================================\n",
            " input_38 (InputLayer)       [(None, 180, 180, 3)]     0         \n",
            "                                                                 \n",
            " rescaling_13 (Rescaling)    (None, 180, 180, 3)       0         \n",
            "                                                                 \n",
            " conv2d_77 (Conv2D)          (None, 178, 178, 32)      896       \n",
            "                                                                 \n",
            " max_pooling2d_56 (MaxPoolin  (None, 89, 89, 32)       0         \n",
            " g2D)                                                            \n",
            "                                                                 \n",
            " conv2d_78 (Conv2D)          (None, 87, 87, 64)        18496     \n",
            "                                                                 \n",
            " max_pooling2d_57 (MaxPoolin  (None, 43, 43, 64)       0         \n",
            " g2D)                                                            \n",
            "                                                                 \n",
            " conv2d_79 (Conv2D)          (None, 41, 41, 128)       73856     \n",
            "                                                                 \n",
            " max_pooling2d_58 (MaxPoolin  (None, 20, 20, 128)      0         \n",
            " g2D)                                                            \n",
            "                                                                 \n",
            " conv2d_80 (Conv2D)          (None, 18, 18, 256)       295168    \n",
            "                                                                 \n",
            " max_pooling2d_59 (MaxPoolin  (None, 9, 9, 256)        0         \n",
            " g2D)                                                            \n",
            "                                                                 \n",
            " conv2d_81 (Conv2D)          (None, 7, 7, 256)         590080    \n",
            "                                                                 \n",
            " flatten_27 (Flatten)        (None, 12544)             0         \n",
            "                                                                 \n",
            " dense_37 (Dense)            (None, 1)                 12545     \n",
            "                                                                 \n",
            "=================================================================\n",
            "Total params: 991,041\n",
            "Trainable params: 991,041\n",
            "Non-trainable params: 0\n",
            "_________________________________________________________________\n"
          ]
        }
      ],
      "source": [
        "model.summary()"
      ]
    },
    {
      "cell_type": "markdown",
      "metadata": {
        "id": "LmLBsZiFEI4h"
      },
      "source": [
        "**Configuring the model for training**"
      ]
    },
    {
      "cell_type": "code",
      "execution_count": 214,
      "metadata": {
        "id": "KxVwOCTBEI4i"
      },
      "outputs": [],
      "source": [
        "model.compile(loss=\"binary_crossentropy\",\n",
        "              optimizer=\"rmsprop\",\n",
        "              metrics=[\"accuracy\"])"
      ]
    },
    {
      "cell_type": "markdown",
      "metadata": {
        "id": "zSMbQetgEI4i"
      },
      "source": [
        "### Data preprocessing"
      ]
    },
    {
      "cell_type": "markdown",
      "metadata": {
        "id": "vQD99lnrEI4i"
      },
      "source": [
        "**Using `image_dataset_from_directory` to read images**"
      ]
    },
    {
      "cell_type": "code",
      "execution_count": 215,
      "metadata": {
        "colab": {
          "base_uri": "https://localhost:8080/"
        },
        "id": "TGDvbQg9EI4i",
        "outputId": "bed87a30-b756-4908-a5d0-5dd35ebc24b8"
      },
      "outputs": [
        {
          "output_type": "stream",
          "name": "stdout",
          "text": [
            "Found 2000 files belonging to 2 classes.\n",
            "Found 1000 files belonging to 2 classes.\n",
            "Found 2000 files belonging to 2 classes.\n"
          ]
        }
      ],
      "source": [
        "from tensorflow.keras.utils import image_dataset_from_directory\n",
        "\n",
        "train_dataset = image_dataset_from_directory(\n",
        "    new_base_dir / \"train\",\n",
        "    image_size=(180, 180),\n",
        "    batch_size=32)\n",
        "validation_dataset = image_dataset_from_directory(\n",
        "    new_base_dir / \"validation\",\n",
        "    image_size=(180, 180),\n",
        "    batch_size=32)\n",
        "test_dataset = image_dataset_from_directory(\n",
        "    new_base_dir / \"test\",\n",
        "    image_size=(180, 180),\n",
        "    batch_size=32)"
      ]
    },
    {
      "cell_type": "code",
      "execution_count": 216,
      "metadata": {
        "id": "KFalVzGdEI4i"
      },
      "outputs": [],
      "source": [
        "import numpy as np\n",
        "import tensorflow as tf\n",
        "random_numbers = np.random.normal(size=(1000, 16))\n",
        "dataset = tf.data.Dataset.from_tensor_slices(random_numbers)"
      ]
    },
    {
      "cell_type": "code",
      "execution_count": 217,
      "metadata": {
        "colab": {
          "base_uri": "https://localhost:8080/"
        },
        "id": "PM601YIbEI4i",
        "outputId": "372342d4-8cfd-468b-b6f7-c6e1ce514b03"
      },
      "outputs": [
        {
          "output_type": "stream",
          "name": "stdout",
          "text": [
            "(16,)\n",
            "(16,)\n",
            "(16,)\n"
          ]
        }
      ],
      "source": [
        "for i, element in enumerate(dataset):\n",
        "    print(element.shape)\n",
        "    if i >= 2:\n",
        "        break"
      ]
    },
    {
      "cell_type": "code",
      "execution_count": 218,
      "metadata": {
        "colab": {
          "base_uri": "https://localhost:8080/"
        },
        "id": "GBUF3PTCEI4j",
        "outputId": "eea68ac8-2cbc-4c6e-8783-8f524b6c4f2f"
      },
      "outputs": [
        {
          "output_type": "stream",
          "name": "stdout",
          "text": [
            "(32, 16)\n",
            "(32, 16)\n",
            "(32, 16)\n"
          ]
        }
      ],
      "source": [
        "batched_dataset = dataset.batch(32)\n",
        "for i, element in enumerate(batched_dataset):\n",
        "    print(element.shape)\n",
        "    if i >= 2:\n",
        "        break"
      ]
    },
    {
      "cell_type": "code",
      "execution_count": 219,
      "metadata": {
        "colab": {
          "base_uri": "https://localhost:8080/"
        },
        "id": "jRboDJc9EI4j",
        "outputId": "8c791bbc-6088-42bb-c1f4-31c752b06d55"
      },
      "outputs": [
        {
          "output_type": "stream",
          "name": "stdout",
          "text": [
            "(4, 4)\n",
            "(4, 4)\n",
            "(4, 4)\n"
          ]
        }
      ],
      "source": [
        "reshaped_dataset = dataset.map(lambda x: tf.reshape(x, (4, 4)))\n",
        "for i, element in enumerate(reshaped_dataset):\n",
        "    print(element.shape)\n",
        "    if i >= 2:\n",
        "        break"
      ]
    },
    {
      "cell_type": "markdown",
      "metadata": {
        "id": "dcAHZKzVEI4j"
      },
      "source": [
        "**Displaying the shapes of the data and labels yielded by the `Dataset`**"
      ]
    },
    {
      "cell_type": "code",
      "execution_count": 220,
      "metadata": {
        "colab": {
          "base_uri": "https://localhost:8080/"
        },
        "id": "zetqdIP9EI4j",
        "outputId": "ab7ae912-868c-41b9-b704-38bda61774d8"
      },
      "outputs": [
        {
          "output_type": "stream",
          "name": "stdout",
          "text": [
            "data batch shape: (32, 180, 180, 3)\n",
            "labels batch shape: (32,)\n"
          ]
        }
      ],
      "source": [
        "for data_batch, labels_batch in train_dataset:\n",
        "    print(\"data batch shape:\", data_batch.shape)\n",
        "    print(\"labels batch shape:\", labels_batch.shape)\n",
        "    break"
      ]
    },
    {
      "cell_type": "markdown",
      "metadata": {
        "id": "e5WMB5zsEI4j"
      },
      "source": [
        "**Fitting the model using a `Dataset`**"
      ]
    },
    {
      "cell_type": "code",
      "execution_count": 221,
      "metadata": {
        "colab": {
          "base_uri": "https://localhost:8080/"
        },
        "id": "TKynUCrxEI4j",
        "outputId": "25351924-8c29-41a9-a0c5-55b941780435"
      },
      "outputs": [
        {
          "output_type": "stream",
          "name": "stdout",
          "text": [
            "Epoch 1/25\n",
            "63/63 [==============================] - 2s 23ms/step - loss: 0.7288 - accuracy: 0.5100 - val_loss: 0.6901 - val_accuracy: 0.5020\n",
            "Epoch 2/25\n",
            "63/63 [==============================] - 1s 20ms/step - loss: 0.7416 - accuracy: 0.5585 - val_loss: 0.7284 - val_accuracy: 0.5010\n",
            "Epoch 3/25\n",
            "63/63 [==============================] - 1s 20ms/step - loss: 0.6781 - accuracy: 0.5930 - val_loss: 0.6668 - val_accuracy: 0.6060\n",
            "Epoch 4/25\n",
            "63/63 [==============================] - 1s 20ms/step - loss: 0.6428 - accuracy: 0.6495 - val_loss: 0.6316 - val_accuracy: 0.6420\n",
            "Epoch 5/25\n",
            "63/63 [==============================] - 1s 20ms/step - loss: 0.6113 - accuracy: 0.6685 - val_loss: 0.5948 - val_accuracy: 0.6770\n",
            "Epoch 6/25\n",
            "63/63 [==============================] - 1s 20ms/step - loss: 0.5515 - accuracy: 0.7225 - val_loss: 0.6596 - val_accuracy: 0.6420\n",
            "Epoch 7/25\n",
            "63/63 [==============================] - 1s 21ms/step - loss: 0.5164 - accuracy: 0.7560 - val_loss: 0.5738 - val_accuracy: 0.7170\n",
            "Epoch 8/25\n",
            "63/63 [==============================] - 1s 20ms/step - loss: 0.4814 - accuracy: 0.7640 - val_loss: 0.6091 - val_accuracy: 0.7090\n",
            "Epoch 9/25\n",
            "63/63 [==============================] - 1s 20ms/step - loss: 0.4333 - accuracy: 0.7970 - val_loss: 0.6911 - val_accuracy: 0.6770\n",
            "Epoch 10/25\n",
            "63/63 [==============================] - 1s 20ms/step - loss: 0.3723 - accuracy: 0.8320 - val_loss: 0.9905 - val_accuracy: 0.6260\n",
            "Epoch 11/25\n",
            "63/63 [==============================] - 1s 20ms/step - loss: 0.3201 - accuracy: 0.8715 - val_loss: 0.7687 - val_accuracy: 0.7150\n",
            "Epoch 12/25\n",
            "63/63 [==============================] - 1s 20ms/step - loss: 0.2679 - accuracy: 0.8925 - val_loss: 0.6833 - val_accuracy: 0.7360\n",
            "Epoch 13/25\n",
            "63/63 [==============================] - 1s 20ms/step - loss: 0.1974 - accuracy: 0.9220 - val_loss: 1.0167 - val_accuracy: 0.7190\n",
            "Epoch 14/25\n",
            "63/63 [==============================] - 1s 20ms/step - loss: 0.1559 - accuracy: 0.9380 - val_loss: 1.0444 - val_accuracy: 0.7250\n",
            "Epoch 15/25\n",
            "63/63 [==============================] - 1s 20ms/step - loss: 0.1302 - accuracy: 0.9485 - val_loss: 1.1779 - val_accuracy: 0.7030\n",
            "Epoch 16/25\n",
            "63/63 [==============================] - 1s 20ms/step - loss: 0.0949 - accuracy: 0.9680 - val_loss: 1.8285 - val_accuracy: 0.7150\n",
            "Epoch 17/25\n",
            "63/63 [==============================] - 1s 20ms/step - loss: 0.1076 - accuracy: 0.9745 - val_loss: 1.4254 - val_accuracy: 0.7310\n",
            "Epoch 18/25\n",
            "63/63 [==============================] - 1s 20ms/step - loss: 0.0778 - accuracy: 0.9805 - val_loss: 2.1756 - val_accuracy: 0.6580\n",
            "Epoch 19/25\n",
            "63/63 [==============================] - 1s 20ms/step - loss: 0.0836 - accuracy: 0.9730 - val_loss: 1.7543 - val_accuracy: 0.7150\n",
            "Epoch 20/25\n",
            "63/63 [==============================] - 1s 20ms/step - loss: 0.0625 - accuracy: 0.9795 - val_loss: 1.9937 - val_accuracy: 0.6840\n",
            "Epoch 21/25\n",
            "63/63 [==============================] - 1s 20ms/step - loss: 0.0604 - accuracy: 0.9790 - val_loss: 2.1067 - val_accuracy: 0.7060\n",
            "Epoch 22/25\n",
            "63/63 [==============================] - 1s 20ms/step - loss: 0.0623 - accuracy: 0.9780 - val_loss: 1.7733 - val_accuracy: 0.7340\n",
            "Epoch 23/25\n",
            "63/63 [==============================] - 1s 20ms/step - loss: 0.0560 - accuracy: 0.9850 - val_loss: 2.1282 - val_accuracy: 0.7240\n",
            "Epoch 24/25\n",
            "63/63 [==============================] - 1s 20ms/step - loss: 0.0702 - accuracy: 0.9760 - val_loss: 1.8893 - val_accuracy: 0.7110\n",
            "Epoch 25/25\n",
            "63/63 [==============================] - 1s 20ms/step - loss: 0.0376 - accuracy: 0.9870 - val_loss: 2.2684 - val_accuracy: 0.7150\n"
          ]
        }
      ],
      "source": [
        "callbacks = [\n",
        "    keras.callbacks.ModelCheckpoint(\n",
        "        filepath=\"convnet_from_scratch.keras\",\n",
        "        save_best_only=True,\n",
        "        monitor=\"val_loss\")\n",
        "]\n",
        "history = model.fit(\n",
        "    train_dataset,\n",
        "    epochs=25,\n",
        "    validation_data=validation_dataset,\n",
        "    callbacks=callbacks)"
      ]
    },
    {
      "cell_type": "markdown",
      "metadata": {
        "id": "s41FFIxMEI4j"
      },
      "source": [
        "**Displaying curves of loss and accuracy during training**"
      ]
    },
    {
      "cell_type": "code",
      "execution_count": 222,
      "metadata": {
        "colab": {
          "base_uri": "https://localhost:8080/",
          "height": 545
        },
        "id": "ZES_aykmEI4j",
        "outputId": "795ef28f-7fcd-4922-bd3a-e19ee0de7bae"
      },
      "outputs": [
        {
          "output_type": "display_data",
          "data": {
            "text/plain": [
              "<Figure size 432x288 with 1 Axes>"
            ],
            "image/png": "[encoded data removed]"
          },
          "metadata": {
            "needs_background": "light"
          }
        },
        {
          "output_type": "display_data",
          "data": {
            "text/plain": [
              "<Figure size 432x288 with 1 Axes>"
            ],
            "image/png": "[encoded data removed]"
          },
          "metadata": {
            "needs_background": "light"
          }
        }
      ],
      "source": [
        "import matplotlib.pyplot as plt\n",
        "accuracy = history.history[\"accuracy\"]\n",
        "val_accuracy = history.history[\"val_accuracy\"]\n",
        "loss = history.history[\"loss\"]\n",
        "val_loss = history.history[\"val_loss\"]\n",
        "epochs = range(1, len(accuracy) + 1)\n",
        "plt.plot(epochs, accuracy, \"bo\", label=\"Training accuracy\")\n",
        "plt.plot(epochs, val_accuracy, \"b\", label=\"Validation accuracy\")\n",
        "plt.title(\"Training and validation accuracy\")\n",
        "plt.legend()\n",
        "plt.figure()\n",
        "plt.plot(epochs, loss, \"bo\", label=\"Training loss\")\n",
        "plt.plot(epochs, val_loss, \"b\", label=\"Validation loss\")\n",
        "plt.title(\"Training and validation loss\")\n",
        "plt.legend()\n",
        "plt.show()"
      ]
    },
    {
      "cell_type": "markdown",
      "metadata": {
        "id": "AhXi919aEI4j"
      },
      "source": [
        "**Evaluating the model on the test set**"
      ]
    },
    {
      "cell_type": "code",
      "execution_count": 223,
      "metadata": {
        "colab": {
          "base_uri": "https://localhost:8080/"
        },
        "id": "eyJJlI_fEI4k",
        "outputId": "bdea6d49-b072-4747-9614-fbe019c9d19e"
      },
      "outputs": [
        {
          "output_type": "stream",
          "name": "stdout",
          "text": [
            "63/63 [==============================] - 1s 10ms/step - loss: 0.6103 - accuracy: 0.7010\n",
            "Test accuracy: 0.701\n"
          ]
        }
      ],
      "source": [
        "test_model = keras.models.load_model(\"convnet_from_scratch.keras\")\n",
        "test_loss, test_acc = test_model.evaluate(test_dataset)\n",
        "print(f\"Test accuracy: {test_acc:.3f}\")"
      ]
    },
    {
      "cell_type": "markdown",
      "metadata": {
        "id": "KyLD2xQUEI4k"
      },
      "source": [
        "### Using data augmentation"
      ]
    },
    {
      "cell_type": "markdown",
      "metadata": {
        "id": "tt7LvopJEI4k"
      },
      "source": [
        "**Define a data augmentation stage to add to an image model**"
      ]
    },
    {
      "cell_type": "code",
      "execution_count": 224,
      "metadata": {
        "id": "bMEXEsoaEI4k"
      },
      "outputs": [],
      "source": [
        "data_augmentation = keras.Sequential(\n",
        "    [\n",
        "        layers.RandomFlip(\"horizontal\"),\n",
        "        layers.RandomRotation(0.1),\n",
        "        layers.RandomZoom(0.2),\n",
        "    ]\n",
        ")"
      ]
    },
    {
      "cell_type": "markdown",
      "metadata": {
        "id": "sFa55enNEI4k"
      },
      "source": [
        "**Displaying some randomly augmented training images**"
      ]
    },
    {
      "cell_type": "code",
      "execution_count": 225,
      "metadata": {
        "colab": {
          "base_uri": "https://localhost:8080/",
          "height": 575
        },
        "id": "RYbmZA-VEI4k",
        "outputId": "07e910b6-d900-4af8-e090-45ae828c6381"
      },
      "outputs": [
        {
          "output_type": "display_data",
          "data": {
            "text/plain": [
              "<Figure size 720x720 with 9 Axes>"
            ],
            "image/png": "[encoded data removed]"
          },
          "metadata": {
            "needs_background": "light"
          }
        }
      ],
      "source": [
        "plt.figure(figsize=(10, 10))\n",
        "for images, _ in train_dataset.take(1):\n",
        "    for i in range(9):\n",
        "        augmented_images = data_augmentation(images)\n",
        "        ax = plt.subplot(3, 3, i + 1)\n",
        "        plt.imshow(augmented_images[0].numpy().astype(\"uint8\"))\n",
        "        plt.axis(\"off\")"
      ]
    },
    {
      "cell_type": "markdown",
      "metadata": {
        "id": "8PfSOWybEI4k"
      },
      "source": [
        "**Defining a new convnet that includes image augmentation and dropout**"
      ]
    },
    {
      "cell_type": "code",
      "execution_count": 226,
      "metadata": {
        "id": "Du5HTObyEI4k"
      },
      "outputs": [],
      "source": [
        "inputs = keras.Input(shape=(180, 180, 3))\n",
        "x = data_augmentation(inputs)\n",
        "x = layers.Rescaling(1./255)(x)\n",
        "x = layers.Conv2D(filters=32, kernel_size=4, activation=\"relu\")(x)\n",
        "x = layers.MaxPooling2D(pool_size=2)(x)\n",
        "x = layers.Conv2D(filters=64, kernel_size=4, activation=\"relu\")(x)\n",
        "x = layers.MaxPooling2D(pool_size=2)(x)\n",
        "x = layers.Conv2D(filters=128, kernel_size=4, activation=\"relu\")(x)\n",
        "x = layers.MaxPooling2D(pool_size=2)(x)\n",
        "x = layers.Conv2D(filters=256, kernel_size=4, activation=\"relu\")(x)\n",
        "x = layers.MaxPooling2D(pool_size=2)(x)\n",
        "x = layers.Conv2D(filters=256, kernel_size=4, activation=\"relu\")(x)\n",
        "x = layers.Flatten()(x)\n",
        "x = layers.Dropout(0.5)(x)\n",
        "outputs = layers.Dense(1, activation=\"sigmoid\")(x)\n",
        "model = keras.Model(inputs=inputs, outputs=outputs)\n",
        "\n",
        "model.compile(loss=\"binary_crossentropy\",\n",
        "              optimizer=\"rmsprop\",\n",
        "              metrics=[\"accuracy\"])"
      ]
    },
    {
      "cell_type": "markdown",
      "metadata": {
        "id": "ZeiOFgtVEI4k"
      },
      "source": [
        "**Training the regularized convnet**"
      ]
    },
    {
      "cell_type": "code",
      "execution_count": 227,
      "metadata": {
        "colab": {
          "base_uri": "https://localhost:8080/"
        },
        "id": "90A_cvZiEI4l",
        "outputId": "3c89567e-cf8b-4ba3-d53f-ed081839ac93"
      },
      "outputs": [
        {
          "output_type": "stream",
          "name": "stdout",
          "text": [
            "Epoch 1/120\n",
            "63/63 [==============================] - 4s 39ms/step - loss: 0.7410 - accuracy: 0.5020 - val_loss: 0.7669 - val_accuracy: 0.5000\n",
            "Epoch 2/120\n",
            "63/63 [==============================] - 2s 36ms/step - loss: 0.6998 - accuracy: 0.5095 - val_loss: 0.6899 - val_accuracy: 0.5440\n",
            "Epoch 3/120\n",
            "63/63 [==============================] - 2s 35ms/step - loss: 0.7154 - accuracy: 0.5325 - val_loss: 0.8462 - val_accuracy: 0.5030\n",
            "Epoch 4/120\n",
            "63/63 [==============================] - 2s 36ms/step - loss: 0.6878 - accuracy: 0.5825 - val_loss: 0.6693 - val_accuracy: 0.5870\n",
            "Epoch 5/120\n",
            "63/63 [==============================] - 2s 36ms/step - loss: 0.6882 - accuracy: 0.6020 - val_loss: 0.6535 - val_accuracy: 0.5990\n",
            "Epoch 6/120\n",
            "63/63 [==============================] - 2s 36ms/step - loss: 0.6685 - accuracy: 0.6180 - val_loss: 0.6367 - val_accuracy: 0.6540\n",
            "Epoch 7/120\n",
            "63/63 [==============================] - 2s 34ms/step - loss: 0.6513 - accuracy: 0.6360 - val_loss: 0.8015 - val_accuracy: 0.5840\n",
            "Epoch 8/120\n",
            "63/63 [==============================] - 2s 36ms/step - loss: 0.6530 - accuracy: 0.6320 - val_loss: 0.6005 - val_accuracy: 0.6900\n",
            "Epoch 9/120\n",
            "63/63 [==============================] - 2s 35ms/step - loss: 0.6425 - accuracy: 0.6560 - val_loss: 0.9056 - val_accuracy: 0.5490\n",
            "Epoch 10/120\n",
            "63/63 [==============================] - 2s 35ms/step - loss: 0.6059 - accuracy: 0.6760 - val_loss: 0.6651 - val_accuracy: 0.6080\n",
            "Epoch 11/120\n",
            "63/63 [==============================] - 2s 35ms/step - loss: 0.6158 - accuracy: 0.6715 - val_loss: 0.6839 - val_accuracy: 0.6670\n",
            "Epoch 12/120\n",
            "63/63 [==============================] - 2s 35ms/step - loss: 0.5873 - accuracy: 0.6960 - val_loss: 0.6200 - val_accuracy: 0.6630\n",
            "Epoch 13/120\n",
            "63/63 [==============================] - 2s 36ms/step - loss: 0.5828 - accuracy: 0.6960 - val_loss: 0.5907 - val_accuracy: 0.6850\n",
            "Epoch 14/120\n",
            "63/63 [==============================] - 2s 36ms/step - loss: 0.5690 - accuracy: 0.7040 - val_loss: 0.5883 - val_accuracy: 0.7140\n",
            "Epoch 15/120\n",
            "63/63 [==============================] - 2s 36ms/step - loss: 0.5545 - accuracy: 0.7125 - val_loss: 0.5689 - val_accuracy: 0.7170\n",
            "Epoch 16/120\n",
            "63/63 [==============================] - 2s 35ms/step - loss: 0.5500 - accuracy: 0.7350 - val_loss: 0.6890 - val_accuracy: 0.6650\n",
            "Epoch 17/120\n",
            "63/63 [==============================] - 2s 36ms/step - loss: 0.5437 - accuracy: 0.7395 - val_loss: 0.5559 - val_accuracy: 0.7070\n",
            "Epoch 18/120\n",
            "63/63 [==============================] - 2s 35ms/step - loss: 0.5525 - accuracy: 0.7280 - val_loss: 0.5268 - val_accuracy: 0.7380\n",
            "Epoch 19/120\n",
            "63/63 [==============================] - 2s 35ms/step - loss: 0.5240 - accuracy: 0.7500 - val_loss: 0.5206 - val_accuracy: 0.7320\n",
            "Epoch 20/120\n",
            "63/63 [==============================] - 2s 35ms/step - loss: 0.5100 - accuracy: 0.7560 - val_loss: 0.7584 - val_accuracy: 0.6530\n",
            "Epoch 21/120\n",
            "63/63 [==============================] - 2s 35ms/step - loss: 0.5053 - accuracy: 0.7635 - val_loss: 0.5811 - val_accuracy: 0.7020\n",
            "Epoch 22/120\n",
            "63/63 [==============================] - 2s 35ms/step - loss: 0.5008 - accuracy: 0.7485 - val_loss: 0.5629 - val_accuracy: 0.7220\n",
            "Epoch 23/120\n",
            "63/63 [==============================] - 2s 36ms/step - loss: 0.4856 - accuracy: 0.7740 - val_loss: 0.5022 - val_accuracy: 0.7610\n",
            "Epoch 24/120\n",
            "63/63 [==============================] - 2s 34ms/step - loss: 0.4620 - accuracy: 0.7915 - val_loss: 0.5249 - val_accuracy: 0.7850\n",
            "Epoch 25/120\n",
            "63/63 [==============================] - 2s 36ms/step - loss: 0.4610 - accuracy: 0.7860 - val_loss: 0.5494 - val_accuracy: 0.7370\n",
            "Epoch 26/120\n",
            "63/63 [==============================] - 2s 36ms/step - loss: 0.4834 - accuracy: 0.7745 - val_loss: 0.4726 - val_accuracy: 0.7800\n",
            "Epoch 27/120\n",
            "63/63 [==============================] - 2s 35ms/step - loss: 0.4635 - accuracy: 0.7855 - val_loss: 0.4872 - val_accuracy: 0.7860\n",
            "Epoch 28/120\n",
            "63/63 [==============================] - 2s 35ms/step - loss: 0.4485 - accuracy: 0.7995 - val_loss: 0.5554 - val_accuracy: 0.7430\n",
            "Epoch 29/120\n",
            "63/63 [==============================] - 2s 35ms/step - loss: 0.4473 - accuracy: 0.7945 - val_loss: 0.5033 - val_accuracy: 0.7460\n",
            "Epoch 30/120\n",
            "63/63 [==============================] - 2s 36ms/step - loss: 0.4255 - accuracy: 0.8135 - val_loss: 0.4612 - val_accuracy: 0.7980\n",
            "Epoch 31/120\n",
            "63/63 [==============================] - 2s 34ms/step - loss: 0.4165 - accuracy: 0.8130 - val_loss: 0.4960 - val_accuracy: 0.7610\n",
            "Epoch 32/120\n",
            "63/63 [==============================] - 2s 35ms/step - loss: 0.4251 - accuracy: 0.8140 - val_loss: 0.4822 - val_accuracy: 0.7890\n",
            "Epoch 33/120\n",
            "63/63 [==============================] - 2s 35ms/step - loss: 0.4157 - accuracy: 0.8255 - val_loss: 0.6843 - val_accuracy: 0.7230\n",
            "Epoch 34/120\n",
            "63/63 [==============================] - 2s 35ms/step - loss: 0.4034 - accuracy: 0.8230 - val_loss: 0.5176 - val_accuracy: 0.7610\n",
            "Epoch 35/120\n",
            "63/63 [==============================] - 2s 35ms/step - loss: 0.3890 - accuracy: 0.8285 - val_loss: 0.5128 - val_accuracy: 0.7900\n",
            "Epoch 36/120\n",
            "63/63 [==============================] - 2s 35ms/step - loss: 0.4000 - accuracy: 0.8180 - val_loss: 0.4883 - val_accuracy: 0.7820\n",
            "Epoch 37/120\n",
            "63/63 [==============================] - 2s 35ms/step - loss: 0.3463 - accuracy: 0.8475 - val_loss: 0.5128 - val_accuracy: 0.8060\n",
            "Epoch 38/120\n",
            "63/63 [==============================] - 2s 35ms/step - loss: 0.3650 - accuracy: 0.8380 - val_loss: 0.5572 - val_accuracy: 0.7720\n",
            "Epoch 39/120\n",
            "63/63 [==============================] - 2s 35ms/step - loss: 0.3764 - accuracy: 0.8395 - val_loss: 0.6918 - val_accuracy: 0.7270\n",
            "Epoch 40/120\n",
            "63/63 [==============================] - 2s 35ms/step - loss: 0.3556 - accuracy: 0.8475 - val_loss: 0.4732 - val_accuracy: 0.8160\n",
            "Epoch 41/120\n",
            "63/63 [==============================] - 2s 35ms/step - loss: 0.3518 - accuracy: 0.8415 - val_loss: 0.6403 - val_accuracy: 0.7880\n",
            "Epoch 42/120\n",
            "63/63 [==============================] - 2s 35ms/step - loss: 0.3393 - accuracy: 0.8525 - val_loss: 0.4691 - val_accuracy: 0.8220\n",
            "Epoch 43/120\n",
            "63/63 [==============================] - 2s 35ms/step - loss: 0.3340 - accuracy: 0.8565 - val_loss: 0.5060 - val_accuracy: 0.8190\n",
            "Epoch 44/120\n",
            "63/63 [==============================] - 2s 35ms/step - loss: 0.3397 - accuracy: 0.8595 - val_loss: 0.5154 - val_accuracy: 0.7930\n",
            "Epoch 45/120\n",
            "63/63 [==============================] - 2s 35ms/step - loss: 0.3296 - accuracy: 0.8615 - val_loss: 0.5882 - val_accuracy: 0.7800\n",
            "Epoch 46/120\n",
            "63/63 [==============================] - 2s 36ms/step - loss: 0.3088 - accuracy: 0.8640 - val_loss: 0.4338 - val_accuracy: 0.8220\n",
            "Epoch 47/120\n",
            "63/63 [==============================] - 2s 35ms/step - loss: 0.3298 - accuracy: 0.8610 - val_loss: 0.5562 - val_accuracy: 0.8070\n",
            "Epoch 48/120\n",
            "63/63 [==============================] - 2s 35ms/step - loss: 0.3456 - accuracy: 0.8605 - val_loss: 0.4863 - val_accuracy: 0.8090\n",
            "Epoch 49/120\n",
            "63/63 [==============================] - 2s 35ms/step - loss: 0.3097 - accuracy: 0.8710 - val_loss: 0.5812 - val_accuracy: 0.7570\n",
            "Epoch 50/120\n",
            "63/63 [==============================] - 2s 35ms/step - loss: 0.2911 - accuracy: 0.8820 - val_loss: 0.6495 - val_accuracy: 0.7790\n",
            "Epoch 51/120\n",
            "63/63 [==============================] - 2s 35ms/step - loss: 0.2743 - accuracy: 0.8965 - val_loss: 0.8227 - val_accuracy: 0.7470\n",
            "Epoch 52/120\n",
            "63/63 [==============================] - 2s 34ms/step - loss: 0.2888 - accuracy: 0.8890 - val_loss: 0.8198 - val_accuracy: 0.7450\n",
            "Epoch 53/120\n",
            "63/63 [==============================] - 2s 34ms/step - loss: 0.2993 - accuracy: 0.8815 - val_loss: 0.5984 - val_accuracy: 0.7730\n",
            "Epoch 54/120\n",
            "63/63 [==============================] - 2s 35ms/step - loss: 0.3090 - accuracy: 0.8715 - val_loss: 0.5924 - val_accuracy: 0.7920\n",
            "Epoch 55/120\n",
            "63/63 [==============================] - 2s 35ms/step - loss: 0.2741 - accuracy: 0.8845 - val_loss: 0.5658 - val_accuracy: 0.8030\n",
            "Epoch 56/120\n",
            "63/63 [==============================] - 2s 35ms/step - loss: 0.2860 - accuracy: 0.8820 - val_loss: 0.5277 - val_accuracy: 0.8260\n",
            "Epoch 57/120\n",
            "63/63 [==============================] - 2s 35ms/step - loss: 0.2870 - accuracy: 0.8860 - val_loss: 0.5504 - val_accuracy: 0.7820\n",
            "Epoch 58/120\n",
            "63/63 [==============================] - 2s 35ms/step - loss: 0.2823 - accuracy: 0.8905 - val_loss: 0.4779 - val_accuracy: 0.8180\n",
            "Epoch 59/120\n",
            "63/63 [==============================] - 2s 35ms/step - loss: 0.2855 - accuracy: 0.8900 - val_loss: 0.5616 - val_accuracy: 0.8090\n",
            "Epoch 60/120\n",
            "63/63 [==============================] - 2s 35ms/step - loss: 0.2668 - accuracy: 0.8910 - val_loss: 0.5717 - val_accuracy: 0.8020\n",
            "Epoch 61/120\n",
            "63/63 [==============================] - 2s 35ms/step - loss: 0.2953 - accuracy: 0.8860 - val_loss: 0.5207 - val_accuracy: 0.8080\n",
            "Epoch 62/120\n",
            "63/63 [==============================] - 2s 35ms/step - loss: 0.2466 - accuracy: 0.9010 - val_loss: 0.5689 - val_accuracy: 0.8070\n",
            "Epoch 63/120\n",
            "63/63 [==============================] - 2s 35ms/step - loss: 0.2573 - accuracy: 0.8970 - val_loss: 0.6307 - val_accuracy: 0.7750\n",
            "Epoch 64/120\n",
            "63/63 [==============================] - 2s 35ms/step - loss: 0.2419 - accuracy: 0.9005 - val_loss: 0.6115 - val_accuracy: 0.8210\n",
            "Epoch 65/120\n",
            "63/63 [==============================] - 2s 35ms/step - loss: 0.2723 - accuracy: 0.8955 - val_loss: 0.5377 - val_accuracy: 0.8360\n",
            "Epoch 66/120\n",
            "63/63 [==============================] - 2s 35ms/step - loss: 0.2696 - accuracy: 0.9040 - val_loss: 0.5994 - val_accuracy: 0.8230\n",
            "Epoch 67/120\n",
            "63/63 [==============================] - 2s 35ms/step - loss: 0.2584 - accuracy: 0.8940 - val_loss: 0.5114 - val_accuracy: 0.8270\n",
            "Epoch 68/120\n",
            "63/63 [==============================] - 2s 35ms/step - loss: 0.2798 - accuracy: 0.8980 - val_loss: 0.5368 - val_accuracy: 0.8190\n",
            "Epoch 69/120\n",
            "63/63 [==============================] - 2s 36ms/step - loss: 0.2229 - accuracy: 0.9135 - val_loss: 0.7293 - val_accuracy: 0.8090\n",
            "Epoch 70/120\n",
            "63/63 [==============================] - 2s 35ms/step - loss: 0.2562 - accuracy: 0.9110 - val_loss: 0.5198 - val_accuracy: 0.8260\n",
            "Epoch 71/120\n",
            "63/63 [==============================] - 2s 34ms/step - loss: 0.2403 - accuracy: 0.9130 - val_loss: 0.5166 - val_accuracy: 0.8380\n",
            "Epoch 72/120\n",
            "63/63 [==============================] - 2s 35ms/step - loss: 0.2735 - accuracy: 0.8990 - val_loss: 0.5375 - val_accuracy: 0.7970\n",
            "Epoch 73/120\n",
            "63/63 [==============================] - 2s 35ms/step - loss: 0.2549 - accuracy: 0.9150 - val_loss: 0.5657 - val_accuracy: 0.8140\n",
            "Epoch 74/120\n",
            "63/63 [==============================] - 2s 36ms/step - loss: 0.2446 - accuracy: 0.9060 - val_loss: 0.6998 - val_accuracy: 0.7900\n",
            "Epoch 75/120\n",
            "63/63 [==============================] - 2s 35ms/step - loss: 0.2283 - accuracy: 0.9165 - val_loss: 0.7692 - val_accuracy: 0.7710\n",
            "Epoch 76/120\n",
            "63/63 [==============================] - 2s 35ms/step - loss: 0.2751 - accuracy: 0.9020 - val_loss: 0.8601 - val_accuracy: 0.7640\n",
            "Epoch 77/120\n",
            "63/63 [==============================] - 2s 35ms/step - loss: 0.2429 - accuracy: 0.9140 - val_loss: 0.6793 - val_accuracy: 0.8240\n",
            "Epoch 78/120\n",
            "63/63 [==============================] - 2s 35ms/step - loss: 0.2461 - accuracy: 0.9055 - val_loss: 0.9811 - val_accuracy: 0.7640\n",
            "Epoch 79/120\n",
            "63/63 [==============================] - 2s 35ms/step - loss: 0.2482 - accuracy: 0.9120 - val_loss: 0.5988 - val_accuracy: 0.8510\n",
            "Epoch 80/120\n",
            "63/63 [==============================] - 2s 35ms/step - loss: 0.2376 - accuracy: 0.9155 - val_loss: 0.5488 - val_accuracy: 0.8380\n",
            "Epoch 81/120\n",
            "63/63 [==============================] - 2s 34ms/step - loss: 0.2489 - accuracy: 0.9005 - val_loss: 1.1495 - val_accuracy: 0.7920\n",
            "Epoch 82/120\n",
            "63/63 [==============================] - 2s 35ms/step - loss: 0.2863 - accuracy: 0.8965 - val_loss: 0.6284 - val_accuracy: 0.7990\n",
            "Epoch 83/120\n",
            "63/63 [==============================] - 2s 35ms/step - loss: 0.2612 - accuracy: 0.9020 - val_loss: 0.5593 - val_accuracy: 0.8390\n",
            "Epoch 84/120\n",
            "63/63 [==============================] - 2s 35ms/step - loss: 0.2430 - accuracy: 0.9145 - val_loss: 0.7423 - val_accuracy: 0.8260\n",
            "Epoch 85/120\n",
            "63/63 [==============================] - 2s 35ms/step - loss: 0.2672 - accuracy: 0.9035 - val_loss: 0.5773 - val_accuracy: 0.8030\n",
            "Epoch 86/120\n",
            "63/63 [==============================] - 2s 34ms/step - loss: 0.2362 - accuracy: 0.9090 - val_loss: 0.7134 - val_accuracy: 0.8150\n",
            "Epoch 87/120\n",
            "63/63 [==============================] - 2s 34ms/step - loss: 0.2306 - accuracy: 0.9210 - val_loss: 0.6075 - val_accuracy: 0.8290\n",
            "Epoch 88/120\n",
            "63/63 [==============================] - 2s 35ms/step - loss: 0.2638 - accuracy: 0.9035 - val_loss: 0.5927 - val_accuracy: 0.8270\n",
            "Epoch 89/120\n",
            "63/63 [==============================] - 2s 35ms/step - loss: 0.2174 - accuracy: 0.9185 - val_loss: 0.6132 - val_accuracy: 0.8100\n",
            "Epoch 90/120\n",
            "63/63 [==============================] - 2s 35ms/step - loss: 0.2283 - accuracy: 0.9135 - val_loss: 1.1546 - val_accuracy: 0.7850\n",
            "Epoch 91/120\n",
            "63/63 [==============================] - 2s 35ms/step - loss: 0.2718 - accuracy: 0.9085 - val_loss: 0.6490 - val_accuracy: 0.8010\n",
            "Epoch 92/120\n",
            "63/63 [==============================] - 2s 35ms/step - loss: 0.2534 - accuracy: 0.9160 - val_loss: 1.1689 - val_accuracy: 0.7470\n",
            "Epoch 93/120\n",
            "63/63 [==============================] - 2s 35ms/step - loss: 0.2787 - accuracy: 0.8980 - val_loss: 0.5976 - val_accuracy: 0.8320\n",
            "Epoch 94/120\n",
            "63/63 [==============================] - 2s 35ms/step - loss: 0.2457 - accuracy: 0.9155 - val_loss: 0.9182 - val_accuracy: 0.8030\n",
            "Epoch 95/120\n",
            "63/63 [==============================] - 2s 35ms/step - loss: 0.2625 - accuracy: 0.9240 - val_loss: 0.9701 - val_accuracy: 0.7620\n",
            "Epoch 96/120\n",
            "63/63 [==============================] - 2s 35ms/step - loss: 0.2327 - accuracy: 0.9160 - val_loss: 0.6446 - val_accuracy: 0.8070\n",
            "Epoch 97/120\n",
            "63/63 [==============================] - 2s 35ms/step - loss: 0.2859 - accuracy: 0.8980 - val_loss: 0.5553 - val_accuracy: 0.8410\n",
            "Epoch 98/120\n",
            "63/63 [==============================] - 2s 35ms/step - loss: 0.2409 - accuracy: 0.9075 - val_loss: 0.8142 - val_accuracy: 0.7950\n",
            "Epoch 99/120\n",
            "63/63 [==============================] - 2s 35ms/step - loss: 0.2433 - accuracy: 0.9125 - val_loss: 1.1618 - val_accuracy: 0.7970\n",
            "Epoch 100/120\n",
            "63/63 [==============================] - 2s 35ms/step - loss: 0.2720 - accuracy: 0.9150 - val_loss: 0.8538 - val_accuracy: 0.8270\n",
            "Epoch 101/120\n",
            "63/63 [==============================] - 2s 35ms/step - loss: 0.2553 - accuracy: 0.9215 - val_loss: 0.7159 - val_accuracy: 0.8440\n",
            "Epoch 102/120\n",
            "63/63 [==============================] - 2s 35ms/step - loss: 0.2723 - accuracy: 0.9085 - val_loss: 0.7352 - val_accuracy: 0.8110\n",
            "Epoch 103/120\n",
            "63/63 [==============================] - 2s 35ms/step - loss: 0.2457 - accuracy: 0.9060 - val_loss: 0.6591 - val_accuracy: 0.8390\n",
            "Epoch 104/120\n",
            "63/63 [==============================] - 2s 35ms/step - loss: 0.2837 - accuracy: 0.9040 - val_loss: 0.7603 - val_accuracy: 0.8300\n",
            "Epoch 105/120\n",
            "63/63 [==============================] - 2s 35ms/step - loss: 0.2803 - accuracy: 0.9025 - val_loss: 0.5854 - val_accuracy: 0.8180\n",
            "Epoch 106/120\n",
            "63/63 [==============================] - 2s 35ms/step - loss: 0.2810 - accuracy: 0.9045 - val_loss: 1.0171 - val_accuracy: 0.7890\n",
            "Epoch 107/120\n",
            "63/63 [==============================] - 2s 35ms/step - loss: 0.3031 - accuracy: 0.8950 - val_loss: 0.6101 - val_accuracy: 0.8030\n",
            "Epoch 108/120\n",
            "63/63 [==============================] - 2s 36ms/step - loss: 0.2687 - accuracy: 0.9020 - val_loss: 0.7653 - val_accuracy: 0.8120\n",
            "Epoch 109/120\n",
            "63/63 [==============================] - 2s 35ms/step - loss: 0.2629 - accuracy: 0.9140 - val_loss: 0.6308 - val_accuracy: 0.7910\n",
            "Epoch 110/120\n",
            "63/63 [==============================] - 2s 35ms/step - loss: 0.2490 - accuracy: 0.9080 - val_loss: 0.8433 - val_accuracy: 0.8060\n",
            "Epoch 111/120\n",
            "63/63 [==============================] - 2s 35ms/step - loss: 0.2426 - accuracy: 0.9160 - val_loss: 0.6490 - val_accuracy: 0.7990\n",
            "Epoch 112/120\n",
            "63/63 [==============================] - 2s 35ms/step - loss: 0.3119 - accuracy: 0.8975 - val_loss: 0.9087 - val_accuracy: 0.7980\n",
            "Epoch 113/120\n",
            "63/63 [==============================] - 2s 35ms/step - loss: 0.2494 - accuracy: 0.9085 - val_loss: 0.6161 - val_accuracy: 0.8310\n",
            "Epoch 114/120\n",
            "63/63 [==============================] - 2s 35ms/step - loss: 0.2893 - accuracy: 0.9090 - val_loss: 0.5825 - val_accuracy: 0.8210\n",
            "Epoch 115/120\n",
            "63/63 [==============================] - 2s 35ms/step - loss: 0.2667 - accuracy: 0.9070 - val_loss: 0.8891 - val_accuracy: 0.7630\n",
            "Epoch 116/120\n",
            "63/63 [==============================] - 2s 34ms/step - loss: 0.2542 - accuracy: 0.9125 - val_loss: 0.7528 - val_accuracy: 0.7940\n",
            "Epoch 117/120\n",
            "63/63 [==============================] - 2s 34ms/step - loss: 0.3133 - accuracy: 0.8935 - val_loss: 0.7509 - val_accuracy: 0.7960\n",
            "Epoch 118/120\n",
            "63/63 [==============================] - 2s 35ms/step - loss: 0.2452 - accuracy: 0.9095 - val_loss: 0.8277 - val_accuracy: 0.7920\n",
            "Epoch 119/120\n",
            "63/63 [==============================] - 2s 35ms/step - loss: 0.2869 - accuracy: 0.9095 - val_loss: 0.7858 - val_accuracy: 0.8200\n",
            "Epoch 120/120\n",
            "63/63 [==============================] - 2s 35ms/step - loss: 0.2559 - accuracy: 0.9105 - val_loss: 1.1777 - val_accuracy: 0.7730\n"
          ]
        }
      ],
      "source": [
        "callbacks = [\n",
        "    keras.callbacks.ModelCheckpoint(\n",
        "        filepath=\"convnet_from_scratch_with_augmentation.keras\",\n",
        "        save_best_only=True,\n",
        "        monitor=\"val_loss\")\n",
        "]\n",
        "history = model.fit(\n",
        "    train_dataset,\n",
        "    epochs=120,\n",
        "    validation_data=validation_dataset,\n",
        "    callbacks=callbacks)"
      ]
    },
    {
      "cell_type": "markdown",
      "metadata": {
        "id": "vhFMmsqpEI4l"
      },
      "source": [
        "**Evaluating the model on the test set**"
      ]
    },
    {
      "cell_type": "code",
      "execution_count": 228,
      "metadata": {
        "colab": {
          "base_uri": "https://localhost:8080/"
        },
        "id": "lHr3rssZEI4l",
        "outputId": "15adb92a-4924-4d7e-8ce9-ae033eef7f50"
      },
      "outputs": [
        {
          "output_type": "stream",
          "name": "stdout",
          "text": [
            "63/63 [==============================] - 1s 10ms/step - loss: 0.4961 - accuracy: 0.7985\n",
            "Test accuracy: 0.799\n"
          ]
        }
      ],
      "source": [
        "test_model = keras.models.load_model(\n",
        "    \"convnet_from_scratch_with_augmentation.keras\")\n",
        "test_loss, test_acc = test_model.evaluate(test_dataset)\n",
        "print(f\"Test accuracy: {test_acc:.3f}\")"
      ]
    },
    {
      "cell_type": "markdown",
      "metadata": {
        "id": "O477yb73EI4l"
      },
      "source": [
        "## Leveraging a pretrained model"
      ]
    },
    {
      "cell_type": "markdown",
      "metadata": {
        "id": "wYEw7o4WEI4l"
      },
      "source": [
        "### Feature extraction with a pretrained model"
      ]
    },
    {
      "cell_type": "markdown",
      "metadata": {
        "id": "_OOipWR5EI4l"
      },
      "source": [
        "**Instantiating the VGG16 convolutional base**"
      ]
    },
    {
      "cell_type": "code",
      "execution_count": 229,
      "metadata": {
        "id": "vNZuLahgEI4l"
      },
      "outputs": [],
      "source": [
        "conv_base = keras.applications.vgg16.VGG16(\n",
        "    weights=\"imagenet\",\n",
        "    include_top=False,\n",
        "    input_shape=(180, 180, 3))"
      ]
    },
    {
      "cell_type": "code",
      "execution_count": 230,
      "metadata": {
        "colab": {
          "base_uri": "https://localhost:8080/"
        },
        "id": "yeyjgXLoEI4l",
        "outputId": "f570e7e6-0cd2-403e-ee09-c2f184ea5710"
      },
      "outputs": [
        {
          "output_type": "stream",
          "name": "stdout",
          "text": [
            "Model: \"vgg16\"\n",
            "_________________________________________________________________\n",
            " Layer (type)                Output Shape              Param #   \n",
            "=================================================================\n",
            " input_40 (InputLayer)       [(None, 180, 180, 3)]     0         \n",
            "                                                                 \n",
            " block1_conv1 (Conv2D)       (None, 180, 180, 64)      1792      \n",
            "                                                                 \n",
            " block1_conv2 (Conv2D)       (None, 180, 180, 64)      36928     \n",
            "                                                                 \n",
            " block1_pool (MaxPooling2D)  (None, 90, 90, 64)        0         \n",
            "                                                                 \n",
            " block2_conv1 (Conv2D)       (None, 90, 90, 128)       73856     \n",
            "                                                                 \n",
            " block2_conv2 (Conv2D)       (None, 90, 90, 128)       147584    \n",
            "                                                                 \n",
            " block2_pool (MaxPooling2D)  (None, 45, 45, 128)       0         \n",
            "                                                                 \n",
            " block3_conv1 (Conv2D)       (None, 45, 45, 256)       295168    \n",
            "                                                                 \n",
            " block3_conv2 (Conv2D)       (None, 45, 45, 256)       590080    \n",
            "                                                                 \n",
            " block3_conv3 (Conv2D)       (None, 45, 45, 256)       590080    \n",
            "                                                                 \n",
            " block3_pool (MaxPooling2D)  (None, 22, 22, 256)       0         \n",
            "                                                                 \n",
            " block4_conv1 (Conv2D)       (None, 22, 22, 512)       1180160   \n",
            "                                                                 \n",
            " block4_conv2 (Conv2D)       (None, 22, 22, 512)       2359808   \n",
            "                                                                 \n",
            " block4_conv3 (Conv2D)       (None, 22, 22, 512)       2359808   \n",
            "                                                                 \n",
            " block4_pool (MaxPooling2D)  (None, 11, 11, 512)       0         \n",
            "                                                                 \n",
            " block5_conv1 (Conv2D)       (None, 11, 11, 512)       2359808   \n",
            "                                                                 \n",
            " block5_conv2 (Conv2D)       (None, 11, 11, 512)       2359808   \n",
            "                                                                 \n",
            " block5_conv3 (Conv2D)       (None, 11, 11, 512)       2359808   \n",
            "                                                                 \n",
            " block5_pool (MaxPooling2D)  (None, 5, 5, 512)         0         \n",
            "                                                                 \n",
            "=================================================================\n",
            "Total params: 14,714,688\n",
            "Trainable params: 14,714,688\n",
            "Non-trainable params: 0\n",
            "_________________________________________________________________\n"
          ]
        }
      ],
      "source": [
        "conv_base.summary()"
      ]
    },
    {
      "cell_type": "markdown",
      "metadata": {
        "id": "TV_PFY3_EI4l"
      },
      "source": [
        "#### Fast feature extraction without data augmentation"
      ]
    },
    {
      "cell_type": "markdown",
      "metadata": {
        "id": "A7TcUiroEI4l"
      },
      "source": [
        "**Extracting the VGG16 features and corresponding labels**"
      ]
    },
    {
      "cell_type": "code",
      "execution_count": 231,
      "metadata": {
        "colab": {
          "base_uri": "https://localhost:8080/"
        },
        "id": "LrZ1PZsWEI4m",
        "outputId": "cffa4100-6a10-43e7-db3b-fd0a3929a62f"
      },
      "outputs": [
        {
          "output_type": "stream",
          "name": "stdout",
          "text": [
            "1/1 [==============================] - 0s 127ms/step\n",
            "1/1 [==============================] - 0s 22ms/step\n",
            "1/1 [==============================] - 0s 23ms/step\n",
            "1/1 [==============================] - 0s 22ms/step\n",
            "1/1 [==============================] - 0s 22ms/step\n",
            "1/1 [==============================] - 0s 24ms/step\n",
            "1/1 [==============================] - 0s 25ms/step\n",
            "1/1 [==============================] - 0s 24ms/step\n",
            "1/1 [==============================] - 0s 22ms/step\n",
            "1/1 [==============================] - 0s 22ms/step\n",
            "1/1 [==============================] - 0s 22ms/step\n",
            "1/1 [==============================] - 0s 22ms/step\n",
            "1/1 [==============================] - 0s 22ms/step\n",
            "1/1 [==============================] - 0s 23ms/step\n",
            "1/1 [==============================] - 0s 22ms/step\n",
            "1/1 [==============================] - 0s 22ms/step\n",
            "1/1 [==============================] - 0s 22ms/step\n",
            "1/1 [==============================] - 0s 23ms/step\n",
            "1/1 [==============================] - 0s 23ms/step\n",
            "1/1 [==============================] - 0s 22ms/step\n",
            "1/1 [==============================] - 0s 23ms/step\n",
            "1/1 [==============================] - 0s 22ms/step\n",
            "1/1 [==============================] - 0s 23ms/step\n",
            "1/1 [==============================] - 0s 22ms/step\n",
            "1/1 [==============================] - 0s 22ms/step\n",
            "1/1 [==============================] - 0s 22ms/step\n",
            "1/1 [==============================] - 0s 22ms/step\n",
            "1/1 [==============================] - 0s 22ms/step\n",
            "1/1 [==============================] - 0s 22ms/step\n",
            "1/1 [==============================] - 0s 22ms/step\n",
            "1/1 [==============================] - 0s 22ms/step\n",
            "1/1 [==============================] - 0s 24ms/step\n",
            "1/1 [==============================] - 0s 25ms/step\n",
            "1/1 [==============================] - 0s 23ms/step\n",
            "1/1 [==============================] - 0s 24ms/step\n",
            "1/1 [==============================] - 0s 318ms/step\n",
            "1/1 [==============================] - 0s 24ms/step\n",
            "1/1 [==============================] - 0s 22ms/step\n",
            "1/1 [==============================] - 0s 22ms/step\n",
            "1/1 [==============================] - 0s 23ms/step\n",
            "1/1 [==============================] - 0s 23ms/step\n",
            "1/1 [==============================] - 0s 23ms/step\n",
            "1/1 [==============================] - 0s 22ms/step\n",
            "1/1 [==============================] - 0s 22ms/step\n",
            "1/1 [==============================] - 0s 22ms/step\n",
            "1/1 [==============================] - 0s 22ms/step\n",
            "1/1 [==============================] - 0s 23ms/step\n",
            "1/1 [==============================] - 0s 23ms/step\n",
            "1/1 [==============================] - 0s 22ms/step\n",
            "1/1 [==============================] - 0s 22ms/step\n",
            "1/1 [==============================] - 0s 22ms/step\n",
            "1/1 [==============================] - 0s 22ms/step\n",
            "1/1 [==============================] - 0s 24ms/step\n",
            "1/1 [==============================] - 0s 22ms/step\n",
            "1/1 [==============================] - 0s 22ms/step\n",
            "1/1 [==============================] - 0s 21ms/step\n",
            "1/1 [==============================] - 0s 22ms/step\n",
            "1/1 [==============================] - 0s 22ms/step\n",
            "1/1 [==============================] - 0s 23ms/step\n",
            "1/1 [==============================] - 0s 22ms/step\n",
            "1/1 [==============================] - 0s 22ms/step\n",
            "1/1 [==============================] - 0s 24ms/step\n",
            "1/1 [==============================] - 0s 121ms/step\n",
            "1/1 [==============================] - 0s 23ms/step\n",
            "1/1 [==============================] - 0s 22ms/step\n",
            "1/1 [==============================] - 0s 22ms/step\n",
            "1/1 [==============================] - 0s 22ms/step\n",
            "1/1 [==============================] - 0s 22ms/step\n",
            "1/1 [==============================] - 0s 22ms/step\n",
            "1/1 [==============================] - 0s 22ms/step\n",
            "1/1 [==============================] - 0s 22ms/step\n",
            "1/1 [==============================] - 0s 22ms/step\n",
            "1/1 [==============================] - 0s 22ms/step\n",
            "1/1 [==============================] - 0s 24ms/step\n",
            "1/1 [==============================] - 0s 23ms/step\n",
            "1/1 [==============================] - 0s 22ms/step\n",
            "1/1 [==============================] - 0s 22ms/step\n",
            "1/1 [==============================] - 0s 22ms/step\n",
            "1/1 [==============================] - 0s 23ms/step\n",
            "1/1 [==============================] - 0s 23ms/step\n",
            "1/1 [==============================] - 0s 22ms/step\n",
            "1/1 [==============================] - 0s 22ms/step\n",
            "1/1 [==============================] - 0s 22ms/step\n",
            "1/1 [==============================] - 0s 22ms/step\n",
            "1/1 [==============================] - 0s 23ms/step\n",
            "1/1 [==============================] - 0s 22ms/step\n",
            "1/1 [==============================] - 0s 22ms/step\n",
            "1/1 [==============================] - 0s 22ms/step\n",
            "1/1 [==============================] - 0s 22ms/step\n",
            "1/1 [==============================] - 0s 22ms/step\n",
            "1/1 [==============================] - 0s 22ms/step\n",
            "1/1 [==============================] - 0s 22ms/step\n",
            "1/1 [==============================] - 0s 22ms/step\n",
            "1/1 [==============================] - 0s 22ms/step\n",
            "1/1 [==============================] - 0s 20ms/step\n",
            "1/1 [==============================] - 0s 23ms/step\n",
            "1/1 [==============================] - 0s 23ms/step\n",
            "1/1 [==============================] - 0s 22ms/step\n",
            "1/1 [==============================] - 0s 23ms/step\n",
            "1/1 [==============================] - 0s 23ms/step\n",
            "1/1 [==============================] - 0s 22ms/step\n",
            "1/1 [==============================] - 0s 22ms/step\n",
            "1/1 [==============================] - 0s 23ms/step\n",
            "1/1 [==============================] - 0s 23ms/step\n",
            "1/1 [==============================] - 0s 22ms/step\n",
            "1/1 [==============================] - 0s 23ms/step\n",
            "1/1 [==============================] - 0s 24ms/step\n",
            "1/1 [==============================] - 0s 23ms/step\n",
            "1/1 [==============================] - 0s 23ms/step\n",
            "1/1 [==============================] - 0s 22ms/step\n",
            "1/1 [==============================] - 0s 22ms/step\n",
            "1/1 [==============================] - 0s 22ms/step\n",
            "1/1 [==============================] - 0s 23ms/step\n",
            "1/1 [==============================] - 0s 22ms/step\n",
            "1/1 [==============================] - 0s 22ms/step\n",
            "1/1 [==============================] - 0s 23ms/step\n",
            "1/1 [==============================] - 0s 23ms/step\n",
            "1/1 [==============================] - 0s 22ms/step\n",
            "1/1 [==============================] - 0s 22ms/step\n",
            "1/1 [==============================] - 0s 22ms/step\n",
            "1/1 [==============================] - 0s 22ms/step\n",
            "1/1 [==============================] - 0s 23ms/step\n",
            "1/1 [==============================] - 0s 22ms/step\n",
            "1/1 [==============================] - 0s 22ms/step\n",
            "1/1 [==============================] - 0s 22ms/step\n",
            "1/1 [==============================] - 0s 23ms/step\n",
            "1/1 [==============================] - 0s 23ms/step\n",
            "1/1 [==============================] - 0s 23ms/step\n",
            "1/1 [==============================] - 0s 22ms/step\n",
            "1/1 [==============================] - 0s 23ms/step\n",
            "1/1 [==============================] - 0s 22ms/step\n",
            "1/1 [==============================] - 0s 24ms/step\n",
            "1/1 [==============================] - 0s 22ms/step\n",
            "1/1 [==============================] - 0s 24ms/step\n",
            "1/1 [==============================] - 0s 22ms/step\n",
            "1/1 [==============================] - 0s 22ms/step\n",
            "1/1 [==============================] - 0s 22ms/step\n",
            "1/1 [==============================] - 0s 22ms/step\n",
            "1/1 [==============================] - 0s 22ms/step\n",
            "1/1 [==============================] - 0s 22ms/step\n",
            "1/1 [==============================] - 0s 22ms/step\n",
            "1/1 [==============================] - 0s 22ms/step\n",
            "1/1 [==============================] - 0s 22ms/step\n",
            "1/1 [==============================] - 0s 22ms/step\n",
            "1/1 [==============================] - 0s 22ms/step\n",
            "1/1 [==============================] - 0s 22ms/step\n",
            "1/1 [==============================] - 0s 22ms/step\n",
            "1/1 [==============================] - 0s 22ms/step\n",
            "1/1 [==============================] - 0s 22ms/step\n",
            "1/1 [==============================] - 0s 22ms/step\n",
            "1/1 [==============================] - 0s 22ms/step\n",
            "1/1 [==============================] - 0s 22ms/step\n",
            "1/1 [==============================] - 0s 22ms/step\n",
            "1/1 [==============================] - 0s 23ms/step\n",
            "1/1 [==============================] - 0s 22ms/step\n",
            "1/1 [==============================] - 0s 22ms/step\n",
            "1/1 [==============================] - 0s 22ms/step\n",
            "1/1 [==============================] - 0s 21ms/step\n"
          ]
        }
      ],
      "source": [
        "import numpy as np\n",
        "\n",
        "def get_features_and_labels(dataset):\n",
        "    all_features = []\n",
        "    all_labels = []\n",
        "    for images, labels in dataset:\n",
        "        preprocessed_images = keras.applications.vgg16.preprocess_input(images)\n",
        "        features = conv_base.predict(preprocessed_images)\n",
        "        all_features.append(features)\n",
        "        all_labels.append(labels)\n",
        "    return np.concatenate(all_features), np.concatenate(all_labels)\n",
        "\n",
        "train_features, train_labels =  get_features_and_labels(train_dataset)\n",
        "val_features, val_labels =  get_features_and_labels(validation_dataset)\n",
        "test_features, test_labels =  get_features_and_labels(test_dataset)"
      ]
    },
    {
      "cell_type": "code",
      "execution_count": 197,
      "metadata": {
        "colab": {
          "base_uri": "https://localhost:8080/"
        },
        "id": "NdBT3QBuEI4m",
        "outputId": "924d6260-fd77-403b-b53e-200c217a24cb"
      },
      "outputs": [
        {
          "output_type": "execute_result",
          "data": {
            "text/plain": [
              "(2000, 5, 5, 512)"
            ]
          },
          "metadata": {},
          "execution_count": 197
        }
      ],
      "source": [
        "train_features.shape"
      ]
    },
    {
      "cell_type": "markdown",
      "metadata": {
        "id": "OaA61lm0EI4m"
      },
      "source": [
        "**Defining and training the densely connected classifier**"
      ]
    },
    {
      "cell_type": "code",
      "execution_count": 232,
      "metadata": {
        "colab": {
          "base_uri": "https://localhost:8080/"
        },
        "id": "cUl_Gq5PEI4m",
        "outputId": "1c793592-eb4d-4c79-e50d-20703f72e2cb"
      },
      "outputs": [
        {
          "output_type": "stream",
          "name": "stdout",
          "text": [
            "Epoch 1/25\n",
            "63/63 [==============================] - 1s 8ms/step - loss: 4.7374 - accuracy: 0.6900 - val_loss: 2.6214 - val_accuracy: 0.8300\n",
            "Epoch 2/25\n",
            "63/63 [==============================] - 0s 5ms/step - loss: 1.8867 - accuracy: 0.8765 - val_loss: 1.5058 - val_accuracy: 0.9020\n",
            "Epoch 3/25\n",
            "63/63 [==============================] - 0s 5ms/step - loss: 2.6449 - accuracy: 0.8265 - val_loss: 4.2554 - val_accuracy: 0.7200\n",
            "Epoch 4/25\n",
            "63/63 [==============================] - 0s 5ms/step - loss: 3.5636 - accuracy: 0.7660 - val_loss: 1.4152 - val_accuracy: 0.9080\n",
            "Epoch 5/25\n",
            "63/63 [==============================] - 0s 4ms/step - loss: 1.9227 - accuracy: 0.8745 - val_loss: 5.3370 - val_accuracy: 0.6540\n",
            "Epoch 6/25\n",
            "63/63 [==============================] - 0s 4ms/step - loss: 2.7740 - accuracy: 0.8195 - val_loss: 2.3285 - val_accuracy: 0.8490\n",
            "Epoch 7/25\n",
            "63/63 [==============================] - 0s 5ms/step - loss: 2.3122 - accuracy: 0.8495 - val_loss: 1.6667 - val_accuracy: 0.8910\n",
            "Epoch 8/25\n",
            "63/63 [==============================] - 0s 4ms/step - loss: 2.6356 - accuracy: 0.8275 - val_loss: 3.4334 - val_accuracy: 0.7740\n",
            "Epoch 9/25\n",
            "63/63 [==============================] - 0s 5ms/step - loss: 1.9729 - accuracy: 0.8710 - val_loss: 1.0746 - val_accuracy: 0.9300\n",
            "Epoch 10/25\n",
            "63/63 [==============================] - 0s 5ms/step - loss: 1.9803 - accuracy: 0.8700 - val_loss: 2.0668 - val_accuracy: 0.8660\n",
            "Epoch 11/25\n",
            "63/63 [==============================] - 0s 4ms/step - loss: 2.1661 - accuracy: 0.8595 - val_loss: 2.0668 - val_accuracy: 0.8660\n",
            "Epoch 12/25\n",
            "63/63 [==============================] - 0s 4ms/step - loss: 2.1124 - accuracy: 0.8630 - val_loss: 2.0668 - val_accuracy: 0.8660\n",
            "Epoch 13/25\n",
            "63/63 [==============================] - 0s 5ms/step - loss: 1.5096 - accuracy: 0.9015 - val_loss: 1.4485 - val_accuracy: 0.9060\n",
            "Epoch 14/25\n",
            "63/63 [==============================] - 0s 5ms/step - loss: 1.5939 - accuracy: 0.8965 - val_loss: 1.4485 - val_accuracy: 0.9060\n",
            "Epoch 15/25\n",
            "63/63 [==============================] - 0s 4ms/step - loss: 1.6013 - accuracy: 0.8960 - val_loss: 1.4485 - val_accuracy: 0.9060\n",
            "Epoch 16/25\n",
            "63/63 [==============================] - 0s 4ms/step - loss: 1.4518 - accuracy: 0.9050 - val_loss: 1.1462 - val_accuracy: 0.9250\n",
            "Epoch 17/25\n",
            "63/63 [==============================] - 0s 4ms/step - loss: 1.4348 - accuracy: 0.9060 - val_loss: 1.3876 - val_accuracy: 0.9100\n",
            "Epoch 18/25\n",
            "63/63 [==============================] - 0s 4ms/step - loss: 1.4563 - accuracy: 0.9050 - val_loss: 2.7755 - val_accuracy: 0.8180\n",
            "Epoch 19/25\n",
            "63/63 [==============================] - 0s 4ms/step - loss: 2.9740 - accuracy: 0.8050 - val_loss: 2.7755 - val_accuracy: 0.8180\n",
            "Epoch 20/25\n",
            "63/63 [==============================] - 0s 5ms/step - loss: 1.9943 - accuracy: 0.8690 - val_loss: 0.7810 - val_accuracy: 0.9490\n",
            "Epoch 21/25\n",
            "63/63 [==============================] - 0s 4ms/step - loss: 1.8164 - accuracy: 0.8810 - val_loss: 1.4504 - val_accuracy: 0.9040\n",
            "Epoch 22/25\n",
            "63/63 [==============================] - 0s 4ms/step - loss: 1.3759 - accuracy: 0.9095 - val_loss: 0.8736 - val_accuracy: 0.9430\n",
            "Epoch 23/25\n",
            "63/63 [==============================] - 0s 4ms/step - loss: 1.0030 - accuracy: 0.9345 - val_loss: 0.8736 - val_accuracy: 0.9430\n",
            "Epoch 24/25\n",
            "63/63 [==============================] - 0s 4ms/step - loss: 1.0026 - accuracy: 0.9345 - val_loss: 0.8736 - val_accuracy: 0.9430\n",
            "Epoch 25/25\n",
            "63/63 [==============================] - 0s 4ms/step - loss: 1.1177 - accuracy: 0.9270 - val_loss: 0.8736 - val_accuracy: 0.9430\n"
          ]
        }
      ],
      "source": [
        "inputs = keras.Input(shape=(5, 5, 512))\n",
        "x = layers.Flatten()(inputs)\n",
        "x = layers.Dense(256)(x)\n",
        "x = layers.Dropout(0.5)(x)\n",
        "outputs = layers.Dense(1, activation=\"relu\")(x)\n",
        "model = keras.Model(inputs, outputs)\n",
        "model.compile(loss=\"binary_crossentropy\",\n",
        "              optimizer=\"rmsprop\",\n",
        "              metrics=[\"accuracy\"])\n",
        "\n",
        "callbacks = [\n",
        "    keras.callbacks.ModelCheckpoint(\n",
        "      filepath=\"feature_extraction.keras\",\n",
        "      save_best_only=True,\n",
        "      monitor=\"val_loss\")\n",
        "]\n",
        "history = model.fit(\n",
        "    train_features, train_labels,\n",
        "    epochs=25,\n",
        "    validation_data=(val_features, val_labels),\n",
        "    callbacks=callbacks)"
      ]
    },
    {
      "cell_type": "markdown",
      "metadata": {
        "id": "lmClbOByEI4m"
      },
      "source": [
        "**Plotting the results**"
      ]
    },
    {
      "cell_type": "code",
      "execution_count": 233,
      "metadata": {
        "colab": {
          "base_uri": "https://localhost:8080/",
          "height": 545
        },
        "id": "B_eiPRV_EI4m",
        "outputId": "d2b3adfd-0456-413b-a20e-e52e3931d1bd"
      },
      "outputs": [
        {
          "output_type": "display_data",
          "data": {
            "text/plain": [
              "<Figure size 432x288 with 1 Axes>"
            ],
            "image/png": "[encoded data removed]"
          },
          "metadata": {
            "needs_background": "light"
          }
        },
        {
          "output_type": "display_data",
          "data": {
            "text/plain": [
              "<Figure size 432x288 with 1 Axes>"
            ],
            "image/png": "[encoded data removed]"
          },
          "metadata": {
            "needs_background": "light"
          }
        }
      ],
      "source": [
        "import matplotlib.pyplot as plt\n",
        "acc = history.history[\"accuracy\"]\n",
        "val_acc = history.history[\"val_accuracy\"]\n",
        "loss = history.history[\"loss\"]\n",
        "val_loss = history.history[\"val_loss\"]\n",
        "epochs = range(1, len(acc) + 1)\n",
        "plt.plot(epochs, acc, \"bo\", label=\"Training accuracy\")\n",
        "plt.plot(epochs, val_acc, \"b\", label=\"Validation accuracy\")\n",
        "plt.title(\"Training and validation accuracy\")\n",
        "plt.legend()\n",
        "plt.figure()\n",
        "plt.plot(epochs, loss, \"bo\", label=\"Training loss\")\n",
        "plt.plot(epochs, val_loss, \"b\", label=\"Validation loss\")\n",
        "plt.title(\"Training and validation loss\")\n",
        "plt.legend()\n",
        "plt.show()"
      ]
    },
    {
      "cell_type": "markdown",
      "metadata": {
        "id": "JLnJaDVAEI4m"
      },
      "source": [
        "#### Feature extraction together with data augmentation"
      ]
    },
    {
      "cell_type": "markdown",
      "metadata": {
        "id": "mlKv-VK8EI4m"
      },
      "source": [
        "**Instantiating and freezing the VGG16 convolutional base**"
      ]
    },
    {
      "cell_type": "code",
      "execution_count": 234,
      "metadata": {
        "id": "DVJ7VLujEI4m"
      },
      "outputs": [],
      "source": [
        "conv_base  = keras.applications.vgg16.VGG16(\n",
        "    weights=\"imagenet\",\n",
        "    include_top=False)\n",
        "conv_base.trainable = False"
      ]
    },
    {
      "cell_type": "markdown",
      "metadata": {
        "id": "aiaoMbHGEI4m"
      },
      "source": [
        "**Printing the list of trainable weights before and after freezing**"
      ]
    },
    {
      "cell_type": "code",
      "execution_count": 235,
      "metadata": {
        "colab": {
          "base_uri": "https://localhost:8080/"
        },
        "id": "XgZjlLJ7EI4n",
        "outputId": "c897f882-b81f-4623-99e6-3ce9f6cf1206"
      },
      "outputs": [
        {
          "output_type": "stream",
          "name": "stdout",
          "text": [
            "This is the number of trainable weights before freezing the conv base: 26\n"
          ]
        }
      ],
      "source": [
        "conv_base.trainable = True\n",
        "print(\"This is the number of trainable weights \"\n",
        "      \"before freezing the conv base:\", len(conv_base.trainable_weights))"
      ]
    },
    {
      "cell_type": "code",
      "execution_count": 236,
      "metadata": {
        "colab": {
          "base_uri": "https://localhost:8080/"
        },
        "id": "w8Z11UzqEI4n",
        "outputId": "d406da7a-4c7b-4d51-bbd2-6502c15d0440"
      },
      "outputs": [
        {
          "output_type": "stream",
          "name": "stdout",
          "text": [
            "This is the number of trainable weights after freezing the conv base: 0\n"
          ]
        }
      ],
      "source": [
        "conv_base.trainable = False\n",
        "print(\"This is the number of trainable weights \"\n",
        "      \"after freezing the conv base:\", len(conv_base.trainable_weights))"
      ]
    },
    {
      "cell_type": "markdown",
      "metadata": {
        "id": "D-2C1kQfEI4n"
      },
      "source": [
        "**Adding a data augmentation stage and a classifier to the convolutional base**"
      ]
    },
    {
      "cell_type": "code",
      "execution_count": 237,
      "metadata": {
        "id": "e8jMxbZ0EI4n"
      },
      "outputs": [],
      "source": [
        "data_augmentation = keras.Sequential(\n",
        "    [\n",
        "        layers.RandomFlip(\"horizontal\"),\n",
        "        layers.RandomRotation(0.1),\n",
        "        layers.RandomZoom(0.2),\n",
        "    ]\n",
        ")\n",
        "\n",
        "inputs = keras.Input(shape=(180, 180, 3))\n",
        "x = data_augmentation(inputs)\n",
        "x = keras.applications.vgg16.preprocess_input(x)\n",
        "x = conv_base(x)\n",
        "x = layers.Flatten()(x)\n",
        "x = layers.Dense(256)(x)\n",
        "x = layers.Dropout(0.5)(x)\n",
        "outputs = layers.Dense(1, activation=\"sigmoid\")(x)\n",
        "model = keras.Model(inputs, outputs)\n",
        "model.compile(loss=\"binary_crossentropy\",\n",
        "              optimizer=\"rmsprop\",\n",
        "              metrics=[\"accuracy\"])"
      ]
    },
    {
      "cell_type": "code",
      "execution_count": 238,
      "metadata": {
        "colab": {
          "base_uri": "https://localhost:8080/"
        },
        "id": "d6jG54ouEI4n",
        "outputId": "335829ac-2e7f-4a2b-e2f2-d38018baceb2"
      },
      "outputs": [
        {
          "output_type": "stream",
          "name": "stdout",
          "text": [
            "Epoch 1/35\n",
            "63/63 [==============================] - 5s 53ms/step - loss: 18.5805 - accuracy: 0.8950 - val_loss: 4.0502 - val_accuracy: 0.9710\n",
            "Epoch 2/35\n",
            "63/63 [==============================] - 3s 46ms/step - loss: 6.3133 - accuracy: 0.9500 - val_loss: 5.0541 - val_accuracy: 0.9710\n",
            "Epoch 3/35\n",
            "63/63 [==============================] - 3s 49ms/step - loss: 6.5595 - accuracy: 0.9470 - val_loss: 3.8924 - val_accuracy: 0.9740\n",
            "Epoch 4/35\n",
            "63/63 [==============================] - 3s 46ms/step - loss: 4.8067 - accuracy: 0.9555 - val_loss: 6.5997 - val_accuracy: 0.9610\n",
            "Epoch 5/35\n",
            "63/63 [==============================] - 3s 46ms/step - loss: 3.5766 - accuracy: 0.9710 - val_loss: 4.4995 - val_accuracy: 0.9690\n",
            "Epoch 6/35\n",
            "63/63 [==============================] - 3s 49ms/step - loss: 3.8033 - accuracy: 0.9700 - val_loss: 3.7267 - val_accuracy: 0.9730\n",
            "Epoch 7/35\n",
            "63/63 [==============================] - 3s 49ms/step - loss: 3.0309 - accuracy: 0.9685 - val_loss: 3.4335 - val_accuracy: 0.9760\n",
            "Epoch 8/35\n",
            "63/63 [==============================] - 3s 46ms/step - loss: 3.6117 - accuracy: 0.9710 - val_loss: 3.8571 - val_accuracy: 0.9740\n",
            "Epoch 9/35\n",
            "63/63 [==============================] - 3s 49ms/step - loss: 3.1517 - accuracy: 0.9710 - val_loss: 2.3701 - val_accuracy: 0.9800\n",
            "Epoch 10/35\n",
            "63/63 [==============================] - 3s 46ms/step - loss: 2.3063 - accuracy: 0.9760 - val_loss: 5.1267 - val_accuracy: 0.9750\n",
            "Epoch 11/35\n",
            "63/63 [==============================] - 3s 46ms/step - loss: 1.5411 - accuracy: 0.9815 - val_loss: 4.4492 - val_accuracy: 0.9740\n",
            "Epoch 12/35\n",
            "63/63 [==============================] - 3s 46ms/step - loss: 2.0706 - accuracy: 0.9800 - val_loss: 2.5958 - val_accuracy: 0.9820\n",
            "Epoch 13/35\n",
            "63/63 [==============================] - 3s 46ms/step - loss: 2.0566 - accuracy: 0.9745 - val_loss: 3.2672 - val_accuracy: 0.9760\n",
            "Epoch 14/35\n",
            "63/63 [==============================] - 3s 46ms/step - loss: 2.2414 - accuracy: 0.9770 - val_loss: 2.5518 - val_accuracy: 0.9770\n",
            "Epoch 15/35\n",
            "63/63 [==============================] - 3s 46ms/step - loss: 2.0705 - accuracy: 0.9795 - val_loss: 2.7932 - val_accuracy: 0.9780\n",
            "Epoch 16/35\n",
            "63/63 [==============================] - 3s 46ms/step - loss: 1.5657 - accuracy: 0.9810 - val_loss: 4.2178 - val_accuracy: 0.9740\n",
            "Epoch 17/35\n",
            "63/63 [==============================] - 3s 46ms/step - loss: 2.0808 - accuracy: 0.9770 - val_loss: 2.6412 - val_accuracy: 0.9800\n",
            "Epoch 18/35\n",
            "63/63 [==============================] - 3s 49ms/step - loss: 1.3770 - accuracy: 0.9820 - val_loss: 2.3343 - val_accuracy: 0.9800\n",
            "Epoch 19/35\n",
            "63/63 [==============================] - 3s 49ms/step - loss: 1.2859 - accuracy: 0.9770 - val_loss: 2.2218 - val_accuracy: 0.9810\n",
            "Epoch 20/35\n",
            "63/63 [==============================] - 3s 49ms/step - loss: 1.0233 - accuracy: 0.9850 - val_loss: 1.7203 - val_accuracy: 0.9800\n",
            "Epoch 21/35\n",
            "63/63 [==============================] - 3s 49ms/step - loss: 1.3859 - accuracy: 0.9830 - val_loss: 1.5650 - val_accuracy: 0.9830\n",
            "Epoch 22/35\n",
            "63/63 [==============================] - 3s 46ms/step - loss: 1.3285 - accuracy: 0.9795 - val_loss: 3.7765 - val_accuracy: 0.9700\n",
            "Epoch 23/35\n",
            "63/63 [==============================] - 3s 49ms/step - loss: 1.3193 - accuracy: 0.9845 - val_loss: 1.5498 - val_accuracy: 0.9770\n",
            "Epoch 24/35\n",
            "63/63 [==============================] - 3s 46ms/step - loss: 0.6156 - accuracy: 0.9870 - val_loss: 1.9359 - val_accuracy: 0.9750\n",
            "Epoch 25/35\n",
            "63/63 [==============================] - 3s 46ms/step - loss: 1.0812 - accuracy: 0.9845 - val_loss: 1.7332 - val_accuracy: 0.9750\n",
            "Epoch 26/35\n",
            "63/63 [==============================] - 3s 46ms/step - loss: 1.3404 - accuracy: 0.9825 - val_loss: 2.4637 - val_accuracy: 0.9730\n",
            "Epoch 27/35\n",
            "63/63 [==============================] - 3s 46ms/step - loss: 0.4660 - accuracy: 0.9880 - val_loss: 1.6134 - val_accuracy: 0.9750\n",
            "Epoch 28/35\n",
            "63/63 [==============================] - 3s 46ms/step - loss: 0.7991 - accuracy: 0.9850 - val_loss: 2.4603 - val_accuracy: 0.9760\n",
            "Epoch 29/35\n",
            "63/63 [==============================] - 3s 46ms/step - loss: 0.5735 - accuracy: 0.9885 - val_loss: 1.7170 - val_accuracy: 0.9740\n",
            "Epoch 30/35\n",
            "63/63 [==============================] - 3s 46ms/step - loss: 0.7591 - accuracy: 0.9825 - val_loss: 2.1150 - val_accuracy: 0.9750\n",
            "Epoch 31/35\n",
            "63/63 [==============================] - 3s 46ms/step - loss: 0.4956 - accuracy: 0.9885 - val_loss: 2.0747 - val_accuracy: 0.9730\n",
            "Epoch 32/35\n",
            "63/63 [==============================] - 3s 46ms/step - loss: 0.8578 - accuracy: 0.9855 - val_loss: 2.1160 - val_accuracy: 0.9720\n",
            "Epoch 33/35\n",
            "63/63 [==============================] - 3s 46ms/step - loss: 0.8916 - accuracy: 0.9860 - val_loss: 2.3013 - val_accuracy: 0.9740\n",
            "Epoch 34/35\n",
            "63/63 [==============================] - 3s 46ms/step - loss: 0.4667 - accuracy: 0.9910 - val_loss: 2.0494 - val_accuracy: 0.9730\n",
            "Epoch 35/35\n",
            "63/63 [==============================] - 3s 46ms/step - loss: 0.7784 - accuracy: 0.9855 - val_loss: 3.6593 - val_accuracy: 0.9700\n"
          ]
        }
      ],
      "source": [
        "callbacks = [\n",
        "    keras.callbacks.ModelCheckpoint(\n",
        "        filepath=\"feature_extraction_with_data_augmentation.keras\",\n",
        "        save_best_only=True,\n",
        "        monitor=\"val_loss\")\n",
        "]\n",
        "history = model.fit(\n",
        "    train_dataset,\n",
        "    epochs=35,\n",
        "    validation_data=validation_dataset,\n",
        "    callbacks=callbacks)"
      ]
    },
    {
      "cell_type": "markdown",
      "metadata": {
        "id": "0Kul7fvZEI4n"
      },
      "source": [
        "**Evaluating the model on the test set**"
      ]
    },
    {
      "cell_type": "code",
      "execution_count": 239,
      "metadata": {
        "colab": {
          "base_uri": "https://localhost:8080/"
        },
        "id": "eGdCtoUjEI4n",
        "outputId": "74d93d4f-dcd9-435c-b82c-dc47406e2316"
      },
      "outputs": [
        {
          "output_type": "stream",
          "name": "stdout",
          "text": [
            "63/63 [==============================] - 2s 20ms/step - loss: 2.7035 - accuracy: 0.9795\n",
            "Test accuracy: 0.979\n"
          ]
        }
      ],
      "source": [
        "test_model = keras.models.load_model(\n",
        "    \"feature_extraction_with_data_augmentation.keras\")\n",
        "test_loss, test_acc = test_model.evaluate(test_dataset)\n",
        "print(f\"Test accuracy: {test_acc:.3f}\")"
      ]
    },
    {
      "cell_type": "markdown",
      "metadata": {
        "id": "NfKzB7SlEI4o"
      },
      "source": [
        "### Fine-tuning a pretrained model"
      ]
    },
    {
      "cell_type": "code",
      "execution_count": 240,
      "metadata": {
        "colab": {
          "base_uri": "https://localhost:8080/"
        },
        "id": "0szo7Z5ZEI4o",
        "outputId": "337d6598-a989-47c8-868f-c73519e77fce"
      },
      "outputs": [
        {
          "output_type": "stream",
          "name": "stdout",
          "text": [
            "Model: \"vgg16\"\n",
            "_________________________________________________________________\n",
            " Layer (type)                Output Shape              Param #   \n",
            "=================================================================\n",
            " input_42 (InputLayer)       [(None, None, None, 3)]   0         \n",
            "                                                                 \n",
            " block1_conv1 (Conv2D)       (None, None, None, 64)    1792      \n",
            "                                                                 \n",
            " block1_conv2 (Conv2D)       (None, None, None, 64)    36928     \n",
            "                                                                 \n",
            " block1_pool (MaxPooling2D)  (None, None, None, 64)    0         \n",
            "                                                                 \n",
            " block2_conv1 (Conv2D)       (None, None, None, 128)   73856     \n",
            "                                                                 \n",
            " block2_conv2 (Conv2D)       (None, None, None, 128)   147584    \n",
            "                                                                 \n",
            " block2_pool (MaxPooling2D)  (None, None, None, 128)   0         \n",
            "                                                                 \n",
            " block3_conv1 (Conv2D)       (None, None, None, 256)   295168    \n",
            "                                                                 \n",
            " block3_conv2 (Conv2D)       (None, None, None, 256)   590080    \n",
            "                                                                 \n",
            " block3_conv3 (Conv2D)       (None, None, None, 256)   590080    \n",
            "                                                                 \n",
            " block3_pool (MaxPooling2D)  (None, None, None, 256)   0         \n",
            "                                                                 \n",
            " block4_conv1 (Conv2D)       (None, None, None, 512)   1180160   \n",
            "                                                                 \n",
            " block4_conv2 (Conv2D)       (None, None, None, 512)   2359808   \n",
            "                                                                 \n",
            " block4_conv3 (Conv2D)       (None, None, None, 512)   2359808   \n",
            "                                                                 \n",
            " block4_pool (MaxPooling2D)  (None, None, None, 512)   0         \n",
            "                                                                 \n",
            " block5_conv1 (Conv2D)       (None, None, None, 512)   2359808   \n",
            "                                                                 \n",
            " block5_conv2 (Conv2D)       (None, None, None, 512)   2359808   \n",
            "                                                                 \n",
            " block5_conv3 (Conv2D)       (None, None, None, 512)   2359808   \n",
            "                                                                 \n",
            " block5_pool (MaxPooling2D)  (None, None, None, 512)   0         \n",
            "                                                                 \n",
            "=================================================================\n",
            "Total params: 14,714,688\n",
            "Trainable params: 0\n",
            "Non-trainable params: 14,714,688\n",
            "_________________________________________________________________\n"
          ]
        }
      ],
      "source": [
        "conv_base.summary()"
      ]
    },
    {
      "cell_type": "markdown",
      "metadata": {
        "id": "61MKYjL7EI4o"
      },
      "source": [
        "**Freezing all layers until the fourth from the last**"
      ]
    },
    {
      "cell_type": "code",
      "execution_count": 241,
      "metadata": {
        "id": "URh6xMYnEI4o"
      },
      "outputs": [],
      "source": [
        "conv_base.trainable = True\n",
        "for layer in conv_base.layers[:-4]:\n",
        "    layer.trainable = False"
      ]
    },
    {
      "cell_type": "markdown",
      "metadata": {
        "id": "kjelWYi0EI4o"
      },
      "source": [
        "**Fine-tuning the model**"
      ]
    },
    {
      "cell_type": "code",
      "execution_count": 242,
      "metadata": {
        "colab": {
          "base_uri": "https://localhost:8080/"
        },
        "id": "yBdjSbmFEI4o",
        "outputId": "55cbbc86-423f-490c-fb58-fd2e4db57b1f"
      },
      "outputs": [
        {
          "output_type": "stream",
          "name": "stdout",
          "text": [
            "Epoch 1/45\n",
            "63/63 [==============================] - 5s 56ms/step - loss: 0.5648 - accuracy: 0.9870 - val_loss: 2.0672 - val_accuracy: 0.9780\n",
            "Epoch 2/45\n",
            "63/63 [==============================] - 4s 56ms/step - loss: 0.6756 - accuracy: 0.9890 - val_loss: 1.7958 - val_accuracy: 0.9750\n",
            "Epoch 3/45\n",
            "63/63 [==============================] - 3s 48ms/step - loss: 0.3592 - accuracy: 0.9915 - val_loss: 2.5318 - val_accuracy: 0.9750\n",
            "Epoch 4/45\n",
            "63/63 [==============================] - 3s 52ms/step - loss: 0.5657 - accuracy: 0.9865 - val_loss: 1.6833 - val_accuracy: 0.9750\n",
            "Epoch 5/45\n",
            "63/63 [==============================] - 3s 52ms/step - loss: 0.2947 - accuracy: 0.9915 - val_loss: 1.1499 - val_accuracy: 0.9780\n",
            "Epoch 6/45\n",
            "63/63 [==============================] - 3s 48ms/step - loss: 0.4503 - accuracy: 0.9900 - val_loss: 1.5771 - val_accuracy: 0.9780\n",
            "Epoch 7/45\n",
            "63/63 [==============================] - 3s 48ms/step - loss: 0.3397 - accuracy: 0.9905 - val_loss: 1.5383 - val_accuracy: 0.9740\n",
            "Epoch 8/45\n",
            "63/63 [==============================] - 3s 49ms/step - loss: 0.2548 - accuracy: 0.9930 - val_loss: 1.5431 - val_accuracy: 0.9760\n",
            "Epoch 9/45\n",
            "63/63 [==============================] - 3s 48ms/step - loss: 0.2470 - accuracy: 0.9930 - val_loss: 1.5906 - val_accuracy: 0.9760\n",
            "Epoch 10/45\n",
            "63/63 [==============================] - 3s 48ms/step - loss: 0.2030 - accuracy: 0.9935 - val_loss: 1.6055 - val_accuracy: 0.9760\n",
            "Epoch 11/45\n",
            "63/63 [==============================] - 3s 48ms/step - loss: 0.2773 - accuracy: 0.9920 - val_loss: 1.4034 - val_accuracy: 0.9770\n",
            "Epoch 12/45\n",
            "63/63 [==============================] - 3s 48ms/step - loss: 0.2572 - accuracy: 0.9915 - val_loss: 1.5127 - val_accuracy: 0.9770\n",
            "Epoch 13/45\n",
            "63/63 [==============================] - 3s 48ms/step - loss: 0.2627 - accuracy: 0.9915 - val_loss: 1.7978 - val_accuracy: 0.9750\n",
            "Epoch 14/45\n",
            "63/63 [==============================] - 3s 48ms/step - loss: 0.1170 - accuracy: 0.9945 - val_loss: 1.5770 - val_accuracy: 0.9750\n",
            "Epoch 15/45\n",
            "63/63 [==============================] - 3s 48ms/step - loss: 0.1387 - accuracy: 0.9955 - val_loss: 1.3619 - val_accuracy: 0.9780\n",
            "Epoch 16/45\n",
            "63/63 [==============================] - 3s 48ms/step - loss: 0.2871 - accuracy: 0.9925 - val_loss: 1.4429 - val_accuracy: 0.9790\n",
            "Epoch 17/45\n",
            "63/63 [==============================] - 3s 48ms/step - loss: 0.3195 - accuracy: 0.9890 - val_loss: 1.4925 - val_accuracy: 0.9800\n",
            "Epoch 18/45\n",
            "63/63 [==============================] - 3s 48ms/step - loss: 0.1738 - accuracy: 0.9955 - val_loss: 1.2633 - val_accuracy: 0.9770\n",
            "Epoch 19/45\n",
            "63/63 [==============================] - 3s 48ms/step - loss: 0.0689 - accuracy: 0.9970 - val_loss: 1.6332 - val_accuracy: 0.9810\n",
            "Epoch 20/45\n",
            "63/63 [==============================] - 3s 48ms/step - loss: 0.1441 - accuracy: 0.9950 - val_loss: 1.5090 - val_accuracy: 0.9790\n",
            "Epoch 21/45\n",
            "63/63 [==============================] - 3s 48ms/step - loss: 0.1251 - accuracy: 0.9965 - val_loss: 1.4401 - val_accuracy: 0.9790\n",
            "Epoch 22/45\n",
            "63/63 [==============================] - 3s 48ms/step - loss: 0.0786 - accuracy: 0.9965 - val_loss: 1.4530 - val_accuracy: 0.9790\n",
            "Epoch 23/45\n",
            "63/63 [==============================] - 3s 48ms/step - loss: 0.1268 - accuracy: 0.9965 - val_loss: 1.2732 - val_accuracy: 0.9820\n",
            "Epoch 24/45\n",
            "63/63 [==============================] - 3s 48ms/step - loss: 0.1470 - accuracy: 0.9940 - val_loss: 1.2308 - val_accuracy: 0.9810\n",
            "Epoch 25/45\n",
            "63/63 [==============================] - 3s 48ms/step - loss: 0.1960 - accuracy: 0.9935 - val_loss: 1.4318 - val_accuracy: 0.9810\n",
            "Epoch 26/45\n",
            "63/63 [==============================] - 3s 49ms/step - loss: 0.0728 - accuracy: 0.9960 - val_loss: 1.2771 - val_accuracy: 0.9810\n",
            "Epoch 27/45\n",
            "63/63 [==============================] - 3s 48ms/step - loss: 0.1927 - accuracy: 0.9940 - val_loss: 1.3353 - val_accuracy: 0.9790\n",
            "Epoch 28/45\n",
            "63/63 [==============================] - 3s 48ms/step - loss: 0.1215 - accuracy: 0.9945 - val_loss: 1.3430 - val_accuracy: 0.9790\n",
            "Epoch 29/45\n",
            "63/63 [==============================] - 3s 48ms/step - loss: 0.1146 - accuracy: 0.9955 - val_loss: 1.5995 - val_accuracy: 0.9770\n",
            "Epoch 30/45\n",
            "63/63 [==============================] - 3s 48ms/step - loss: 0.0806 - accuracy: 0.9965 - val_loss: 1.3865 - val_accuracy: 0.9780\n",
            "Epoch 31/45\n",
            "63/63 [==============================] - 3s 48ms/step - loss: 0.1123 - accuracy: 0.9970 - val_loss: 1.3972 - val_accuracy: 0.9800\n",
            "Epoch 32/45\n",
            "63/63 [==============================] - 3s 48ms/step - loss: 0.0593 - accuracy: 0.9975 - val_loss: 1.4793 - val_accuracy: 0.9790\n",
            "Epoch 33/45\n",
            "63/63 [==============================] - 3s 48ms/step - loss: 0.0450 - accuracy: 0.9960 - val_loss: 1.3500 - val_accuracy: 0.9800\n",
            "Epoch 34/45\n",
            "63/63 [==============================] - 3s 48ms/step - loss: 0.1014 - accuracy: 0.9960 - val_loss: 1.3314 - val_accuracy: 0.9780\n",
            "Epoch 35/45\n",
            "63/63 [==============================] - 3s 48ms/step - loss: 0.1086 - accuracy: 0.9965 - val_loss: 2.2536 - val_accuracy: 0.9710\n",
            "Epoch 36/45\n",
            "63/63 [==============================] - 3s 48ms/step - loss: 0.0787 - accuracy: 0.9975 - val_loss: 1.4044 - val_accuracy: 0.9790\n",
            "Epoch 37/45\n",
            "63/63 [==============================] - 3s 48ms/step - loss: 0.1406 - accuracy: 0.9950 - val_loss: 1.4453 - val_accuracy: 0.9820\n",
            "Epoch 38/45\n",
            "63/63 [==============================] - 3s 48ms/step - loss: 0.0652 - accuracy: 0.9960 - val_loss: 1.7585 - val_accuracy: 0.9750\n",
            "Epoch 39/45\n",
            "63/63 [==============================] - 3s 48ms/step - loss: 0.0975 - accuracy: 0.9955 - val_loss: 1.3750 - val_accuracy: 0.9790\n",
            "Epoch 40/45\n",
            "63/63 [==============================] - 3s 48ms/step - loss: 0.0715 - accuracy: 0.9970 - val_loss: 1.7018 - val_accuracy: 0.9780\n",
            "Epoch 41/45\n",
            "63/63 [==============================] - 3s 48ms/step - loss: 0.0165 - accuracy: 0.9985 - val_loss: 1.3451 - val_accuracy: 0.9810\n",
            "Epoch 42/45\n",
            "63/63 [==============================] - 3s 48ms/step - loss: 0.0913 - accuracy: 0.9975 - val_loss: 1.4850 - val_accuracy: 0.9810\n",
            "Epoch 43/45\n",
            "63/63 [==============================] - 3s 48ms/step - loss: 0.0549 - accuracy: 0.9975 - val_loss: 1.4450 - val_accuracy: 0.9820\n",
            "Epoch 44/45\n",
            "63/63 [==============================] - 3s 48ms/step - loss: 0.0602 - accuracy: 0.9970 - val_loss: 1.2514 - val_accuracy: 0.9820\n",
            "Epoch 45/45\n",
            "63/63 [==============================] - 3s 48ms/step - loss: 0.0792 - accuracy: 0.9985 - val_loss: 1.3401 - val_accuracy: 0.9820\n"
          ]
        }
      ],
      "source": [
        "model.compile(loss=\"binary_crossentropy\",\n",
        "              optimizer=keras.optimizers.RMSprop(learning_rate=1e-5),\n",
        "              metrics=[\"accuracy\"])\n",
        "\n",
        "callbacks = [\n",
        "    keras.callbacks.ModelCheckpoint(\n",
        "        filepath=\"fine_tuning.keras\",\n",
        "        save_best_only=True,\n",
        "        monitor=\"val_loss\")\n",
        "]\n",
        "history = model.fit(\n",
        "    train_dataset,\n",
        "    epochs=45,\n",
        "    validation_data=validation_dataset,\n",
        "    callbacks=callbacks)"
      ]
    },
    {
      "cell_type": "code",
      "execution_count": 243,
      "metadata": {
        "colab": {
          "base_uri": "https://localhost:8080/"
        },
        "id": "Fzpj3KINEI4o",
        "outputId": "7ecfda87-ff66-47a5-facd-4b243417fb7f"
      },
      "outputs": [
        {
          "output_type": "stream",
          "name": "stdout",
          "text": [
            "63/63 [==============================] - 2s 21ms/step - loss: 1.8734 - accuracy: 0.9745\n",
            "Test accuracy: 0.975\n"
          ]
        }
      ],
      "source": [
        "model = keras.models.load_model(\"fine_tuning.keras\")\n",
        "test_loss, test_acc = model.evaluate(test_dataset)\n",
        "print(f\"Test accuracy: {test_acc:.3f}\")"
      ]
    }
  ],
  "metadata": {
    "colab": {
      "collapsed_sections": [],
      "name": "chapter08_intro-to-dl-for-computer-vision.i",
      "provenance": [],
      "toc_visible": true,
      "machine_shape": "hm"
    },
    "kernelspec": {
      "display_name": "Python 3",
      "language": "python",
      "name": "python3"
    },
    "language_info": {
      "codemirror_mode": {
        "name": "ipython",
        "version": 3
      },
      "file_extension": ".py",
      "mimetype": "text/x-python",
      "name": "python",
      "nbconvert_exporter": "python",
      "pygments_lexer": "ipython3",
      "version": "3.7.0"
    },
    "accelerator": "GPU",
    "gpuClass": "premium"
  },
  "nbformat": 4,
  "nbformat_minor": 0
}