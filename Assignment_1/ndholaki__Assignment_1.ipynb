{
  "nbformat": 4,
  "nbformat_minor": 0,
  "metadata": {
    "colab": {
      "provenance": [],
      "collapsed_sections": [],
      "machine_shape": "hm"
    },
    "kernelspec": {
      "name": "python3",
      "display_name": "Python 3"
    },
    "language_info": {
      "name": "python"
    },
    "accelerator": "GPU"
  },
  "cells": [
    {
      "cell_type": "markdown",
      "source": [
        "Here, the library tensorflow.keras.datasets is used to load the IMDB dataset in the workspace.\n"
      ],
      "metadata": {
        "id": "VVNMfkkuUWu1"
      }
    },
    {
      "cell_type": "code",
      "execution_count": 62,
      "metadata": {
        "id": "NmtJkjFYUF6R"
      },
      "outputs": [],
      "source": [
        "from keras.datasets import imdb\n",
        "\n",
        "(train_data, train_labels), (test_data, test_labels) = imdb.load_data(\n",
        "    num_words=10000)"
      ]
    },
    {
      "cell_type": "code",
      "source": [
        ">>> train_data[0]\n",
        ">>> train_labels[0]"
      ],
      "metadata": {
        "colab": {
          "base_uri": "https://localhost:8080/"
        },
        "id": "1nW-qNavUmeP",
        "outputId": "b89b96cd-9797-46b7-f32d-80f4b8071328"
      },
      "execution_count": 63,
      "outputs": [
        {
          "output_type": "execute_result",
          "data": {
            "text/plain": [
              "1"
            ]
          },
          "metadata": {},
          "execution_count": 63
        }
      ]
    },
    {
      "cell_type": "markdown",
      "source": [
        "Decoding reviews back to English words\n"
      ],
      "metadata": {
        "id": "DnWpsPiJUsoR"
      }
    },
    {
      "cell_type": "code",
      "source": [
        "\n",
        "word_index = imdb.get_word_index()\n",
        "reverse_word_index = dict(\n",
        "    [(value, key) for (key, value) in word_index.items()])\n",
        "decoded_review = ' '.join(\n",
        "    [reverse_word_index.get(i - 3, '?') for i in train_data[0]])\n"
      ],
      "metadata": {
        "id": "eDr7xKTvU99P"
      },
      "execution_count": 64,
      "outputs": []
    },
    {
      "cell_type": "markdown",
      "source": [
        "Dataset is being vectorized here by create an all zero matrix of shape (len(sequences), dimension)"
      ],
      "metadata": {
        "id": "ITiFQ4UIVFSW"
      }
    },
    {
      "cell_type": "code",
      "source": [
        "import numpy as np\n",
        "\n",
        "def vectorize_sequences(sequences, dimension=10000):\n",
        "    results = np.zeros((len(sequences), dimension))\n",
        "    for i, sequence in enumerate(sequences):\n",
        "        results[i, sequence] = 1.\n",
        "    return results\n",
        "\n"
      ],
      "metadata": {
        "id": "8xJkbN90VS2C"
      },
      "execution_count": 65,
      "outputs": []
    },
    {
      "cell_type": "markdown",
      "source": [
        "\n",
        "Vectorized the training and test data"
      ],
      "metadata": {
        "id": "A8Ab5hR0WOeM"
      }
    },
    {
      "cell_type": "code",
      "source": [
        "x_train = vectorize_sequences(train_data)\n",
        "x_test = vectorize_sequences(test_data)\n",
        "y_train = np.asarray(train_labels).astype('float32')\n",
        "y_test = np.asarray(test_labels).astype('float32')"
      ],
      "metadata": {
        "id": "giX_QxdSWBFJ"
      },
      "execution_count": 66,
      "outputs": []
    },
    {
      "cell_type": "markdown",
      "source": [
        "Building the model using the activation function Relu."
      ],
      "metadata": {
        "id": "ANoh4a7oWhZZ"
      }
    },
    {
      "cell_type": "code",
      "source": [
        "from tensorflow import keras\n",
        "from tensorflow.keras import layers\n",
        "\n",
        "model = keras.Sequential([\n",
        "    layers.Dense(16, activation=\"relu\"),\n",
        "    layers.Dense(16, activation=\"relu\"),\n",
        "    layers.Dense(1, activation=\"sigmoid\")\n",
        "])"
      ],
      "metadata": {
        "id": "xA-VYthVWpBS"
      },
      "execution_count": 67,
      "outputs": []
    },
    {
      "cell_type": "markdown",
      "source": [
        "Compiling the model"
      ],
      "metadata": {
        "id": "_PYHA4u1Wsan"
      }
    },
    {
      "cell_type": "code",
      "source": [
        "model.compile(optimizer='rmsprop',\n",
        "              loss='binary_crossentropy',\n",
        "              metrics=['accuracy'])"
      ],
      "metadata": {
        "id": "h4yKv1HkWwX9"
      },
      "execution_count": 68,
      "outputs": []
    },
    {
      "cell_type": "markdown",
      "source": [
        "Setting aside a validation set"
      ],
      "metadata": {
        "id": "Wvztxsl-W88m"
      }
    },
    {
      "cell_type": "code",
      "source": [
        "x_val = x_train[:10000]\n",
        "partial_x_train = x_train[10000:]\n",
        "y_val = y_train[:10000]\n",
        "partial_y_train = y_train[10000:]"
      ],
      "metadata": {
        "id": "Lh3maT9WW2pv"
      },
      "execution_count": 69,
      "outputs": []
    },
    {
      "cell_type": "markdown",
      "source": [
        "Training the model with a batch size of 512 and epochs size of 20"
      ],
      "metadata": {
        "id": "Jzv5JkbKW6Hs"
      }
    },
    {
      "cell_type": "code",
      "source": [
        "model.compile(optimizer='rmsprop',\n",
        "              loss='binary_crossentropy',\n",
        "              metrics=['accuracy'])\n",
        "\n",
        "history = model.fit(partial_x_train,\n",
        "                    partial_y_train,\n",
        "                    epochs=20,\n",
        "                    batch_size=512,\n",
        "                    validation_data=(x_val, y_val))"
      ],
      "metadata": {
        "colab": {
          "base_uri": "https://localhost:8080/"
        },
        "id": "xDZw9_IDXKh0",
        "outputId": "c0c4499e-f7cf-4368-a86c-1e76fc1cb306"
      },
      "execution_count": 70,
      "outputs": [
        {
          "output_type": "stream",
          "name": "stdout",
          "text": [
            "Epoch 1/20\n",
            "30/30 [==============================] - 2s 30ms/step - loss: 0.5272 - accuracy: 0.7904 - val_loss: 0.4012 - val_accuracy: 0.8708\n",
            "Epoch 2/20\n",
            "30/30 [==============================] - 0s 16ms/step - loss: 0.3196 - accuracy: 0.9022 - val_loss: 0.3133 - val_accuracy: 0.8867\n",
            "Epoch 3/20\n",
            "30/30 [==============================] - 0s 15ms/step - loss: 0.2337 - accuracy: 0.9259 - val_loss: 0.2817 - val_accuracy: 0.8939\n",
            "Epoch 4/20\n",
            "30/30 [==============================] - 0s 15ms/step - loss: 0.1844 - accuracy: 0.9417 - val_loss: 0.3286 - val_accuracy: 0.8662\n",
            "Epoch 5/20\n",
            "30/30 [==============================] - 0s 16ms/step - loss: 0.1501 - accuracy: 0.9527 - val_loss: 0.2772 - val_accuracy: 0.8896\n",
            "Epoch 6/20\n",
            "30/30 [==============================] - 0s 16ms/step - loss: 0.1278 - accuracy: 0.9593 - val_loss: 0.2896 - val_accuracy: 0.8851\n",
            "Epoch 7/20\n",
            "30/30 [==============================] - 0s 15ms/step - loss: 0.1039 - accuracy: 0.9684 - val_loss: 0.3230 - val_accuracy: 0.8765\n",
            "Epoch 8/20\n",
            "30/30 [==============================] - 0s 16ms/step - loss: 0.0887 - accuracy: 0.9749 - val_loss: 0.3296 - val_accuracy: 0.8820\n",
            "Epoch 9/20\n",
            "30/30 [==============================] - 0s 16ms/step - loss: 0.0753 - accuracy: 0.9791 - val_loss: 0.3526 - val_accuracy: 0.8765\n",
            "Epoch 10/20\n",
            "30/30 [==============================] - 0s 16ms/step - loss: 0.0614 - accuracy: 0.9843 - val_loss: 0.3684 - val_accuracy: 0.8767\n",
            "Epoch 11/20\n",
            "30/30 [==============================] - 0s 16ms/step - loss: 0.0527 - accuracy: 0.9866 - val_loss: 0.3964 - val_accuracy: 0.8716\n",
            "Epoch 12/20\n",
            "30/30 [==============================] - 0s 16ms/step - loss: 0.0423 - accuracy: 0.9904 - val_loss: 0.4208 - val_accuracy: 0.8754\n",
            "Epoch 13/20\n",
            "30/30 [==============================] - 0s 16ms/step - loss: 0.0331 - accuracy: 0.9937 - val_loss: 0.4788 - val_accuracy: 0.8630\n",
            "Epoch 14/20\n",
            "30/30 [==============================] - 0s 17ms/step - loss: 0.0271 - accuracy: 0.9951 - val_loss: 0.5199 - val_accuracy: 0.8710\n",
            "Epoch 15/20\n",
            "30/30 [==============================] - 0s 16ms/step - loss: 0.0244 - accuracy: 0.9953 - val_loss: 0.5313 - val_accuracy: 0.8724\n",
            "Epoch 16/20\n",
            "30/30 [==============================] - 1s 17ms/step - loss: 0.0175 - accuracy: 0.9975 - val_loss: 0.5478 - val_accuracy: 0.8675\n",
            "Epoch 17/20\n",
            "30/30 [==============================] - 0s 16ms/step - loss: 0.0162 - accuracy: 0.9971 - val_loss: 0.5898 - val_accuracy: 0.8681\n",
            "Epoch 18/20\n",
            "30/30 [==============================] - 0s 16ms/step - loss: 0.0120 - accuracy: 0.9983 - val_loss: 0.6129 - val_accuracy: 0.8647\n",
            "Epoch 19/20\n",
            "30/30 [==============================] - 1s 22ms/step - loss: 0.0078 - accuracy: 0.9995 - val_loss: 0.6974 - val_accuracy: 0.8658\n",
            "Epoch 20/20\n",
            "30/30 [==============================] - 0s 15ms/step - loss: 0.0084 - accuracy: 0.9989 - val_loss: 0.6882 - val_accuracy: 0.8651\n"
          ]
        }
      ]
    },
    {
      "cell_type": "code",
      "source": [
        ">>> history_dict = history.history\n",
        ">>> history_dict.keys()\n",
        "[u'acc', u'loss', u'val_acc', u'val_loss']"
      ],
      "metadata": {
        "colab": {
          "base_uri": "https://localhost:8080/"
        },
        "id": "VpLXLozJXtca",
        "outputId": "46e12f32-781a-4889-8e6d-7079495f2642"
      },
      "execution_count": 71,
      "outputs": [
        {
          "output_type": "execute_result",
          "data": {
            "text/plain": [
              "['acc', 'loss', 'val_acc', 'val_loss']"
            ]
          },
          "metadata": {},
          "execution_count": 71
        }
      ]
    },
    {
      "cell_type": "markdown",
      "source": [
        "Plotting the training and validation loss"
      ],
      "metadata": {
        "id": "xgPSZ976X4Vk"
      }
    },
    {
      "cell_type": "code",
      "source": [
        "import matplotlib.pyplot as plt\n",
        "history_dict = history.history\n",
        "loss_values = history_dict[\"loss\"]\n",
        "val_loss_values = history_dict[\"val_loss\"]\n",
        "epochs = range(1, len(loss_values) + 1)\n",
        "plt.plot(epochs, loss_values, \"bo\", label=\"Training loss\")\n",
        "plt.plot(epochs, val_loss_values, \"b\", label=\"Validation loss\")\n",
        "plt.title(\"Training and validation loss\")\n",
        "plt.xlabel(\"Epochs\")\n",
        "plt.ylabel(\"Loss\")\n",
        "plt.legend()\n",
        "plt.show()"
      ],
      "metadata": {
        "colab": {
          "base_uri": "https://localhost:8080/",
          "height": 295
        },
        "id": "mQxgmj6NXwVu",
        "outputId": "19c5dd6e-147a-449c-82d6-53b6e7e1dafd"
      },
      "execution_count": 72,
      "outputs": [
        {
          "output_type": "display_data",
          "data": {
            "text/plain": [
              "<Figure size 432x288 with 1 Axes>"
            ],
            "image/png": "[encoded data removed]"
          },
          "metadata": {
            "needs_background": "light"
          }
        }
      ]
    },
    {
      "cell_type": "markdown",
      "source": [
        "Plotting graph between Training and Validation Accuracy"
      ],
      "metadata": {
        "id": "4o9bGTC_YgwP"
      }
    },
    {
      "cell_type": "code",
      "source": [
        "plt.clf()\n",
        "acc = history_dict[\"accuracy\"]\n",
        "val_acc = history_dict[\"val_accuracy\"]\n",
        "plt.plot(epochs, acc, \"bo\", label=\"Training accuracy\")\n",
        "plt.plot(epochs, val_acc, \"b\", label=\"Validation accuracy\")\n",
        "plt.title(\"Training and validation accuracy\")\n",
        "plt.xlabel(\"Epochs\")\n",
        "plt.ylabel(\"Accuracy\")\n",
        "plt.legend()\n",
        "plt.show()"
      ],
      "metadata": {
        "colab": {
          "base_uri": "https://localhost:8080/",
          "height": 295
        },
        "id": "YEv13DilYmla",
        "outputId": "b378bdbe-4814-4a92-9b94-00fdcaa60bef"
      },
      "execution_count": 73,
      "outputs": [
        {
          "output_type": "display_data",
          "data": {
            "text/plain": [
              "<Figure size 432x288 with 1 Axes>"
            ],
            "image/png": "[encoded data removed]"
          },
          "metadata": {
            "needs_background": "light"
          }
        }
      ]
    },
    {
      "cell_type": "markdown",
      "source": [
        "Retraining the model from scratch"
      ],
      "metadata": {
        "id": "2-Lf83-zYy94"
      }
    },
    {
      "cell_type": "code",
      "source": [
        "model = keras.Sequential([\n",
        "    layers.Dense(16, activation=\"relu\"),\n",
        "    layers.Dense(16, activation=\"relu\"),\n",
        "    layers.Dense(1, activation=\"sigmoid\")\n",
        "])\n",
        "model.compile(optimizer=\"rmsprop\",\n",
        "              loss=\"binary_crossentropy\",\n",
        "              metrics=[\"accuracy\"])\n",
        "model.fit(x_train, y_train, epochs=3, batch_size=512)\n",
        "results = model.evaluate(x_test, y_test)"
      ],
      "metadata": {
        "colab": {
          "base_uri": "https://localhost:8080/"
        },
        "id": "D5Gggy2KY5EP",
        "outputId": "cc9fea14-11e4-479c-ab56-1740cbe8a660"
      },
      "execution_count": 74,
      "outputs": [
        {
          "output_type": "stream",
          "name": "stdout",
          "text": [
            "Epoch 1/3\n",
            "49/49 [==============================] - 1s 10ms/step - loss: 0.4669 - accuracy: 0.8170\n",
            "Epoch 2/3\n",
            "49/49 [==============================] - 0s 10ms/step - loss: 0.2655 - accuracy: 0.9075\n",
            "Epoch 3/3\n",
            "49/49 [==============================] - 0s 10ms/step - loss: 0.2049 - accuracy: 0.9267\n",
            "782/782 [==============================] - 2s 3ms/step - loss: 0.2841 - accuracy: 0.8874\n"
          ]
        }
      ]
    },
    {
      "cell_type": "code",
      "source": [
        ">>> results"
      ],
      "metadata": {
        "colab": {
          "base_uri": "https://localhost:8080/"
        },
        "id": "8lkhH6uqZSIj",
        "outputId": "a86ba85f-b14f-431c-e01b-e095cd4f47a5"
      },
      "execution_count": 75,
      "outputs": [
        {
          "output_type": "execute_result",
          "data": {
            "text/plain": [
              "[0.2840519845485687, 0.887440025806427]"
            ]
          },
          "metadata": {},
          "execution_count": 75
        }
      ]
    },
    {
      "cell_type": "markdown",
      "source": [
        "Using a trained network to generate predications on new data"
      ],
      "metadata": {
        "id": "w_4_DFMKRr9B"
      }
    },
    {
      "cell_type": "code",
      "source": [
        ">>> model.predict(x_test)"
      ],
      "metadata": {
        "colab": {
          "base_uri": "https://localhost:8080/"
        },
        "id": "kD2kZGobRoRv",
        "outputId": "b5c53f10-df71-4484-a61f-2bcb903b8401"
      },
      "execution_count": 76,
      "outputs": [
        {
          "output_type": "execute_result",
          "data": {
            "text/plain": [
              "array([[0.22740583],\n",
              "       [0.999673  ],\n",
              "       [0.8302874 ],\n",
              "       ...,\n",
              "       [0.11376282],\n",
              "       [0.07774394],\n",
              "       [0.49447197]], dtype=float32)"
            ]
          },
          "metadata": {},
          "execution_count": 76
        }
      ]
    },
    {
      "cell_type": "code",
      "source": [],
      "metadata": {
        "id": "3QLdOPLhR4da"
      },
      "execution_count": 76,
      "outputs": []
    },
    {
      "cell_type": "markdown",
      "source": [
        "Model number 2"
      ],
      "metadata": {
        "id": "MR7OXTnNR8em"
      }
    },
    {
      "cell_type": "code",
      "source": [
        "model_2 = keras.Sequential([\n",
        "    layers.Dense(16, activation=\"relu\"),\n",
        "    layers.Dense(16, activation=\"relu\"),\n",
        "    layers.Dense(1, activation=\"sigmoid\")\n",
        "])\n",
        "model_2.compile(optimizer=\"rmsprop\",\n",
        "              loss=\"binary_crossentropy\",\n",
        "              metrics=[\"accuracy\"])\n",
        "model_2.fit(x_train, y_train, epochs=5, batch_size=512)\n",
        "results = model_2.evaluate(x_test, y_test)"
      ],
      "metadata": {
        "colab": {
          "base_uri": "https://localhost:8080/"
        },
        "id": "aMX5epNxR_CL",
        "outputId": "53622f45-353d-4f67-9449-e094891e331a"
      },
      "execution_count": 77,
      "outputs": [
        {
          "output_type": "stream",
          "name": "stdout",
          "text": [
            "Epoch 1/5\n",
            "49/49 [==============================] - 1s 10ms/step - loss: 0.4578 - accuracy: 0.8210\n",
            "Epoch 2/5\n",
            "49/49 [==============================] - 0s 10ms/step - loss: 0.2618 - accuracy: 0.9099\n",
            "Epoch 3/5\n",
            "49/49 [==============================] - 0s 10ms/step - loss: 0.2006 - accuracy: 0.9300\n",
            "Epoch 4/5\n",
            "49/49 [==============================] - 0s 10ms/step - loss: 0.1672 - accuracy: 0.9418\n",
            "Epoch 5/5\n",
            "49/49 [==============================] - 0s 9ms/step - loss: 0.1417 - accuracy: 0.9506\n",
            "782/782 [==============================] - 2s 3ms/step - loss: 0.3369 - accuracy: 0.8716\n"
          ]
        }
      ]
    },
    {
      "cell_type": "code",
      "source": [
        "results"
      ],
      "metadata": {
        "colab": {
          "base_uri": "https://localhost:8080/"
        },
        "id": "mxeD6UFYSYg1",
        "outputId": "94544c50-9e15-407c-f80b-8acb685bda86"
      },
      "execution_count": 78,
      "outputs": [
        {
          "output_type": "execute_result",
          "data": {
            "text/plain": [
              "[0.3368835151195526, 0.8716400265693665]"
            ]
          },
          "metadata": {},
          "execution_count": 78
        }
      ]
    },
    {
      "cell_type": "markdown",
      "source": [
        "Model 1 trained with 3 layers"
      ],
      "metadata": {
        "id": "SOpTcYvvTkx5"
      }
    },
    {
      "cell_type": "code",
      "source": [
        "model_11 = keras.Sequential([\n",
        "    layers.Dense(16, activation=\"relu\"),\n",
        "    layers.Dense(16, activation=\"relu\"),\n",
        "    layers.Dense(16, activation=\"relu\"),\n",
        "    layers.Dense(1, activation=\"sigmoid\")\n",
        "])\n",
        "model_11.compile(optimizer=\"rmsprop\",\n",
        "              loss=\"binary_crossentropy\",\n",
        "              metrics=[\"accuracy\"])\n",
        "history3 = model_11.fit(partial_x_train,\n",
        "                    partial_y_train,\n",
        "                    epochs=20,\n",
        "                    batch_size=512,\n",
        "                    validation_data=(x_val, y_val))\n",
        "history_dict3 = history3.history\n",
        "history_dict3.keys()"
      ],
      "metadata": {
        "colab": {
          "base_uri": "https://localhost:8080/"
        },
        "id": "MlBzGETSTjWj",
        "outputId": "969171a9-ecc9-493a-dd7a-b8eddc3275d0"
      },
      "execution_count": 79,
      "outputs": [
        {
          "output_type": "stream",
          "name": "stdout",
          "text": [
            "Epoch 1/20\n",
            "30/30 [==============================] - 2s 28ms/step - loss: 0.5380 - accuracy: 0.7892 - val_loss: 0.4214 - val_accuracy: 0.8663\n",
            "Epoch 2/20\n",
            "30/30 [==============================] - 0s 16ms/step - loss: 0.3351 - accuracy: 0.9001 - val_loss: 0.3193 - val_accuracy: 0.8850\n",
            "Epoch 3/20\n",
            "30/30 [==============================] - 0s 17ms/step - loss: 0.2373 - accuracy: 0.9271 - val_loss: 0.2851 - val_accuracy: 0.8889\n",
            "Epoch 4/20\n",
            "30/30 [==============================] - 0s 16ms/step - loss: 0.1848 - accuracy: 0.9411 - val_loss: 0.2734 - val_accuracy: 0.8913\n",
            "Epoch 5/20\n",
            "30/30 [==============================] - 0s 16ms/step - loss: 0.1474 - accuracy: 0.9536 - val_loss: 0.2865 - val_accuracy: 0.8863\n",
            "Epoch 6/20\n",
            "30/30 [==============================] - 0s 16ms/step - loss: 0.1182 - accuracy: 0.9625 - val_loss: 0.3086 - val_accuracy: 0.8833\n",
            "Epoch 7/20\n",
            "30/30 [==============================] - 0s 16ms/step - loss: 0.0981 - accuracy: 0.9703 - val_loss: 0.3212 - val_accuracy: 0.8812\n",
            "Epoch 8/20\n",
            "30/30 [==============================] - 0s 16ms/step - loss: 0.0808 - accuracy: 0.9762 - val_loss: 0.3634 - val_accuracy: 0.8755\n",
            "Epoch 9/20\n",
            "30/30 [==============================] - 0s 16ms/step - loss: 0.0657 - accuracy: 0.9825 - val_loss: 0.3716 - val_accuracy: 0.8794\n",
            "Epoch 10/20\n",
            "30/30 [==============================] - 0s 16ms/step - loss: 0.0531 - accuracy: 0.9861 - val_loss: 0.4033 - val_accuracy: 0.8737\n",
            "Epoch 11/20\n",
            "30/30 [==============================] - 0s 16ms/step - loss: 0.0413 - accuracy: 0.9901 - val_loss: 0.4539 - val_accuracy: 0.8711\n",
            "Epoch 12/20\n",
            "30/30 [==============================] - 0s 16ms/step - loss: 0.0343 - accuracy: 0.9919 - val_loss: 0.4658 - val_accuracy: 0.8737\n",
            "Epoch 13/20\n",
            "30/30 [==============================] - 1s 17ms/step - loss: 0.0271 - accuracy: 0.9935 - val_loss: 0.5007 - val_accuracy: 0.8713\n",
            "Epoch 14/20\n",
            "30/30 [==============================] - 0s 16ms/step - loss: 0.0233 - accuracy: 0.9952 - val_loss: 0.5361 - val_accuracy: 0.8709\n",
            "Epoch 15/20\n",
            "30/30 [==============================] - 0s 17ms/step - loss: 0.0143 - accuracy: 0.9978 - val_loss: 0.5876 - val_accuracy: 0.8675\n",
            "Epoch 16/20\n",
            "30/30 [==============================] - 0s 16ms/step - loss: 0.0131 - accuracy: 0.9972 - val_loss: 0.6117 - val_accuracy: 0.8698\n",
            "Epoch 17/20\n",
            "30/30 [==============================] - 0s 16ms/step - loss: 0.0070 - accuracy: 0.9995 - val_loss: 0.6926 - val_accuracy: 0.8627\n",
            "Epoch 18/20\n",
            "30/30 [==============================] - 0s 17ms/step - loss: 0.0126 - accuracy: 0.9966 - val_loss: 0.6915 - val_accuracy: 0.8655\n",
            "Epoch 19/20\n",
            "30/30 [==============================] - 0s 16ms/step - loss: 0.0039 - accuracy: 0.9997 - val_loss: 0.7223 - val_accuracy: 0.8654\n",
            "Epoch 20/20\n",
            "30/30 [==============================] - 0s 16ms/step - loss: 0.0078 - accuracy: 0.9978 - val_loss: 0.7723 - val_accuracy: 0.8649\n"
          ]
        },
        {
          "output_type": "execute_result",
          "data": {
            "text/plain": [
              "dict_keys(['loss', 'accuracy', 'val_loss', 'val_accuracy'])"
            ]
          },
          "metadata": {},
          "execution_count": 79
        }
      ]
    },
    {
      "cell_type": "markdown",
      "source": [
        "Plotting graph between Training and Validation loss"
      ],
      "metadata": {
        "id": "IQruqv5lT5FC"
      }
    },
    {
      "cell_type": "code",
      "source": [
        "loss_values = history_dict3[\"loss\"]\n",
        "val_loss_values = history_dict3[\"val_loss\"]\n",
        "epochs = range(1, len(loss_values) + 1)\n",
        "plt.plot(epochs, loss_values, \"bo\", label=\"Training loss\")\n",
        "plt.plot(epochs, val_loss_values, \"b\", label=\"Validation loss\")\n",
        "plt.title(\"Training and validation loss\")\n",
        "plt.xlabel(\"Epochs\")\n",
        "plt.ylabel(\"Loss\")\n",
        "plt.legend()\n",
        "plt.show()"
      ],
      "metadata": {
        "colab": {
          "base_uri": "https://localhost:8080/",
          "height": 295
        },
        "id": "Xms9kSYIT9p2",
        "outputId": "9d3964d2-752e-4aff-c41d-76781db89de6"
      },
      "execution_count": 80,
      "outputs": [
        {
          "output_type": "display_data",
          "data": {
            "text/plain": [
              "<Figure size 432x288 with 1 Axes>"
            ],
            "image/png": "[encoded data removed]"
          },
          "metadata": {
            "needs_background": "light"
          }
        }
      ]
    },
    {
      "cell_type": "markdown",
      "source": [
        "Plotting graph between Training and Validation accuracy"
      ],
      "metadata": {
        "id": "nQtPhSjsUBJ_"
      }
    },
    {
      "cell_type": "code",
      "source": [
        "plt.clf()\n",
        "acc = history_dict3[\"accuracy\"]\n",
        "val_acc = history_dict3[\"val_accuracy\"]\n",
        "plt.plot(epochs, acc, \"bo\", label=\"Training acc\")\n",
        "plt.plot(epochs, val_acc, \"b\", label=\"Validation acc\")\n",
        "plt.title(\"Training and validation accuracy\")\n",
        "plt.xlabel(\"Epochs\")\n",
        "plt.ylabel(\"Accuracy\")\n",
        "plt.legend()\n",
        "plt.show()"
      ],
      "metadata": {
        "colab": {
          "base_uri": "https://localhost:8080/",
          "height": 295
        },
        "id": "rVEUVxRJUF6o",
        "outputId": "865c42aa-cc90-47bb-990c-4a56f5993cb0"
      },
      "execution_count": 81,
      "outputs": [
        {
          "output_type": "display_data",
          "data": {
            "text/plain": [
              "<Figure size 432x288 with 1 Axes>"
            ],
            "image/png": "[encoded data removed]"
          },
          "metadata": {
            "needs_background": "light"
          }
        }
      ]
    },
    {
      "cell_type": "code",
      "source": [
        "model_11.fit(x_train, y_train, epochs=10, batch_size=512)\n",
        "results_M11 = model.evaluate(x_test, y_test)\n",
        "results_M11"
      ],
      "metadata": {
        "colab": {
          "base_uri": "https://localhost:8080/"
        },
        "id": "4sfyn1xmUJ8v",
        "outputId": "02694410-ac21-40e3-bf0e-c1c420fc450f"
      },
      "execution_count": 82,
      "outputs": [
        {
          "output_type": "stream",
          "name": "stdout",
          "text": [
            "Epoch 1/10\n",
            "49/49 [==============================] - 1s 10ms/step - loss: 0.2357 - accuracy: 0.9466\n",
            "Epoch 2/10\n",
            "49/49 [==============================] - 1s 10ms/step - loss: 0.1359 - accuracy: 0.9610\n",
            "Epoch 3/10\n",
            "49/49 [==============================] - 1s 10ms/step - loss: 0.1068 - accuracy: 0.9696\n",
            "Epoch 4/10\n",
            "49/49 [==============================] - 1s 10ms/step - loss: 0.0831 - accuracy: 0.9751\n",
            "Epoch 5/10\n",
            "49/49 [==============================] - 1s 10ms/step - loss: 0.0668 - accuracy: 0.9810\n",
            "Epoch 6/10\n",
            "49/49 [==============================] - 1s 11ms/step - loss: 0.0528 - accuracy: 0.9856\n",
            "Epoch 7/10\n",
            "49/49 [==============================] - 0s 10ms/step - loss: 0.0412 - accuracy: 0.9899\n",
            "Epoch 8/10\n",
            "49/49 [==============================] - 1s 11ms/step - loss: 0.0321 - accuracy: 0.9914\n",
            "Epoch 9/10\n",
            "49/49 [==============================] - 1s 10ms/step - loss: 0.0228 - accuracy: 0.9948\n",
            "Epoch 10/10\n",
            "49/49 [==============================] - 1s 10ms/step - loss: 0.0165 - accuracy: 0.9964\n",
            "782/782 [==============================] - 2s 3ms/step - loss: 0.2841 - accuracy: 0.8874\n"
          ]
        },
        {
          "output_type": "execute_result",
          "data": {
            "text/plain": [
              "[0.2840519845485687, 0.887440025806427]"
            ]
          },
          "metadata": {},
          "execution_count": 82
        }
      ]
    },
    {
      "cell_type": "markdown",
      "source": [
        "Training model with 32 units"
      ],
      "metadata": {
        "id": "BezCsfyXUgQg"
      }
    },
    {
      "cell_type": "code",
      "source": [
        "model_21 = keras.Sequential([\n",
        "    layers.Dense(32, activation=\"relu\"),\n",
        "    layers.Dense(32, activation=\"relu\"),\n",
        "    layers.Dense(1, activation=\"sigmoid\")\n",
        "])\n",
        "model_21.compile(optimizer=\"rmsprop\",\n",
        "              loss=\"binary_crossentropy\",\n",
        "              metrics=[\"accuracy\"])\n",
        "history21 = model_21.fit(partial_x_train,\n",
        "                    partial_y_train,\n",
        "                    epochs=20,\n",
        "                    batch_size=512,\n",
        "                    validation_data=(x_val, y_val))\n",
        "history_dict21 = history21.history\n",
        "history_dict21.keys()"
      ],
      "metadata": {
        "colab": {
          "base_uri": "https://localhost:8080/"
        },
        "id": "aq8z9ucxUceJ",
        "outputId": "86da3fbd-6e21-4e9a-fd0d-53eaa8c4c002"
      },
      "execution_count": 83,
      "outputs": [
        {
          "output_type": "stream",
          "name": "stdout",
          "text": [
            "Epoch 1/20\n",
            "30/30 [==============================] - 1s 28ms/step - loss: 0.4943 - accuracy: 0.7686 - val_loss: 0.3412 - val_accuracy: 0.8773\n",
            "Epoch 2/20\n",
            "30/30 [==============================] - 0s 16ms/step - loss: 0.2698 - accuracy: 0.9032 - val_loss: 0.3221 - val_accuracy: 0.8694\n",
            "Epoch 3/20\n",
            "30/30 [==============================] - 0s 16ms/step - loss: 0.1942 - accuracy: 0.9340 - val_loss: 0.2736 - val_accuracy: 0.8910\n",
            "Epoch 4/20\n",
            "30/30 [==============================] - 0s 16ms/step - loss: 0.1550 - accuracy: 0.9462 - val_loss: 0.3575 - val_accuracy: 0.8639\n",
            "Epoch 5/20\n",
            "30/30 [==============================] - 0s 16ms/step - loss: 0.1187 - accuracy: 0.9618 - val_loss: 0.3297 - val_accuracy: 0.8769\n",
            "Epoch 6/20\n",
            "30/30 [==============================] - 0s 16ms/step - loss: 0.0999 - accuracy: 0.9674 - val_loss: 0.3309 - val_accuracy: 0.8801\n",
            "Epoch 7/20\n",
            "30/30 [==============================] - 0s 16ms/step - loss: 0.0764 - accuracy: 0.9760 - val_loss: 0.4015 - val_accuracy: 0.8625\n",
            "Epoch 8/20\n",
            "30/30 [==============================] - 0s 16ms/step - loss: 0.0633 - accuracy: 0.9819 - val_loss: 0.3766 - val_accuracy: 0.8807\n",
            "Epoch 9/20\n",
            "30/30 [==============================] - 0s 16ms/step - loss: 0.0488 - accuracy: 0.9853 - val_loss: 0.4109 - val_accuracy: 0.8734\n",
            "Epoch 10/20\n",
            "30/30 [==============================] - 0s 16ms/step - loss: 0.0398 - accuracy: 0.9887 - val_loss: 0.4364 - val_accuracy: 0.8781\n",
            "Epoch 11/20\n",
            "30/30 [==============================] - 0s 16ms/step - loss: 0.0230 - accuracy: 0.9951 - val_loss: 0.5328 - val_accuracy: 0.8566\n",
            "Epoch 12/20\n",
            "30/30 [==============================] - 0s 16ms/step - loss: 0.0251 - accuracy: 0.9944 - val_loss: 0.4964 - val_accuracy: 0.8763\n",
            "Epoch 13/20\n",
            "30/30 [==============================] - 0s 16ms/step - loss: 0.0103 - accuracy: 0.9993 - val_loss: 0.5479 - val_accuracy: 0.8681\n",
            "Epoch 14/20\n",
            "30/30 [==============================] - 0s 15ms/step - loss: 0.0238 - accuracy: 0.9929 - val_loss: 0.5790 - val_accuracy: 0.8724\n",
            "Epoch 15/20\n",
            "30/30 [==============================] - 0s 16ms/step - loss: 0.0048 - accuracy: 0.9997 - val_loss: 0.6148 - val_accuracy: 0.8692\n",
            "Epoch 16/20\n",
            "30/30 [==============================] - 0s 15ms/step - loss: 0.0034 - accuracy: 0.9999 - val_loss: 0.7555 - val_accuracy: 0.8639\n",
            "Epoch 17/20\n",
            "30/30 [==============================] - 0s 16ms/step - loss: 0.0153 - accuracy: 0.9946 - val_loss: 0.6895 - val_accuracy: 0.8696\n",
            "Epoch 18/20\n",
            "30/30 [==============================] - 0s 15ms/step - loss: 0.0017 - accuracy: 0.9999 - val_loss: 0.7316 - val_accuracy: 0.8674\n",
            "Epoch 19/20\n",
            "30/30 [==============================] - 0s 15ms/step - loss: 0.0121 - accuracy: 0.9967 - val_loss: 0.7741 - val_accuracy: 0.8699\n",
            "Epoch 20/20\n",
            "30/30 [==============================] - 0s 16ms/step - loss: 8.8834e-04 - accuracy: 0.9999 - val_loss: 0.7992 - val_accuracy: 0.8690\n"
          ]
        },
        {
          "output_type": "execute_result",
          "data": {
            "text/plain": [
              "dict_keys(['loss', 'accuracy', 'val_loss', 'val_accuracy'])"
            ]
          },
          "metadata": {},
          "execution_count": 83
        }
      ]
    },
    {
      "cell_type": "markdown",
      "source": [
        "Plotting graph between Training and Validation loss"
      ],
      "metadata": {
        "id": "-TCiQk08ZV8s"
      }
    },
    {
      "cell_type": "code",
      "source": [
        "loss_values = history_dict21[\"loss\"]\n",
        "val_loss_values = history_dict21[\"val_loss\"]\n",
        "epochs = range(1, len(loss_values) + 1)\n",
        "plt.plot(epochs, loss_values, \"bo\", label=\"Training loss\")\n",
        "plt.plot(epochs, val_loss_values, \"b\", label=\"Validation loss\")\n",
        "plt.title(\"Training and validation loss\")\n",
        "plt.xlabel(\"Epochs\")\n",
        "plt.ylabel(\"Loss\")\n",
        "plt.legend()\n",
        "plt.show()"
      ],
      "metadata": {
        "colab": {
          "base_uri": "https://localhost:8080/",
          "height": 295
        },
        "id": "2hLdxamNZbvm",
        "outputId": "559ec70e-7bab-4732-b6ca-92d80f66ccd2"
      },
      "execution_count": 84,
      "outputs": [
        {
          "output_type": "display_data",
          "data": {
            "text/plain": [
              "<Figure size 432x288 with 1 Axes>"
            ],
            "image/png": "[encoded data removed]"
          },
          "metadata": {
            "needs_background": "light"
          }
        }
      ]
    },
    {
      "cell_type": "markdown",
      "source": [
        "Plotting graph between Training and Validation accuracy"
      ],
      "metadata": {
        "id": "irxs-itlZf7T"
      }
    },
    {
      "cell_type": "code",
      "source": [
        "plt.clf()\n",
        "acc = history_dict21[\"accuracy\"]\n",
        "val_acc = history_dict21[\"val_accuracy\"]\n",
        "plt.plot(epochs, acc, \"bo\", label=\"Training acc\")\n",
        "plt.plot(epochs, val_acc, \"b\", label=\"Validation acc\")\n",
        "plt.title(\"Training and validation accuracy\")\n",
        "plt.xlabel(\"Epochs\")\n",
        "plt.ylabel(\"Accuracy\")\n",
        "plt.legend()\n",
        "plt.show()"
      ],
      "metadata": {
        "colab": {
          "base_uri": "https://localhost:8080/",
          "height": 295
        },
        "id": "sg9VjyPAZkyY",
        "outputId": "71be795a-3e70-419f-dbf2-67e212c3fa18"
      },
      "execution_count": 85,
      "outputs": [
        {
          "output_type": "display_data",
          "data": {
            "text/plain": [
              "<Figure size 432x288 with 1 Axes>"
            ],
            "image/png": "[encoded data removed]"
          },
          "metadata": {
            "needs_background": "light"
          }
        }
      ]
    },
    {
      "cell_type": "code",
      "source": [
        "model_21.fit(x_train, y_train, epochs=8, batch_size=512)\n",
        "results_M21 = model_21.evaluate(x_test, y_test)\n",
        "results_M21"
      ],
      "metadata": {
        "colab": {
          "base_uri": "https://localhost:8080/"
        },
        "id": "uK1YsjUqZpFS",
        "outputId": "926b2133-804b-4d02-cc50-029d76851dc3"
      },
      "execution_count": 86,
      "outputs": [
        {
          "output_type": "stream",
          "name": "stdout",
          "text": [
            "Epoch 1/8\n",
            "49/49 [==============================] - 0s 10ms/step - loss: 0.2353 - accuracy: 0.9446\n",
            "Epoch 2/8\n",
            "49/49 [==============================] - 0s 10ms/step - loss: 0.1202 - accuracy: 0.9634\n",
            "Epoch 3/8\n",
            "49/49 [==============================] - 0s 10ms/step - loss: 0.0841 - accuracy: 0.9737\n",
            "Epoch 4/8\n",
            "49/49 [==============================] - 0s 10ms/step - loss: 0.0572 - accuracy: 0.9835\n",
            "Epoch 5/8\n",
            "49/49 [==============================] - 0s 10ms/step - loss: 0.0386 - accuracy: 0.9891\n",
            "Epoch 6/8\n",
            "49/49 [==============================] - 1s 10ms/step - loss: 0.0260 - accuracy: 0.9934\n",
            "Epoch 7/8\n",
            "49/49 [==============================] - 1s 10ms/step - loss: 0.0181 - accuracy: 0.9954\n",
            "Epoch 8/8\n",
            "49/49 [==============================] - 0s 10ms/step - loss: 0.0114 - accuracy: 0.9970\n",
            "782/782 [==============================] - 2s 3ms/step - loss: 0.8448 - accuracy: 0.8535\n"
          ]
        },
        {
          "output_type": "execute_result",
          "data": {
            "text/plain": [
              "[0.8448400497436523, 0.8535199761390686]"
            ]
          },
          "metadata": {},
          "execution_count": 86
        }
      ]
    },
    {
      "cell_type": "markdown",
      "source": [
        "Training model with 64 units"
      ],
      "metadata": {
        "id": "iIF3lceKZuG0"
      }
    },
    {
      "cell_type": "code",
      "source": [
        "model_22 = keras.Sequential([\n",
        "    layers.Dense(64, activation=\"relu\"),\n",
        "    layers.Dense(64, activation=\"relu\"),\n",
        "    layers.Dense(1, activation=\"sigmoid\")\n",
        "])\n",
        "model_22.compile(optimizer=\"rmsprop\",\n",
        "              loss=\"binary_crossentropy\",\n",
        "              metrics=[\"accuracy\"])\n",
        "history22 = model_22.fit(partial_x_train,\n",
        "                    partial_y_train,\n",
        "                    epochs=20,\n",
        "                    batch_size=512,\n",
        "                    validation_data=(x_val, y_val))\n",
        "history_dict22 = history22.history\n",
        "history_dict22.keys()"
      ],
      "metadata": {
        "colab": {
          "base_uri": "https://localhost:8080/"
        },
        "id": "056odYEOZxeF",
        "outputId": "bfbf5024-3b67-4deb-d49c-b7ec1f204ad1"
      },
      "execution_count": 87,
      "outputs": [
        {
          "output_type": "stream",
          "name": "stdout",
          "text": [
            "Epoch 1/20\n",
            "30/30 [==============================] - 2s 29ms/step - loss: 0.4821 - accuracy: 0.7689 - val_loss: 0.3380 - val_accuracy: 0.8691\n",
            "Epoch 2/20\n",
            "30/30 [==============================] - 0s 16ms/step - loss: 0.2582 - accuracy: 0.9038 - val_loss: 0.2885 - val_accuracy: 0.8859\n",
            "Epoch 3/20\n",
            "30/30 [==============================] - 0s 16ms/step - loss: 0.1891 - accuracy: 0.9304 - val_loss: 0.2732 - val_accuracy: 0.8902\n",
            "Epoch 4/20\n",
            "30/30 [==============================] - 0s 16ms/step - loss: 0.1415 - accuracy: 0.9496 - val_loss: 0.2956 - val_accuracy: 0.8868\n",
            "Epoch 5/20\n",
            "30/30 [==============================] - 0s 16ms/step - loss: 0.0976 - accuracy: 0.9673 - val_loss: 0.3963 - val_accuracy: 0.8639\n",
            "Epoch 6/20\n",
            "30/30 [==============================] - 0s 16ms/step - loss: 0.0768 - accuracy: 0.9743 - val_loss: 0.3548 - val_accuracy: 0.8824\n",
            "Epoch 7/20\n",
            "30/30 [==============================] - 0s 17ms/step - loss: 0.0507 - accuracy: 0.9843 - val_loss: 0.4330 - val_accuracy: 0.8694\n",
            "Epoch 8/20\n",
            "30/30 [==============================] - 0s 15ms/step - loss: 0.0558 - accuracy: 0.9843 - val_loss: 0.4246 - val_accuracy: 0.8777\n",
            "Epoch 9/20\n",
            "30/30 [==============================] - 0s 16ms/step - loss: 0.0127 - accuracy: 0.9985 - val_loss: 0.5051 - val_accuracy: 0.8739\n",
            "Epoch 10/20\n",
            "30/30 [==============================] - 0s 16ms/step - loss: 0.0437 - accuracy: 0.9872 - val_loss: 0.5059 - val_accuracy: 0.8753\n",
            "Epoch 11/20\n",
            "30/30 [==============================] - 0s 16ms/step - loss: 0.0045 - accuracy: 0.9999 - val_loss: 0.5589 - val_accuracy: 0.8757\n",
            "Epoch 12/20\n",
            "30/30 [==============================] - 0s 16ms/step - loss: 0.0372 - accuracy: 0.9893 - val_loss: 0.5588 - val_accuracy: 0.8766\n",
            "Epoch 13/20\n",
            "30/30 [==============================] - 1s 22ms/step - loss: 0.0022 - accuracy: 1.0000 - val_loss: 0.6125 - val_accuracy: 0.8759\n",
            "Epoch 14/20\n",
            "30/30 [==============================] - 0s 15ms/step - loss: 0.0014 - accuracy: 1.0000 - val_loss: 0.6972 - val_accuracy: 0.8728\n",
            "Epoch 15/20\n",
            "30/30 [==============================] - 0s 16ms/step - loss: 0.0384 - accuracy: 0.9909 - val_loss: 0.7059 - val_accuracy: 0.8704\n",
            "Epoch 16/20\n",
            "30/30 [==============================] - 0s 16ms/step - loss: 6.6295e-04 - accuracy: 1.0000 - val_loss: 0.7254 - val_accuracy: 0.8726\n",
            "Epoch 17/20\n",
            "30/30 [==============================] - 0s 16ms/step - loss: 4.1110e-04 - accuracy: 1.0000 - val_loss: 0.7847 - val_accuracy: 0.8717\n",
            "Epoch 18/20\n",
            "30/30 [==============================] - 0s 16ms/step - loss: 2.5079e-04 - accuracy: 1.0000 - val_loss: 0.8481 - val_accuracy: 0.8717\n",
            "Epoch 19/20\n",
            "30/30 [==============================] - 0s 15ms/step - loss: 0.0511 - accuracy: 0.9907 - val_loss: 0.8750 - val_accuracy: 0.8692\n",
            "Epoch 20/20\n",
            "30/30 [==============================] - 0s 15ms/step - loss: 1.2047e-04 - accuracy: 1.0000 - val_loss: 0.8902 - val_accuracy: 0.8701\n"
          ]
        },
        {
          "output_type": "execute_result",
          "data": {
            "text/plain": [
              "dict_keys(['loss', 'accuracy', 'val_loss', 'val_accuracy'])"
            ]
          },
          "metadata": {},
          "execution_count": 87
        }
      ]
    },
    {
      "cell_type": "markdown",
      "source": [
        "Plotting graph between Training and Validation loss"
      ],
      "metadata": {
        "id": "Tm0a2pxHaVQ2"
      }
    },
    {
      "cell_type": "code",
      "source": [
        "loss_values = history_dict22[\"loss\"]\n",
        "val_loss_values = history_dict22[\"val_loss\"]\n",
        "epochs = range(1, len(loss_values) + 1)\n",
        "plt.plot(epochs, loss_values, \"bo\", label=\"Training loss\")\n",
        "plt.plot(epochs, val_loss_values, \"b\", label=\"Validation loss\")\n",
        "plt.title(\"Training and validation loss\")\n",
        "plt.xlabel(\"Epochs\")\n",
        "plt.ylabel(\"Loss\")\n",
        "plt.legend()\n",
        "plt.show()"
      ],
      "metadata": {
        "colab": {
          "base_uri": "https://localhost:8080/",
          "height": 295
        },
        "id": "9EA7GoIeaaxo",
        "outputId": "d379fb72-edb1-4a63-c4ec-f06dd31a3d22"
      },
      "execution_count": 88,
      "outputs": [
        {
          "output_type": "display_data",
          "data": {
            "text/plain": [
              "<Figure size 432x288 with 1 Axes>"
            ],
            "image/png": "[encoded data removed]"
          },
          "metadata": {
            "needs_background": "light"
          }
        }
      ]
    },
    {
      "cell_type": "markdown",
      "source": [
        "Plotting graph between Training and Validation accuracy"
      ],
      "metadata": {
        "id": "bdd3oTGmageg"
      }
    },
    {
      "cell_type": "code",
      "source": [
        "plt.clf()\n",
        "acc = history_dict22[\"accuracy\"]\n",
        "val_acc = history_dict22[\"val_accuracy\"]\n",
        "plt.plot(epochs, acc, \"bo\", label=\"Training acc\")\n",
        "plt.plot(epochs, val_acc, \"b\", label=\"Validation acc\")\n",
        "plt.title(\"Training and validation accuracy\")\n",
        "plt.xlabel(\"Epochs\")\n",
        "plt.ylabel(\"Accuracy\")\n",
        "plt.legend()\n",
        "plt.show()"
      ],
      "metadata": {
        "colab": {
          "base_uri": "https://localhost:8080/",
          "height": 295
        },
        "id": "8S67tsvnanOv",
        "outputId": "eaec1421-5a29-4d80-cb70-7f6b671f7c2e"
      },
      "execution_count": 89,
      "outputs": [
        {
          "output_type": "display_data",
          "data": {
            "text/plain": [
              "<Figure size 432x288 with 1 Axes>"
            ],
            "image/png": "[encoded data removed]"
          },
          "metadata": {
            "needs_background": "light"
          }
        }
      ]
    },
    {
      "cell_type": "code",
      "source": [
        "model_22.fit(x_train, y_train, epochs=8, batch_size=512)\n",
        "results_M22 = model_22.evaluate(x_test, y_test)\n",
        "results_M22"
      ],
      "metadata": {
        "colab": {
          "base_uri": "https://localhost:8080/"
        },
        "id": "Fet80yUuarnG",
        "outputId": "6c4338c9-f5ef-4d59-c70d-4f5dc736cc16"
      },
      "execution_count": 90,
      "outputs": [
        {
          "output_type": "stream",
          "name": "stdout",
          "text": [
            "Epoch 1/8\n",
            "49/49 [==============================] - 0s 10ms/step - loss: 0.1946 - accuracy: 0.9470\n",
            "Epoch 2/8\n",
            "49/49 [==============================] - 0s 10ms/step - loss: 0.0953 - accuracy: 0.9683\n",
            "Epoch 3/8\n",
            "49/49 [==============================] - 0s 10ms/step - loss: 0.0546 - accuracy: 0.9825\n",
            "Epoch 4/8\n",
            "49/49 [==============================] - 0s 10ms/step - loss: 0.0343 - accuracy: 0.9895\n",
            "Epoch 5/8\n",
            "49/49 [==============================] - 0s 10ms/step - loss: 0.0173 - accuracy: 0.9958\n",
            "Epoch 6/8\n",
            "49/49 [==============================] - 0s 10ms/step - loss: 0.0138 - accuracy: 0.9964\n",
            "Epoch 7/8\n",
            "49/49 [==============================] - 1s 10ms/step - loss: 0.0124 - accuracy: 0.9969\n",
            "Epoch 8/8\n",
            "49/49 [==============================] - 0s 10ms/step - loss: 0.0023 - accuracy: 0.9996\n",
            "782/782 [==============================] - 2s 3ms/step - loss: 1.0619 - accuracy: 0.8590\n"
          ]
        },
        {
          "output_type": "execute_result",
          "data": {
            "text/plain": [
              "[1.061914086341858, 0.859000027179718]"
            ]
          },
          "metadata": {},
          "execution_count": 90
        }
      ]
    },
    {
      "cell_type": "markdown",
      "source": [
        "Training the model with 128 units"
      ],
      "metadata": {
        "id": "3VdTm3kNjPo2"
      }
    },
    {
      "cell_type": "code",
      "source": [
        "model_23 = keras.Sequential([\n",
        "    layers.Dense(128, activation=\"relu\"),\n",
        "    layers.Dense(128, activation=\"relu\"),\n",
        "    layers.Dense(1, activation=\"sigmoid\")\n",
        "])\n",
        "model_23.compile(optimizer=\"rmsprop\",\n",
        "              loss=\"binary_crossentropy\",\n",
        "              metrics=[\"accuracy\"])\n",
        "history23 = model_23.fit(partial_x_train,\n",
        "                    partial_y_train,\n",
        "                    epochs=20,\n",
        "                    batch_size=512,\n",
        "                    validation_data=(x_val, y_val))\n",
        "history_dict23 = history23.history\n",
        "history_dict23.keys()"
      ],
      "metadata": {
        "colab": {
          "base_uri": "https://localhost:8080/"
        },
        "id": "K2wJx861jSwT",
        "outputId": "6a923ef9-958c-46cc-d56c-60b375311f28"
      },
      "execution_count": 91,
      "outputs": [
        {
          "output_type": "stream",
          "name": "stdout",
          "text": [
            "Epoch 1/20\n",
            "30/30 [==============================] - 2s 28ms/step - loss: 0.4917 - accuracy: 0.7666 - val_loss: 0.3295 - val_accuracy: 0.8678\n",
            "Epoch 2/20\n",
            "30/30 [==============================] - 0s 15ms/step - loss: 0.2562 - accuracy: 0.9027 - val_loss: 0.3693 - val_accuracy: 0.8426\n",
            "Epoch 3/20\n",
            "30/30 [==============================] - 0s 16ms/step - loss: 0.1674 - accuracy: 0.9369 - val_loss: 0.3170 - val_accuracy: 0.8765\n",
            "Epoch 4/20\n",
            "30/30 [==============================] - 0s 16ms/step - loss: 0.1351 - accuracy: 0.9495 - val_loss: 0.3232 - val_accuracy: 0.8826\n",
            "Epoch 5/20\n",
            "30/30 [==============================] - 0s 15ms/step - loss: 0.0856 - accuracy: 0.9696 - val_loss: 0.3346 - val_accuracy: 0.8849\n",
            "Epoch 6/20\n",
            "30/30 [==============================] - 0s 15ms/step - loss: 0.0680 - accuracy: 0.9792 - val_loss: 0.3773 - val_accuracy: 0.8820\n",
            "Epoch 7/20\n",
            "30/30 [==============================] - 0s 15ms/step - loss: 0.0555 - accuracy: 0.9827 - val_loss: 0.3834 - val_accuracy: 0.8821\n",
            "Epoch 8/20\n",
            "30/30 [==============================] - 0s 15ms/step - loss: 0.0095 - accuracy: 0.9989 - val_loss: 0.4857 - val_accuracy: 0.8820\n",
            "Epoch 9/20\n",
            "30/30 [==============================] - 0s 16ms/step - loss: 0.0588 - accuracy: 0.9847 - val_loss: 0.4768 - val_accuracy: 0.8805\n",
            "Epoch 10/20\n",
            "30/30 [==============================] - 0s 16ms/step - loss: 0.0029 - accuracy: 0.9998 - val_loss: 0.5605 - val_accuracy: 0.8803\n",
            "Epoch 11/20\n",
            "30/30 [==============================] - 0s 16ms/step - loss: 0.0014 - accuracy: 0.9999 - val_loss: 0.6532 - val_accuracy: 0.8776\n",
            "Epoch 12/20\n",
            "30/30 [==============================] - 0s 15ms/step - loss: 7.7052e-04 - accuracy: 0.9999 - val_loss: 2.2001 - val_accuracy: 0.7530\n",
            "Epoch 13/20\n",
            "30/30 [==============================] - 0s 15ms/step - loss: 0.0750 - accuracy: 0.9859 - val_loss: 0.7029 - val_accuracy: 0.8768\n",
            "Epoch 14/20\n",
            "30/30 [==============================] - 0s 14ms/step - loss: 2.8026e-04 - accuracy: 1.0000 - val_loss: 0.7481 - val_accuracy: 0.8764\n",
            "Epoch 15/20\n",
            "30/30 [==============================] - 0s 16ms/step - loss: 1.5733e-04 - accuracy: 1.0000 - val_loss: 0.8199 - val_accuracy: 0.8772\n",
            "Epoch 16/20\n",
            "30/30 [==============================] - 0s 16ms/step - loss: 7.1588e-05 - accuracy: 1.0000 - val_loss: 0.9140 - val_accuracy: 0.8763\n",
            "Epoch 17/20\n",
            "30/30 [==============================] - 0s 15ms/step - loss: 0.1068 - accuracy: 0.9893 - val_loss: 1.0081 - val_accuracy: 0.8675\n",
            "Epoch 18/20\n",
            "30/30 [==============================] - 0s 15ms/step - loss: 3.9995e-04 - accuracy: 0.9999 - val_loss: 0.9366 - val_accuracy: 0.8755\n",
            "Epoch 19/20\n",
            "30/30 [==============================] - 0s 15ms/step - loss: 2.7102e-05 - accuracy: 1.0000 - val_loss: 0.9498 - val_accuracy: 0.8761\n",
            "Epoch 20/20\n",
            "30/30 [==============================] - 0s 15ms/step - loss: 1.8909e-05 - accuracy: 1.0000 - val_loss: 0.9724 - val_accuracy: 0.8757\n"
          ]
        },
        {
          "output_type": "execute_result",
          "data": {
            "text/plain": [
              "dict_keys(['loss', 'accuracy', 'val_loss', 'val_accuracy'])"
            ]
          },
          "metadata": {},
          "execution_count": 91
        }
      ]
    },
    {
      "cell_type": "markdown",
      "source": [
        "Plotting graph between Training and Validation loss"
      ],
      "metadata": {
        "id": "hNJ2aFtajcYG"
      }
    },
    {
      "cell_type": "code",
      "source": [
        "loss_values = history_dict23[\"loss\"]\n",
        "val_loss_values = history_dict23[\"val_loss\"]\n",
        "epochs = range(1, len(loss_values) + 1)\n",
        "plt.plot(epochs, loss_values, \"bo\", label=\"Training loss\")\n",
        "plt.plot(epochs, val_loss_values, \"b\", label=\"Validation loss\")\n",
        "plt.title(\"Training and validation loss\")\n",
        "plt.xlabel(\"Epochs\")\n",
        "plt.ylabel(\"Loss\")\n",
        "plt.legend()\n",
        "plt.show()"
      ],
      "metadata": {
        "colab": {
          "base_uri": "https://localhost:8080/",
          "height": 295
        },
        "id": "wsJiOKl0jhsf",
        "outputId": "f8633453-c60c-4309-8b1c-b878c696b8b4"
      },
      "execution_count": 92,
      "outputs": [
        {
          "output_type": "display_data",
          "data": {
            "text/plain": [
              "<Figure size 432x288 with 1 Axes>"
            ],
            "image/png": "[encoded data removed]"
          },
          "metadata": {
            "needs_background": "light"
          }
        }
      ]
    },
    {
      "cell_type": "markdown",
      "source": [
        "Plotting graph between Training and Validation accuracy"
      ],
      "metadata": {
        "id": "0BfK796Fjo1o"
      }
    },
    {
      "cell_type": "code",
      "source": [
        "plt.clf()\n",
        "acc = history_dict23[\"accuracy\"]\n",
        "val_acc = history_dict23[\"val_accuracy\"]\n",
        "plt.plot(epochs, acc, \"bo\", label=\"Training acc\")\n",
        "plt.plot(epochs, val_acc, \"b\", label=\"Validation acc\")\n",
        "plt.title(\"Training and validation accuracy\")\n",
        "plt.xlabel(\"Epochs\")\n",
        "plt.ylabel(\"Accuracy\")\n",
        "plt.legend()\n",
        "plt.show()"
      ],
      "metadata": {
        "colab": {
          "base_uri": "https://localhost:8080/",
          "height": 295
        },
        "id": "sVLlRi4sjvBF",
        "outputId": "62009174-78ce-4e5d-d515-35e254b3e004"
      },
      "execution_count": 93,
      "outputs": [
        {
          "output_type": "display_data",
          "data": {
            "text/plain": [
              "<Figure size 432x288 with 1 Axes>"
            ],
            "image/png": "[encoded data removed]"
          },
          "metadata": {
            "needs_background": "light"
          }
        }
      ]
    },
    {
      "cell_type": "code",
      "source": [
        "model_23.fit(x_train, y_train, epochs=8, batch_size=512)\n",
        "results_M23 = model_23.evaluate(x_test, y_test)\n",
        "results_M23"
      ],
      "metadata": {
        "colab": {
          "base_uri": "https://localhost:8080/"
        },
        "id": "x3hVCatHj1Aa",
        "outputId": "ffcbbe3b-33ab-4d3c-a86f-97277c8e66e3"
      },
      "execution_count": 94,
      "outputs": [
        {
          "output_type": "stream",
          "name": "stdout",
          "text": [
            "Epoch 1/8\n",
            "49/49 [==============================] - 0s 10ms/step - loss: 0.2043 - accuracy: 0.9449\n",
            "Epoch 2/8\n",
            "49/49 [==============================] - 0s 10ms/step - loss: 0.0800 - accuracy: 0.9740\n",
            "Epoch 3/8\n",
            "49/49 [==============================] - 0s 10ms/step - loss: 0.0399 - accuracy: 0.9883\n",
            "Epoch 4/8\n",
            "49/49 [==============================] - 0s 10ms/step - loss: 0.0191 - accuracy: 0.9946\n",
            "Epoch 5/8\n",
            "49/49 [==============================] - 0s 10ms/step - loss: 0.0248 - accuracy: 0.9945\n",
            "Epoch 6/8\n",
            "49/49 [==============================] - 1s 11ms/step - loss: 0.0072 - accuracy: 0.9983\n",
            "Epoch 7/8\n",
            "49/49 [==============================] - 0s 10ms/step - loss: 0.0236 - accuracy: 0.9964\n",
            "Epoch 8/8\n",
            "49/49 [==============================] - 0s 10ms/step - loss: 0.0014 - accuracy: 0.9998\n",
            "782/782 [==============================] - 2s 3ms/step - loss: 1.0599 - accuracy: 0.8675\n"
          ]
        },
        {
          "output_type": "execute_result",
          "data": {
            "text/plain": [
              "[1.0598992109298706, 0.8674799799919128]"
            ]
          },
          "metadata": {},
          "execution_count": 94
        }
      ]
    },
    {
      "cell_type": "markdown",
      "source": [
        "Loss Function"
      ],
      "metadata": {
        "id": "qTtPdJ2fb5pT"
      }
    },
    {
      "cell_type": "code",
      "source": [
        "model_MSE = keras.Sequential([\n",
        "    layers.Dense(16, activation=\"relu\"),\n",
        "    layers.Dense(16, activation=\"relu\"),\n",
        "    layers.Dense(1, activation=\"sigmoid\")\n",
        "])\n",
        "model_MSE.compile(optimizer=\"rmsprop\",\n",
        "              loss=\"mse\",\n",
        "              metrics=[\"accuracy\"])\n",
        "history_model_MSE = model_MSE.fit(partial_x_train,\n",
        "                    partial_y_train,\n",
        "                    epochs=20,\n",
        "                    batch_size=512,\n",
        "                    validation_data=(x_val, y_val))\n",
        "history_dict_MSE = history_model_MSE.history\n",
        "history_dict_MSE.keys()"
      ],
      "metadata": {
        "colab": {
          "base_uri": "https://localhost:8080/"
        },
        "id": "D1X7L4DHcB76",
        "outputId": "132306b9-d6d8-4f6f-d6d7-e45a84639031"
      },
      "execution_count": 95,
      "outputs": [
        {
          "output_type": "stream",
          "name": "stdout",
          "text": [
            "Epoch 1/20\n",
            "30/30 [==============================] - 1s 27ms/step - loss: 0.1878 - accuracy: 0.7769 - val_loss: 0.1365 - val_accuracy: 0.8679\n",
            "Epoch 2/20\n",
            "30/30 [==============================] - 0s 15ms/step - loss: 0.1048 - accuracy: 0.8974 - val_loss: 0.1003 - val_accuracy: 0.8823\n",
            "Epoch 3/20\n",
            "30/30 [==============================] - 0s 15ms/step - loss: 0.0713 - accuracy: 0.9265 - val_loss: 0.0901 - val_accuracy: 0.8850\n",
            "Epoch 4/20\n",
            "30/30 [==============================] - 0s 15ms/step - loss: 0.0545 - accuracy: 0.9435 - val_loss: 0.0829 - val_accuracy: 0.8917\n",
            "Epoch 5/20\n",
            "30/30 [==============================] - 0s 15ms/step - loss: 0.0435 - accuracy: 0.9551 - val_loss: 0.0846 - val_accuracy: 0.8876\n",
            "Epoch 6/20\n",
            "30/30 [==============================] - 0s 16ms/step - loss: 0.0361 - accuracy: 0.9629 - val_loss: 0.0894 - val_accuracy: 0.8788\n",
            "Epoch 7/20\n",
            "30/30 [==============================] - 0s 14ms/step - loss: 0.0295 - accuracy: 0.9715 - val_loss: 0.0850 - val_accuracy: 0.8841\n",
            "Epoch 8/20\n",
            "30/30 [==============================] - 0s 15ms/step - loss: 0.0249 - accuracy: 0.9775 - val_loss: 0.0901 - val_accuracy: 0.8776\n",
            "Epoch 9/20\n",
            "30/30 [==============================] - 0s 16ms/step - loss: 0.0211 - accuracy: 0.9811 - val_loss: 0.0892 - val_accuracy: 0.8813\n",
            "Epoch 10/20\n",
            "30/30 [==============================] - 0s 15ms/step - loss: 0.0179 - accuracy: 0.9837 - val_loss: 0.0919 - val_accuracy: 0.8775\n",
            "Epoch 11/20\n",
            "30/30 [==============================] - 0s 15ms/step - loss: 0.0144 - accuracy: 0.9887 - val_loss: 0.0933 - val_accuracy: 0.8772\n",
            "Epoch 12/20\n",
            "30/30 [==============================] - 0s 15ms/step - loss: 0.0128 - accuracy: 0.9890 - val_loss: 0.0973 - val_accuracy: 0.8750\n",
            "Epoch 13/20\n",
            "30/30 [==============================] - 0s 15ms/step - loss: 0.0111 - accuracy: 0.9909 - val_loss: 0.0972 - val_accuracy: 0.8741\n",
            "Epoch 14/20\n",
            "30/30 [==============================] - 0s 15ms/step - loss: 0.0085 - accuracy: 0.9939 - val_loss: 0.0992 - val_accuracy: 0.8742\n",
            "Epoch 15/20\n",
            "30/30 [==============================] - 0s 15ms/step - loss: 0.0083 - accuracy: 0.9934 - val_loss: 0.1012 - val_accuracy: 0.8719\n",
            "Epoch 16/20\n",
            "30/30 [==============================] - 0s 15ms/step - loss: 0.0078 - accuracy: 0.9934 - val_loss: 0.1035 - val_accuracy: 0.8683\n",
            "Epoch 17/20\n",
            "30/30 [==============================] - 0s 15ms/step - loss: 0.0049 - accuracy: 0.9964 - val_loss: 0.1045 - val_accuracy: 0.8681\n",
            "Epoch 18/20\n",
            "30/30 [==============================] - 0s 16ms/step - loss: 0.0067 - accuracy: 0.9937 - val_loss: 0.1057 - val_accuracy: 0.8677\n",
            "Epoch 19/20\n",
            "30/30 [==============================] - 0s 16ms/step - loss: 0.0039 - accuracy: 0.9967 - val_loss: 0.1074 - val_accuracy: 0.8659\n",
            "Epoch 20/20\n",
            "30/30 [==============================] - 0s 15ms/step - loss: 0.0052 - accuracy: 0.9952 - val_loss: 0.1089 - val_accuracy: 0.8652\n"
          ]
        },
        {
          "output_type": "execute_result",
          "data": {
            "text/plain": [
              "dict_keys(['loss', 'accuracy', 'val_loss', 'val_accuracy'])"
            ]
          },
          "metadata": {},
          "execution_count": 95
        }
      ]
    },
    {
      "cell_type": "markdown",
      "source": [
        "Plotting graph between Training and Validation loss"
      ],
      "metadata": {
        "id": "Ka-9KynDcIh_"
      }
    },
    {
      "cell_type": "code",
      "source": [
        "loss_values = history_dict_MSE[\"loss\"]\n",
        "val_loss_values = history_dict_MSE[\"val_loss\"]\n",
        "epochs = range(1, len(loss_values) + 1)\n",
        "plt.plot(epochs, loss_values, \"bo\", label=\"Training loss\")\n",
        "plt.plot(epochs, val_loss_values, \"b\", label=\"Validation loss\")\n",
        "plt.title(\"Training and validation loss\")\n",
        "plt.xlabel(\"Epochs\")\n",
        "plt.ylabel(\"Loss\")\n",
        "plt.legend()\n",
        "plt.show()"
      ],
      "metadata": {
        "colab": {
          "base_uri": "https://localhost:8080/",
          "height": 295
        },
        "id": "GPoROEROcNoJ",
        "outputId": "9c156111-e17b-4954-e04e-b1c525881ef3"
      },
      "execution_count": 96,
      "outputs": [
        {
          "output_type": "display_data",
          "data": {
            "text/plain": [
              "<Figure size 432x288 with 1 Axes>"
            ],
            "image/png": "[encoded data removed]"
          },
          "metadata": {
            "needs_background": "light"
          }
        }
      ]
    },
    {
      "cell_type": "markdown",
      "source": [
        "Plotting graph between Training and Validation accuracy"
      ],
      "metadata": {
        "id": "MV8R6cNLcSp4"
      }
    },
    {
      "cell_type": "code",
      "source": [
        "plt.clf()\n",
        "acc = history_dict_MSE[\"accuracy\"]\n",
        "val_acc = history_dict_MSE[\"val_accuracy\"]\n",
        "plt.plot(epochs, acc, \"bo\", label=\"Training acc\")\n",
        "plt.plot(epochs, val_acc, \"b\", label=\"Validation acc\")\n",
        "plt.title(\"Training and validation accuracy\")\n",
        "plt.xlabel(\"Epochs\")\n",
        "plt.ylabel(\"Accuracy\")\n",
        "plt.legend()\n",
        "plt.show()"
      ],
      "metadata": {
        "colab": {
          "base_uri": "https://localhost:8080/",
          "height": 295
        },
        "id": "Imtk3IALcQch",
        "outputId": "d37a4f4c-9669-4822-dd5e-f4ac466d4369"
      },
      "execution_count": 97,
      "outputs": [
        {
          "output_type": "display_data",
          "data": {
            "text/plain": [
              "<Figure size 432x288 with 1 Axes>"
            ],
            "image/png": "[encoded data removed]"
          },
          "metadata": {
            "needs_background": "light"
          }
        }
      ]
    },
    {
      "cell_type": "code",
      "source": [
        "model_MSE.fit(x_train, y_train, epochs=8, batch_size=512)\n",
        "results_MSE = model_MSE.evaluate(x_test, y_test)\n",
        "results_MSE"
      ],
      "metadata": {
        "colab": {
          "base_uri": "https://localhost:8080/"
        },
        "id": "cMGZTqf4cdd5",
        "outputId": "41ffa404-a80e-4de7-ef9e-6d8f42e3bf89"
      },
      "execution_count": 98,
      "outputs": [
        {
          "output_type": "stream",
          "name": "stdout",
          "text": [
            "Epoch 1/8\n",
            "49/49 [==============================] - 0s 9ms/step - loss: 0.0450 - accuracy: 0.9459\n",
            "Epoch 2/8\n",
            "49/49 [==============================] - 0s 10ms/step - loss: 0.0334 - accuracy: 0.9617\n",
            "Epoch 3/8\n",
            "49/49 [==============================] - 0s 10ms/step - loss: 0.0281 - accuracy: 0.9692\n",
            "Epoch 4/8\n",
            "49/49 [==============================] - 0s 10ms/step - loss: 0.0235 - accuracy: 0.9760\n",
            "Epoch 5/8\n",
            "49/49 [==============================] - 0s 10ms/step - loss: 0.0209 - accuracy: 0.9786\n",
            "Epoch 6/8\n",
            "49/49 [==============================] - 0s 9ms/step - loss: 0.0189 - accuracy: 0.9809\n",
            "Epoch 7/8\n",
            "49/49 [==============================] - 0s 10ms/step - loss: 0.0172 - accuracy: 0.9830\n",
            "Epoch 8/8\n",
            "49/49 [==============================] - 0s 9ms/step - loss: 0.0152 - accuracy: 0.9852\n",
            "782/782 [==============================] - 2s 3ms/step - loss: 0.1198 - accuracy: 0.8575\n"
          ]
        },
        {
          "output_type": "execute_result",
          "data": {
            "text/plain": [
              "[0.11975634098052979, 0.857479989528656]"
            ]
          },
          "metadata": {},
          "execution_count": 98
        }
      ]
    },
    {
      "cell_type": "markdown",
      "source": [
        "Training the model using Tanh Activation function"
      ],
      "metadata": {
        "id": "yyvTX4GqciH8"
      }
    },
    {
      "cell_type": "code",
      "source": [
        "model_tanh = keras.Sequential([\n",
        "    layers.Dense(16, activation=\"tanh\"),\n",
        "    layers.Dense(16, activation=\"tanh\"),\n",
        "    layers.Dense(1, activation=\"sigmoid\")\n",
        "])\n",
        "model_tanh.compile(optimizer=\"rmsprop\",\n",
        "              loss=\"binary_crossentropy\",\n",
        "              metrics=[\"accuracy\"])\n",
        "history_model_tanh = model_tanh.fit(partial_x_train,\n",
        "                    partial_y_train,\n",
        "                    epochs=20,\n",
        "                    batch_size=512,\n",
        "                    validation_data=(x_val, y_val))\n",
        "history_dict_tanh = history_model_tanh.history\n",
        "history_dict_tanh.keys()"
      ],
      "metadata": {
        "colab": {
          "base_uri": "https://localhost:8080/"
        },
        "id": "-F4F4U78cmie",
        "outputId": "bd40442e-89d2-4002-d92d-47651222911d"
      },
      "execution_count": 99,
      "outputs": [
        {
          "output_type": "stream",
          "name": "stdout",
          "text": [
            "Epoch 1/20\n",
            "30/30 [==============================] - 2s 31ms/step - loss: 0.4756 - accuracy: 0.7949 - val_loss: 0.3848 - val_accuracy: 0.8431\n",
            "Epoch 2/20\n",
            "30/30 [==============================] - 0s 16ms/step - loss: 0.2713 - accuracy: 0.9085 - val_loss: 0.2831 - val_accuracy: 0.8893\n",
            "Epoch 3/20\n",
            "30/30 [==============================] - 0s 15ms/step - loss: 0.1929 - accuracy: 0.9348 - val_loss: 0.2905 - val_accuracy: 0.8799\n",
            "Epoch 4/20\n",
            "30/30 [==============================] - 0s 16ms/step - loss: 0.1442 - accuracy: 0.9524 - val_loss: 0.2962 - val_accuracy: 0.8793\n",
            "Epoch 5/20\n",
            "30/30 [==============================] - 0s 16ms/step - loss: 0.1136 - accuracy: 0.9625 - val_loss: 0.3055 - val_accuracy: 0.8843\n",
            "Epoch 6/20\n",
            "30/30 [==============================] - 0s 15ms/step - loss: 0.0902 - accuracy: 0.9710 - val_loss: 0.3596 - val_accuracy: 0.8734\n",
            "Epoch 7/20\n",
            "30/30 [==============================] - 0s 16ms/step - loss: 0.0686 - accuracy: 0.9802 - val_loss: 0.3829 - val_accuracy: 0.8778\n",
            "Epoch 8/20\n",
            "30/30 [==============================] - 0s 16ms/step - loss: 0.0573 - accuracy: 0.9821 - val_loss: 0.4178 - val_accuracy: 0.8730\n",
            "Epoch 9/20\n",
            "30/30 [==============================] - 0s 15ms/step - loss: 0.0371 - accuracy: 0.9904 - val_loss: 0.5201 - val_accuracy: 0.8567\n",
            "Epoch 10/20\n",
            "30/30 [==============================] - 0s 16ms/step - loss: 0.0433 - accuracy: 0.9860 - val_loss: 0.5087 - val_accuracy: 0.8671\n",
            "Epoch 11/20\n",
            "30/30 [==============================] - 0s 16ms/step - loss: 0.0215 - accuracy: 0.9944 - val_loss: 0.5927 - val_accuracy: 0.8634\n",
            "Epoch 12/20\n",
            "30/30 [==============================] - 0s 15ms/step - loss: 0.0125 - accuracy: 0.9975 - val_loss: 0.6283 - val_accuracy: 0.8553\n",
            "Epoch 13/20\n",
            "30/30 [==============================] - 0s 16ms/step - loss: 0.0276 - accuracy: 0.9915 - val_loss: 0.6257 - val_accuracy: 0.8662\n",
            "Epoch 14/20\n",
            "30/30 [==============================] - 0s 16ms/step - loss: 0.0041 - accuracy: 0.9997 - val_loss: 0.6560 - val_accuracy: 0.8657\n",
            "Epoch 15/20\n",
            "30/30 [==============================] - 0s 16ms/step - loss: 0.0223 - accuracy: 0.9933 - val_loss: 0.6886 - val_accuracy: 0.8641\n",
            "Epoch 16/20\n",
            "30/30 [==============================] - 0s 16ms/step - loss: 0.0020 - accuracy: 0.9999 - val_loss: 0.7163 - val_accuracy: 0.8630\n",
            "Epoch 17/20\n",
            "30/30 [==============================] - 0s 16ms/step - loss: 0.0013 - accuracy: 1.0000 - val_loss: 0.7688 - val_accuracy: 0.8613\n",
            "Epoch 18/20\n",
            "30/30 [==============================] - 0s 15ms/step - loss: 0.0229 - accuracy: 0.9941 - val_loss: 0.7999 - val_accuracy: 0.8599\n",
            "Epoch 19/20\n",
            "30/30 [==============================] - 0s 15ms/step - loss: 5.8612e-04 - accuracy: 1.0000 - val_loss: 0.8128 - val_accuracy: 0.8606\n",
            "Epoch 20/20\n",
            "30/30 [==============================] - 0s 15ms/step - loss: 4.4230e-04 - accuracy: 1.0000 - val_loss: 0.8451 - val_accuracy: 0.8595\n"
          ]
        },
        {
          "output_type": "execute_result",
          "data": {
            "text/plain": [
              "dict_keys(['loss', 'accuracy', 'val_loss', 'val_accuracy'])"
            ]
          },
          "metadata": {},
          "execution_count": 99
        }
      ]
    },
    {
      "cell_type": "markdown",
      "source": [
        "Plotting graph between Training and Validation loss"
      ],
      "metadata": {
        "id": "6WUPCe2EcwgR"
      }
    },
    {
      "cell_type": "code",
      "source": [
        "loss_values = history_dict_tanh[\"loss\"]\n",
        "val_loss_values = history_dict_tanh[\"val_loss\"]\n",
        "epochs = range(1, len(loss_values) + 1)\n",
        "plt.plot(epochs, loss_values, \"bo\", label=\"Training loss\")\n",
        "plt.plot(epochs, val_loss_values, \"b\", label=\"Validation loss\")\n",
        "plt.title(\"Training and validation loss\")\n",
        "plt.xlabel(\"Epochs\")\n",
        "plt.ylabel(\"Loss\")\n",
        "plt.legend()\n",
        "plt.show()"
      ],
      "metadata": {
        "colab": {
          "base_uri": "https://localhost:8080/",
          "height": 295
        },
        "id": "b4oNaNfFcvWK",
        "outputId": "14171a9c-6f6c-4cee-df8a-a78761789d5b"
      },
      "execution_count": 100,
      "outputs": [
        {
          "output_type": "display_data",
          "data": {
            "text/plain": [
              "<Figure size 432x288 with 1 Axes>"
            ],
            "image/png": "[encoded data removed]"
          },
          "metadata": {
            "needs_background": "light"
          }
        }
      ]
    },
    {
      "cell_type": "markdown",
      "source": [
        "Plotting graph between Training and Validation accuracy"
      ],
      "metadata": {
        "id": "ZuG87pC-c5wi"
      }
    },
    {
      "cell_type": "code",
      "source": [
        "plt.clf()\n",
        "acc = history_dict_tanh[\"accuracy\"]\n",
        "val_acc = history_dict_tanh[\"val_accuracy\"]\n",
        "plt.plot(epochs, acc, \"bo\", label=\"Training acc\")\n",
        "plt.plot(epochs, val_acc, \"b\", label=\"Validation acc\")\n",
        "plt.title(\"Training and validation accuracy\")\n",
        "plt.xlabel(\"Epochs\")\n",
        "plt.ylabel(\"Accuracy\")\n",
        "plt.legend()\n",
        "plt.show()"
      ],
      "metadata": {
        "colab": {
          "base_uri": "https://localhost:8080/",
          "height": 295
        },
        "id": "GArNS9V9dBN-",
        "outputId": "9e81f6ea-7f87-4f00-ab74-7fd85f503e98"
      },
      "execution_count": 101,
      "outputs": [
        {
          "output_type": "display_data",
          "data": {
            "text/plain": [
              "<Figure size 432x288 with 1 Axes>"
            ],
            "image/png": "[encoded data removed]"
          },
          "metadata": {
            "needs_background": "light"
          }
        }
      ]
    },
    {
      "cell_type": "code",
      "source": [
        "model_tanh.fit(x_train, y_train, epochs=8, batch_size=512)\n",
        "results_tanh = model_tanh.evaluate(x_test, y_test)\n",
        "results_tanh"
      ],
      "metadata": {
        "colab": {
          "base_uri": "https://localhost:8080/"
        },
        "id": "UyBPxEMVdGC-",
        "outputId": "ef04ea1f-e5b6-45d8-def9-f126b1c43d14"
      },
      "execution_count": 102,
      "outputs": [
        {
          "output_type": "stream",
          "name": "stdout",
          "text": [
            "Epoch 1/8\n",
            "49/49 [==============================] - 0s 10ms/step - loss: 0.3198 - accuracy: 0.9432\n",
            "Epoch 2/8\n",
            "49/49 [==============================] - 0s 10ms/step - loss: 0.1625 - accuracy: 0.9613\n",
            "Epoch 3/8\n",
            "49/49 [==============================] - 0s 10ms/step - loss: 0.1180 - accuracy: 0.9679\n",
            "Epoch 4/8\n",
            "49/49 [==============================] - 0s 10ms/step - loss: 0.0952 - accuracy: 0.9722\n",
            "Epoch 5/8\n",
            "49/49 [==============================] - 0s 10ms/step - loss: 0.0816 - accuracy: 0.9754\n",
            "Epoch 6/8\n",
            "49/49 [==============================] - 1s 10ms/step - loss: 0.0701 - accuracy: 0.9793\n",
            "Epoch 7/8\n",
            "49/49 [==============================] - 0s 10ms/step - loss: 0.0589 - accuracy: 0.9832\n",
            "Epoch 8/8\n",
            "49/49 [==============================] - 0s 10ms/step - loss: 0.0543 - accuracy: 0.9839\n",
            "782/782 [==============================] - 2s 3ms/step - loss: 0.6481 - accuracy: 0.8494\n"
          ]
        },
        {
          "output_type": "execute_result",
          "data": {
            "text/plain": [
              "[0.6480789184570312, 0.8493599891662598]"
            ]
          },
          "metadata": {},
          "execution_count": 102
        }
      ]
    },
    {
      "cell_type": "markdown",
      "source": [
        "Regularisation"
      ],
      "metadata": {
        "id": "rmmdHHU4dK4m"
      }
    },
    {
      "cell_type": "code",
      "source": [
        "from tensorflow.keras import regularizers\n",
        "model_regularisation = keras.Sequential([\n",
        "    layers.Dense(16, activation=\"relu\",kernel_regularizer=regularizers.l2(0.001)),\n",
        "    layers.Dense(16, activation=\"relu\",kernel_regularizer=regularizers.l2(0.001)),\n",
        "    layers.Dense(1, activation=\"sigmoid\")\n",
        "])\n",
        "model_regularisation.compile(optimizer=\"rmsprop\",\n",
        "              loss=\"binary_crossentropy\",\n",
        "              metrics=[\"accuracy\"])\n",
        "history_model_regularisation = model_regularisation.fit(partial_x_train,\n",
        "                    partial_y_train,\n",
        "                    epochs=20,\n",
        "                    batch_size=512,\n",
        "                    validation_data=(x_val, y_val))\n",
        "history_dict_regularisation = history_model_regularisation.history\n",
        "history_dict_regularisation.keys()"
      ],
      "metadata": {
        "colab": {
          "base_uri": "https://localhost:8080/"
        },
        "id": "Ylt_1jbydN6d",
        "outputId": "11135f32-17a5-4785-fdd8-63862b64ca1a"
      },
      "execution_count": 103,
      "outputs": [
        {
          "output_type": "stream",
          "name": "stdout",
          "text": [
            "Epoch 1/20\n",
            "30/30 [==============================] - 2s 31ms/step - loss: 0.5555 - accuracy: 0.7891 - val_loss: 0.4260 - val_accuracy: 0.8720\n",
            "Epoch 2/20\n",
            "30/30 [==============================] - 0s 16ms/step - loss: 0.3545 - accuracy: 0.8991 - val_loss: 0.3985 - val_accuracy: 0.8535\n",
            "Epoch 3/20\n",
            "30/30 [==============================] - 0s 15ms/step - loss: 0.2860 - accuracy: 0.9199 - val_loss: 0.3454 - val_accuracy: 0.8812\n",
            "Epoch 4/20\n",
            "30/30 [==============================] - 0s 16ms/step - loss: 0.2494 - accuracy: 0.9317 - val_loss: 0.3368 - val_accuracy: 0.8863\n",
            "Epoch 5/20\n",
            "30/30 [==============================] - 0s 16ms/step - loss: 0.2301 - accuracy: 0.9402 - val_loss: 0.3430 - val_accuracy: 0.8823\n",
            "Epoch 6/20\n",
            "30/30 [==============================] - 0s 16ms/step - loss: 0.2114 - accuracy: 0.9485 - val_loss: 0.3403 - val_accuracy: 0.8843\n",
            "Epoch 7/20\n",
            "30/30 [==============================] - 0s 15ms/step - loss: 0.2052 - accuracy: 0.9515 - val_loss: 0.3493 - val_accuracy: 0.8840\n",
            "Epoch 8/20\n",
            "30/30 [==============================] - 0s 15ms/step - loss: 0.1967 - accuracy: 0.9550 - val_loss: 0.3745 - val_accuracy: 0.8749\n",
            "Epoch 9/20\n",
            "30/30 [==============================] - 0s 16ms/step - loss: 0.1846 - accuracy: 0.9597 - val_loss: 0.3669 - val_accuracy: 0.8802\n",
            "Epoch 10/20\n",
            "30/30 [==============================] - 0s 16ms/step - loss: 0.1822 - accuracy: 0.9621 - val_loss: 0.3731 - val_accuracy: 0.8797\n",
            "Epoch 11/20\n",
            "30/30 [==============================] - 0s 16ms/step - loss: 0.1769 - accuracy: 0.9633 - val_loss: 0.3812 - val_accuracy: 0.8799\n",
            "Epoch 12/20\n",
            "30/30 [==============================] - 0s 15ms/step - loss: 0.1747 - accuracy: 0.9629 - val_loss: 0.3895 - val_accuracy: 0.8788\n",
            "Epoch 13/20\n",
            "30/30 [==============================] - 0s 16ms/step - loss: 0.1675 - accuracy: 0.9677 - val_loss: 0.4139 - val_accuracy: 0.8744\n",
            "Epoch 14/20\n",
            "30/30 [==============================] - 0s 16ms/step - loss: 0.1642 - accuracy: 0.9670 - val_loss: 0.4078 - val_accuracy: 0.8769\n",
            "Epoch 15/20\n",
            "30/30 [==============================] - 0s 16ms/step - loss: 0.1629 - accuracy: 0.9676 - val_loss: 0.4123 - val_accuracy: 0.8761\n",
            "Epoch 16/20\n",
            "30/30 [==============================] - 0s 16ms/step - loss: 0.1636 - accuracy: 0.9675 - val_loss: 0.4201 - val_accuracy: 0.8731\n",
            "Epoch 17/20\n",
            "30/30 [==============================] - 0s 15ms/step - loss: 0.1532 - accuracy: 0.9725 - val_loss: 0.4257 - val_accuracy: 0.8719\n",
            "Epoch 18/20\n",
            "30/30 [==============================] - 0s 15ms/step - loss: 0.1516 - accuracy: 0.9722 - val_loss: 0.4564 - val_accuracy: 0.8648\n",
            "Epoch 19/20\n",
            "30/30 [==============================] - 0s 15ms/step - loss: 0.1644 - accuracy: 0.9647 - val_loss: 0.4373 - val_accuracy: 0.8738\n",
            "Epoch 20/20\n",
            "30/30 [==============================] - 0s 15ms/step - loss: 0.1442 - accuracy: 0.9759 - val_loss: 0.4565 - val_accuracy: 0.8694\n"
          ]
        },
        {
          "output_type": "execute_result",
          "data": {
            "text/plain": [
              "dict_keys(['loss', 'accuracy', 'val_loss', 'val_accuracy'])"
            ]
          },
          "metadata": {},
          "execution_count": 103
        }
      ]
    },
    {
      "cell_type": "markdown",
      "source": [
        "Plotting graph between Training and Validation loss"
      ],
      "metadata": {
        "id": "yhWWI_FEddqY"
      }
    },
    {
      "cell_type": "code",
      "source": [
        "loss_values = history_dict_regularisation[\"loss\"]\n",
        "val_loss_values = history_dict_regularisation[\"val_loss\"]\n",
        "epochs = range(1, len(loss_values) + 1)\n",
        "plt.plot(epochs, loss_values, \"bo\", label=\"Training loss\")\n",
        "plt.plot(epochs, val_loss_values, \"b\", label=\"Validation loss\")\n",
        "plt.title(\"Training and validation loss\")\n",
        "plt.xlabel(\"Epochs\")\n",
        "plt.ylabel(\"Loss\")\n",
        "plt.legend()\n",
        "plt.show()"
      ],
      "metadata": {
        "colab": {
          "base_uri": "https://localhost:8080/",
          "height": 295
        },
        "id": "zumFsopudh5U",
        "outputId": "30802b35-dcc0-4f5d-bd95-4bd168d80d9c"
      },
      "execution_count": 104,
      "outputs": [
        {
          "output_type": "display_data",
          "data": {
            "text/plain": [
              "<Figure size 432x288 with 1 Axes>"
            ],
            "image/png": "[encoded data removed]"
          },
          "metadata": {
            "needs_background": "light"
          }
        }
      ]
    },
    {
      "cell_type": "markdown",
      "source": [
        "Plotting graph between Training and Validation accuracy"
      ],
      "metadata": {
        "id": "XVqo4uEAkKL5"
      }
    },
    {
      "cell_type": "code",
      "source": [
        "plt.clf()\n",
        "acc = history_dict_regularisation[\"accuracy\"]\n",
        "val_acc = history_dict_regularisation[\"val_accuracy\"]\n",
        "plt.plot(epochs, acc, \"bo\", label=\"Training acc\")\n",
        "plt.plot(epochs, val_acc, \"b\", label=\"Validation acc\")\n",
        "plt.title(\"Training and validation accuracy\")\n",
        "plt.xlabel(\"Epochs\")\n",
        "plt.ylabel(\"Accuracy\")\n",
        "plt.legend()\n",
        "plt.show()"
      ],
      "metadata": {
        "colab": {
          "base_uri": "https://localhost:8080/",
          "height": 295
        },
        "id": "lKYH0YNqkRVi",
        "outputId": "a9366133-8980-4822-9340-e210d0d8f467"
      },
      "execution_count": 105,
      "outputs": [
        {
          "output_type": "display_data",
          "data": {
            "text/plain": [
              "<Figure size 432x288 with 1 Axes>"
            ],
            "image/png": "[encoded data removed]"
          },
          "metadata": {
            "needs_background": "light"
          }
        }
      ]
    },
    {
      "cell_type": "code",
      "source": [
        "model_regularisation.fit(x_train, y_train, epochs=8, batch_size=512)\n",
        "results_regularisation = model_regularisation.evaluate(x_test, y_test)\n",
        "results_regularisation"
      ],
      "metadata": {
        "colab": {
          "base_uri": "https://localhost:8080/"
        },
        "id": "ERCWWgkckYb2",
        "outputId": "71924b2e-e5af-4d7b-af83-a187a7d316fc"
      },
      "execution_count": 106,
      "outputs": [
        {
          "output_type": "stream",
          "name": "stdout",
          "text": [
            "Epoch 1/8\n",
            "49/49 [==============================] - 1s 10ms/step - loss: 0.2623 - accuracy: 0.9303\n",
            "Epoch 2/8\n",
            "49/49 [==============================] - 0s 10ms/step - loss: 0.2225 - accuracy: 0.9415\n",
            "Epoch 3/8\n",
            "49/49 [==============================] - 0s 10ms/step - loss: 0.2087 - accuracy: 0.9448\n",
            "Epoch 4/8\n",
            "49/49 [==============================] - 1s 10ms/step - loss: 0.2016 - accuracy: 0.9477\n",
            "Epoch 5/8\n",
            "49/49 [==============================] - 0s 10ms/step - loss: 0.1962 - accuracy: 0.9490\n",
            "Epoch 6/8\n",
            "49/49 [==============================] - 0s 10ms/step - loss: 0.1879 - accuracy: 0.9524\n",
            "Epoch 7/8\n",
            "49/49 [==============================] - 1s 10ms/step - loss: 0.1906 - accuracy: 0.9495\n",
            "Epoch 8/8\n",
            "49/49 [==============================] - 0s 10ms/step - loss: 0.1795 - accuracy: 0.9578\n",
            "782/782 [==============================] - 2s 3ms/step - loss: 0.4404 - accuracy: 0.8662\n"
          ]
        },
        {
          "output_type": "execute_result",
          "data": {
            "text/plain": [
              "[0.44039246439933777, 0.8662400245666504]"
            ]
          },
          "metadata": {},
          "execution_count": 106
        }
      ]
    },
    {
      "cell_type": "markdown",
      "source": [
        "Dropout"
      ],
      "metadata": {
        "id": "lofuTPvakd4a"
      }
    },
    {
      "cell_type": "code",
      "source": [
        "from tensorflow.keras import regularizers\n",
        "model_Dropout = keras.Sequential([\n",
        "    layers.Dense(16, activation=\"relu\"),\n",
        "    layers.Dropout(0.5),\n",
        "    layers.Dense(16, activation=\"relu\"),\n",
        "    layers.Dropout(0.5),\n",
        "    layers.Dense(1, activation=\"sigmoid\")\n",
        "])\n",
        "model_Dropout.compile(optimizer=\"rmsprop\",\n",
        "              loss=\"binary_crossentropy\",\n",
        "              metrics=[\"accuracy\"])\n",
        "history_model_Dropout = model_Dropout.fit(partial_x_train,\n",
        "                    partial_y_train,\n",
        "                    epochs=20,\n",
        "                    batch_size=512,\n",
        "                    validation_data=(x_val, y_val))\n",
        "history_dict_Dropout = history_model_Dropout.history\n",
        "history_dict_Dropout.keys()"
      ],
      "metadata": {
        "colab": {
          "base_uri": "https://localhost:8080/"
        },
        "id": "ZrxMoktskfGQ",
        "outputId": "a5396791-cfc6-4ab0-e02b-3cc57f2fa730"
      },
      "execution_count": 107,
      "outputs": [
        {
          "output_type": "stream",
          "name": "stdout",
          "text": [
            "Epoch 1/20\n",
            "30/30 [==============================] - 2s 29ms/step - loss: 0.6356 - accuracy: 0.6369 - val_loss: 0.5388 - val_accuracy: 0.8426\n",
            "Epoch 2/20\n",
            "30/30 [==============================] - 0s 16ms/step - loss: 0.5206 - accuracy: 0.7653 - val_loss: 0.4322 - val_accuracy: 0.8718\n",
            "Epoch 3/20\n",
            "30/30 [==============================] - 0s 15ms/step - loss: 0.4350 - accuracy: 0.8245 - val_loss: 0.3658 - val_accuracy: 0.8728\n",
            "Epoch 4/20\n",
            "30/30 [==============================] - 0s 17ms/step - loss: 0.3753 - accuracy: 0.8605 - val_loss: 0.3158 - val_accuracy: 0.8862\n",
            "Epoch 5/20\n",
            "30/30 [==============================] - 0s 16ms/step - loss: 0.3257 - accuracy: 0.8905 - val_loss: 0.2890 - val_accuracy: 0.8891\n",
            "Epoch 6/20\n",
            "30/30 [==============================] - 0s 16ms/step - loss: 0.2861 - accuracy: 0.9085 - val_loss: 0.2955 - val_accuracy: 0.8838\n",
            "Epoch 7/20\n",
            "30/30 [==============================] - 0s 16ms/step - loss: 0.2558 - accuracy: 0.9230 - val_loss: 0.2849 - val_accuracy: 0.8833\n",
            "Epoch 8/20\n",
            "30/30 [==============================] - 0s 16ms/step - loss: 0.2321 - accuracy: 0.9335 - val_loss: 0.2736 - val_accuracy: 0.8891\n",
            "Epoch 9/20\n",
            "30/30 [==============================] - 0s 16ms/step - loss: 0.2041 - accuracy: 0.9417 - val_loss: 0.2848 - val_accuracy: 0.8907\n",
            "Epoch 10/20\n",
            "30/30 [==============================] - 0s 16ms/step - loss: 0.1885 - accuracy: 0.9452 - val_loss: 0.2914 - val_accuracy: 0.8903\n",
            "Epoch 11/20\n",
            "30/30 [==============================] - 0s 15ms/step - loss: 0.1644 - accuracy: 0.9529 - val_loss: 0.3186 - val_accuracy: 0.8890\n",
            "Epoch 12/20\n",
            "30/30 [==============================] - 0s 16ms/step - loss: 0.1500 - accuracy: 0.9565 - val_loss: 0.3408 - val_accuracy: 0.8890\n",
            "Epoch 13/20\n",
            "30/30 [==============================] - 0s 16ms/step - loss: 0.1401 - accuracy: 0.9600 - val_loss: 0.3449 - val_accuracy: 0.8890\n",
            "Epoch 14/20\n",
            "30/30 [==============================] - 0s 15ms/step - loss: 0.1249 - accuracy: 0.9665 - val_loss: 0.3707 - val_accuracy: 0.8883\n",
            "Epoch 15/20\n",
            "30/30 [==============================] - 0s 16ms/step - loss: 0.1193 - accuracy: 0.9667 - val_loss: 0.4030 - val_accuracy: 0.8886\n",
            "Epoch 16/20\n",
            "30/30 [==============================] - 0s 16ms/step - loss: 0.1085 - accuracy: 0.9697 - val_loss: 0.4077 - val_accuracy: 0.8868\n",
            "Epoch 17/20\n",
            "30/30 [==============================] - 0s 16ms/step - loss: 0.0994 - accuracy: 0.9710 - val_loss: 0.4578 - val_accuracy: 0.8847\n",
            "Epoch 18/20\n",
            "30/30 [==============================] - 0s 16ms/step - loss: 0.0958 - accuracy: 0.9728 - val_loss: 0.5010 - val_accuracy: 0.8828\n",
            "Epoch 19/20\n",
            "30/30 [==============================] - 1s 17ms/step - loss: 0.0923 - accuracy: 0.9734 - val_loss: 0.5086 - val_accuracy: 0.8852\n",
            "Epoch 20/20\n",
            "30/30 [==============================] - 1s 19ms/step - loss: 0.0915 - accuracy: 0.9758 - val_loss: 0.5045 - val_accuracy: 0.8852\n"
          ]
        },
        {
          "output_type": "execute_result",
          "data": {
            "text/plain": [
              "dict_keys(['loss', 'accuracy', 'val_loss', 'val_accuracy'])"
            ]
          },
          "metadata": {},
          "execution_count": 107
        }
      ]
    },
    {
      "cell_type": "markdown",
      "source": [
        "Plotting graph between Training and Validation loss"
      ],
      "metadata": {
        "id": "oJWv9re-kqLb"
      }
    },
    {
      "cell_type": "code",
      "source": [
        "loss_values = history_dict_Dropout[\"loss\"]\n",
        "val_loss_values = history_dict_Dropout[\"val_loss\"]\n",
        "epochs = range(1, len(loss_values) + 1)\n",
        "plt.plot(epochs, loss_values, \"bo\", label=\"Training loss\")\n",
        "plt.plot(epochs, val_loss_values, \"b\", label=\"Validation loss\")\n",
        "plt.title(\"Training and validation loss\")\n",
        "plt.xlabel(\"Epochs\")\n",
        "plt.ylabel(\"Loss\")\n",
        "plt.legend()\n",
        "plt.show()\n"
      ],
      "metadata": {
        "colab": {
          "base_uri": "https://localhost:8080/",
          "height": 295
        },
        "id": "9UIBqJdakpFx",
        "outputId": "665e5d75-17a0-4f24-9625-59a6d74f23c3"
      },
      "execution_count": 108,
      "outputs": [
        {
          "output_type": "display_data",
          "data": {
            "text/plain": [
              "<Figure size 432x288 with 1 Axes>"
            ],
            "image/png": "[encoded data removed]"
          },
          "metadata": {
            "needs_background": "light"
          }
        }
      ]
    },
    {
      "cell_type": "markdown",
      "source": [
        "Plotting graph between Training and Validation accuracy"
      ],
      "metadata": {
        "id": "wqIQOC2_kz6Y"
      }
    },
    {
      "cell_type": "code",
      "source": [
        "plt.clf()\n",
        "acc = history_dict_Dropout[\"accuracy\"]\n",
        "val_acc = history_dict_Dropout[\"val_accuracy\"]\n",
        "plt.plot(epochs, acc, \"bo\", label=\"Training acc\")\n",
        "plt.plot(epochs, val_acc, \"b\", label=\"Validation acc\")\n",
        "plt.title(\"Training and validation accuracy\")\n",
        "plt.xlabel(\"Epochs\")\n",
        "plt.ylabel(\"Accuracy\")\n",
        "plt.legend()\n",
        "plt.show()"
      ],
      "metadata": {
        "colab": {
          "base_uri": "https://localhost:8080/",
          "height": 295
        },
        "id": "AMEHjbq1k4Xt",
        "outputId": "7b76a881-a6c2-4f86-b768-4491ae988e89"
      },
      "execution_count": 109,
      "outputs": [
        {
          "output_type": "display_data",
          "data": {
            "text/plain": [
              "<Figure size 432x288 with 1 Axes>"
            ],
            "image/png": "[encoded data removed]"
          },
          "metadata": {
            "needs_background": "light"
          }
        }
      ]
    },
    {
      "cell_type": "code",
      "source": [
        "model_Dropout.fit(x_train, y_train, epochs=8, batch_size=512)\n",
        "results_Dropout = model_Dropout.evaluate(x_test, y_test)\n",
        "results_Dropout"
      ],
      "metadata": {
        "colab": {
          "base_uri": "https://localhost:8080/"
        },
        "id": "EUjMuDQtk8wm",
        "outputId": "992045d5-2064-4acd-edc0-1c234ba3c9d5"
      },
      "execution_count": 110,
      "outputs": [
        {
          "output_type": "stream",
          "name": "stdout",
          "text": [
            "Epoch 1/8\n",
            "49/49 [==============================] - 1s 10ms/step - loss: 0.2683 - accuracy: 0.9287\n",
            "Epoch 2/8\n",
            "49/49 [==============================] - 1s 10ms/step - loss: 0.2220 - accuracy: 0.9364\n",
            "Epoch 3/8\n",
            "49/49 [==============================] - 1s 10ms/step - loss: 0.1945 - accuracy: 0.9423\n",
            "Epoch 4/8\n",
            "49/49 [==============================] - 1s 10ms/step - loss: 0.1739 - accuracy: 0.9486\n",
            "Epoch 5/8\n",
            "49/49 [==============================] - 1s 10ms/step - loss: 0.1635 - accuracy: 0.9524\n",
            "Epoch 6/8\n",
            "49/49 [==============================] - 0s 10ms/step - loss: 0.1554 - accuracy: 0.9537\n",
            "Epoch 7/8\n",
            "49/49 [==============================] - 0s 10ms/step - loss: 0.1452 - accuracy: 0.9569\n",
            "Epoch 8/8\n",
            "49/49 [==============================] - 0s 10ms/step - loss: 0.1355 - accuracy: 0.9594\n",
            "782/782 [==============================] - 2s 3ms/step - loss: 0.4788 - accuracy: 0.8699\n"
          ]
        },
        {
          "output_type": "execute_result",
          "data": {
            "text/plain": [
              "[0.4787777066230774, 0.869920015335083]"
            ]
          },
          "metadata": {},
          "execution_count": 110
        }
      ]
    },
    {
      "cell_type": "markdown",
      "source": [
        "Training the model with Hypertuned Parameters"
      ],
      "metadata": {
        "id": "WGONyjEKlBHx"
      }
    },
    {
      "cell_type": "code",
      "source": [
        "from tensorflow.keras import regularizers\n",
        "model_Hyper = keras.Sequential([\n",
        "    layers.Dense(32, activation=\"relu\",kernel_regularizer=regularizers.l2(0.0001)),\n",
        "    layers.Dropout(0.5),    \n",
        "    layers.Dense(32, activation=\"relu\",kernel_regularizer=regularizers.l2(0.0001)),\n",
        "    layers.Dropout(0.5),\n",
        "    layers.Dense(16, activation=\"relu\",kernel_regularizer=regularizers.l2(0.0001)),\n",
        "    layers.Dropout(0.5),\n",
        "    layers.Dense(1, activation=\"sigmoid\")\n",
        "])\n",
        "model_Hyper.compile(optimizer=\"rmsprop\",\n",
        "              loss=\"mse\",\n",
        "              metrics=[\"accuracy\"])\n",
        "history_model_Hyper = model_Hyper.fit(partial_x_train,\n",
        "                    partial_y_train,\n",
        "                    epochs=20,\n",
        "                    batch_size=512,\n",
        "                    validation_data=(x_val, y_val))\n",
        "history_dict_Hyper = history_model_Hyper.history\n",
        "history_dict_Hyper.keys()"
      ],
      "metadata": {
        "colab": {
          "base_uri": "https://localhost:8080/"
        },
        "id": "Otkl87HolFqw",
        "outputId": "5cbc6320-b7d9-4d8c-9c06-a3604fddfb2c"
      },
      "execution_count": 111,
      "outputs": [
        {
          "output_type": "stream",
          "name": "stdout",
          "text": [
            "Epoch 1/20\n",
            "30/30 [==============================] - 2s 30ms/step - loss: 0.2390 - accuracy: 0.6173 - val_loss: 0.1702 - val_accuracy: 0.8480\n",
            "Epoch 2/20\n",
            "30/30 [==============================] - 0s 16ms/step - loss: 0.1782 - accuracy: 0.7744 - val_loss: 0.1195 - val_accuracy: 0.8746\n",
            "Epoch 3/20\n",
            "30/30 [==============================] - 0s 16ms/step - loss: 0.1372 - accuracy: 0.8483 - val_loss: 0.0975 - val_accuracy: 0.8849\n",
            "Epoch 4/20\n",
            "30/30 [==============================] - 0s 16ms/step - loss: 0.1105 - accuracy: 0.8843 - val_loss: 0.1016 - val_accuracy: 0.8776\n",
            "Epoch 5/20\n",
            "30/30 [==============================] - 1s 17ms/step - loss: 0.0905 - accuracy: 0.9085 - val_loss: 0.0954 - val_accuracy: 0.8854\n",
            "Epoch 6/20\n",
            "30/30 [==============================] - 0s 16ms/step - loss: 0.0792 - accuracy: 0.9245 - val_loss: 0.0953 - val_accuracy: 0.8881\n",
            "Epoch 7/20\n",
            "30/30 [==============================] - 0s 16ms/step - loss: 0.0682 - accuracy: 0.9353 - val_loss: 0.0981 - val_accuracy: 0.8846\n",
            "Epoch 8/20\n",
            "30/30 [==============================] - 0s 16ms/step - loss: 0.0619 - accuracy: 0.9434 - val_loss: 0.0999 - val_accuracy: 0.8875\n",
            "Epoch 9/20\n",
            "30/30 [==============================] - 0s 16ms/step - loss: 0.0566 - accuracy: 0.9482 - val_loss: 0.1010 - val_accuracy: 0.8850\n",
            "Epoch 10/20\n",
            "30/30 [==============================] - 0s 16ms/step - loss: 0.0525 - accuracy: 0.9536 - val_loss: 0.1107 - val_accuracy: 0.8782\n",
            "Epoch 11/20\n",
            "30/30 [==============================] - 0s 17ms/step - loss: 0.0495 - accuracy: 0.9583 - val_loss: 0.1081 - val_accuracy: 0.8821\n",
            "Epoch 12/20\n",
            "30/30 [==============================] - 1s 17ms/step - loss: 0.0471 - accuracy: 0.9589 - val_loss: 0.1065 - val_accuracy: 0.8834\n",
            "Epoch 13/20\n",
            "30/30 [==============================] - 0s 16ms/step - loss: 0.0461 - accuracy: 0.9609 - val_loss: 0.1084 - val_accuracy: 0.8804\n",
            "Epoch 14/20\n",
            "30/30 [==============================] - 0s 17ms/step - loss: 0.0435 - accuracy: 0.9621 - val_loss: 0.1098 - val_accuracy: 0.8812\n",
            "Epoch 15/20\n",
            "30/30 [==============================] - 0s 17ms/step - loss: 0.0450 - accuracy: 0.9615 - val_loss: 0.1089 - val_accuracy: 0.8807\n",
            "Epoch 16/20\n",
            "30/30 [==============================] - 0s 16ms/step - loss: 0.0406 - accuracy: 0.9667 - val_loss: 0.1111 - val_accuracy: 0.8827\n",
            "Epoch 17/20\n",
            "30/30 [==============================] - 0s 17ms/step - loss: 0.0407 - accuracy: 0.9669 - val_loss: 0.1122 - val_accuracy: 0.8767\n",
            "Epoch 18/20\n",
            "30/30 [==============================] - 1s 17ms/step - loss: 0.0415 - accuracy: 0.9642 - val_loss: 0.1129 - val_accuracy: 0.8782\n",
            "Epoch 19/20\n",
            "30/30 [==============================] - 1s 17ms/step - loss: 0.0405 - accuracy: 0.9658 - val_loss: 0.1131 - val_accuracy: 0.8787\n",
            "Epoch 20/20\n",
            "30/30 [==============================] - 0s 16ms/step - loss: 0.0398 - accuracy: 0.9671 - val_loss: 0.1129 - val_accuracy: 0.8794\n"
          ]
        },
        {
          "output_type": "execute_result",
          "data": {
            "text/plain": [
              "dict_keys(['loss', 'accuracy', 'val_loss', 'val_accuracy'])"
            ]
          },
          "metadata": {},
          "execution_count": 111
        }
      ]
    },
    {
      "cell_type": "markdown",
      "source": [
        "Plotting graph between Training and Validation loss"
      ],
      "metadata": {
        "id": "S1B9RuNnlNGo"
      }
    },
    {
      "cell_type": "code",
      "source": [
        "loss_values = history_dict_Hyper[\"loss\"]\n",
        "val_loss_values = history_dict_Hyper[\"val_loss\"]\n",
        "epochs = range(1, len(loss_values) + 1)\n",
        "plt.plot(epochs, loss_values, \"bo\", label=\"Training loss\")\n",
        "plt.plot(epochs, val_loss_values, \"b\", label=\"Validation loss\")\n",
        "plt.title(\"Training and validation loss\")\n",
        "plt.xlabel(\"Epochs\")\n",
        "plt.ylabel(\"Loss\")\n",
        "plt.legend()\n",
        "plt.show()"
      ],
      "metadata": {
        "colab": {
          "base_uri": "https://localhost:8080/",
          "height": 295
        },
        "id": "sKMYfXiblRfS",
        "outputId": "7a1cefc0-3cb5-432c-a437-0f77e2416f12"
      },
      "execution_count": 112,
      "outputs": [
        {
          "output_type": "display_data",
          "data": {
            "text/plain": [
              "<Figure size 432x288 with 1 Axes>"
            ],
            "image/png": "[encoded data removed]"
          },
          "metadata": {
            "needs_background": "light"
          }
        }
      ]
    },
    {
      "cell_type": "markdown",
      "source": [
        "Plotting graph between Training and Validation accuracy"
      ],
      "metadata": {
        "id": "brIV3JOylUc0"
      }
    },
    {
      "cell_type": "code",
      "source": [
        "plt.clf()\n",
        "acc = history_dict_Hyper[\"accuracy\"]\n",
        "val_acc = history_dict_Hyper[\"val_accuracy\"]\n",
        "plt.plot(epochs, acc, \"bo\", label=\"Training acc\")\n",
        "plt.plot(epochs, val_acc, \"b\", label=\"Validation acc\")\n",
        "plt.title(\"Training and validation accuracy\")\n",
        "plt.xlabel(\"Epochs\")\n",
        "plt.ylabel(\"Accuracy\")\n",
        "plt.legend()\n",
        "plt.show()"
      ],
      "metadata": {
        "colab": {
          "base_uri": "https://localhost:8080/",
          "height": 295
        },
        "id": "ONiC9EP4laJj",
        "outputId": "6b590774-24e8-4b38-e522-26f2190c3228"
      },
      "execution_count": 113,
      "outputs": [
        {
          "output_type": "display_data",
          "data": {
            "text/plain": [
              "<Figure size 432x288 with 1 Axes>"
            ],
            "image/png": "[encoded data removed]"
          },
          "metadata": {
            "needs_background": "light"
          }
        }
      ]
    },
    {
      "cell_type": "code",
      "source": [
        "model_Hyper.fit(x_train, y_train, epochs=8, batch_size=512)\n",
        "results_Hyper = model_Hyper.evaluate(x_test, y_test)\n",
        "results_Hyper"
      ],
      "metadata": {
        "colab": {
          "base_uri": "https://localhost:8080/"
        },
        "id": "6iYMVBoXlfZd",
        "outputId": "05f35fb1-00e5-4869-d83c-69c537a53eed"
      },
      "execution_count": 114,
      "outputs": [
        {
          "output_type": "stream",
          "name": "stdout",
          "text": [
            "Epoch 1/8\n",
            "49/49 [==============================] - 1s 11ms/step - loss: 0.0736 - accuracy: 0.9242\n",
            "Epoch 2/8\n",
            "49/49 [==============================] - 1s 10ms/step - loss: 0.0662 - accuracy: 0.9331\n",
            "Epoch 3/8\n",
            "49/49 [==============================] - 1s 11ms/step - loss: 0.0622 - accuracy: 0.9382\n",
            "Epoch 4/8\n",
            "49/49 [==============================] - 1s 11ms/step - loss: 0.0591 - accuracy: 0.9426\n",
            "Epoch 5/8\n",
            "49/49 [==============================] - 1s 11ms/step - loss: 0.0569 - accuracy: 0.9464\n",
            "Epoch 6/8\n",
            "49/49 [==============================] - 1s 10ms/step - loss: 0.0554 - accuracy: 0.9468\n",
            "Epoch 7/8\n",
            "49/49 [==============================] - 1s 11ms/step - loss: 0.0536 - accuracy: 0.9490\n",
            "Epoch 8/8\n",
            "49/49 [==============================] - 1s 10ms/step - loss: 0.0551 - accuracy: 0.9466\n",
            "782/782 [==============================] - 2s 3ms/step - loss: 0.1108 - accuracy: 0.8755\n"
          ]
        },
        {
          "output_type": "execute_result",
          "data": {
            "text/plain": [
              "[0.11082746088504791, 0.8755199909210205]"
            ]
          },
          "metadata": {},
          "execution_count": 114
        }
      ]
    },
    {
      "cell_type": "markdown",
      "source": [
        "The summary for all models"
      ],
      "metadata": {
        "id": "6DazFLYhlkLA"
      }
    },
    {
      "cell_type": "code",
      "source": [
        "All_Loss= np.array([results_Dropout[0],results_Hyper[0],results_MSE[0],results_regularisation[0],results_tanh[0]])*100\n",
        "All_Loss\n",
        "All_Accuracy= np.array([results_Dropout[1],results_Hyper[1],results_MSE[1],results_regularisation[1],results_tanh[1]])*100\n",
        "All_Accuracy\n",
        "Labels=['Model_Dropout','Model_Hyper','Model_MSE','model_regularisation','model_tanh']\n",
        "\n",
        "plt.clf()"
      ],
      "metadata": {
        "colab": {
          "base_uri": "https://localhost:8080/",
          "height": 34
        },
        "id": "P-sKa0omlm8X",
        "outputId": "1036f0cf-a6c3-440c-dcdc-bc214f82d1f9"
      },
      "execution_count": 115,
      "outputs": [
        {
          "output_type": "display_data",
          "data": {
            "text/plain": [
              "<Figure size 432x288 with 0 Axes>"
            ]
          },
          "metadata": {}
        }
      ]
    },
    {
      "cell_type": "markdown",
      "source": [
        "Let's compare all the models using a graph"
      ],
      "metadata": {
        "id": "Nbn6wt8elqa5"
      }
    },
    {
      "cell_type": "code",
      "source": [
        "fig, ax = plt.subplots()\n",
        "ax.scatter(All_Loss,All_Accuracy)\n",
        "for i, txt in enumerate(Labels):\n",
        "    ax.annotate(txt, (All_Loss[i],All_Accuracy[i] ))\n",
        "plt.title(\"Summary for Accuracy and Loss\")\n",
        "plt.ylabel(\"Accuracy\")\n",
        "plt.xlabel(\"Loss\")\n",
        "\n",
        "plt.show()"
      ],
      "metadata": {
        "colab": {
          "base_uri": "https://localhost:8080/",
          "height": 295
        },
        "id": "JjsgpphIltmv",
        "outputId": "27ce880a-1abf-4a32-c814-42fe91e00272"
      },
      "execution_count": 116,
      "outputs": [
        {
          "output_type": "display_data",
          "data": {
            "text/plain": [
              "<Figure size 432x288 with 1 Axes>"
            ],
            "image/png": "[encoded data removed]"
          },
          "metadata": {
            "needs_background": "light"
          }
        }
      ]
    }
  ]
}