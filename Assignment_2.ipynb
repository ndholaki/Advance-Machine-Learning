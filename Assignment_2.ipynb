{
  "cells": [
    {
      "cell_type": "markdown",
      "metadata": {
        "id": "view-in-github",
        "colab_type": "text"
      },
      "source": [
        "<a href=\"https://colab.research.google.com/github/ndholaki/Advance-Machine-Learning/blob/main/Assignment_2.ipynb\" target=\"_parent\"><img src=\"https://colab.research.google.com/assets/colab-badge.svg\" alt=\"Open In Colab\"/></a>"
      ]
    },
    {
      "cell_type": "markdown",
      "metadata": {
        "id": "wozxk6QEEI4Q"
      },
      "source": [
        "This is a companion notebook for the book [Deep Learning with Python, Second Edition](https://www.manning.com/books/deep-learning-with-python-second-edition?a_aid=keras&a_bid=76564dff). For readability, it only contains runnable code blocks and section titles, and omits everything else in the book: text paragraphs, figures, and pseudocode.\n",
        "\n",
        "**If you want to be able to follow what's going on, I recommend reading the notebook side by side with your copy of the book.**\n",
        "\n",
        "This notebook was generated for TensorFlow 2.6."
      ]
    },
    {
      "cell_type": "markdown",
      "metadata": {
        "id": "O8KI-8erEI4W"
      },
      "source": [
        "# Introduction to deep learning for computer vision"
      ]
    },
    {
      "cell_type": "markdown",
      "metadata": {
        "id": "e7p2OfIAEI4X"
      },
      "source": [
        "## Introduction to convnets"
      ]
    },
    {
      "cell_type": "markdown",
      "metadata": {
        "id": "rsry0p45EI4X"
      },
      "source": [
        "**Instantiating a small convnet**"
      ]
    },
    {
      "cell_type": "code",
      "execution_count": null,
      "metadata": {
        "id": "7FNobmFaEI4Y"
      },
      "outputs": [],
      "source": [
        "from tensorflow import keras\n",
        "from tensorflow.keras import layers\n",
        "inputs = keras.Input(shape=(28, 28, 1))\n",
        "x = layers.Conv2D(filters=32, kernel_size=3, activation=\"relu\")(inputs)\n",
        "x = layers.MaxPooling2D(pool_size=2)(x)\n",
        "x = layers.Conv2D(filters=64, kernel_size=3, activation=\"relu\")(x)\n",
        "x = layers.MaxPooling2D(pool_size=2)(x)\n",
        "x = layers.Conv2D(filters=128, kernel_size=3, activation=\"relu\")(x)\n",
        "x = layers.Flatten()(x)\n",
        "outputs = layers.Dense(10, activation=\"softmax\")(x)\n",
        "model = keras.Model(inputs=inputs, outputs=outputs)"
      ]
    },
    {
      "cell_type": "markdown",
      "metadata": {
        "id": "vdhQrmeiEI4Z"
      },
      "source": [
        "**Displaying the model's summary**"
      ]
    },
    {
      "cell_type": "code",
      "execution_count": null,
      "metadata": {
        "colab": {
          "base_uri": "https://localhost:8080/"
        },
        "id": "QxLvVpbzEI4a",
        "outputId": "1a1af77d-942d-4d71-ffe8-361823d2aea0"
      },
      "outputs": [
        {
          "output_type": "stream",
          "name": "stdout",
          "text": [
            "Model: \"model\"\n",
            "_________________________________________________________________\n",
            " Layer (type)                Output Shape              Param #   \n",
            "=================================================================\n",
            " input_1 (InputLayer)        [(None, 28, 28, 1)]       0         \n",
            "                                                                 \n",
            " conv2d (Conv2D)             (None, 26, 26, 32)        320       \n",
            "                                                                 \n",
            " max_pooling2d (MaxPooling2D  (None, 13, 13, 32)       0         \n",
            " )                                                               \n",
            "                                                                 \n",
            " conv2d_1 (Conv2D)           (None, 11, 11, 64)        18496     \n",
            "                                                                 \n",
            " max_pooling2d_1 (MaxPooling  (None, 5, 5, 64)         0         \n",
            " 2D)                                                             \n",
            "                                                                 \n",
            " conv2d_2 (Conv2D)           (None, 3, 3, 128)         73856     \n",
            "                                                                 \n",
            " flatten (Flatten)           (None, 1152)              0         \n",
            "                                                                 \n",
            " dense (Dense)               (None, 10)                11530     \n",
            "                                                                 \n",
            "=================================================================\n",
            "Total params: 104,202\n",
            "Trainable params: 104,202\n",
            "Non-trainable params: 0\n",
            "_________________________________________________________________\n"
          ]
        }
      ],
      "source": [
        "model.summary()"
      ]
    },
    {
      "cell_type": "markdown",
      "metadata": {
        "id": "QoiYHzRcEI4a"
      },
      "source": [
        "**Training the convnet on MNIST images**"
      ]
    },
    {
      "cell_type": "code",
      "execution_count": null,
      "metadata": {
        "colab": {
          "base_uri": "https://localhost:8080/"
        },
        "id": "nKOqLP4BEI4b",
        "outputId": "f3b92df8-ba93-42e7-af4f-b2e3923d5742"
      },
      "outputs": [
        {
          "output_type": "stream",
          "name": "stdout",
          "text": [
            "Epoch 1/5\n",
            "938/938 [==============================] - 4s 4ms/step - loss: 0.1575 - accuracy: 0.9504\n",
            "Epoch 2/5\n",
            "938/938 [==============================] - 3s 4ms/step - loss: 0.0436 - accuracy: 0.9866\n",
            "Epoch 3/5\n",
            "938/938 [==============================] - 3s 4ms/step - loss: 0.0296 - accuracy: 0.9905\n",
            "Epoch 4/5\n",
            "938/938 [==============================] - 3s 4ms/step - loss: 0.0230 - accuracy: 0.9934\n",
            "Epoch 5/5\n",
            "938/938 [==============================] - 3s 4ms/step - loss: 0.0176 - accuracy: 0.9951\n"
          ]
        },
        {
          "output_type": "execute_result",
          "data": {
            "text/plain": [
              "<keras.callbacks.History at 0x7f47c7fe3790>"
            ]
          },
          "metadata": {},
          "execution_count": 15
        }
      ],
      "source": [
        "from tensorflow.keras.datasets import mnist\n",
        "\n",
        "(train_images, train_labels), (test_images, test_labels) = mnist.load_data()\n",
        "train_images = train_images.reshape((60000, 28, 28, 1))\n",
        "train_images = train_images.astype(\"float32\") / 255\n",
        "test_images = test_images.reshape((10000, 28, 28, 1))\n",
        "test_images = test_images.astype(\"float32\") / 255\n",
        "model.compile(optimizer=\"rmsprop\",\n",
        "    loss=\"sparse_categorical_crossentropy\",\n",
        "    metrics=[\"accuracy\"])\n",
        "model.fit(train_images, train_labels, epochs=5, batch_size=64)"
      ]
    },
    {
      "cell_type": "markdown",
      "metadata": {
        "id": "A-lAg-gCEI4c"
      },
      "source": [
        "**Evaluating the convnet**"
      ]
    },
    {
      "cell_type": "code",
      "execution_count": null,
      "metadata": {
        "colab": {
          "base_uri": "https://localhost:8080/"
        },
        "id": "U-F2vu08EI4c",
        "outputId": "da29a93b-56d7-4376-ce81-c23623dbb3a8"
      },
      "outputs": [
        {
          "output_type": "stream",
          "name": "stdout",
          "text": [
            "313/313 [==============================] - 1s 2ms/step - loss: 0.0375 - accuracy: 0.9889\n",
            "Test accuracy: 0.989\n"
          ]
        }
      ],
      "source": [
        "test_loss, test_acc = model.evaluate(test_images, test_labels)\n",
        "print(f\"Test accuracy: {test_acc:.3f}\")"
      ]
    },
    {
      "cell_type": "markdown",
      "metadata": {
        "id": "eK02CmdjEI4c"
      },
      "source": [
        "### The convolution operation"
      ]
    },
    {
      "cell_type": "markdown",
      "metadata": {
        "id": "RmpS2UrZEI4d"
      },
      "source": [
        "#### Understanding border effects and padding"
      ]
    },
    {
      "cell_type": "markdown",
      "metadata": {
        "id": "a5ytwQdAEI4d"
      },
      "source": [
        "#### Understanding convolution strides"
      ]
    },
    {
      "cell_type": "markdown",
      "metadata": {
        "id": "GW6wZPy0EI4e"
      },
      "source": [
        "### The max-pooling operation"
      ]
    },
    {
      "cell_type": "markdown",
      "metadata": {
        "id": "a_tkSGBCEI4e"
      },
      "source": [
        "**An incorrectly structured convnet missing its max-pooling layers**"
      ]
    },
    {
      "cell_type": "code",
      "execution_count": null,
      "metadata": {
        "id": "fyeFOlrIEI4e"
      },
      "outputs": [],
      "source": [
        "inputs = keras.Input(shape=(28, 28, 1))\n",
        "x = layers.Conv2D(filters=32, kernel_size=3, activation=\"relu\")(inputs)\n",
        "x = layers.Conv2D(filters=64, kernel_size=3, activation=\"relu\")(x)\n",
        "x = layers.Conv2D(filters=128, kernel_size=3, activation=\"relu\")(x)\n",
        "x = layers.Flatten()(x)\n",
        "outputs = layers.Dense(10, activation=\"softmax\")(x)\n",
        "model_no_max_pool = keras.Model(inputs=inputs, outputs=outputs)"
      ]
    },
    {
      "cell_type": "code",
      "execution_count": null,
      "metadata": {
        "colab": {
          "base_uri": "https://localhost:8080/"
        },
        "id": "e_3nO34MEI4f",
        "outputId": "ecc37460-93b4-4bb9-8f29-196d5ad4d0a5"
      },
      "outputs": [
        {
          "output_type": "stream",
          "name": "stdout",
          "text": [
            "Model: \"model_3\"\n",
            "_________________________________________________________________\n",
            " Layer (type)                Output Shape              Param #   \n",
            "=================================================================\n",
            " input_4 (InputLayer)        [(None, 28, 28, 1)]       0         \n",
            "                                                                 \n",
            " conv2d_9 (Conv2D)           (None, 26, 26, 32)        320       \n",
            "                                                                 \n",
            " conv2d_10 (Conv2D)          (None, 24, 24, 64)        18496     \n",
            "                                                                 \n",
            " conv2d_11 (Conv2D)          (None, 22, 22, 128)       73856     \n",
            "                                                                 \n",
            " flatten_3 (Flatten)         (None, 61952)             0         \n",
            "                                                                 \n",
            " dense_3 (Dense)             (None, 10)                619530    \n",
            "                                                                 \n",
            "=================================================================\n",
            "Total params: 712,202\n",
            "Trainable params: 712,202\n",
            "Non-trainable params: 0\n",
            "_________________________________________________________________\n"
          ]
        }
      ],
      "source": [
        "model_no_max_pool.summary()"
      ]
    },
    {
      "cell_type": "markdown",
      "metadata": {
        "id": "KDLjFf-XEI4f"
      },
      "source": [
        "## Training a convnet from scratch on a small dataset"
      ]
    },
    {
      "cell_type": "markdown",
      "metadata": {
        "id": "tDCdHKfQEI4f"
      },
      "source": [
        "### The relevance of deep learning for small-data problems"
      ]
    },
    {
      "cell_type": "markdown",
      "metadata": {
        "id": "LlwppZy0EI4f"
      },
      "source": [
        "### Downloading the data"
      ]
    },
    {
      "cell_type": "code",
      "execution_count": null,
      "metadata": {
        "colab": {
          "base_uri": "https://localhost:8080/",
          "height": 92
        },
        "id": "YqtT_RnVEI4g",
        "outputId": "17a2b963-36ce-4253-9a96-3cf57f74f89f"
      },
      "outputs": [
        {
          "output_type": "display_data",
          "data": {
            "text/plain": [
              "<IPython.core.display.HTML object>"
            ],
            "text/html": [
              "\n",
              "     <input type=\"file\" id=\"files-505c2fcd-d694-4f6c-8c3c-7cd72d716e87\" name=\"files[]\" multiple disabled\n",
              "        style=\"border:none\" />\n",
              "     <output id=\"result-505c2fcd-d694-4f6c-8c3c-7cd72d716e87\">\n",
              "      Upload widget is only available when the cell has been executed in the\n",
              "      current browser session. Please rerun this cell to enable.\n",
              "      </output>\n",
              "      <script>// Copyright 2017 Google LLC\n",
              "//\n",
              "// Licensed under the Apache License, Version 2.0 (the \"License\");\n",
              "// you may not use this file except in compliance with the License.\n",
              "// You may obtain a copy of the License at\n",
              "//\n",
              "//      http://www.apache.org/licenses/LICENSE-2.0\n",
              "//\n",
              "// Unless required by applicable law or agreed to in writing, software\n",
              "// distributed under the License is distributed on an \"AS IS\" BASIS,\n",
              "// WITHOUT WARRANTIES OR CONDITIONS OF ANY KIND, either express or implied.\n",
              "// See the License for the specific language governing permissions and\n",
              "// limitations under the License.\n",
              "\n",
              "/**\n",
              " * @fileoverview Helpers for google.colab Python module.\n",
              " */\n",
              "(function(scope) {\n",
              "function span(text, styleAttributes = {}) {\n",
              "  const element = document.createElement('span');\n",
              "  element.textContent = text;\n",
              "  for (const key of Object.keys(styleAttributes)) {\n",
              "    element.style[key] = styleAttributes[key];\n",
              "  }\n",
              "  return element;\n",
              "}\n",
              "\n",
              "// Max number of bytes which will be uploaded at a time.\n",
              "const MAX_PAYLOAD_SIZE = 100 * 1024;\n",
              "\n",
              "function _uploadFiles(inputId, outputId) {\n",
              "  const steps = uploadFilesStep(inputId, outputId);\n",
              "  const outputElement = document.getElementById(outputId);\n",
              "  // Cache steps on the outputElement to make it available for the next call\n",
              "  // to uploadFilesContinue from Python.\n",
              "  outputElement.steps = steps;\n",
              "\n",
              "  return _uploadFilesContinue(outputId);\n",
              "}\n",
              "\n",
              "// This is roughly an async generator (not supported in the browser yet),\n",
              "// where there are multiple asynchronous steps and the Python side is going\n",
              "// to poll for completion of each step.\n",
              "// This uses a Promise to block the python side on completion of each step,\n",
              "// then passes the result of the previous step as the input to the next step.\n",
              "function _uploadFilesContinue(outputId) {\n",
              "  const outputElement = document.getElementById(outputId);\n",
              "  const steps = outputElement.steps;\n",
              "\n",
              "  const next = steps.next(outputElement.lastPromiseValue);\n",
              "  return Promise.resolve(next.value.promise).then((value) => {\n",
              "    // Cache the last promise value to make it available to the next\n",
              "    // step of the generator.\n",
              "    outputElement.lastPromiseValue = value;\n",
              "    return next.value.response;\n",
              "  });\n",
              "}\n",
              "\n",
              "/**\n",
              " * Generator function which is called between each async step of the upload\n",
              " * process.\n",
              " * @param {string} inputId Element ID of the input file picker element.\n",
              " * @param {string} outputId Element ID of the output display.\n",
              " * @return {!Iterable<!Object>} Iterable of next steps.\n",
              " */\n",
              "function* uploadFilesStep(inputId, outputId) {\n",
              "  const inputElement = document.getElementById(inputId);\n",
              "  inputElement.disabled = false;\n",
              "\n",
              "  const outputElement = document.getElementById(outputId);\n",
              "  outputElement.innerHTML = '';\n",
              "\n",
              "  const pickedPromise = new Promise((resolve) => {\n",
              "    inputElement.addEventListener('change', (e) => {\n",
              "      resolve(e.target.files);\n",
              "    });\n",
              "  });\n",
              "\n",
              "  const cancel = document.createElement('button');\n",
              "  inputElement.parentElement.appendChild(cancel);\n",
              "  cancel.textContent = 'Cancel upload';\n",
              "  const cancelPromise = new Promise((resolve) => {\n",
              "    cancel.onclick = () => {\n",
              "      resolve(null);\n",
              "    };\n",
              "  });\n",
              "\n",
              "  // Wait for the user to pick the files.\n",
              "  const files = yield {\n",
              "    promise: Promise.race([pickedPromise, cancelPromise]),\n",
              "    response: {\n",
              "      action: 'starting',\n",
              "    }\n",
              "  };\n",
              "\n",
              "  cancel.remove();\n",
              "\n",
              "  // Disable the input element since further picks are not allowed.\n",
              "  inputElement.disabled = true;\n",
              "\n",
              "  if (!files) {\n",
              "    return {\n",
              "      response: {\n",
              "        action: 'complete',\n",
              "      }\n",
              "    };\n",
              "  }\n",
              "\n",
              "  for (const file of files) {\n",
              "    const li = document.createElement('li');\n",
              "    li.append(span(file.name, {fontWeight: 'bold'}));\n",
              "    li.append(span(\n",
              "        `(${file.type || 'n/a'}) - ${file.size} bytes, ` +\n",
              "        `last modified: ${\n",
              "            file.lastModifiedDate ? file.lastModifiedDate.toLocaleDateString() :\n",
              "                                    'n/a'} - `));\n",
              "    const percent = span('0% done');\n",
              "    li.appendChild(percent);\n",
              "\n",
              "    outputElement.appendChild(li);\n",
              "\n",
              "    const fileDataPromise = new Promise((resolve) => {\n",
              "      const reader = new FileReader();\n",
              "      reader.onload = (e) => {\n",
              "        resolve(e.target.result);\n",
              "      };\n",
              "      reader.readAsArrayBuffer(file);\n",
              "    });\n",
              "    // Wait for the data to be ready.\n",
              "    let fileData = yield {\n",
              "      promise: fileDataPromise,\n",
              "      response: {\n",
              "        action: 'continue',\n",
              "      }\n",
              "    };\n",
              "\n",
              "    // Use a chunked sending to avoid message size limits. See b/62115660.\n",
              "    let position = 0;\n",
              "    do {\n",
              "      const length = Math.min(fileData.byteLength - position, MAX_PAYLOAD_SIZE);\n",
              "      const chunk = new Uint8Array(fileData, position, length);\n",
              "      position += length;\n",
              "\n",
              "      const base64 = btoa(String.fromCharCode.apply(null, chunk));\n",
              "      yield {\n",
              "        response: {\n",
              "          action: 'append',\n",
              "          file: file.name,\n",
              "          data: base64,\n",
              "        },\n",
              "      };\n",
              "\n",
              "      let percentDone = fileData.byteLength === 0 ?\n",
              "          100 :\n",
              "          Math.round((position / fileData.byteLength) * 100);\n",
              "      percent.textContent = `${percentDone}% done`;\n",
              "\n",
              "    } while (position < fileData.byteLength);\n",
              "  }\n",
              "\n",
              "  // All done.\n",
              "  yield {\n",
              "    response: {\n",
              "      action: 'complete',\n",
              "    }\n",
              "  };\n",
              "}\n",
              "\n",
              "scope.google = scope.google || {};\n",
              "scope.google.colab = scope.google.colab || {};\n",
              "scope.google.colab._files = {\n",
              "  _uploadFiles,\n",
              "  _uploadFilesContinue,\n",
              "};\n",
              "})(self);\n",
              "</script> "
            ]
          },
          "metadata": {}
        },
        {
          "output_type": "stream",
          "name": "stdout",
          "text": [
            "Saving dogs-vs-cats.zip to dogs-vs-cats.zip\n"
          ]
        }
      ],
      "source": [
        "from google.colab import files\n",
        "files.upload()"
      ]
    },
    {
      "cell_type": "code",
      "execution_count": null,
      "metadata": {
        "colab": {
          "base_uri": "https://localhost:8080/"
        },
        "id": "9fHORyRiEI4g",
        "outputId": "f4825e86-c298-4e9a-972a-88868f0c7693"
      },
      "outputs": [
        {
          "output_type": "stream",
          "name": "stdout",
          "text": [
            "replace sampleSubmission.csv? [y]es, [n]o, [A]ll, [N]one, [r]ename: replace train/cat.0.jpg? [y]es, [n]o, [A]ll, [N]one, [r]ename: replace test1/1.jpg? [y]es, [n]o, [A]ll, [N]one, [r]ename: "
          ]
        }
      ],
      "source": [
        "!unzip -qq dogs-vs-cats.zip\n",
        "!unzip -qq train.zip\n",
        "!unzip -qq test1.zip"
      ]
    },
    {
      "cell_type": "markdown",
      "metadata": {
        "id": "wH0bpDp4EI4g"
      },
      "source": [
        "**Copying images to training, validation, and test directories**"
      ]
    },
    {
      "cell_type": "code",
      "execution_count": null,
      "metadata": {
        "id": "w77WPlkAEI4g"
      },
      "outputs": [],
      "source": [
        "import os, shutil, pathlib\n",
        "\n",
        "original_dir = pathlib.Path(\"train\")\n",
        "new_base_dir = pathlib.Path(\"cats_vs_dogs_small\")\n",
        "\n",
        "def make_subset(subset_name, start_index, end_index):\n",
        "    for category in (\"cat\", \"dog\"):\n",
        "        dir = new_base_dir / subset_name / category\n",
        "        fnames = [f\"{category}.{i}.jpg\" for i in range(start_index, end_index)]\n",
        "        for fname in fnames:\n",
        "            shutil.copyfile(src=original_dir / fname,\n",
        "                            dst=dir / fname)\n",
        "\n",
        "make_subset(\"train\", start_index=0, end_index=1000)\n",
        "make_subset(\"validation\", start_index=1000, end_index=1500)\n",
        "make_subset(\"test\", start_index=1500, end_index=2500)"
      ]
    },
    {
      "cell_type": "markdown",
      "metadata": {
        "id": "FmsUfnz9EI4h"
      },
      "source": [
        "### Building the model"
      ]
    },
    {
      "cell_type": "markdown",
      "metadata": {
        "id": "fwaZkv5rEI4h"
      },
      "source": [
        "**Instantiating a small convnet for dogs vs. cats classification**"
      ]
    },
    {
      "cell_type": "code",
      "execution_count": null,
      "metadata": {
        "id": "6obpJltiEI4h"
      },
      "outputs": [],
      "source": [
        "from tensorflow import keras\n",
        "from tensorflow.keras import layers\n",
        "\n",
        "inputs = keras.Input(shape=(180, 180, 3))\n",
        "x = layers.Rescaling(1./255)(inputs)\n",
        "x = layers.Conv2D(filters=32, kernel_size=3, activation=\"relu\")(x)\n",
        "x = layers.MaxPooling2D(pool_size=2)(x)\n",
        "x = layers.Conv2D(filters=64, kernel_size=3, activation=\"relu\")(x)\n",
        "x = layers.MaxPooling2D(pool_size=2)(x)\n",
        "x = layers.Conv2D(filters=128, kernel_size=3, activation=\"relu\")(x)\n",
        "x = layers.MaxPooling2D(pool_size=2)(x)\n",
        "x = layers.Conv2D(filters=256, kernel_size=3, activation=\"relu\")(x)\n",
        "x = layers.MaxPooling2D(pool_size=2)(x)\n",
        "x = layers.Conv2D(filters=256, kernel_size=3, activation=\"relu\")(x)\n",
        "x = layers.Flatten()(x)\n",
        "outputs = layers.Dense(1, activation=\"sigmoid\")(x)\n",
        "model = keras.Model(inputs=inputs, outputs=outputs)"
      ]
    },
    {
      "cell_type": "code",
      "execution_count": null,
      "metadata": {
        "colab": {
          "base_uri": "https://localhost:8080/"
        },
        "id": "_Is0ASvLEI4h",
        "outputId": "1efbaf79-1836-42ab-c88c-9647b9728e7d"
      },
      "outputs": [
        {
          "output_type": "stream",
          "name": "stdout",
          "text": [
            "Model: \"model_23\"\n",
            "_________________________________________________________________\n",
            " Layer (type)                Output Shape              Param #   \n",
            "=================================================================\n",
            " input_32 (InputLayer)       [(None, 180, 180, 3)]     0         \n",
            "                                                                 \n",
            " rescaling_11 (Rescaling)    (None, 180, 180, 3)       0         \n",
            "                                                                 \n",
            " conv2d_67 (Conv2D)          (None, 178, 178, 32)      896       \n",
            "                                                                 \n",
            " max_pooling2d_48 (MaxPoolin  (None, 89, 89, 32)       0         \n",
            " g2D)                                                            \n",
            "                                                                 \n",
            " conv2d_68 (Conv2D)          (None, 87, 87, 64)        18496     \n",
            "                                                                 \n",
            " max_pooling2d_49 (MaxPoolin  (None, 43, 43, 64)       0         \n",
            " g2D)                                                            \n",
            "                                                                 \n",
            " conv2d_69 (Conv2D)          (None, 41, 41, 128)       73856     \n",
            "                                                                 \n",
            " max_pooling2d_50 (MaxPoolin  (None, 20, 20, 128)      0         \n",
            " g2D)                                                            \n",
            "                                                                 \n",
            " conv2d_70 (Conv2D)          (None, 18, 18, 256)       295168    \n",
            "                                                                 \n",
            " max_pooling2d_51 (MaxPoolin  (None, 9, 9, 256)        0         \n",
            " g2D)                                                            \n",
            "                                                                 \n",
            " conv2d_71 (Conv2D)          (None, 7, 7, 256)         590080    \n",
            "                                                                 \n",
            " flatten_23 (Flatten)        (None, 12544)             0         \n",
            "                                                                 \n",
            " dense_31 (Dense)            (None, 1)                 12545     \n",
            "                                                                 \n",
            "=================================================================\n",
            "Total params: 991,041\n",
            "Trainable params: 991,041\n",
            "Non-trainable params: 0\n",
            "_________________________________________________________________\n"
          ]
        }
      ],
      "source": [
        "model.summary()"
      ]
    },
    {
      "cell_type": "markdown",
      "metadata": {
        "id": "LmLBsZiFEI4h"
      },
      "source": [
        "**Configuring the model for training**"
      ]
    },
    {
      "cell_type": "code",
      "execution_count": null,
      "metadata": {
        "id": "KxVwOCTBEI4i"
      },
      "outputs": [],
      "source": [
        "model.compile(loss=\"binary_crossentropy\",\n",
        "              optimizer=\"rmsprop\",\n",
        "              metrics=[\"accuracy\"])"
      ]
    },
    {
      "cell_type": "markdown",
      "metadata": {
        "id": "zSMbQetgEI4i"
      },
      "source": [
        "### Data preprocessing"
      ]
    },
    {
      "cell_type": "markdown",
      "metadata": {
        "id": "vQD99lnrEI4i"
      },
      "source": [
        "**Using `image_dataset_from_directory` to read images**"
      ]
    },
    {
      "cell_type": "code",
      "execution_count": null,
      "metadata": {
        "colab": {
          "base_uri": "https://localhost:8080/"
        },
        "id": "TGDvbQg9EI4i",
        "outputId": "383e4902-4de1-4781-ee53-33a1b2dc9eb4"
      },
      "outputs": [
        {
          "output_type": "stream",
          "name": "stdout",
          "text": [
            "Found 2000 files belonging to 2 classes.\n",
            "Found 1000 files belonging to 2 classes.\n",
            "Found 2000 files belonging to 2 classes.\n"
          ]
        }
      ],
      "source": [
        "from tensorflow.keras.utils import image_dataset_from_directory\n",
        "\n",
        "train_dataset = image_dataset_from_directory(\n",
        "    new_base_dir / \"train\",\n",
        "    image_size=(180, 180),\n",
        "    batch_size=32)\n",
        "validation_dataset = image_dataset_from_directory(\n",
        "    new_base_dir / \"validation\",\n",
        "    image_size=(180, 180),\n",
        "    batch_size=32)\n",
        "test_dataset = image_dataset_from_directory(\n",
        "    new_base_dir / \"test\",\n",
        "    image_size=(180, 180),\n",
        "    batch_size=32)"
      ]
    },
    {
      "cell_type": "code",
      "execution_count": null,
      "metadata": {
        "id": "KFalVzGdEI4i"
      },
      "outputs": [],
      "source": [
        "import numpy as np\n",
        "import tensorflow as tf\n",
        "random_numbers = np.random.normal(size=(1000, 16))\n",
        "dataset = tf.data.Dataset.from_tensor_slices(random_numbers)"
      ]
    },
    {
      "cell_type": "code",
      "execution_count": null,
      "metadata": {
        "colab": {
          "base_uri": "https://localhost:8080/"
        },
        "id": "PM601YIbEI4i",
        "outputId": "532cb4a7-2cc0-4605-f9d1-7432df697c80"
      },
      "outputs": [
        {
          "output_type": "stream",
          "name": "stdout",
          "text": [
            "(16,)\n",
            "(16,)\n",
            "(16,)\n"
          ]
        }
      ],
      "source": [
        "for i, element in enumerate(dataset):\n",
        "    print(element.shape)\n",
        "    if i >= 2:\n",
        "        break"
      ]
    },
    {
      "cell_type": "code",
      "execution_count": null,
      "metadata": {
        "colab": {
          "base_uri": "https://localhost:8080/"
        },
        "id": "GBUF3PTCEI4j",
        "outputId": "70f71d90-f3ae-4eed-b584-c9550042cfee"
      },
      "outputs": [
        {
          "output_type": "stream",
          "name": "stdout",
          "text": [
            "(32, 16)\n",
            "(32, 16)\n",
            "(32, 16)\n"
          ]
        }
      ],
      "source": [
        "batched_dataset = dataset.batch(32)\n",
        "for i, element in enumerate(batched_dataset):\n",
        "    print(element.shape)\n",
        "    if i >= 2:\n",
        "        break"
      ]
    },
    {
      "cell_type": "code",
      "execution_count": null,
      "metadata": {
        "colab": {
          "base_uri": "https://localhost:8080/"
        },
        "id": "jRboDJc9EI4j",
        "outputId": "cd532be9-bced-434b-8026-ffcbc252bb5c"
      },
      "outputs": [
        {
          "output_type": "stream",
          "name": "stdout",
          "text": [
            "(4, 4)\n",
            "(4, 4)\n",
            "(4, 4)\n"
          ]
        }
      ],
      "source": [
        "reshaped_dataset = dataset.map(lambda x: tf.reshape(x, (4, 4)))\n",
        "for i, element in enumerate(reshaped_dataset):\n",
        "    print(element.shape)\n",
        "    if i >= 2:\n",
        "        break"
      ]
    },
    {
      "cell_type": "markdown",
      "metadata": {
        "id": "dcAHZKzVEI4j"
      },
      "source": [
        "**Displaying the shapes of the data and labels yielded by the `Dataset`**"
      ]
    },
    {
      "cell_type": "code",
      "execution_count": null,
      "metadata": {
        "colab": {
          "base_uri": "https://localhost:8080/"
        },
        "id": "zetqdIP9EI4j",
        "outputId": "aba956af-014f-457e-edb0-36a955e2c429"
      },
      "outputs": [
        {
          "output_type": "stream",
          "name": "stdout",
          "text": [
            "data batch shape: (32, 180, 180, 3)\n",
            "labels batch shape: (32,)\n"
          ]
        }
      ],
      "source": [
        "for data_batch, labels_batch in train_dataset:\n",
        "    print(\"data batch shape:\", data_batch.shape)\n",
        "    print(\"labels batch shape:\", labels_batch.shape)\n",
        "    break"
      ]
    },
    {
      "cell_type": "markdown",
      "metadata": {
        "id": "e5WMB5zsEI4j"
      },
      "source": [
        "**Fitting the model using a `Dataset`**"
      ]
    },
    {
      "cell_type": "code",
      "execution_count": null,
      "metadata": {
        "colab": {
          "base_uri": "https://localhost:8080/"
        },
        "id": "TKynUCrxEI4j",
        "outputId": "43dd5293-6676-49cb-b9ed-5e683edaaf69"
      },
      "outputs": [
        {
          "output_type": "stream",
          "name": "stdout",
          "text": [
            "Epoch 1/40\n",
            "63/63 [==============================] - 2s 23ms/step - loss: 0.7112 - accuracy: 0.5010 - val_loss: 0.6900 - val_accuracy: 0.5240\n",
            "Epoch 2/40\n",
            "63/63 [==============================] - 1s 20ms/step - loss: 0.6999 - accuracy: 0.5520 - val_loss: 0.6628 - val_accuracy: 0.6060\n",
            "Epoch 3/40\n",
            "63/63 [==============================] - 1s 21ms/step - loss: 0.6666 - accuracy: 0.6110 - val_loss: 0.6348 - val_accuracy: 0.6430\n",
            "Epoch 4/40\n",
            "63/63 [==============================] - 1s 21ms/step - loss: 0.6609 - accuracy: 0.6595 - val_loss: 0.6113 - val_accuracy: 0.6750\n",
            "Epoch 5/40\n",
            "63/63 [==============================] - 1s 20ms/step - loss: 0.6174 - accuracy: 0.6725 - val_loss: 0.6124 - val_accuracy: 0.6480\n",
            "Epoch 6/40\n",
            "63/63 [==============================] - 1s 20ms/step - loss: 0.5625 - accuracy: 0.7220 - val_loss: 0.5680 - val_accuracy: 0.7010\n",
            "Epoch 7/40\n",
            "63/63 [==============================] - 1s 20ms/step - loss: 0.5189 - accuracy: 0.7480 - val_loss: 0.6180 - val_accuracy: 0.6750\n",
            "Epoch 8/40\n",
            "63/63 [==============================] - 1s 21ms/step - loss: 0.4796 - accuracy: 0.7715 - val_loss: 0.5629 - val_accuracy: 0.7260\n",
            "Epoch 9/40\n",
            "63/63 [==============================] - 1s 20ms/step - loss: 0.4209 - accuracy: 0.8105 - val_loss: 0.5814 - val_accuracy: 0.7580\n",
            "Epoch 10/40\n",
            "63/63 [==============================] - 1s 20ms/step - loss: 0.3615 - accuracy: 0.8445 - val_loss: 0.8587 - val_accuracy: 0.6710\n",
            "Epoch 11/40\n",
            "63/63 [==============================] - 1s 20ms/step - loss: 0.3221 - accuracy: 0.8535 - val_loss: 0.6163 - val_accuracy: 0.7530\n",
            "Epoch 12/40\n",
            "63/63 [==============================] - 1s 20ms/step - loss: 0.2490 - accuracy: 0.8970 - val_loss: 0.6760 - val_accuracy: 0.7460\n",
            "Epoch 13/40\n",
            "63/63 [==============================] - 1s 20ms/step - loss: 0.2072 - accuracy: 0.9130 - val_loss: 0.7346 - val_accuracy: 0.7430\n",
            "Epoch 14/40\n",
            "63/63 [==============================] - 1s 20ms/step - loss: 0.1913 - accuracy: 0.9350 - val_loss: 0.8092 - val_accuracy: 0.7480\n",
            "Epoch 15/40\n",
            "63/63 [==============================] - 1s 20ms/step - loss: 0.1293 - accuracy: 0.9530 - val_loss: 0.9818 - val_accuracy: 0.7460\n",
            "Epoch 16/40\n",
            "63/63 [==============================] - 1s 20ms/step - loss: 0.1209 - accuracy: 0.9520 - val_loss: 1.1140 - val_accuracy: 0.7490\n",
            "Epoch 17/40\n",
            "63/63 [==============================] - 1s 20ms/step - loss: 0.0894 - accuracy: 0.9695 - val_loss: 1.3572 - val_accuracy: 0.7130\n",
            "Epoch 18/40\n",
            "63/63 [==============================] - 1s 20ms/step - loss: 0.0768 - accuracy: 0.9675 - val_loss: 1.2916 - val_accuracy: 0.7410\n",
            "Epoch 19/40\n",
            "63/63 [==============================] - 1s 20ms/step - loss: 0.0672 - accuracy: 0.9755 - val_loss: 1.6435 - val_accuracy: 0.7160\n",
            "Epoch 20/40\n",
            "63/63 [==============================] - 1s 20ms/step - loss: 0.0561 - accuracy: 0.9790 - val_loss: 1.6282 - val_accuracy: 0.7350\n",
            "Epoch 21/40\n",
            "63/63 [==============================] - 1s 20ms/step - loss: 0.0538 - accuracy: 0.9820 - val_loss: 1.5593 - val_accuracy: 0.7360\n",
            "Epoch 22/40\n",
            "63/63 [==============================] - 1s 20ms/step - loss: 0.0644 - accuracy: 0.9790 - val_loss: 1.7413 - val_accuracy: 0.7400\n",
            "Epoch 23/40\n",
            "63/63 [==============================] - 1s 20ms/step - loss: 0.0699 - accuracy: 0.9835 - val_loss: 1.6267 - val_accuracy: 0.7270\n",
            "Epoch 24/40\n",
            "63/63 [==============================] - 1s 20ms/step - loss: 0.0447 - accuracy: 0.9870 - val_loss: 1.5288 - val_accuracy: 0.7330\n",
            "Epoch 25/40\n",
            "63/63 [==============================] - 1s 20ms/step - loss: 0.0590 - accuracy: 0.9815 - val_loss: 1.9697 - val_accuracy: 0.7250\n",
            "Epoch 26/40\n",
            "63/63 [==============================] - 1s 20ms/step - loss: 0.0768 - accuracy: 0.9805 - val_loss: 1.8862 - val_accuracy: 0.7420\n",
            "Epoch 27/40\n",
            "63/63 [==============================] - 1s 20ms/step - loss: 0.0555 - accuracy: 0.9845 - val_loss: 2.4267 - val_accuracy: 0.7090\n",
            "Epoch 28/40\n",
            "63/63 [==============================] - 1s 20ms/step - loss: 0.0358 - accuracy: 0.9905 - val_loss: 2.1722 - val_accuracy: 0.7220\n",
            "Epoch 29/40\n",
            "63/63 [==============================] - 1s 20ms/step - loss: 0.0527 - accuracy: 0.9845 - val_loss: 2.6600 - val_accuracy: 0.7250\n",
            "Epoch 30/40\n",
            "63/63 [==============================] - 1s 20ms/step - loss: 0.0548 - accuracy: 0.9860 - val_loss: 2.0902 - val_accuracy: 0.7410\n",
            "Epoch 31/40\n",
            "63/63 [==============================] - 1s 20ms/step - loss: 0.0511 - accuracy: 0.9870 - val_loss: 2.3468 - val_accuracy: 0.7350\n",
            "Epoch 32/40\n",
            "63/63 [==============================] - 1s 20ms/step - loss: 0.0207 - accuracy: 0.9915 - val_loss: 2.7753 - val_accuracy: 0.7230\n",
            "Epoch 33/40\n",
            "63/63 [==============================] - 1s 20ms/step - loss: 0.0419 - accuracy: 0.9880 - val_loss: 2.3036 - val_accuracy: 0.7380\n",
            "Epoch 34/40\n",
            "63/63 [==============================] - 1s 20ms/step - loss: 0.0896 - accuracy: 0.9810 - val_loss: 2.7967 - val_accuracy: 0.7260\n",
            "Epoch 35/40\n",
            "63/63 [==============================] - 1s 20ms/step - loss: 0.0677 - accuracy: 0.9855 - val_loss: 2.2879 - val_accuracy: 0.7520\n",
            "Epoch 36/40\n",
            "63/63 [==============================] - 1s 20ms/step - loss: 0.0291 - accuracy: 0.9925 - val_loss: 2.5429 - val_accuracy: 0.7470\n",
            "Epoch 37/40\n",
            "63/63 [==============================] - 1s 20ms/step - loss: 0.0371 - accuracy: 0.9890 - val_loss: 2.5667 - val_accuracy: 0.7260\n",
            "Epoch 38/40\n",
            "63/63 [==============================] - 1s 20ms/step - loss: 0.0420 - accuracy: 0.9895 - val_loss: 3.2254 - val_accuracy: 0.7430\n",
            "Epoch 39/40\n",
            "63/63 [==============================] - 1s 21ms/step - loss: 0.0661 - accuracy: 0.9835 - val_loss: 3.0892 - val_accuracy: 0.7240\n",
            "Epoch 40/40\n",
            "63/63 [==============================] - 1s 20ms/step - loss: 0.0730 - accuracy: 0.9830 - val_loss: 3.5779 - val_accuracy: 0.7240\n"
          ]
        }
      ],
      "source": [
        "callbacks = [\n",
        "    keras.callbacks.ModelCheckpoint(\n",
        "        filepath=\"convnet_from_scratch.keras\",\n",
        "        save_best_only=True,\n",
        "        monitor=\"val_loss\")\n",
        "]\n",
        "history = model.fit(\n",
        "    train_dataset,\n",
        "    epochs=40,\n",
        "    validation_data=validation_dataset,\n",
        "    callbacks=callbacks)"
      ]
    },
    {
      "cell_type": "markdown",
      "metadata": {
        "id": "s41FFIxMEI4j"
      },
      "source": [
        "**Displaying curves of loss and accuracy during training**"
      ]
    },
    {
      "cell_type": "code",
      "execution_count": null,
      "metadata": {
        "colab": {
          "base_uri": "https://localhost:8080/",
          "height": 545
        },
        "id": "ZES_aykmEI4j",
        "outputId": "7626a4f5-538b-4b62-98c4-fac8e766a8ee"
      },
      "outputs": [
        {
          "output_type": "display_data",
          "data": {
            "text/plain": [
              "<Figure size 432x288 with 1 Axes>"
            ],
            "image/png": "[encoded data removed]"
          },
          "metadata": {
            "needs_background": "light"
          }
        },
        {
          "output_type": "display_data",
          "data": {
            "text/plain": [
              "<Figure size 432x288 with 1 Axes>"
            ],
            "image/png": "[encoded data removed]"
          },
          "metadata": {
            "needs_background": "light"
          }
        }
      ],
      "source": [
        "import matplotlib.pyplot as plt\n",
        "accuracy = history.history[\"accuracy\"]\n",
        "val_accuracy = history.history[\"val_accuracy\"]\n",
        "loss = history.history[\"loss\"]\n",
        "val_loss = history.history[\"val_loss\"]\n",
        "epochs = range(1, len(accuracy) + 1)\n",
        "plt.plot(epochs, accuracy, \"bo\", label=\"Training accuracy\")\n",
        "plt.plot(epochs, val_accuracy, \"b\", label=\"Validation accuracy\")\n",
        "plt.title(\"Training and validation accuracy\")\n",
        "plt.legend()\n",
        "plt.figure()\n",
        "plt.plot(epochs, loss, \"bo\", label=\"Training loss\")\n",
        "plt.plot(epochs, val_loss, \"b\", label=\"Validation loss\")\n",
        "plt.title(\"Training and validation loss\")\n",
        "plt.legend()\n",
        "plt.show()"
      ]
    },
    {
      "cell_type": "markdown",
      "metadata": {
        "id": "AhXi919aEI4j"
      },
      "source": [
        "**Evaluating the model on the test set**"
      ]
    },
    {
      "cell_type": "code",
      "execution_count": null,
      "metadata": {
        "colab": {
          "base_uri": "https://localhost:8080/"
        },
        "id": "eyJJlI_fEI4k",
        "outputId": "32010796-16b0-425c-d4a9-6cf2ebf2b1d1"
      },
      "outputs": [
        {
          "output_type": "stream",
          "name": "stdout",
          "text": [
            "63/63 [==============================] - 1s 10ms/step - loss: 0.5952 - accuracy: 0.7045\n",
            "Test accuracy: 0.705\n"
          ]
        }
      ],
      "source": [
        "test_model = keras.models.load_model(\"convnet_from_scratch.keras\")\n",
        "test_loss, test_acc = test_model.evaluate(test_dataset)\n",
        "print(f\"Test accuracy: {test_acc:.3f}\")"
      ]
    },
    {
      "cell_type": "markdown",
      "metadata": {
        "id": "KyLD2xQUEI4k"
      },
      "source": [
        "### Using data augmentation"
      ]
    },
    {
      "cell_type": "markdown",
      "metadata": {
        "id": "tt7LvopJEI4k"
      },
      "source": [
        "**Define a data augmentation stage to add to an image model**"
      ]
    },
    {
      "cell_type": "code",
      "execution_count": null,
      "metadata": {
        "id": "bMEXEsoaEI4k"
      },
      "outputs": [],
      "source": [
        "data_augmentation = keras.Sequential(\n",
        "    [\n",
        "        layers.RandomFlip(\"horizontal\"),\n",
        "        layers.RandomRotation(0.1),\n",
        "        layers.RandomZoom(0.2),\n",
        "    ]\n",
        ")"
      ]
    },
    {
      "cell_type": "markdown",
      "metadata": {
        "id": "sFa55enNEI4k"
      },
      "source": [
        "**Displaying some randomly augmented training images**"
      ]
    },
    {
      "cell_type": "code",
      "execution_count": null,
      "metadata": {
        "colab": {
          "base_uri": "https://localhost:8080/",
          "height": 575
        },
        "id": "RYbmZA-VEI4k",
        "outputId": "c73b562f-52b7-47a0-dcae-2610d4d9ba7d"
      },
      "outputs": [
        {
          "output_type": "display_data",
          "data": {
            "text/plain": [
              "<Figure size 720x720 with 9 Axes>"
            ],
            "image/png": "[encoded data removed]"
          },
          "metadata": {
            "needs_background": "light"
          }
        }
      ],
      "source": [
        "plt.figure(figsize=(10, 10))\n",
        "for images, _ in train_dataset.take(1):\n",
        "    for i in range(9):\n",
        "        augmented_images = data_augmentation(images)\n",
        "        ax = plt.subplot(3, 3, i + 1)\n",
        "        plt.imshow(augmented_images[0].numpy().astype(\"uint8\"))\n",
        "        plt.axis(\"off\")"
      ]
    },
    {
      "cell_type": "markdown",
      "metadata": {
        "id": "8PfSOWybEI4k"
      },
      "source": [
        "**Defining a new convnet that includes image augmentation and dropout**"
      ]
    },
    {
      "cell_type": "code",
      "execution_count": null,
      "metadata": {
        "id": "Du5HTObyEI4k"
      },
      "outputs": [],
      "source": [
        "inputs = keras.Input(shape=(180, 180, 3))\n",
        "x = data_augmentation(inputs)\n",
        "x = layers.Rescaling(1./255)(x)\n",
        "x = layers.Conv2D(filters=32, kernel_size=4, activation=\"relu\")(x)\n",
        "x = layers.MaxPooling2D(pool_size=2)(x)\n",
        "x = layers.Conv2D(filters=64, kernel_size=4, activation=\"relu\")(x)\n",
        "x = layers.MaxPooling2D(pool_size=2)(x)\n",
        "x = layers.Conv2D(filters=128, kernel_size=4, activation=\"relu\")(x)\n",
        "x = layers.MaxPooling2D(pool_size=2)(x)\n",
        "x = layers.Conv2D(filters=256, kernel_size=4, activation=\"relu\")(x)\n",
        "x = layers.MaxPooling2D(pool_size=2)(x)\n",
        "x = layers.Conv2D(filters=256, kernel_size=4, activation=\"relu\")(x)\n",
        "x = layers.Flatten()(x)\n",
        "x = layers.Dropout(0.5)(x)\n",
        "outputs = layers.Dense(1, activation=\"sigmoid\")(x)\n",
        "model = keras.Model(inputs=inputs, outputs=outputs)\n",
        "\n",
        "model.compile(loss=\"binary_crossentropy\",\n",
        "              optimizer=\"rmsprop\",\n",
        "              metrics=[\"accuracy\"])"
      ]
    },
    {
      "cell_type": "markdown",
      "metadata": {
        "id": "ZeiOFgtVEI4k"
      },
      "source": [
        "**Training the regularized convnet**"
      ]
    },
    {
      "cell_type": "code",
      "execution_count": null,
      "metadata": {
        "colab": {
          "base_uri": "https://localhost:8080/"
        },
        "id": "90A_cvZiEI4l",
        "outputId": "537ce9d6-1eaa-4286-8890-4ad3de2309e3"
      },
      "outputs": [
        {
          "output_type": "stream",
          "name": "stdout",
          "text": [
            "Epoch 1/130\n",
            "63/63 [==============================] - 4s 38ms/step - loss: 0.7938 - accuracy: 0.5050 - val_loss: 0.6934 - val_accuracy: 0.5010\n",
            "Epoch 2/130\n",
            "63/63 [==============================] - 2s 36ms/step - loss: 0.7045 - accuracy: 0.5215 - val_loss: 0.6833 - val_accuracy: 0.5520\n",
            "Epoch 3/130\n",
            "63/63 [==============================] - 2s 35ms/step - loss: 0.6920 - accuracy: 0.5410 - val_loss: 0.6880 - val_accuracy: 0.5190\n",
            "Epoch 4/130\n",
            "63/63 [==============================] - 2s 37ms/step - loss: 0.6787 - accuracy: 0.6030 - val_loss: 0.6657 - val_accuracy: 0.5980\n",
            "Epoch 5/130\n",
            "63/63 [==============================] - 2s 35ms/step - loss: 0.6722 - accuracy: 0.6045 - val_loss: 0.6808 - val_accuracy: 0.5400\n",
            "Epoch 6/130\n",
            "63/63 [==============================] - 2s 36ms/step - loss: 0.6617 - accuracy: 0.6185 - val_loss: 0.6568 - val_accuracy: 0.6020\n",
            "Epoch 7/130\n",
            "63/63 [==============================] - 2s 35ms/step - loss: 0.6515 - accuracy: 0.6345 - val_loss: 0.7182 - val_accuracy: 0.6080\n",
            "Epoch 8/130\n",
            "63/63 [==============================] - 2s 35ms/step - loss: 0.6374 - accuracy: 0.6420 - val_loss: 0.6666 - val_accuracy: 0.6530\n",
            "Epoch 9/130\n",
            "63/63 [==============================] - 2s 37ms/step - loss: 0.6318 - accuracy: 0.6570 - val_loss: 0.6015 - val_accuracy: 0.6810\n",
            "Epoch 10/130\n",
            "63/63 [==============================] - 2s 36ms/step - loss: 0.6182 - accuracy: 0.6690 - val_loss: 0.5685 - val_accuracy: 0.7140\n",
            "Epoch 11/130\n",
            "63/63 [==============================] - 2s 35ms/step - loss: 0.5999 - accuracy: 0.6670 - val_loss: 0.5767 - val_accuracy: 0.7020\n",
            "Epoch 12/130\n",
            "63/63 [==============================] - 2s 36ms/step - loss: 0.5834 - accuracy: 0.6965 - val_loss: 0.5645 - val_accuracy: 0.7170\n",
            "Epoch 13/130\n",
            "63/63 [==============================] - 2s 35ms/step - loss: 0.5701 - accuracy: 0.6970 - val_loss: 0.5996 - val_accuracy: 0.6830\n",
            "Epoch 14/130\n",
            "63/63 [==============================] - 2s 36ms/step - loss: 0.5645 - accuracy: 0.7195 - val_loss: 0.5714 - val_accuracy: 0.7050\n",
            "Epoch 15/130\n",
            "63/63 [==============================] - 2s 35ms/step - loss: 0.5661 - accuracy: 0.7180 - val_loss: 0.5704 - val_accuracy: 0.7130\n",
            "Epoch 16/130\n",
            "63/63 [==============================] - 2s 35ms/step - loss: 0.5520 - accuracy: 0.7215 - val_loss: 0.6019 - val_accuracy: 0.6870\n",
            "Epoch 17/130\n",
            "63/63 [==============================] - 2s 35ms/step - loss: 0.5309 - accuracy: 0.7395 - val_loss: 0.5715 - val_accuracy: 0.7120\n",
            "Epoch 18/130\n",
            "63/63 [==============================] - 2s 35ms/step - loss: 0.5039 - accuracy: 0.7575 - val_loss: 0.5707 - val_accuracy: 0.7340\n",
            "Epoch 19/130\n",
            "63/63 [==============================] - 2s 36ms/step - loss: 0.5008 - accuracy: 0.7620 - val_loss: 0.5412 - val_accuracy: 0.7110\n",
            "Epoch 20/130\n",
            "63/63 [==============================] - 2s 35ms/step - loss: 0.5028 - accuracy: 0.7565 - val_loss: 0.5966 - val_accuracy: 0.7260\n",
            "Epoch 21/130\n",
            "63/63 [==============================] - 2s 35ms/step - loss: 0.4838 - accuracy: 0.7725 - val_loss: 0.4854 - val_accuracy: 0.7720\n",
            "Epoch 22/130\n",
            "63/63 [==============================] - 2s 35ms/step - loss: 0.4823 - accuracy: 0.7830 - val_loss: 0.5334 - val_accuracy: 0.7390\n",
            "Epoch 23/130\n",
            "63/63 [==============================] - 2s 36ms/step - loss: 0.5059 - accuracy: 0.7820 - val_loss: 0.4710 - val_accuracy: 0.7850\n",
            "Epoch 24/130\n",
            "63/63 [==============================] - 2s 35ms/step - loss: 0.4645 - accuracy: 0.7780 - val_loss: 0.5642 - val_accuracy: 0.7270\n",
            "Epoch 25/130\n",
            "63/63 [==============================] - 2s 36ms/step - loss: 0.4666 - accuracy: 0.7900 - val_loss: 0.4612 - val_accuracy: 0.7860\n",
            "Epoch 26/130\n",
            "63/63 [==============================] - 2s 36ms/step - loss: 0.4410 - accuracy: 0.7925 - val_loss: 0.4546 - val_accuracy: 0.7920\n",
            "Epoch 27/130\n",
            "63/63 [==============================] - 2s 35ms/step - loss: 0.4463 - accuracy: 0.7940 - val_loss: 0.5072 - val_accuracy: 0.7660\n",
            "Epoch 28/130\n",
            "63/63 [==============================] - 2s 38ms/step - loss: 0.4408 - accuracy: 0.7920 - val_loss: 0.6170 - val_accuracy: 0.7410\n",
            "Epoch 29/130\n",
            "63/63 [==============================] - 2s 35ms/step - loss: 0.3874 - accuracy: 0.8190 - val_loss: 0.6261 - val_accuracy: 0.7070\n",
            "Epoch 30/130\n",
            "63/63 [==============================] - 2s 35ms/step - loss: 0.3943 - accuracy: 0.8190 - val_loss: 0.5013 - val_accuracy: 0.7740\n",
            "Epoch 31/130\n",
            "63/63 [==============================] - 2s 35ms/step - loss: 0.4163 - accuracy: 0.8245 - val_loss: 0.4703 - val_accuracy: 0.7790\n",
            "Epoch 32/130\n",
            "63/63 [==============================] - 2s 35ms/step - loss: 0.3946 - accuracy: 0.8255 - val_loss: 0.5171 - val_accuracy: 0.7780\n",
            "Epoch 33/130\n",
            "63/63 [==============================] - 2s 36ms/step - loss: 0.3647 - accuracy: 0.8380 - val_loss: 0.5991 - val_accuracy: 0.7240\n",
            "Epoch 34/130\n",
            "63/63 [==============================] - 2s 35ms/step - loss: 0.3790 - accuracy: 0.8380 - val_loss: 0.6057 - val_accuracy: 0.7420\n",
            "Epoch 35/130\n",
            "63/63 [==============================] - 2s 35ms/step - loss: 0.4090 - accuracy: 0.8260 - val_loss: 0.4907 - val_accuracy: 0.7890\n",
            "Epoch 36/130\n",
            "63/63 [==============================] - 2s 35ms/step - loss: 0.3601 - accuracy: 0.8565 - val_loss: 0.4774 - val_accuracy: 0.7730\n",
            "Epoch 37/130\n",
            "63/63 [==============================] - 2s 35ms/step - loss: 0.3513 - accuracy: 0.8535 - val_loss: 0.5372 - val_accuracy: 0.8040\n",
            "Epoch 38/130\n",
            "63/63 [==============================] - 2s 38ms/step - loss: 0.3746 - accuracy: 0.8440 - val_loss: 0.4893 - val_accuracy: 0.7890\n",
            "Epoch 39/130\n",
            "63/63 [==============================] - 2s 35ms/step - loss: 0.3564 - accuracy: 0.8540 - val_loss: 0.4896 - val_accuracy: 0.8000\n",
            "Epoch 40/130\n",
            "63/63 [==============================] - 2s 35ms/step - loss: 0.3637 - accuracy: 0.8370 - val_loss: 0.5622 - val_accuracy: 0.7680\n",
            "Epoch 41/130\n",
            "63/63 [==============================] - 2s 35ms/step - loss: 0.3521 - accuracy: 0.8465 - val_loss: 0.4988 - val_accuracy: 0.7780\n",
            "Epoch 42/130\n",
            "63/63 [==============================] - 2s 35ms/step - loss: 0.3301 - accuracy: 0.8595 - val_loss: 1.0659 - val_accuracy: 0.7070\n",
            "Epoch 43/130\n",
            "63/63 [==============================] - 2s 36ms/step - loss: 0.3397 - accuracy: 0.8540 - val_loss: 0.4212 - val_accuracy: 0.8290\n",
            "Epoch 44/130\n",
            "63/63 [==============================] - 2s 35ms/step - loss: 0.3229 - accuracy: 0.8635 - val_loss: 0.4661 - val_accuracy: 0.7920\n",
            "Epoch 45/130\n",
            "63/63 [==============================] - 2s 35ms/step - loss: 0.3314 - accuracy: 0.8590 - val_loss: 0.5437 - val_accuracy: 0.8160\n",
            "Epoch 46/130\n",
            "63/63 [==============================] - 2s 35ms/step - loss: 0.3317 - accuracy: 0.8650 - val_loss: 1.1748 - val_accuracy: 0.6580\n",
            "Epoch 47/130\n",
            "63/63 [==============================] - 2s 35ms/step - loss: 0.3211 - accuracy: 0.8825 - val_loss: 0.5290 - val_accuracy: 0.7990\n",
            "Epoch 48/130\n",
            "63/63 [==============================] - 2s 35ms/step - loss: 0.2991 - accuracy: 0.8755 - val_loss: 0.4364 - val_accuracy: 0.8280\n",
            "Epoch 49/130\n",
            "63/63 [==============================] - 2s 35ms/step - loss: 0.2935 - accuracy: 0.8680 - val_loss: 0.4332 - val_accuracy: 0.8300\n",
            "Epoch 50/130\n",
            "63/63 [==============================] - 2s 35ms/step - loss: 0.3081 - accuracy: 0.8710 - val_loss: 0.4248 - val_accuracy: 0.8300\n",
            "Epoch 51/130\n",
            "63/63 [==============================] - 2s 35ms/step - loss: 0.2928 - accuracy: 0.8830 - val_loss: 0.5467 - val_accuracy: 0.7990\n",
            "Epoch 52/130\n",
            "63/63 [==============================] - 2s 35ms/step - loss: 0.2993 - accuracy: 0.8830 - val_loss: 0.4449 - val_accuracy: 0.8310\n",
            "Epoch 53/130\n",
            "63/63 [==============================] - 2s 35ms/step - loss: 0.3106 - accuracy: 0.8740 - val_loss: 0.4853 - val_accuracy: 0.8210\n",
            "Epoch 54/130\n",
            "63/63 [==============================] - 2s 35ms/step - loss: 0.3028 - accuracy: 0.8760 - val_loss: 0.4726 - val_accuracy: 0.8210\n",
            "Epoch 55/130\n",
            "63/63 [==============================] - 2s 35ms/step - loss: 0.2799 - accuracy: 0.8935 - val_loss: 0.9249 - val_accuracy: 0.7750\n",
            "Epoch 56/130\n",
            "63/63 [==============================] - 2s 35ms/step - loss: 0.3139 - accuracy: 0.8795 - val_loss: 0.4385 - val_accuracy: 0.8300\n",
            "Epoch 57/130\n",
            "63/63 [==============================] - 2s 35ms/step - loss: 0.2536 - accuracy: 0.8965 - val_loss: 0.4768 - val_accuracy: 0.8210\n",
            "Epoch 58/130\n",
            "63/63 [==============================] - 2s 35ms/step - loss: 0.2589 - accuracy: 0.9040 - val_loss: 0.6105 - val_accuracy: 0.8320\n",
            "Epoch 59/130\n",
            "63/63 [==============================] - 2s 35ms/step - loss: 0.2582 - accuracy: 0.9040 - val_loss: 0.6227 - val_accuracy: 0.8230\n",
            "Epoch 60/130\n",
            "63/63 [==============================] - 2s 34ms/step - loss: 0.2710 - accuracy: 0.8895 - val_loss: 0.6718 - val_accuracy: 0.8240\n",
            "Epoch 61/130\n",
            "63/63 [==============================] - 2s 35ms/step - loss: 0.2524 - accuracy: 0.9030 - val_loss: 0.4952 - val_accuracy: 0.8400\n",
            "Epoch 62/130\n",
            "63/63 [==============================] - 2s 37ms/step - loss: 0.2797 - accuracy: 0.8885 - val_loss: 0.4395 - val_accuracy: 0.8380\n",
            "Epoch 63/130\n",
            "63/63 [==============================] - 2s 35ms/step - loss: 0.2569 - accuracy: 0.9005 - val_loss: 0.6109 - val_accuracy: 0.8050\n",
            "Epoch 64/130\n",
            "63/63 [==============================] - 2s 35ms/step - loss: 0.2833 - accuracy: 0.8890 - val_loss: 0.5033 - val_accuracy: 0.8410\n",
            "Epoch 65/130\n",
            "63/63 [==============================] - 2s 35ms/step - loss: 0.2534 - accuracy: 0.9000 - val_loss: 0.4463 - val_accuracy: 0.8150\n",
            "Epoch 66/130\n",
            "63/63 [==============================] - 2s 35ms/step - loss: 0.2731 - accuracy: 0.9010 - val_loss: 0.8740 - val_accuracy: 0.7600\n",
            "Epoch 67/130\n",
            "63/63 [==============================] - 2s 35ms/step - loss: 0.2903 - accuracy: 0.8950 - val_loss: 0.4804 - val_accuracy: 0.8050\n",
            "Epoch 68/130\n",
            "63/63 [==============================] - 2s 35ms/step - loss: 0.2654 - accuracy: 0.8970 - val_loss: 0.5775 - val_accuracy: 0.8070\n",
            "Epoch 69/130\n",
            "63/63 [==============================] - 2s 35ms/step - loss: 0.2399 - accuracy: 0.9075 - val_loss: 0.5611 - val_accuracy: 0.8280\n",
            "Epoch 70/130\n",
            "63/63 [==============================] - 2s 34ms/step - loss: 0.3048 - accuracy: 0.8925 - val_loss: 0.5300 - val_accuracy: 0.8260\n",
            "Epoch 71/130\n",
            "63/63 [==============================] - 2s 35ms/step - loss: 0.2672 - accuracy: 0.8955 - val_loss: 0.5564 - val_accuracy: 0.8060\n",
            "Epoch 72/130\n",
            "63/63 [==============================] - 2s 36ms/step - loss: 0.2621 - accuracy: 0.9005 - val_loss: 0.5259 - val_accuracy: 0.8090\n",
            "Epoch 73/130\n",
            "63/63 [==============================] - 2s 35ms/step - loss: 0.2372 - accuracy: 0.9130 - val_loss: 0.6939 - val_accuracy: 0.8190\n",
            "Epoch 74/130\n",
            "63/63 [==============================] - 2s 35ms/step - loss: 0.3071 - accuracy: 0.8960 - val_loss: 1.0903 - val_accuracy: 0.7790\n",
            "Epoch 75/130\n",
            "63/63 [==============================] - 2s 35ms/step - loss: 0.2673 - accuracy: 0.9015 - val_loss: 0.6160 - val_accuracy: 0.8240\n",
            "Epoch 76/130\n",
            "63/63 [==============================] - 2s 35ms/step - loss: 0.3088 - accuracy: 0.8955 - val_loss: 0.4976 - val_accuracy: 0.8440\n",
            "Epoch 77/130\n",
            "63/63 [==============================] - 2s 35ms/step - loss: 0.2518 - accuracy: 0.8995 - val_loss: 0.7092 - val_accuracy: 0.8490\n",
            "Epoch 78/130\n",
            "63/63 [==============================] - 2s 35ms/step - loss: 0.2434 - accuracy: 0.9165 - val_loss: 0.7642 - val_accuracy: 0.8060\n",
            "Epoch 79/130\n",
            "63/63 [==============================] - 2s 35ms/step - loss: 0.2457 - accuracy: 0.9075 - val_loss: 0.6561 - val_accuracy: 0.8120\n",
            "Epoch 80/130\n",
            "63/63 [==============================] - 2s 35ms/step - loss: 0.2507 - accuracy: 0.9090 - val_loss: 0.6462 - val_accuracy: 0.8280\n",
            "Epoch 81/130\n",
            "63/63 [==============================] - 2s 35ms/step - loss: 0.2539 - accuracy: 0.8995 - val_loss: 0.5325 - val_accuracy: 0.8270\n",
            "Epoch 82/130\n",
            "63/63 [==============================] - 2s 36ms/step - loss: 0.2372 - accuracy: 0.9200 - val_loss: 0.7731 - val_accuracy: 0.7950\n",
            "Epoch 83/130\n",
            "63/63 [==============================] - 2s 35ms/step - loss: 0.2456 - accuracy: 0.9075 - val_loss: 0.6475 - val_accuracy: 0.8220\n",
            "Epoch 84/130\n",
            "63/63 [==============================] - 2s 35ms/step - loss: 0.2596 - accuracy: 0.9040 - val_loss: 0.5637 - val_accuracy: 0.8260\n",
            "Epoch 85/130\n",
            "63/63 [==============================] - 2s 35ms/step - loss: 0.2368 - accuracy: 0.9150 - val_loss: 0.5258 - val_accuracy: 0.8320\n",
            "Epoch 86/130\n",
            "63/63 [==============================] - 2s 35ms/step - loss: 0.2243 - accuracy: 0.9110 - val_loss: 0.5724 - val_accuracy: 0.8330\n",
            "Epoch 87/130\n",
            "63/63 [==============================] - 2s 35ms/step - loss: 0.2659 - accuracy: 0.9050 - val_loss: 0.6647 - val_accuracy: 0.8100\n",
            "Epoch 88/130\n",
            "63/63 [==============================] - 2s 35ms/step - loss: 0.2955 - accuracy: 0.8975 - val_loss: 0.7018 - val_accuracy: 0.7880\n",
            "Epoch 89/130\n",
            "63/63 [==============================] - 2s 35ms/step - loss: 0.2452 - accuracy: 0.9115 - val_loss: 0.7737 - val_accuracy: 0.8400\n",
            "Epoch 90/130\n",
            "63/63 [==============================] - 2s 35ms/step - loss: 0.2510 - accuracy: 0.9015 - val_loss: 1.2139 - val_accuracy: 0.7760\n",
            "Epoch 91/130\n",
            "63/63 [==============================] - 2s 35ms/step - loss: 0.2813 - accuracy: 0.8950 - val_loss: 0.9389 - val_accuracy: 0.8010\n",
            "Epoch 92/130\n",
            "63/63 [==============================] - 2s 35ms/step - loss: 0.2439 - accuracy: 0.9190 - val_loss: 0.6515 - val_accuracy: 0.8370\n",
            "Epoch 93/130\n",
            "63/63 [==============================] - 2s 35ms/step - loss: 0.2816 - accuracy: 0.9025 - val_loss: 0.5220 - val_accuracy: 0.8630\n",
            "Epoch 94/130\n",
            "63/63 [==============================] - 2s 35ms/step - loss: 0.2266 - accuracy: 0.9180 - val_loss: 0.5463 - val_accuracy: 0.8290\n",
            "Epoch 95/130\n",
            "63/63 [==============================] - 2s 35ms/step - loss: 0.2880 - accuracy: 0.9045 - val_loss: 0.8184 - val_accuracy: 0.8400\n",
            "Epoch 96/130\n",
            "63/63 [==============================] - 2s 38ms/step - loss: 0.2516 - accuracy: 0.9090 - val_loss: 0.8075 - val_accuracy: 0.8520\n",
            "Epoch 97/130\n",
            "63/63 [==============================] - 2s 35ms/step - loss: 0.2685 - accuracy: 0.9090 - val_loss: 1.0751 - val_accuracy: 0.7700\n",
            "Epoch 98/130\n",
            "63/63 [==============================] - 2s 35ms/step - loss: 0.2786 - accuracy: 0.9100 - val_loss: 0.9467 - val_accuracy: 0.7820\n",
            "Epoch 99/130\n",
            "63/63 [==============================] - 2s 35ms/step - loss: 0.2834 - accuracy: 0.9200 - val_loss: 0.5983 - val_accuracy: 0.7980\n",
            "Epoch 100/130\n",
            "63/63 [==============================] - 2s 35ms/step - loss: 0.2502 - accuracy: 0.9065 - val_loss: 0.7630 - val_accuracy: 0.8240\n",
            "Epoch 101/130\n",
            "63/63 [==============================] - 2s 35ms/step - loss: 0.2525 - accuracy: 0.9065 - val_loss: 0.5224 - val_accuracy: 0.8370\n",
            "Epoch 102/130\n",
            "63/63 [==============================] - 2s 35ms/step - loss: 0.2841 - accuracy: 0.9030 - val_loss: 0.5147 - val_accuracy: 0.8020\n",
            "Epoch 103/130\n",
            "63/63 [==============================] - 2s 35ms/step - loss: 0.2472 - accuracy: 0.9115 - val_loss: 0.6268 - val_accuracy: 0.8160\n",
            "Epoch 104/130\n",
            "63/63 [==============================] - 2s 35ms/step - loss: 0.2507 - accuracy: 0.9160 - val_loss: 1.7366 - val_accuracy: 0.7620\n",
            "Epoch 105/130\n",
            "63/63 [==============================] - 2s 35ms/step - loss: 0.2868 - accuracy: 0.9140 - val_loss: 1.2965 - val_accuracy: 0.8000\n",
            "Epoch 106/130\n",
            "63/63 [==============================] - 2s 35ms/step - loss: 0.2520 - accuracy: 0.9110 - val_loss: 0.6551 - val_accuracy: 0.8390\n",
            "Epoch 107/130\n",
            "63/63 [==============================] - 2s 35ms/step - loss: 0.3762 - accuracy: 0.8950 - val_loss: 0.6847 - val_accuracy: 0.8390\n",
            "Epoch 108/130\n",
            "63/63 [==============================] - 2s 36ms/step - loss: 0.2635 - accuracy: 0.9110 - val_loss: 0.6712 - val_accuracy: 0.8480\n",
            "Epoch 109/130\n",
            "63/63 [==============================] - 2s 35ms/step - loss: 0.2661 - accuracy: 0.9145 - val_loss: 1.1326 - val_accuracy: 0.7820\n",
            "Epoch 110/130\n",
            "63/63 [==============================] - 2s 35ms/step - loss: 0.2220 - accuracy: 0.9325 - val_loss: 0.7908 - val_accuracy: 0.8460\n",
            "Epoch 111/130\n",
            "63/63 [==============================] - 2s 35ms/step - loss: 0.2887 - accuracy: 0.9005 - val_loss: 0.4684 - val_accuracy: 0.8410\n",
            "Epoch 112/130\n",
            "63/63 [==============================] - 2s 35ms/step - loss: 0.2383 - accuracy: 0.9145 - val_loss: 0.8860 - val_accuracy: 0.8120\n",
            "Epoch 113/130\n",
            "63/63 [==============================] - 2s 35ms/step - loss: 0.4038 - accuracy: 0.8875 - val_loss: 0.6416 - val_accuracy: 0.8070\n",
            "Epoch 114/130\n",
            "63/63 [==============================] - 2s 35ms/step - loss: 0.2516 - accuracy: 0.9095 - val_loss: 0.5936 - val_accuracy: 0.8400\n",
            "Epoch 115/130\n",
            "63/63 [==============================] - 2s 35ms/step - loss: 0.2326 - accuracy: 0.9170 - val_loss: 0.7840 - val_accuracy: 0.8410\n",
            "Epoch 116/130\n",
            "63/63 [==============================] - 2s 35ms/step - loss: 0.2470 - accuracy: 0.9085 - val_loss: 1.0150 - val_accuracy: 0.8370\n",
            "Epoch 117/130\n",
            "63/63 [==============================] - 2s 35ms/step - loss: 0.2575 - accuracy: 0.9165 - val_loss: 0.8012 - val_accuracy: 0.8440\n",
            "Epoch 118/130\n",
            "63/63 [==============================] - 2s 35ms/step - loss: 0.2471 - accuracy: 0.9150 - val_loss: 0.8102 - val_accuracy: 0.8450\n",
            "Epoch 119/130\n",
            "63/63 [==============================] - 2s 36ms/step - loss: 0.3074 - accuracy: 0.8940 - val_loss: 0.5981 - val_accuracy: 0.8110\n",
            "Epoch 120/130\n",
            "63/63 [==============================] - 2s 35ms/step - loss: 0.2561 - accuracy: 0.9165 - val_loss: 0.8081 - val_accuracy: 0.7950\n",
            "Epoch 121/130\n",
            "63/63 [==============================] - 2s 35ms/step - loss: 0.2707 - accuracy: 0.9105 - val_loss: 0.6266 - val_accuracy: 0.8380\n",
            "Epoch 122/130\n",
            "63/63 [==============================] - 2s 35ms/step - loss: 0.2776 - accuracy: 0.9080 - val_loss: 0.9401 - val_accuracy: 0.8010\n",
            "Epoch 123/130\n",
            "63/63 [==============================] - 2s 35ms/step - loss: 0.3333 - accuracy: 0.9000 - val_loss: 1.2105 - val_accuracy: 0.8050\n",
            "Epoch 124/130\n",
            "63/63 [==============================] - 2s 35ms/step - loss: 0.2865 - accuracy: 0.9050 - val_loss: 0.5899 - val_accuracy: 0.8350\n",
            "Epoch 125/130\n",
            "63/63 [==============================] - 2s 35ms/step - loss: 0.2979 - accuracy: 0.9040 - val_loss: 0.5898 - val_accuracy: 0.8020\n",
            "Epoch 126/130\n",
            "63/63 [==============================] - 2s 35ms/step - loss: 0.2945 - accuracy: 0.9065 - val_loss: 0.8142 - val_accuracy: 0.8550\n",
            "Epoch 127/130\n",
            "63/63 [==============================] - 2s 35ms/step - loss: 0.3177 - accuracy: 0.9000 - val_loss: 0.5366 - val_accuracy: 0.8480\n",
            "Epoch 128/130\n",
            "63/63 [==============================] - 2s 35ms/step - loss: 0.2690 - accuracy: 0.9110 - val_loss: 1.5027 - val_accuracy: 0.7130\n",
            "Epoch 129/130\n",
            "63/63 [==============================] - 2s 35ms/step - loss: 0.3035 - accuracy: 0.9015 - val_loss: 0.8833 - val_accuracy: 0.8160\n",
            "Epoch 130/130\n",
            "63/63 [==============================] - 2s 36ms/step - loss: 0.2749 - accuracy: 0.9140 - val_loss: 1.3147 - val_accuracy: 0.7950\n"
          ]
        }
      ],
      "source": [
        "callbacks = [\n",
        "    keras.callbacks.ModelCheckpoint(\n",
        "        filepath=\"convnet_from_scratch_with_augmentation.keras\",\n",
        "        save_best_only=True,\n",
        "        monitor=\"val_loss\")\n",
        "]\n",
        "history = model.fit(\n",
        "    train_dataset,\n",
        "    epochs=130,\n",
        "    validation_data=validation_dataset,\n",
        "    callbacks=callbacks)"
      ]
    },
    {
      "cell_type": "markdown",
      "metadata": {
        "id": "vhFMmsqpEI4l"
      },
      "source": [
        "**Evaluating the model on the test set**"
      ]
    },
    {
      "cell_type": "code",
      "execution_count": null,
      "metadata": {
        "colab": {
          "base_uri": "https://localhost:8080/"
        },
        "id": "lHr3rssZEI4l",
        "outputId": "96db76ee-c838-428d-f32b-6ade6e74ffb2"
      },
      "outputs": [
        {
          "output_type": "stream",
          "name": "stdout",
          "text": [
            "63/63 [==============================] - 1s 10ms/step - loss: 0.5458 - accuracy: 0.8040\n",
            "Test accuracy: 0.804\n"
          ]
        }
      ],
      "source": [
        "test_model = keras.models.load_model(\n",
        "    \"convnet_from_scratch_with_augmentation.keras\")\n",
        "test_loss, test_acc = test_model.evaluate(test_dataset)\n",
        "print(f\"Test accuracy: {test_acc:.3f}\")"
      ]
    },
    {
      "cell_type": "markdown",
      "metadata": {
        "id": "O477yb73EI4l"
      },
      "source": [
        "## Leveraging a pretrained model"
      ]
    },
    {
      "cell_type": "markdown",
      "metadata": {
        "id": "wYEw7o4WEI4l"
      },
      "source": [
        "### Feature extraction with a pretrained model"
      ]
    },
    {
      "cell_type": "markdown",
      "metadata": {
        "id": "_OOipWR5EI4l"
      },
      "source": [
        "**Instantiating the VGG16 convolutional base**"
      ]
    },
    {
      "cell_type": "code",
      "execution_count": null,
      "metadata": {
        "id": "vNZuLahgEI4l"
      },
      "outputs": [],
      "source": [
        "conv_base = keras.applications.vgg16.VGG16(\n",
        "    weights=\"imagenet\",\n",
        "    include_top=False,\n",
        "    input_shape=(180, 180, 3))"
      ]
    },
    {
      "cell_type": "code",
      "execution_count": null,
      "metadata": {
        "colab": {
          "base_uri": "https://localhost:8080/"
        },
        "id": "yeyjgXLoEI4l",
        "outputId": "0527e861-30b6-4d23-a09e-c597db026c7b"
      },
      "outputs": [
        {
          "output_type": "stream",
          "name": "stdout",
          "text": [
            "Model: \"vgg16\"\n",
            "_________________________________________________________________\n",
            " Layer (type)                Output Shape              Param #   \n",
            "=================================================================\n",
            " input_34 (InputLayer)       [(None, 180, 180, 3)]     0         \n",
            "                                                                 \n",
            " block1_conv1 (Conv2D)       (None, 180, 180, 64)      1792      \n",
            "                                                                 \n",
            " block1_conv2 (Conv2D)       (None, 180, 180, 64)      36928     \n",
            "                                                                 \n",
            " block1_pool (MaxPooling2D)  (None, 90, 90, 64)        0         \n",
            "                                                                 \n",
            " block2_conv1 (Conv2D)       (None, 90, 90, 128)       73856     \n",
            "                                                                 \n",
            " block2_conv2 (Conv2D)       (None, 90, 90, 128)       147584    \n",
            "                                                                 \n",
            " block2_pool (MaxPooling2D)  (None, 45, 45, 128)       0         \n",
            "                                                                 \n",
            " block3_conv1 (Conv2D)       (None, 45, 45, 256)       295168    \n",
            "                                                                 \n",
            " block3_conv2 (Conv2D)       (None, 45, 45, 256)       590080    \n",
            "                                                                 \n",
            " block3_conv3 (Conv2D)       (None, 45, 45, 256)       590080    \n",
            "                                                                 \n",
            " block3_pool (MaxPooling2D)  (None, 22, 22, 256)       0         \n",
            "                                                                 \n",
            " block4_conv1 (Conv2D)       (None, 22, 22, 512)       1180160   \n",
            "                                                                 \n",
            " block4_conv2 (Conv2D)       (None, 22, 22, 512)       2359808   \n",
            "                                                                 \n",
            " block4_conv3 (Conv2D)       (None, 22, 22, 512)       2359808   \n",
            "                                                                 \n",
            " block4_pool (MaxPooling2D)  (None, 11, 11, 512)       0         \n",
            "                                                                 \n",
            " block5_conv1 (Conv2D)       (None, 11, 11, 512)       2359808   \n",
            "                                                                 \n",
            " block5_conv2 (Conv2D)       (None, 11, 11, 512)       2359808   \n",
            "                                                                 \n",
            " block5_conv3 (Conv2D)       (None, 11, 11, 512)       2359808   \n",
            "                                                                 \n",
            " block5_pool (MaxPooling2D)  (None, 5, 5, 512)         0         \n",
            "                                                                 \n",
            "=================================================================\n",
            "Total params: 14,714,688\n",
            "Trainable params: 14,714,688\n",
            "Non-trainable params: 0\n",
            "_________________________________________________________________\n"
          ]
        }
      ],
      "source": [
        "conv_base.summary()"
      ]
    },
    {
      "cell_type": "markdown",
      "metadata": {
        "id": "TV_PFY3_EI4l"
      },
      "source": [
        "#### Fast feature extraction without data augmentation"
      ]
    },
    {
      "cell_type": "markdown",
      "metadata": {
        "id": "A7TcUiroEI4l"
      },
      "source": [
        "**Extracting the VGG16 features and corresponding labels**"
      ]
    },
    {
      "cell_type": "code",
      "execution_count": null,
      "metadata": {
        "colab": {
          "base_uri": "https://localhost:8080/"
        },
        "id": "LrZ1PZsWEI4m",
        "outputId": "e5344454-1466-4d89-e86a-f64a8120e0d8"
      },
      "outputs": [
        {
          "output_type": "stream",
          "name": "stdout",
          "text": [
            "1/1 [==============================] - 0s 131ms/step\n",
            "1/1 [==============================] - 0s 23ms/step\n",
            "1/1 [==============================] - 0s 22ms/step\n",
            "1/1 [==============================] - 0s 23ms/step\n",
            "1/1 [==============================] - 0s 26ms/step\n",
            "1/1 [==============================] - 0s 23ms/step\n",
            "1/1 [==============================] - 0s 23ms/step\n",
            "1/1 [==============================] - 0s 23ms/step\n",
            "1/1 [==============================] - 0s 24ms/step\n",
            "1/1 [==============================] - 0s 24ms/step\n",
            "1/1 [==============================] - 0s 23ms/step\n",
            "1/1 [==============================] - 0s 25ms/step\n",
            "1/1 [==============================] - 0s 24ms/step\n",
            "1/1 [==============================] - 0s 24ms/step\n",
            "1/1 [==============================] - 0s 24ms/step\n",
            "1/1 [==============================] - 0s 23ms/step\n",
            "1/1 [==============================] - 0s 22ms/step\n",
            "1/1 [==============================] - 0s 23ms/step\n",
            "1/1 [==============================] - 0s 22ms/step\n",
            "1/1 [==============================] - 0s 22ms/step\n",
            "1/1 [==============================] - 0s 22ms/step\n",
            "1/1 [==============================] - 0s 22ms/step\n",
            "1/1 [==============================] - 0s 24ms/step\n",
            "1/1 [==============================] - 0s 25ms/step\n",
            "1/1 [==============================] - 0s 23ms/step\n",
            "1/1 [==============================] - 0s 23ms/step\n",
            "1/1 [==============================] - 0s 22ms/step\n",
            "1/1 [==============================] - 0s 23ms/step\n",
            "1/1 [==============================] - 0s 22ms/step\n",
            "1/1 [==============================] - 0s 22ms/step\n",
            "1/1 [==============================] - 0s 22ms/step\n",
            "1/1 [==============================] - 0s 22ms/step\n",
            "1/1 [==============================] - 0s 22ms/step\n",
            "1/1 [==============================] - 0s 23ms/step\n",
            "1/1 [==============================] - 0s 22ms/step\n",
            "1/1 [==============================] - 0s 22ms/step\n",
            "1/1 [==============================] - 0s 22ms/step\n",
            "1/1 [==============================] - 0s 22ms/step\n",
            "1/1 [==============================] - 0s 23ms/step\n",
            "1/1 [==============================] - 0s 23ms/step\n",
            "1/1 [==============================] - 0s 23ms/step\n",
            "1/1 [==============================] - 0s 23ms/step\n",
            "1/1 [==============================] - 0s 23ms/step\n",
            "1/1 [==============================] - 0s 23ms/step\n",
            "1/1 [==============================] - 0s 23ms/step\n",
            "1/1 [==============================] - 0s 23ms/step\n",
            "1/1 [==============================] - 0s 22ms/step\n",
            "1/1 [==============================] - 0s 23ms/step\n",
            "1/1 [==============================] - 0s 22ms/step\n",
            "1/1 [==============================] - 0s 22ms/step\n",
            "1/1 [==============================] - 0s 23ms/step\n",
            "1/1 [==============================] - 0s 23ms/step\n",
            "1/1 [==============================] - 0s 23ms/step\n",
            "1/1 [==============================] - 0s 22ms/step\n",
            "1/1 [==============================] - 0s 22ms/step\n",
            "1/1 [==============================] - 0s 21ms/step\n",
            "1/1 [==============================] - 0s 22ms/step\n",
            "1/1 [==============================] - 0s 21ms/step\n",
            "1/1 [==============================] - 0s 23ms/step\n",
            "1/1 [==============================] - 0s 22ms/step\n",
            "1/1 [==============================] - 0s 23ms/step\n",
            "1/1 [==============================] - 0s 22ms/step\n",
            "1/1 [==============================] - 0s 122ms/step\n",
            "1/1 [==============================] - 0s 22ms/step\n",
            "1/1 [==============================] - 0s 22ms/step\n",
            "1/1 [==============================] - 0s 22ms/step\n",
            "1/1 [==============================] - 0s 22ms/step\n",
            "1/1 [==============================] - 0s 22ms/step\n",
            "1/1 [==============================] - 0s 22ms/step\n",
            "1/1 [==============================] - 0s 22ms/step\n",
            "1/1 [==============================] - 0s 23ms/step\n",
            "1/1 [==============================] - 0s 23ms/step\n",
            "1/1 [==============================] - 0s 23ms/step\n",
            "1/1 [==============================] - 0s 22ms/step\n",
            "1/1 [==============================] - 0s 23ms/step\n",
            "1/1 [==============================] - 0s 22ms/step\n",
            "1/1 [==============================] - 0s 22ms/step\n",
            "1/1 [==============================] - 0s 22ms/step\n",
            "1/1 [==============================] - 0s 22ms/step\n",
            "1/1 [==============================] - 0s 22ms/step\n",
            "1/1 [==============================] - 0s 23ms/step\n",
            "1/1 [==============================] - 0s 23ms/step\n",
            "1/1 [==============================] - 0s 23ms/step\n",
            "1/1 [==============================] - 0s 23ms/step\n",
            "1/1 [==============================] - 0s 22ms/step\n",
            "1/1 [==============================] - 0s 22ms/step\n",
            "1/1 [==============================] - 0s 23ms/step\n",
            "1/1 [==============================] - 0s 22ms/step\n",
            "1/1 [==============================] - 0s 22ms/step\n",
            "1/1 [==============================] - 0s 22ms/step\n",
            "1/1 [==============================] - 0s 22ms/step\n",
            "1/1 [==============================] - 0s 25ms/step\n",
            "1/1 [==============================] - 0s 23ms/step\n",
            "1/1 [==============================] - 0s 22ms/step\n",
            "1/1 [==============================] - 0s 22ms/step\n",
            "1/1 [==============================] - 0s 22ms/step\n",
            "1/1 [==============================] - 0s 22ms/step\n",
            "1/1 [==============================] - 0s 23ms/step\n",
            "1/1 [==============================] - 0s 22ms/step\n",
            "1/1 [==============================] - 0s 22ms/step\n",
            "1/1 [==============================] - 0s 22ms/step\n",
            "1/1 [==============================] - 0s 22ms/step\n",
            "1/1 [==============================] - 0s 22ms/step\n",
            "1/1 [==============================] - 0s 22ms/step\n",
            "1/1 [==============================] - 0s 22ms/step\n",
            "1/1 [==============================] - 0s 22ms/step\n",
            "1/1 [==============================] - 0s 22ms/step\n",
            "1/1 [==============================] - 0s 22ms/step\n",
            "1/1 [==============================] - 0s 23ms/step\n",
            "1/1 [==============================] - 0s 23ms/step\n",
            "1/1 [==============================] - 0s 22ms/step\n",
            "1/1 [==============================] - 0s 22ms/step\n",
            "1/1 [==============================] - 0s 22ms/step\n",
            "1/1 [==============================] - 0s 22ms/step\n",
            "1/1 [==============================] - 0s 23ms/step\n",
            "1/1 [==============================] - 0s 23ms/step\n",
            "1/1 [==============================] - 0s 23ms/step\n",
            "1/1 [==============================] - 0s 23ms/step\n",
            "1/1 [==============================] - 0s 22ms/step\n",
            "1/1 [==============================] - 0s 23ms/step\n",
            "1/1 [==============================] - 0s 25ms/step\n",
            "1/1 [==============================] - 0s 22ms/step\n",
            "1/1 [==============================] - 0s 22ms/step\n",
            "1/1 [==============================] - 0s 22ms/step\n",
            "1/1 [==============================] - 0s 23ms/step\n",
            "1/1 [==============================] - 0s 23ms/step\n",
            "1/1 [==============================] - 0s 22ms/step\n",
            "1/1 [==============================] - 0s 26ms/step\n",
            "1/1 [==============================] - 0s 22ms/step\n",
            "1/1 [==============================] - 0s 23ms/step\n",
            "1/1 [==============================] - 0s 22ms/step\n",
            "1/1 [==============================] - 0s 25ms/step\n",
            "1/1 [==============================] - 0s 23ms/step\n",
            "1/1 [==============================] - 0s 22ms/step\n",
            "1/1 [==============================] - 0s 22ms/step\n",
            "1/1 [==============================] - 0s 22ms/step\n",
            "1/1 [==============================] - 0s 23ms/step\n",
            "1/1 [==============================] - 0s 24ms/step\n",
            "1/1 [==============================] - 0s 22ms/step\n",
            "1/1 [==============================] - 0s 22ms/step\n",
            "1/1 [==============================] - 0s 22ms/step\n",
            "1/1 [==============================] - 0s 22ms/step\n",
            "1/1 [==============================] - 0s 22ms/step\n",
            "1/1 [==============================] - 0s 23ms/step\n",
            "1/1 [==============================] - 0s 22ms/step\n",
            "1/1 [==============================] - 0s 22ms/step\n",
            "1/1 [==============================] - 0s 22ms/step\n",
            "1/1 [==============================] - 0s 22ms/step\n",
            "1/1 [==============================] - 0s 22ms/step\n",
            "1/1 [==============================] - 0s 25ms/step\n",
            "1/1 [==============================] - 0s 22ms/step\n",
            "1/1 [==============================] - 0s 22ms/step\n",
            "1/1 [==============================] - 0s 22ms/step\n",
            "1/1 [==============================] - 0s 22ms/step\n",
            "1/1 [==============================] - 0s 22ms/step\n",
            "1/1 [==============================] - 0s 22ms/step\n",
            "1/1 [==============================] - 0s 22ms/step\n",
            "1/1 [==============================] - 0s 21ms/step\n"
          ]
        }
      ],
      "source": [
        "import numpy as np\n",
        "\n",
        "def get_features_and_labels(dataset):\n",
        "    all_features = []\n",
        "    all_labels = []\n",
        "    for images, labels in dataset:\n",
        "        preprocessed_images = keras.applications.vgg16.preprocess_input(images)\n",
        "        features = conv_base.predict(preprocessed_images)\n",
        "        all_features.append(features)\n",
        "        all_labels.append(labels)\n",
        "    return np.concatenate(all_features), np.concatenate(all_labels)\n",
        "\n",
        "train_features, train_labels =  get_features_and_labels(train_dataset)\n",
        "val_features, val_labels =  get_features_and_labels(validation_dataset)\n",
        "test_features, test_labels =  get_features_and_labels(test_dataset)"
      ]
    },
    {
      "cell_type": "code",
      "execution_count": null,
      "metadata": {
        "colab": {
          "base_uri": "https://localhost:8080/"
        },
        "id": "NdBT3QBuEI4m",
        "outputId": "924d6260-fd77-403b-b53e-200c217a24cb"
      },
      "outputs": [
        {
          "output_type": "execute_result",
          "data": {
            "text/plain": [
              "(2000, 5, 5, 512)"
            ]
          },
          "metadata": {},
          "execution_count": 197
        }
      ],
      "source": [
        "train_features.shape"
      ]
    },
    {
      "cell_type": "markdown",
      "metadata": {
        "id": "OaA61lm0EI4m"
      },
      "source": [
        "**Defining and training the densely connected classifier**"
      ]
    },
    {
      "cell_type": "code",
      "execution_count": null,
      "metadata": {
        "colab": {
          "base_uri": "https://localhost:8080/"
        },
        "id": "cUl_Gq5PEI4m",
        "outputId": "fffc447a-a11f-498c-b4a8-1d1e656e819c"
      },
      "outputs": [
        {
          "output_type": "stream",
          "name": "stdout",
          "text": [
            "Epoch 1/30\n",
            "63/63 [==============================] - 1s 8ms/step - loss: 7.6647 - accuracy: 0.5030 - val_loss: 7.7125 - val_accuracy: 0.5000\n",
            "Epoch 2/30\n",
            "63/63 [==============================] - 0s 4ms/step - loss: 7.7125 - accuracy: 0.5000 - val_loss: 7.7125 - val_accuracy: 0.5000\n",
            "Epoch 3/30\n",
            "63/63 [==============================] - 0s 5ms/step - loss: 7.7125 - accuracy: 0.5000 - val_loss: 7.7125 - val_accuracy: 0.5000\n",
            "Epoch 4/30\n",
            "63/63 [==============================] - 0s 4ms/step - loss: 7.7125 - accuracy: 0.5000 - val_loss: 7.7125 - val_accuracy: 0.5000\n",
            "Epoch 5/30\n",
            "63/63 [==============================] - 0s 4ms/step - loss: 7.7125 - accuracy: 0.5000 - val_loss: 7.7125 - val_accuracy: 0.5000\n",
            "Epoch 6/30\n",
            "63/63 [==============================] - 0s 4ms/step - loss: 7.7125 - accuracy: 0.5000 - val_loss: 7.7125 - val_accuracy: 0.5000\n",
            "Epoch 7/30\n",
            "63/63 [==============================] - 0s 4ms/step - loss: 7.7125 - accuracy: 0.5000 - val_loss: 7.7125 - val_accuracy: 0.5000\n",
            "Epoch 8/30\n",
            "63/63 [==============================] - 0s 4ms/step - loss: 7.7125 - accuracy: 0.5000 - val_loss: 7.7125 - val_accuracy: 0.5000\n",
            "Epoch 9/30\n",
            "63/63 [==============================] - 0s 4ms/step - loss: 7.7125 - accuracy: 0.5000 - val_loss: 7.7125 - val_accuracy: 0.5000\n",
            "Epoch 10/30\n",
            "63/63 [==============================] - 0s 4ms/step - loss: 7.7125 - accuracy: 0.5000 - val_loss: 7.7125 - val_accuracy: 0.5000\n",
            "Epoch 11/30\n",
            "63/63 [==============================] - 0s 4ms/step - loss: 7.7125 - accuracy: 0.5000 - val_loss: 7.7125 - val_accuracy: 0.5000\n",
            "Epoch 12/30\n",
            "63/63 [==============================] - 0s 7ms/step - loss: 7.7125 - accuracy: 0.5000 - val_loss: 7.7125 - val_accuracy: 0.5000\n",
            "Epoch 13/30\n",
            "63/63 [==============================] - 0s 4ms/step - loss: 7.7125 - accuracy: 0.5000 - val_loss: 7.7125 - val_accuracy: 0.5000\n",
            "Epoch 14/30\n",
            "63/63 [==============================] - 0s 4ms/step - loss: 7.7125 - accuracy: 0.5000 - val_loss: 7.7125 - val_accuracy: 0.5000\n",
            "Epoch 15/30\n",
            "63/63 [==============================] - 0s 4ms/step - loss: 7.7125 - accuracy: 0.5000 - val_loss: 7.7125 - val_accuracy: 0.5000\n",
            "Epoch 16/30\n",
            "63/63 [==============================] - 0s 4ms/step - loss: 7.7125 - accuracy: 0.5000 - val_loss: 7.7125 - val_accuracy: 0.5000\n",
            "Epoch 17/30\n",
            "63/63 [==============================] - 0s 4ms/step - loss: 7.7125 - accuracy: 0.5000 - val_loss: 7.7125 - val_accuracy: 0.5000\n",
            "Epoch 18/30\n",
            "63/63 [==============================] - 0s 5ms/step - loss: 7.7125 - accuracy: 0.5000 - val_loss: 7.7125 - val_accuracy: 0.5000\n",
            "Epoch 19/30\n",
            "63/63 [==============================] - 0s 4ms/step - loss: 7.7125 - accuracy: 0.5000 - val_loss: 7.7125 - val_accuracy: 0.5000\n",
            "Epoch 20/30\n",
            "63/63 [==============================] - 0s 4ms/step - loss: 7.7125 - accuracy: 0.5000 - val_loss: 7.7125 - val_accuracy: 0.5000\n",
            "Epoch 21/30\n",
            "63/63 [==============================] - 0s 4ms/step - loss: 7.7125 - accuracy: 0.5000 - val_loss: 7.7125 - val_accuracy: 0.5000\n",
            "Epoch 22/30\n",
            "63/63 [==============================] - 0s 4ms/step - loss: 7.7125 - accuracy: 0.5000 - val_loss: 7.7125 - val_accuracy: 0.5000\n",
            "Epoch 23/30\n",
            "63/63 [==============================] - 0s 4ms/step - loss: 7.7125 - accuracy: 0.5000 - val_loss: 7.7125 - val_accuracy: 0.5000\n",
            "Epoch 24/30\n",
            "63/63 [==============================] - 0s 4ms/step - loss: 7.7125 - accuracy: 0.5000 - val_loss: 7.7125 - val_accuracy: 0.5000\n",
            "Epoch 25/30\n",
            "63/63 [==============================] - 0s 4ms/step - loss: 7.7125 - accuracy: 0.5000 - val_loss: 7.7125 - val_accuracy: 0.5000\n",
            "Epoch 26/30\n",
            "63/63 [==============================] - 0s 4ms/step - loss: 7.7125 - accuracy: 0.5000 - val_loss: 7.7125 - val_accuracy: 0.5000\n",
            "Epoch 27/30\n",
            "63/63 [==============================] - 0s 4ms/step - loss: 7.7125 - accuracy: 0.5000 - val_loss: 7.7125 - val_accuracy: 0.5000\n",
            "Epoch 28/30\n",
            "63/63 [==============================] - 0s 4ms/step - loss: 7.7125 - accuracy: 0.5000 - val_loss: 7.7125 - val_accuracy: 0.5000\n",
            "Epoch 29/30\n",
            "63/63 [==============================] - 0s 4ms/step - loss: 7.7125 - accuracy: 0.5000 - val_loss: 7.7125 - val_accuracy: 0.5000\n",
            "Epoch 30/30\n",
            "63/63 [==============================] - 0s 5ms/step - loss: 7.7125 - accuracy: 0.5000 - val_loss: 7.7125 - val_accuracy: 0.5000\n"
          ]
        }
      ],
      "source": [
        "inputs = keras.Input(shape=(5, 5, 512))\n",
        "x = layers.Flatten()(inputs)\n",
        "x = layers.Dense(256)(x)\n",
        "x = layers.Dropout(0.5)(x)\n",
        "outputs = layers.Dense(1, activation=\"relu\")(x)\n",
        "model = keras.Model(inputs, outputs)\n",
        "model.compile(loss=\"binary_crossentropy\",\n",
        "              optimizer=\"rmsprop\",\n",
        "              metrics=[\"accuracy\"])\n",
        "\n",
        "callbacks = [\n",
        "    keras.callbacks.ModelCheckpoint(\n",
        "      filepath=\"feature_extraction.keras\",\n",
        "      save_best_only=True,\n",
        "      monitor=\"val_loss\")\n",
        "]\n",
        "history = model.fit(\n",
        "    train_features, train_labels,\n",
        "    epochs=30,\n",
        "    validation_data=(val_features, val_labels),\n",
        "    callbacks=callbacks)"
      ]
    },
    {
      "cell_type": "markdown",
      "metadata": {
        "id": "lmClbOByEI4m"
      },
      "source": [
        "**Plotting the results**"
      ]
    },
    {
      "cell_type": "code",
      "execution_count": null,
      "metadata": {
        "colab": {
          "base_uri": "https://localhost:8080/",
          "height": 545
        },
        "id": "B_eiPRV_EI4m",
        "outputId": "a0bbc485-a7a0-4b99-ab25-c59cbb5b9358"
      },
      "outputs": [
        {
          "output_type": "display_data",
          "data": {
            "text/plain": [
              "<Figure size 432x288 with 1 Axes>"
            ],
            "image/png": "[encoded data removed]"
          },
          "metadata": {
            "needs_background": "light"
          }
        },
        {
          "output_type": "display_data",
          "data": {
            "text/plain": [
              "<Figure size 432x288 with 1 Axes>"
            ],
            "image/png": "[encoded data removed]"
          },
          "metadata": {
            "needs_background": "light"
          }
        }
      ],
      "source": [
        "import matplotlib.pyplot as plt\n",
        "acc = history.history[\"accuracy\"]\n",
        "val_acc = history.history[\"val_accuracy\"]\n",
        "loss = history.history[\"loss\"]\n",
        "val_loss = history.history[\"val_loss\"]\n",
        "epochs = range(1, len(acc) + 1)\n",
        "plt.plot(epochs, acc, \"bo\", label=\"Training accuracy\")\n",
        "plt.plot(epochs, val_acc, \"b\", label=\"Validation accuracy\")\n",
        "plt.title(\"Training and validation accuracy\")\n",
        "plt.legend()\n",
        "plt.figure()\n",
        "plt.plot(epochs, loss, \"bo\", label=\"Training loss\")\n",
        "plt.plot(epochs, val_loss, \"b\", label=\"Validation loss\")\n",
        "plt.title(\"Training and validation loss\")\n",
        "plt.legend()\n",
        "plt.show()"
      ]
    },
    {
      "cell_type": "markdown",
      "metadata": {
        "id": "JLnJaDVAEI4m"
      },
      "source": [
        "#### Feature extraction together with data augmentation"
      ]
    },
    {
      "cell_type": "markdown",
      "metadata": {
        "id": "mlKv-VK8EI4m"
      },
      "source": [
        "**Instantiating and freezing the VGG16 convolutional base**"
      ]
    },
    {
      "cell_type": "code",
      "execution_count": null,
      "metadata": {
        "id": "DVJ7VLujEI4m"
      },
      "outputs": [],
      "source": [
        "conv_base  = keras.applications.vgg16.VGG16(\n",
        "    weights=\"imagenet\",\n",
        "    include_top=False)\n",
        "conv_base.trainable = False"
      ]
    },
    {
      "cell_type": "markdown",
      "metadata": {
        "id": "aiaoMbHGEI4m"
      },
      "source": [
        "**Printing the list of trainable weights before and after freezing**"
      ]
    },
    {
      "cell_type": "code",
      "execution_count": null,
      "metadata": {
        "colab": {
          "base_uri": "https://localhost:8080/"
        },
        "id": "XgZjlLJ7EI4n",
        "outputId": "489e944c-c571-4cc6-d6ef-42cb36bb948f"
      },
      "outputs": [
        {
          "output_type": "stream",
          "name": "stdout",
          "text": [
            "This is the number of trainable weights before freezing the conv base: 26\n"
          ]
        }
      ],
      "source": [
        "conv_base.trainable = True\n",
        "print(\"This is the number of trainable weights \"\n",
        "      \"before freezing the conv base:\", len(conv_base.trainable_weights))"
      ]
    },
    {
      "cell_type": "code",
      "execution_count": null,
      "metadata": {
        "colab": {
          "base_uri": "https://localhost:8080/"
        },
        "id": "w8Z11UzqEI4n",
        "outputId": "924d2e91-5bdb-4dd8-93a3-69f633618a05"
      },
      "outputs": [
        {
          "output_type": "stream",
          "name": "stdout",
          "text": [
            "This is the number of trainable weights after freezing the conv base: 0\n"
          ]
        }
      ],
      "source": [
        "conv_base.trainable = False\n",
        "print(\"This is the number of trainable weights \"\n",
        "      \"after freezing the conv base:\", len(conv_base.trainable_weights))"
      ]
    },
    {
      "cell_type": "markdown",
      "metadata": {
        "id": "D-2C1kQfEI4n"
      },
      "source": [
        "**Adding a data augmentation stage and a classifier to the convolutional base**"
      ]
    },
    {
      "cell_type": "code",
      "execution_count": null,
      "metadata": {
        "id": "e8jMxbZ0EI4n"
      },
      "outputs": [],
      "source": [
        "data_augmentation = keras.Sequential(\n",
        "    [\n",
        "        layers.RandomFlip(\"horizontal\"),\n",
        "        layers.RandomRotation(0.1),\n",
        "        layers.RandomZoom(0.2),\n",
        "    ]\n",
        ")\n",
        "\n",
        "inputs = keras.Input(shape=(180, 180, 3))\n",
        "x = data_augmentation(inputs)\n",
        "x = keras.applications.vgg16.preprocess_input(x)\n",
        "x = conv_base(x)\n",
        "x = layers.Flatten()(x)\n",
        "x = layers.Dense(256)(x)\n",
        "x = layers.Dropout(0.5)(x)\n",
        "outputs = layers.Dense(1, activation=\"sigmoid\")(x)\n",
        "model = keras.Model(inputs, outputs)\n",
        "model.compile(loss=\"binary_crossentropy\",\n",
        "              optimizer=\"rmsprop\",\n",
        "              metrics=[\"accuracy\"])"
      ]
    },
    {
      "cell_type": "code",
      "execution_count": null,
      "metadata": {
        "colab": {
          "base_uri": "https://localhost:8080/"
        },
        "id": "d6jG54ouEI4n",
        "outputId": "eaf755c1-94c6-4298-8a00-1c8ab6dcc87f"
      },
      "outputs": [
        {
          "output_type": "stream",
          "name": "stdout",
          "text": [
            "Epoch 1/20\n",
            "63/63 [==============================] - 5s 53ms/step - loss: 18.1292 - accuracy: 0.8980 - val_loss: 6.6155 - val_accuracy: 0.9610\n",
            "Epoch 2/20\n",
            "63/63 [==============================] - 3s 50ms/step - loss: 9.6711 - accuracy: 0.9320 - val_loss: 3.5773 - val_accuracy: 0.9730\n",
            "Epoch 3/20\n",
            "63/63 [==============================] - 3s 47ms/step - loss: 6.0662 - accuracy: 0.9575 - val_loss: 4.0063 - val_accuracy: 0.9750\n",
            "Epoch 4/20\n",
            "63/63 [==============================] - 3s 47ms/step - loss: 4.2282 - accuracy: 0.9680 - val_loss: 4.0346 - val_accuracy: 0.9720\n",
            "Epoch 5/20\n",
            "63/63 [==============================] - 3s 46ms/step - loss: 4.2766 - accuracy: 0.9660 - val_loss: 4.8665 - val_accuracy: 0.9650\n",
            "Epoch 6/20\n",
            "63/63 [==============================] - 3s 47ms/step - loss: 4.1898 - accuracy: 0.9670 - val_loss: 4.9980 - val_accuracy: 0.9730\n",
            "Epoch 7/20\n",
            "63/63 [==============================] - 3s 47ms/step - loss: 3.1618 - accuracy: 0.9690 - val_loss: 7.5374 - val_accuracy: 0.9670\n",
            "Epoch 8/20\n",
            "63/63 [==============================] - 3s 47ms/step - loss: 3.7966 - accuracy: 0.9680 - val_loss: 4.5045 - val_accuracy: 0.9750\n",
            "Epoch 9/20\n",
            "63/63 [==============================] - 3s 49ms/step - loss: 2.4027 - accuracy: 0.9815 - val_loss: 3.5045 - val_accuracy: 0.9760\n",
            "Epoch 10/20\n",
            "63/63 [==============================] - 3s 46ms/step - loss: 2.5998 - accuracy: 0.9745 - val_loss: 3.5367 - val_accuracy: 0.9760\n",
            "Epoch 11/20\n",
            "63/63 [==============================] - 3s 46ms/step - loss: 2.8168 - accuracy: 0.9760 - val_loss: 10.8666 - val_accuracy: 0.9550\n",
            "Epoch 12/20\n",
            "63/63 [==============================] - 3s 46ms/step - loss: 2.4018 - accuracy: 0.9740 - val_loss: 3.7091 - val_accuracy: 0.9740\n",
            "Epoch 13/20\n",
            "63/63 [==============================] - 3s 46ms/step - loss: 2.8905 - accuracy: 0.9750 - val_loss: 3.7358 - val_accuracy: 0.9810\n",
            "Epoch 14/20\n",
            "63/63 [==============================] - 3s 47ms/step - loss: 2.0740 - accuracy: 0.9795 - val_loss: 3.6547 - val_accuracy: 0.9770\n",
            "Epoch 15/20\n",
            "63/63 [==============================] - 3s 46ms/step - loss: 2.4854 - accuracy: 0.9755 - val_loss: 5.0017 - val_accuracy: 0.9730\n",
            "Epoch 16/20\n",
            "63/63 [==============================] - 3s 50ms/step - loss: 1.3785 - accuracy: 0.9820 - val_loss: 2.6562 - val_accuracy: 0.9800\n",
            "Epoch 17/20\n",
            "63/63 [==============================] - 3s 46ms/step - loss: 1.3304 - accuracy: 0.9820 - val_loss: 3.3242 - val_accuracy: 0.9780\n",
            "Epoch 18/20\n",
            "63/63 [==============================] - 3s 50ms/step - loss: 1.5402 - accuracy: 0.9810 - val_loss: 1.8887 - val_accuracy: 0.9830\n",
            "Epoch 19/20\n",
            "63/63 [==============================] - 3s 46ms/step - loss: 1.5402 - accuracy: 0.9825 - val_loss: 2.6265 - val_accuracy: 0.9810\n",
            "Epoch 20/20\n",
            "63/63 [==============================] - 3s 46ms/step - loss: 1.3828 - accuracy: 0.9820 - val_loss: 2.6337 - val_accuracy: 0.9770\n"
          ]
        }
      ],
      "source": [
        "callbacks = [\n",
        "    keras.callbacks.ModelCheckpoint(\n",
        "        filepath=\"feature_extraction_with_data_augmentation.keras\",\n",
        "        save_best_only=True,\n",
        "        monitor=\"val_loss\")\n",
        "]\n",
        "history = model.fit(\n",
        "    train_dataset,\n",
        "    epochs=20,\n",
        "    validation_data=validation_dataset,\n",
        "    callbacks=callbacks)"
      ]
    },
    {
      "cell_type": "markdown",
      "metadata": {
        "id": "0Kul7fvZEI4n"
      },
      "source": [
        "**Evaluating the model on the test set**"
      ]
    },
    {
      "cell_type": "code",
      "execution_count": null,
      "metadata": {
        "colab": {
          "base_uri": "https://localhost:8080/"
        },
        "id": "eGdCtoUjEI4n",
        "outputId": "4a9f4ff8-7dea-424b-cf6b-00e6cc503ddf"
      },
      "outputs": [
        {
          "output_type": "stream",
          "name": "stdout",
          "text": [
            "63/63 [==============================] - 2s 20ms/step - loss: 2.9103 - accuracy: 0.9765\n",
            "Test accuracy: 0.976\n"
          ]
        }
      ],
      "source": [
        "test_model = keras.models.load_model(\n",
        "    \"feature_extraction_with_data_augmentation.keras\")\n",
        "test_loss, test_acc = test_model.evaluate(test_dataset)\n",
        "print(f\"Test accuracy: {test_acc:.3f}\")"
      ]
    },
    {
      "cell_type": "markdown",
      "metadata": {
        "id": "NfKzB7SlEI4o"
      },
      "source": [
        "### Fine-tuning a pretrained model"
      ]
    },
    {
      "cell_type": "code",
      "execution_count": null,
      "metadata": {
        "colab": {
          "base_uri": "https://localhost:8080/"
        },
        "id": "0szo7Z5ZEI4o",
        "outputId": "986a5958-6695-431f-debe-94672c4031c7"
      },
      "outputs": [
        {
          "output_type": "stream",
          "name": "stdout",
          "text": [
            "Model: \"vgg16\"\n",
            "_________________________________________________________________\n",
            " Layer (type)                Output Shape              Param #   \n",
            "=================================================================\n",
            " input_36 (InputLayer)       [(None, None, None, 3)]   0         \n",
            "                                                                 \n",
            " block1_conv1 (Conv2D)       (None, None, None, 64)    1792      \n",
            "                                                                 \n",
            " block1_conv2 (Conv2D)       (None, None, None, 64)    36928     \n",
            "                                                                 \n",
            " block1_pool (MaxPooling2D)  (None, None, None, 64)    0         \n",
            "                                                                 \n",
            " block2_conv1 (Conv2D)       (None, None, None, 128)   73856     \n",
            "                                                                 \n",
            " block2_conv2 (Conv2D)       (None, None, None, 128)   147584    \n",
            "                                                                 \n",
            " block2_pool (MaxPooling2D)  (None, None, None, 128)   0         \n",
            "                                                                 \n",
            " block3_conv1 (Conv2D)       (None, None, None, 256)   295168    \n",
            "                                                                 \n",
            " block3_conv2 (Conv2D)       (None, None, None, 256)   590080    \n",
            "                                                                 \n",
            " block3_conv3 (Conv2D)       (None, None, None, 256)   590080    \n",
            "                                                                 \n",
            " block3_pool (MaxPooling2D)  (None, None, None, 256)   0         \n",
            "                                                                 \n",
            " block4_conv1 (Conv2D)       (None, None, None, 512)   1180160   \n",
            "                                                                 \n",
            " block4_conv2 (Conv2D)       (None, None, None, 512)   2359808   \n",
            "                                                                 \n",
            " block4_conv3 (Conv2D)       (None, None, None, 512)   2359808   \n",
            "                                                                 \n",
            " block4_pool (MaxPooling2D)  (None, None, None, 512)   0         \n",
            "                                                                 \n",
            " block5_conv1 (Conv2D)       (None, None, None, 512)   2359808   \n",
            "                                                                 \n",
            " block5_conv2 (Conv2D)       (None, None, None, 512)   2359808   \n",
            "                                                                 \n",
            " block5_conv3 (Conv2D)       (None, None, None, 512)   2359808   \n",
            "                                                                 \n",
            " block5_pool (MaxPooling2D)  (None, None, None, 512)   0         \n",
            "                                                                 \n",
            "=================================================================\n",
            "Total params: 14,714,688\n",
            "Trainable params: 0\n",
            "Non-trainable params: 14,714,688\n",
            "_________________________________________________________________\n"
          ]
        }
      ],
      "source": [
        "conv_base.summary()"
      ]
    },
    {
      "cell_type": "markdown",
      "metadata": {
        "id": "61MKYjL7EI4o"
      },
      "source": [
        "**Freezing all layers until the fourth from the last**"
      ]
    },
    {
      "cell_type": "code",
      "execution_count": null,
      "metadata": {
        "id": "URh6xMYnEI4o"
      },
      "outputs": [],
      "source": [
        "conv_base.trainable = True\n",
        "for layer in conv_base.layers[:-4]:\n",
        "    layer.trainable = False"
      ]
    },
    {
      "cell_type": "markdown",
      "metadata": {
        "id": "kjelWYi0EI4o"
      },
      "source": [
        "**Fine-tuning the model**"
      ]
    },
    {
      "cell_type": "code",
      "execution_count": null,
      "metadata": {
        "colab": {
          "base_uri": "https://localhost:8080/"
        },
        "id": "yBdjSbmFEI4o",
        "outputId": "c168c86b-3b0e-42a5-ea75-eb0ba3492e49"
      },
      "outputs": [
        {
          "output_type": "stream",
          "name": "stdout",
          "text": [
            "Epoch 1/20\n",
            "63/63 [==============================] - 5s 56ms/step - loss: 1.1163 - accuracy: 0.9840 - val_loss: 1.7387 - val_accuracy: 0.9810\n",
            "Epoch 2/20\n",
            "63/63 [==============================] - 3s 48ms/step - loss: 0.5129 - accuracy: 0.9885 - val_loss: 1.9984 - val_accuracy: 0.9770\n",
            "Epoch 3/20\n",
            "63/63 [==============================] - 3s 48ms/step - loss: 0.7717 - accuracy: 0.9820 - val_loss: 1.8105 - val_accuracy: 0.9780\n",
            "Epoch 4/20\n",
            "63/63 [==============================] - 3s 52ms/step - loss: 0.5677 - accuracy: 0.9890 - val_loss: 1.6750 - val_accuracy: 0.9780\n",
            "Epoch 5/20\n",
            "63/63 [==============================] - 3s 48ms/step - loss: 0.5172 - accuracy: 0.9865 - val_loss: 1.8054 - val_accuracy: 0.9720\n",
            "Epoch 6/20\n",
            "63/63 [==============================] - 3s 48ms/step - loss: 0.4732 - accuracy: 0.9905 - val_loss: 1.6856 - val_accuracy: 0.9800\n",
            "Epoch 7/20\n",
            "63/63 [==============================] - 3s 48ms/step - loss: 0.2428 - accuracy: 0.9935 - val_loss: 1.8330 - val_accuracy: 0.9800\n",
            "Epoch 8/20\n",
            "63/63 [==============================] - 3s 48ms/step - loss: 0.2661 - accuracy: 0.9925 - val_loss: 4.0513 - val_accuracy: 0.9710\n",
            "Epoch 9/20\n",
            "63/63 [==============================] - 3s 48ms/step - loss: 0.5235 - accuracy: 0.9890 - val_loss: 1.9119 - val_accuracy: 0.9800\n",
            "Epoch 10/20\n",
            "63/63 [==============================] - 3s 52ms/step - loss: 0.3594 - accuracy: 0.9935 - val_loss: 1.4167 - val_accuracy: 0.9800\n",
            "Epoch 11/20\n",
            "63/63 [==============================] - 3s 48ms/step - loss: 0.2265 - accuracy: 0.9945 - val_loss: 1.5976 - val_accuracy: 0.9800\n",
            "Epoch 12/20\n",
            "63/63 [==============================] - 3s 48ms/step - loss: 0.2875 - accuracy: 0.9910 - val_loss: 1.8792 - val_accuracy: 0.9810\n",
            "Epoch 13/20\n",
            "63/63 [==============================] - 3s 48ms/step - loss: 0.3000 - accuracy: 0.9930 - val_loss: 1.8429 - val_accuracy: 0.9790\n",
            "Epoch 14/20\n",
            "63/63 [==============================] - 3s 48ms/step - loss: 0.1421 - accuracy: 0.9930 - val_loss: 1.6347 - val_accuracy: 0.9850\n",
            "Epoch 15/20\n",
            "63/63 [==============================] - 3s 48ms/step - loss: 0.0822 - accuracy: 0.9955 - val_loss: 2.1489 - val_accuracy: 0.9790\n",
            "Epoch 16/20\n",
            "63/63 [==============================] - 3s 48ms/step - loss: 0.0928 - accuracy: 0.9965 - val_loss: 1.4614 - val_accuracy: 0.9780\n",
            "Epoch 17/20\n",
            "63/63 [==============================] - 3s 48ms/step - loss: 0.0947 - accuracy: 0.9950 - val_loss: 1.8171 - val_accuracy: 0.9800\n",
            "Epoch 18/20\n",
            "63/63 [==============================] - 3s 52ms/step - loss: 0.2333 - accuracy: 0.9930 - val_loss: 1.3020 - val_accuracy: 0.9810\n",
            "Epoch 19/20\n",
            "63/63 [==============================] - 3s 48ms/step - loss: 0.2327 - accuracy: 0.9940 - val_loss: 1.4191 - val_accuracy: 0.9800\n",
            "Epoch 20/20\n",
            "63/63 [==============================] - 3s 48ms/step - loss: 0.1481 - accuracy: 0.9945 - val_loss: 1.4936 - val_accuracy: 0.9820\n"
          ]
        }
      ],
      "source": [
        "model.compile(loss=\"binary_crossentropy\",\n",
        "              optimizer=keras.optimizers.RMSprop(learning_rate=1e-5),\n",
        "              metrics=[\"accuracy\"])\n",
        "\n",
        "callbacks = [\n",
        "    keras.callbacks.ModelCheckpoint(\n",
        "        filepath=\"fine_tuning.keras\",\n",
        "        save_best_only=True,\n",
        "        monitor=\"val_loss\")\n",
        "]\n",
        "history = model.fit(\n",
        "    train_dataset,\n",
        "    epochs=20,\n",
        "    validation_data=validation_dataset,\n",
        "    callbacks=callbacks)"
      ]
    },
    {
      "cell_type": "code",
      "execution_count": null,
      "metadata": {
        "colab": {
          "base_uri": "https://localhost:8080/"
        },
        "id": "Fzpj3KINEI4o",
        "outputId": "640057c5-bd85-4a57-a04d-0c57101653cb"
      },
      "outputs": [
        {
          "output_type": "stream",
          "name": "stdout",
          "text": [
            "63/63 [==============================] - 2s 21ms/step - loss: 2.1415 - accuracy: 0.9790\n",
            "Test accuracy: 0.979\n"
          ]
        }
      ],
      "source": [
        "model = keras.models.load_model(\"fine_tuning.keras\")\n",
        "test_loss, test_acc = model.evaluate(test_dataset)\n",
        "print(f\"Test accuracy: {test_acc:.3f}\")"
      ]
    },
    {
      "cell_type": "markdown",
      "metadata": {
        "id": "6A4NUvciEI4o"
      },
      "source": [
        "## Summary"
      ]
    }
  ],
  "metadata": {
    "colab": {
      "collapsed_sections": [],
      "provenance": [],
      "toc_visible": true,
      "machine_shape": "hm",
      "include_colab_link": true
    },
    "kernelspec": {
      "display_name": "Python 3",
      "language": "python",
      "name": "python3"
    },
    "language_info": {
      "codemirror_mode": {
        "name": "ipython",
        "version": 3
      },
      "file_extension": ".py",
      "mimetype": "text/x-python",
      "name": "python",
      "nbconvert_exporter": "python",
      "pygments_lexer": "ipython3",
      "version": "3.7.0"
    },
    "accelerator": "GPU",
    "gpuClass": "premium"
  },
  "nbformat": 4,
  "nbformat_minor": 0
}