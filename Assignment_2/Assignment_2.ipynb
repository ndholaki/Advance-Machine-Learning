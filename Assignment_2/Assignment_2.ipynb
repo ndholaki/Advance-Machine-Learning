{
  "nbformat": 4,
  "nbformat_minor": 0,
  "metadata": {
    "colab": {
      "provenance": [],
      "machine_shape": "hm"
    },
    "kernelspec": {
      "name": "python3",
      "display_name": "Python 3"
    },
    "language_info": {
      "name": "python"
    },
    "accelerator": "GPU",
    "gpuClass": "standard"
  },
  "cells": [
    {
      "cell_type": "markdown",
      "source": [
        " Assignment 2 - Convolution Networks to image data"
      ],
      "metadata": {
        "id": "TpevMqMcAYiU"
      }
    },
    {
      "cell_type": "markdown",
      "source": [
        "Downloading the data"
      ],
      "metadata": {
        "id": "FvabehmYAyRr"
      }
    },
    {
      "cell_type": "code",
      "source": [
        "from google.colab import files\n",
        "files.upload()"
      ],
      "metadata": {
        "colab": {
          "base_uri": "https://localhost:8080/",
          "height": 73
        },
        "id": "4x7PI-bLA0eW",
        "outputId": "077e3694-f5c6-47e9-c251-c0afb1a252a3"
      },
      "execution_count": 4,
      "outputs": [
        {
          "output_type": "display_data",
          "data": {
            "text/plain": [
              "<IPython.core.display.HTML object>"
            ],
            "text/html": [
              "\n",
              "     <input type=\"file\" id=\"files-fc50c4af-d23e-4fa7-8a06-7307e567da69\" name=\"files[]\" multiple disabled\n",
              "        style=\"border:none\" />\n",
              "     <output id=\"result-fc50c4af-d23e-4fa7-8a06-7307e567da69\">\n",
              "      Upload widget is only available when the cell has been executed in the\n",
              "      current browser session. Please rerun this cell to enable.\n",
              "      </output>\n",
              "      <script>// Copyright 2017 Google LLC\n",
              "//\n",
              "// Licensed under the Apache License, Version 2.0 (the \"License\");\n",
              "// you may not use this file except in compliance with the License.\n",
              "// You may obtain a copy of the License at\n",
              "//\n",
              "//      http://www.apache.org/licenses/LICENSE-2.0\n",
              "//\n",
              "// Unless required by applicable law or agreed to in writing, software\n",
              "// distributed under the License is distributed on an \"AS IS\" BASIS,\n",
              "// WITHOUT WARRANTIES OR CONDITIONS OF ANY KIND, either express or implied.\n",
              "// See the License for the specific language governing permissions and\n",
              "// limitations under the License.\n",
              "\n",
              "/**\n",
              " * @fileoverview Helpers for google.colab Python module.\n",
              " */\n",
              "(function(scope) {\n",
              "function span(text, styleAttributes = {}) {\n",
              "  const element = document.createElement('span');\n",
              "  element.textContent = text;\n",
              "  for (const key of Object.keys(styleAttributes)) {\n",
              "    element.style[key] = styleAttributes[key];\n",
              "  }\n",
              "  return element;\n",
              "}\n",
              "\n",
              "// Max number of bytes which will be uploaded at a time.\n",
              "const MAX_PAYLOAD_SIZE = 100 * 1024;\n",
              "\n",
              "function _uploadFiles(inputId, outputId) {\n",
              "  const steps = uploadFilesStep(inputId, outputId);\n",
              "  const outputElement = document.getElementById(outputId);\n",
              "  // Cache steps on the outputElement to make it available for the next call\n",
              "  // to uploadFilesContinue from Python.\n",
              "  outputElement.steps = steps;\n",
              "\n",
              "  return _uploadFilesContinue(outputId);\n",
              "}\n",
              "\n",
              "// This is roughly an async generator (not supported in the browser yet),\n",
              "// where there are multiple asynchronous steps and the Python side is going\n",
              "// to poll for completion of each step.\n",
              "// This uses a Promise to block the python side on completion of each step,\n",
              "// then passes the result of the previous step as the input to the next step.\n",
              "function _uploadFilesContinue(outputId) {\n",
              "  const outputElement = document.getElementById(outputId);\n",
              "  const steps = outputElement.steps;\n",
              "\n",
              "  const next = steps.next(outputElement.lastPromiseValue);\n",
              "  return Promise.resolve(next.value.promise).then((value) => {\n",
              "    // Cache the last promise value to make it available to the next\n",
              "    // step of the generator.\n",
              "    outputElement.lastPromiseValue = value;\n",
              "    return next.value.response;\n",
              "  });\n",
              "}\n",
              "\n",
              "/**\n",
              " * Generator function which is called between each async step of the upload\n",
              " * process.\n",
              " * @param {string} inputId Element ID of the input file picker element.\n",
              " * @param {string} outputId Element ID of the output display.\n",
              " * @return {!Iterable<!Object>} Iterable of next steps.\n",
              " */\n",
              "function* uploadFilesStep(inputId, outputId) {\n",
              "  const inputElement = document.getElementById(inputId);\n",
              "  inputElement.disabled = false;\n",
              "\n",
              "  const outputElement = document.getElementById(outputId);\n",
              "  outputElement.innerHTML = '';\n",
              "\n",
              "  const pickedPromise = new Promise((resolve) => {\n",
              "    inputElement.addEventListener('change', (e) => {\n",
              "      resolve(e.target.files);\n",
              "    });\n",
              "  });\n",
              "\n",
              "  const cancel = document.createElement('button');\n",
              "  inputElement.parentElement.appendChild(cancel);\n",
              "  cancel.textContent = 'Cancel upload';\n",
              "  const cancelPromise = new Promise((resolve) => {\n",
              "    cancel.onclick = () => {\n",
              "      resolve(null);\n",
              "    };\n",
              "  });\n",
              "\n",
              "  // Wait for the user to pick the files.\n",
              "  const files = yield {\n",
              "    promise: Promise.race([pickedPromise, cancelPromise]),\n",
              "    response: {\n",
              "      action: 'starting',\n",
              "    }\n",
              "  };\n",
              "\n",
              "  cancel.remove();\n",
              "\n",
              "  // Disable the input element since further picks are not allowed.\n",
              "  inputElement.disabled = true;\n",
              "\n",
              "  if (!files) {\n",
              "    return {\n",
              "      response: {\n",
              "        action: 'complete',\n",
              "      }\n",
              "    };\n",
              "  }\n",
              "\n",
              "  for (const file of files) {\n",
              "    const li = document.createElement('li');\n",
              "    li.append(span(file.name, {fontWeight: 'bold'}));\n",
              "    li.append(span(\n",
              "        `(${file.type || 'n/a'}) - ${file.size} bytes, ` +\n",
              "        `last modified: ${\n",
              "            file.lastModifiedDate ? file.lastModifiedDate.toLocaleDateString() :\n",
              "                                    'n/a'} - `));\n",
              "    const percent = span('0% done');\n",
              "    li.appendChild(percent);\n",
              "\n",
              "    outputElement.appendChild(li);\n",
              "\n",
              "    const fileDataPromise = new Promise((resolve) => {\n",
              "      const reader = new FileReader();\n",
              "      reader.onload = (e) => {\n",
              "        resolve(e.target.result);\n",
              "      };\n",
              "      reader.readAsArrayBuffer(file);\n",
              "    });\n",
              "    // Wait for the data to be ready.\n",
              "    let fileData = yield {\n",
              "      promise: fileDataPromise,\n",
              "      response: {\n",
              "        action: 'continue',\n",
              "      }\n",
              "    };\n",
              "\n",
              "    // Use a chunked sending to avoid message size limits. See b/62115660.\n",
              "    let position = 0;\n",
              "    do {\n",
              "      const length = Math.min(fileData.byteLength - position, MAX_PAYLOAD_SIZE);\n",
              "      const chunk = new Uint8Array(fileData, position, length);\n",
              "      position += length;\n",
              "\n",
              "      const base64 = btoa(String.fromCharCode.apply(null, chunk));\n",
              "      yield {\n",
              "        response: {\n",
              "          action: 'append',\n",
              "          file: file.name,\n",
              "          data: base64,\n",
              "        },\n",
              "      };\n",
              "\n",
              "      let percentDone = fileData.byteLength === 0 ?\n",
              "          100 :\n",
              "          Math.round((position / fileData.byteLength) * 100);\n",
              "      percent.textContent = `${percentDone}% done`;\n",
              "\n",
              "    } while (position < fileData.byteLength);\n",
              "  }\n",
              "\n",
              "  // All done.\n",
              "  yield {\n",
              "    response: {\n",
              "      action: 'complete',\n",
              "    }\n",
              "  };\n",
              "}\n",
              "\n",
              "scope.google = scope.google || {};\n",
              "scope.google.colab = scope.google.colab || {};\n",
              "scope.google.colab._files = {\n",
              "  _uploadFiles,\n",
              "  _uploadFilesContinue,\n",
              "};\n",
              "})(self);\n",
              "</script> "
            ]
          },
          "metadata": {}
        },
        {
          "output_type": "stream",
          "name": "stdout",
          "text": [
            "Saving dogs-vs-cats.zip to dogs-vs-cats.zip\n"
          ]
        }
      ]
    },
    {
      "cell_type": "code",
      "source": [
        "!unzip -qq dogs-vs-cats.zip\n",
        "!unzip -qq train.zip\n",
        "!unzip -qq test1.zip"
      ],
      "metadata": {
        "id": "URW_Vxv_Ix27"
      },
      "execution_count": 1,
      "outputs": []
    },
    {
      "cell_type": "markdown",
      "source": [
        "1. Consider the Cats & Dogs example. Start initially with a training sample of 1000, a validation \n",
        "sample of 500, and a test sample of 500 (like in the text). Use any technique to reduce \n",
        "overfitting and improve performance in developing a network that you train from scratch. What \n",
        "performance did you achieve?  "
      ],
      "metadata": {
        "id": "jybDXLw8I2QW"
      }
    },
    {
      "cell_type": "code",
      "source": [
        "import os, shutil, pathlib\n",
        "\n",
        "original_dir = pathlib.Path(\"train\")\n",
        "new_base_dir = pathlib.Path(\"cats_vs_dogs_small\")\n",
        "\n",
        "def make_subset(subset_name, start_index, end_index):\n",
        "    for category in (\"cat\", \"dog\"):\n",
        "        dir = new_base_dir / subset_name / category\n",
        "        os.makedirs(dir)\n",
        "        fnames = [f\"{category}.{i}.jpg\" for i in range(start_index, end_index)]\n",
        "        for fname in fnames:\n",
        "            shutil.copyfile(src=original_dir / fname,\n",
        "                            dst=dir / fname)\n",
        "\n",
        "\n",
        "# Training has 1000 samples, test has 500 samples and validation has 500 samples.\n",
        "\n",
        "make_subset(\"train\", start_index=0, end_index=1000)\n",
        "make_subset(\"validation\", start_index=1000, end_index=1500)\n",
        "make_subset(\"test\", start_index=1500, end_index=2000)"
      ],
      "metadata": {
        "id": "mxp4W2D1I59r"
      },
      "execution_count": 2,
      "outputs": []
    },
    {
      "cell_type": "markdown",
      "source": [
        "Data Preprocessing"
      ],
      "metadata": {
        "id": "FGBdSapJJE4S"
      }
    },
    {
      "cell_type": "markdown",
      "source": [
        "Data Preprocessing An integral step in machine learning as the quality of the data and the useful information that can be derived from it directly affects the ability of our model to learn. 1.Read the pictures 2.Convert JPEG content into RGB grid of pixels\n",
        "\n",
        "Convert RGB grid of pixels into floating point tensors\n",
        "Resize them\n",
        "Make them into batches"
      ],
      "metadata": {
        "id": "7mRZC6zaJOgi"
      }
    },
    {
      "cell_type": "markdown",
      "source": [
        "Using image_dataset_from_directory to read images"
      ],
      "metadata": {
        "id": "MmHNT3qNJdTm"
      }
    },
    {
      "cell_type": "code",
      "source": [
        "from tensorflow.keras.utils import image_dataset_from_directory\n",
        "\n",
        "train_dataset = image_dataset_from_directory(\n",
        "    new_base_dir / \"train\",\n",
        "    image_size=(180, 180),\n",
        "    batch_size=32)\n",
        "validation_dataset = image_dataset_from_directory(\n",
        "    new_base_dir / \"validation\",\n",
        "    image_size=(180, 180),\n",
        "    batch_size=32)\n",
        "test_dataset = image_dataset_from_directory(\n",
        "    new_base_dir / \"test\",\n",
        "    image_size=(180, 180),\n",
        "    batch_size=32)"
      ],
      "metadata": {
        "colab": {
          "base_uri": "https://localhost:8080/"
        },
        "id": "eKhA7tqjJfre",
        "outputId": "52f9bd3d-3777-4889-b328-52e1c4038e02"
      },
      "execution_count": 3,
      "outputs": [
        {
          "output_type": "stream",
          "name": "stdout",
          "text": [
            "Found 2000 files belonging to 2 classes.\n",
            "Found 1000 files belonging to 2 classes.\n",
            "Found 1000 files belonging to 2 classes.\n"
          ]
        }
      ]
    },
    {
      "cell_type": "markdown",
      "source": [
        "Create a dataset instance from NumPy array of random numbers of 1000 samples and each sample of vector size 16"
      ],
      "metadata": {
        "id": "fuBzmviIJvjR"
      }
    },
    {
      "cell_type": "code",
      "source": [
        "import numpy as np\n",
        "import tensorflow as tf\n",
        "random_numbers = np.random.normal(size=(1000, 16))\n",
        "dataset = tf.data.Dataset.from_tensor_slices(random_numbers)"
      ],
      "metadata": {
        "id": "MCaVWsV1JxRD"
      },
      "execution_count": 4,
      "outputs": []
    },
    {
      "cell_type": "code",
      "source": [
        "for i, element in enumerate(dataset):\n",
        "    print(element.shape)\n",
        "    if i >= 2:\n",
        "        break"
      ],
      "metadata": {
        "colab": {
          "base_uri": "https://localhost:8080/"
        },
        "id": "r6GFx6K6J0Yz",
        "outputId": "4882c75d-5cf5-41b4-dfcf-822eccdb9a7e"
      },
      "execution_count": 5,
      "outputs": [
        {
          "output_type": "stream",
          "name": "stdout",
          "text": [
            "(16,)\n",
            "(16,)\n",
            "(16,)\n"
          ]
        }
      ]
    },
    {
      "cell_type": "markdown",
      "source": [
        "Batch size of 32\n"
      ],
      "metadata": {
        "id": "7UFdl_pmJ4Uh"
      }
    },
    {
      "cell_type": "code",
      "source": [
        "batched_dataset = dataset.batch(32)\n",
        "for i, element in enumerate(batched_dataset):\n",
        "    print(element.shape)\n",
        "    if i >= 2:\n",
        "        break"
      ],
      "metadata": {
        "colab": {
          "base_uri": "https://localhost:8080/"
        },
        "id": "kWR4i_hZJ7Kq",
        "outputId": "3cf1532f-228a-4f13-b464-c86d69588d76"
      },
      "execution_count": 9,
      "outputs": [
        {
          "output_type": "stream",
          "name": "stdout",
          "text": [
            "(32, 16)\n",
            "(32, 16)\n",
            "(32, 16)\n"
          ]
        }
      ]
    },
    {
      "cell_type": "code",
      "source": [
        "reshaped_dataset = dataset.map(lambda x: tf.reshape(x, (4, 4)))\n",
        "for i, element in enumerate(reshaped_dataset):\n",
        "    print(element.shape)\n",
        "    if i >= 2:\n",
        "        break"
      ],
      "metadata": {
        "colab": {
          "base_uri": "https://localhost:8080/"
        },
        "id": "ze2pLJHzKAwO",
        "outputId": "deea0cf1-2d30-441c-a092-167fb676099b"
      },
      "execution_count": 10,
      "outputs": [
        {
          "output_type": "stream",
          "name": "stdout",
          "text": [
            "(4, 4)\n",
            "(4, 4)\n",
            "(4, 4)\n"
          ]
        }
      ]
    },
    {
      "cell_type": "markdown",
      "source": [
        "Displaying the shapes of the data and labels yielded by the Dataset"
      ],
      "metadata": {
        "id": "S8Q3RXUKKC-a"
      }
    },
    {
      "cell_type": "code",
      "source": [
        "for data_batch, labels_batch in train_dataset:\n",
        "    print(\"data batch shape:\", data_batch.shape)\n",
        "    print(\"labels batch shape:\", labels_batch.shape)\n",
        "    break"
      ],
      "metadata": {
        "colab": {
          "base_uri": "https://localhost:8080/"
        },
        "id": "JiRDMbMUKDif",
        "outputId": "2bdd4670-1e42-4e0b-8698-70c1ae7212e9"
      },
      "execution_count": 11,
      "outputs": [
        {
          "output_type": "stream",
          "name": "stdout",
          "text": [
            "data batch shape: (32, 180, 180, 3)\n",
            "labels batch shape: (32,)\n"
          ]
        }
      ]
    },
    {
      "cell_type": "markdown",
      "source": [
        "Building the model"
      ],
      "metadata": {
        "id": "fSOIhvxTKG95"
      }
    },
    {
      "cell_type": "markdown",
      "source": [
        "Instantiating a small convnet for dogs vs. cats classification\n",
        "\n"
      ],
      "metadata": {
        "id": "Ui7TJ5RfKM4A"
      }
    },
    {
      "cell_type": "code",
      "source": [
        "from tensorflow import keras\n",
        "from tensorflow.keras import layers\n",
        "\n",
        "inputs = keras.Input(shape=(180, 180, 3))\n",
        "x = layers.Rescaling(1./255)(inputs)\n",
        "x = layers.Conv2D(filters=32, kernel_size=3, activation=\"relu\")(x)\n",
        "x = layers.MaxPooling2D(pool_size=2)(x)\n",
        "x = layers.Conv2D(filters=64, kernel_size=3, activation=\"relu\")(x)\n",
        "x = layers.MaxPooling2D(pool_size=2)(x)\n",
        "x = layers.Conv2D(filters=128, kernel_size=3, activation=\"relu\")(x)\n",
        "x = layers.MaxPooling2D(pool_size=2)(x)\n",
        "x = layers.Conv2D(filters=256, kernel_size=3, activation=\"relu\")(x)\n",
        "x = layers.MaxPooling2D(pool_size=2)(x)\n",
        "x = layers.Conv2D(filters=256, kernel_size=3, activation=\"relu\")(x)\n",
        "x = layers.Flatten()(x)\n",
        "x = layers.Dropout(0.5)(x)\n",
        "outputs = layers.Dense(1, activation=\"sigmoid\")(x)\n",
        "model = keras.Model(inputs=inputs, outputs=outputs)"
      ],
      "metadata": {
        "id": "Ab_dfTpoKO7k"
      },
      "execution_count": 12,
      "outputs": []
    },
    {
      "cell_type": "markdown",
      "source": [
        "Configuring the model for training"
      ],
      "metadata": {
        "id": "24_XfGIWKRDh"
      }
    },
    {
      "cell_type": "code",
      "source": [
        "model.compile(loss=\"binary_crossentropy\",\n",
        "              optimizer=\"adam\",\n",
        "              metrics=[\"accuracy\"])"
      ],
      "metadata": {
        "id": "6lSYdoCEKTlZ"
      },
      "execution_count": 13,
      "outputs": []
    },
    {
      "cell_type": "markdown",
      "source": [
        "After compiling the model, we train it on the training dataset, validating the results at the end of each epoch with the validation dataset. I'm making use of GPU to reduce the amount of time each epoch takes in execution.\n"
      ],
      "metadata": {
        "id": "9YQ0glAlKV-D"
      }
    },
    {
      "cell_type": "code",
      "source": [
        "model.summary()"
      ],
      "metadata": {
        "colab": {
          "base_uri": "https://localhost:8080/"
        },
        "id": "aY0Gj5d8KYM4",
        "outputId": "ef9bdb39-468c-4fcf-a606-98e07093f22a"
      },
      "execution_count": 14,
      "outputs": [
        {
          "output_type": "stream",
          "name": "stdout",
          "text": [
            "Model: \"model\"\n",
            "_________________________________________________________________\n",
            " Layer (type)                Output Shape              Param #   \n",
            "=================================================================\n",
            " input_1 (InputLayer)        [(None, 180, 180, 3)]     0         \n",
            "                                                                 \n",
            " rescaling (Rescaling)       (None, 180, 180, 3)       0         \n",
            "                                                                 \n",
            " conv2d (Conv2D)             (None, 178, 178, 32)      896       \n",
            "                                                                 \n",
            " max_pooling2d (MaxPooling2D  (None, 89, 89, 32)       0         \n",
            " )                                                               \n",
            "                                                                 \n",
            " conv2d_1 (Conv2D)           (None, 87, 87, 64)        18496     \n",
            "                                                                 \n",
            " max_pooling2d_1 (MaxPooling  (None, 43, 43, 64)       0         \n",
            " 2D)                                                             \n",
            "                                                                 \n",
            " conv2d_2 (Conv2D)           (None, 41, 41, 128)       73856     \n",
            "                                                                 \n",
            " max_pooling2d_2 (MaxPooling  (None, 20, 20, 128)      0         \n",
            " 2D)                                                             \n",
            "                                                                 \n",
            " conv2d_3 (Conv2D)           (None, 18, 18, 256)       295168    \n",
            "                                                                 \n",
            " max_pooling2d_3 (MaxPooling  (None, 9, 9, 256)        0         \n",
            " 2D)                                                             \n",
            "                                                                 \n",
            " conv2d_4 (Conv2D)           (None, 7, 7, 256)         590080    \n",
            "                                                                 \n",
            " flatten (Flatten)           (None, 12544)             0         \n",
            "                                                                 \n",
            " dropout (Dropout)           (None, 12544)             0         \n",
            "                                                                 \n",
            " dense (Dense)               (None, 1)                 12545     \n",
            "                                                                 \n",
            "=================================================================\n",
            "Total params: 991,041\n",
            "Trainable params: 991,041\n",
            "Non-trainable params: 0\n",
            "_________________________________________________________________\n"
          ]
        }
      ]
    },
    {
      "cell_type": "markdown",
      "source": [
        "Fitting the model using a Dataset"
      ],
      "metadata": {
        "id": "m4HK8eT5KcLQ"
      }
    },
    {
      "cell_type": "code",
      "source": [
        "from keras.callbacks import ModelCheckpoint, EarlyStopping\n",
        "\n",
        "callbacks = [\n",
        "    keras.callbacks.ModelCheckpoint(\n",
        "        filepath=\"convnet_from_scratch.keras\",\n",
        "        save_best_only=True,\n",
        "        monitor=\"val_loss\")\n",
        "]\n",
        "history = model.fit(\n",
        "    train_dataset,\n",
        "    epochs=20,\n",
        "    validation_data=validation_dataset,\n",
        "    callbacks=callbacks)"
      ],
      "metadata": {
        "colab": {
          "base_uri": "https://localhost:8080/"
        },
        "id": "u1AHA8nBKclD",
        "outputId": "e9202fa3-c15c-44e7-e9a0-416ada17c2fc"
      },
      "execution_count": 15,
      "outputs": [
        {
          "output_type": "stream",
          "name": "stdout",
          "text": [
            "Epoch 1/20\n",
            "63/63 [==============================] - 15s 67ms/step - loss: 0.6951 - accuracy: 0.5175 - val_loss: 0.6932 - val_accuracy: 0.5000\n",
            "Epoch 2/20\n",
            "63/63 [==============================] - 4s 54ms/step - loss: 0.6935 - accuracy: 0.4895 - val_loss: 0.6932 - val_accuracy: 0.5000\n",
            "Epoch 3/20\n",
            "63/63 [==============================] - 4s 56ms/step - loss: 0.6933 - accuracy: 0.4750 - val_loss: 0.6931 - val_accuracy: 0.5000\n",
            "Epoch 4/20\n",
            "63/63 [==============================] - 4s 59ms/step - loss: 0.6932 - accuracy: 0.5015 - val_loss: 0.6932 - val_accuracy: 0.5000\n",
            "Epoch 5/20\n",
            "63/63 [==============================] - 4s 54ms/step - loss: 0.6939 - accuracy: 0.4955 - val_loss: 0.6930 - val_accuracy: 0.5040\n",
            "Epoch 6/20\n",
            "63/63 [==============================] - 4s 54ms/step - loss: 0.6940 - accuracy: 0.4955 - val_loss: 0.6932 - val_accuracy: 0.5000\n",
            "Epoch 7/20\n",
            "63/63 [==============================] - 4s 54ms/step - loss: 0.6934 - accuracy: 0.4870 - val_loss: 0.6932 - val_accuracy: 0.5000\n",
            "Epoch 8/20\n",
            "63/63 [==============================] - 4s 55ms/step - loss: 0.6933 - accuracy: 0.4905 - val_loss: 0.6931 - val_accuracy: 0.5000\n",
            "Epoch 9/20\n",
            "63/63 [==============================] - 4s 54ms/step - loss: 0.6932 - accuracy: 0.5000 - val_loss: 0.6932 - val_accuracy: 0.5000\n",
            "Epoch 10/20\n",
            "63/63 [==============================] - 4s 54ms/step - loss: 0.6932 - accuracy: 0.5020 - val_loss: 0.6932 - val_accuracy: 0.5000\n",
            "Epoch 11/20\n",
            "63/63 [==============================] - 4s 54ms/step - loss: 0.6933 - accuracy: 0.5015 - val_loss: 0.6932 - val_accuracy: 0.5000\n",
            "Epoch 12/20\n",
            "63/63 [==============================] - 4s 54ms/step - loss: 0.6933 - accuracy: 0.4890 - val_loss: 0.6932 - val_accuracy: 0.5000\n",
            "Epoch 13/20\n",
            "63/63 [==============================] - 4s 54ms/step - loss: 0.6932 - accuracy: 0.4995 - val_loss: 0.6931 - val_accuracy: 0.5000\n",
            "Epoch 14/20\n",
            "63/63 [==============================] - 4s 55ms/step - loss: 0.6932 - accuracy: 0.4730 - val_loss: 0.6931 - val_accuracy: 0.5000\n",
            "Epoch 15/20\n",
            "63/63 [==============================] - 4s 54ms/step - loss: 0.6932 - accuracy: 0.5030 - val_loss: 0.6931 - val_accuracy: 0.5000\n",
            "Epoch 16/20\n",
            "63/63 [==============================] - 4s 54ms/step - loss: 0.6931 - accuracy: 0.5030 - val_loss: 0.6931 - val_accuracy: 0.5000\n",
            "Epoch 17/20\n",
            "63/63 [==============================] - 4s 54ms/step - loss: 0.6932 - accuracy: 0.4890 - val_loss: 0.6931 - val_accuracy: 0.5000\n",
            "Epoch 18/20\n",
            "63/63 [==============================] - 4s 54ms/step - loss: 0.6932 - accuracy: 0.4915 - val_loss: 0.6932 - val_accuracy: 0.5000\n",
            "Epoch 19/20\n",
            "63/63 [==============================] - 4s 54ms/step - loss: 0.6935 - accuracy: 0.4860 - val_loss: 0.6931 - val_accuracy: 0.5000\n",
            "Epoch 20/20\n",
            "63/63 [==============================] - 4s 56ms/step - loss: 0.6939 - accuracy: 0.4760 - val_loss: 0.6932 - val_accuracy: 0.5070\n"
          ]
        }
      ]
    },
    {
      "cell_type": "markdown",
      "source": [
        "Displaying curves of loss and accuracy during training"
      ],
      "metadata": {
        "id": "EfhD8BdPKf8_"
      }
    },
    {
      "cell_type": "code",
      "source": [
        "import matplotlib.pyplot as plt\n",
        "\n",
        "plt.figure(figsize=(10, 10))\n",
        "accuracy = history.history[\"accuracy\"]\n",
        "val_accuracy = history.history[\"val_accuracy\"]\n",
        "loss = history.history[\"loss\"]\n",
        "val_loss = history.history[\"val_loss\"]\n",
        "epochs = range(1, len(accuracy) + 1)\n",
        "plt.plot(epochs, accuracy, \"bo\", label=\"Training accuracy\")\n",
        "plt.plot(epochs, val_accuracy, \"b\", label=\"Validation accuracy\")\n",
        "plt.title(\"Training and validation accuracy\")\n",
        "plt.legend()\n",
        "plt.figure()\n",
        "plt.figure(figsize=(10, 10))\n",
        "plt.plot(epochs, loss, \"bo\", label=\"Training loss\")\n",
        "plt.plot(epochs, val_loss, \"b\", label=\"Validation loss\")\n",
        "plt.title(\"Training and validation loss\")\n",
        "plt.legend()\n",
        "plt.show()"
      ],
      "metadata": {
        "colab": {
          "base_uri": "https://localhost:8080/",
          "height": 1000
        },
        "id": "7tLFH3PPKh38",
        "outputId": "9966d18f-2ee2-4809-8802-65d47cd85d9f"
      },
      "execution_count": 16,
      "outputs": [
        {
          "output_type": "display_data",
          "data": {
            "text/plain": [
              "<Figure size 720x720 with 1 Axes>"
            ],
            "image/png": "[encoded data removed]"
          },
          "metadata": {
            "needs_background": "light"
          }
        },
        {
          "output_type": "display_data",
          "data": {
            "text/plain": [
              "<Figure size 432x288 with 0 Axes>"
            ]
          },
          "metadata": {}
        },
        {
          "output_type": "display_data",
          "data": {
            "text/plain": [
              "<Figure size 720x720 with 1 Axes>"
            ],
            "image/png": "[encoded data removed]"
          },
          "metadata": {
            "needs_background": "light"
          }
        }
      ]
    },
    {
      "cell_type": "markdown",
      "source": [
        "Evaluating the model on the test set"
      ],
      "metadata": {
        "id": "FCS3SLU5Kltu"
      }
    },
    {
      "cell_type": "code",
      "source": [
        "test_model = keras.models.load_model(\"convnet_from_scratch.keras\")\n",
        "test_loss, test_acc = test_model.evaluate(test_dataset)\n",
        "print(f\"Test accuracy: {test_acc:.3f}\")"
      ],
      "metadata": {
        "colab": {
          "base_uri": "https://localhost:8080/"
        },
        "id": "ktT3qyaJKmO3",
        "outputId": "86725081-3959-4b21-842a-b6205bba2823"
      },
      "execution_count": 17,
      "outputs": [
        {
          "output_type": "stream",
          "name": "stdout",
          "text": [
            "32/32 [==============================] - 1s 23ms/step - loss: 0.6929 - accuracy: 0.5040\n",
            "Test accuracy: 0.504\n"
          ]
        }
      ]
    },
    {
      "cell_type": "markdown",
      "source": [
        "2. Increase your training sample size. You may pick any amount. Keep the validation and test \n",
        "samples the same as above. Optimize your network (again training from scratch). What \n",
        "performance did you achieve?  "
      ],
      "metadata": {
        "id": "Pm3D7prOKrrc"
      }
    },
    {
      "cell_type": "markdown",
      "source": [
        "Define a data augmentation stage to add to an image model"
      ],
      "metadata": {
        "id": "K3ZOEoqEKubO"
      }
    },
    {
      "cell_type": "code",
      "source": [
        "import os, shutil, pathlib\n",
        "\n",
        "shutil.rmtree(\"./cats_vs_dogs_small_Q2\", ignore_errors=True)\n",
        "\n",
        "original_dir = pathlib.Path(\"train\")\n",
        "new_base_dir = pathlib.Path(\"cats_vs_dogs_small_Q2\")\n",
        "\n",
        "def make_subset(subset_name, start_index, end_index):\n",
        "    for category in (\"cat\", \"dog\"):\n",
        "        dir = new_base_dir / subset_name / category\n",
        "        os.makedirs(dir)\n",
        "        fnames = [f\"{category}.{i}.jpg\" for i in range(start_index, end_index)]\n",
        "        for fname in fnames:\n",
        "            shutil.copyfile(src=original_dir / fname,\n",
        "                            dst=dir / fname)\n",
        "#Creating training, Test and validation sets.\n",
        "#Training has 2000 samples, test has 500 samples and validation has 500 samples.\n",
        "make_subset(\"train\", start_index=0, end_index=2000)\n",
        "make_subset(\"validation\", start_index=1500, end_index=2000)\n",
        "make_subset(\"test\", start_index=2000, end_index=2500)"
      ],
      "metadata": {
        "id": "tMHNQVthKwIw"
      },
      "execution_count": 18,
      "outputs": []
    },
    {
      "cell_type": "code",
      "source": [
        "data_augmentation = keras.Sequential(\n",
        "    [\n",
        "        layers.RandomFlip(\"horizontal\"),\n",
        "        layers.RandomRotation(0.1),\n",
        "        layers.RandomZoom(0.2),\n",
        "    ]\n",
        ")"
      ],
      "metadata": {
        "id": "J7oxdQqpKzN8"
      },
      "execution_count": 19,
      "outputs": []
    },
    {
      "cell_type": "markdown",
      "source": [
        "Displaying some randomly augmented training images"
      ],
      "metadata": {
        "id": "983WlvNHK5O9"
      }
    },
    {
      "cell_type": "code",
      "source": [
        "plt.figure(figsize=(10, 10))\n",
        "for images, _ in train_dataset.take(1):\n",
        "    for i in range(9):\n",
        "        augmented_images = data_augmentation(images)\n",
        "        ax = plt.subplot(3, 3, i + 1)\n",
        "        plt.imshow(augmented_images[0].numpy().astype(\"uint8\"))\n",
        "        plt.axis(\"off\")"
      ],
      "metadata": {
        "colab": {
          "base_uri": "https://localhost:8080/",
          "height": 575
        },
        "id": "G2YEQTBMK5x0",
        "outputId": "7ce12a0c-b842-49f3-9180-6642beb64c22"
      },
      "execution_count": 20,
      "outputs": [
        {
          "output_type": "display_data",
          "data": {
            "text/plain": [
              "<Figure size 720x720 with 9 Axes>"
            ],
            "image/png": "[encoded data removed]"
          },
          "metadata": {
            "needs_background": "light"
          }
        }
      ]
    },
    {
      "cell_type": "markdown",
      "source": [
        "Defining a new convnet that includes image augmentation and dropout"
      ],
      "metadata": {
        "id": "jDAmNhHKK9J5"
      }
    },
    {
      "cell_type": "code",
      "source": [
        "inputs = keras.Input(shape=(180, 180, 3))\n",
        "x = data_augmentation(inputs)\n",
        "x = layers.Rescaling(1./255)(x)\n",
        "x = layers.Conv2D(filters=32, kernel_size=5, activation=\"relu\")(x)\n",
        "x = layers.MaxPooling2D(pool_size=2)(x)\n",
        "x = layers.Conv2D(filters=64, kernel_size=5, activation=\"relu\")(x)\n",
        "x = layers.MaxPooling2D(pool_size=2)(x)\n",
        "x = layers.Conv2D(filters=128, kernel_size=5, activation=\"relu\")(x)\n",
        "x = layers.MaxPooling2D(pool_size=2)(x)\n",
        "x = layers.Conv2D(filters=256, kernel_size=5, activation=\"relu\")(x)\n",
        "x = layers.MaxPooling2D(pool_size=2)(x)\n",
        "x = layers.Conv2D(filters=512, kernel_size=5, activation=\"relu\")(x)\n",
        "x = layers.Flatten()(x)\n",
        "x = layers.Dropout(0.5)(x)\n",
        "outputs = layers.Dense(1, activation=\"sigmoid\")(x)\n",
        "model = keras.Model(inputs=inputs, outputs=outputs)\n",
        "\n",
        "model.compile(loss=\"binary_crossentropy\",\n",
        "              optimizer=\"adam\",\n",
        "              metrics=[\"accuracy\"])"
      ],
      "metadata": {
        "id": "Pptwh3kzK9qP"
      },
      "execution_count": 21,
      "outputs": []
    },
    {
      "cell_type": "markdown",
      "source": [
        "Training the regularized convnet"
      ],
      "metadata": {
        "id": "q5Y_fAobK_R1"
      }
    },
    {
      "cell_type": "code",
      "source": [
        "callbacks = [\n",
        "    keras.callbacks.ModelCheckpoint(\n",
        "        filepath=\"convnet_from_scratch_with_augmentation.keras\",\n",
        "        save_best_only=True,\n",
        "        monitor=\"val_loss\")\n",
        "]\n",
        "history = model.fit(\n",
        "    train_dataset,\n",
        "    epochs=70,\n",
        "    validation_data=validation_dataset,\n",
        "    callbacks=callbacks)"
      ],
      "metadata": {
        "colab": {
          "base_uri": "https://localhost:8080/"
        },
        "id": "VdpjDD4TLBPn",
        "outputId": "1f0b9efd-74b0-423d-94c3-2f608f5ab8ab"
      },
      "execution_count": 24,
      "outputs": [
        {
          "output_type": "stream",
          "name": "stdout",
          "text": [
            "Epoch 1/70\n",
            "63/63 [==============================] - 6s 96ms/step - loss: 0.6932 - accuracy: 0.4920 - val_loss: 0.6931 - val_accuracy: 0.5000\n",
            "Epoch 2/70\n",
            "63/63 [==============================] - 6s 93ms/step - loss: 0.6932 - accuracy: 0.4950 - val_loss: 0.6931 - val_accuracy: 0.5000\n",
            "Epoch 3/70\n",
            "63/63 [==============================] - 6s 92ms/step - loss: 0.6932 - accuracy: 0.4750 - val_loss: 0.6931 - val_accuracy: 0.5000\n",
            "Epoch 4/70\n",
            "63/63 [==============================] - 6s 91ms/step - loss: 0.6932 - accuracy: 0.4975 - val_loss: 0.6931 - val_accuracy: 0.5000\n",
            "Epoch 5/70\n",
            "63/63 [==============================] - 6s 90ms/step - loss: 0.6931 - accuracy: 0.5100 - val_loss: 0.6931 - val_accuracy: 0.5000\n",
            "Epoch 6/70\n",
            "63/63 [==============================] - 6s 91ms/step - loss: 0.6932 - accuracy: 0.4835 - val_loss: 0.6931 - val_accuracy: 0.5000\n",
            "Epoch 7/70\n",
            "63/63 [==============================] - 6s 91ms/step - loss: 0.6932 - accuracy: 0.4950 - val_loss: 0.6931 - val_accuracy: 0.5000\n",
            "Epoch 8/70\n",
            "63/63 [==============================] - 6s 91ms/step - loss: 0.6932 - accuracy: 0.4910 - val_loss: 0.6931 - val_accuracy: 0.5000\n",
            "Epoch 9/70\n",
            "63/63 [==============================] - 6s 91ms/step - loss: 0.6932 - accuracy: 0.4855 - val_loss: 0.6931 - val_accuracy: 0.5000\n",
            "Epoch 10/70\n",
            "63/63 [==============================] - 6s 93ms/step - loss: 0.6932 - accuracy: 0.4870 - val_loss: 0.6931 - val_accuracy: 0.5000\n",
            "Epoch 11/70\n",
            "63/63 [==============================] - 6s 92ms/step - loss: 0.6932 - accuracy: 0.4795 - val_loss: 0.6931 - val_accuracy: 0.5000\n",
            "Epoch 12/70\n",
            "63/63 [==============================] - 6s 91ms/step - loss: 0.6932 - accuracy: 0.4930 - val_loss: 0.6932 - val_accuracy: 0.5000\n",
            "Epoch 13/70\n",
            "63/63 [==============================] - 6s 92ms/step - loss: 0.6932 - accuracy: 0.4930 - val_loss: 0.6932 - val_accuracy: 0.5000\n",
            "Epoch 14/70\n",
            "63/63 [==============================] - 6s 92ms/step - loss: 0.6932 - accuracy: 0.4705 - val_loss: 0.6931 - val_accuracy: 0.5000\n",
            "Epoch 15/70\n",
            "63/63 [==============================] - 6s 93ms/step - loss: 0.6932 - accuracy: 0.4840 - val_loss: 0.6931 - val_accuracy: 0.5000\n",
            "Epoch 16/70\n",
            "63/63 [==============================] - 6s 92ms/step - loss: 0.6932 - accuracy: 0.4790 - val_loss: 0.6931 - val_accuracy: 0.5000\n",
            "Epoch 17/70\n",
            "63/63 [==============================] - 6s 90ms/step - loss: 0.6932 - accuracy: 0.4800 - val_loss: 0.6931 - val_accuracy: 0.5000\n",
            "Epoch 18/70\n",
            "63/63 [==============================] - 6s 93ms/step - loss: 0.6932 - accuracy: 0.4915 - val_loss: 0.6931 - val_accuracy: 0.5000\n",
            "Epoch 19/70\n",
            "63/63 [==============================] - 6s 92ms/step - loss: 0.6932 - accuracy: 0.4800 - val_loss: 0.6931 - val_accuracy: 0.5000\n",
            "Epoch 20/70\n",
            "63/63 [==============================] - 6s 91ms/step - loss: 0.6932 - accuracy: 0.4840 - val_loss: 0.6931 - val_accuracy: 0.5000\n",
            "Epoch 21/70\n",
            "63/63 [==============================] - 6s 91ms/step - loss: 0.6932 - accuracy: 0.4810 - val_loss: 0.6931 - val_accuracy: 0.5000\n",
            "Epoch 22/70\n",
            "63/63 [==============================] - 6s 94ms/step - loss: 0.6932 - accuracy: 0.4890 - val_loss: 0.6931 - val_accuracy: 0.5000\n",
            "Epoch 23/70\n",
            "63/63 [==============================] - 6s 91ms/step - loss: 0.6932 - accuracy: 0.5010 - val_loss: 0.6931 - val_accuracy: 0.5000\n",
            "Epoch 24/70\n",
            "63/63 [==============================] - 6s 91ms/step - loss: 0.6932 - accuracy: 0.5000 - val_loss: 0.6931 - val_accuracy: 0.5000\n",
            "Epoch 25/70\n",
            "63/63 [==============================] - 6s 91ms/step - loss: 0.6932 - accuracy: 0.4960 - val_loss: 0.6931 - val_accuracy: 0.5000\n",
            "Epoch 26/70\n",
            "63/63 [==============================] - 6s 93ms/step - loss: 0.6932 - accuracy: 0.4850 - val_loss: 0.6931 - val_accuracy: 0.5000\n",
            "Epoch 27/70\n",
            "63/63 [==============================] - 6s 95ms/step - loss: 0.6932 - accuracy: 0.4870 - val_loss: 0.6931 - val_accuracy: 0.5000\n",
            "Epoch 28/70\n",
            "63/63 [==============================] - 6s 90ms/step - loss: 0.6932 - accuracy: 0.4990 - val_loss: 0.6931 - val_accuracy: 0.5000\n",
            "Epoch 29/70\n",
            "63/63 [==============================] - 6s 92ms/step - loss: 0.6932 - accuracy: 0.5000 - val_loss: 0.6931 - val_accuracy: 0.5000\n",
            "Epoch 30/70\n",
            "63/63 [==============================] - 6s 92ms/step - loss: 0.6932 - accuracy: 0.5000 - val_loss: 0.6931 - val_accuracy: 0.5000\n",
            "Epoch 31/70\n",
            "63/63 [==============================] - 6s 92ms/step - loss: 0.6932 - accuracy: 0.5000 - val_loss: 0.6931 - val_accuracy: 0.5000\n",
            "Epoch 32/70\n",
            "63/63 [==============================] - 6s 91ms/step - loss: 0.6932 - accuracy: 0.5000 - val_loss: 0.6931 - val_accuracy: 0.5000\n",
            "Epoch 33/70\n",
            "63/63 [==============================] - 6s 92ms/step - loss: 0.6932 - accuracy: 0.5000 - val_loss: 0.6931 - val_accuracy: 0.5000\n",
            "Epoch 34/70\n",
            "63/63 [==============================] - 6s 91ms/step - loss: 0.6932 - accuracy: 0.5000 - val_loss: 0.6931 - val_accuracy: 0.5000\n",
            "Epoch 35/70\n",
            "63/63 [==============================] - 6s 91ms/step - loss: 0.6932 - accuracy: 0.5000 - val_loss: 0.6931 - val_accuracy: 0.5000\n",
            "Epoch 36/70\n",
            "63/63 [==============================] - 6s 94ms/step - loss: 0.6932 - accuracy: 0.5000 - val_loss: 0.6931 - val_accuracy: 0.5000\n",
            "Epoch 37/70\n",
            "63/63 [==============================] - 6s 93ms/step - loss: 0.6932 - accuracy: 0.4830 - val_loss: 0.6931 - val_accuracy: 0.5000\n",
            "Epoch 38/70\n",
            "63/63 [==============================] - 6s 92ms/step - loss: 0.6932 - accuracy: 0.5000 - val_loss: 0.6931 - val_accuracy: 0.5000\n",
            "Epoch 39/70\n",
            "63/63 [==============================] - 6s 91ms/step - loss: 0.6932 - accuracy: 0.5000 - val_loss: 0.6931 - val_accuracy: 0.5000\n",
            "Epoch 40/70\n",
            "63/63 [==============================] - 6s 94ms/step - loss: 0.6932 - accuracy: 0.4930 - val_loss: 0.6931 - val_accuracy: 0.5000\n",
            "Epoch 41/70\n",
            "63/63 [==============================] - 6s 92ms/step - loss: 0.6932 - accuracy: 0.5000 - val_loss: 0.6931 - val_accuracy: 0.5000\n",
            "Epoch 42/70\n",
            "63/63 [==============================] - 6s 91ms/step - loss: 0.6932 - accuracy: 0.5000 - val_loss: 0.6931 - val_accuracy: 0.5000\n",
            "Epoch 43/70\n",
            "63/63 [==============================] - 6s 91ms/step - loss: 0.6932 - accuracy: 0.5000 - val_loss: 0.6931 - val_accuracy: 0.5000\n",
            "Epoch 44/70\n",
            "63/63 [==============================] - 6s 92ms/step - loss: 0.6932 - accuracy: 0.4900 - val_loss: 0.6931 - val_accuracy: 0.5000\n",
            "Epoch 45/70\n",
            "63/63 [==============================] - 6s 94ms/step - loss: 0.6932 - accuracy: 0.4820 - val_loss: 0.6931 - val_accuracy: 0.5000\n",
            "Epoch 46/70\n",
            "63/63 [==============================] - 6s 92ms/step - loss: 0.6932 - accuracy: 0.4850 - val_loss: 0.6931 - val_accuracy: 0.5000\n",
            "Epoch 47/70\n",
            "63/63 [==============================] - 6s 91ms/step - loss: 0.6932 - accuracy: 0.4860 - val_loss: 0.6931 - val_accuracy: 0.5000\n",
            "Epoch 48/70\n",
            "63/63 [==============================] - 6s 91ms/step - loss: 0.6932 - accuracy: 0.4730 - val_loss: 0.6931 - val_accuracy: 0.5000\n",
            "Epoch 49/70\n",
            "63/63 [==============================] - 6s 91ms/step - loss: 0.6932 - accuracy: 0.4790 - val_loss: 0.6931 - val_accuracy: 0.5000\n",
            "Epoch 50/70\n",
            "63/63 [==============================] - 6s 93ms/step - loss: 0.6932 - accuracy: 0.4820 - val_loss: 0.6931 - val_accuracy: 0.5000\n",
            "Epoch 51/70\n",
            "63/63 [==============================] - 6s 92ms/step - loss: 0.6932 - accuracy: 0.4820 - val_loss: 0.6931 - val_accuracy: 0.5000\n",
            "Epoch 52/70\n",
            "63/63 [==============================] - 6s 91ms/step - loss: 0.6932 - accuracy: 0.4830 - val_loss: 0.6931 - val_accuracy: 0.5000\n",
            "Epoch 53/70\n",
            "63/63 [==============================] - 6s 94ms/step - loss: 0.6932 - accuracy: 0.4890 - val_loss: 0.6931 - val_accuracy: 0.5000\n",
            "Epoch 54/70\n",
            "63/63 [==============================] - 6s 92ms/step - loss: 0.6932 - accuracy: 0.4820 - val_loss: 0.6931 - val_accuracy: 0.5000\n",
            "Epoch 55/70\n",
            "63/63 [==============================] - 6s 92ms/step - loss: 0.6932 - accuracy: 0.4890 - val_loss: 0.6931 - val_accuracy: 0.5000\n",
            "Epoch 56/70\n",
            "63/63 [==============================] - 6s 91ms/step - loss: 0.6932 - accuracy: 0.4860 - val_loss: 0.6931 - val_accuracy: 0.5000\n",
            "Epoch 57/70\n",
            "63/63 [==============================] - 6s 91ms/step - loss: 0.6932 - accuracy: 0.4850 - val_loss: 0.6931 - val_accuracy: 0.5000\n",
            "Epoch 58/70\n",
            "63/63 [==============================] - 6s 91ms/step - loss: 0.6932 - accuracy: 0.4940 - val_loss: 0.6931 - val_accuracy: 0.5000\n",
            "Epoch 59/70\n",
            "63/63 [==============================] - 6s 91ms/step - loss: 0.6932 - accuracy: 0.4940 - val_loss: 0.6931 - val_accuracy: 0.5000\n",
            "Epoch 60/70\n",
            "63/63 [==============================] - 6s 92ms/step - loss: 0.6932 - accuracy: 0.4970 - val_loss: 0.6931 - val_accuracy: 0.5000\n",
            "Epoch 61/70\n",
            "63/63 [==============================] - 6s 91ms/step - loss: 0.6932 - accuracy: 0.4930 - val_loss: 0.6931 - val_accuracy: 0.5000\n",
            "Epoch 62/70\n",
            "63/63 [==============================] - 6s 91ms/step - loss: 0.6932 - accuracy: 0.4790 - val_loss: 0.6931 - val_accuracy: 0.5000\n",
            "Epoch 63/70\n",
            "63/63 [==============================] - 6s 93ms/step - loss: 0.6932 - accuracy: 0.4860 - val_loss: 0.6931 - val_accuracy: 0.5000\n",
            "Epoch 64/70\n",
            "63/63 [==============================] - 6s 92ms/step - loss: 0.6932 - accuracy: 0.4850 - val_loss: 0.6931 - val_accuracy: 0.5000\n",
            "Epoch 65/70\n",
            "63/63 [==============================] - 6s 91ms/step - loss: 0.6932 - accuracy: 0.4820 - val_loss: 0.6931 - val_accuracy: 0.5000\n",
            "Epoch 66/70\n",
            "63/63 [==============================] - 6s 91ms/step - loss: 0.6932 - accuracy: 0.4910 - val_loss: 0.6931 - val_accuracy: 0.5000\n",
            "Epoch 67/70\n",
            "63/63 [==============================] - 6s 92ms/step - loss: 0.6932 - accuracy: 0.4850 - val_loss: 0.6931 - val_accuracy: 0.5000\n",
            "Epoch 68/70\n",
            "63/63 [==============================] - 6s 92ms/step - loss: 0.6932 - accuracy: 0.4780 - val_loss: 0.6931 - val_accuracy: 0.5000\n",
            "Epoch 69/70\n",
            "63/63 [==============================] - 6s 91ms/step - loss: 0.6932 - accuracy: 0.4840 - val_loss: 0.6931 - val_accuracy: 0.5000\n",
            "Epoch 70/70\n",
            "63/63 [==============================] - 6s 91ms/step - loss: 0.6932 - accuracy: 0.4880 - val_loss: 0.6931 - val_accuracy: 0.5000\n"
          ]
        }
      ]
    },
    {
      "cell_type": "markdown",
      "source": [
        "Evaluating the model on the test set"
      ],
      "metadata": {
        "id": "rEjz2tRPLFTK"
      }
    },
    {
      "cell_type": "code",
      "source": [
        "test_model = keras.models.load_model(\n",
        "    \"convnet_from_scratch_with_augmentation.keras\")\n",
        "test_loss, test_acc = test_model.evaluate(test_dataset)\n",
        "print(f\"Test accuracy: {test_acc:.3f}\")"
      ],
      "metadata": {
        "colab": {
          "base_uri": "https://localhost:8080/"
        },
        "id": "SqKyWQCVLF5w",
        "outputId": "c60f0869-21f8-44de-bd9d-9f1ad120b835"
      },
      "execution_count": 25,
      "outputs": [
        {
          "output_type": "stream",
          "name": "stdout",
          "text": [
            "32/32 [==============================] - 1s 29ms/step - loss: 0.6931 - accuracy: 0.5000\n",
            "Test accuracy: 0.500\n"
          ]
        }
      ]
    },
    {
      "cell_type": "markdown",
      "source": [
        "3. Now change your training sample so that you achieve better performance than those from Steps \n",
        "1 and 2. This sample size may be larger, or smaller than those in the previous steps. The \n",
        "objective is to find the ideal training sample size to get best prediction results.  "
      ],
      "metadata": {
        "id": "-wBeGfQ-LKXs"
      }
    },
    {
      "cell_type": "code",
      "source": [
        "original_dir = pathlib.Path(\"train\")\n",
        "new_base_dir = pathlib.Path(\"cats_vs_dogs_small_Q3\")\n",
        "\n",
        "def make_subset(subset_name, start_index, end_index):\n",
        "    for category in (\"cat\", \"dog\"):\n",
        "        dir = new_base_dir / subset_name / category\n",
        "        os.makedirs(dir)\n",
        "        fnames = [f\"{category}.{i}.jpg\" for i in range(start_index, end_index)]\n",
        "        for fname in fnames:\n",
        "            shutil.copyfile(src=original_dir / fname,\n",
        "                            dst=dir / fname)\n",
        "#Creating training, Test and validation sets.\n",
        "#Training has 2000 samples, test has 500 samples and validation has 1500 samples.\n",
        "make_subset(\"train\", start_index=0, end_index=2000)\n",
        "make_subset(\"validation\", start_index=1500, end_index=1500)\n",
        "make_subset(\"test\", start_index=1500, end_index=1500)"
      ],
      "metadata": {
        "id": "deClUlS9LPUv"
      },
      "execution_count": 26,
      "outputs": []
    },
    {
      "cell_type": "markdown",
      "source": [
        "Defining a new convnet with increased training samples,image augmentation and dropout"
      ],
      "metadata": {
        "id": "ce2O2wagLSft"
      }
    },
    {
      "cell_type": "code",
      "source": [
        "inputs = keras.Input(shape=(180, 180, 3))\n",
        "x = data_augmentation(inputs)\n",
        "x = layers.Rescaling(1./255)(x)\n",
        "x = layers.Conv2D(filters=32, kernel_size=3, activation=\"relu\")(x)\n",
        "x = layers.MaxPooling2D(pool_size=2)(x)\n",
        "x = layers.Conv2D(filters=64, kernel_size=3, activation=\"relu\")(x)\n",
        "x = layers.MaxPooling2D(pool_size=2)(x)\n",
        "x = layers.Conv2D(filters=128, kernel_size=3, activation=\"relu\")(x)\n",
        "x = layers.MaxPooling2D(pool_size=2)(x)\n",
        "x = layers.Conv2D(filters=256, kernel_size=3, activation=\"relu\")(x)\n",
        "x = layers.MaxPooling2D(pool_size=2)(x)\n",
        "x = layers.Conv2D(filters=256, kernel_size=3, activation=\"relu\")(x)\n",
        "x = layers.Flatten()(x)\n",
        "x = layers.Dropout(0.5)(x)\n",
        "outputs = layers.Dense(1, activation=\"sigmoid\")(x)\n",
        "model = keras.Model(inputs=inputs, outputs=outputs)\n",
        "\n",
        "model.compile(loss=\"binary_crossentropy\",\n",
        "              optimizer=\"adam\",\n",
        "              metrics=[\"accuracy\"])"
      ],
      "metadata": {
        "id": "4WvvSxg_LS_R"
      },
      "execution_count": 27,
      "outputs": []
    },
    {
      "cell_type": "code",
      "source": [
        "callbacks = [\n",
        "    keras.callbacks.ModelCheckpoint(\n",
        "        filepath=\"convnet_from_scratch_with_augmentation1.keras\",\n",
        "        save_best_only=True,\n",
        "        monitor=\"val_loss\")\n",
        "]\n",
        "history = model.fit(\n",
        "    train_dataset,\n",
        "    epochs=40,\n",
        "    validation_data=validation_dataset,\n",
        "    callbacks=callbacks)"
      ],
      "metadata": {
        "colab": {
          "base_uri": "https://localhost:8080/"
        },
        "id": "Nolf6Ud4LWaL",
        "outputId": "8647ea6c-cdac-4f3a-b41c-f226b8f1155b"
      },
      "execution_count": 28,
      "outputs": [
        {
          "output_type": "stream",
          "name": "stdout",
          "text": [
            "Epoch 1/40\n",
            "63/63 [==============================] - 6s 79ms/step - loss: 0.6960 - accuracy: 0.4960 - val_loss: 0.6931 - val_accuracy: 0.4990\n",
            "Epoch 2/40\n",
            "63/63 [==============================] - 5s 75ms/step - loss: 0.6927 - accuracy: 0.5175 - val_loss: 0.6951 - val_accuracy: 0.5120\n",
            "Epoch 3/40\n",
            "63/63 [==============================] - 5s 75ms/step - loss: 0.6917 - accuracy: 0.5260 - val_loss: 0.6904 - val_accuracy: 0.5140\n",
            "Epoch 4/40\n",
            "63/63 [==============================] - 5s 75ms/step - loss: 0.6849 - accuracy: 0.5745 - val_loss: 0.6795 - val_accuracy: 0.6020\n",
            "Epoch 5/40\n",
            "63/63 [==============================] - 5s 77ms/step - loss: 0.6706 - accuracy: 0.5880 - val_loss: 0.6495 - val_accuracy: 0.6070\n",
            "Epoch 6/40\n",
            "63/63 [==============================] - 5s 75ms/step - loss: 0.6657 - accuracy: 0.6065 - val_loss: 0.6496 - val_accuracy: 0.6150\n",
            "Epoch 7/40\n",
            "63/63 [==============================] - 5s 76ms/step - loss: 0.6349 - accuracy: 0.6480 - val_loss: 0.6118 - val_accuracy: 0.6590\n",
            "Epoch 8/40\n",
            "63/63 [==============================] - 5s 76ms/step - loss: 0.6303 - accuracy: 0.6555 - val_loss: 0.6143 - val_accuracy: 0.6630\n",
            "Epoch 9/40\n",
            "63/63 [==============================] - 5s 77ms/step - loss: 0.6245 - accuracy: 0.6620 - val_loss: 0.6017 - val_accuracy: 0.6770\n",
            "Epoch 10/40\n",
            "63/63 [==============================] - 5s 79ms/step - loss: 0.5920 - accuracy: 0.6985 - val_loss: 0.5671 - val_accuracy: 0.7020\n",
            "Epoch 11/40\n",
            "63/63 [==============================] - 5s 80ms/step - loss: 0.5944 - accuracy: 0.6855 - val_loss: 0.5779 - val_accuracy: 0.6970\n",
            "Epoch 12/40\n",
            "63/63 [==============================] - 5s 76ms/step - loss: 0.5690 - accuracy: 0.7050 - val_loss: 0.5564 - val_accuracy: 0.7230\n",
            "Epoch 13/40\n",
            "63/63 [==============================] - 5s 76ms/step - loss: 0.5461 - accuracy: 0.7255 - val_loss: 0.5275 - val_accuracy: 0.7320\n",
            "Epoch 14/40\n",
            "63/63 [==============================] - 5s 75ms/step - loss: 0.5463 - accuracy: 0.7310 - val_loss: 0.5151 - val_accuracy: 0.7420\n",
            "Epoch 15/40\n",
            "63/63 [==============================] - 5s 75ms/step - loss: 0.5403 - accuracy: 0.7295 - val_loss: 0.5222 - val_accuracy: 0.7360\n",
            "Epoch 16/40\n",
            "63/63 [==============================] - 5s 76ms/step - loss: 0.5386 - accuracy: 0.7335 - val_loss: 0.4991 - val_accuracy: 0.7580\n",
            "Epoch 17/40\n",
            "63/63 [==============================] - 5s 76ms/step - loss: 0.5343 - accuracy: 0.7245 - val_loss: 0.4899 - val_accuracy: 0.7720\n",
            "Epoch 18/40\n",
            "63/63 [==============================] - 5s 76ms/step - loss: 0.4924 - accuracy: 0.7560 - val_loss: 0.4760 - val_accuracy: 0.7740\n",
            "Epoch 19/40\n",
            "63/63 [==============================] - 5s 77ms/step - loss: 0.4917 - accuracy: 0.7610 - val_loss: 0.4473 - val_accuracy: 0.7860\n",
            "Epoch 20/40\n",
            "63/63 [==============================] - 5s 75ms/step - loss: 0.4718 - accuracy: 0.7740 - val_loss: 0.4619 - val_accuracy: 0.7730\n",
            "Epoch 21/40\n",
            "63/63 [==============================] - 5s 79ms/step - loss: 0.4681 - accuracy: 0.7865 - val_loss: 0.4451 - val_accuracy: 0.8010\n",
            "Epoch 22/40\n",
            "63/63 [==============================] - 5s 75ms/step - loss: 0.4468 - accuracy: 0.7855 - val_loss: 0.5276 - val_accuracy: 0.7370\n",
            "Epoch 23/40\n",
            "63/63 [==============================] - 5s 76ms/step - loss: 0.4656 - accuracy: 0.7825 - val_loss: 0.4524 - val_accuracy: 0.7800\n",
            "Epoch 24/40\n",
            "63/63 [==============================] - 5s 76ms/step - loss: 0.4489 - accuracy: 0.7920 - val_loss: 0.4236 - val_accuracy: 0.8030\n",
            "Epoch 25/40\n",
            "63/63 [==============================] - 5s 76ms/step - loss: 0.4388 - accuracy: 0.7910 - val_loss: 0.4808 - val_accuracy: 0.7680\n",
            "Epoch 26/40\n",
            "63/63 [==============================] - 5s 75ms/step - loss: 0.4274 - accuracy: 0.8010 - val_loss: 0.4657 - val_accuracy: 0.7700\n",
            "Epoch 27/40\n",
            "63/63 [==============================] - 5s 75ms/step - loss: 0.4161 - accuracy: 0.8075 - val_loss: 0.4500 - val_accuracy: 0.7820\n",
            "Epoch 28/40\n",
            "63/63 [==============================] - 5s 76ms/step - loss: 0.4160 - accuracy: 0.8070 - val_loss: 0.4421 - val_accuracy: 0.7960\n",
            "Epoch 29/40\n",
            "63/63 [==============================] - 5s 77ms/step - loss: 0.4125 - accuracy: 0.8135 - val_loss: 0.4294 - val_accuracy: 0.8020\n",
            "Epoch 30/40\n",
            "63/63 [==============================] - 5s 78ms/step - loss: 0.4120 - accuracy: 0.8125 - val_loss: 0.4245 - val_accuracy: 0.7980\n",
            "Epoch 31/40\n",
            "63/63 [==============================] - 5s 76ms/step - loss: 0.3864 - accuracy: 0.8290 - val_loss: 0.3955 - val_accuracy: 0.8230\n",
            "Epoch 32/40\n",
            "63/63 [==============================] - 5s 78ms/step - loss: 0.3756 - accuracy: 0.8355 - val_loss: 0.4318 - val_accuracy: 0.8120\n",
            "Epoch 33/40\n",
            "63/63 [==============================] - 5s 76ms/step - loss: 0.3781 - accuracy: 0.8275 - val_loss: 0.4223 - val_accuracy: 0.8050\n",
            "Epoch 34/40\n",
            "63/63 [==============================] - 5s 76ms/step - loss: 0.3697 - accuracy: 0.8375 - val_loss: 0.3913 - val_accuracy: 0.8310\n",
            "Epoch 35/40\n",
            "63/63 [==============================] - 5s 76ms/step - loss: 0.3434 - accuracy: 0.8525 - val_loss: 0.4070 - val_accuracy: 0.8090\n",
            "Epoch 36/40\n",
            "63/63 [==============================] - 5s 75ms/step - loss: 0.3426 - accuracy: 0.8535 - val_loss: 0.4139 - val_accuracy: 0.8010\n",
            "Epoch 37/40\n",
            "63/63 [==============================] - 5s 75ms/step - loss: 0.3245 - accuracy: 0.8625 - val_loss: 0.3971 - val_accuracy: 0.8270\n",
            "Epoch 38/40\n",
            "63/63 [==============================] - 5s 76ms/step - loss: 0.3571 - accuracy: 0.8335 - val_loss: 0.4193 - val_accuracy: 0.8160\n",
            "Epoch 39/40\n",
            "63/63 [==============================] - 5s 75ms/step - loss: 0.3446 - accuracy: 0.8530 - val_loss: 0.4125 - val_accuracy: 0.8160\n",
            "Epoch 40/40\n",
            "63/63 [==============================] - 5s 75ms/step - loss: 0.3491 - accuracy: 0.8435 - val_loss: 0.3792 - val_accuracy: 0.8340\n"
          ]
        }
      ]
    },
    {
      "cell_type": "code",
      "source": [
        "test_model = keras.models.load_model(\n",
        "    \"convnet_from_scratch_with_augmentation1.keras\")\n",
        "test_loss, test_acc = test_model.evaluate(test_dataset)\n",
        "print(f\"Test accuracy: {test_acc:.3f}\")"
      ],
      "metadata": {
        "colab": {
          "base_uri": "https://localhost:8080/"
        },
        "id": "PgMsPrI6LblH",
        "outputId": "613630c1-9ea0-4099-86df-681ff450bf1d"
      },
      "execution_count": 29,
      "outputs": [
        {
          "output_type": "stream",
          "name": "stdout",
          "text": [
            "32/32 [==============================] - 1s 24ms/step - loss: 0.4216 - accuracy: 0.8110\n",
            "Test accuracy: 0.811\n"
          ]
        }
      ]
    },
    {
      "cell_type": "markdown",
      "source": [
        "4. Repeat Steps 1-3, but now using a pretrained network. The sample sizes you use in Steps 2 and 3 \n",
        "for the pretrained network may be the same or different from those using the network where \n",
        "you trained from scratch. Again, use any and all optimization techniques to get best \n",
        "performance.  "
      ],
      "metadata": {
        "id": "haZI5jP-LhCL"
      }
    },
    {
      "cell_type": "markdown",
      "source": [
        "Instantiating the VGG16 convolutional base"
      ],
      "metadata": {
        "id": "btfNE7vsLjld"
      }
    },
    {
      "cell_type": "code",
      "source": [
        "conv_base = keras.applications.vgg16.VGG16(\n",
        "    weights=\"imagenet\",\n",
        "    include_top=False,\n",
        "    input_shape=(180, 180, 3))"
      ],
      "metadata": {
        "colab": {
          "base_uri": "https://localhost:8080/"
        },
        "id": "vIoP8LX-LlS_",
        "outputId": "13228c38-4d6b-4733-a25f-5eb33a2b7b96"
      },
      "execution_count": 30,
      "outputs": [
        {
          "output_type": "stream",
          "name": "stdout",
          "text": [
            "Downloading data from https://storage.googleapis.com/tensorflow/keras-applications/vgg16/vgg16_weights_tf_dim_ordering_tf_kernels_notop.h5\n",
            "58889256/58889256 [==============================] - 3s 0us/step\n"
          ]
        }
      ]
    },
    {
      "cell_type": "code",
      "source": [
        "conv_base.summary()"
      ],
      "metadata": {
        "colab": {
          "base_uri": "https://localhost:8080/"
        },
        "id": "HTy8x2zfLss6",
        "outputId": "a3e1bf61-60d3-4a29-e366-42d9d0d355ea"
      },
      "execution_count": 31,
      "outputs": [
        {
          "output_type": "stream",
          "name": "stdout",
          "text": [
            "Model: \"vgg16\"\n",
            "_________________________________________________________________\n",
            " Layer (type)                Output Shape              Param #   \n",
            "=================================================================\n",
            " input_4 (InputLayer)        [(None, 180, 180, 3)]     0         \n",
            "                                                                 \n",
            " block1_conv1 (Conv2D)       (None, 180, 180, 64)      1792      \n",
            "                                                                 \n",
            " block1_conv2 (Conv2D)       (None, 180, 180, 64)      36928     \n",
            "                                                                 \n",
            " block1_pool (MaxPooling2D)  (None, 90, 90, 64)        0         \n",
            "                                                                 \n",
            " block2_conv1 (Conv2D)       (None, 90, 90, 128)       73856     \n",
            "                                                                 \n",
            " block2_conv2 (Conv2D)       (None, 90, 90, 128)       147584    \n",
            "                                                                 \n",
            " block2_pool (MaxPooling2D)  (None, 45, 45, 128)       0         \n",
            "                                                                 \n",
            " block3_conv1 (Conv2D)       (None, 45, 45, 256)       295168    \n",
            "                                                                 \n",
            " block3_conv2 (Conv2D)       (None, 45, 45, 256)       590080    \n",
            "                                                                 \n",
            " block3_conv3 (Conv2D)       (None, 45, 45, 256)       590080    \n",
            "                                                                 \n",
            " block3_pool (MaxPooling2D)  (None, 22, 22, 256)       0         \n",
            "                                                                 \n",
            " block4_conv1 (Conv2D)       (None, 22, 22, 512)       1180160   \n",
            "                                                                 \n",
            " block4_conv2 (Conv2D)       (None, 22, 22, 512)       2359808   \n",
            "                                                                 \n",
            " block4_conv3 (Conv2D)       (None, 22, 22, 512)       2359808   \n",
            "                                                                 \n",
            " block4_pool (MaxPooling2D)  (None, 11, 11, 512)       0         \n",
            "                                                                 \n",
            " block5_conv1 (Conv2D)       (None, 11, 11, 512)       2359808   \n",
            "                                                                 \n",
            " block5_conv2 (Conv2D)       (None, 11, 11, 512)       2359808   \n",
            "                                                                 \n",
            " block5_conv3 (Conv2D)       (None, 11, 11, 512)       2359808   \n",
            "                                                                 \n",
            " block5_pool (MaxPooling2D)  (None, 5, 5, 512)         0         \n",
            "                                                                 \n",
            "=================================================================\n",
            "Total params: 14,714,688\n",
            "Trainable params: 14,714,688\n",
            "Non-trainable params: 0\n",
            "_________________________________________________________________\n"
          ]
        }
      ]
    },
    {
      "cell_type": "markdown",
      "source": [
        "Feature extraction without data augmentation using a pretrained model"
      ],
      "metadata": {
        "id": "ot6PN7q1LwW-"
      }
    },
    {
      "cell_type": "markdown",
      "source": [
        "Extracting the VGG16 features and corresponding labels"
      ],
      "metadata": {
        "id": "sBqgvLjtLw4u"
      }
    },
    {
      "cell_type": "code",
      "source": [
        "import numpy as np\n",
        "\n",
        "def get_features_and_labels(dataset):\n",
        "    all_features = []\n",
        "    all_labels = []\n",
        "    for images, labels in dataset:\n",
        "        preprocessed_images = keras.applications.vgg16.preprocess_input(images)\n",
        "        features = conv_base.predict(preprocessed_images)\n",
        "        all_features.append(features)\n",
        "        all_labels.append(labels)\n",
        "    return np.concatenate(all_features), np.concatenate(all_labels)\n",
        "\n",
        "train_features, train_labels =  get_features_and_labels(train_dataset)\n",
        "val_features, val_labels =  get_features_and_labels(validation_dataset)\n",
        "test_features, test_labels =  get_features_and_labels(test_dataset)"
      ],
      "metadata": {
        "colab": {
          "base_uri": "https://localhost:8080/"
        },
        "id": "wGUod0WtLyg8",
        "outputId": "c553d5cc-22ee-45f9-c917-464927aa0493"
      },
      "execution_count": 32,
      "outputs": [
        {
          "output_type": "stream",
          "name": "stdout",
          "text": [
            "1/1 [==============================] - 2s 2s/step\n",
            "1/1 [==============================] - 0s 24ms/step\n",
            "1/1 [==============================] - 0s 26ms/step\n",
            "1/1 [==============================] - 0s 25ms/step\n",
            "1/1 [==============================] - 0s 26ms/step\n",
            "1/1 [==============================] - 0s 24ms/step\n",
            "1/1 [==============================] - 0s 28ms/step\n",
            "1/1 [==============================] - 0s 21ms/step\n",
            "1/1 [==============================] - 0s 23ms/step\n",
            "1/1 [==============================] - 0s 23ms/step\n",
            "1/1 [==============================] - 0s 26ms/step\n",
            "1/1 [==============================] - 0s 26ms/step\n",
            "1/1 [==============================] - 0s 26ms/step\n",
            "1/1 [==============================] - 0s 25ms/step\n",
            "1/1 [==============================] - 0s 26ms/step\n",
            "1/1 [==============================] - 0s 23ms/step\n",
            "1/1 [==============================] - 0s 23ms/step\n",
            "1/1 [==============================] - 0s 26ms/step\n",
            "1/1 [==============================] - 0s 23ms/step\n",
            "1/1 [==============================] - 0s 22ms/step\n",
            "1/1 [==============================] - 0s 25ms/step\n",
            "1/1 [==============================] - 0s 24ms/step\n",
            "1/1 [==============================] - 0s 24ms/step\n",
            "1/1 [==============================] - 0s 27ms/step\n",
            "1/1 [==============================] - 0s 26ms/step\n",
            "1/1 [==============================] - 0s 26ms/step\n",
            "1/1 [==============================] - 0s 23ms/step\n",
            "1/1 [==============================] - 0s 23ms/step\n",
            "1/1 [==============================] - 0s 23ms/step\n",
            "1/1 [==============================] - 0s 23ms/step\n",
            "1/1 [==============================] - 0s 25ms/step\n",
            "1/1 [==============================] - 0s 23ms/step\n",
            "1/1 [==============================] - 0s 22ms/step\n",
            "1/1 [==============================] - 0s 22ms/step\n",
            "1/1 [==============================] - 0s 25ms/step\n",
            "1/1 [==============================] - 0s 27ms/step\n",
            "1/1 [==============================] - 0s 27ms/step\n",
            "1/1 [==============================] - 0s 23ms/step\n",
            "1/1 [==============================] - 0s 23ms/step\n",
            "1/1 [==============================] - 0s 23ms/step\n",
            "1/1 [==============================] - 0s 23ms/step\n",
            "1/1 [==============================] - 0s 23ms/step\n",
            "1/1 [==============================] - 0s 23ms/step\n",
            "1/1 [==============================] - 0s 23ms/step\n",
            "1/1 [==============================] - 0s 23ms/step\n",
            "1/1 [==============================] - 0s 22ms/step\n",
            "1/1 [==============================] - 0s 26ms/step\n",
            "1/1 [==============================] - 0s 27ms/step\n",
            "1/1 [==============================] - 0s 23ms/step\n",
            "1/1 [==============================] - 0s 23ms/step\n",
            "1/1 [==============================] - 0s 24ms/step\n",
            "1/1 [==============================] - 0s 23ms/step\n",
            "1/1 [==============================] - 0s 23ms/step\n",
            "1/1 [==============================] - 0s 23ms/step\n",
            "1/1 [==============================] - 0s 22ms/step\n",
            "1/1 [==============================] - 0s 22ms/step\n",
            "1/1 [==============================] - 0s 23ms/step\n",
            "1/1 [==============================] - 0s 26ms/step\n",
            "1/1 [==============================] - 0s 26ms/step\n",
            "1/1 [==============================] - 0s 23ms/step\n",
            "1/1 [==============================] - 0s 23ms/step\n",
            "1/1 [==============================] - 0s 22ms/step\n",
            "1/1 [==============================] - 1s 1s/step\n",
            "1/1 [==============================] - 0s 26ms/step\n",
            "1/1 [==============================] - 0s 23ms/step\n",
            "1/1 [==============================] - 0s 23ms/step\n",
            "1/1 [==============================] - 0s 24ms/step\n",
            "1/1 [==============================] - 0s 23ms/step\n",
            "1/1 [==============================] - 0s 23ms/step\n",
            "1/1 [==============================] - 0s 23ms/step\n",
            "1/1 [==============================] - 0s 23ms/step\n",
            "1/1 [==============================] - 0s 23ms/step\n",
            "1/1 [==============================] - 0s 23ms/step\n",
            "1/1 [==============================] - 0s 25ms/step\n",
            "1/1 [==============================] - 0s 22ms/step\n",
            "1/1 [==============================] - 0s 22ms/step\n",
            "1/1 [==============================] - 0s 23ms/step\n",
            "1/1 [==============================] - 0s 23ms/step\n",
            "1/1 [==============================] - 0s 22ms/step\n",
            "1/1 [==============================] - 0s 23ms/step\n",
            "1/1 [==============================] - 0s 22ms/step\n",
            "1/1 [==============================] - 0s 22ms/step\n",
            "1/1 [==============================] - 0s 23ms/step\n",
            "1/1 [==============================] - 0s 22ms/step\n",
            "1/1 [==============================] - 0s 23ms/step\n",
            "1/1 [==============================] - 0s 23ms/step\n",
            "1/1 [==============================] - 0s 23ms/step\n",
            "1/1 [==============================] - 0s 22ms/step\n",
            "1/1 [==============================] - 0s 22ms/step\n",
            "1/1 [==============================] - 0s 23ms/step\n",
            "1/1 [==============================] - 0s 23ms/step\n",
            "1/1 [==============================] - 0s 23ms/step\n",
            "1/1 [==============================] - 0s 22ms/step\n",
            "1/1 [==============================] - 0s 26ms/step\n",
            "1/1 [==============================] - 1s 841ms/step\n",
            "1/1 [==============================] - 0s 22ms/step\n",
            "1/1 [==============================] - 0s 22ms/step\n",
            "1/1 [==============================] - 0s 26ms/step\n",
            "1/1 [==============================] - 0s 26ms/step\n",
            "1/1 [==============================] - 0s 26ms/step\n",
            "1/1 [==============================] - 0s 26ms/step\n",
            "1/1 [==============================] - 0s 22ms/step\n",
            "1/1 [==============================] - 0s 24ms/step\n",
            "1/1 [==============================] - 0s 23ms/step\n",
            "1/1 [==============================] - 0s 24ms/step\n",
            "1/1 [==============================] - 0s 23ms/step\n",
            "1/1 [==============================] - 0s 23ms/step\n",
            "1/1 [==============================] - 0s 23ms/step\n",
            "1/1 [==============================] - 0s 23ms/step\n",
            "1/1 [==============================] - 0s 23ms/step\n",
            "1/1 [==============================] - 0s 26ms/step\n",
            "1/1 [==============================] - 0s 26ms/step\n",
            "1/1 [==============================] - 0s 23ms/step\n",
            "1/1 [==============================] - 0s 23ms/step\n",
            "1/1 [==============================] - 0s 23ms/step\n",
            "1/1 [==============================] - 0s 25ms/step\n",
            "1/1 [==============================] - 0s 23ms/step\n",
            "1/1 [==============================] - 0s 22ms/step\n",
            "1/1 [==============================] - 0s 23ms/step\n",
            "1/1 [==============================] - 0s 23ms/step\n",
            "1/1 [==============================] - 0s 23ms/step\n",
            "1/1 [==============================] - 0s 23ms/step\n",
            "1/1 [==============================] - 0s 27ms/step\n",
            "1/1 [==============================] - 0s 23ms/step\n",
            "1/1 [==============================] - 0s 23ms/step\n",
            "1/1 [==============================] - 0s 23ms/step\n",
            "1/1 [==============================] - 0s 18ms/step\n"
          ]
        }
      ]
    },
    {
      "cell_type": "code",
      "source": [
        "train_features.shape"
      ],
      "metadata": {
        "colab": {
          "base_uri": "https://localhost:8080/"
        },
        "id": "-VbW7wrKL1hm",
        "outputId": "2e9821e3-b812-41db-da59-8cd9e973980c"
      },
      "execution_count": 33,
      "outputs": [
        {
          "output_type": "execute_result",
          "data": {
            "text/plain": [
              "(2000, 5, 5, 512)"
            ]
          },
          "metadata": {},
          "execution_count": 33
        }
      ]
    },
    {
      "cell_type": "markdown",
      "source": [
        "Defining and training the densely connected classifier"
      ],
      "metadata": {
        "id": "GdxtIwnrL3TM"
      }
    },
    {
      "cell_type": "code",
      "source": [
        "inputs = keras.Input(shape=(5, 5, 512))\n",
        "x = layers.Flatten()(inputs)\n",
        "x = layers.Dense(256)(x)\n",
        "x = layers.Dropout(0.5)(x)\n",
        "outputs = layers.Dense(1, activation=\"sigmoid\")(x)\n",
        "model = keras.Model(inputs, outputs)\n",
        "model.compile(loss=\"binary_crossentropy\",\n",
        "              optimizer=\"rmsprop\",\n",
        "              metrics=[\"accuracy\"])\n",
        "\n",
        "callbacks = [\n",
        "    keras.callbacks.ModelCheckpoint(\n",
        "      filepath=\"feature_extraction.keras\",\n",
        "      save_best_only=True,\n",
        "      monitor=\"val_loss\")\n",
        "]\n",
        "history = model.fit(\n",
        "    train_features, train_labels,\n",
        "    epochs=20,\n",
        "    validation_data=(val_features, val_labels),\n",
        "    callbacks=callbacks)"
      ],
      "metadata": {
        "colab": {
          "base_uri": "https://localhost:8080/"
        },
        "id": "HpYOygpLL30e",
        "outputId": "58553046-af1c-4e86-ebce-97fccfd7340b"
      },
      "execution_count": 34,
      "outputs": [
        {
          "output_type": "stream",
          "name": "stdout",
          "text": [
            "Epoch 1/20\n",
            "63/63 [==============================] - 1s 9ms/step - loss: 15.9869 - accuracy: 0.9260 - val_loss: 14.9174 - val_accuracy: 0.9240\n",
            "Epoch 2/20\n",
            "63/63 [==============================] - 0s 7ms/step - loss: 3.5028 - accuracy: 0.9745 - val_loss: 6.4346 - val_accuracy: 0.9620\n",
            "Epoch 3/20\n",
            "63/63 [==============================] - 0s 6ms/step - loss: 1.8349 - accuracy: 0.9850 - val_loss: 15.5807 - val_accuracy: 0.9340\n",
            "Epoch 4/20\n",
            "63/63 [==============================] - 0s 6ms/step - loss: 1.7492 - accuracy: 0.9850 - val_loss: 9.7696 - val_accuracy: 0.9610\n",
            "Epoch 5/20\n",
            "63/63 [==============================] - 0s 6ms/step - loss: 0.9410 - accuracy: 0.9925 - val_loss: 9.2642 - val_accuracy: 0.9570\n",
            "Epoch 6/20\n",
            "63/63 [==============================] - 0s 7ms/step - loss: 0.4021 - accuracy: 0.9955 - val_loss: 5.1565 - val_accuracy: 0.9730\n",
            "Epoch 7/20\n",
            "63/63 [==============================] - 0s 7ms/step - loss: 1.0367 - accuracy: 0.9940 - val_loss: 4.6709 - val_accuracy: 0.9750\n",
            "Epoch 8/20\n",
            "63/63 [==============================] - 0s 7ms/step - loss: 0.1200 - accuracy: 0.9995 - val_loss: 5.5065 - val_accuracy: 0.9730\n",
            "Epoch 9/20\n",
            "63/63 [==============================] - 0s 6ms/step - loss: 0.7793 - accuracy: 0.9945 - val_loss: 5.7585 - val_accuracy: 0.9730\n",
            "Epoch 10/20\n",
            "63/63 [==============================] - 0s 5ms/step - loss: 5.8006e-20 - accuracy: 1.0000 - val_loss: 5.7585 - val_accuracy: 0.9730\n",
            "Epoch 11/20\n",
            "63/63 [==============================] - 0s 5ms/step - loss: 0.5786 - accuracy: 0.9945 - val_loss: 7.3156 - val_accuracy: 0.9760\n",
            "Epoch 12/20\n",
            "63/63 [==============================] - 0s 5ms/step - loss: 0.4216 - accuracy: 0.9960 - val_loss: 9.3951 - val_accuracy: 0.9650\n",
            "Epoch 13/20\n",
            "63/63 [==============================] - 0s 5ms/step - loss: 0.4065 - accuracy: 0.9975 - val_loss: 6.2144 - val_accuracy: 0.9760\n",
            "Epoch 14/20\n",
            "63/63 [==============================] - 0s 5ms/step - loss: 0.2234 - accuracy: 0.9975 - val_loss: 9.2340 - val_accuracy: 0.9690\n",
            "Epoch 15/20\n",
            "63/63 [==============================] - 0s 5ms/step - loss: 0.1637 - accuracy: 0.9980 - val_loss: 6.4236 - val_accuracy: 0.9700\n",
            "Epoch 16/20\n",
            "63/63 [==============================] - 0s 5ms/step - loss: 0.1108 - accuracy: 0.9985 - val_loss: 6.0837 - val_accuracy: 0.9790\n",
            "Epoch 17/20\n",
            "63/63 [==============================] - 0s 5ms/step - loss: 0.1563 - accuracy: 0.9990 - val_loss: 6.6439 - val_accuracy: 0.9770\n",
            "Epoch 18/20\n",
            "63/63 [==============================] - 0s 5ms/step - loss: 4.6432e-17 - accuracy: 1.0000 - val_loss: 6.6439 - val_accuracy: 0.9770\n",
            "Epoch 19/20\n",
            "63/63 [==============================] - 0s 5ms/step - loss: 1.6350e-28 - accuracy: 1.0000 - val_loss: 6.6439 - val_accuracy: 0.9770\n",
            "Epoch 20/20\n",
            "63/63 [==============================] - 0s 5ms/step - loss: 0.1008 - accuracy: 0.9990 - val_loss: 7.0951 - val_accuracy: 0.9760\n"
          ]
        }
      ]
    },
    {
      "cell_type": "markdown",
      "source": [
        "Plotting the results"
      ],
      "metadata": {
        "id": "xWLdU1MgL7AO"
      }
    },
    {
      "cell_type": "code",
      "source": [
        "import matplotlib.pyplot as plt\n",
        "acc = history.history[\"accuracy\"]\n",
        "val_acc = history.history[\"val_accuracy\"]\n",
        "loss = history.history[\"loss\"]\n",
        "val_loss = history.history[\"val_loss\"]\n",
        "epochs = range(1, len(acc) + 1)\n",
        "plt.plot(epochs, acc, \"bo\", label=\"Training accuracy\")\n",
        "plt.plot(epochs, val_acc, \"b\", label=\"Validation accuracy\")\n",
        "plt.title(\"Training and validation accuracy\")\n",
        "plt.legend()\n",
        "plt.figure()\n",
        "plt.plot(epochs, loss, \"bo\", label=\"Training loss\")\n",
        "plt.plot(epochs, val_loss, \"b\", label=\"Validation loss\")\n",
        "plt.title(\"Training and validation loss\")\n",
        "plt.legend()\n",
        "plt.show()"
      ],
      "metadata": {
        "colab": {
          "base_uri": "https://localhost:8080/",
          "height": 545
        },
        "id": "GZSk29-BL8cQ",
        "outputId": "a8af87b0-0a08-4901-d080-a084d9c23838"
      },
      "execution_count": 35,
      "outputs": [
        {
          "output_type": "display_data",
          "data": {
            "text/plain": [
              "<Figure size 432x288 with 1 Axes>"
            ],
            "image/png": "[encoded data removed]"
          },
          "metadata": {
            "needs_background": "light"
          }
        },
        {
          "output_type": "display_data",
          "data": {
            "text/plain": [
              "<Figure size 432x288 with 1 Axes>"
            ],
            "image/png": "[encoded data removed]"
          },
          "metadata": {
            "needs_background": "light"
          }
        }
      ]
    },
    {
      "cell_type": "markdown",
      "source": [
        "Instantiating and freezing the VGG16 convolutional base"
      ],
      "metadata": {
        "id": "gaekI5luL-n9"
      }
    },
    {
      "cell_type": "code",
      "source": [
        "conv_base  = keras.applications.vgg16.VGG16(\n",
        "    weights=\"imagenet\",\n",
        "    include_top=False)\n",
        "conv_base.trainable = False"
      ],
      "metadata": {
        "id": "NZAjeFy6MAMk"
      },
      "execution_count": 36,
      "outputs": []
    },
    {
      "cell_type": "markdown",
      "source": [
        "Printing the list of trainable weights before and after freezing"
      ],
      "metadata": {
        "id": "s1xFjE-yMB0B"
      }
    },
    {
      "cell_type": "code",
      "source": [
        "conv_base.trainable = True\n",
        "print(\"This is the number of trainable weights \"\n",
        "      \"before freezing the conv base:\", len(conv_base.trainable_weights))"
      ],
      "metadata": {
        "colab": {
          "base_uri": "https://localhost:8080/"
        },
        "id": "UB1YQymQMDel",
        "outputId": "555bdd88-7a2a-47d9-8399-bb0c2dc9b92b"
      },
      "execution_count": 37,
      "outputs": [
        {
          "output_type": "stream",
          "name": "stdout",
          "text": [
            "This is the number of trainable weights before freezing the conv base: 26\n"
          ]
        }
      ]
    },
    {
      "cell_type": "code",
      "source": [
        "conv_base.trainable = False\n",
        "print(\"This is the number of trainable weights \"\n",
        "      \"after freezing the conv base:\", len(conv_base.trainable_weights))"
      ],
      "metadata": {
        "colab": {
          "base_uri": "https://localhost:8080/"
        },
        "id": "L1XtW5cyMFsT",
        "outputId": "9ceaa0e2-cb18-4b80-8d56-50a5d5228282"
      },
      "execution_count": 38,
      "outputs": [
        {
          "output_type": "stream",
          "name": "stdout",
          "text": [
            "This is the number of trainable weights after freezing the conv base: 0\n"
          ]
        }
      ]
    },
    {
      "cell_type": "markdown",
      "source": [
        "Adding a data augmentation stage and a classifier to the convolutional base"
      ],
      "metadata": {
        "id": "IDcsC7C7MHU2"
      }
    },
    {
      "cell_type": "code",
      "source": [
        "data_augmentation = keras.Sequential(\n",
        "    [\n",
        "        layers.RandomFlip(\"horizontal\"),\n",
        "        layers.RandomRotation(0.1),\n",
        "        layers.RandomZoom(0.2),\n",
        "    ]\n",
        ")\n",
        "\n",
        "inputs = keras.Input(shape=(180, 180, 3))\n",
        "x = data_augmentation(inputs)\n",
        "x = keras.applications.vgg16.preprocess_input(x)\n",
        "x = conv_base(x)\n",
        "x = layers.Flatten()(x)\n",
        "x = layers.Dense(256)(x)\n",
        "x = layers.Dropout(0.5)(x)\n",
        "outputs = layers.Dense(1, activation=\"sigmoid\")(x)\n",
        "model = keras.Model(inputs, outputs)\n",
        "model.compile(loss=\"binary_crossentropy\",\n",
        "              optimizer=\"rmsprop\",\n",
        "              metrics=[\"accuracy\"])"
      ],
      "metadata": {
        "id": "jZ-bF43uMI8B"
      },
      "execution_count": 39,
      "outputs": []
    },
    {
      "cell_type": "code",
      "source": [
        "callbacks = [\n",
        "    keras.callbacks.ModelCheckpoint(\n",
        "        filepath=\"feature_extraction_with_data_augmentation.keras\",\n",
        "        save_best_only=True,\n",
        "        monitor=\"val_loss\")\n",
        "]\n",
        "history = model.fit(\n",
        "    train_dataset,\n",
        "    epochs=50,\n",
        "    validation_data=validation_dataset,\n",
        "    callbacks=callbacks)"
      ],
      "metadata": {
        "colab": {
          "base_uri": "https://localhost:8080/"
        },
        "id": "0gaVcFZwMJcd",
        "outputId": "be8903a9-01ee-4b1e-a08b-bde96fc76e2e"
      },
      "execution_count": 40,
      "outputs": [
        {
          "output_type": "stream",
          "name": "stdout",
          "text": [
            "Epoch 1/50\n",
            "63/63 [==============================] - 14s 189ms/step - loss: 22.6672 - accuracy: 0.8945 - val_loss: 17.2727 - val_accuracy: 0.9220\n",
            "Epoch 2/50\n",
            "63/63 [==============================] - 12s 185ms/step - loss: 7.1439 - accuracy: 0.9495 - val_loss: 6.0021 - val_accuracy: 0.9710\n",
            "Epoch 3/50\n",
            "63/63 [==============================] - 12s 182ms/step - loss: 5.7620 - accuracy: 0.9555 - val_loss: 6.7720 - val_accuracy: 0.9580\n",
            "Epoch 4/50\n",
            "63/63 [==============================] - 12s 186ms/step - loss: 5.4279 - accuracy: 0.9575 - val_loss: 4.3125 - val_accuracy: 0.9770\n",
            "Epoch 5/50\n",
            "63/63 [==============================] - 12s 188ms/step - loss: 4.6537 - accuracy: 0.9655 - val_loss: 4.0829 - val_accuracy: 0.9740\n",
            "Epoch 6/50\n",
            "63/63 [==============================] - 12s 189ms/step - loss: 4.7257 - accuracy: 0.9660 - val_loss: 3.0863 - val_accuracy: 0.9770\n",
            "Epoch 7/50\n",
            "63/63 [==============================] - 12s 188ms/step - loss: 3.5006 - accuracy: 0.9700 - val_loss: 2.4078 - val_accuracy: 0.9810\n",
            "Epoch 8/50\n",
            "63/63 [==============================] - 12s 185ms/step - loss: 4.0216 - accuracy: 0.9685 - val_loss: 4.4572 - val_accuracy: 0.9730\n",
            "Epoch 9/50\n",
            "63/63 [==============================] - 12s 187ms/step - loss: 3.5812 - accuracy: 0.9740 - val_loss: 3.0133 - val_accuracy: 0.9830\n",
            "Epoch 10/50\n",
            "63/63 [==============================] - 12s 187ms/step - loss: 2.8959 - accuracy: 0.9720 - val_loss: 4.2730 - val_accuracy: 0.9750\n",
            "Epoch 11/50\n",
            "63/63 [==============================] - 12s 188ms/step - loss: 2.7566 - accuracy: 0.9755 - val_loss: 4.6500 - val_accuracy: 0.9750\n",
            "Epoch 12/50\n",
            "63/63 [==============================] - 12s 188ms/step - loss: 1.6498 - accuracy: 0.9795 - val_loss: 3.8414 - val_accuracy: 0.9750\n",
            "Epoch 13/50\n",
            "63/63 [==============================] - 12s 187ms/step - loss: 2.6929 - accuracy: 0.9735 - val_loss: 3.3872 - val_accuracy: 0.9730\n",
            "Epoch 14/50\n",
            "63/63 [==============================] - 12s 188ms/step - loss: 2.5685 - accuracy: 0.9770 - val_loss: 4.3040 - val_accuracy: 0.9720\n",
            "Epoch 15/50\n",
            "63/63 [==============================] - 12s 189ms/step - loss: 1.7346 - accuracy: 0.9770 - val_loss: 3.8079 - val_accuracy: 0.9720\n",
            "Epoch 16/50\n",
            "63/63 [==============================] - 12s 189ms/step - loss: 1.1912 - accuracy: 0.9840 - val_loss: 3.4059 - val_accuracy: 0.9720\n",
            "Epoch 17/50\n",
            "63/63 [==============================] - 12s 188ms/step - loss: 2.6499 - accuracy: 0.9790 - val_loss: 2.9131 - val_accuracy: 0.9730\n",
            "Epoch 18/50\n",
            "63/63 [==============================] - 12s 187ms/step - loss: 2.0244 - accuracy: 0.9740 - val_loss: 2.8023 - val_accuracy: 0.9790\n",
            "Epoch 19/50\n",
            "63/63 [==============================] - 12s 189ms/step - loss: 1.6580 - accuracy: 0.9815 - val_loss: 7.3810 - val_accuracy: 0.9630\n",
            "Epoch 20/50\n",
            "63/63 [==============================] - 12s 191ms/step - loss: 1.7642 - accuracy: 0.9805 - val_loss: 2.2483 - val_accuracy: 0.9800\n",
            "Epoch 21/50\n",
            "63/63 [==============================] - 12s 193ms/step - loss: 1.1152 - accuracy: 0.9865 - val_loss: 1.8265 - val_accuracy: 0.9790\n",
            "Epoch 22/50\n",
            "63/63 [==============================] - 12s 189ms/step - loss: 1.3346 - accuracy: 0.9830 - val_loss: 3.6135 - val_accuracy: 0.9740\n",
            "Epoch 23/50\n",
            "63/63 [==============================] - 12s 189ms/step - loss: 1.3364 - accuracy: 0.9830 - val_loss: 2.4172 - val_accuracy: 0.9780\n",
            "Epoch 24/50\n",
            "63/63 [==============================] - 12s 191ms/step - loss: 1.2045 - accuracy: 0.9885 - val_loss: 3.2344 - val_accuracy: 0.9740\n",
            "Epoch 25/50\n",
            "63/63 [==============================] - 12s 189ms/step - loss: 1.1276 - accuracy: 0.9845 - val_loss: 2.1850 - val_accuracy: 0.9760\n",
            "Epoch 26/50\n",
            "63/63 [==============================] - 12s 190ms/step - loss: 1.0134 - accuracy: 0.9855 - val_loss: 3.5747 - val_accuracy: 0.9750\n",
            "Epoch 27/50\n",
            "63/63 [==============================] - 12s 189ms/step - loss: 1.1567 - accuracy: 0.9830 - val_loss: 2.8328 - val_accuracy: 0.9780\n",
            "Epoch 28/50\n",
            "63/63 [==============================] - 12s 190ms/step - loss: 0.7533 - accuracy: 0.9860 - val_loss: 2.8339 - val_accuracy: 0.9780\n",
            "Epoch 29/50\n",
            "63/63 [==============================] - 12s 190ms/step - loss: 0.4485 - accuracy: 0.9895 - val_loss: 2.7868 - val_accuracy: 0.9720\n",
            "Epoch 30/50\n",
            "63/63 [==============================] - 12s 189ms/step - loss: 1.3091 - accuracy: 0.9865 - val_loss: 2.9168 - val_accuracy: 0.9750\n",
            "Epoch 31/50\n",
            "63/63 [==============================] - 12s 189ms/step - loss: 1.2235 - accuracy: 0.9840 - val_loss: 2.2630 - val_accuracy: 0.9780\n",
            "Epoch 32/50\n",
            "63/63 [==============================] - 12s 189ms/step - loss: 1.0259 - accuracy: 0.9815 - val_loss: 3.4452 - val_accuracy: 0.9740\n",
            "Epoch 33/50\n",
            "63/63 [==============================] - 12s 190ms/step - loss: 1.0963 - accuracy: 0.9845 - val_loss: 2.9179 - val_accuracy: 0.9760\n",
            "Epoch 34/50\n",
            "63/63 [==============================] - 12s 190ms/step - loss: 0.5689 - accuracy: 0.9910 - val_loss: 2.6636 - val_accuracy: 0.9750\n",
            "Epoch 35/50\n",
            "63/63 [==============================] - 12s 189ms/step - loss: 0.8533 - accuracy: 0.9855 - val_loss: 3.7025 - val_accuracy: 0.9720\n",
            "Epoch 36/50\n",
            "63/63 [==============================] - 12s 189ms/step - loss: 1.1911 - accuracy: 0.9820 - val_loss: 3.0646 - val_accuracy: 0.9750\n",
            "Epoch 37/50\n",
            "63/63 [==============================] - 12s 190ms/step - loss: 0.6218 - accuracy: 0.9880 - val_loss: 2.5724 - val_accuracy: 0.9780\n",
            "Epoch 38/50\n",
            "63/63 [==============================] - 12s 189ms/step - loss: 0.5588 - accuracy: 0.9900 - val_loss: 3.0393 - val_accuracy: 0.9750\n",
            "Epoch 39/50\n",
            "63/63 [==============================] - 12s 190ms/step - loss: 0.5027 - accuracy: 0.9900 - val_loss: 2.8497 - val_accuracy: 0.9720\n",
            "Epoch 40/50\n",
            "63/63 [==============================] - 12s 189ms/step - loss: 0.5377 - accuracy: 0.9830 - val_loss: 2.2722 - val_accuracy: 0.9830\n",
            "Epoch 41/50\n",
            "63/63 [==============================] - 12s 190ms/step - loss: 0.3597 - accuracy: 0.9890 - val_loss: 2.4269 - val_accuracy: 0.9800\n",
            "Epoch 42/50\n",
            "63/63 [==============================] - 12s 189ms/step - loss: 0.7674 - accuracy: 0.9895 - val_loss: 3.1871 - val_accuracy: 0.9720\n",
            "Epoch 43/50\n",
            "63/63 [==============================] - 12s 190ms/step - loss: 0.8328 - accuracy: 0.9865 - val_loss: 2.2500 - val_accuracy: 0.9810\n",
            "Epoch 44/50\n",
            "63/63 [==============================] - 12s 189ms/step - loss: 0.5310 - accuracy: 0.9900 - val_loss: 2.2650 - val_accuracy: 0.9780\n",
            "Epoch 45/50\n",
            "63/63 [==============================] - 12s 189ms/step - loss: 1.0051 - accuracy: 0.9810 - val_loss: 2.1668 - val_accuracy: 0.9790\n",
            "Epoch 46/50\n",
            "63/63 [==============================] - 12s 189ms/step - loss: 0.5761 - accuracy: 0.9865 - val_loss: 3.6271 - val_accuracy: 0.9700\n",
            "Epoch 47/50\n",
            "63/63 [==============================] - 12s 189ms/step - loss: 0.3655 - accuracy: 0.9920 - val_loss: 2.2483 - val_accuracy: 0.9770\n",
            "Epoch 48/50\n",
            "63/63 [==============================] - 12s 188ms/step - loss: 0.7039 - accuracy: 0.9840 - val_loss: 3.1671 - val_accuracy: 0.9670\n",
            "Epoch 49/50\n",
            "63/63 [==============================] - 12s 188ms/step - loss: 0.7561 - accuracy: 0.9890 - val_loss: 2.6034 - val_accuracy: 0.9790\n",
            "Epoch 50/50\n",
            "63/63 [==============================] - 12s 188ms/step - loss: 0.4884 - accuracy: 0.9900 - val_loss: 3.6281 - val_accuracy: 0.9700\n"
          ]
        }
      ]
    },
    {
      "cell_type": "markdown",
      "source": [
        "Evaluating the model on the test set"
      ],
      "metadata": {
        "id": "bdMDDV1pMNVX"
      }
    },
    {
      "cell_type": "code",
      "source": [
        "test_model = keras.models.load_model(\n",
        "    \"feature_extraction_with_data_augmentation.keras\")\n",
        "test_loss, test_acc = test_model.evaluate(test_dataset)\n",
        "print(f\"Test accuracy: {test_acc:.3f}\")"
      ],
      "metadata": {
        "colab": {
          "base_uri": "https://localhost:8080/"
        },
        "id": "y_ED4SeRMPGz",
        "outputId": "fbd63e1e-14c0-42d6-e7d7-b98bae615810"
      },
      "execution_count": 41,
      "outputs": [
        {
          "output_type": "stream",
          "name": "stdout",
          "text": [
            "32/32 [==============================] - 4s 109ms/step - loss: 3.4275 - accuracy: 0.9760\n",
            "Test accuracy: 0.976\n"
          ]
        }
      ]
    },
    {
      "cell_type": "code",
      "source": [
        "conv_base.summary()"
      ],
      "metadata": {
        "colab": {
          "base_uri": "https://localhost:8080/"
        },
        "id": "2Pe9T2dlMRor",
        "outputId": "e65cb9ed-770b-44ca-8565-8dd3e0554d52"
      },
      "execution_count": 42,
      "outputs": [
        {
          "output_type": "stream",
          "name": "stdout",
          "text": [
            "Model: \"vgg16\"\n",
            "_________________________________________________________________\n",
            " Layer (type)                Output Shape              Param #   \n",
            "=================================================================\n",
            " input_6 (InputLayer)        [(None, None, None, 3)]   0         \n",
            "                                                                 \n",
            " block1_conv1 (Conv2D)       (None, None, None, 64)    1792      \n",
            "                                                                 \n",
            " block1_conv2 (Conv2D)       (None, None, None, 64)    36928     \n",
            "                                                                 \n",
            " block1_pool (MaxPooling2D)  (None, None, None, 64)    0         \n",
            "                                                                 \n",
            " block2_conv1 (Conv2D)       (None, None, None, 128)   73856     \n",
            "                                                                 \n",
            " block2_conv2 (Conv2D)       (None, None, None, 128)   147584    \n",
            "                                                                 \n",
            " block2_pool (MaxPooling2D)  (None, None, None, 128)   0         \n",
            "                                                                 \n",
            " block3_conv1 (Conv2D)       (None, None, None, 256)   295168    \n",
            "                                                                 \n",
            " block3_conv2 (Conv2D)       (None, None, None, 256)   590080    \n",
            "                                                                 \n",
            " block3_conv3 (Conv2D)       (None, None, None, 256)   590080    \n",
            "                                                                 \n",
            " block3_pool (MaxPooling2D)  (None, None, None, 256)   0         \n",
            "                                                                 \n",
            " block4_conv1 (Conv2D)       (None, None, None, 512)   1180160   \n",
            "                                                                 \n",
            " block4_conv2 (Conv2D)       (None, None, None, 512)   2359808   \n",
            "                                                                 \n",
            " block4_conv3 (Conv2D)       (None, None, None, 512)   2359808   \n",
            "                                                                 \n",
            " block4_pool (MaxPooling2D)  (None, None, None, 512)   0         \n",
            "                                                                 \n",
            " block5_conv1 (Conv2D)       (None, None, None, 512)   2359808   \n",
            "                                                                 \n",
            " block5_conv2 (Conv2D)       (None, None, None, 512)   2359808   \n",
            "                                                                 \n",
            " block5_conv3 (Conv2D)       (None, None, None, 512)   2359808   \n",
            "                                                                 \n",
            " block5_pool (MaxPooling2D)  (None, None, None, 512)   0         \n",
            "                                                                 \n",
            "=================================================================\n",
            "Total params: 14,714,688\n",
            "Trainable params: 0\n",
            "Non-trainable params: 14,714,688\n",
            "_________________________________________________________________\n"
          ]
        }
      ]
    },
    {
      "cell_type": "markdown",
      "source": [
        "Freezing all layers until the fourth from the last"
      ],
      "metadata": {
        "id": "4PbuOAO7MT2j"
      }
    },
    {
      "cell_type": "code",
      "source": [
        "conv_base.trainable = True\n",
        "for layer in conv_base.layers[:-4]:\n",
        "    layer.trainable = False"
      ],
      "metadata": {
        "id": "7dm-x3aWMVUd"
      },
      "execution_count": 43,
      "outputs": []
    },
    {
      "cell_type": "markdown",
      "source": [
        "Fine-tuning the model"
      ],
      "metadata": {
        "id": "a4ulPOBmMXb8"
      }
    },
    {
      "cell_type": "code",
      "source": [
        "model.compile(loss=\"binary_crossentropy\",\n",
        "              optimizer=keras.optimizers.RMSprop(learning_rate=1e-5),\n",
        "              metrics=[\"accuracy\"])\n",
        "\n",
        "callbacks = [\n",
        "    keras.callbacks.ModelCheckpoint(\n",
        "        filepath=\"fine_tuning.keras\",\n",
        "        save_best_only=True,\n",
        "        monitor=\"val_loss\")\n",
        "]\n",
        "history = model.fit(\n",
        "    train_dataset,\n",
        "    epochs=30,\n",
        "    validation_data=validation_dataset,\n",
        "    callbacks=callbacks)"
      ],
      "metadata": {
        "colab": {
          "base_uri": "https://localhost:8080/"
        },
        "id": "Su0vJjBvMX91",
        "outputId": "d0db97cb-8aa1-40c1-b09d-a37e4c583ef5"
      },
      "execution_count": 44,
      "outputs": [
        {
          "output_type": "stream",
          "name": "stdout",
          "text": [
            "Epoch 1/30\n",
            "63/63 [==============================] - 15s 206ms/step - loss: 0.6209 - accuracy: 0.9875 - val_loss: 1.9896 - val_accuracy: 0.9790\n",
            "Epoch 2/30\n",
            "63/63 [==============================] - 13s 207ms/step - loss: 0.3297 - accuracy: 0.9890 - val_loss: 1.9373 - val_accuracy: 0.9800\n",
            "Epoch 3/30\n",
            "63/63 [==============================] - 13s 205ms/step - loss: 0.3121 - accuracy: 0.9920 - val_loss: 1.6577 - val_accuracy: 0.9820\n",
            "Epoch 4/30\n",
            "63/63 [==============================] - 13s 206ms/step - loss: 0.1939 - accuracy: 0.9950 - val_loss: 1.5330 - val_accuracy: 0.9800\n",
            "Epoch 5/30\n",
            "63/63 [==============================] - 13s 202ms/step - loss: 0.2482 - accuracy: 0.9910 - val_loss: 1.5500 - val_accuracy: 0.9770\n",
            "Epoch 6/30\n",
            "63/63 [==============================] - 13s 202ms/step - loss: 0.2343 - accuracy: 0.9915 - val_loss: 1.9203 - val_accuracy: 0.9760\n",
            "Epoch 7/30\n",
            "63/63 [==============================] - 13s 205ms/step - loss: 0.2082 - accuracy: 0.9925 - val_loss: 1.5961 - val_accuracy: 0.9780\n",
            "Epoch 8/30\n",
            "63/63 [==============================] - 13s 203ms/step - loss: 0.1979 - accuracy: 0.9930 - val_loss: 1.6945 - val_accuracy: 0.9750\n",
            "Epoch 9/30\n",
            "63/63 [==============================] - 13s 203ms/step - loss: 0.2458 - accuracy: 0.9950 - val_loss: 1.5938 - val_accuracy: 0.9750\n",
            "Epoch 10/30\n",
            "63/63 [==============================] - 13s 209ms/step - loss: 0.2075 - accuracy: 0.9940 - val_loss: 1.4215 - val_accuracy: 0.9800\n",
            "Epoch 11/30\n",
            "63/63 [==============================] - 13s 205ms/step - loss: 0.1268 - accuracy: 0.9940 - val_loss: 2.4420 - val_accuracy: 0.9760\n",
            "Epoch 12/30\n",
            "63/63 [==============================] - 13s 202ms/step - loss: 0.1869 - accuracy: 0.9930 - val_loss: 1.6385 - val_accuracy: 0.9770\n",
            "Epoch 13/30\n",
            "63/63 [==============================] - 13s 203ms/step - loss: 0.0900 - accuracy: 0.9960 - val_loss: 1.7150 - val_accuracy: 0.9800\n",
            "Epoch 14/30\n",
            "63/63 [==============================] - 13s 204ms/step - loss: 0.1274 - accuracy: 0.9945 - val_loss: 1.5549 - val_accuracy: 0.9790\n",
            "Epoch 15/30\n",
            "63/63 [==============================] - 13s 204ms/step - loss: 0.2044 - accuracy: 0.9930 - val_loss: 1.6141 - val_accuracy: 0.9790\n",
            "Epoch 16/30\n",
            "63/63 [==============================] - 13s 204ms/step - loss: 0.3577 - accuracy: 0.9930 - val_loss: 1.7227 - val_accuracy: 0.9780\n",
            "Epoch 17/30\n",
            "63/63 [==============================] - 13s 204ms/step - loss: 0.1616 - accuracy: 0.9945 - val_loss: 1.9987 - val_accuracy: 0.9770\n",
            "Epoch 18/30\n",
            "63/63 [==============================] - 13s 204ms/step - loss: 0.2217 - accuracy: 0.9940 - val_loss: 2.1885 - val_accuracy: 0.9770\n",
            "Epoch 19/30\n",
            "63/63 [==============================] - 13s 206ms/step - loss: 0.1482 - accuracy: 0.9940 - val_loss: 1.7352 - val_accuracy: 0.9770\n",
            "Epoch 20/30\n",
            "63/63 [==============================] - 13s 204ms/step - loss: 0.1233 - accuracy: 0.9930 - val_loss: 1.9298 - val_accuracy: 0.9760\n",
            "Epoch 21/30\n",
            "63/63 [==============================] - 13s 205ms/step - loss: 0.1015 - accuracy: 0.9975 - val_loss: 1.4812 - val_accuracy: 0.9760\n",
            "Epoch 22/30\n",
            "63/63 [==============================] - 13s 203ms/step - loss: 0.1522 - accuracy: 0.9950 - val_loss: 1.6541 - val_accuracy: 0.9810\n",
            "Epoch 23/30\n",
            "63/63 [==============================] - 13s 205ms/step - loss: 0.1151 - accuracy: 0.9955 - val_loss: 1.6996 - val_accuracy: 0.9780\n",
            "Epoch 24/30\n",
            "63/63 [==============================] - 13s 205ms/step - loss: 0.0340 - accuracy: 0.9980 - val_loss: 1.7587 - val_accuracy: 0.9790\n",
            "Epoch 25/30\n",
            "63/63 [==============================] - 13s 204ms/step - loss: 0.0551 - accuracy: 0.9955 - val_loss: 1.7634 - val_accuracy: 0.9790\n",
            "Epoch 26/30\n",
            "63/63 [==============================] - 13s 204ms/step - loss: 0.0086 - accuracy: 0.9980 - val_loss: 1.6204 - val_accuracy: 0.9810\n",
            "Epoch 27/30\n",
            "63/63 [==============================] - 13s 209ms/step - loss: 0.2196 - accuracy: 0.9935 - val_loss: 1.3474 - val_accuracy: 0.9840\n",
            "Epoch 28/30\n",
            "63/63 [==============================] - 13s 205ms/step - loss: 0.1150 - accuracy: 0.9970 - val_loss: 1.9442 - val_accuracy: 0.9770\n",
            "Epoch 29/30\n",
            "63/63 [==============================] - 13s 204ms/step - loss: 0.1464 - accuracy: 0.9965 - val_loss: 1.5597 - val_accuracy: 0.9790\n",
            "Epoch 30/30\n",
            "63/63 [==============================] - 13s 204ms/step - loss: 0.1377 - accuracy: 0.9960 - val_loss: 1.4870 - val_accuracy: 0.9760\n"
          ]
        }
      ]
    },
    {
      "cell_type": "code",
      "source": [
        "model = keras.models.load_model(\"fine_tuning.keras\")\n",
        "test_loss, test_acc = model.evaluate(test_dataset)\n",
        "print(f\"Test accuracy: {test_acc:.3f}\")"
      ],
      "metadata": {
        "colab": {
          "base_uri": "https://localhost:8080/"
        },
        "id": "hIQrxEo6MZxe",
        "outputId": "bd150835-d7b4-4a64-be94-dec58e44a5af"
      },
      "execution_count": 45,
      "outputs": [
        {
          "output_type": "stream",
          "name": "stdout",
          "text": [
            "32/32 [==============================] - 4s 111ms/step - loss: 1.7558 - accuracy: 0.9740\n",
            "Test accuracy: 0.974\n"
          ]
        }
      ]
    }
  ]
}