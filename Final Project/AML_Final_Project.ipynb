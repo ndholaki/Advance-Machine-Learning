{
  "nbformat": 4,
  "nbformat_minor": 0,
  "metadata": {
    "colab": {
      "provenance": [],
      "toc_visible": true
    },
    "kernelspec": {
      "name": "python3",
      "display_name": "Python 3"
    },
    "language_info": {
      "name": "python"
    },
    "accelerator": "GPU",
    "gpuClass": "standard"
  },
  "cells": [
    {
      "cell_type": "code",
      "source": [
        "import pandas as pd\n",
        "import numpy as np\n",
        "import matplotlib.pyplot as plt\n",
        "%matplotlib inline\n",
        "import tensorflow as tf\n",
        "from keras import Model\n",
        "from keras.applications.resnet50 import ResNet50\n",
        "from keras.preprocessing import image\n",
        "from keras.applications.resnet50 import preprocess_input, decode_predictions\n",
        "from keras.layers import GlobalMaxPooling2D\n",
        "tf.__version__\n",
        "import cv2\n",
        "import cv2 as cv\n",
        "import pytesseract\n",
        "from PIL import Image\n",
        "import pickle\n",
        "from scipy import ndimage\n",
        "from keras.preprocessing.image import ImageDataGenerator, array_to_img, img_to_array, load_img"
      ],
      "metadata": {
        "id": "YDTC43pcAdyt"
      },
      "execution_count": 17,
      "outputs": []
    },
    {
      "cell_type": "code",
      "source": [
        "data = pd.read_csv('C:/MSBA/AML'), sep=None, engine='python',nrows=7500)"
      ],
      "metadata": {
        "id": "oWxEAza4mjJE"
      },
      "execution_count": null,
      "outputs": []
    },
    {
      "cell_type": "code",
      "source": [
        "# Fashion clothes dataset\n",
        "data.head()"
      ],
      "metadata": {
        "id": "jP80yWqbm16_"
      },
      "execution_count": null,
      "outputs": []
    },
    {
      "cell_type": "markdown",
      "source": [
        "**Data Cleaning**"
      ],
      "metadata": {
        "id": "nKzfD8ui5gU4"
      }
    },
    {
      "cell_type": "code",
      "source": [
        "# drop unecessary columns with null values\n",
        "data.drop(columns=['Unnamed: 5','Unnamed: 6','Unnamed: 7'],inplace=True)\n"
      ],
      "metadata": {
        "id": "nWoQucblm83q"
      },
      "execution_count": null,
      "outputs": []
    },
    {
      "cell_type": "code",
      "source": [
        "data.isnull().any()"
      ],
      "metadata": {
        "id": "hpxOY0kbm-24"
      },
      "execution_count": null,
      "outputs": []
    },
    {
      "cell_type": "markdown",
      "source": [
        "**I'm looking through the data to determine the most prevalent macro and micro categories as well as how many are unique.**"
      ],
      "metadata": {
        "id": "3Uhni2PS56ND"
      }
    },
    {
      "cell_type": "code",
      "source": [
        "data['macro_category(english)'].unique()"
      ],
      "metadata": {
        "id": "uB4UUE-JnCOW"
      },
      "execution_count": null,
      "outputs": []
    },
    {
      "cell_type": "code",
      "source": [
        "data['macro_category(english)'].value_counts()"
      ],
      "metadata": {
        "id": "6PfNAb8anD-q"
      },
      "execution_count": null,
      "outputs": []
    },
    {
      "cell_type": "markdown",
      "source": [
        "**We want to eliminate furniture and nursing supplies from the dataset because we are building a fashion recommendation system.**"
      ],
      "metadata": {
        "id": "2Jc7ApGX5wIC"
      }
    },
    {
      "cell_type": "code",
      "source": [
        "data=data[data['macro_category(english)'] != 'nursing'].reset_index(drop=True)"
      ],
      "metadata": {
        "id": "Zc68b7TWnHVR"
      },
      "execution_count": null,
      "outputs": []
    },
    {
      "cell_type": "code",
      "source": [
        "data=data[data['macro_category(english)'] != 'furniture'].reset_index(drop=True)"
      ],
      "metadata": {
        "id": "ciOdWleS3w00"
      },
      "execution_count": null,
      "outputs": []
    },
    {
      "cell_type": "code",
      "source": [
        "data.head(-1)"
      ],
      "metadata": {
        "id": "GF1vCK_b3zYh"
      },
      "execution_count": null,
      "outputs": []
    },
    {
      "cell_type": "code",
      "source": [
        "data.micro_category.unique()"
      ],
      "metadata": {
        "id": "HHfPInGx31yS"
      },
      "execution_count": null,
      "outputs": []
    },
    {
      "cell_type": "markdown",
      "source": [
        "**The micro category is available in Italian. The descriptions need to be translated into English for me to understand them.**"
      ],
      "metadata": {
        "id": "9aIu1u9q6M5x"
      }
    },
    {
      "cell_type": "code",
      "source": [
        "# Translating italian micro category into english \n",
        "data=data.replace(to_replace =['GONNA PELLE', 'PANTALONE PELLE', 'CAPOSPALLA PELLE',\n",
        "       'CAPISPALLA PELLICCIA', 'GILET', 'ABITO', 'COLLI', 'CINTURA',\n",
        "       'SCIARPA', 'SCIALLE', 'OCCHIALI', 'PORTACHIAVI', 'CAPPELLO',\n",
        "       'PORTAMONETE', 'CRAVATTA', 'PORTAFOGLIO', 'GUANTI', 'FOULARD',\n",
        "       'STOLA', 'Accessori per capelli', 'PORTADOCUMENTI', 'Bustina',\n",
        "       'MANICHE', 'FIBBIE', 'BRETELLE', 'PAPILLON', 'PORTA-AGENDA',\n",
        "       'OMBRELLO', 'Taccuini', 'Agende', 'BORSA GRANDE IN TESSUTO',\n",
        "       'BORSA PICCOLA IN PELLE', 'BORSA GRANDE IN PELLE',\n",
        "       'BORSA MEDIA IN TESSUTO', 'BORSA MEDIA IN PELLE', 'POCHETTE',\n",
        "       'BORSA PICCOLA IN TESSUTO', 'MARSUPIO', 'ZAINO', 'ZEPPE',\n",
        "       'BALLERINA', 'SNEAKERS', 'STIVALETTI', 'SANDALI CON TACCO',\n",
        "       'DECOLLETES', 'SANDALI', 'MOCASSINI ', 'DECOLLETES CON PLATEAU',\n",
        "       'INFRADITO', 'SANDALI CON PLATEAU', 'DECOLLETES OPEN TOE',\n",
        "       'STRINGATA', 'STIVALI', 'CIABATTE', 'Peep-toe ballet flats',\n",
        "       'Decolletes slingback', 'SNEAKER ALTA', 'BABBUCCE',\n",
        "       'STIVALI CON TACCO', 'SNEAKER SLIP ON', 'MOCASSINI CON TACCO',\n",
        "       'SABOT', 'POLACCHINA', 'SHOE BOOTS', 'ANFIBI', 'PANTOFOLE'],  \n",
        "                            value =['LEATHER SKIRT', 'LEATHER TROUSERS', 'LEATHER OUTERWEAR',\n",
        "'FUR COATS', 'VESTS', 'DRESS', 'COLLI', 'BELT',\n",
        "'SCARF', 'SHAWL', 'GLASSES', 'KEYCHAIN', 'HAT',\n",
        "'PURSE', 'TIE', 'WALLET', 'GLOVES', 'FOULARD',\n",
        "'STOLA', 'Hair accessories', 'DOCUMENT HOLDER', 'Sachet',\n",
        "'SLEEVES', 'BUCKLES', 'BRACES', 'PAPILLON', 'BOOK-HOLDER',\n",
        "'UMBRELLA', 'Notebooks', 'Agendas', 'LARGE FABRIC BAG',\n",
        "'SMALL LEATHER BAG', 'LARGE LEATHER BAG',\n",
        "'MEDIUM FABRIC BAG', 'MEDIUM LEATHER BAG', 'CLUTCH',\n",
        "'SMALL FABRIC BAG', 'BABY BAG', 'BACKPACK', 'WEDGES',\n",
        "'BALLERINA', 'SNEAKERS', 'ANKLE BOOTS', 'SANDALS WITH HEEL',\n",
        "'DECOLLETES', 'SANDALS', 'LOAFERS', 'DECOLLETES WITH PLATEAU',\n",
        "'FLIP FLOPS', 'SANDALS WITH PLATEAU', 'DECOLLETES OPEN TOE',\n",
        "'LACE UP', 'BOOTS', 'SLIPPERS', 'Peep-toe ballet flats',\n",
        "'Decolletes slingback', 'HIGH SNEAKER', 'BABBUCCE',\n",
        "'BOOTS WITH HEEL', 'SNEAKER SLIP ON', 'LOAFERS WITH HEEL',\n",
        "'SABOT', 'POLACCHINA', 'SHOE BOOTS', 'ANFIBI', 'SLIPPERS'])\n"
      ],
      "metadata": {
        "id": "wCqD-Olw36PL"
      },
      "execution_count": null,
      "outputs": []
    },
    {
      "cell_type": "code",
      "source": [
        "data['micro_category'] = data['micro_category'].str.strip()"
      ],
      "metadata": {
        "id": "Z6HCBCNR37Ki"
      },
      "execution_count": null,
      "outputs": []
    },
    {
      "cell_type": "code",
      "source": [
        "data.micro_category.unique()"
      ],
      "metadata": {
        "id": "BX7wJliL3-Jf"
      },
      "execution_count": null,
      "outputs": []
    },
    {
      "cell_type": "markdown",
      "source": [
        "**The Italian-language colors column also needs to be translated into English.**"
      ],
      "metadata": {
        "id": "uVJ4D5Ma6Utn"
      }
    },
    {
      "cell_type": "code",
      "source": [
        "data.color.unique()"
      ],
      "metadata": {
        "id": "GNsVubZ24CES"
      },
      "execution_count": null,
      "outputs": []
    },
    {
      "cell_type": "code",
      "source": [
        "# Translating colours in itaian into english \n",
        "\n",
        "data=data.replace(to_replace =['BRONZO', 'PLATINO', 'NOCCIOLA', 'ORO', 'ANTRACITE', 'NERO',\n",
        "       'GRIGIO CHIARO', 'COLONIALE', 'BORDEAUX', 'VERDE PETROLIO',\n",
        "       'CAMMELLO', 'TORTORA', 'MARRONE', 'GIALLO CHIARO', 'RUGGINE',\n",
        "       'CORALLO', 'CACAO', 'AVIO', 'ARGENTO', 'TURCHESE', 'VERDE SCURO',\n",
        "       'VIOLA', 'ROSA', 'GIALLO', 'CUOIO', 'MELANZANA', 'AVORIO', 'ROSSO',\n",
        "       'GRIGIO', 'BEIGE', 'TESTA DI MORO', 'RAME', 'ALBICOCCA', 'SALMONE',\n",
        "       'VERDE SMERALDO', 'OCRA', 'CARNE', 'MATTONE', 'VIOLA CHIARO',\n",
        "       'VIOLA SCURO', 'BLU CHINA', 'MALVA', 'ROSA ANTICO', 'VERDE ACIDO',\n",
        "       'CELESTE', 'ARANCIONE', 'VERDE CHIARO', 'VERDE', 'SABBIA', 'LILLA',\n",
        "       'AZZURRO', 'VERDE MILITARE', 'PIOMBO', 'CARTA DA ZUCCHERO',\n",
        "       'BLU SCURO', 'FUCSIA', 'BLU', 'PORPORA', 'BIANCO', 'TRASPARENTE',\n",
        "       'ROSA CHIARO'],  \n",
        "                            value =['BRONZE', 'PLATINUM', 'HAZELNUT', 'GOLD', 'ANTHRACITE', 'BLACK',\n",
        "'LIGHT GRAY', 'COLONIAL', 'BORDEAUX', 'GREEN PETROLEUM',\n",
        "'CAMEL', 'TAUPE', 'BROWN', 'LIGHT YELLOW', 'RUST',\n",
        "'CORAL', 'COCOA', 'AVIO', 'SILVER', 'TURQUOISE', 'DARK GREEN',\n",
        "'PURPLE', 'PINK', 'YELLOW', 'LEATHER', 'EGGPLANT', 'IVORY', 'RED',\n",
        "'GRAY', 'BEIGE', 'DARK BROWN', 'COPPER', 'APRICOT', 'SALMON',\n",
        "'GREEN EMERALD', 'OCHER', 'MEAT', 'BRICK', 'LIGHT PURPLE',\n",
        "'DARK PURPLE', 'BLU CHINA', 'MALVA', 'ANTIQUE PINK', 'ACID GREEN',\n",
        "'LIGHT BLUE', 'ORANGE', 'LIGHT GREEN', 'GREEN', 'SAND', 'LILAC',\n",
        "'LIGHT BLUE', 'MILITARY GREEN', 'LEAD', 'SUGAR PAPER',\n",
        "'DARK BLUE', 'FUCHSIA', 'BLUE', 'PURPLE', 'WHITE', 'TRANSPARENT',\n",
        "'LIGHT PINK'])"
      ],
      "metadata": {
        "id": "vscUEKxe4EgF"
      },
      "execution_count": null,
      "outputs": []
    },
    {
      "cell_type": "code",
      "source": [
        "data.color.unique()"
      ],
      "metadata": {
        "id": "2c78raUN4JP0"
      },
      "execution_count": null,
      "outputs": []
    },
    {
      "cell_type": "code",
      "source": [
        "data.filename=data['filename'].apply(lambda x: x[:-4])"
      ],
      "metadata": {
        "id": "puWRXb6m4Nl0"
      },
      "execution_count": null,
      "outputs": []
    },
    {
      "cell_type": "code",
      "source": [
        "data.filename=data['filename'].apply(lambda x: x + \"_resized.jpg\")"
      ],
      "metadata": {
        "id": "koUyYvb-4OJa"
      },
      "execution_count": null,
      "outputs": []
    },
    {
      "cell_type": "code",
      "source": [
        "data.head(-1)"
      ],
      "metadata": {
        "id": "vZOujIyp4RoE"
      },
      "execution_count": null,
      "outputs": []
    },
    {
      "cell_type": "code",
      "source": [
        "pickle.dump(data, open(\"data.pkl\", \"wb\"))"
      ],
      "metadata": {
        "id": "9HHk3MdK4T_L"
      },
      "execution_count": null,
      "outputs": []
    },
    {
      "cell_type": "code",
      "source": [
        "data = pickle.load(open(\"data.pkl\", \"rb\"))\n",
        "data.head()\n"
      ],
      "metadata": {
        "id": "q6LOazk04V6I"
      },
      "execution_count": null,
      "outputs": []
    },
    {
      "cell_type": "code",
      "source": [
        "data['micro_category'].value_counts().head(10)"
      ],
      "metadata": {
        "id": "_LgeM6YG4X5z"
      },
      "execution_count": null,
      "outputs": []
    },
    {
      "cell_type": "code",
      "source": [
        "# Plot bar graph of all mirco categories in dataset\n",
        "fig= plt.figure(figsize=(15,12))\n",
        "data.micro_category.value_counts(ascending=True).plot(kind='barh')\n",
        "plt.xlabel('Count')\n",
        "plt.ylabel('Category')\n"
      ],
      "metadata": {
        "id": "qyRZenBC4Ymg"
      },
      "execution_count": null,
      "outputs": []
    },
    {
      "cell_type": "markdown",
      "source": [
        "**Visualising Images in the Dataset**"
      ],
      "metadata": {
        "id": "OHSZApGq6a2I"
      }
    },
    {
      "cell_type": "code",
      "source": [
        "Data_Path= 'C:/MSBA/AML'"
      ],
      "metadata": {
        "id": "mROwrfgc4dfe"
      },
      "execution_count": null,
      "outputs": []
    },
    {
      "cell_type": "code",
      "source": [
        "import cv2\n",
        "def plot_figures(figures, nrows = 1, ncols=1,figsize=(8, 8)):\n",
        "    \"\"\"Plot the clothing images.\n",
        "    \"\"\"\n",
        "\n",
        "    fig, axeslist = plt.subplots(ncols=ncols, nrows=nrows,figsize=figsize)\n",
        "    for ind,title in enumerate(figures):\n",
        "        axeslist.ravel()[ind].imshow(cv2.cvtColor(figures[title], cv2.COLOR_BGR2RGB))\n",
        "        axeslist.ravel()[ind].set_title(title)\n",
        "        axeslist.ravel()[ind].set_axis_off()\n",
        "    plt.tight_layout() # optional\n",
        "    \n",
        "def img_path(img):\n",
        "    return Data_Path+img\n",
        "\n",
        "def load_image(img):\n",
        "    return cv2.imread(img_path(img))"
      ],
      "metadata": {
        "id": "TKeYylVH4j42"
      },
      "execution_count": null,
      "outputs": []
    },
    {
      "cell_type": "code",
      "source": [
        "load_image('35154736FEF_resized.jpg')"
      ],
      "metadata": {
        "id": "LhOkO8324pUE"
      },
      "execution_count": null,
      "outputs": []
    },
    {
      "cell_type": "code",
      "source": [
        "import cv2 as cv\n",
        "from matplotlib import pyplot as plt\n",
        "import pytesseract\n",
        "from PIL import Image\n",
        "from scipy import ndimage\n",
        "from keras.preprocessing.image import ImageDataGenerator, array_to_img, img_to_array, load_img\n",
        "\n",
        "img = load_img(Data_Path+data.iloc[0].filename)\n",
        "plt.imshow(img)\n"
      ],
      "metadata": {
        "id": "6cVxVFZ84t7H"
      },
      "execution_count": null,
      "outputs": []
    },
    {
      "cell_type": "markdown",
      "source": [
        "**Using Pre-Trained CNN model**"
      ],
      "metadata": {
        "id": "0pxv2V4y6g9X"
      }
    },
    {
      "cell_type": "code",
      "source": [
        "from keras import models\n",
        "\n",
        "def resnet_model(image_path)\n",
        "    im = Image.open(image_path)\n",
        "    width, height = im.size\n",
        "    # Pre-Trained Model\n",
        "    base_model = ResNet50(weights='imagenet', \n",
        "                          include_top=False, \n",
        "                          input_shape = (197, 197, 3))\n",
        "    base_model.trainable = False\n",
        "\n",
        "    # Add Layer Embedding\n",
        "    model = models.Sequential([\n",
        "        base_model,\n",
        "        GlobalMaxPooling2D()\n",
        "    ])\n",
        "    model.summary()\n",
        "    pickle.dump(model, open(\"model.pkl\", \"wb\"))"
      ],
      "metadata": {
        "id": "1BnMg1IZ4ula"
      },
      "execution_count": null,
      "outputs": []
    },
    {
      "cell_type": "code",
      "source": [
        "pickle.dump(model, open(\"model.pkl\", \"wb\"))"
      ],
      "metadata": {
        "id": "XbiJFOFM41v5"
      },
      "execution_count": null,
      "outputs": []
    },
    {
      "cell_type": "code",
      "source": [
        "model_res = pickle.load(open(\"model.pkl\", \"rb\"))\n",
        "model_res.summary\n"
      ],
      "metadata": {
        "id": "8MbDl4J143Zd"
      },
      "execution_count": null,
      "outputs": []
    },
    {
      "cell_type": "code",
      "source": [
        "def get_embedding(model, img_name):\n",
        "    # Reshape\n",
        "    img = image.load_img(img_path(img_name), target_size=(197, 197))\n",
        "    # img to Array\n",
        "    x   = image.img_to_array(img)\n",
        "    # Expand Dim (1, w, h)\n",
        "    x   = np.expand_dims(x, axis=0)\n",
        "    # Pre process Input\n",
        "    x   = preprocess_input(x)\n",
        "    return model.predict(x).reshape(-1)"
      ],
      "metadata": {
        "id": "hYimhKyC45Uw"
      },
      "execution_count": null,
      "outputs": []
    },
    {
      "cell_type": "code",
      "source": [
        "emb = get_embedding(model, data.iloc[0].filename)\n",
        "emb.size\n"
      ],
      "metadata": {
        "id": "QJATzEOD46AN"
      },
      "execution_count": null,
      "outputs": []
    },
    {
      "cell_type": "code",
      "source": [
        "plt.imshow(cv2.cvtColor(load_image(data.iloc[0].filename), cv2.COLOR_BGR2RGB))\n",
        "print(emb)"
      ],
      "metadata": {
        "id": "2T-A3hG6486S"
      },
      "execution_count": null,
      "outputs": []
    },
    {
      "cell_type": "code",
      "source": [
        "%%time\n",
        "import swifter\n",
        "\n",
        "\n",
        "map_embeddings = data4['filename'].swifter.apply(lambda img: get_embedding(model, img))\n",
        "data_embs        = map_embeddings.apply(pd.Series)\n",
        "\n",
        "print(data_embs.shape)\n",
        "data_embs.head()"
      ],
      "metadata": {
        "id": "X7mEOZMV4-yJ"
      },
      "execution_count": null,
      "outputs": []
    },
    {
      "cell_type": "code",
      "source": [
        "pickle.dump(data_embs, open(\"data_embs.pkl\", \"wb\"))"
      ],
      "metadata": {
        "id": "__aPGT_e4_mW"
      },
      "execution_count": null,
      "outputs": []
    },
    {
      "cell_type": "code",
      "source": [
        "Embedding = pickle.load(open(\"data_embs.pkl\", \"rb\"))\n",
        "Embedding.head()"
      ],
      "metadata": {
        "id": "STD0NiRU5Dpj"
      },
      "execution_count": null,
      "outputs": []
    },
    {
      "cell_type": "code",
      "source": [
        "from sklearn.metrics.pairwise import pairwise_distances, cosine_similarity\n",
        "\n",
        "# Calculate distance matrix\n",
        "def cosine_distance(data_embs):\n",
        "    cosine_sim = cosine_similarity(data_embs)\n",
        "    cosine_sim[:4, :4]"
      ],
      "metadata": {
        "id": "mc4wo1xP5F8k"
      },
      "execution_count": null,
      "outputs": []
    },
    {
      "cell_type": "code",
      "source": [
        "pickle.dump(cosine_sim, open(\"cosine.pkl\", \"wb\"))"
      ],
      "metadata": {
        "id": "WmzlvBnK5Iwv"
      },
      "execution_count": null,
      "outputs": []
    },
    {
      "cell_type": "code",
      "source": [
        "Cos_matrix = pickle.load(open(\"cosine.pkl\", \"rb\"))\n",
        "Cos_matrix[:4, :4]\n"
      ],
      "metadata": {
        "id": "rf-jmG0M5KdA"
      },
      "execution_count": null,
      "outputs": []
    },
    {
      "cell_type": "code",
      "source": [
        "indices = pd.Series(range(len(data4)), index=data4.index)\n",
        "indices\n",
        "\n",
        "# Function that get clothes recommendations based on the cosine similarity score of micro categories\n",
        "def get_recommender(idx, data, top_n = 6):\n",
        "    sim_idx    = indices[idx]\n",
        "    sim_scores = list(enumerate(cosine_sim[sim_idx]))\n",
        "    sim_scores = sorted(sim_scores, key=lambda x: x[1], reverse=True)\n",
        "    sim_scores = sim_scores[1:top_n+1]\n",
        "    idx_rec    = [i[0] for i in sim_scores]\n",
        "    idx_sim    = [i[1] for i in sim_scores]\n",
        "    \n",
        "    return indices.iloc[idx_rec].index, idx_sim\n",
        "\n",
        "get_recommender(2993, data4, top_n = 6)"
      ],
      "metadata": {
        "id": "e5jstWGq5NAS"
      },
      "execution_count": null,
      "outputs": []
    },
    {
      "cell_type": "code",
      "source": [
        "def rec_top6(idx_ref):\n",
        "    # Idx Item to Recommender\n",
        "    idx_ref = 7342\n",
        "\n",
        "\n",
        "    # Recommendations\n",
        "    idx_rec, idx_sim = get_recommender(idx_ref, data, top_n = 6)\n",
        "\n",
        "    # Plot\n",
        "    plt.imshow(cv2.cvtColor(load_image(data4.iloc[idx_ref].filename), cv2.COLOR_BGR2RGB))\n",
        "\n",
        "    # generation of a dictionary of (title, images)\n",
        "    figures = {'image'+str(i): load_image(row.filename) for i, row in data4.loc[idx_rec].iterrows()}\n",
        "    # plot of the images in a figure, with 2 rows and 3 columns\n",
        "    plot_figures(figures, 2, 3)\n"
      ],
      "metadata": {
        "id": "_zzHoycR5PXr"
      },
      "execution_count": null,
      "outputs": []
    },
    {
      "cell_type": "code",
      "source": [
        "from ipywidgets import interact_manual, widgets, interact\n",
        "%reload_ext autoreload\n",
        "%autoreload 2"
      ],
      "metadata": {
        "id": "7t87agkb5RZj"
      },
      "execution_count": null,
      "outputs": []
    },
    {
      "cell_type": "code",
      "source": [
        "s1 = widgets.IntSlider(min=0,\n",
        "                       max=7342,\n",
        "                       step=1,\n",
        "                       value=0,\n",
        "                       description=\"Item\")\n",
        "s1.style.handle_color = \"lightblue\"\n",
        "\n",
        "interact(rec_top6, idx_ref=s1 )"
      ],
      "metadata": {
        "id": "KqNvs98K5UM7"
      },
      "execution_count": null,
      "outputs": []
    },
    {
      "cell_type": "code",
      "source": [
        "from sklearn.manifold import TSNE\n",
        "import seaborn as sns"
      ],
      "metadata": {
        "id": "cPr5u9kw5VzT"
      },
      "execution_count": null,
      "outputs": []
    },
    {
      "cell_type": "code",
      "source": [
        "tsne = TSNE(n_components=2, verbose=0, perplexity=30, n_iter=12000, init='pca')\n",
        "tsne_results = tsne.fit_transform(data_embs)\n",
        "\n",
        "data['tsne-2d-one'] = tsne_results[:,0]\n",
        "data['tsne-2d-two'] = tsne_results[:,1]"
      ],
      "metadata": {
        "id": "YmrR4roq5WdS"
      },
      "execution_count": null,
      "outputs": []
    },
    {
      "cell_type": "code",
      "source": [
        "tsne.n_iter"
      ],
      "metadata": {
        "id": "vwHbx6PI5Z8H"
      },
      "execution_count": null,
      "outputs": []
    },
    {
      "cell_type": "code",
      "source": [
        "plt.figure(figsize=(16,10))\n",
        "sns.scatterplot(x=\"tsne-2d-one\", y=\"tsne-2d-two\",\n",
        "                hue=\"macro_category(english)\",\n",
        "                data=data4,\n",
        "                legend=\"full\",\n",
        "                palette=\"RdBu\",\n",
        "                alpha=0.8)"
      ],
      "metadata": {
        "id": "dUo87TEl5bk1"
      },
      "execution_count": null,
      "outputs": []
    }
  ]
}