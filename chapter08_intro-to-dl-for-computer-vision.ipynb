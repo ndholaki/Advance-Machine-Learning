{
  "cells": [
    {
      "cell_type": "markdown",
      "metadata": {
        "id": "wozxk6QEEI4Q"
      },
      "source": [
        "This is a companion notebook for the book [Deep Learning with Python, Second Edition](https://www.manning.com/books/deep-learning-with-python-second-edition?a_aid=keras&a_bid=76564dff). For readability, it only contains runnable code blocks and section titles, and omits everything else in the book: text paragraphs, figures, and pseudocode.\n",
        "\n",
        "**If you want to be able to follow what's going on, I recommend reading the notebook side by side with your copy of the book.**\n",
        "\n",
        "This notebook was generated for TensorFlow 2.6."
      ]
    },
    {
      "cell_type": "markdown",
      "metadata": {
        "id": "O8KI-8erEI4W"
      },
      "source": [
        "# Introduction to deep learning for computer vision"
      ]
    },
    {
      "cell_type": "markdown",
      "metadata": {
        "id": "e7p2OfIAEI4X"
      },
      "source": [
        "## Introduction to convnets"
      ]
    },
    {
      "cell_type": "markdown",
      "metadata": {
        "id": "rsry0p45EI4X"
      },
      "source": [
        "**Instantiating a small convnet**"
      ]
    },
    {
      "cell_type": "code",
      "execution_count": 14,
      "metadata": {
        "id": "7FNobmFaEI4Y"
      },
      "outputs": [],
      "source": [
        "from tensorflow import keras\n",
        "from tensorflow.keras import layers\n",
        "inputs = keras.Input(shape=(28, 28, 1))\n",
        "x = layers.Conv2D(filters=32, kernel_size=3, activation=\"relu\")(inputs)\n",
        "x = layers.MaxPooling2D(pool_size=2)(x)\n",
        "x = layers.Conv2D(filters=64, kernel_size=3, activation=\"relu\")(x)\n",
        "x = layers.MaxPooling2D(pool_size=2)(x)\n",
        "x = layers.Conv2D(filters=128, kernel_size=3, activation=\"relu\")(x)\n",
        "x = layers.Flatten()(x)\n",
        "outputs = layers.Dense(10, activation=\"softmax\")(x)\n",
        "model = keras.Model(inputs=inputs, outputs=outputs)"
      ]
    },
    {
      "cell_type": "markdown",
      "metadata": {
        "id": "vdhQrmeiEI4Z"
      },
      "source": [
        "**Displaying the model's summary**"
      ]
    },
    {
      "cell_type": "code",
      "execution_count": 2,
      "metadata": {
        "colab": {
          "base_uri": "https://localhost:8080/"
        },
        "id": "QxLvVpbzEI4a",
        "outputId": "1a1af77d-942d-4d71-ffe8-361823d2aea0"
      },
      "outputs": [
        {
          "output_type": "stream",
          "name": "stdout",
          "text": [
            "Model: \"model\"\n",
            "_________________________________________________________________\n",
            " Layer (type)                Output Shape              Param #   \n",
            "=================================================================\n",
            " input_1 (InputLayer)        [(None, 28, 28, 1)]       0         \n",
            "                                                                 \n",
            " conv2d (Conv2D)             (None, 26, 26, 32)        320       \n",
            "                                                                 \n",
            " max_pooling2d (MaxPooling2D  (None, 13, 13, 32)       0         \n",
            " )                                                               \n",
            "                                                                 \n",
            " conv2d_1 (Conv2D)           (None, 11, 11, 64)        18496     \n",
            "                                                                 \n",
            " max_pooling2d_1 (MaxPooling  (None, 5, 5, 64)         0         \n",
            " 2D)                                                             \n",
            "                                                                 \n",
            " conv2d_2 (Conv2D)           (None, 3, 3, 128)         73856     \n",
            "                                                                 \n",
            " flatten (Flatten)           (None, 1152)              0         \n",
            "                                                                 \n",
            " dense (Dense)               (None, 10)                11530     \n",
            "                                                                 \n",
            "=================================================================\n",
            "Total params: 104,202\n",
            "Trainable params: 104,202\n",
            "Non-trainable params: 0\n",
            "_________________________________________________________________\n"
          ]
        }
      ],
      "source": [
        "model.summary()"
      ]
    },
    {
      "cell_type": "markdown",
      "metadata": {
        "id": "QoiYHzRcEI4a"
      },
      "source": [
        "**Training the convnet on MNIST images**"
      ]
    },
    {
      "cell_type": "code",
      "execution_count": 15,
      "metadata": {
        "colab": {
          "base_uri": "https://localhost:8080/"
        },
        "id": "nKOqLP4BEI4b",
        "outputId": "f3b92df8-ba93-42e7-af4f-b2e3923d5742"
      },
      "outputs": [
        {
          "output_type": "stream",
          "name": "stdout",
          "text": [
            "Epoch 1/5\n",
            "938/938 [==============================] - 4s 4ms/step - loss: 0.1575 - accuracy: 0.9504\n",
            "Epoch 2/5\n",
            "938/938 [==============================] - 3s 4ms/step - loss: 0.0436 - accuracy: 0.9866\n",
            "Epoch 3/5\n",
            "938/938 [==============================] - 3s 4ms/step - loss: 0.0296 - accuracy: 0.9905\n",
            "Epoch 4/5\n",
            "938/938 [==============================] - 3s 4ms/step - loss: 0.0230 - accuracy: 0.9934\n",
            "Epoch 5/5\n",
            "938/938 [==============================] - 3s 4ms/step - loss: 0.0176 - accuracy: 0.9951\n"
          ]
        },
        {
          "output_type": "execute_result",
          "data": {
            "text/plain": [
              "<keras.callbacks.History at 0x7f47c7fe3790>"
            ]
          },
          "metadata": {},
          "execution_count": 15
        }
      ],
      "source": [
        "from tensorflow.keras.datasets import mnist\n",
        "\n",
        "(train_images, train_labels), (test_images, test_labels) = mnist.load_data()\n",
        "train_images = train_images.reshape((60000, 28, 28, 1))\n",
        "train_images = train_images.astype(\"float32\") / 255\n",
        "test_images = test_images.reshape((10000, 28, 28, 1))\n",
        "test_images = test_images.astype(\"float32\") / 255\n",
        "model.compile(optimizer=\"rmsprop\",\n",
        "    loss=\"sparse_categorical_crossentropy\",\n",
        "    metrics=[\"accuracy\"])\n",
        "model.fit(train_images, train_labels, epochs=5, batch_size=64)"
      ]
    },
    {
      "cell_type": "markdown",
      "metadata": {
        "id": "A-lAg-gCEI4c"
      },
      "source": [
        "**Evaluating the convnet**"
      ]
    },
    {
      "cell_type": "code",
      "execution_count": 16,
      "metadata": {
        "colab": {
          "base_uri": "https://localhost:8080/"
        },
        "id": "U-F2vu08EI4c",
        "outputId": "da29a93b-56d7-4376-ce81-c23623dbb3a8"
      },
      "outputs": [
        {
          "output_type": "stream",
          "name": "stdout",
          "text": [
            "313/313 [==============================] - 1s 2ms/step - loss: 0.0375 - accuracy: 0.9889\n",
            "Test accuracy: 0.989\n"
          ]
        }
      ],
      "source": [
        "test_loss, test_acc = model.evaluate(test_images, test_labels)\n",
        "print(f\"Test accuracy: {test_acc:.3f}\")"
      ]
    },
    {
      "cell_type": "markdown",
      "metadata": {
        "id": "eK02CmdjEI4c"
      },
      "source": [
        "### The convolution operation"
      ]
    },
    {
      "cell_type": "markdown",
      "metadata": {
        "id": "RmpS2UrZEI4d"
      },
      "source": [
        "#### Understanding border effects and padding"
      ]
    },
    {
      "cell_type": "markdown",
      "metadata": {
        "id": "a5ytwQdAEI4d"
      },
      "source": [
        "#### Understanding convolution strides"
      ]
    },
    {
      "cell_type": "markdown",
      "metadata": {
        "id": "GW6wZPy0EI4e"
      },
      "source": [
        "### The max-pooling operation"
      ]
    },
    {
      "cell_type": "markdown",
      "metadata": {
        "id": "a_tkSGBCEI4e"
      },
      "source": [
        "**An incorrectly structured convnet missing its max-pooling layers**"
      ]
    },
    {
      "cell_type": "code",
      "execution_count": 17,
      "metadata": {
        "id": "fyeFOlrIEI4e"
      },
      "outputs": [],
      "source": [
        "inputs = keras.Input(shape=(28, 28, 1))\n",
        "x = layers.Conv2D(filters=32, kernel_size=3, activation=\"relu\")(inputs)\n",
        "x = layers.Conv2D(filters=64, kernel_size=3, activation=\"relu\")(x)\n",
        "x = layers.Conv2D(filters=128, kernel_size=3, activation=\"relu\")(x)\n",
        "x = layers.Flatten()(x)\n",
        "outputs = layers.Dense(10, activation=\"softmax\")(x)\n",
        "model_no_max_pool = keras.Model(inputs=inputs, outputs=outputs)"
      ]
    },
    {
      "cell_type": "code",
      "execution_count": 18,
      "metadata": {
        "colab": {
          "base_uri": "https://localhost:8080/"
        },
        "id": "e_3nO34MEI4f",
        "outputId": "ecc37460-93b4-4bb9-8f29-196d5ad4d0a5"
      },
      "outputs": [
        {
          "output_type": "stream",
          "name": "stdout",
          "text": [
            "Model: \"model_3\"\n",
            "_________________________________________________________________\n",
            " Layer (type)                Output Shape              Param #   \n",
            "=================================================================\n",
            " input_4 (InputLayer)        [(None, 28, 28, 1)]       0         \n",
            "                                                                 \n",
            " conv2d_9 (Conv2D)           (None, 26, 26, 32)        320       \n",
            "                                                                 \n",
            " conv2d_10 (Conv2D)          (None, 24, 24, 64)        18496     \n",
            "                                                                 \n",
            " conv2d_11 (Conv2D)          (None, 22, 22, 128)       73856     \n",
            "                                                                 \n",
            " flatten_3 (Flatten)         (None, 61952)             0         \n",
            "                                                                 \n",
            " dense_3 (Dense)             (None, 10)                619530    \n",
            "                                                                 \n",
            "=================================================================\n",
            "Total params: 712,202\n",
            "Trainable params: 712,202\n",
            "Non-trainable params: 0\n",
            "_________________________________________________________________\n"
          ]
        }
      ],
      "source": [
        "model_no_max_pool.summary()"
      ]
    },
    {
      "cell_type": "markdown",
      "metadata": {
        "id": "KDLjFf-XEI4f"
      },
      "source": [
        "## Training a convnet from scratch on a small dataset"
      ]
    },
    {
      "cell_type": "markdown",
      "metadata": {
        "id": "tDCdHKfQEI4f"
      },
      "source": [
        "### The relevance of deep learning for small-data problems"
      ]
    },
    {
      "cell_type": "markdown",
      "metadata": {
        "id": "LlwppZy0EI4f"
      },
      "source": [
        "### Downloading the data"
      ]
    },
    {
      "cell_type": "code",
      "execution_count": 19,
      "metadata": {
        "colab": {
          "base_uri": "https://localhost:8080/",
          "height": 92
        },
        "id": "YqtT_RnVEI4g",
        "outputId": "17a2b963-36ce-4253-9a96-3cf57f74f89f"
      },
      "outputs": [
        {
          "output_type": "display_data",
          "data": {
            "text/plain": [
              "<IPython.core.display.HTML object>"
            ],
            "text/html": [
              "\n",
              "     <input type=\"file\" id=\"files-505c2fcd-d694-4f6c-8c3c-7cd72d716e87\" name=\"files[]\" multiple disabled\n",
              "        style=\"border:none\" />\n",
              "     <output id=\"result-505c2fcd-d694-4f6c-8c3c-7cd72d716e87\">\n",
              "      Upload widget is only available when the cell has been executed in the\n",
              "      current browser session. Please rerun this cell to enable.\n",
              "      </output>\n",
              "      <script>// Copyright 2017 Google LLC\n",
              "//\n",
              "// Licensed under the Apache License, Version 2.0 (the \"License\");\n",
              "// you may not use this file except in compliance with the License.\n",
              "// You may obtain a copy of the License at\n",
              "//\n",
              "//      http://www.apache.org/licenses/LICENSE-2.0\n",
              "//\n",
              "// Unless required by applicable law or agreed to in writing, software\n",
              "// distributed under the License is distributed on an \"AS IS\" BASIS,\n",
              "// WITHOUT WARRANTIES OR CONDITIONS OF ANY KIND, either express or implied.\n",
              "// See the License for the specific language governing permissions and\n",
              "// limitations under the License.\n",
              "\n",
              "/**\n",
              " * @fileoverview Helpers for google.colab Python module.\n",
              " */\n",
              "(function(scope) {\n",
              "function span(text, styleAttributes = {}) {\n",
              "  const element = document.createElement('span');\n",
              "  element.textContent = text;\n",
              "  for (const key of Object.keys(styleAttributes)) {\n",
              "    element.style[key] = styleAttributes[key];\n",
              "  }\n",
              "  return element;\n",
              "}\n",
              "\n",
              "// Max number of bytes which will be uploaded at a time.\n",
              "const MAX_PAYLOAD_SIZE = 100 * 1024;\n",
              "\n",
              "function _uploadFiles(inputId, outputId) {\n",
              "  const steps = uploadFilesStep(inputId, outputId);\n",
              "  const outputElement = document.getElementById(outputId);\n",
              "  // Cache steps on the outputElement to make it available for the next call\n",
              "  // to uploadFilesContinue from Python.\n",
              "  outputElement.steps = steps;\n",
              "\n",
              "  return _uploadFilesContinue(outputId);\n",
              "}\n",
              "\n",
              "// This is roughly an async generator (not supported in the browser yet),\n",
              "// where there are multiple asynchronous steps and the Python side is going\n",
              "// to poll for completion of each step.\n",
              "// This uses a Promise to block the python side on completion of each step,\n",
              "// then passes the result of the previous step as the input to the next step.\n",
              "function _uploadFilesContinue(outputId) {\n",
              "  const outputElement = document.getElementById(outputId);\n",
              "  const steps = outputElement.steps;\n",
              "\n",
              "  const next = steps.next(outputElement.lastPromiseValue);\n",
              "  return Promise.resolve(next.value.promise).then((value) => {\n",
              "    // Cache the last promise value to make it available to the next\n",
              "    // step of the generator.\n",
              "    outputElement.lastPromiseValue = value;\n",
              "    return next.value.response;\n",
              "  });\n",
              "}\n",
              "\n",
              "/**\n",
              " * Generator function which is called between each async step of the upload\n",
              " * process.\n",
              " * @param {string} inputId Element ID of the input file picker element.\n",
              " * @param {string} outputId Element ID of the output display.\n",
              " * @return {!Iterable<!Object>} Iterable of next steps.\n",
              " */\n",
              "function* uploadFilesStep(inputId, outputId) {\n",
              "  const inputElement = document.getElementById(inputId);\n",
              "  inputElement.disabled = false;\n",
              "\n",
              "  const outputElement = document.getElementById(outputId);\n",
              "  outputElement.innerHTML = '';\n",
              "\n",
              "  const pickedPromise = new Promise((resolve) => {\n",
              "    inputElement.addEventListener('change', (e) => {\n",
              "      resolve(e.target.files);\n",
              "    });\n",
              "  });\n",
              "\n",
              "  const cancel = document.createElement('button');\n",
              "  inputElement.parentElement.appendChild(cancel);\n",
              "  cancel.textContent = 'Cancel upload';\n",
              "  const cancelPromise = new Promise((resolve) => {\n",
              "    cancel.onclick = () => {\n",
              "      resolve(null);\n",
              "    };\n",
              "  });\n",
              "\n",
              "  // Wait for the user to pick the files.\n",
              "  const files = yield {\n",
              "    promise: Promise.race([pickedPromise, cancelPromise]),\n",
              "    response: {\n",
              "      action: 'starting',\n",
              "    }\n",
              "  };\n",
              "\n",
              "  cancel.remove();\n",
              "\n",
              "  // Disable the input element since further picks are not allowed.\n",
              "  inputElement.disabled = true;\n",
              "\n",
              "  if (!files) {\n",
              "    return {\n",
              "      response: {\n",
              "        action: 'complete',\n",
              "      }\n",
              "    };\n",
              "  }\n",
              "\n",
              "  for (const file of files) {\n",
              "    const li = document.createElement('li');\n",
              "    li.append(span(file.name, {fontWeight: 'bold'}));\n",
              "    li.append(span(\n",
              "        `(${file.type || 'n/a'}) - ${file.size} bytes, ` +\n",
              "        `last modified: ${\n",
              "            file.lastModifiedDate ? file.lastModifiedDate.toLocaleDateString() :\n",
              "                                    'n/a'} - `));\n",
              "    const percent = span('0% done');\n",
              "    li.appendChild(percent);\n",
              "\n",
              "    outputElement.appendChild(li);\n",
              "\n",
              "    const fileDataPromise = new Promise((resolve) => {\n",
              "      const reader = new FileReader();\n",
              "      reader.onload = (e) => {\n",
              "        resolve(e.target.result);\n",
              "      };\n",
              "      reader.readAsArrayBuffer(file);\n",
              "    });\n",
              "    // Wait for the data to be ready.\n",
              "    let fileData = yield {\n",
              "      promise: fileDataPromise,\n",
              "      response: {\n",
              "        action: 'continue',\n",
              "      }\n",
              "    };\n",
              "\n",
              "    // Use a chunked sending to avoid message size limits. See b/62115660.\n",
              "    let position = 0;\n",
              "    do {\n",
              "      const length = Math.min(fileData.byteLength - position, MAX_PAYLOAD_SIZE);\n",
              "      const chunk = new Uint8Array(fileData, position, length);\n",
              "      position += length;\n",
              "\n",
              "      const base64 = btoa(String.fromCharCode.apply(null, chunk));\n",
              "      yield {\n",
              "        response: {\n",
              "          action: 'append',\n",
              "          file: file.name,\n",
              "          data: base64,\n",
              "        },\n",
              "      };\n",
              "\n",
              "      let percentDone = fileData.byteLength === 0 ?\n",
              "          100 :\n",
              "          Math.round((position / fileData.byteLength) * 100);\n",
              "      percent.textContent = `${percentDone}% done`;\n",
              "\n",
              "    } while (position < fileData.byteLength);\n",
              "  }\n",
              "\n",
              "  // All done.\n",
              "  yield {\n",
              "    response: {\n",
              "      action: 'complete',\n",
              "    }\n",
              "  };\n",
              "}\n",
              "\n",
              "scope.google = scope.google || {};\n",
              "scope.google.colab = scope.google.colab || {};\n",
              "scope.google.colab._files = {\n",
              "  _uploadFiles,\n",
              "  _uploadFilesContinue,\n",
              "};\n",
              "})(self);\n",
              "</script> "
            ]
          },
          "metadata": {}
        },
        {
          "output_type": "stream",
          "name": "stdout",
          "text": [
            "Saving dogs-vs-cats.zip to dogs-vs-cats.zip\n"
          ]
        }
      ],
      "source": [
        "from google.colab import files\n",
        "files.upload()"
      ]
    },
    {
      "cell_type": "code",
      "execution_count": 63,
      "metadata": {
        "colab": {
          "base_uri": "https://localhost:8080/"
        },
        "id": "9fHORyRiEI4g",
        "outputId": "f4825e86-c298-4e9a-972a-88868f0c7693"
      },
      "outputs": [
        {
          "output_type": "stream",
          "name": "stdout",
          "text": [
            "replace sampleSubmission.csv? [y]es, [n]o, [A]ll, [N]one, [r]ename: replace train/cat.0.jpg? [y]es, [n]o, [A]ll, [N]one, [r]ename: replace test1/1.jpg? [y]es, [n]o, [A]ll, [N]one, [r]ename: "
          ]
        }
      ],
      "source": [
        "!unzip -qq dogs-vs-cats.zip\n",
        "!unzip -qq train.zip\n",
        "!unzip -qq test1.zip"
      ]
    },
    {
      "cell_type": "markdown",
      "metadata": {
        "id": "wH0bpDp4EI4g"
      },
      "source": [
        "**Copying images to training, validation, and test directories**"
      ]
    },
    {
      "cell_type": "code",
      "execution_count": 176,
      "metadata": {
        "id": "w77WPlkAEI4g"
      },
      "outputs": [],
      "source": [
        "import os, shutil, pathlib\n",
        "\n",
        "original_dir = pathlib.Path(\"train\")\n",
        "new_base_dir = pathlib.Path(\"cats_vs_dogs_small\")\n",
        "\n",
        "def make_subset(subset_name, start_index, end_index):\n",
        "    for category in (\"cat\", \"dog\"):\n",
        "        dir = new_base_dir / subset_name / category\n",
        "        fnames = [f\"{category}.{i}.jpg\" for i in range(start_index, end_index)]\n",
        "        for fname in fnames:\n",
        "            shutil.copyfile(src=original_dir / fname,\n",
        "                            dst=dir / fname)\n",
        "\n",
        "make_subset(\"train\", start_index=0, end_index=1000)\n",
        "make_subset(\"validation\", start_index=1000, end_index=1500)\n",
        "make_subset(\"test\", start_index=1500, end_index=2500)"
      ]
    },
    {
      "cell_type": "markdown",
      "metadata": {
        "id": "FmsUfnz9EI4h"
      },
      "source": [
        "### Building the model"
      ]
    },
    {
      "cell_type": "markdown",
      "metadata": {
        "id": "fwaZkv5rEI4h"
      },
      "source": [
        "**Instantiating a small convnet for dogs vs. cats classification**"
      ]
    },
    {
      "cell_type": "code",
      "execution_count": 144,
      "metadata": {
        "id": "6obpJltiEI4h"
      },
      "outputs": [],
      "source": [
        "from tensorflow import keras\n",
        "from tensorflow.keras import layers\n",
        "\n",
        "inputs = keras.Input(shape=(180, 180, 3))\n",
        "x = layers.Rescaling(1./255)(inputs)\n",
        "x = layers.Conv2D(filters=32, kernel_size=3, activation=\"relu\")(x)\n",
        "x = layers.MaxPooling2D(pool_size=2)(x)\n",
        "x = layers.Conv2D(filters=64, kernel_size=3, activation=\"relu\")(x)\n",
        "x = layers.MaxPooling2D(pool_size=2)(x)\n",
        "x = layers.Conv2D(filters=128, kernel_size=3, activation=\"relu\")(x)\n",
        "x = layers.MaxPooling2D(pool_size=2)(x)\n",
        "x = layers.Conv2D(filters=256, kernel_size=3, activation=\"relu\")(x)\n",
        "x = layers.MaxPooling2D(pool_size=2)(x)\n",
        "x = layers.Conv2D(filters=256, kernel_size=3, activation=\"relu\")(x)\n",
        "x = layers.Flatten()(x)\n",
        "outputs = layers.Dense(1, activation=\"sigmoid\")(x)\n",
        "model = keras.Model(inputs=inputs, outputs=outputs)"
      ]
    },
    {
      "cell_type": "code",
      "execution_count": 23,
      "metadata": {
        "colab": {
          "base_uri": "https://localhost:8080/"
        },
        "id": "_Is0ASvLEI4h",
        "outputId": "6244948c-2476-40b8-9f36-6ba51ce9d992"
      },
      "outputs": [
        {
          "output_type": "stream",
          "name": "stdout",
          "text": [
            "Model: \"model_4\"\n",
            "_________________________________________________________________\n",
            " Layer (type)                Output Shape              Param #   \n",
            "=================================================================\n",
            " input_5 (InputLayer)        [(None, 180, 180, 3)]     0         \n",
            "                                                                 \n",
            " rescaling (Rescaling)       (None, 180, 180, 3)       0         \n",
            "                                                                 \n",
            " conv2d_12 (Conv2D)          (None, 178, 178, 32)      896       \n",
            "                                                                 \n",
            " max_pooling2d_4 (MaxPooling  (None, 89, 89, 32)       0         \n",
            " 2D)                                                             \n",
            "                                                                 \n",
            " conv2d_13 (Conv2D)          (None, 87, 87, 64)        18496     \n",
            "                                                                 \n",
            " max_pooling2d_5 (MaxPooling  (None, 43, 43, 64)       0         \n",
            " 2D)                                                             \n",
            "                                                                 \n",
            " conv2d_14 (Conv2D)          (None, 41, 41, 128)       73856     \n",
            "                                                                 \n",
            " max_pooling2d_6 (MaxPooling  (None, 20, 20, 128)      0         \n",
            " 2D)                                                             \n",
            "                                                                 \n",
            " conv2d_15 (Conv2D)          (None, 18, 18, 256)       295168    \n",
            "                                                                 \n",
            " max_pooling2d_7 (MaxPooling  (None, 9, 9, 256)        0         \n",
            " 2D)                                                             \n",
            "                                                                 \n",
            " conv2d_16 (Conv2D)          (None, 7, 7, 256)         590080    \n",
            "                                                                 \n",
            " flatten_4 (Flatten)         (None, 12544)             0         \n",
            "                                                                 \n",
            " dense_4 (Dense)             (None, 1)                 12545     \n",
            "                                                                 \n",
            "=================================================================\n",
            "Total params: 991,041\n",
            "Trainable params: 991,041\n",
            "Non-trainable params: 0\n",
            "_________________________________________________________________\n"
          ]
        }
      ],
      "source": [
        "model.summary()"
      ]
    },
    {
      "cell_type": "markdown",
      "metadata": {
        "id": "LmLBsZiFEI4h"
      },
      "source": [
        "**Configuring the model for training**"
      ]
    },
    {
      "cell_type": "code",
      "execution_count": 145,
      "metadata": {
        "id": "KxVwOCTBEI4i"
      },
      "outputs": [],
      "source": [
        "model.compile(loss=\"binary_crossentropy\",\n",
        "              optimizer=\"rmsprop\",\n",
        "              metrics=[\"accuracy\"])"
      ]
    },
    {
      "cell_type": "markdown",
      "metadata": {
        "id": "zSMbQetgEI4i"
      },
      "source": [
        "### Data preprocessing"
      ]
    },
    {
      "cell_type": "markdown",
      "metadata": {
        "id": "vQD99lnrEI4i"
      },
      "source": [
        "**Using `image_dataset_from_directory` to read images**"
      ]
    },
    {
      "cell_type": "code",
      "execution_count": 146,
      "metadata": {
        "colab": {
          "base_uri": "https://localhost:8080/"
        },
        "id": "TGDvbQg9EI4i",
        "outputId": "ddb902df-7fcd-4270-e20e-e8e03fa18904"
      },
      "outputs": [
        {
          "output_type": "stream",
          "name": "stdout",
          "text": [
            "Found 2000 files belonging to 2 classes.\n",
            "Found 1000 files belonging to 2 classes.\n",
            "Found 2000 files belonging to 2 classes.\n"
          ]
        }
      ],
      "source": [
        "from tensorflow.keras.utils import image_dataset_from_directory\n",
        "\n",
        "train_dataset = image_dataset_from_directory(\n",
        "    new_base_dir / \"train\",\n",
        "    image_size=(180, 180),\n",
        "    batch_size=32)\n",
        "validation_dataset = image_dataset_from_directory(\n",
        "    new_base_dir / \"validation\",\n",
        "    image_size=(180, 180),\n",
        "    batch_size=32)\n",
        "test_dataset = image_dataset_from_directory(\n",
        "    new_base_dir / \"test\",\n",
        "    image_size=(180, 180),\n",
        "    batch_size=32)"
      ]
    },
    {
      "cell_type": "code",
      "execution_count": 147,
      "metadata": {
        "id": "KFalVzGdEI4i"
      },
      "outputs": [],
      "source": [
        "import numpy as np\n",
        "import tensorflow as tf\n",
        "random_numbers = np.random.normal(size=(1000, 16))\n",
        "dataset = tf.data.Dataset.from_tensor_slices(random_numbers)"
      ]
    },
    {
      "cell_type": "code",
      "execution_count": 148,
      "metadata": {
        "colab": {
          "base_uri": "https://localhost:8080/"
        },
        "id": "PM601YIbEI4i",
        "outputId": "b61b998f-ef76-413e-c48d-460c3a8d5e3b"
      },
      "outputs": [
        {
          "output_type": "stream",
          "name": "stdout",
          "text": [
            "(16,)\n",
            "(16,)\n",
            "(16,)\n"
          ]
        }
      ],
      "source": [
        "for i, element in enumerate(dataset):\n",
        "    print(element.shape)\n",
        "    if i >= 2:\n",
        "        break"
      ]
    },
    {
      "cell_type": "code",
      "execution_count": 149,
      "metadata": {
        "colab": {
          "base_uri": "https://localhost:8080/"
        },
        "id": "GBUF3PTCEI4j",
        "outputId": "d557ee93-b770-4f25-9878-4d0d98557fd2"
      },
      "outputs": [
        {
          "output_type": "stream",
          "name": "stdout",
          "text": [
            "(32, 16)\n",
            "(32, 16)\n",
            "(32, 16)\n"
          ]
        }
      ],
      "source": [
        "batched_dataset = dataset.batch(32)\n",
        "for i, element in enumerate(batched_dataset):\n",
        "    print(element.shape)\n",
        "    if i >= 2:\n",
        "        break"
      ]
    },
    {
      "cell_type": "code",
      "execution_count": 150,
      "metadata": {
        "colab": {
          "base_uri": "https://localhost:8080/"
        },
        "id": "jRboDJc9EI4j",
        "outputId": "ea4118de-e100-41ec-d6e5-21821765e2e7"
      },
      "outputs": [
        {
          "output_type": "stream",
          "name": "stdout",
          "text": [
            "(4, 4)\n",
            "(4, 4)\n",
            "(4, 4)\n"
          ]
        }
      ],
      "source": [
        "reshaped_dataset = dataset.map(lambda x: tf.reshape(x, (4, 4)))\n",
        "for i, element in enumerate(reshaped_dataset):\n",
        "    print(element.shape)\n",
        "    if i >= 2:\n",
        "        break"
      ]
    },
    {
      "cell_type": "markdown",
      "metadata": {
        "id": "dcAHZKzVEI4j"
      },
      "source": [
        "**Displaying the shapes of the data and labels yielded by the `Dataset`**"
      ]
    },
    {
      "cell_type": "code",
      "execution_count": 151,
      "metadata": {
        "colab": {
          "base_uri": "https://localhost:8080/"
        },
        "id": "zetqdIP9EI4j",
        "outputId": "aba956af-014f-457e-edb0-36a955e2c429"
      },
      "outputs": [
        {
          "output_type": "stream",
          "name": "stdout",
          "text": [
            "data batch shape: (32, 180, 180, 3)\n",
            "labels batch shape: (32,)\n"
          ]
        }
      ],
      "source": [
        "for data_batch, labels_batch in train_dataset:\n",
        "    print(\"data batch shape:\", data_batch.shape)\n",
        "    print(\"labels batch shape:\", labels_batch.shape)\n",
        "    break"
      ]
    },
    {
      "cell_type": "markdown",
      "metadata": {
        "id": "e5WMB5zsEI4j"
      },
      "source": [
        "**Fitting the model using a `Dataset`**"
      ]
    },
    {
      "cell_type": "code",
      "execution_count": 152,
      "metadata": {
        "colab": {
          "base_uri": "https://localhost:8080/"
        },
        "id": "TKynUCrxEI4j",
        "outputId": "db301371-123f-4e8b-e0bf-2ea56bd422f4"
      },
      "outputs": [
        {
          "output_type": "stream",
          "name": "stdout",
          "text": [
            "Epoch 1/25\n",
            "63/63 [==============================] - 2s 23ms/step - loss: 0.7636 - accuracy: 0.5170 - val_loss: 0.6862 - val_accuracy: 0.6120\n",
            "Epoch 2/25\n",
            "63/63 [==============================] - 1s 21ms/step - loss: 0.6893 - accuracy: 0.5850 - val_loss: 0.6817 - val_accuracy: 0.5730\n",
            "Epoch 3/25\n",
            "63/63 [==============================] - 1s 20ms/step - loss: 0.6854 - accuracy: 0.6200 - val_loss: 0.6379 - val_accuracy: 0.6390\n",
            "Epoch 4/25\n",
            "63/63 [==============================] - 1s 21ms/step - loss: 0.6178 - accuracy: 0.6710 - val_loss: 0.6014 - val_accuracy: 0.6570\n",
            "Epoch 5/25\n",
            "63/63 [==============================] - 1s 21ms/step - loss: 0.5745 - accuracy: 0.7040 - val_loss: 0.5869 - val_accuracy: 0.6810\n",
            "Epoch 6/25\n",
            "63/63 [==============================] - 1s 21ms/step - loss: 0.5528 - accuracy: 0.7295 - val_loss: 0.5670 - val_accuracy: 0.7100\n",
            "Epoch 7/25\n",
            "63/63 [==============================] - 1s 20ms/step - loss: 0.4741 - accuracy: 0.7700 - val_loss: 0.6453 - val_accuracy: 0.6510\n",
            "Epoch 8/25\n",
            "63/63 [==============================] - 2s 25ms/step - loss: 0.4497 - accuracy: 0.7850 - val_loss: 0.5662 - val_accuracy: 0.7290\n",
            "Epoch 9/25\n",
            "63/63 [==============================] - 1s 20ms/step - loss: 0.3880 - accuracy: 0.8265 - val_loss: 0.7229 - val_accuracy: 0.6910\n",
            "Epoch 10/25\n",
            "63/63 [==============================] - 1s 20ms/step - loss: 0.3417 - accuracy: 0.8530 - val_loss: 0.8687 - val_accuracy: 0.6570\n",
            "Epoch 11/25\n",
            "63/63 [==============================] - 1s 20ms/step - loss: 0.2832 - accuracy: 0.8850 - val_loss: 0.7138 - val_accuracy: 0.7300\n",
            "Epoch 12/25\n",
            "63/63 [==============================] - 1s 20ms/step - loss: 0.2237 - accuracy: 0.9060 - val_loss: 0.9703 - val_accuracy: 0.7310\n",
            "Epoch 13/25\n",
            "63/63 [==============================] - 1s 20ms/step - loss: 0.1846 - accuracy: 0.9245 - val_loss: 1.0263 - val_accuracy: 0.7230\n",
            "Epoch 14/25\n",
            "63/63 [==============================] - 1s 20ms/step - loss: 0.1460 - accuracy: 0.9395 - val_loss: 1.0053 - val_accuracy: 0.7400\n",
            "Epoch 15/25\n",
            "63/63 [==============================] - 1s 20ms/step - loss: 0.1207 - accuracy: 0.9525 - val_loss: 1.0700 - val_accuracy: 0.7380\n",
            "Epoch 16/25\n",
            "63/63 [==============================] - 1s 20ms/step - loss: 0.1228 - accuracy: 0.9565 - val_loss: 1.0720 - val_accuracy: 0.7290\n",
            "Epoch 17/25\n",
            "63/63 [==============================] - 1s 20ms/step - loss: 0.0885 - accuracy: 0.9695 - val_loss: 1.2285 - val_accuracy: 0.7240\n",
            "Epoch 18/25\n",
            "63/63 [==============================] - 1s 20ms/step - loss: 0.0719 - accuracy: 0.9715 - val_loss: 1.4058 - val_accuracy: 0.7310\n",
            "Epoch 19/25\n",
            "63/63 [==============================] - 1s 20ms/step - loss: 0.0755 - accuracy: 0.9695 - val_loss: 1.4482 - val_accuracy: 0.7140\n",
            "Epoch 20/25\n",
            "63/63 [==============================] - 1s 20ms/step - loss: 0.0486 - accuracy: 0.9850 - val_loss: 1.6780 - val_accuracy: 0.7170\n",
            "Epoch 21/25\n",
            "63/63 [==============================] - 1s 20ms/step - loss: 0.0643 - accuracy: 0.9830 - val_loss: 1.9068 - val_accuracy: 0.7260\n",
            "Epoch 22/25\n",
            "63/63 [==============================] - 1s 20ms/step - loss: 0.0536 - accuracy: 0.9830 - val_loss: 2.0759 - val_accuracy: 0.6970\n",
            "Epoch 23/25\n",
            "63/63 [==============================] - 1s 20ms/step - loss: 0.0449 - accuracy: 0.9840 - val_loss: 3.2497 - val_accuracy: 0.6690\n",
            "Epoch 24/25\n",
            "63/63 [==============================] - 1s 20ms/step - loss: 0.0946 - accuracy: 0.9780 - val_loss: 1.9492 - val_accuracy: 0.7230\n",
            "Epoch 25/25\n",
            "63/63 [==============================] - 1s 20ms/step - loss: 0.0507 - accuracy: 0.9875 - val_loss: 1.9484 - val_accuracy: 0.7350\n"
          ]
        }
      ],
      "source": [
        "callbacks = [\n",
        "    keras.callbacks.ModelCheckpoint(\n",
        "        filepath=\"convnet_from_scratch.keras\",\n",
        "        save_best_only=True,\n",
        "        monitor=\"val_loss\")\n",
        "]\n",
        "history = model.fit(\n",
        "    train_dataset,\n",
        "    epochs=25,\n",
        "    validation_data=validation_dataset,\n",
        "    callbacks=callbacks)"
      ]
    },
    {
      "cell_type": "markdown",
      "metadata": {
        "id": "s41FFIxMEI4j"
      },
      "source": [
        "**Displaying curves of loss and accuracy during training**"
      ]
    },
    {
      "cell_type": "code",
      "execution_count": 153,
      "metadata": {
        "colab": {
          "base_uri": "https://localhost:8080/",
          "height": 545
        },
        "id": "ZES_aykmEI4j",
        "outputId": "5bddc550-29e0-46cf-cefb-d63acb42e142"
      },
      "outputs": [
        {
          "output_type": "display_data",
          "data": {
            "text/plain": [
              "<Figure size 432x288 with 1 Axes>"
            ],
            "image/png": "[encoded data removed]"
          },
          "metadata": {
            "needs_background": "light"
          }
        },
        {
          "output_type": "display_data",
          "data": {
            "text/plain": [
              "<Figure size 432x288 with 1 Axes>"
            ],
            "image/png": "[encoded data removed]"
          },
          "metadata": {
            "needs_background": "light"
          }
        }
      ],
      "source": [
        "import matplotlib.pyplot as plt\n",
        "accuracy = history.history[\"accuracy\"]\n",
        "val_accuracy = history.history[\"val_accuracy\"]\n",
        "loss = history.history[\"loss\"]\n",
        "val_loss = history.history[\"val_loss\"]\n",
        "epochs = range(1, len(accuracy) + 1)\n",
        "plt.plot(epochs, accuracy, \"bo\", label=\"Training accuracy\")\n",
        "plt.plot(epochs, val_accuracy, \"b\", label=\"Validation accuracy\")\n",
        "plt.title(\"Training and validation accuracy\")\n",
        "plt.legend()\n",
        "plt.figure()\n",
        "plt.plot(epochs, loss, \"bo\", label=\"Training loss\")\n",
        "plt.plot(epochs, val_loss, \"b\", label=\"Validation loss\")\n",
        "plt.title(\"Training and validation loss\")\n",
        "plt.legend()\n",
        "plt.show()"
      ]
    },
    {
      "cell_type": "markdown",
      "metadata": {
        "id": "AhXi919aEI4j"
      },
      "source": [
        "**Evaluating the model on the test set**"
      ]
    },
    {
      "cell_type": "code",
      "execution_count": 154,
      "metadata": {
        "colab": {
          "base_uri": "https://localhost:8080/"
        },
        "id": "eyJJlI_fEI4k",
        "outputId": "50b19ab5-b81a-48d3-fa18-6215a5201cfe"
      },
      "outputs": [
        {
          "output_type": "stream",
          "name": "stdout",
          "text": [
            "63/63 [==============================] - 1s 10ms/step - loss: 0.6082 - accuracy: 0.7105\n",
            "Test accuracy: 0.711\n"
          ]
        }
      ],
      "source": [
        "test_model = keras.models.load_model(\"convnet_from_scratch.keras\")\n",
        "test_loss, test_acc = test_model.evaluate(test_dataset)\n",
        "print(f\"Test accuracy: {test_acc:.3f}\")"
      ]
    },
    {
      "cell_type": "markdown",
      "metadata": {
        "id": "KyLD2xQUEI4k"
      },
      "source": [
        "### Using data augmentation"
      ]
    },
    {
      "cell_type": "markdown",
      "metadata": {
        "id": "tt7LvopJEI4k"
      },
      "source": [
        "**Define a data augmentation stage to add to an image model**"
      ]
    },
    {
      "cell_type": "code",
      "execution_count": 155,
      "metadata": {
        "id": "bMEXEsoaEI4k"
      },
      "outputs": [],
      "source": [
        "data_augmentation = keras.Sequential(\n",
        "    [\n",
        "        layers.RandomFlip(\"horizontal\"),\n",
        "        layers.RandomRotation(0.1),\n",
        "        layers.RandomZoom(0.2),\n",
        "    ]\n",
        ")"
      ]
    },
    {
      "cell_type": "markdown",
      "metadata": {
        "id": "sFa55enNEI4k"
      },
      "source": [
        "**Displaying some randomly augmented training images**"
      ]
    },
    {
      "cell_type": "code",
      "execution_count": 156,
      "metadata": {
        "colab": {
          "base_uri": "https://localhost:8080/",
          "height": 575
        },
        "id": "RYbmZA-VEI4k",
        "outputId": "4a0931a4-fea0-423a-fefd-77c6c5e6963b"
      },
      "outputs": [
        {
          "output_type": "display_data",
          "data": {
            "text/plain": [
              "<Figure size 720x720 with 9 Axes>"
            ],
            "image/png": "[encoded data removed]"
          },
          "metadata": {
            "needs_background": "light"
          }
        }
      ],
      "source": [
        "plt.figure(figsize=(10, 10))\n",
        "for images, _ in train_dataset.take(1):\n",
        "    for i in range(9):\n",
        "        augmented_images = data_augmentation(images)\n",
        "        ax = plt.subplot(3, 3, i + 1)\n",
        "        plt.imshow(augmented_images[0].numpy().astype(\"uint8\"))\n",
        "        plt.axis(\"off\")"
      ]
    },
    {
      "cell_type": "markdown",
      "metadata": {
        "id": "8PfSOWybEI4k"
      },
      "source": [
        "**Defining a new convnet that includes image augmentation and dropout**"
      ]
    },
    {
      "cell_type": "code",
      "execution_count": 157,
      "metadata": {
        "id": "Du5HTObyEI4k"
      },
      "outputs": [],
      "source": [
        "inputs = keras.Input(shape=(180, 180, 3))\n",
        "x = data_augmentation(inputs)\n",
        "x = layers.Rescaling(1./255)(x)\n",
        "x = layers.Conv2D(filters=32, kernel_size=4, activation=\"relu\")(x)\n",
        "x = layers.MaxPooling2D(pool_size=2)(x)\n",
        "x = layers.Conv2D(filters=64, kernel_size=4, activation=\"relu\")(x)\n",
        "x = layers.MaxPooling2D(pool_size=2)(x)\n",
        "x = layers.Conv2D(filters=128, kernel_size=4, activation=\"relu\")(x)\n",
        "x = layers.MaxPooling2D(pool_size=2)(x)\n",
        "x = layers.Conv2D(filters=256, kernel_size=4, activation=\"relu\")(x)\n",
        "x = layers.MaxPooling2D(pool_size=2)(x)\n",
        "x = layers.Conv2D(filters=256, kernel_size=4, activation=\"relu\")(x)\n",
        "x = layers.Flatten()(x)\n",
        "x = layers.Dropout(0.5)(x)\n",
        "outputs = layers.Dense(1, activation=\"sigmoid\")(x)\n",
        "model = keras.Model(inputs=inputs, outputs=outputs)\n",
        "\n",
        "model.compile(loss=\"binary_crossentropy\",\n",
        "              optimizer=\"rmsprop\",\n",
        "              metrics=[\"accuracy\"])"
      ]
    },
    {
      "cell_type": "markdown",
      "metadata": {
        "id": "ZeiOFgtVEI4k"
      },
      "source": [
        "**Training the regularized convnet**"
      ]
    },
    {
      "cell_type": "code",
      "execution_count": 158,
      "metadata": {
        "colab": {
          "base_uri": "https://localhost:8080/"
        },
        "id": "90A_cvZiEI4l",
        "outputId": "48693edc-17f8-4d69-d4c7-89f613541e79"
      },
      "outputs": [
        {
          "output_type": "stream",
          "name": "stdout",
          "text": [
            "Epoch 1/100\n",
            "63/63 [==============================] - 4s 39ms/step - loss: 0.8077 - accuracy: 0.5115 - val_loss: 0.6925 - val_accuracy: 0.5740\n",
            "Epoch 2/100\n",
            "63/63 [==============================] - 2s 35ms/step - loss: 0.7099 - accuracy: 0.5185 - val_loss: 0.6922 - val_accuracy: 0.5330\n",
            "Epoch 3/100\n",
            "63/63 [==============================] - 2s 36ms/step - loss: 0.6936 - accuracy: 0.5195 - val_loss: 0.6866 - val_accuracy: 0.5740\n",
            "Epoch 4/100\n",
            "63/63 [==============================] - 2s 35ms/step - loss: 0.7008 - accuracy: 0.5495 - val_loss: 0.6912 - val_accuracy: 0.5190\n",
            "Epoch 5/100\n",
            "63/63 [==============================] - 2s 36ms/step - loss: 0.6836 - accuracy: 0.5755 - val_loss: 0.6618 - val_accuracy: 0.6120\n",
            "Epoch 6/100\n",
            "63/63 [==============================] - 2s 35ms/step - loss: 0.7080 - accuracy: 0.5965 - val_loss: 0.6712 - val_accuracy: 0.5840\n",
            "Epoch 7/100\n",
            "63/63 [==============================] - 2s 36ms/step - loss: 0.6705 - accuracy: 0.6150 - val_loss: 0.6267 - val_accuracy: 0.6440\n",
            "Epoch 8/100\n",
            "63/63 [==============================] - 2s 35ms/step - loss: 0.6531 - accuracy: 0.6300 - val_loss: 0.7050 - val_accuracy: 0.5350\n",
            "Epoch 9/100\n",
            "63/63 [==============================] - 2s 35ms/step - loss: 0.6400 - accuracy: 0.6540 - val_loss: 0.6850 - val_accuracy: 0.6440\n",
            "Epoch 10/100\n",
            "63/63 [==============================] - 2s 36ms/step - loss: 0.6234 - accuracy: 0.6805 - val_loss: 0.6004 - val_accuracy: 0.6870\n",
            "Epoch 11/100\n",
            "63/63 [==============================] - 2s 35ms/step - loss: 0.6094 - accuracy: 0.6820 - val_loss: 0.6309 - val_accuracy: 0.6490\n",
            "Epoch 12/100\n",
            "63/63 [==============================] - 2s 36ms/step - loss: 0.6077 - accuracy: 0.6920 - val_loss: 0.5702 - val_accuracy: 0.6970\n",
            "Epoch 13/100\n",
            "63/63 [==============================] - 2s 37ms/step - loss: 0.5660 - accuracy: 0.7070 - val_loss: 0.5417 - val_accuracy: 0.7190\n",
            "Epoch 14/100\n",
            "63/63 [==============================] - 2s 35ms/step - loss: 0.5759 - accuracy: 0.7200 - val_loss: 0.5859 - val_accuracy: 0.6940\n",
            "Epoch 15/100\n",
            "63/63 [==============================] - 2s 36ms/step - loss: 0.5550 - accuracy: 0.7170 - val_loss: 0.5289 - val_accuracy: 0.7310\n",
            "Epoch 16/100\n",
            "63/63 [==============================] - 2s 35ms/step - loss: 0.5456 - accuracy: 0.7350 - val_loss: 0.6619 - val_accuracy: 0.7020\n",
            "Epoch 17/100\n",
            "63/63 [==============================] - 2s 36ms/step - loss: 0.5522 - accuracy: 0.7355 - val_loss: 0.4960 - val_accuracy: 0.7590\n",
            "Epoch 18/100\n",
            "63/63 [==============================] - 2s 35ms/step - loss: 0.5280 - accuracy: 0.7325 - val_loss: 0.5439 - val_accuracy: 0.7320\n",
            "Epoch 19/100\n",
            "63/63 [==============================] - 2s 35ms/step - loss: 0.5236 - accuracy: 0.7520 - val_loss: 1.0373 - val_accuracy: 0.6270\n",
            "Epoch 20/100\n",
            "63/63 [==============================] - 2s 34ms/step - loss: 0.5346 - accuracy: 0.7475 - val_loss: 0.7385 - val_accuracy: 0.6510\n",
            "Epoch 21/100\n",
            "63/63 [==============================] - 2s 34ms/step - loss: 0.4889 - accuracy: 0.7605 - val_loss: 0.5240 - val_accuracy: 0.7240\n",
            "Epoch 22/100\n",
            "63/63 [==============================] - 2s 35ms/step - loss: 0.4891 - accuracy: 0.7770 - val_loss: 0.5021 - val_accuracy: 0.7530\n",
            "Epoch 23/100\n",
            "63/63 [==============================] - 2s 35ms/step - loss: 0.4729 - accuracy: 0.7875 - val_loss: 0.5139 - val_accuracy: 0.7320\n",
            "Epoch 24/100\n",
            "63/63 [==============================] - 2s 35ms/step - loss: 0.4656 - accuracy: 0.7820 - val_loss: 0.6130 - val_accuracy: 0.7430\n",
            "Epoch 25/100\n",
            "63/63 [==============================] - 2s 34ms/step - loss: 0.4573 - accuracy: 0.7940 - val_loss: 0.5095 - val_accuracy: 0.7510\n",
            "Epoch 26/100\n",
            "63/63 [==============================] - 2s 34ms/step - loss: 0.4423 - accuracy: 0.7940 - val_loss: 0.5348 - val_accuracy: 0.7470\n",
            "Epoch 27/100\n",
            "63/63 [==============================] - 2s 36ms/step - loss: 0.4578 - accuracy: 0.7870 - val_loss: 0.4634 - val_accuracy: 0.7620\n",
            "Epoch 28/100\n",
            "63/63 [==============================] - 2s 35ms/step - loss: 0.4212 - accuracy: 0.8090 - val_loss: 0.6441 - val_accuracy: 0.7210\n",
            "Epoch 29/100\n",
            "63/63 [==============================] - 2s 34ms/step - loss: 0.4273 - accuracy: 0.8100 - val_loss: 0.5183 - val_accuracy: 0.7490\n",
            "Epoch 30/100\n",
            "63/63 [==============================] - 2s 35ms/step - loss: 0.4261 - accuracy: 0.8110 - val_loss: 0.5629 - val_accuracy: 0.7490\n",
            "Epoch 31/100\n",
            "63/63 [==============================] - 2s 36ms/step - loss: 0.4035 - accuracy: 0.8235 - val_loss: 0.4603 - val_accuracy: 0.7840\n",
            "Epoch 32/100\n",
            "63/63 [==============================] - 2s 35ms/step - loss: 0.4121 - accuracy: 0.8225 - val_loss: 0.4676 - val_accuracy: 0.7900\n",
            "Epoch 33/100\n",
            "63/63 [==============================] - 2s 35ms/step - loss: 0.3840 - accuracy: 0.8345 - val_loss: 0.6493 - val_accuracy: 0.7660\n",
            "Epoch 34/100\n",
            "63/63 [==============================] - 2s 36ms/step - loss: 0.3862 - accuracy: 0.8355 - val_loss: 0.4594 - val_accuracy: 0.7930\n",
            "Epoch 35/100\n",
            "63/63 [==============================] - 2s 35ms/step - loss: 0.3856 - accuracy: 0.8290 - val_loss: 0.6670 - val_accuracy: 0.7390\n",
            "Epoch 36/100\n",
            "63/63 [==============================] - 2s 34ms/step - loss: 0.3879 - accuracy: 0.8330 - val_loss: 0.6390 - val_accuracy: 0.7590\n",
            "Epoch 37/100\n",
            "63/63 [==============================] - 2s 35ms/step - loss: 0.3583 - accuracy: 0.8415 - val_loss: 0.5254 - val_accuracy: 0.7860\n",
            "Epoch 38/100\n",
            "63/63 [==============================] - 2s 35ms/step - loss: 0.3517 - accuracy: 0.8490 - val_loss: 0.9576 - val_accuracy: 0.6790\n",
            "Epoch 39/100\n",
            "63/63 [==============================] - 2s 34ms/step - loss: 0.3581 - accuracy: 0.8455 - val_loss: 0.4881 - val_accuracy: 0.7920\n",
            "Epoch 40/100\n",
            "63/63 [==============================] - 2s 34ms/step - loss: 0.3594 - accuracy: 0.8495 - val_loss: 0.5064 - val_accuracy: 0.7800\n",
            "Epoch 41/100\n",
            "63/63 [==============================] - 2s 35ms/step - loss: 0.3429 - accuracy: 0.8655 - val_loss: 0.4641 - val_accuracy: 0.7850\n",
            "Epoch 42/100\n",
            "63/63 [==============================] - 2s 35ms/step - loss: 0.3446 - accuracy: 0.8595 - val_loss: 0.4994 - val_accuracy: 0.7880\n",
            "Epoch 43/100\n",
            "63/63 [==============================] - 2s 34ms/step - loss: 0.3544 - accuracy: 0.8535 - val_loss: 0.5602 - val_accuracy: 0.7650\n",
            "Epoch 44/100\n",
            "63/63 [==============================] - 2s 34ms/step - loss: 0.3444 - accuracy: 0.8615 - val_loss: 0.5022 - val_accuracy: 0.7830\n",
            "Epoch 45/100\n",
            "63/63 [==============================] - 2s 35ms/step - loss: 0.3018 - accuracy: 0.8695 - val_loss: 0.5665 - val_accuracy: 0.8010\n",
            "Epoch 46/100\n",
            "63/63 [==============================] - 2s 35ms/step - loss: 0.3163 - accuracy: 0.8695 - val_loss: 0.8109 - val_accuracy: 0.7700\n",
            "Epoch 47/100\n",
            "63/63 [==============================] - 2s 35ms/step - loss: 0.3149 - accuracy: 0.8660 - val_loss: 0.4835 - val_accuracy: 0.8080\n",
            "Epoch 48/100\n",
            "63/63 [==============================] - 2s 35ms/step - loss: 0.3095 - accuracy: 0.8695 - val_loss: 0.4698 - val_accuracy: 0.8220\n",
            "Epoch 49/100\n",
            "63/63 [==============================] - 2s 35ms/step - loss: 0.3057 - accuracy: 0.8735 - val_loss: 0.5929 - val_accuracy: 0.8120\n",
            "Epoch 50/100\n",
            "63/63 [==============================] - 2s 35ms/step - loss: 0.2979 - accuracy: 0.8775 - val_loss: 0.6200 - val_accuracy: 0.7860\n",
            "Epoch 51/100\n",
            "63/63 [==============================] - 2s 35ms/step - loss: 0.3058 - accuracy: 0.8685 - val_loss: 0.7020 - val_accuracy: 0.7750\n",
            "Epoch 52/100\n",
            "63/63 [==============================] - 2s 35ms/step - loss: 0.2953 - accuracy: 0.8855 - val_loss: 0.5506 - val_accuracy: 0.7960\n",
            "Epoch 53/100\n",
            "63/63 [==============================] - 2s 35ms/step - loss: 0.2862 - accuracy: 0.8840 - val_loss: 0.5565 - val_accuracy: 0.7980\n",
            "Epoch 54/100\n",
            "63/63 [==============================] - 2s 34ms/step - loss: 0.3101 - accuracy: 0.8740 - val_loss: 0.7106 - val_accuracy: 0.7750\n",
            "Epoch 55/100\n",
            "63/63 [==============================] - 2s 35ms/step - loss: 0.2913 - accuracy: 0.8845 - val_loss: 0.5019 - val_accuracy: 0.7980\n",
            "Epoch 56/100\n",
            "63/63 [==============================] - 2s 35ms/step - loss: 0.2955 - accuracy: 0.8885 - val_loss: 0.6066 - val_accuracy: 0.8020\n",
            "Epoch 57/100\n",
            "63/63 [==============================] - 2s 35ms/step - loss: 0.2832 - accuracy: 0.8960 - val_loss: 0.5118 - val_accuracy: 0.7880\n",
            "Epoch 58/100\n",
            "63/63 [==============================] - 2s 36ms/step - loss: 0.2758 - accuracy: 0.8815 - val_loss: 0.4483 - val_accuracy: 0.8210\n",
            "Epoch 59/100\n",
            "63/63 [==============================] - 2s 35ms/step - loss: 0.2985 - accuracy: 0.8835 - val_loss: 0.5279 - val_accuracy: 0.8040\n",
            "Epoch 60/100\n",
            "63/63 [==============================] - 2s 35ms/step - loss: 0.2744 - accuracy: 0.8900 - val_loss: 1.4714 - val_accuracy: 0.7010\n",
            "Epoch 61/100\n",
            "63/63 [==============================] - 2s 35ms/step - loss: 0.2768 - accuracy: 0.8965 - val_loss: 1.0033 - val_accuracy: 0.7410\n",
            "Epoch 62/100\n",
            "63/63 [==============================] - 2s 35ms/step - loss: 0.2675 - accuracy: 0.9010 - val_loss: 0.8021 - val_accuracy: 0.8040\n",
            "Epoch 63/100\n",
            "63/63 [==============================] - 2s 35ms/step - loss: 0.2733 - accuracy: 0.8945 - val_loss: 0.6181 - val_accuracy: 0.8160\n",
            "Epoch 64/100\n",
            "63/63 [==============================] - 2s 35ms/step - loss: 0.2499 - accuracy: 0.9010 - val_loss: 0.7557 - val_accuracy: 0.8040\n",
            "Epoch 65/100\n",
            "63/63 [==============================] - 2s 35ms/step - loss: 0.2431 - accuracy: 0.8970 - val_loss: 0.8343 - val_accuracy: 0.8210\n",
            "Epoch 66/100\n",
            "63/63 [==============================] - 2s 36ms/step - loss: 0.2580 - accuracy: 0.8975 - val_loss: 0.5359 - val_accuracy: 0.8240\n",
            "Epoch 67/100\n",
            "63/63 [==============================] - 2s 35ms/step - loss: 0.2614 - accuracy: 0.9000 - val_loss: 0.6688 - val_accuracy: 0.8240\n",
            "Epoch 68/100\n",
            "63/63 [==============================] - 2s 35ms/step - loss: 0.2281 - accuracy: 0.9080 - val_loss: 0.7746 - val_accuracy: 0.7960\n",
            "Epoch 69/100\n",
            "63/63 [==============================] - 2s 35ms/step - loss: 0.2601 - accuracy: 0.9060 - val_loss: 0.8027 - val_accuracy: 0.8300\n",
            "Epoch 70/100\n",
            "63/63 [==============================] - 2s 35ms/step - loss: 0.2663 - accuracy: 0.8965 - val_loss: 0.6688 - val_accuracy: 0.8190\n",
            "Epoch 71/100\n",
            "63/63 [==============================] - 2s 35ms/step - loss: 0.2386 - accuracy: 0.9120 - val_loss: 0.8175 - val_accuracy: 0.8200\n",
            "Epoch 72/100\n",
            "63/63 [==============================] - 2s 35ms/step - loss: 0.2633 - accuracy: 0.9020 - val_loss: 0.6006 - val_accuracy: 0.8180\n",
            "Epoch 73/100\n",
            "63/63 [==============================] - 2s 35ms/step - loss: 0.2552 - accuracy: 0.9055 - val_loss: 0.7621 - val_accuracy: 0.8180\n",
            "Epoch 74/100\n",
            "63/63 [==============================] - 2s 35ms/step - loss: 0.2597 - accuracy: 0.9040 - val_loss: 1.0443 - val_accuracy: 0.7330\n",
            "Epoch 75/100\n",
            "63/63 [==============================] - 2s 35ms/step - loss: 0.2353 - accuracy: 0.9065 - val_loss: 0.6969 - val_accuracy: 0.8190\n",
            "Epoch 76/100\n",
            "63/63 [==============================] - 2s 35ms/step - loss: 0.2329 - accuracy: 0.9210 - val_loss: 0.9104 - val_accuracy: 0.8350\n",
            "Epoch 77/100\n",
            "63/63 [==============================] - 2s 35ms/step - loss: 0.2477 - accuracy: 0.9120 - val_loss: 0.7524 - val_accuracy: 0.8110\n",
            "Epoch 78/100\n",
            "63/63 [==============================] - 2s 35ms/step - loss: 0.2433 - accuracy: 0.9055 - val_loss: 1.4741 - val_accuracy: 0.7280\n",
            "Epoch 79/100\n",
            "63/63 [==============================] - 2s 34ms/step - loss: 0.2829 - accuracy: 0.8960 - val_loss: 0.6416 - val_accuracy: 0.8280\n",
            "Epoch 80/100\n",
            "63/63 [==============================] - 2s 35ms/step - loss: 0.2579 - accuracy: 0.8935 - val_loss: 0.7471 - val_accuracy: 0.8390\n",
            "Epoch 81/100\n",
            "63/63 [==============================] - 2s 35ms/step - loss: 0.2493 - accuracy: 0.9090 - val_loss: 0.8177 - val_accuracy: 0.8170\n",
            "Epoch 82/100\n",
            "63/63 [==============================] - 2s 35ms/step - loss: 0.2572 - accuracy: 0.9085 - val_loss: 0.6423 - val_accuracy: 0.8140\n",
            "Epoch 83/100\n",
            "63/63 [==============================] - 2s 35ms/step - loss: 0.2704 - accuracy: 0.9035 - val_loss: 0.6282 - val_accuracy: 0.8130\n",
            "Epoch 84/100\n",
            "63/63 [==============================] - 2s 34ms/step - loss: 0.2329 - accuracy: 0.9130 - val_loss: 0.9429 - val_accuracy: 0.8350\n",
            "Epoch 85/100\n",
            "63/63 [==============================] - 2s 34ms/step - loss: 0.2552 - accuracy: 0.9110 - val_loss: 1.8092 - val_accuracy: 0.7900\n",
            "Epoch 86/100\n",
            "63/63 [==============================] - 2s 35ms/step - loss: 0.2615 - accuracy: 0.9080 - val_loss: 0.7196 - val_accuracy: 0.8140\n",
            "Epoch 87/100\n",
            "63/63 [==============================] - 2s 35ms/step - loss: 0.2276 - accuracy: 0.9240 - val_loss: 1.1334 - val_accuracy: 0.7890\n",
            "Epoch 88/100\n",
            "63/63 [==============================] - 2s 35ms/step - loss: 0.2620 - accuracy: 0.9115 - val_loss: 0.9763 - val_accuracy: 0.7600\n",
            "Epoch 89/100\n",
            "63/63 [==============================] - 2s 34ms/step - loss: 0.2417 - accuracy: 0.9075 - val_loss: 0.8357 - val_accuracy: 0.8250\n",
            "Epoch 90/100\n",
            "63/63 [==============================] - 2s 35ms/step - loss: 0.2564 - accuracy: 0.9165 - val_loss: 0.6932 - val_accuracy: 0.8200\n",
            "Epoch 91/100\n",
            "63/63 [==============================] - 2s 34ms/step - loss: 0.2328 - accuracy: 0.9215 - val_loss: 1.1049 - val_accuracy: 0.7800\n",
            "Epoch 92/100\n",
            "63/63 [==============================] - 2s 35ms/step - loss: 0.2574 - accuracy: 0.9060 - val_loss: 0.7129 - val_accuracy: 0.8280\n",
            "Epoch 93/100\n",
            "63/63 [==============================] - 2s 35ms/step - loss: 0.2609 - accuracy: 0.9090 - val_loss: 0.7371 - val_accuracy: 0.8080\n",
            "Epoch 94/100\n",
            "63/63 [==============================] - 2s 34ms/step - loss: 0.2595 - accuracy: 0.9110 - val_loss: 0.9258 - val_accuracy: 0.8360\n",
            "Epoch 95/100\n",
            "63/63 [==============================] - 2s 34ms/step - loss: 0.2167 - accuracy: 0.9245 - val_loss: 0.9650 - val_accuracy: 0.8090\n",
            "Epoch 96/100\n",
            "63/63 [==============================] - 2s 35ms/step - loss: 0.2271 - accuracy: 0.9145 - val_loss: 0.9433 - val_accuracy: 0.8190\n",
            "Epoch 97/100\n",
            "63/63 [==============================] - 2s 35ms/step - loss: 0.2668 - accuracy: 0.9080 - val_loss: 0.7922 - val_accuracy: 0.8280\n",
            "Epoch 98/100\n",
            "63/63 [==============================] - 2s 34ms/step - loss: 0.2415 - accuracy: 0.9205 - val_loss: 0.9056 - val_accuracy: 0.8310\n",
            "Epoch 99/100\n",
            "63/63 [==============================] - 2s 34ms/step - loss: 0.2605 - accuracy: 0.9085 - val_loss: 0.7029 - val_accuracy: 0.7950\n",
            "Epoch 100/100\n",
            "63/63 [==============================] - 2s 34ms/step - loss: 0.2501 - accuracy: 0.9165 - val_loss: 0.6793 - val_accuracy: 0.8060\n"
          ]
        }
      ],
      "source": [
        "callbacks = [\n",
        "    keras.callbacks.ModelCheckpoint(\n",
        "        filepath=\"convnet_from_scratch_with_augmentation.keras\",\n",
        "        save_best_only=True,\n",
        "        monitor=\"val_loss\")\n",
        "]\n",
        "history = model.fit(\n",
        "    train_dataset,\n",
        "    epochs=100,\n",
        "    validation_data=validation_dataset,\n",
        "    callbacks=callbacks)"
      ]
    },
    {
      "cell_type": "markdown",
      "metadata": {
        "id": "vhFMmsqpEI4l"
      },
      "source": [
        "**Evaluating the model on the test set**"
      ]
    },
    {
      "cell_type": "code",
      "execution_count": 159,
      "metadata": {
        "colab": {
          "base_uri": "https://localhost:8080/"
        },
        "id": "lHr3rssZEI4l",
        "outputId": "aa96d2c1-9636-43b5-c232-2c2985e20db5"
      },
      "outputs": [
        {
          "output_type": "stream",
          "name": "stdout",
          "text": [
            "63/63 [==============================] - 1s 10ms/step - loss: 0.5276 - accuracy: 0.8040\n",
            "Test accuracy: 0.804\n"
          ]
        }
      ],
      "source": [
        "test_model = keras.models.load_model(\n",
        "    \"convnet_from_scratch_with_augmentation.keras\")\n",
        "test_loss, test_acc = test_model.evaluate(test_dataset)\n",
        "print(f\"Test accuracy: {test_acc:.3f}\")"
      ]
    },
    {
      "cell_type": "markdown",
      "metadata": {
        "id": "O477yb73EI4l"
      },
      "source": [
        "## Leveraging a pretrained model"
      ]
    },
    {
      "cell_type": "markdown",
      "metadata": {
        "id": "wYEw7o4WEI4l"
      },
      "source": [
        "### Feature extraction with a pretrained model"
      ]
    },
    {
      "cell_type": "markdown",
      "metadata": {
        "id": "_OOipWR5EI4l"
      },
      "source": [
        "**Instantiating the VGG16 convolutional base**"
      ]
    },
    {
      "cell_type": "code",
      "execution_count": 160,
      "metadata": {
        "id": "vNZuLahgEI4l"
      },
      "outputs": [],
      "source": [
        "conv_base = keras.applications.vgg16.VGG16(\n",
        "    weights=\"imagenet\",\n",
        "    include_top=False,\n",
        "    input_shape=(180, 180, 3))"
      ]
    },
    {
      "cell_type": "code",
      "execution_count": 161,
      "metadata": {
        "colab": {
          "base_uri": "https://localhost:8080/"
        },
        "id": "yeyjgXLoEI4l",
        "outputId": "6c00a4e1-e07f-4aee-bdc8-e8ff37417649"
      },
      "outputs": [
        {
          "output_type": "stream",
          "name": "stdout",
          "text": [
            "Model: \"vgg16\"\n",
            "_________________________________________________________________\n",
            " Layer (type)                Output Shape              Param #   \n",
            "=================================================================\n",
            " input_28 (InputLayer)       [(None, 180, 180, 3)]     0         \n",
            "                                                                 \n",
            " block1_conv1 (Conv2D)       (None, 180, 180, 64)      1792      \n",
            "                                                                 \n",
            " block1_conv2 (Conv2D)       (None, 180, 180, 64)      36928     \n",
            "                                                                 \n",
            " block1_pool (MaxPooling2D)  (None, 90, 90, 64)        0         \n",
            "                                                                 \n",
            " block2_conv1 (Conv2D)       (None, 90, 90, 128)       73856     \n",
            "                                                                 \n",
            " block2_conv2 (Conv2D)       (None, 90, 90, 128)       147584    \n",
            "                                                                 \n",
            " block2_pool (MaxPooling2D)  (None, 45, 45, 128)       0         \n",
            "                                                                 \n",
            " block3_conv1 (Conv2D)       (None, 45, 45, 256)       295168    \n",
            "                                                                 \n",
            " block3_conv2 (Conv2D)       (None, 45, 45, 256)       590080    \n",
            "                                                                 \n",
            " block3_conv3 (Conv2D)       (None, 45, 45, 256)       590080    \n",
            "                                                                 \n",
            " block3_pool (MaxPooling2D)  (None, 22, 22, 256)       0         \n",
            "                                                                 \n",
            " block4_conv1 (Conv2D)       (None, 22, 22, 512)       1180160   \n",
            "                                                                 \n",
            " block4_conv2 (Conv2D)       (None, 22, 22, 512)       2359808   \n",
            "                                                                 \n",
            " block4_conv3 (Conv2D)       (None, 22, 22, 512)       2359808   \n",
            "                                                                 \n",
            " block4_pool (MaxPooling2D)  (None, 11, 11, 512)       0         \n",
            "                                                                 \n",
            " block5_conv1 (Conv2D)       (None, 11, 11, 512)       2359808   \n",
            "                                                                 \n",
            " block5_conv2 (Conv2D)       (None, 11, 11, 512)       2359808   \n",
            "                                                                 \n",
            " block5_conv3 (Conv2D)       (None, 11, 11, 512)       2359808   \n",
            "                                                                 \n",
            " block5_pool (MaxPooling2D)  (None, 5, 5, 512)         0         \n",
            "                                                                 \n",
            "=================================================================\n",
            "Total params: 14,714,688\n",
            "Trainable params: 14,714,688\n",
            "Non-trainable params: 0\n",
            "_________________________________________________________________\n"
          ]
        }
      ],
      "source": [
        "conv_base.summary()"
      ]
    },
    {
      "cell_type": "markdown",
      "metadata": {
        "id": "TV_PFY3_EI4l"
      },
      "source": [
        "#### Fast feature extraction without data augmentation"
      ]
    },
    {
      "cell_type": "markdown",
      "metadata": {
        "id": "A7TcUiroEI4l"
      },
      "source": [
        "**Extracting the VGG16 features and corresponding labels**"
      ]
    },
    {
      "cell_type": "code",
      "execution_count": 162,
      "metadata": {
        "colab": {
          "base_uri": "https://localhost:8080/"
        },
        "id": "LrZ1PZsWEI4m",
        "outputId": "7452ba57-2b8c-498d-e8bf-dcdbe73ed50c"
      },
      "outputs": [
        {
          "output_type": "stream",
          "name": "stdout",
          "text": [
            "1/1 [==============================] - 0s 125ms/step\n",
            "1/1 [==============================] - 0s 22ms/step\n",
            "1/1 [==============================] - 0s 22ms/step\n",
            "1/1 [==============================] - 0s 22ms/step\n",
            "1/1 [==============================] - 0s 22ms/step\n",
            "1/1 [==============================] - 0s 22ms/step\n",
            "1/1 [==============================] - 0s 22ms/step\n",
            "1/1 [==============================] - 0s 22ms/step\n",
            "1/1 [==============================] - 0s 23ms/step\n",
            "1/1 [==============================] - 0s 23ms/step\n",
            "1/1 [==============================] - 0s 24ms/step\n",
            "1/1 [==============================] - 0s 23ms/step\n",
            "1/1 [==============================] - 0s 22ms/step\n",
            "1/1 [==============================] - 0s 23ms/step\n",
            "1/1 [==============================] - 0s 22ms/step\n",
            "1/1 [==============================] - 0s 22ms/step\n",
            "1/1 [==============================] - 0s 23ms/step\n",
            "1/1 [==============================] - 0s 23ms/step\n",
            "1/1 [==============================] - 0s 22ms/step\n",
            "1/1 [==============================] - 0s 23ms/step\n",
            "1/1 [==============================] - 0s 23ms/step\n",
            "1/1 [==============================] - 0s 22ms/step\n",
            "1/1 [==============================] - 0s 23ms/step\n",
            "1/1 [==============================] - 0s 23ms/step\n",
            "1/1 [==============================] - 0s 22ms/step\n",
            "1/1 [==============================] - 0s 22ms/step\n",
            "1/1 [==============================] - 0s 23ms/step\n",
            "1/1 [==============================] - 0s 23ms/step\n",
            "1/1 [==============================] - 0s 23ms/step\n",
            "1/1 [==============================] - 0s 23ms/step\n",
            "1/1 [==============================] - 0s 22ms/step\n",
            "1/1 [==============================] - 0s 23ms/step\n",
            "1/1 [==============================] - 0s 23ms/step\n",
            "1/1 [==============================] - 0s 22ms/step\n",
            "1/1 [==============================] - 0s 23ms/step\n",
            "1/1 [==============================] - 0s 22ms/step\n",
            "1/1 [==============================] - 0s 22ms/step\n",
            "1/1 [==============================] - 0s 22ms/step\n",
            "1/1 [==============================] - 0s 22ms/step\n",
            "1/1 [==============================] - 0s 22ms/step\n",
            "1/1 [==============================] - 0s 22ms/step\n",
            "1/1 [==============================] - 0s 22ms/step\n",
            "1/1 [==============================] - 0s 22ms/step\n",
            "1/1 [==============================] - 0s 22ms/step\n",
            "1/1 [==============================] - 0s 22ms/step\n",
            "1/1 [==============================] - 0s 23ms/step\n",
            "1/1 [==============================] - 0s 22ms/step\n",
            "1/1 [==============================] - 0s 22ms/step\n",
            "1/1 [==============================] - 0s 22ms/step\n",
            "1/1 [==============================] - 0s 22ms/step\n",
            "1/1 [==============================] - 0s 22ms/step\n",
            "1/1 [==============================] - 0s 23ms/step\n",
            "1/1 [==============================] - 0s 22ms/step\n",
            "1/1 [==============================] - 0s 22ms/step\n",
            "1/1 [==============================] - 0s 22ms/step\n",
            "1/1 [==============================] - 0s 22ms/step\n",
            "1/1 [==============================] - 0s 22ms/step\n",
            "1/1 [==============================] - 0s 22ms/step\n",
            "1/1 [==============================] - 0s 22ms/step\n",
            "1/1 [==============================] - 0s 22ms/step\n",
            "1/1 [==============================] - 0s 22ms/step\n",
            "1/1 [==============================] - 0s 22ms/step\n",
            "1/1 [==============================] - 0s 125ms/step\n",
            "1/1 [==============================] - 0s 22ms/step\n",
            "1/1 [==============================] - 0s 22ms/step\n",
            "1/1 [==============================] - 0s 22ms/step\n",
            "1/1 [==============================] - 0s 22ms/step\n",
            "1/1 [==============================] - 0s 22ms/step\n",
            "1/1 [==============================] - 0s 24ms/step\n",
            "1/1 [==============================] - 0s 23ms/step\n",
            "1/1 [==============================] - 0s 22ms/step\n",
            "1/1 [==============================] - 0s 23ms/step\n",
            "1/1 [==============================] - 0s 23ms/step\n",
            "1/1 [==============================] - 0s 25ms/step\n",
            "1/1 [==============================] - 0s 25ms/step\n",
            "1/1 [==============================] - 0s 23ms/step\n",
            "1/1 [==============================] - 0s 24ms/step\n",
            "1/1 [==============================] - 0s 22ms/step\n",
            "1/1 [==============================] - 0s 22ms/step\n",
            "1/1 [==============================] - 0s 24ms/step\n",
            "1/1 [==============================] - 0s 25ms/step\n",
            "1/1 [==============================] - 0s 25ms/step\n",
            "1/1 [==============================] - 0s 23ms/step\n",
            "1/1 [==============================] - 0s 25ms/step\n",
            "1/1 [==============================] - 0s 24ms/step\n",
            "1/1 [==============================] - 0s 22ms/step\n",
            "1/1 [==============================] - 0s 22ms/step\n",
            "1/1 [==============================] - 0s 22ms/step\n",
            "1/1 [==============================] - 0s 22ms/step\n",
            "1/1 [==============================] - 0s 22ms/step\n",
            "1/1 [==============================] - 0s 21ms/step\n",
            "1/1 [==============================] - 0s 22ms/step\n",
            "1/1 [==============================] - 0s 23ms/step\n",
            "1/1 [==============================] - 0s 22ms/step\n",
            "1/1 [==============================] - 0s 19ms/step\n",
            "1/1 [==============================] - 0s 23ms/step\n",
            "1/1 [==============================] - 0s 22ms/step\n",
            "1/1 [==============================] - 0s 23ms/step\n",
            "1/1 [==============================] - 0s 22ms/step\n",
            "1/1 [==============================] - 0s 22ms/step\n",
            "1/1 [==============================] - 0s 29ms/step\n",
            "1/1 [==============================] - 0s 23ms/step\n",
            "1/1 [==============================] - 0s 23ms/step\n",
            "1/1 [==============================] - 0s 22ms/step\n",
            "1/1 [==============================] - 0s 23ms/step\n",
            "1/1 [==============================] - 0s 23ms/step\n",
            "1/1 [==============================] - 0s 23ms/step\n",
            "1/1 [==============================] - 0s 22ms/step\n",
            "1/1 [==============================] - 0s 24ms/step\n",
            "1/1 [==============================] - 0s 23ms/step\n",
            "1/1 [==============================] - 0s 22ms/step\n",
            "1/1 [==============================] - 0s 23ms/step\n",
            "1/1 [==============================] - 0s 23ms/step\n",
            "1/1 [==============================] - 0s 22ms/step\n",
            "1/1 [==============================] - 0s 23ms/step\n",
            "1/1 [==============================] - 0s 24ms/step\n",
            "1/1 [==============================] - 0s 25ms/step\n",
            "1/1 [==============================] - 0s 23ms/step\n",
            "1/1 [==============================] - 0s 23ms/step\n",
            "1/1 [==============================] - 0s 23ms/step\n",
            "1/1 [==============================] - 0s 23ms/step\n",
            "1/1 [==============================] - 0s 22ms/step\n",
            "1/1 [==============================] - 0s 22ms/step\n",
            "1/1 [==============================] - 0s 23ms/step\n",
            "1/1 [==============================] - 0s 22ms/step\n",
            "1/1 [==============================] - 0s 22ms/step\n",
            "1/1 [==============================] - 0s 22ms/step\n",
            "1/1 [==============================] - 0s 23ms/step\n",
            "1/1 [==============================] - 0s 23ms/step\n",
            "1/1 [==============================] - 0s 24ms/step\n",
            "1/1 [==============================] - 0s 22ms/step\n",
            "1/1 [==============================] - 0s 22ms/step\n",
            "1/1 [==============================] - 0s 22ms/step\n",
            "1/1 [==============================] - 0s 22ms/step\n",
            "1/1 [==============================] - 0s 23ms/step\n",
            "1/1 [==============================] - 0s 23ms/step\n",
            "1/1 [==============================] - 0s 23ms/step\n",
            "1/1 [==============================] - 0s 22ms/step\n",
            "1/1 [==============================] - 0s 22ms/step\n",
            "1/1 [==============================] - 0s 24ms/step\n",
            "1/1 [==============================] - 0s 23ms/step\n",
            "1/1 [==============================] - 0s 23ms/step\n",
            "1/1 [==============================] - 0s 23ms/step\n",
            "1/1 [==============================] - 0s 22ms/step\n",
            "1/1 [==============================] - 0s 22ms/step\n",
            "1/1 [==============================] - 0s 23ms/step\n",
            "1/1 [==============================] - 0s 22ms/step\n",
            "1/1 [==============================] - 0s 24ms/step\n",
            "1/1 [==============================] - 0s 22ms/step\n",
            "1/1 [==============================] - 0s 22ms/step\n",
            "1/1 [==============================] - 0s 21ms/step\n",
            "1/1 [==============================] - 0s 23ms/step\n",
            "1/1 [==============================] - 0s 23ms/step\n",
            "1/1 [==============================] - 0s 23ms/step\n",
            "1/1 [==============================] - 0s 21ms/step\n",
            "1/1 [==============================] - 0s 22ms/step\n",
            "1/1 [==============================] - 0s 23ms/step\n",
            "1/1 [==============================] - 0s 21ms/step\n"
          ]
        }
      ],
      "source": [
        "import numpy as np\n",
        "\n",
        "def get_features_and_labels(dataset):\n",
        "    all_features = []\n",
        "    all_labels = []\n",
        "    for images, labels in dataset:\n",
        "        preprocessed_images = keras.applications.vgg16.preprocess_input(images)\n",
        "        features = conv_base.predict(preprocessed_images)\n",
        "        all_features.append(features)\n",
        "        all_labels.append(labels)\n",
        "    return np.concatenate(all_features), np.concatenate(all_labels)\n",
        "\n",
        "train_features, train_labels =  get_features_and_labels(train_dataset)\n",
        "val_features, val_labels =  get_features_and_labels(validation_dataset)\n",
        "test_features, test_labels =  get_features_and_labels(test_dataset)"
      ]
    },
    {
      "cell_type": "code",
      "execution_count": 163,
      "metadata": {
        "colab": {
          "base_uri": "https://localhost:8080/"
        },
        "id": "NdBT3QBuEI4m",
        "outputId": "86149300-8fa0-4090-8408-ac33499f2ecb"
      },
      "outputs": [
        {
          "output_type": "execute_result",
          "data": {
            "text/plain": [
              "(2000, 5, 5, 512)"
            ]
          },
          "metadata": {},
          "execution_count": 163
        }
      ],
      "source": [
        "train_features.shape"
      ]
    },
    {
      "cell_type": "markdown",
      "metadata": {
        "id": "OaA61lm0EI4m"
      },
      "source": [
        "**Defining and training the densely connected classifier**"
      ]
    },
    {
      "cell_type": "code",
      "execution_count": 164,
      "metadata": {
        "colab": {
          "base_uri": "https://localhost:8080/"
        },
        "id": "cUl_Gq5PEI4m",
        "outputId": "b9c27259-a4fd-42cd-f2cd-bb2dfb1d4454"
      },
      "outputs": [
        {
          "output_type": "stream",
          "name": "stdout",
          "text": [
            "Epoch 1/25\n",
            "63/63 [==============================] - 1s 8ms/step - loss: 7.6101 - accuracy: 0.5010 - val_loss: 7.6246 - val_accuracy: 0.5000\n",
            "Epoch 2/25\n",
            "63/63 [==============================] - 0s 4ms/step - loss: 7.6246 - accuracy: 0.5000 - val_loss: 7.6246 - val_accuracy: 0.5000\n",
            "Epoch 3/25\n",
            "63/63 [==============================] - 0s 4ms/step - loss: 7.6246 - accuracy: 0.5000 - val_loss: 7.6246 - val_accuracy: 0.5000\n",
            "Epoch 4/25\n",
            "63/63 [==============================] - 0s 4ms/step - loss: 7.6246 - accuracy: 0.5000 - val_loss: 7.6246 - val_accuracy: 0.5000\n",
            "Epoch 5/25\n",
            "63/63 [==============================] - 0s 4ms/step - loss: 7.6246 - accuracy: 0.5000 - val_loss: 7.6246 - val_accuracy: 0.5000\n",
            "Epoch 6/25\n",
            "63/63 [==============================] - 0s 5ms/step - loss: 7.6246 - accuracy: 0.5000 - val_loss: 7.6246 - val_accuracy: 0.5000\n",
            "Epoch 7/25\n",
            "63/63 [==============================] - 0s 4ms/step - loss: 7.6246 - accuracy: 0.5000 - val_loss: 7.6246 - val_accuracy: 0.5000\n",
            "Epoch 8/25\n",
            "63/63 [==============================] - 0s 4ms/step - loss: 7.6246 - accuracy: 0.5000 - val_loss: 7.6246 - val_accuracy: 0.5000\n",
            "Epoch 9/25\n",
            "63/63 [==============================] - 0s 4ms/step - loss: 7.6246 - accuracy: 0.5000 - val_loss: 7.6246 - val_accuracy: 0.5000\n",
            "Epoch 10/25\n",
            "63/63 [==============================] - 0s 5ms/step - loss: 7.6246 - accuracy: 0.5000 - val_loss: 7.6246 - val_accuracy: 0.5000\n",
            "Epoch 11/25\n",
            "63/63 [==============================] - 0s 4ms/step - loss: 7.6246 - accuracy: 0.5000 - val_loss: 7.6246 - val_accuracy: 0.5000\n",
            "Epoch 12/25\n",
            "63/63 [==============================] - 0s 5ms/step - loss: 7.6246 - accuracy: 0.5000 - val_loss: 7.6246 - val_accuracy: 0.5000\n",
            "Epoch 13/25\n",
            "63/63 [==============================] - 0s 5ms/step - loss: 7.6246 - accuracy: 0.5000 - val_loss: 7.6246 - val_accuracy: 0.5000\n",
            "Epoch 14/25\n",
            "63/63 [==============================] - 0s 5ms/step - loss: 7.6246 - accuracy: 0.5000 - val_loss: 7.6246 - val_accuracy: 0.5000\n",
            "Epoch 15/25\n",
            "63/63 [==============================] - 0s 5ms/step - loss: 7.6246 - accuracy: 0.5000 - val_loss: 7.6246 - val_accuracy: 0.5000\n",
            "Epoch 16/25\n",
            "63/63 [==============================] - 0s 4ms/step - loss: 7.6246 - accuracy: 0.5000 - val_loss: 7.6246 - val_accuracy: 0.5000\n",
            "Epoch 17/25\n",
            "63/63 [==============================] - 0s 5ms/step - loss: 7.6246 - accuracy: 0.5000 - val_loss: 7.6246 - val_accuracy: 0.5000\n",
            "Epoch 18/25\n",
            "63/63 [==============================] - 0s 4ms/step - loss: 7.6246 - accuracy: 0.5000 - val_loss: 7.6246 - val_accuracy: 0.5000\n",
            "Epoch 19/25\n",
            "63/63 [==============================] - 0s 4ms/step - loss: 7.6246 - accuracy: 0.5000 - val_loss: 7.6246 - val_accuracy: 0.5000\n",
            "Epoch 20/25\n",
            "63/63 [==============================] - 0s 4ms/step - loss: 7.6246 - accuracy: 0.5000 - val_loss: 7.6246 - val_accuracy: 0.5000\n",
            "Epoch 21/25\n",
            "63/63 [==============================] - 0s 4ms/step - loss: 7.6246 - accuracy: 0.5000 - val_loss: 7.6246 - val_accuracy: 0.5000\n",
            "Epoch 22/25\n",
            "63/63 [==============================] - 0s 4ms/step - loss: 7.6246 - accuracy: 0.5000 - val_loss: 7.6246 - val_accuracy: 0.5000\n",
            "Epoch 23/25\n",
            "63/63 [==============================] - 0s 4ms/step - loss: 7.6246 - accuracy: 0.5000 - val_loss: 7.6246 - val_accuracy: 0.5000\n",
            "Epoch 24/25\n",
            "63/63 [==============================] - 0s 4ms/step - loss: 7.6246 - accuracy: 0.5000 - val_loss: 7.6246 - val_accuracy: 0.5000\n",
            "Epoch 25/25\n",
            "63/63 [==============================] - 0s 4ms/step - loss: 7.6246 - accuracy: 0.5000 - val_loss: 7.6246 - val_accuracy: 0.5000\n"
          ]
        }
      ],
      "source": [
        "inputs = keras.Input(shape=(5, 5, 512))\n",
        "x = layers.Flatten()(inputs)\n",
        "x = layers.Dense(256)(x)\n",
        "x = layers.Dropout(0.5)(x)\n",
        "outputs = layers.Dense(1, activation=\"relu\")(x)\n",
        "model = keras.Model(inputs, outputs)\n",
        "model.compile(loss=\"binary_crossentropy\",\n",
        "              optimizer=\"rmsprop\",\n",
        "              metrics=[\"accuracy\"])\n",
        "\n",
        "callbacks = [\n",
        "    keras.callbacks.ModelCheckpoint(\n",
        "      filepath=\"feature_extraction.keras\",\n",
        "      save_best_only=True,\n",
        "      monitor=\"val_loss\")\n",
        "]\n",
        "history = model.fit(\n",
        "    train_features, train_labels,\n",
        "    epochs=25,\n",
        "    validation_data=(val_features, val_labels),\n",
        "    callbacks=callbacks)"
      ]
    },
    {
      "cell_type": "markdown",
      "metadata": {
        "id": "lmClbOByEI4m"
      },
      "source": [
        "**Plotting the results**"
      ]
    },
    {
      "cell_type": "code",
      "execution_count": 165,
      "metadata": {
        "colab": {
          "base_uri": "https://localhost:8080/",
          "height": 545
        },
        "id": "B_eiPRV_EI4m",
        "outputId": "217fdf65-185a-409f-b7fa-4caeefa5f7f3"
      },
      "outputs": [
        {
          "output_type": "display_data",
          "data": {
            "text/plain": [
              "<Figure size 432x288 with 1 Axes>"
            ],
            "image/png": "[encoded data removed]"
          },
          "metadata": {
            "needs_background": "light"
          }
        },
        {
          "output_type": "display_data",
          "data": {
            "text/plain": [
              "<Figure size 432x288 with 1 Axes>"
            ],
            "image/png": "[encoded data removed]"
          },
          "metadata": {
            "needs_background": "light"
          }
        }
      ],
      "source": [
        "import matplotlib.pyplot as plt\n",
        "acc = history.history[\"accuracy\"]\n",
        "val_acc = history.history[\"val_accuracy\"]\n",
        "loss = history.history[\"loss\"]\n",
        "val_loss = history.history[\"val_loss\"]\n",
        "epochs = range(1, len(acc) + 1)\n",
        "plt.plot(epochs, acc, \"bo\", label=\"Training accuracy\")\n",
        "plt.plot(epochs, val_acc, \"b\", label=\"Validation accuracy\")\n",
        "plt.title(\"Training and validation accuracy\")\n",
        "plt.legend()\n",
        "plt.figure()\n",
        "plt.plot(epochs, loss, \"bo\", label=\"Training loss\")\n",
        "plt.plot(epochs, val_loss, \"b\", label=\"Validation loss\")\n",
        "plt.title(\"Training and validation loss\")\n",
        "plt.legend()\n",
        "plt.show()"
      ]
    },
    {
      "cell_type": "markdown",
      "metadata": {
        "id": "JLnJaDVAEI4m"
      },
      "source": [
        "#### Feature extraction together with data augmentation"
      ]
    },
    {
      "cell_type": "markdown",
      "metadata": {
        "id": "mlKv-VK8EI4m"
      },
      "source": [
        "**Instantiating and freezing the VGG16 convolutional base**"
      ]
    },
    {
      "cell_type": "code",
      "execution_count": 166,
      "metadata": {
        "id": "DVJ7VLujEI4m"
      },
      "outputs": [],
      "source": [
        "conv_base  = keras.applications.vgg16.VGG16(\n",
        "    weights=\"imagenet\",\n",
        "    include_top=False)\n",
        "conv_base.trainable = False"
      ]
    },
    {
      "cell_type": "markdown",
      "metadata": {
        "id": "aiaoMbHGEI4m"
      },
      "source": [
        "**Printing the list of trainable weights before and after freezing**"
      ]
    },
    {
      "cell_type": "code",
      "execution_count": 167,
      "metadata": {
        "colab": {
          "base_uri": "https://localhost:8080/"
        },
        "id": "XgZjlLJ7EI4n",
        "outputId": "0672e3c4-6ceb-45ea-d60a-aef7f8799cd6"
      },
      "outputs": [
        {
          "output_type": "stream",
          "name": "stdout",
          "text": [
            "This is the number of trainable weights before freezing the conv base: 26\n"
          ]
        }
      ],
      "source": [
        "conv_base.trainable = True\n",
        "print(\"This is the number of trainable weights \"\n",
        "      \"before freezing the conv base:\", len(conv_base.trainable_weights))"
      ]
    },
    {
      "cell_type": "code",
      "execution_count": 168,
      "metadata": {
        "colab": {
          "base_uri": "https://localhost:8080/"
        },
        "id": "w8Z11UzqEI4n",
        "outputId": "676e328a-f77e-412c-f12d-2ab3974bc58c"
      },
      "outputs": [
        {
          "output_type": "stream",
          "name": "stdout",
          "text": [
            "This is the number of trainable weights after freezing the conv base: 0\n"
          ]
        }
      ],
      "source": [
        "conv_base.trainable = False\n",
        "print(\"This is the number of trainable weights \"\n",
        "      \"after freezing the conv base:\", len(conv_base.trainable_weights))"
      ]
    },
    {
      "cell_type": "markdown",
      "metadata": {
        "id": "D-2C1kQfEI4n"
      },
      "source": [
        "**Adding a data augmentation stage and a classifier to the convolutional base**"
      ]
    },
    {
      "cell_type": "code",
      "execution_count": 169,
      "metadata": {
        "id": "e8jMxbZ0EI4n"
      },
      "outputs": [],
      "source": [
        "data_augmentation = keras.Sequential(\n",
        "    [\n",
        "        layers.RandomFlip(\"horizontal\"),\n",
        "        layers.RandomRotation(0.1),\n",
        "        layers.RandomZoom(0.2),\n",
        "    ]\n",
        ")\n",
        "\n",
        "inputs = keras.Input(shape=(180, 180, 3))\n",
        "x = data_augmentation(inputs)\n",
        "x = keras.applications.vgg16.preprocess_input(x)\n",
        "x = conv_base(x)\n",
        "x = layers.Flatten()(x)\n",
        "x = layers.Dense(256)(x)\n",
        "x = layers.Dropout(0.5)(x)\n",
        "outputs = layers.Dense(1, activation=\"sigmoid\")(x)\n",
        "model = keras.Model(inputs, outputs)\n",
        "model.compile(loss=\"binary_crossentropy\",\n",
        "              optimizer=\"rmsprop\",\n",
        "              metrics=[\"accuracy\"])"
      ]
    },
    {
      "cell_type": "code",
      "execution_count": 170,
      "metadata": {
        "colab": {
          "base_uri": "https://localhost:8080/"
        },
        "id": "d6jG54ouEI4n",
        "outputId": "97936cf4-d194-4dfa-e58b-e71cabc7549c"
      },
      "outputs": [
        {
          "output_type": "stream",
          "name": "stdout",
          "text": [
            "Epoch 1/45\n",
            "63/63 [==============================] - 5s 54ms/step - loss: 17.4035 - accuracy: 0.9015 - val_loss: 2.6451 - val_accuracy: 0.9770\n",
            "Epoch 2/45\n",
            "63/63 [==============================] - 3s 47ms/step - loss: 7.6997 - accuracy: 0.9415 - val_loss: 3.4231 - val_accuracy: 0.9770\n",
            "Epoch 3/45\n",
            "63/63 [==============================] - 3s 48ms/step - loss: 5.7053 - accuracy: 0.9540 - val_loss: 4.4380 - val_accuracy: 0.9710\n",
            "Epoch 4/45\n",
            "63/63 [==============================] - 3s 46ms/step - loss: 5.3392 - accuracy: 0.9620 - val_loss: 2.7574 - val_accuracy: 0.9780\n",
            "Epoch 5/45\n",
            "63/63 [==============================] - 3s 46ms/step - loss: 2.9474 - accuracy: 0.9750 - val_loss: 4.5572 - val_accuracy: 0.9710\n",
            "Epoch 6/45\n",
            "63/63 [==============================] - 3s 46ms/step - loss: 3.5707 - accuracy: 0.9665 - val_loss: 4.0238 - val_accuracy: 0.9720\n",
            "Epoch 7/45\n",
            "63/63 [==============================] - 3s 47ms/step - loss: 2.5206 - accuracy: 0.9710 - val_loss: 4.7459 - val_accuracy: 0.9750\n",
            "Epoch 8/45\n",
            "63/63 [==============================] - 3s 46ms/step - loss: 4.3572 - accuracy: 0.9680 - val_loss: 4.7985 - val_accuracy: 0.9770\n",
            "Epoch 9/45\n",
            "63/63 [==============================] - 3s 46ms/step - loss: 4.1964 - accuracy: 0.9665 - val_loss: 5.0547 - val_accuracy: 0.9740\n",
            "Epoch 10/45\n",
            "63/63 [==============================] - 3s 46ms/step - loss: 2.6289 - accuracy: 0.9770 - val_loss: 4.4273 - val_accuracy: 0.9770\n",
            "Epoch 11/45\n",
            "63/63 [==============================] - 3s 46ms/step - loss: 1.9626 - accuracy: 0.9765 - val_loss: 4.1684 - val_accuracy: 0.9770\n",
            "Epoch 12/45\n",
            "63/63 [==============================] - 3s 46ms/step - loss: 2.5859 - accuracy: 0.9730 - val_loss: 3.6181 - val_accuracy: 0.9820\n",
            "Epoch 13/45\n",
            "63/63 [==============================] - 3s 46ms/step - loss: 2.1766 - accuracy: 0.9825 - val_loss: 3.8942 - val_accuracy: 0.9730\n",
            "Epoch 14/45\n",
            "63/63 [==============================] - 3s 47ms/step - loss: 3.0328 - accuracy: 0.9745 - val_loss: 3.8195 - val_accuracy: 0.9690\n",
            "Epoch 15/45\n",
            "63/63 [==============================] - 3s 47ms/step - loss: 1.8314 - accuracy: 0.9795 - val_loss: 4.3322 - val_accuracy: 0.9790\n",
            "Epoch 16/45\n",
            "63/63 [==============================] - 3s 47ms/step - loss: 1.5736 - accuracy: 0.9845 - val_loss: 4.3328 - val_accuracy: 0.9770\n",
            "Epoch 17/45\n",
            "63/63 [==============================] - 3s 46ms/step - loss: 1.5171 - accuracy: 0.9850 - val_loss: 3.7758 - val_accuracy: 0.9750\n",
            "Epoch 18/45\n",
            "63/63 [==============================] - 3s 47ms/step - loss: 1.8922 - accuracy: 0.9825 - val_loss: 3.8395 - val_accuracy: 0.9800\n",
            "Epoch 19/45\n",
            "63/63 [==============================] - 3s 46ms/step - loss: 1.3844 - accuracy: 0.9825 - val_loss: 3.5103 - val_accuracy: 0.9800\n",
            "Epoch 20/45\n",
            "63/63 [==============================] - 3s 46ms/step - loss: 1.4941 - accuracy: 0.9835 - val_loss: 3.5053 - val_accuracy: 0.9810\n",
            "Epoch 21/45\n",
            "63/63 [==============================] - 3s 46ms/step - loss: 1.2408 - accuracy: 0.9840 - val_loss: 3.3428 - val_accuracy: 0.9800\n",
            "Epoch 22/45\n",
            "63/63 [==============================] - 3s 46ms/step - loss: 0.9455 - accuracy: 0.9850 - val_loss: 3.6972 - val_accuracy: 0.9810\n",
            "Epoch 23/45\n",
            "63/63 [==============================] - 3s 46ms/step - loss: 1.4162 - accuracy: 0.9835 - val_loss: 4.6244 - val_accuracy: 0.9760\n",
            "Epoch 24/45\n",
            "63/63 [==============================] - 3s 46ms/step - loss: 1.2394 - accuracy: 0.9815 - val_loss: 3.9819 - val_accuracy: 0.9770\n",
            "Epoch 25/45\n",
            "63/63 [==============================] - 3s 46ms/step - loss: 0.9335 - accuracy: 0.9845 - val_loss: 3.5888 - val_accuracy: 0.9730\n",
            "Epoch 26/45\n",
            "63/63 [==============================] - 3s 46ms/step - loss: 0.9163 - accuracy: 0.9860 - val_loss: 4.6381 - val_accuracy: 0.9740\n",
            "Epoch 27/45\n",
            "63/63 [==============================] - 3s 46ms/step - loss: 1.3873 - accuracy: 0.9850 - val_loss: 3.0215 - val_accuracy: 0.9770\n",
            "Epoch 28/45\n",
            "63/63 [==============================] - 3s 46ms/step - loss: 1.1190 - accuracy: 0.9880 - val_loss: 2.9179 - val_accuracy: 0.9790\n",
            "Epoch 29/45\n",
            "63/63 [==============================] - 3s 46ms/step - loss: 0.8316 - accuracy: 0.9845 - val_loss: 2.9300 - val_accuracy: 0.9750\n",
            "Epoch 30/45\n",
            "63/63 [==============================] - 3s 46ms/step - loss: 0.8898 - accuracy: 0.9860 - val_loss: 3.4745 - val_accuracy: 0.9700\n",
            "Epoch 31/45\n",
            "63/63 [==============================] - 3s 46ms/step - loss: 0.9519 - accuracy: 0.9875 - val_loss: 2.6831 - val_accuracy: 0.9780\n",
            "Epoch 32/45\n",
            "63/63 [==============================] - 3s 46ms/step - loss: 1.0906 - accuracy: 0.9845 - val_loss: 4.2387 - val_accuracy: 0.9700\n",
            "Epoch 33/45\n",
            "63/63 [==============================] - 3s 48ms/step - loss: 0.8194 - accuracy: 0.9870 - val_loss: 3.1066 - val_accuracy: 0.9780\n",
            "Epoch 34/45\n",
            "63/63 [==============================] - 3s 49ms/step - loss: 0.7359 - accuracy: 0.9875 - val_loss: 2.3286 - val_accuracy: 0.9820\n",
            "Epoch 35/45\n",
            "63/63 [==============================] - 3s 46ms/step - loss: 0.8861 - accuracy: 0.9880 - val_loss: 2.6397 - val_accuracy: 0.9790\n",
            "Epoch 36/45\n",
            "63/63 [==============================] - 3s 46ms/step - loss: 0.7573 - accuracy: 0.9840 - val_loss: 2.9588 - val_accuracy: 0.9760\n",
            "Epoch 37/45\n",
            "63/63 [==============================] - 3s 46ms/step - loss: 0.9460 - accuracy: 0.9850 - val_loss: 2.9490 - val_accuracy: 0.9760\n",
            "Epoch 38/45\n",
            "63/63 [==============================] - 3s 46ms/step - loss: 0.4975 - accuracy: 0.9870 - val_loss: 2.6369 - val_accuracy: 0.9800\n",
            "Epoch 39/45\n",
            "63/63 [==============================] - 3s 46ms/step - loss: 0.6159 - accuracy: 0.9870 - val_loss: 2.9258 - val_accuracy: 0.9790\n",
            "Epoch 40/45\n",
            "63/63 [==============================] - 3s 46ms/step - loss: 0.4983 - accuracy: 0.9910 - val_loss: 2.8112 - val_accuracy: 0.9810\n",
            "Epoch 41/45\n",
            "63/63 [==============================] - 3s 46ms/step - loss: 1.0173 - accuracy: 0.9800 - val_loss: 2.5839 - val_accuracy: 0.9780\n",
            "Epoch 42/45\n",
            "63/63 [==============================] - 3s 46ms/step - loss: 1.1518 - accuracy: 0.9840 - val_loss: 2.3928 - val_accuracy: 0.9780\n",
            "Epoch 43/45\n",
            "63/63 [==============================] - 3s 46ms/step - loss: 0.4989 - accuracy: 0.9920 - val_loss: 2.8027 - val_accuracy: 0.9760\n",
            "Epoch 44/45\n",
            "63/63 [==============================] - 3s 46ms/step - loss: 0.5830 - accuracy: 0.9885 - val_loss: 2.5753 - val_accuracy: 0.9750\n",
            "Epoch 45/45\n",
            "63/63 [==============================] - 3s 49ms/step - loss: 1.0436 - accuracy: 0.9855 - val_loss: 2.2656 - val_accuracy: 0.9760\n"
          ]
        }
      ],
      "source": [
        "callbacks = [\n",
        "    keras.callbacks.ModelCheckpoint(\n",
        "        filepath=\"feature_extraction_with_data_augmentation.keras\",\n",
        "        save_best_only=True,\n",
        "        monitor=\"val_loss\")\n",
        "]\n",
        "history = model.fit(\n",
        "    train_dataset,\n",
        "    epochs=45,\n",
        "    validation_data=validation_dataset,\n",
        "    callbacks=callbacks)"
      ]
    },
    {
      "cell_type": "markdown",
      "metadata": {
        "id": "0Kul7fvZEI4n"
      },
      "source": [
        "**Evaluating the model on the test set**"
      ]
    },
    {
      "cell_type": "code",
      "execution_count": 171,
      "metadata": {
        "colab": {
          "base_uri": "https://localhost:8080/"
        },
        "id": "eGdCtoUjEI4n",
        "outputId": "8c9997b8-ed59-4038-ba64-74703a20a0fc"
      },
      "outputs": [
        {
          "output_type": "stream",
          "name": "stdout",
          "text": [
            "63/63 [==============================] - 2s 21ms/step - loss: 2.9434 - accuracy: 0.9725\n",
            "Test accuracy: 0.973\n"
          ]
        }
      ],
      "source": [
        "test_model = keras.models.load_model(\n",
        "    \"feature_extraction_with_data_augmentation.keras\")\n",
        "test_loss, test_acc = test_model.evaluate(test_dataset)\n",
        "print(f\"Test accuracy: {test_acc:.3f}\")"
      ]
    },
    {
      "cell_type": "markdown",
      "metadata": {
        "id": "NfKzB7SlEI4o"
      },
      "source": [
        "### Fine-tuning a pretrained model"
      ]
    },
    {
      "cell_type": "code",
      "execution_count": 172,
      "metadata": {
        "colab": {
          "base_uri": "https://localhost:8080/"
        },
        "id": "0szo7Z5ZEI4o",
        "outputId": "94eab96f-2d38-476b-8937-6a1068470719"
      },
      "outputs": [
        {
          "output_type": "stream",
          "name": "stdout",
          "text": [
            "Model: \"vgg16\"\n",
            "_________________________________________________________________\n",
            " Layer (type)                Output Shape              Param #   \n",
            "=================================================================\n",
            " input_30 (InputLayer)       [(None, None, None, 3)]   0         \n",
            "                                                                 \n",
            " block1_conv1 (Conv2D)       (None, None, None, 64)    1792      \n",
            "                                                                 \n",
            " block1_conv2 (Conv2D)       (None, None, None, 64)    36928     \n",
            "                                                                 \n",
            " block1_pool (MaxPooling2D)  (None, None, None, 64)    0         \n",
            "                                                                 \n",
            " block2_conv1 (Conv2D)       (None, None, None, 128)   73856     \n",
            "                                                                 \n",
            " block2_conv2 (Conv2D)       (None, None, None, 128)   147584    \n",
            "                                                                 \n",
            " block2_pool (MaxPooling2D)  (None, None, None, 128)   0         \n",
            "                                                                 \n",
            " block3_conv1 (Conv2D)       (None, None, None, 256)   295168    \n",
            "                                                                 \n",
            " block3_conv2 (Conv2D)       (None, None, None, 256)   590080    \n",
            "                                                                 \n",
            " block3_conv3 (Conv2D)       (None, None, None, 256)   590080    \n",
            "                                                                 \n",
            " block3_pool (MaxPooling2D)  (None, None, None, 256)   0         \n",
            "                                                                 \n",
            " block4_conv1 (Conv2D)       (None, None, None, 512)   1180160   \n",
            "                                                                 \n",
            " block4_conv2 (Conv2D)       (None, None, None, 512)   2359808   \n",
            "                                                                 \n",
            " block4_conv3 (Conv2D)       (None, None, None, 512)   2359808   \n",
            "                                                                 \n",
            " block4_pool (MaxPooling2D)  (None, None, None, 512)   0         \n",
            "                                                                 \n",
            " block5_conv1 (Conv2D)       (None, None, None, 512)   2359808   \n",
            "                                                                 \n",
            " block5_conv2 (Conv2D)       (None, None, None, 512)   2359808   \n",
            "                                                                 \n",
            " block5_conv3 (Conv2D)       (None, None, None, 512)   2359808   \n",
            "                                                                 \n",
            " block5_pool (MaxPooling2D)  (None, None, None, 512)   0         \n",
            "                                                                 \n",
            "=================================================================\n",
            "Total params: 14,714,688\n",
            "Trainable params: 0\n",
            "Non-trainable params: 14,714,688\n",
            "_________________________________________________________________\n"
          ]
        }
      ],
      "source": [
        "conv_base.summary()"
      ]
    },
    {
      "cell_type": "markdown",
      "metadata": {
        "id": "61MKYjL7EI4o"
      },
      "source": [
        "**Freezing all layers until the fourth from the last**"
      ]
    },
    {
      "cell_type": "code",
      "execution_count": 173,
      "metadata": {
        "id": "URh6xMYnEI4o"
      },
      "outputs": [],
      "source": [
        "conv_base.trainable = True\n",
        "for layer in conv_base.layers[:-4]:\n",
        "    layer.trainable = False"
      ]
    },
    {
      "cell_type": "markdown",
      "metadata": {
        "id": "kjelWYi0EI4o"
      },
      "source": [
        "**Fine-tuning the model**"
      ]
    },
    {
      "cell_type": "code",
      "execution_count": 174,
      "metadata": {
        "colab": {
          "base_uri": "https://localhost:8080/"
        },
        "id": "yBdjSbmFEI4o",
        "outputId": "86e4216d-9879-410e-db9b-375b908682e8"
      },
      "outputs": [
        {
          "output_type": "stream",
          "name": "stdout",
          "text": [
            "Epoch 1/35\n",
            "63/63 [==============================] - 5s 56ms/step - loss: 0.3460 - accuracy: 0.9915 - val_loss: 2.8695 - val_accuracy: 0.9740\n",
            "Epoch 2/35\n",
            "63/63 [==============================] - 3s 52ms/step - loss: 0.4420 - accuracy: 0.9890 - val_loss: 2.4991 - val_accuracy: 0.9780\n",
            "Epoch 3/35\n",
            "63/63 [==============================] - 3s 52ms/step - loss: 0.2877 - accuracy: 0.9920 - val_loss: 2.4362 - val_accuracy: 0.9750\n",
            "Epoch 4/35\n",
            "63/63 [==============================] - 3s 52ms/step - loss: 0.6582 - accuracy: 0.9870 - val_loss: 2.0610 - val_accuracy: 0.9790\n",
            "Epoch 5/35\n",
            "63/63 [==============================] - 3s 49ms/step - loss: 0.2642 - accuracy: 0.9920 - val_loss: 2.3223 - val_accuracy: 0.9760\n",
            "Epoch 6/35\n",
            "63/63 [==============================] - 3s 48ms/step - loss: 0.2259 - accuracy: 0.9930 - val_loss: 2.3541 - val_accuracy: 0.9750\n",
            "Epoch 7/35\n",
            "63/63 [==============================] - 3s 53ms/step - loss: 0.3807 - accuracy: 0.9915 - val_loss: 1.8925 - val_accuracy: 0.9790\n",
            "Epoch 8/35\n",
            "63/63 [==============================] - 3s 48ms/step - loss: 0.2387 - accuracy: 0.9930 - val_loss: 1.8947 - val_accuracy: 0.9820\n",
            "Epoch 9/35\n",
            "63/63 [==============================] - 3s 48ms/step - loss: 0.2659 - accuracy: 0.9945 - val_loss: 2.4306 - val_accuracy: 0.9750\n",
            "Epoch 10/35\n",
            "63/63 [==============================] - 3s 49ms/step - loss: 0.3163 - accuracy: 0.9935 - val_loss: 2.5055 - val_accuracy: 0.9740\n",
            "Epoch 11/35\n",
            "63/63 [==============================] - 3s 48ms/step - loss: 0.2104 - accuracy: 0.9940 - val_loss: 3.6632 - val_accuracy: 0.9680\n",
            "Epoch 12/35\n",
            "63/63 [==============================] - 3s 48ms/step - loss: 0.2616 - accuracy: 0.9935 - val_loss: 2.1547 - val_accuracy: 0.9740\n",
            "Epoch 13/35\n",
            "63/63 [==============================] - 3s 48ms/step - loss: 0.3729 - accuracy: 0.9930 - val_loss: 2.1529 - val_accuracy: 0.9750\n",
            "Epoch 14/35\n",
            "63/63 [==============================] - 3s 49ms/step - loss: 0.2989 - accuracy: 0.9930 - val_loss: 2.1295 - val_accuracy: 0.9770\n",
            "Epoch 15/35\n",
            "63/63 [==============================] - 3s 48ms/step - loss: 0.2190 - accuracy: 0.9945 - val_loss: 2.3109 - val_accuracy: 0.9740\n",
            "Epoch 16/35\n",
            "63/63 [==============================] - 3s 48ms/step - loss: 0.1174 - accuracy: 0.9945 - val_loss: 2.3845 - val_accuracy: 0.9780\n",
            "Epoch 17/35\n",
            "63/63 [==============================] - 3s 48ms/step - loss: 0.1956 - accuracy: 0.9930 - val_loss: 2.5385 - val_accuracy: 0.9760\n",
            "Epoch 18/35\n",
            "63/63 [==============================] - 3s 48ms/step - loss: 0.1451 - accuracy: 0.9960 - val_loss: 2.4582 - val_accuracy: 0.9740\n",
            "Epoch 19/35\n",
            "63/63 [==============================] - 3s 48ms/step - loss: 0.0689 - accuracy: 0.9945 - val_loss: 2.2239 - val_accuracy: 0.9760\n",
            "Epoch 20/35\n",
            "63/63 [==============================] - 3s 48ms/step - loss: 0.1509 - accuracy: 0.9940 - val_loss: 1.9214 - val_accuracy: 0.9790\n",
            "Epoch 21/35\n",
            "63/63 [==============================] - 3s 48ms/step - loss: 0.2080 - accuracy: 0.9960 - val_loss: 2.3485 - val_accuracy: 0.9760\n",
            "Epoch 22/35\n",
            "63/63 [==============================] - 3s 48ms/step - loss: 0.1059 - accuracy: 0.9960 - val_loss: 2.1673 - val_accuracy: 0.9760\n",
            "Epoch 23/35\n",
            "63/63 [==============================] - 3s 48ms/step - loss: 0.1371 - accuracy: 0.9955 - val_loss: 2.3352 - val_accuracy: 0.9770\n",
            "Epoch 24/35\n",
            "63/63 [==============================] - 3s 49ms/step - loss: 0.1214 - accuracy: 0.9960 - val_loss: 2.5185 - val_accuracy: 0.9790\n",
            "Epoch 25/35\n",
            "63/63 [==============================] - 3s 48ms/step - loss: 0.1596 - accuracy: 0.9965 - val_loss: 1.9982 - val_accuracy: 0.9750\n",
            "Epoch 26/35\n",
            "63/63 [==============================] - 3s 48ms/step - loss: 0.0295 - accuracy: 0.9985 - val_loss: 2.0251 - val_accuracy: 0.9780\n",
            "Epoch 27/35\n",
            "63/63 [==============================] - 3s 48ms/step - loss: 0.1086 - accuracy: 0.9980 - val_loss: 2.8300 - val_accuracy: 0.9730\n",
            "Epoch 28/35\n",
            "63/63 [==============================] - 3s 48ms/step - loss: 0.1791 - accuracy: 0.9960 - val_loss: 2.0599 - val_accuracy: 0.9810\n",
            "Epoch 29/35\n",
            "63/63 [==============================] - 3s 52ms/step - loss: 0.1792 - accuracy: 0.9950 - val_loss: 1.6566 - val_accuracy: 0.9770\n",
            "Epoch 30/35\n",
            "63/63 [==============================] - 3s 48ms/step - loss: 0.1330 - accuracy: 0.9970 - val_loss: 2.5758 - val_accuracy: 0.9730\n",
            "Epoch 31/35\n",
            "63/63 [==============================] - 3s 48ms/step - loss: 0.1531 - accuracy: 0.9945 - val_loss: 1.9056 - val_accuracy: 0.9780\n",
            "Epoch 32/35\n",
            "63/63 [==============================] - 3s 48ms/step - loss: 0.1706 - accuracy: 0.9940 - val_loss: 2.0391 - val_accuracy: 0.9800\n",
            "Epoch 33/35\n",
            "63/63 [==============================] - 3s 48ms/step - loss: 0.0425 - accuracy: 0.9985 - val_loss: 2.0605 - val_accuracy: 0.9790\n",
            "Epoch 34/35\n",
            "63/63 [==============================] - 3s 48ms/step - loss: 0.0471 - accuracy: 0.9970 - val_loss: 2.6395 - val_accuracy: 0.9740\n",
            "Epoch 35/35\n",
            "63/63 [==============================] - 3s 48ms/step - loss: 0.1617 - accuracy: 0.9965 - val_loss: 1.8949 - val_accuracy: 0.9780\n"
          ]
        }
      ],
      "source": [
        "model.compile(loss=\"binary_crossentropy\",\n",
        "              optimizer=keras.optimizers.RMSprop(learning_rate=1e-5),\n",
        "              metrics=[\"accuracy\"])\n",
        "\n",
        "callbacks = [\n",
        "    keras.callbacks.ModelCheckpoint(\n",
        "        filepath=\"fine_tuning.keras\",\n",
        "        save_best_only=True,\n",
        "        monitor=\"val_loss\")\n",
        "]\n",
        "history = model.fit(\n",
        "    train_dataset,\n",
        "    epochs=35,\n",
        "    validation_data=validation_dataset,\n",
        "    callbacks=callbacks)"
      ]
    },
    {
      "cell_type": "code",
      "execution_count": 175,
      "metadata": {
        "colab": {
          "base_uri": "https://localhost:8080/"
        },
        "id": "Fzpj3KINEI4o",
        "outputId": "f9be608a-eb41-467d-fba4-7255461d70f0"
      },
      "outputs": [
        {
          "output_type": "stream",
          "name": "stdout",
          "text": [
            "63/63 [==============================] - 2s 20ms/step - loss: 1.9975 - accuracy: 0.9775\n",
            "Test accuracy: 0.978\n"
          ]
        }
      ],
      "source": [
        "model = keras.models.load_model(\"fine_tuning.keras\")\n",
        "test_loss, test_acc = model.evaluate(test_dataset)\n",
        "print(f\"Test accuracy: {test_acc:.3f}\")"
      ]
    },
    {
      "cell_type": "markdown",
      "metadata": {
        "id": "6A4NUvciEI4o"
      },
      "source": [
        "## Summary"
      ]
    }
  ],
  "metadata": {
    "colab": {
      "collapsed_sections": [],
      "name": "chapter08_intro-to-dl-for-computer-vision.i",
      "provenance": [],
      "toc_visible": true,
      "machine_shape": "hm"
    },
    "kernelspec": {
      "display_name": "Python 3",
      "language": "python",
      "name": "python3"
    },
    "language_info": {
      "codemirror_mode": {
        "name": "ipython",
        "version": 3
      },
      "file_extension": ".py",
      "mimetype": "text/x-python",
      "name": "python",
      "nbconvert_exporter": "python",
      "pygments_lexer": "ipython3",
      "version": "3.7.0"
    },
    "accelerator": "GPU",
    "gpuClass": "premium"
  },
  "nbformat": 4,
  "nbformat_minor": 0
}